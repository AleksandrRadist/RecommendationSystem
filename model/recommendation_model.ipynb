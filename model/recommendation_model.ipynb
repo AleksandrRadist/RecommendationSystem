{
 "cells": [
  {
   "cell_type": "code",
   "execution_count": 1,
   "metadata": {},
   "outputs": [],
   "source": [
    "import pandas as pd\n",
    "import matplotlib.pyplot as plt\n",
    "import seaborn as sns\n",
    "import numpy as np\n",
    "from tqdm import tqdm_notebook\n",
    "from scipy.linalg import svd\n",
    "import catboost\n",
    "\n",
    "%matplotlib inline"
   ]
  },
  {
   "cell_type": "markdown",
   "metadata": {},
   "source": [
    "## Понимание данных"
   ]
  },
  {
   "cell_type": "code",
   "execution_count": 2,
   "metadata": {},
   "outputs": [],
   "source": [
    "path_transactions = r\"C:\\Users\\kiril\\OneDrive\\Рабочий стол\\Вышка\\КР-ВКР\\Курсовая\\3 курс\\RecommendationSystem\\model\\data\\transactions.csv\"\n",
    "path_clients = r\"C:\\Users\\kiril\\OneDrive\\Рабочий стол\\Вышка\\КР-ВКР\\Курсовая\\3 курс\\RecommendationSystem\\model\\data\\clients.csv\"\n",
    "path_categories = r\"C:\\Users\\kiril\\OneDrive\\Рабочий стол\\Вышка\\КР-ВКР\\Курсовая\\3 курс\\RecommendationSystem\\model\\data\\categories.csv\""
   ]
  },
  {
   "cell_type": "markdown",
   "metadata": {},
   "source": [
    "### clients"
   ]
  },
  {
   "cell_type": "code",
   "execution_count": 3,
   "metadata": {},
   "outputs": [
    {
     "data": {
      "text/html": [
       "<div>\n",
       "<style scoped>\n",
       "    .dataframe tbody tr th:only-of-type {\n",
       "        vertical-align: middle;\n",
       "    }\n",
       "\n",
       "    .dataframe tbody tr th {\n",
       "        vertical-align: top;\n",
       "    }\n",
       "\n",
       "    .dataframe thead th {\n",
       "        text-align: right;\n",
       "    }\n",
       "</style>\n",
       "<table border=\"1\" class=\"dataframe\">\n",
       "  <thead>\n",
       "    <tr style=\"text-align: right;\">\n",
       "      <th></th>\n",
       "      <th>id</th>\n",
       "      <th>fullname</th>\n",
       "      <th>address</th>\n",
       "      <th>phone_number</th>\n",
       "      <th>email</th>\n",
       "      <th>workplace</th>\n",
       "      <th>birthdate</th>\n",
       "      <th>registration_date</th>\n",
       "      <th>gender</th>\n",
       "      <th>income</th>\n",
       "      <th>expenses</th>\n",
       "      <th>credit</th>\n",
       "      <th>deposit</th>\n",
       "    </tr>\n",
       "  </thead>\n",
       "  <tbody>\n",
       "    <tr>\n",
       "      <td>0</td>\n",
       "      <td>1</td>\n",
       "      <td>Волкова Фаина Афанасьевна</td>\n",
       "      <td>с. Новосибирск, наб. Привокзальная, д. 58 к. 5...</td>\n",
       "      <td>8 (475) 014-6494</td>\n",
       "      <td>wkirillov@rambler.ru</td>\n",
       "      <td>ст. Кировск (Мурм.), ш. Коммуны, д. 238 стр. 3...</td>\n",
       "      <td>1966-09-07</td>\n",
       "      <td>2017-01-10</td>\n",
       "      <td>F</td>\n",
       "      <td>230910.0</td>\n",
       "      <td>61975</td>\n",
       "      <td>1.0</td>\n",
       "      <td>NaN</td>\n",
       "    </tr>\n",
       "    <tr>\n",
       "      <td>1</td>\n",
       "      <td>2</td>\n",
       "      <td>Пелагея Вячеславовна Галкина</td>\n",
       "      <td>клх Белокуриха, ш. Комсомольское, д. 701 стр. ...</td>\n",
       "      <td>+7 (981) 576-1146</td>\n",
       "      <td>bogdanovmoke@rambler.ru</td>\n",
       "      <td>г. Елабуга, бул. 60 лет Октября, д. 5, 070955</td>\n",
       "      <td>1987-05-23</td>\n",
       "      <td>2016-07-14</td>\n",
       "      <td>F</td>\n",
       "      <td>NaN</td>\n",
       "      <td>75232</td>\n",
       "      <td>NaN</td>\n",
       "      <td>NaN</td>\n",
       "    </tr>\n",
       "    <tr>\n",
       "      <td>2</td>\n",
       "      <td>3</td>\n",
       "      <td>Валентина Игоревна Фомина</td>\n",
       "      <td>к. Усть-Катав, бул. Восточный, д. 292 стр. 3, ...</td>\n",
       "      <td>+7 (920) 068-58-36</td>\n",
       "      <td>mjasnikovvalentin@mail.ru</td>\n",
       "      <td>г. Сосновый Бор, алл. Лесхозная, д. 146, 139446</td>\n",
       "      <td>1974-06-15</td>\n",
       "      <td>2017-10-18</td>\n",
       "      <td>F</td>\n",
       "      <td>NaN</td>\n",
       "      <td>88813</td>\n",
       "      <td>NaN</td>\n",
       "      <td>NaN</td>\n",
       "    </tr>\n",
       "    <tr>\n",
       "      <td>3</td>\n",
       "      <td>4</td>\n",
       "      <td>тов. Воронцова Фёкла Федоровна</td>\n",
       "      <td>клх Новая Игирма, алл. Пограничная, д. 6/6, 73...</td>\n",
       "      <td>8 334 398 3828</td>\n",
       "      <td>martin85@rambler.ru</td>\n",
       "      <td>клх Котельнич, бул. Серафимовича, д. 97, 753076</td>\n",
       "      <td>1979-10-19</td>\n",
       "      <td>2012-08-25</td>\n",
       "      <td>F</td>\n",
       "      <td>NaN</td>\n",
       "      <td>55167</td>\n",
       "      <td>NaN</td>\n",
       "      <td>NaN</td>\n",
       "    </tr>\n",
       "    <tr>\n",
       "      <td>4</td>\n",
       "      <td>5</td>\n",
       "      <td>Филипп Дмитриевич Воронцов</td>\n",
       "      <td>к. Ребриха, пр. Свободы, д. 54, 466509</td>\n",
       "      <td>8 (296) 455-0453</td>\n",
       "      <td>jan_07@rambler.ru</td>\n",
       "      <td>клх Карабудахкент, ул. Абрикосовая, д. 3 к. 19...</td>\n",
       "      <td>1986-08-14</td>\n",
       "      <td>2017-03-15</td>\n",
       "      <td>M</td>\n",
       "      <td>NaN</td>\n",
       "      <td>85106</td>\n",
       "      <td>NaN</td>\n",
       "      <td>NaN</td>\n",
       "    </tr>\n",
       "  </tbody>\n",
       "</table>\n",
       "</div>"
      ],
      "text/plain": [
       "   id                        fullname  \\\n",
       "0   1       Волкова Фаина Афанасьевна   \n",
       "1   2    Пелагея Вячеславовна Галкина   \n",
       "2   3       Валентина Игоревна Фомина   \n",
       "3   4  тов. Воронцова Фёкла Федоровна   \n",
       "4   5      Филипп Дмитриевич Воронцов   \n",
       "\n",
       "                                             address        phone_number  \\\n",
       "0  с. Новосибирск, наб. Привокзальная, д. 58 к. 5...    8 (475) 014-6494   \n",
       "1  клх Белокуриха, ш. Комсомольское, д. 701 стр. ...   +7 (981) 576-1146   \n",
       "2  к. Усть-Катав, бул. Восточный, д. 292 стр. 3, ...  +7 (920) 068-58-36   \n",
       "3  клх Новая Игирма, алл. Пограничная, д. 6/6, 73...      8 334 398 3828   \n",
       "4             к. Ребриха, пр. Свободы, д. 54, 466509    8 (296) 455-0453   \n",
       "\n",
       "                       email  \\\n",
       "0       wkirillov@rambler.ru   \n",
       "1    bogdanovmoke@rambler.ru   \n",
       "2  mjasnikovvalentin@mail.ru   \n",
       "3        martin85@rambler.ru   \n",
       "4          jan_07@rambler.ru   \n",
       "\n",
       "                                           workplace   birthdate  \\\n",
       "0  ст. Кировск (Мурм.), ш. Коммуны, д. 238 стр. 3...  1966-09-07   \n",
       "1      г. Елабуга, бул. 60 лет Октября, д. 5, 070955  1987-05-23   \n",
       "2    г. Сосновый Бор, алл. Лесхозная, д. 146, 139446  1974-06-15   \n",
       "3    клх Котельнич, бул. Серафимовича, д. 97, 753076  1979-10-19   \n",
       "4  клх Карабудахкент, ул. Абрикосовая, д. 3 к. 19...  1986-08-14   \n",
       "\n",
       "  registration_date gender    income  expenses  credit  deposit  \n",
       "0        2017-01-10      F  230910.0     61975     1.0      NaN  \n",
       "1        2016-07-14      F       NaN     75232     NaN      NaN  \n",
       "2        2017-10-18      F       NaN     88813     NaN      NaN  \n",
       "3        2012-08-25      F       NaN     55167     NaN      NaN  \n",
       "4        2017-03-15      M       NaN     85106     NaN      NaN  "
      ]
     },
     "execution_count": 3,
     "metadata": {},
     "output_type": "execute_result"
    }
   ],
   "source": [
    "clients = pd.read_csv(path_clients)\n",
    "clients.head()"
   ]
  },
  {
   "cell_type": "code",
   "execution_count": 4,
   "metadata": {},
   "outputs": [
    {
     "name": "stdout",
     "output_type": "stream",
     "text": [
      "<class 'pandas.core.frame.DataFrame'>\n",
      "RangeIndex: 1000 entries, 0 to 999\n",
      "Data columns (total 13 columns):\n",
      "id                   1000 non-null int64\n",
      "fullname             1000 non-null object\n",
      "address              1000 non-null object\n",
      "phone_number         1000 non-null object\n",
      "email                1000 non-null object\n",
      "workplace            1000 non-null object\n",
      "birthdate            1000 non-null object\n",
      "registration_date    1000 non-null object\n",
      "gender               1000 non-null object\n",
      "income               364 non-null float64\n",
      "expenses             1000 non-null int64\n",
      "credit               364 non-null float64\n",
      "deposit              376 non-null float64\n",
      "dtypes: float64(3), int64(2), object(8)\n",
      "memory usage: 101.7+ KB\n"
     ]
    }
   ],
   "source": [
    "clients.info()"
   ]
  },
  {
   "cell_type": "code",
   "execution_count": 5,
   "metadata": {},
   "outputs": [],
   "source": [
    "clients.id = clients.id.astype('str')"
   ]
  },
  {
   "cell_type": "markdown",
   "metadata": {},
   "source": [
    "#### income"
   ]
  },
  {
   "cell_type": "markdown",
   "metadata": {},
   "source": [
    "Заполним пропуски в данном столбце средним значением для тех клиентов, у которых не удалось определить значение среднего месячного дохода за последний год."
   ]
  },
  {
   "cell_type": "code",
   "execution_count": 6,
   "metadata": {},
   "outputs": [],
   "source": [
    "mean = clients.loc[clients['income'].isnull() != True, 'income'].mean()\n",
    "clients.loc[clients['income'].isnull() == True, 'income'] = mean"
   ]
  },
  {
   "cell_type": "code",
   "execution_count": 7,
   "metadata": {},
   "outputs": [
    {
     "data": {
      "image/png": "[encoded data removed]",
      "text/plain": [
       "<Figure size 432x288 with 1 Axes>"
      ]
     },
     "metadata": {
      "needs_background": "light"
     },
     "output_type": "display_data"
    }
   ],
   "source": [
    "sns.distplot(clients.query('income != @mean')['income']); # уберем пользователей, у которых изначально отсутствовало значение income"
   ]
  },
  {
   "cell_type": "markdown",
   "metadata": {},
   "source": [
    "#### credit"
   ]
  },
  {
   "cell_type": "markdown",
   "metadata": {},
   "source": [
    "Заполним пропуски в данном столбце 0, что говорит о том, что клиент не брал кредит в банке."
   ]
  },
  {
   "cell_type": "code",
   "execution_count": 8,
   "metadata": {},
   "outputs": [],
   "source": [
    "clients.loc[clients['credit'].isnull() == True, 'credit'] = 0\n",
    "clients.credit = clients.credit.astype('int')"
   ]
  },
  {
   "cell_type": "code",
   "execution_count": 9,
   "metadata": {},
   "outputs": [
    {
     "data": {
      "image/png": "[encoded data removed]",
      "text/plain": [
       "<Figure size 432x288 with 1 Axes>"
      ]
     },
     "metadata": {
      "needs_background": "light"
     },
     "output_type": "display_data"
    }
   ],
   "source": [
    "sns.barplot(x=clients.credit.value_counts().index, y=clients.credit.value_counts());"
   ]
  },
  {
   "cell_type": "markdown",
   "metadata": {},
   "source": [
    "#### deposit"
   ]
  },
  {
   "cell_type": "markdown",
   "metadata": {},
   "source": [
    "Заполним пропуски в данном столбце 0, что говорит о том, что клиент не брал депозит в банке."
   ]
  },
  {
   "cell_type": "code",
   "execution_count": 10,
   "metadata": {},
   "outputs": [],
   "source": [
    "clients.loc[clients['deposit'].isnull() == True, 'deposit'] = 0\n",
    "clients.deposit = clients.deposit.astype('int')"
   ]
  },
  {
   "cell_type": "code",
   "execution_count": 11,
   "metadata": {},
   "outputs": [
    {
     "name": "stdout",
     "output_type": "stream",
     "text": [
      "<class 'pandas.core.frame.DataFrame'>\n",
      "RangeIndex: 1000 entries, 0 to 999\n",
      "Data columns (total 13 columns):\n",
      "id                   1000 non-null object\n",
      "fullname             1000 non-null object\n",
      "address              1000 non-null object\n",
      "phone_number         1000 non-null object\n",
      "email                1000 non-null object\n",
      "workplace            1000 non-null object\n",
      "birthdate            1000 non-null object\n",
      "registration_date    1000 non-null object\n",
      "gender               1000 non-null object\n",
      "income               1000 non-null float64\n",
      "expenses             1000 non-null int64\n",
      "credit               1000 non-null int32\n",
      "deposit              1000 non-null int32\n",
      "dtypes: float64(1), int32(2), int64(1), object(9)\n",
      "memory usage: 93.9+ KB\n"
     ]
    }
   ],
   "source": [
    "clients.info()"
   ]
  },
  {
   "cell_type": "code",
   "execution_count": 12,
   "metadata": {},
   "outputs": [
    {
     "data": {
      "image/png": "[encoded data removed]",
      "text/plain": [
       "<Figure size 432x288 with 1 Axes>"
      ]
     },
     "metadata": {
      "needs_background": "light"
     },
     "output_type": "display_data"
    }
   ],
   "source": [
    "sns.barplot(x=clients.deposit.value_counts().index, y=clients.deposit.value_counts());"
   ]
  },
  {
   "cell_type": "markdown",
   "metadata": {},
   "source": [
    "### categories"
   ]
  },
  {
   "cell_type": "code",
   "execution_count": 13,
   "metadata": {},
   "outputs": [
    {
     "data": {
      "text/html": [
       "<div>\n",
       "<style scoped>\n",
       "    .dataframe tbody tr th:only-of-type {\n",
       "        vertical-align: middle;\n",
       "    }\n",
       "\n",
       "    .dataframe tbody tr th {\n",
       "        vertical-align: top;\n",
       "    }\n",
       "\n",
       "    .dataframe thead th {\n",
       "        text-align: right;\n",
       "    }\n",
       "</style>\n",
       "<table border=\"1\" class=\"dataframe\">\n",
       "  <thead>\n",
       "    <tr style=\"text-align: right;\">\n",
       "      <th></th>\n",
       "      <th>id</th>\n",
       "      <th>name</th>\n",
       "      <th>description</th>\n",
       "      <th>mcc-code</th>\n",
       "    </tr>\n",
       "  </thead>\n",
       "  <tbody>\n",
       "    <tr>\n",
       "      <td>0</td>\n",
       "      <td>1</td>\n",
       "      <td>Каршеринг</td>\n",
       "      <td>Краткосрочная аренда авто с оплатой по минутам...</td>\n",
       "      <td>7512, 4121</td>\n",
       "    </tr>\n",
       "    <tr>\n",
       "      <td>1</td>\n",
       "      <td>2</td>\n",
       "      <td>Супермаркеты</td>\n",
       "      <td>Покупки в супермаркетах и продуктовых магазинах</td>\n",
       "      <td>5297, 5298, 5300, 5411, 5412, 5422, 5441, 5451...</td>\n",
       "    </tr>\n",
       "    <tr>\n",
       "      <td>2</td>\n",
       "      <td>3</td>\n",
       "      <td>Такси</td>\n",
       "      <td>Услуги такси (каршеринг не входит в данную кат...</td>\n",
       "      <td>4121</td>\n",
       "    </tr>\n",
       "    <tr>\n",
       "      <td>3</td>\n",
       "      <td>4</td>\n",
       "      <td>Музыка</td>\n",
       "      <td>Покупки в магазинах музыки и музыкальных инстр...</td>\n",
       "      <td>5733, 5735</td>\n",
       "    </tr>\n",
       "    <tr>\n",
       "      <td>4</td>\n",
       "      <td>5</td>\n",
       "      <td>Фастфуд</td>\n",
       "      <td>Покупки в ресторанах быстрого питания</td>\n",
       "      <td>5814</td>\n",
       "    </tr>\n",
       "    <tr>\n",
       "      <td>5</td>\n",
       "      <td>6</td>\n",
       "      <td>Транспорт</td>\n",
       "      <td>Оплата городского и пригородного транспорта. В...</td>\n",
       "      <td>4111, 4121, 4131, 4457, 4468, 4784, 4789, 5013...</td>\n",
       "    </tr>\n",
       "    <tr>\n",
       "      <td>6</td>\n",
       "      <td>7</td>\n",
       "      <td>Аптеки</td>\n",
       "      <td>Покупки в аптеках</td>\n",
       "      <td>5122, 5292, 5295, 5912</td>\n",
       "    </tr>\n",
       "    <tr>\n",
       "      <td>7</td>\n",
       "      <td>8</td>\n",
       "      <td>Кино</td>\n",
       "      <td>Покупки в кинотеатрах и магазинах кино</td>\n",
       "      <td>7829, 7832, 7841</td>\n",
       "    </tr>\n",
       "    <tr>\n",
       "      <td>8</td>\n",
       "      <td>9</td>\n",
       "      <td>Книги</td>\n",
       "      <td>Покупки в книжных магазинах и газетных киосках</td>\n",
       "      <td>2741, 5111, 5192, 5942, 5994</td>\n",
       "    </tr>\n",
       "    <tr>\n",
       "      <td>9</td>\n",
       "      <td>10</td>\n",
       "      <td>Развлечения</td>\n",
       "      <td>Оплата развлечений, (например, в магазинах вид...</td>\n",
       "      <td>7911, 7922, 7929, 7932, 7933, 7941, 7991, 7992...</td>\n",
       "    </tr>\n",
       "    <tr>\n",
       "      <td>10</td>\n",
       "      <td>11</td>\n",
       "      <td>Красота</td>\n",
       "      <td>Покупки в массажных и косметических салонах, S...</td>\n",
       "      <td>5977, 7230, 7297, 7298</td>\n",
       "    </tr>\n",
       "    <tr>\n",
       "      <td>11</td>\n",
       "      <td>12</td>\n",
       "      <td>Образование</td>\n",
       "      <td>Оплата в государственных и частных школах, вуз...</td>\n",
       "      <td>8211, 8220, 8241, 8244, 8249, 8299, 8493, 8494</td>\n",
       "    </tr>\n",
       "    <tr>\n",
       "      <td>12</td>\n",
       "      <td>13</td>\n",
       "      <td>Одежда и обувь</td>\n",
       "      <td>Покупки в магазинах одежды и обуви</td>\n",
       "      <td>5094, 5137, 5139, 5611, 5621, 5631, 5641, 5651...</td>\n",
       "    </tr>\n",
       "    <tr>\n",
       "      <td>13</td>\n",
       "      <td>14</td>\n",
       "      <td>Рестораны</td>\n",
       "      <td>Оплата счета в барах, ресторанах, кафе и клуба...</td>\n",
       "      <td>5811, 5812, 5813</td>\n",
       "    </tr>\n",
       "    <tr>\n",
       "      <td>14</td>\n",
       "      <td>15</td>\n",
       "      <td>Топливо</td>\n",
       "      <td>Покупка газа и бензина на заправках</td>\n",
       "      <td>5172, 5541, 5542, 5983</td>\n",
       "    </tr>\n",
       "    <tr>\n",
       "      <td>15</td>\n",
       "      <td>16</td>\n",
       "      <td>Животные</td>\n",
       "      <td>Покупки в зоомагазинах</td>\n",
       "      <td>5995, 0742</td>\n",
       "    </tr>\n",
       "    <tr>\n",
       "      <td>16</td>\n",
       "      <td>17</td>\n",
       "      <td>Дом и ремонт</td>\n",
       "      <td>Покупки в магазинах мебели, товаров для дома и...</td>\n",
       "      <td>1520, 1711, 1731, 1740, 1750, 1761, 1771, 1799...</td>\n",
       "    </tr>\n",
       "    <tr>\n",
       "      <td>17</td>\n",
       "      <td>18</td>\n",
       "      <td>Спорттовары</td>\n",
       "      <td>Покупки в магазинах спортивных товаров</td>\n",
       "      <td>5655, 5940, 5941</td>\n",
       "    </tr>\n",
       "    <tr>\n",
       "      <td>18</td>\n",
       "      <td>19</td>\n",
       "      <td>Сувениры</td>\n",
       "      <td>Покупки в магазинах сувениров: открыток, упако...</td>\n",
       "      <td>5947</td>\n",
       "    </tr>\n",
       "    <tr>\n",
       "      <td>19</td>\n",
       "      <td>20</td>\n",
       "      <td>Фото и видео</td>\n",
       "      <td>Покупки в магазинах фото- и видеотехники</td>\n",
       "      <td>5044, 5045, 5946, 7332, 7333, 7338, 7339, 7395</td>\n",
       "    </tr>\n",
       "    <tr>\n",
       "      <td>20</td>\n",
       "      <td>21</td>\n",
       "      <td>Цветы</td>\n",
       "      <td>Покупки в цветочных магазинах и салонах флорис...</td>\n",
       "      <td>5193, 5992</td>\n",
       "    </tr>\n",
       "    <tr>\n",
       "      <td>21</td>\n",
       "      <td>22</td>\n",
       "      <td>Аренда авто</td>\n",
       "      <td>Оплата аренды авто в дилерских центрах (каршер...</td>\n",
       "      <td>3351–3398, 3400–3410, 3412–3423, 3425–3439, 34...</td>\n",
       "    </tr>\n",
       "    <tr>\n",
       "      <td>22</td>\n",
       "      <td>23</td>\n",
       "      <td>Автоуслуги</td>\n",
       "      <td>Покупка автозапчастей, услуги в автосервисах и...</td>\n",
       "      <td>5511, 5521, 5531, 5532, 5533, 5571, 7012, 7531...</td>\n",
       "    </tr>\n",
       "    <tr>\n",
       "      <td>23</td>\n",
       "      <td>24</td>\n",
       "      <td>Авиабилеты</td>\n",
       "      <td>Оплата авиабилетов</td>\n",
       "      <td>3000–3299; 4304; 4415; 4418; 4511; 4582</td>\n",
       "    </tr>\n",
       "    <tr>\n",
       "      <td>24</td>\n",
       "      <td>25</td>\n",
       "      <td>Дьюти-фри</td>\n",
       "      <td>Покупки в магазинах дьюти-фри</td>\n",
       "      <td>5309</td>\n",
       "    </tr>\n",
       "    <tr>\n",
       "      <td>25</td>\n",
       "      <td>26</td>\n",
       "      <td>Железнодорожные билеты</td>\n",
       "      <td>Оплата билетов на поезд</td>\n",
       "      <td>4011, 4112</td>\n",
       "    </tr>\n",
       "    <tr>\n",
       "      <td>26</td>\n",
       "      <td>27</td>\n",
       "      <td>Искусство</td>\n",
       "      <td>Покупки в галереях, антикварных магазинах или ...</td>\n",
       "      <td>5932, 5937, 5970, 5971, 5972, 5973</td>\n",
       "    </tr>\n",
       "    <tr>\n",
       "      <td>27</td>\n",
       "      <td>28</td>\n",
       "      <td>Переводы</td>\n",
       "      <td>Переводы, пополнения</td>\n",
       "      <td>NaN</td>\n",
       "    </tr>\n",
       "    <tr>\n",
       "      <td>28</td>\n",
       "      <td>29</td>\n",
       "      <td>Другое</td>\n",
       "      <td>Интернет, комунальные услуги</td>\n",
       "      <td>NaN</td>\n",
       "    </tr>\n",
       "  </tbody>\n",
       "</table>\n",
       "</div>"
      ],
      "text/plain": [
       "    id                    name  \\\n",
       "0    1               Каршеринг   \n",
       "1    2            Супермаркеты   \n",
       "2    3                   Такси   \n",
       "3    4                  Музыка   \n",
       "4    5                 Фастфуд   \n",
       "5    6               Транспорт   \n",
       "6    7                  Аптеки   \n",
       "7    8                    Кино   \n",
       "8    9                   Книги   \n",
       "9   10             Развлечения   \n",
       "10  11                 Красота   \n",
       "11  12             Образование   \n",
       "12  13          Одежда и обувь   \n",
       "13  14               Рестораны   \n",
       "14  15                 Топливо   \n",
       "15  16                Животные   \n",
       "16  17            Дом и ремонт   \n",
       "17  18             Спорттовары   \n",
       "18  19                Сувениры   \n",
       "19  20            Фото и видео   \n",
       "20  21                   Цветы   \n",
       "21  22             Аренда авто   \n",
       "22  23              Автоуслуги   \n",
       "23  24              Авиабилеты   \n",
       "24  25               Дьюти-фри   \n",
       "25  26  Железнодорожные билеты   \n",
       "26  27               Искусство   \n",
       "27  28                Переводы   \n",
       "28  29                  Другое   \n",
       "\n",
       "                                          description  \\\n",
       "0   Краткосрочная аренда авто с оплатой по минутам...   \n",
       "1     Покупки в супермаркетах и продуктовых магазинах   \n",
       "2   Услуги такси (каршеринг не входит в данную кат...   \n",
       "3   Покупки в магазинах музыки и музыкальных инстр...   \n",
       "4               Покупки в ресторанах быстрого питания   \n",
       "5   Оплата городского и пригородного транспорта. В...   \n",
       "6                                   Покупки в аптеках   \n",
       "7              Покупки в кинотеатрах и магазинах кино   \n",
       "8      Покупки в книжных магазинах и газетных киосках   \n",
       "9   Оплата развлечений, (например, в магазинах вид...   \n",
       "10  Покупки в массажных и косметических салонах, S...   \n",
       "11  Оплата в государственных и частных школах, вуз...   \n",
       "12                 Покупки в магазинах одежды и обуви   \n",
       "13  Оплата счета в барах, ресторанах, кафе и клуба...   \n",
       "14                Покупка газа и бензина на заправках   \n",
       "15                             Покупки в зоомагазинах   \n",
       "16  Покупки в магазинах мебели, товаров для дома и...   \n",
       "17             Покупки в магазинах спортивных товаров   \n",
       "18  Покупки в магазинах сувениров: открыток, упако...   \n",
       "19           Покупки в магазинах фото- и видеотехники   \n",
       "20  Покупки в цветочных магазинах и салонах флорис...   \n",
       "21  Оплата аренды авто в дилерских центрах (каршер...   \n",
       "22  Покупка автозапчастей, услуги в автосервисах и...   \n",
       "23                                 Оплата авиабилетов   \n",
       "24                      Покупки в магазинах дьюти-фри   \n",
       "25                            Оплата билетов на поезд   \n",
       "26  Покупки в галереях, антикварных магазинах или ...   \n",
       "27                               Переводы, пополнения   \n",
       "28                       Интернет, комунальные услуги   \n",
       "\n",
       "                                             mcc-code  \n",
       "0                                          7512, 4121  \n",
       "1   5297, 5298, 5300, 5411, 5412, 5422, 5441, 5451...  \n",
       "2                                                4121  \n",
       "3                                          5733, 5735  \n",
       "4                                                5814  \n",
       "5   4111, 4121, 4131, 4457, 4468, 4784, 4789, 5013...  \n",
       "6                              5122, 5292, 5295, 5912  \n",
       "7                                    7829, 7832, 7841  \n",
       "8                        2741, 5111, 5192, 5942, 5994  \n",
       "9   7911, 7922, 7929, 7932, 7933, 7941, 7991, 7992...  \n",
       "10                             5977, 7230, 7297, 7298  \n",
       "11     8211, 8220, 8241, 8244, 8249, 8299, 8493, 8494  \n",
       "12  5094, 5137, 5139, 5611, 5621, 5631, 5641, 5651...  \n",
       "13                                   5811, 5812, 5813  \n",
       "14                             5172, 5541, 5542, 5983  \n",
       "15                                         5995, 0742  \n",
       "16  1520, 1711, 1731, 1740, 1750, 1761, 1771, 1799...  \n",
       "17                                   5655, 5940, 5941  \n",
       "18                                               5947  \n",
       "19     5044, 5045, 5946, 7332, 7333, 7338, 7339, 7395  \n",
       "20                                         5193, 5992  \n",
       "21  3351–3398, 3400–3410, 3412–3423, 3425–3439, 34...  \n",
       "22  5511, 5521, 5531, 5532, 5533, 5571, 7012, 7531...  \n",
       "23            3000–3299; 4304; 4415; 4418; 4511; 4582  \n",
       "24                                               5309  \n",
       "25                                         4011, 4112  \n",
       "26                 5932, 5937, 5970, 5971, 5972, 5973  \n",
       "27                                                NaN  \n",
       "28                                                NaN  "
      ]
     },
     "execution_count": 13,
     "metadata": {},
     "output_type": "execute_result"
    }
   ],
   "source": [
    "categories = pd.read_csv(path_categories)\n",
    "categories"
   ]
  },
  {
   "cell_type": "code",
   "execution_count": 14,
   "metadata": {},
   "outputs": [
    {
     "name": "stdout",
     "output_type": "stream",
     "text": [
      "<class 'pandas.core.frame.DataFrame'>\n",
      "RangeIndex: 29 entries, 0 to 28\n",
      "Data columns (total 4 columns):\n",
      "id             29 non-null int64\n",
      "name           29 non-null object\n",
      "description    29 non-null object\n",
      "mcc-code       27 non-null object\n",
      "dtypes: int64(1), object(3)\n",
      "memory usage: 1.0+ KB\n"
     ]
    }
   ],
   "source": [
    "categories.info()"
   ]
  },
  {
   "cell_type": "code",
   "execution_count": 15,
   "metadata": {},
   "outputs": [],
   "source": [
    "categories.id = categories.id.astype('str')\n",
    "categories['mcc-code'] = categories['mcc-code'].fillna('no_code')\n",
    "categories['mcc-code'] = categories['mcc-code'].astype('str')\n",
    "categories = categories.rename(columns={'id': 'product_category'})"
   ]
  },
  {
   "cell_type": "markdown",
   "metadata": {},
   "source": [
    "### transactions"
   ]
  },
  {
   "cell_type": "code",
   "execution_count": 16,
   "metadata": {},
   "outputs": [
    {
     "data": {
      "text/html": [
       "<div>\n",
       "<style scoped>\n",
       "    .dataframe tbody tr th:only-of-type {\n",
       "        vertical-align: middle;\n",
       "    }\n",
       "\n",
       "    .dataframe tbody tr th {\n",
       "        vertical-align: top;\n",
       "    }\n",
       "\n",
       "    .dataframe thead th {\n",
       "        text-align: right;\n",
       "    }\n",
       "</style>\n",
       "<table border=\"1\" class=\"dataframe\">\n",
       "  <thead>\n",
       "    <tr style=\"text-align: right;\">\n",
       "      <th></th>\n",
       "      <th>Unnamed: 0</th>\n",
       "      <th>client_id</th>\n",
       "      <th>product_category</th>\n",
       "      <th>product_company</th>\n",
       "      <th>subtype</th>\n",
       "      <th>amount</th>\n",
       "      <th>date</th>\n",
       "      <th>transaction_type</th>\n",
       "    </tr>\n",
       "  </thead>\n",
       "  <tbody>\n",
       "    <tr>\n",
       "      <td>0</td>\n",
       "      <td>34478</td>\n",
       "      <td>37</td>\n",
       "      <td>29</td>\n",
       "      <td>NaN</td>\n",
       "      <td>Автоплатеж</td>\n",
       "      <td>1209</td>\n",
       "      <td>2020-01-01 00:00:00</td>\n",
       "      <td>Negative</td>\n",
       "    </tr>\n",
       "    <tr>\n",
       "      <td>1</td>\n",
       "      <td>65406</td>\n",
       "      <td>71</td>\n",
       "      <td>4</td>\n",
       "      <td>YouTube Music</td>\n",
       "      <td>Подписка</td>\n",
       "      <td>169</td>\n",
       "      <td>2020-01-01 00:00:00</td>\n",
       "      <td>Negative</td>\n",
       "    </tr>\n",
       "    <tr>\n",
       "      <td>2</td>\n",
       "      <td>82186</td>\n",
       "      <td>88</td>\n",
       "      <td>29</td>\n",
       "      <td>NaN</td>\n",
       "      <td>Автоплатеж</td>\n",
       "      <td>3711</td>\n",
       "      <td>2020-01-01 00:00:00</td>\n",
       "      <td>Negative</td>\n",
       "    </tr>\n",
       "    <tr>\n",
       "      <td>3</td>\n",
       "      <td>83113</td>\n",
       "      <td>89</td>\n",
       "      <td>29</td>\n",
       "      <td>NaN</td>\n",
       "      <td>Автоплатеж</td>\n",
       "      <td>6443</td>\n",
       "      <td>2020-01-01 00:00:00</td>\n",
       "      <td>Negative</td>\n",
       "    </tr>\n",
       "    <tr>\n",
       "      <td>4</td>\n",
       "      <td>131373</td>\n",
       "      <td>141</td>\n",
       "      <td>29</td>\n",
       "      <td>NaN</td>\n",
       "      <td>Автоплатеж</td>\n",
       "      <td>7319</td>\n",
       "      <td>2020-01-01 00:00:00</td>\n",
       "      <td>Negative</td>\n",
       "    </tr>\n",
       "  </tbody>\n",
       "</table>\n",
       "</div>"
      ],
      "text/plain": [
       "   Unnamed: 0  client_id  product_category product_company     subtype  \\\n",
       "0       34478         37                29             NaN  Автоплатеж   \n",
       "1       65406         71                 4   YouTube Music    Подписка   \n",
       "2       82186         88                29             NaN  Автоплатеж   \n",
       "3       83113         89                29             NaN  Автоплатеж   \n",
       "4      131373        141                29             NaN  Автоплатеж   \n",
       "\n",
       "   amount                 date transaction_type  \n",
       "0    1209  2020-01-01 00:00:00         Negative  \n",
       "1     169  2020-01-01 00:00:00         Negative  \n",
       "2    3711  2020-01-01 00:00:00         Negative  \n",
       "3    6443  2020-01-01 00:00:00         Negative  \n",
       "4    7319  2020-01-01 00:00:00         Negative  "
      ]
     },
     "execution_count": 16,
     "metadata": {},
     "output_type": "execute_result"
    }
   ],
   "source": [
    "transactions = pd.read_csv(path_transactions)\n",
    "transactions.head()"
   ]
  },
  {
   "cell_type": "code",
   "execution_count": 17,
   "metadata": {},
   "outputs": [
    {
     "name": "stdout",
     "output_type": "stream",
     "text": [
      "<class 'pandas.core.frame.DataFrame'>\n",
      "RangeIndex: 929135 entries, 0 to 929134\n",
      "Data columns (total 8 columns):\n",
      "Unnamed: 0          929135 non-null int64\n",
      "client_id           929135 non-null int64\n",
      "product_category    929135 non-null int64\n",
      "product_company     644651 non-null object\n",
      "subtype             929135 non-null object\n",
      "amount              929135 non-null int64\n",
      "date                929135 non-null object\n",
      "transaction_type    929135 non-null object\n",
      "dtypes: int64(4), object(4)\n",
      "memory usage: 56.7+ MB\n"
     ]
    }
   ],
   "source": [
    "transactions.info()"
   ]
  },
  {
   "cell_type": "code",
   "execution_count": 18,
   "metadata": {},
   "outputs": [
    {
     "data": {
      "text/plain": [
       "id                          object\n",
       "client_id                   object\n",
       "product_category            object\n",
       "product_company             object\n",
       "subtype                     object\n",
       "amount                       int64\n",
       "date                datetime64[ns]\n",
       "transaction_type            object\n",
       "dtype: object"
      ]
     },
     "execution_count": 18,
     "metadata": {},
     "output_type": "execute_result"
    }
   ],
   "source": [
    "transactions.rename(columns={'Unnamed: 0': 'id'}, inplace=True)\n",
    "transactions.product_category = transactions.product_category.astype('str')\n",
    "transactions.client_id = transactions.client_id.astype('str')\n",
    "transactions.id = transactions.id.astype('str')\n",
    "transactions.date = pd.to_datetime(transactions.date, format='%Y-%m-%d %H:%M:%S')\n",
    "transactions.dtypes"
   ]
  },
  {
   "cell_type": "markdown",
   "metadata": {},
   "source": [
    "#### transaction_type"
   ]
  },
  {
   "cell_type": "markdown",
   "metadata": {},
   "source": [
    "В нашем анализе для построения рекомендательной системы нужны те транзакции клиентов, которые говорят о том, что они приобрели ту или иную категорию товара или услуги, а не получили денежный перевод от кого-либо, поэтому уберем все транзакции, которые имеют transaction_type, равный Positive."
   ]
  },
  {
   "cell_type": "code",
   "execution_count": 19,
   "metadata": {},
   "outputs": [
    {
     "data": {
      "text/plain": [
       "array(['Negative', 'Positive'], dtype=object)"
      ]
     },
     "execution_count": 19,
     "metadata": {},
     "output_type": "execute_result"
    }
   ],
   "source": [
    "transactions.transaction_type.unique()"
   ]
  },
  {
   "cell_type": "code",
   "execution_count": 20,
   "metadata": {},
   "outputs": [],
   "source": [
    "transactions = transactions.query('transaction_type != \"Positive\"')"
   ]
  },
  {
   "cell_type": "code",
   "execution_count": 21,
   "metadata": {},
   "outputs": [
    {
     "data": {
      "text/plain": [
       "(884151, 8)"
      ]
     },
     "execution_count": 21,
     "metadata": {},
     "output_type": "execute_result"
    }
   ],
   "source": [
    "transactions.shape"
   ]
  },
  {
   "cell_type": "markdown",
   "metadata": {},
   "source": [
    "#### product_category"
   ]
  },
  {
   "cell_type": "markdown",
   "metadata": {},
   "source": [
    "Проанализировав имеющиеся категории товаров и услуг заметим, что категория 28 - Переводы (переводы, пополнения). Уберем все транзакции, в которых содержится данная категория, так как данную категорию нельзя связвать со спецификой решаемой задачи."
   ]
  },
  {
   "cell_type": "code",
   "execution_count": 22,
   "metadata": {},
   "outputs": [],
   "source": [
    "transactions = transactions.query('product_category != \"28\"')"
   ]
  },
  {
   "cell_type": "code",
   "execution_count": 23,
   "metadata": {},
   "outputs": [
    {
     "data": {
      "text/plain": [
       "(839117, 8)"
      ]
     },
     "execution_count": 23,
     "metadata": {},
     "output_type": "execute_result"
    }
   ],
   "source": [
    "transactions.shape"
   ]
  },
  {
   "cell_type": "code",
   "execution_count": 24,
   "metadata": {},
   "outputs": [],
   "source": [
    "transactions.reset_index(inplace=True, drop=True)"
   ]
  },
  {
   "cell_type": "code",
   "execution_count": 25,
   "metadata": {},
   "outputs": [
    {
     "data": {
      "text/plain": [
       "6     350044\n",
       "5     130137\n",
       "2      45010\n",
       "3      29839\n",
       "1      29563\n",
       "8      24225\n",
       "9      24208\n",
       "11     24087\n",
       "14     24035\n",
       "10     24007\n",
       "7      23924\n",
       "13     23877\n",
       "15     16973\n",
       "17      9191\n",
       "20      9160\n",
       "21      9154\n",
       "16      9122\n",
       "18      9108\n",
       "19      9068\n",
       "4       8004\n",
       "29      5186\n",
       "12       427\n",
       "26       142\n",
       "27       136\n",
       "22       134\n",
       "24       126\n",
       "25       122\n",
       "23       108\n",
       "Name: product_category, dtype: int64"
      ]
     },
     "execution_count": 25,
     "metadata": {},
     "output_type": "execute_result"
    }
   ],
   "source": [
    "transactions.product_category.value_counts()"
   ]
  },
  {
   "cell_type": "markdown",
   "metadata": {},
   "source": [
    "#### subtype"
   ]
  },
  {
   "cell_type": "code",
   "execution_count": 26,
   "metadata": {},
   "outputs": [
    {
     "data": {
      "text/plain": [
       "Покупка       825927\n",
       "Подписка        8004\n",
       "Автоплатеж      5186\n",
       "Name: subtype, dtype: int64"
      ]
     },
     "execution_count": 26,
     "metadata": {},
     "output_type": "execute_result"
    }
   ],
   "source": [
    "transactions.subtype.value_counts()"
   ]
  },
  {
   "cell_type": "markdown",
   "metadata": {},
   "source": [
    "#### product_company"
   ]
  },
  {
   "cell_type": "code",
   "execution_count": 27,
   "metadata": {},
   "outputs": [
    {
     "data": {
      "text/plain": [
       "Московский Метрополитен    116903\n",
       "Стрелка                    116124\n",
       "Тануки                      16513\n",
       "PizzaHut                    16362\n",
       "Burger King                 16275\n",
       "                            ...  \n",
       "Boom                         1395\n",
       "Яндекс.Музыка                1370\n",
       "YouTube Music                1352\n",
       "Spotify                      1184\n",
       "Apple Music                  1131\n",
       "Name: product_company, Length: 68, dtype: int64"
      ]
     },
     "execution_count": 27,
     "metadata": {},
     "output_type": "execute_result"
    }
   ],
   "source": [
    "transactions.product_company.value_counts()"
   ]
  },
  {
   "cell_type": "markdown",
   "metadata": {},
   "source": [
    "#### amount"
   ]
  },
  {
   "cell_type": "code",
   "execution_count": 28,
   "metadata": {},
   "outputs": [
    {
     "data": {
      "image/png": "[encoded data removed]",
      "text/plain": [
       "<Figure size 432x288 with 1 Axes>"
      ]
     },
     "metadata": {
      "needs_background": "light"
     },
     "output_type": "display_data"
    }
   ],
   "source": [
    "sns.distplot(transactions.amount);"
   ]
  },
  {
   "cell_type": "code",
   "execution_count": 29,
   "metadata": {},
   "outputs": [
    {
     "data": {
      "image/png": "[encoded data removed]",
      "text/plain": [
       "<Figure size 432x288 with 1 Axes>"
      ]
     },
     "metadata": {
      "needs_background": "light"
     },
     "output_type": "display_data"
    }
   ],
   "source": [
    "sns.distplot(transactions.query('amount > 20000')['amount']);"
   ]
  },
  {
   "cell_type": "code",
   "execution_count": 30,
   "metadata": {},
   "outputs": [
    {
     "data": {
      "text/html": [
       "<div>\n",
       "<style scoped>\n",
       "    .dataframe tbody tr th:only-of-type {\n",
       "        vertical-align: middle;\n",
       "    }\n",
       "\n",
       "    .dataframe tbody tr th {\n",
       "        vertical-align: top;\n",
       "    }\n",
       "\n",
       "    .dataframe thead th {\n",
       "        text-align: right;\n",
       "    }\n",
       "</style>\n",
       "<table border=\"1\" class=\"dataframe\">\n",
       "  <thead>\n",
       "    <tr style=\"text-align: right;\">\n",
       "      <th></th>\n",
       "      <th>client_id</th>\n",
       "      <th>product_category</th>\n",
       "      <th>date</th>\n",
       "    </tr>\n",
       "  </thead>\n",
       "  <tbody>\n",
       "    <tr>\n",
       "      <td>0</td>\n",
       "      <td>37</td>\n",
       "      <td>29</td>\n",
       "      <td>2020-01-01</td>\n",
       "    </tr>\n",
       "    <tr>\n",
       "      <td>1</td>\n",
       "      <td>71</td>\n",
       "      <td>4</td>\n",
       "      <td>2020-01-01</td>\n",
       "    </tr>\n",
       "    <tr>\n",
       "      <td>2</td>\n",
       "      <td>88</td>\n",
       "      <td>29</td>\n",
       "      <td>2020-01-01</td>\n",
       "    </tr>\n",
       "    <tr>\n",
       "      <td>3</td>\n",
       "      <td>89</td>\n",
       "      <td>29</td>\n",
       "      <td>2020-01-01</td>\n",
       "    </tr>\n",
       "    <tr>\n",
       "      <td>4</td>\n",
       "      <td>141</td>\n",
       "      <td>29</td>\n",
       "      <td>2020-01-01</td>\n",
       "    </tr>\n",
       "  </tbody>\n",
       "</table>\n",
       "</div>"
      ],
      "text/plain": [
       "  client_id product_category       date\n",
       "0        37               29 2020-01-01\n",
       "1        71                4 2020-01-01\n",
       "2        88               29 2020-01-01\n",
       "3        89               29 2020-01-01\n",
       "4       141               29 2020-01-01"
      ]
     },
     "execution_count": 30,
     "metadata": {},
     "output_type": "execute_result"
    }
   ],
   "source": [
    "transactions_part = transactions[['client_id', 'product_category', 'date']]\n",
    "transactions_part.head()"
   ]
  },
  {
   "cell_type": "markdown",
   "metadata": {},
   "source": [
    "## Подготовка данных"
   ]
  },
  {
   "cell_type": "markdown",
   "metadata": {},
   "source": [
    "### \"Схлопывание\" повторяющихся действий пользователей"
   ]
  },
  {
   "cell_type": "markdown",
   "metadata": {},
   "source": [
    "Для каждого пользователя посчитаем количество того, сколько раз он взаимодействовал с каждой категорией товара в данных транзакций."
   ]
  },
  {
   "cell_type": "code",
   "execution_count": 31,
   "metadata": {},
   "outputs": [],
   "source": [
    "data = transactions_part.groupby(['client_id', 'product_category'], as_index=False) \\\n",
    "    .agg({'date': 'count'}) \\\n",
    "    .rename(columns={'date': 'purchase_count'})"
   ]
  },
  {
   "cell_type": "code",
   "execution_count": 32,
   "metadata": {},
   "outputs": [
    {
     "data": {
      "text/html": [
       "<div>\n",
       "<style scoped>\n",
       "    .dataframe tbody tr th:only-of-type {\n",
       "        vertical-align: middle;\n",
       "    }\n",
       "\n",
       "    .dataframe tbody tr th {\n",
       "        vertical-align: top;\n",
       "    }\n",
       "\n",
       "    .dataframe thead th {\n",
       "        text-align: right;\n",
       "    }\n",
       "</style>\n",
       "<table border=\"1\" class=\"dataframe\">\n",
       "  <thead>\n",
       "    <tr style=\"text-align: right;\">\n",
       "      <th></th>\n",
       "      <th>client_id</th>\n",
       "      <th>product_category</th>\n",
       "      <th>purchase_count</th>\n",
       "    </tr>\n",
       "  </thead>\n",
       "  <tbody>\n",
       "    <tr>\n",
       "      <td>0</td>\n",
       "      <td>1</td>\n",
       "      <td>10</td>\n",
       "      <td>18</td>\n",
       "    </tr>\n",
       "    <tr>\n",
       "      <td>1</td>\n",
       "      <td>1</td>\n",
       "      <td>11</td>\n",
       "      <td>14</td>\n",
       "    </tr>\n",
       "    <tr>\n",
       "      <td>2</td>\n",
       "      <td>1</td>\n",
       "      <td>13</td>\n",
       "      <td>23</td>\n",
       "    </tr>\n",
       "    <tr>\n",
       "      <td>3</td>\n",
       "      <td>1</td>\n",
       "      <td>14</td>\n",
       "      <td>19</td>\n",
       "    </tr>\n",
       "    <tr>\n",
       "      <td>4</td>\n",
       "      <td>1</td>\n",
       "      <td>16</td>\n",
       "      <td>10</td>\n",
       "    </tr>\n",
       "  </tbody>\n",
       "</table>\n",
       "</div>"
      ],
      "text/plain": [
       "  client_id product_category  purchase_count\n",
       "0         1               10              18\n",
       "1         1               11              14\n",
       "2         1               13              23\n",
       "3         1               14              19\n",
       "4         1               16              10"
      ]
     },
     "execution_count": 32,
     "metadata": {},
     "output_type": "execute_result"
    }
   ],
   "source": [
    "data.head()"
   ]
  },
  {
   "cell_type": "markdown",
   "metadata": {},
   "source": [
    "### Фильтрация неактивных пользователей"
   ]
  },
  {
   "cell_type": "markdown",
   "metadata": {},
   "source": [
    "Отфильтруем пользователей, которые взаимодействовали не больше, чем с 4 категориями товаров и услуг."
   ]
  },
  {
   "cell_type": "code",
   "execution_count": 33,
   "metadata": {},
   "outputs": [
    {
     "data": {
      "text/html": [
       "<div>\n",
       "<style scoped>\n",
       "    .dataframe tbody tr th:only-of-type {\n",
       "        vertical-align: middle;\n",
       "    }\n",
       "\n",
       "    .dataframe tbody tr th {\n",
       "        vertical-align: top;\n",
       "    }\n",
       "\n",
       "    .dataframe thead th {\n",
       "        text-align: right;\n",
       "    }\n",
       "</style>\n",
       "<table border=\"1\" class=\"dataframe\">\n",
       "  <thead>\n",
       "    <tr style=\"text-align: right;\">\n",
       "      <th></th>\n",
       "      <th>client_id</th>\n",
       "      <th>unique_categories</th>\n",
       "    </tr>\n",
       "  </thead>\n",
       "  <tbody>\n",
       "    <tr>\n",
       "      <td>0</td>\n",
       "      <td>1</td>\n",
       "      <td>17</td>\n",
       "    </tr>\n",
       "    <tr>\n",
       "      <td>1</td>\n",
       "      <td>10</td>\n",
       "      <td>19</td>\n",
       "    </tr>\n",
       "    <tr>\n",
       "      <td>2</td>\n",
       "      <td>100</td>\n",
       "      <td>21</td>\n",
       "    </tr>\n",
       "    <tr>\n",
       "      <td>3</td>\n",
       "      <td>1000</td>\n",
       "      <td>21</td>\n",
       "    </tr>\n",
       "    <tr>\n",
       "      <td>4</td>\n",
       "      <td>101</td>\n",
       "      <td>20</td>\n",
       "    </tr>\n",
       "  </tbody>\n",
       "</table>\n",
       "</div>"
      ],
      "text/plain": [
       "  client_id  unique_categories\n",
       "0         1                 17\n",
       "1        10                 19\n",
       "2       100                 21\n",
       "3      1000                 21\n",
       "4       101                 20"
      ]
     },
     "execution_count": 33,
     "metadata": {},
     "output_type": "execute_result"
    }
   ],
   "source": [
    "users_interactions = data \\\n",
    "    .groupby('client_id', as_index=False) \\\n",
    "    .agg({'product_category': 'count'}) \\\n",
    "    .rename(columns={'product_category': 'unique_categories'})\n",
    "users_interactions.head()"
   ]
  },
  {
   "cell_type": "code",
   "execution_count": 34,
   "metadata": {},
   "outputs": [
    {
     "data": {
      "image/png": "[encoded data removed]",
      "text/plain": [
       "<Figure size 432x288 with 1 Axes>"
      ]
     },
     "metadata": {
      "needs_background": "light"
     },
     "output_type": "display_data"
    }
   ],
   "source": [
    "sns.distplot(users_interactions.unique_categories);"
   ]
  },
  {
   "cell_type": "code",
   "execution_count": 35,
   "metadata": {},
   "outputs": [
    {
     "data": {
      "text/plain": [
       "0         1\n",
       "1        10\n",
       "2       100\n",
       "3      1000\n",
       "4       101\n",
       "       ... \n",
       "995     995\n",
       "996     996\n",
       "997     997\n",
       "998     998\n",
       "999     999\n",
       "Name: client_id, Length: 1000, dtype: object"
      ]
     },
     "execution_count": 35,
     "metadata": {},
     "output_type": "execute_result"
    }
   ],
   "source": [
    "users_with_enough_interactions = users_interactions.query('unique_categories > 4')['client_id']\n",
    "users_with_enough_interactions"
   ]
  },
  {
   "cell_type": "code",
   "execution_count": 36,
   "metadata": {},
   "outputs": [
    {
     "name": "stdout",
     "output_type": "stream",
     "text": [
      "Всего пользователей: 1000\n",
      "Пользователей по крайней мере с 5 взаимодействиями: 1000\n"
     ]
    }
   ],
   "source": [
    "print(f'Всего пользователей: {users_interactions.shape[0]}')\n",
    "print(f'Пользователей по крайней мере с 5 взаимодействиями: {users_with_enough_interactions.shape[0]}')"
   ]
  },
  {
   "cell_type": "markdown",
   "metadata": {},
   "source": [
    "Получаем, что пользователей меньше, чем с 5 взаимодействиями нет."
   ]
  },
  {
   "cell_type": "markdown",
   "metadata": {},
   "source": [
    "### Масштабирование данных"
   ]
  },
  {
   "cell_type": "markdown",
   "metadata": {},
   "source": [
    "В качестве масштабирования данных воспользуемся MinMaxScaler."
   ]
  },
  {
   "cell_type": "code",
   "execution_count": 37,
   "metadata": {},
   "outputs": [
    {
     "data": {
      "text/html": [
       "<div>\n",
       "<style scoped>\n",
       "    .dataframe tbody tr th:only-of-type {\n",
       "        vertical-align: middle;\n",
       "    }\n",
       "\n",
       "    .dataframe tbody tr th {\n",
       "        vertical-align: top;\n",
       "    }\n",
       "\n",
       "    .dataframe thead th {\n",
       "        text-align: right;\n",
       "    }\n",
       "</style>\n",
       "<table border=\"1\" class=\"dataframe\">\n",
       "  <thead>\n",
       "    <tr style=\"text-align: right;\">\n",
       "      <th></th>\n",
       "      <th>client_id</th>\n",
       "      <th>product_category</th>\n",
       "      <th>purchase_count</th>\n",
       "      <th>purchase_normalize</th>\n",
       "    </tr>\n",
       "  </thead>\n",
       "  <tbody>\n",
       "    <tr>\n",
       "      <td>0</td>\n",
       "      <td>1</td>\n",
       "      <td>10</td>\n",
       "      <td>18</td>\n",
       "      <td>0.042607</td>\n",
       "    </tr>\n",
       "    <tr>\n",
       "      <td>1</td>\n",
       "      <td>1</td>\n",
       "      <td>11</td>\n",
       "      <td>14</td>\n",
       "      <td>0.032581</td>\n",
       "    </tr>\n",
       "    <tr>\n",
       "      <td>2</td>\n",
       "      <td>1</td>\n",
       "      <td>13</td>\n",
       "      <td>23</td>\n",
       "      <td>0.055138</td>\n",
       "    </tr>\n",
       "    <tr>\n",
       "      <td>3</td>\n",
       "      <td>1</td>\n",
       "      <td>14</td>\n",
       "      <td>19</td>\n",
       "      <td>0.045113</td>\n",
       "    </tr>\n",
       "    <tr>\n",
       "      <td>4</td>\n",
       "      <td>1</td>\n",
       "      <td>16</td>\n",
       "      <td>10</td>\n",
       "      <td>0.022556</td>\n",
       "    </tr>\n",
       "  </tbody>\n",
       "</table>\n",
       "</div>"
      ],
      "text/plain": [
       "  client_id product_category  purchase_count  purchase_normalize\n",
       "0         1               10              18            0.042607\n",
       "1         1               11              14            0.032581\n",
       "2         1               13              23            0.055138\n",
       "3         1               14              19            0.045113\n",
       "4         1               16              10            0.022556"
      ]
     },
     "execution_count": 37,
     "metadata": {},
     "output_type": "execute_result"
    }
   ],
   "source": [
    "data = data.assign(purchase_normalize = (data.purchase_count - data.purchase_count.min()) / (data.purchase_count.max() - data.purchase_count.min()))\n",
    "data.drop(columns=['purchase_count'])\n",
    "data.head()"
   ]
  },
  {
   "cell_type": "markdown",
   "metadata": {},
   "source": [
    "### Разбиение выборки на тренировочную и тестовую"
   ]
  },
  {
   "cell_type": "markdown",
   "metadata": {},
   "source": [
    "Произведем разбиение выборки на обучение и контроль по времени. Перед этим возьмем последнее время взаимодействия пары client_id и product_category."
   ]
  },
  {
   "cell_type": "code",
   "execution_count": 38,
   "metadata": {},
   "outputs": [
    {
     "data": {
      "text/html": [
       "<div>\n",
       "<style scoped>\n",
       "    .dataframe tbody tr th:only-of-type {\n",
       "        vertical-align: middle;\n",
       "    }\n",
       "\n",
       "    .dataframe tbody tr th {\n",
       "        vertical-align: top;\n",
       "    }\n",
       "\n",
       "    .dataframe thead th {\n",
       "        text-align: right;\n",
       "    }\n",
       "</style>\n",
       "<table border=\"1\" class=\"dataframe\">\n",
       "  <thead>\n",
       "    <tr style=\"text-align: right;\">\n",
       "      <th></th>\n",
       "      <th>client_id</th>\n",
       "      <th>product_category</th>\n",
       "      <th>date</th>\n",
       "    </tr>\n",
       "  </thead>\n",
       "  <tbody>\n",
       "    <tr>\n",
       "      <td>0</td>\n",
       "      <td>1</td>\n",
       "      <td>10</td>\n",
       "      <td>2020-12-22 02:33:13</td>\n",
       "    </tr>\n",
       "    <tr>\n",
       "      <td>1</td>\n",
       "      <td>1</td>\n",
       "      <td>11</td>\n",
       "      <td>2020-12-22 10:20:44</td>\n",
       "    </tr>\n",
       "    <tr>\n",
       "      <td>2</td>\n",
       "      <td>1</td>\n",
       "      <td>13</td>\n",
       "      <td>2020-12-29 09:07:06</td>\n",
       "    </tr>\n",
       "    <tr>\n",
       "      <td>3</td>\n",
       "      <td>1</td>\n",
       "      <td>14</td>\n",
       "      <td>2020-12-31 06:49:11</td>\n",
       "    </tr>\n",
       "    <tr>\n",
       "      <td>4</td>\n",
       "      <td>1</td>\n",
       "      <td>16</td>\n",
       "      <td>2020-12-29 03:38:07</td>\n",
       "    </tr>\n",
       "  </tbody>\n",
       "</table>\n",
       "</div>"
      ],
      "text/plain": [
       "  client_id product_category                date\n",
       "0         1               10 2020-12-22 02:33:13\n",
       "1         1               11 2020-12-22 10:20:44\n",
       "2         1               13 2020-12-29 09:07:06\n",
       "3         1               14 2020-12-31 06:49:11\n",
       "4         1               16 2020-12-29 03:38:07"
      ]
     },
     "execution_count": 38,
     "metadata": {},
     "output_type": "execute_result"
    }
   ],
   "source": [
    "transactions_last_date = transactions_part \\\n",
    "    .groupby(['client_id', 'product_category'], as_index=False) \\\n",
    "    .date \\\n",
    "    .last()\n",
    "transactions_last_date.head()"
   ]
  },
  {
   "cell_type": "code",
   "execution_count": 39,
   "metadata": {},
   "outputs": [
    {
     "data": {
      "text/html": [
       "<div>\n",
       "<style scoped>\n",
       "    .dataframe tbody tr th:only-of-type {\n",
       "        vertical-align: middle;\n",
       "    }\n",
       "\n",
       "    .dataframe tbody tr th {\n",
       "        vertical-align: top;\n",
       "    }\n",
       "\n",
       "    .dataframe thead th {\n",
       "        text-align: right;\n",
       "    }\n",
       "</style>\n",
       "<table border=\"1\" class=\"dataframe\">\n",
       "  <thead>\n",
       "    <tr style=\"text-align: right;\">\n",
       "      <th></th>\n",
       "      <th>client_id</th>\n",
       "      <th>product_category</th>\n",
       "      <th>purchase_count</th>\n",
       "      <th>purchase_normalize</th>\n",
       "      <th>last_date</th>\n",
       "    </tr>\n",
       "  </thead>\n",
       "  <tbody>\n",
       "    <tr>\n",
       "      <td>0</td>\n",
       "      <td>1</td>\n",
       "      <td>10</td>\n",
       "      <td>18</td>\n",
       "      <td>0.042607</td>\n",
       "      <td>2020-12-22 02:33:13</td>\n",
       "    </tr>\n",
       "    <tr>\n",
       "      <td>1</td>\n",
       "      <td>1</td>\n",
       "      <td>11</td>\n",
       "      <td>14</td>\n",
       "      <td>0.032581</td>\n",
       "      <td>2020-12-22 10:20:44</td>\n",
       "    </tr>\n",
       "    <tr>\n",
       "      <td>2</td>\n",
       "      <td>1</td>\n",
       "      <td>13</td>\n",
       "      <td>23</td>\n",
       "      <td>0.055138</td>\n",
       "      <td>2020-12-29 09:07:06</td>\n",
       "    </tr>\n",
       "    <tr>\n",
       "      <td>3</td>\n",
       "      <td>1</td>\n",
       "      <td>14</td>\n",
       "      <td>19</td>\n",
       "      <td>0.045113</td>\n",
       "      <td>2020-12-31 06:49:11</td>\n",
       "    </tr>\n",
       "    <tr>\n",
       "      <td>4</td>\n",
       "      <td>1</td>\n",
       "      <td>16</td>\n",
       "      <td>10</td>\n",
       "      <td>0.022556</td>\n",
       "      <td>2020-12-29 03:38:07</td>\n",
       "    </tr>\n",
       "  </tbody>\n",
       "</table>\n",
       "</div>"
      ],
      "text/plain": [
       "  client_id product_category  purchase_count  purchase_normalize  \\\n",
       "0         1               10              18            0.042607   \n",
       "1         1               11              14            0.032581   \n",
       "2         1               13              23            0.055138   \n",
       "3         1               14              19            0.045113   \n",
       "4         1               16              10            0.022556   \n",
       "\n",
       "            last_date  \n",
       "0 2020-12-22 02:33:13  \n",
       "1 2020-12-22 10:20:44  \n",
       "2 2020-12-29 09:07:06  \n",
       "3 2020-12-31 06:49:11  \n",
       "4 2020-12-29 03:38:07  "
      ]
     },
     "execution_count": 39,
     "metadata": {},
     "output_type": "execute_result"
    }
   ],
   "source": [
    "data = data \\\n",
    "    .merge(transactions_last_date, on=['client_id', 'product_category']) \\\n",
    "    .rename(columns={'date': 'last_date'})\n",
    "data.head()"
   ]
  },
  {
   "cell_type": "code",
   "execution_count": 40,
   "metadata": {},
   "outputs": [
    {
     "name": "stdout",
     "output_type": "stream",
     "text": [
      "Всего взаимодействий: 20201\n",
      "Доля взаимодействий в тренировочной выборке: 0.8 (17051)\n",
      "Доля взаимодействий в тестовой выборке: 0.2 (3150)\n"
     ]
    }
   ],
   "source": [
    "split_date = '2020-12-30'\n",
    "data_train = data.query('last_date < @split_date').copy()\n",
    "data_test = data.query('last_date >= @split_date').copy()\n",
    "\n",
    "print(f'Всего взаимодействий: {data.shape[0]}')\n",
    "print(f'Доля взаимодействий в тренировочной выборке: {round(data_train.shape[0] / data.shape[0], 1)} ({data_train.shape[0]})')\n",
    "print(f'Доля взаимодействий в тестовой выборке: {round(data_test.shape[0] / data.shape[0], 1)} ({data_test.shape[0]})')"
   ]
  },
  {
   "cell_type": "markdown",
   "metadata": {},
   "source": [
    "Для удобства подсчета качества запишем данные в формате, где строка соответствует пользователю, а столбцы будут истинными метками и предсказаниями в виде списков."
   ]
  },
  {
   "cell_type": "code",
   "execution_count": 41,
   "metadata": {},
   "outputs": [],
   "source": [
    "data_true = (\n",
    "    data_train\n",
    "    .groupby('client_id')['product_category'].agg(lambda x: list(x))\n",
    "    .reset_index()\n",
    "    .rename(columns={'product_category': 'true_train'})\n",
    "    .set_index('client_id')\n",
    ")\n",
    "\n",
    "data_true['true_test'] = (\n",
    "    data_test\n",
    "    .groupby('client_id')['product_category'].agg(lambda x: list(x))\n",
    ")"
   ]
  },
  {
   "cell_type": "markdown",
   "metadata": {},
   "source": [
    "Заполним пропуски пустыми списками."
   ]
  },
  {
   "cell_type": "code",
   "execution_count": 42,
   "metadata": {},
   "outputs": [],
   "source": [
    "data_true.loc[pd.isnull(data_true.true_test), 'true_test'] = [\n",
    "    list() for x in range(len(data_true.loc[pd.isnull(data_true.true_test), 'true_test']))]"
   ]
  },
  {
   "cell_type": "code",
   "execution_count": 43,
   "metadata": {},
   "outputs": [
    {
     "data": {
      "text/html": [
       "<div>\n",
       "<style scoped>\n",
       "    .dataframe tbody tr th:only-of-type {\n",
       "        vertical-align: middle;\n",
       "    }\n",
       "\n",
       "    .dataframe tbody tr th {\n",
       "        vertical-align: top;\n",
       "    }\n",
       "\n",
       "    .dataframe thead th {\n",
       "        text-align: right;\n",
       "    }\n",
       "</style>\n",
       "<table border=\"1\" class=\"dataframe\">\n",
       "  <thead>\n",
       "    <tr style=\"text-align: right;\">\n",
       "      <th></th>\n",
       "      <th>true_train</th>\n",
       "      <th>true_test</th>\n",
       "    </tr>\n",
       "    <tr>\n",
       "      <th>client_id</th>\n",
       "      <th></th>\n",
       "      <th></th>\n",
       "    </tr>\n",
       "  </thead>\n",
       "  <tbody>\n",
       "    <tr>\n",
       "      <td>1</td>\n",
       "      <td>[10, 11, 13, 16, 17, 18, 19, 2, 20, 21, 4, 6, ...</td>\n",
       "      <td>[14, 5, 9]</td>\n",
       "    </tr>\n",
       "  </tbody>\n",
       "</table>\n",
       "</div>"
      ],
      "text/plain": [
       "                                                  true_train   true_test\n",
       "client_id                                                               \n",
       "1          [10, 11, 13, 16, 17, 18, 19, 2, 20, 21, 4, 6, ...  [14, 5, 9]"
      ]
     },
     "execution_count": 43,
     "metadata": {},
     "output_type": "execute_result"
    }
   ],
   "source": [
    "data_true.head(1)"
   ]
  },
  {
   "cell_type": "markdown",
   "metadata": {},
   "source": [
    "## Моделирование и оценка"
   ]
  },
  {
   "cell_type": "markdown",
   "metadata": {},
   "source": [
    "Для каждого пользователя будем предсказывать только одну категорию товара или услуги в связи тем, что реклама только одной категории товара или услуги может быть показана пользователю в приложении."
   ]
  },
  {
   "cell_type": "markdown",
   "metadata": {},
   "source": [
    "### Метрики качества"
   ]
  },
  {
   "cell_type": "markdown",
   "metadata": {},
   "source": [
    "В качестве метрик качества моделей рассчитаем следующие:\n",
    "- precision@k;\n",
    "- recall@k;\n",
    "- F-score@k.\n",
    "\n",
    "За основную метрику возьмем F-score@k."
   ]
  },
  {
   "cell_type": "code",
   "execution_count": 44,
   "metadata": {},
   "outputs": [],
   "source": [
    "top_k = 1 # количество категорий, которое нужно предсказать пользователю"
   ]
  },
  {
   "cell_type": "code",
   "execution_count": 45,
   "metadata": {},
   "outputs": [],
   "source": [
    "def calc_precision(column):\n",
    "    return (\n",
    "        data_true\n",
    "            .apply(\n",
    "                lambda row: len(set(row['true_test']).intersection(row[column])) / min(len(row['true_test']) + 0.001, top_k),\n",
    "                axis=1\n",
    "            )\n",
    "    ).mean()"
   ]
  },
  {
   "cell_type": "code",
   "execution_count": 46,
   "metadata": {},
   "outputs": [],
   "source": [
    "def calc_recall(column):\n",
    "    return (\n",
    "        data_true\n",
    "            .apply(\n",
    "                lambda row: len(set(row['true_test']).intersection(row[column])) / min(len(row[column]) + 0.001, top_k),\n",
    "                axis=1\n",
    "            )\n",
    "    ).mean()"
   ]
  },
  {
   "cell_type": "markdown",
   "metadata": {},
   "source": [
    "При прогнозировании нам важнее то, чтобы модель рекомендательной системы не рекомендовала пользователям то, что им не интересно, поэтому строя и оценивая наши модели, будем использовать измененную метрику качества F-score, в которой дадим больший вес точности (precision@k)."
   ]
  },
  {
   "cell_type": "code",
   "execution_count": 47,
   "metadata": {},
   "outputs": [],
   "source": [
    "def calc_fscore_precision(column):\n",
    "    beta = 0.5\n",
    "    precision = calc_precision(column)\n",
    "    recall = calc_recall(column)\n",
    "    fscore_precision = ((1 + beta ** 2) * precision * recall) / (beta ** 2 * precision + recall)\n",
    "    return fscore_precision"
   ]
  },
  {
   "cell_type": "markdown",
   "metadata": {},
   "source": [
    "### Модель по полуярности (baseline)"
   ]
  },
  {
   "cell_type": "markdown",
   "metadata": {},
   "source": [
    "Посчитаем популярность каждой категории, как сумму всех количеств взаимодействия с ней, и отсортируем категории по их популярности."
   ]
  },
  {
   "cell_type": "code",
   "execution_count": 48,
   "metadata": {},
   "outputs": [
    {
     "data": {
      "text/plain": [
       "array(['5', '6', '2', '3', '1', '7', '11', '8', '13', '10', '14', '9',\n",
       "       '15', '17', '21', '20', '16', '18', '19', '4', '29', '12', '26',\n",
       "       '27', '24', '25', '22', '23'], dtype=object)"
      ]
     },
     "execution_count": 48,
     "metadata": {},
     "output_type": "execute_result"
    }
   ],
   "source": [
    "popular_category = (\n",
    "    data_train\n",
    "    .groupby('product_category', as_index=False)\n",
    "    .agg({'purchase_normalize': 'sum'})\n",
    "    .rename(columns={'purchase_normalize': 'purchase_total'})\n",
    "    .sort_values('purchase_total', ascending=False)\n",
    "    .product_category.values\n",
    ")\n",
    "popular_category"
   ]
  },
  {
   "cell_type": "code",
   "execution_count": 49,
   "metadata": {},
   "outputs": [
    {
     "name": "stdout",
     "output_type": "stream",
     "text": [
      "Наиболее популярной категорией является: Фастфуд\n",
      "Наименее популярной категорией является: Автоуслуги\n"
     ]
    }
   ],
   "source": [
    "print(f\"Наиболее популярной категорией является: {categories.query('product_category == @popular_category[0]')['name'].values[0]}\")\n",
    "print(f\"Наименее популярной категорией является: {categories.query('product_category == @popular_category[-1]')['name'].values[0]}\")"
   ]
  },
  {
   "cell_type": "markdown",
   "metadata": {},
   "source": [
    "Делаем предсказания для каждого пользователя."
   ]
  },
  {
   "cell_type": "markdown",
   "metadata": {},
   "source": [
    "Рекомендуем каждому пользователю те категории товаров и услуг, которые он приобретал и которые еще нет. В этом случае каждому пользователю предлагаем самую популярную категорию."
   ]
  },
  {
   "cell_type": "code",
   "execution_count": 50,
   "metadata": {},
   "outputs": [],
   "source": [
    "data_true['prediction_popular_without'] = np.resize(popular_category[:top_k], (data_true.shape[0], 1))"
   ]
  },
  {
   "cell_type": "code",
   "execution_count": 51,
   "metadata": {},
   "outputs": [
    {
     "data": {
      "text/html": [
       "<div>\n",
       "<style scoped>\n",
       "    .dataframe tbody tr th:only-of-type {\n",
       "        vertical-align: middle;\n",
       "    }\n",
       "\n",
       "    .dataframe tbody tr th {\n",
       "        vertical-align: top;\n",
       "    }\n",
       "\n",
       "    .dataframe thead th {\n",
       "        text-align: right;\n",
       "    }\n",
       "</style>\n",
       "<table border=\"1\" class=\"dataframe\">\n",
       "  <thead>\n",
       "    <tr style=\"text-align: right;\">\n",
       "      <th></th>\n",
       "      <th>true_train</th>\n",
       "      <th>true_test</th>\n",
       "      <th>prediction_popular_without</th>\n",
       "    </tr>\n",
       "    <tr>\n",
       "      <th>client_id</th>\n",
       "      <th></th>\n",
       "      <th></th>\n",
       "      <th></th>\n",
       "    </tr>\n",
       "  </thead>\n",
       "  <tbody>\n",
       "    <tr>\n",
       "      <td>1</td>\n",
       "      <td>[10, 11, 13, 16, 17, 18, 19, 2, 20, 21, 4, 6, ...</td>\n",
       "      <td>[14, 5, 9]</td>\n",
       "      <td>5</td>\n",
       "    </tr>\n",
       "    <tr>\n",
       "      <td>10</td>\n",
       "      <td>[1, 10, 11, 13, 14, 16, 17, 18, 19, 20, 21, 26...</td>\n",
       "      <td>[2, 6]</td>\n",
       "      <td>5</td>\n",
       "    </tr>\n",
       "    <tr>\n",
       "      <td>100</td>\n",
       "      <td>[1, 10, 12, 13, 14, 16, 17, 18, 19, 2, 20, 21,...</td>\n",
       "      <td>[11, 5, 6, 9]</td>\n",
       "      <td>5</td>\n",
       "    </tr>\n",
       "    <tr>\n",
       "      <td>1000</td>\n",
       "      <td>[1, 11, 13, 14, 15, 16, 17, 18, 19, 20, 21, 29...</td>\n",
       "      <td>[10, 2, 6, 7]</td>\n",
       "      <td>5</td>\n",
       "    </tr>\n",
       "    <tr>\n",
       "      <td>101</td>\n",
       "      <td>[1, 10, 11, 13, 14, 16, 17, 18, 19, 2, 20, 21,...</td>\n",
       "      <td>[6]</td>\n",
       "      <td>5</td>\n",
       "    </tr>\n",
       "  </tbody>\n",
       "</table>\n",
       "</div>"
      ],
      "text/plain": [
       "                                                  true_train      true_test  \\\n",
       "client_id                                                                     \n",
       "1          [10, 11, 13, 16, 17, 18, 19, 2, 20, 21, 4, 6, ...     [14, 5, 9]   \n",
       "10         [1, 10, 11, 13, 14, 16, 17, 18, 19, 20, 21, 26...         [2, 6]   \n",
       "100        [1, 10, 12, 13, 14, 16, 17, 18, 19, 2, 20, 21,...  [11, 5, 6, 9]   \n",
       "1000       [1, 11, 13, 14, 15, 16, 17, 18, 19, 20, 21, 29...  [10, 2, 6, 7]   \n",
       "101        [1, 10, 11, 13, 14, 16, 17, 18, 19, 2, 20, 21,...            [6]   \n",
       "\n",
       "          prediction_popular_without  \n",
       "client_id                             \n",
       "1                                  5  \n",
       "10                                 5  \n",
       "100                                5  \n",
       "1000                               5  \n",
       "101                                5  "
      ]
     },
     "execution_count": 51,
     "metadata": {},
     "output_type": "execute_result"
    }
   ],
   "source": [
    "data_true.head()"
   ]
  },
  {
   "cell_type": "code",
   "execution_count": 52,
   "metadata": {},
   "outputs": [
    {
     "name": "stdout",
     "output_type": "stream",
     "text": [
      "Precision@1: 0.524\n",
      "Recall@1: 0.524\n",
      "F-score@1: 0.524\n"
     ]
    }
   ],
   "source": [
    "print(f'Precision@1: {calc_precision(\"prediction_popular_without\")}')\n",
    "print(f'Recall@1: {calc_recall(\"prediction_popular_without\")}')\n",
    "print(f'F-score@1: {calc_fscore_precision(\"prediction_popular_without\")}')"
   ]
  },
  {
   "cell_type": "markdown",
   "metadata": {},
   "source": [
    "### Коллаборативная фильтрация"
   ]
  },
  {
   "cell_type": "code",
   "execution_count": 53,
   "metadata": {},
   "outputs": [
    {
     "data": {
      "text/html": [
       "<div>\n",
       "<style scoped>\n",
       "    .dataframe tbody tr th:only-of-type {\n",
       "        vertical-align: middle;\n",
       "    }\n",
       "\n",
       "    .dataframe tbody tr th {\n",
       "        vertical-align: top;\n",
       "    }\n",
       "\n",
       "    .dataframe thead th {\n",
       "        text-align: right;\n",
       "    }\n",
       "</style>\n",
       "<table border=\"1\" class=\"dataframe\">\n",
       "  <thead>\n",
       "    <tr style=\"text-align: right;\">\n",
       "      <th>product_category</th>\n",
       "      <th>1</th>\n",
       "      <th>10</th>\n",
       "      <th>11</th>\n",
       "      <th>12</th>\n",
       "      <th>13</th>\n",
       "      <th>14</th>\n",
       "      <th>15</th>\n",
       "      <th>16</th>\n",
       "      <th>17</th>\n",
       "      <th>18</th>\n",
       "      <th>...</th>\n",
       "      <th>26</th>\n",
       "      <th>27</th>\n",
       "      <th>29</th>\n",
       "      <th>3</th>\n",
       "      <th>4</th>\n",
       "      <th>5</th>\n",
       "      <th>6</th>\n",
       "      <th>7</th>\n",
       "      <th>8</th>\n",
       "      <th>9</th>\n",
       "    </tr>\n",
       "    <tr>\n",
       "      <th>client_id</th>\n",
       "      <th></th>\n",
       "      <th></th>\n",
       "      <th></th>\n",
       "      <th></th>\n",
       "      <th></th>\n",
       "      <th></th>\n",
       "      <th></th>\n",
       "      <th></th>\n",
       "      <th></th>\n",
       "      <th></th>\n",
       "      <th></th>\n",
       "      <th></th>\n",
       "      <th></th>\n",
       "      <th></th>\n",
       "      <th></th>\n",
       "      <th></th>\n",
       "      <th></th>\n",
       "      <th></th>\n",
       "      <th></th>\n",
       "      <th></th>\n",
       "      <th></th>\n",
       "    </tr>\n",
       "  </thead>\n",
       "  <tbody>\n",
       "    <tr>\n",
       "      <td>1</td>\n",
       "      <td>0.000000</td>\n",
       "      <td>0.042607</td>\n",
       "      <td>0.032581</td>\n",
       "      <td>0.0</td>\n",
       "      <td>0.055138</td>\n",
       "      <td>0.045113</td>\n",
       "      <td>0.000000</td>\n",
       "      <td>0.022556</td>\n",
       "      <td>0.012531</td>\n",
       "      <td>0.040100</td>\n",
       "      <td>...</td>\n",
       "      <td>0.0</td>\n",
       "      <td>0.0</td>\n",
       "      <td>0.000000</td>\n",
       "      <td>0.000000</td>\n",
       "      <td>0.027569</td>\n",
       "      <td>0.378446</td>\n",
       "      <td>0.974937</td>\n",
       "      <td>0.065163</td>\n",
       "      <td>0.060150</td>\n",
       "      <td>0.047619</td>\n",
       "    </tr>\n",
       "    <tr>\n",
       "      <td>10</td>\n",
       "      <td>0.102757</td>\n",
       "      <td>0.050125</td>\n",
       "      <td>0.065163</td>\n",
       "      <td>0.0</td>\n",
       "      <td>0.070175</td>\n",
       "      <td>0.050125</td>\n",
       "      <td>0.000000</td>\n",
       "      <td>0.015038</td>\n",
       "      <td>0.022556</td>\n",
       "      <td>0.030075</td>\n",
       "      <td>...</td>\n",
       "      <td>0.0</td>\n",
       "      <td>0.0</td>\n",
       "      <td>0.000000</td>\n",
       "      <td>0.082707</td>\n",
       "      <td>0.000000</td>\n",
       "      <td>0.273183</td>\n",
       "      <td>0.784461</td>\n",
       "      <td>0.050125</td>\n",
       "      <td>0.065163</td>\n",
       "      <td>0.047619</td>\n",
       "    </tr>\n",
       "    <tr>\n",
       "      <td>100</td>\n",
       "      <td>0.110276</td>\n",
       "      <td>0.030075</td>\n",
       "      <td>0.045113</td>\n",
       "      <td>0.0</td>\n",
       "      <td>0.030075</td>\n",
       "      <td>0.035088</td>\n",
       "      <td>0.000000</td>\n",
       "      <td>0.025063</td>\n",
       "      <td>0.035088</td>\n",
       "      <td>0.030075</td>\n",
       "      <td>...</td>\n",
       "      <td>0.0</td>\n",
       "      <td>0.0</td>\n",
       "      <td>0.022556</td>\n",
       "      <td>0.067669</td>\n",
       "      <td>0.020050</td>\n",
       "      <td>0.283208</td>\n",
       "      <td>0.781955</td>\n",
       "      <td>0.035088</td>\n",
       "      <td>0.047619</td>\n",
       "      <td>0.062657</td>\n",
       "    </tr>\n",
       "    <tr>\n",
       "      <td>1000</td>\n",
       "      <td>0.080201</td>\n",
       "      <td>0.075188</td>\n",
       "      <td>0.077694</td>\n",
       "      <td>0.0</td>\n",
       "      <td>0.057644</td>\n",
       "      <td>0.065163</td>\n",
       "      <td>0.117794</td>\n",
       "      <td>0.012531</td>\n",
       "      <td>0.010025</td>\n",
       "      <td>0.020050</td>\n",
       "      <td>...</td>\n",
       "      <td>0.0</td>\n",
       "      <td>0.0</td>\n",
       "      <td>0.027569</td>\n",
       "      <td>0.080201</td>\n",
       "      <td>0.027569</td>\n",
       "      <td>0.338346</td>\n",
       "      <td>0.979950</td>\n",
       "      <td>0.075188</td>\n",
       "      <td>0.072682</td>\n",
       "      <td>0.067669</td>\n",
       "    </tr>\n",
       "    <tr>\n",
       "      <td>101</td>\n",
       "      <td>0.067669</td>\n",
       "      <td>0.067669</td>\n",
       "      <td>0.082707</td>\n",
       "      <td>0.0</td>\n",
       "      <td>0.090226</td>\n",
       "      <td>0.057644</td>\n",
       "      <td>0.000000</td>\n",
       "      <td>0.020050</td>\n",
       "      <td>0.015038</td>\n",
       "      <td>0.022556</td>\n",
       "      <td>...</td>\n",
       "      <td>0.0</td>\n",
       "      <td>0.0</td>\n",
       "      <td>0.002506</td>\n",
       "      <td>0.110276</td>\n",
       "      <td>0.007519</td>\n",
       "      <td>0.338346</td>\n",
       "      <td>0.862155</td>\n",
       "      <td>0.077694</td>\n",
       "      <td>0.082707</td>\n",
       "      <td>0.057644</td>\n",
       "    </tr>\n",
       "  </tbody>\n",
       "</table>\n",
       "<p>5 rows × 28 columns</p>\n",
       "</div>"
      ],
      "text/plain": [
       "product_category         1        10        11   12        13        14  \\\n",
       "client_id                                                                 \n",
       "1                 0.000000  0.042607  0.032581  0.0  0.055138  0.045113   \n",
       "10                0.102757  0.050125  0.065163  0.0  0.070175  0.050125   \n",
       "100               0.110276  0.030075  0.045113  0.0  0.030075  0.035088   \n",
       "1000              0.080201  0.075188  0.077694  0.0  0.057644  0.065163   \n",
       "101               0.067669  0.067669  0.082707  0.0  0.090226  0.057644   \n",
       "\n",
       "product_category        15        16        17        18  ...   26   27  \\\n",
       "client_id                                                 ...             \n",
       "1                 0.000000  0.022556  0.012531  0.040100  ...  0.0  0.0   \n",
       "10                0.000000  0.015038  0.022556  0.030075  ...  0.0  0.0   \n",
       "100               0.000000  0.025063  0.035088  0.030075  ...  0.0  0.0   \n",
       "1000              0.117794  0.012531  0.010025  0.020050  ...  0.0  0.0   \n",
       "101               0.000000  0.020050  0.015038  0.022556  ...  0.0  0.0   \n",
       "\n",
       "product_category        29         3         4         5         6         7  \\\n",
       "client_id                                                                      \n",
       "1                 0.000000  0.000000  0.027569  0.378446  0.974937  0.065163   \n",
       "10                0.000000  0.082707  0.000000  0.273183  0.784461  0.050125   \n",
       "100               0.022556  0.067669  0.020050  0.283208  0.781955  0.035088   \n",
       "1000              0.027569  0.080201  0.027569  0.338346  0.979950  0.075188   \n",
       "101               0.002506  0.110276  0.007519  0.338346  0.862155  0.077694   \n",
       "\n",
       "product_category         8         9  \n",
       "client_id                             \n",
       "1                 0.060150  0.047619  \n",
       "10                0.065163  0.047619  \n",
       "100               0.047619  0.062657  \n",
       "1000              0.072682  0.067669  \n",
       "101               0.082707  0.057644  \n",
       "\n",
       "[5 rows x 28 columns]"
      ]
     },
     "execution_count": 53,
     "metadata": {},
     "output_type": "execute_result"
    }
   ],
   "source": [
    "data_matrix = pd.pivot_table(data, index='client_id', columns='product_category', values='purchase_normalize', fill_value=0)\n",
    "data_matrix.head()"
   ]
  },
  {
   "cell_type": "markdown",
   "metadata": {},
   "source": [
    "#### Memory-dased"
   ]
  },
  {
   "cell_type": "code",
   "execution_count": 54,
   "metadata": {},
   "outputs": [],
   "source": [
    "matrix = data_matrix.values"
   ]
  },
  {
   "cell_type": "code",
   "execution_count": 55,
   "metadata": {},
   "outputs": [
    {
     "data": {
      "application/vnd.jupyter.widget-view+json": {
       "model_id": "1828e6f84ccc4cb3ba663fc6b39e7fc4",
       "version_major": 2,
       "version_minor": 0
      },
      "text/plain": [
       "HBox(children=(IntProgress(value=0, max=1000), HTML(value='')))"
      ]
     },
     "metadata": {},
     "output_type": "display_data"
    },
    {
     "name": "stdout",
     "output_type": "stream",
     "text": [
      "\n"
     ]
    }
   ],
   "source": [
    "similarity_users = np.zeros((len(matrix), len(matrix)))\n",
    "\n",
    "for i in tqdm_notebook(range(len(matrix))):\n",
    "    for j in range(i+1, len(matrix)):\n",
    "        \n",
    "        # nonzero elements of two users\n",
    "        mask_uv = (matrix[i] != 0) & (matrix[j] != 0)\n",
    "        \n",
    "        # continue if no intersection\n",
    "        if np.sum(mask_uv) == 0:\n",
    "            continue\n",
    "            \n",
    "        # get nonzero elements\n",
    "        ratings_v = matrix[i, mask_uv]\n",
    "        ratings_u = matrix[j, mask_uv]\n",
    "        \n",
    "        # for nonzero std\n",
    "        if len(np.unique(ratings_v)) < 2 or len(np.unique(ratings_u)) < 2:\n",
    "            continue\n",
    "        similarity_users[i,j] = np.corrcoef(ratings_v, ratings_u)[0, 1]\n",
    "        similarity_users[j,i] = similarity_users[i,j]"
   ]
  },
  {
   "cell_type": "markdown",
   "metadata": {},
   "source": [
    "В нашем примере данных не очень много, поэтому возьмём $\\alpha = 0$."
   ]
  },
  {
   "cell_type": "code",
   "execution_count": 56,
   "metadata": {},
   "outputs": [
    {
     "data": {
      "application/vnd.jupyter.widget-view+json": {
       "model_id": "67f7a0e700764b8e8524be6c226bb892",
       "version_major": 2,
       "version_minor": 0
      },
      "text/plain": [
       "HBox(children=(IntProgress(value=0, max=1000), HTML(value='')))"
      ]
     },
     "metadata": {},
     "output_type": "display_data"
    },
    {
     "name": "stdout",
     "output_type": "stream",
     "text": [
      "\n"
     ]
    }
   ],
   "source": [
    "prediction_user_based = []\n",
    "for i in tqdm_notebook(range(len(similarity_users))):\n",
    "    users_sim = similarity_users[i] > 0\n",
    "    if len(users_sim) == 0:\n",
    "        prediction_user_based.append([])\n",
    "    else:\n",
    "        tmp_recommend = np.argsort(matrix[users_sim].sum(axis=0))[::-1]\n",
    "        tmp_recommend = data_matrix.columns[tmp_recommend]\n",
    "        recommend = np.array(tmp_recommend)[:top_k] #***\n",
    "        prediction_user_based.append(list(recommend))\n",
    "\n",
    "data_true['prediction_user_based'] = prediction_user_based"
   ]
  },
  {
   "cell_type": "code",
   "execution_count": 57,
   "metadata": {},
   "outputs": [
    {
     "name": "stdout",
     "output_type": "stream",
     "text": [
      "Precision@k: 0.855\n",
      "Recall@k: 0.855\n",
      "F-score@k: 0.855\n"
     ]
    }
   ],
   "source": [
    "print(f'Precision@k: {calc_precision(\"prediction_user_based\")}')\n",
    "print(f'Recall@k: {calc_recall(\"prediction_user_based\")}')\n",
    "print(f'F-score@k: {calc_fscore_precision(\"prediction_user_based\")}')"
   ]
  },
  {
   "cell_type": "markdown",
   "metadata": {},
   "source": [
    "#### Latent Factor Model"
   ]
  },
  {
   "cell_type": "code",
   "execution_count": 58,
   "metadata": {},
   "outputs": [
    {
     "name": "stdout",
     "output_type": "stream",
     "text": [
      "(1000, 28) (1000, 1000) (28,) (28, 28)\n"
     ]
    }
   ],
   "source": [
    "U, sigma, V = svd(data_matrix)\n",
    "print(data_matrix.shape, U.shape, sigma.shape, V.shape)"
   ]
  },
  {
   "cell_type": "code",
   "execution_count": 59,
   "metadata": {},
   "outputs": [
    {
     "name": "stdout",
     "output_type": "stream",
     "text": [
      "9.617382236731986e-26\n"
     ]
    }
   ],
   "source": [
    "Sigma = np.zeros((1000, 28))\n",
    "Sigma[:28, :28] = np.diag(sigma)\n",
    "\n",
    "new_data_matrix = U.dot(Sigma).dot(V)\n",
    "print(sum(sum((new_data_matrix - data_matrix.values) ** 2)))"
   ]
  },
  {
   "cell_type": "markdown",
   "metadata": {},
   "source": [
    "Значения у матрицы с сингулярными числами отсортированы по убыванию. Оставим только первые 25 компонент и получим скрытые представления размерности 25."
   ]
  },
  {
   "cell_type": "code",
   "execution_count": 60,
   "metadata": {},
   "outputs": [],
   "source": [
    "K = 25\n",
    "sigma[K:] = 0\n",
    "Sigma = np.zeros((1000, 28))\n",
    "Sigma[:28, :28] = np.diag(sigma)"
   ]
  },
  {
   "cell_type": "code",
   "execution_count": 61,
   "metadata": {},
   "outputs": [
    {
     "name": "stdout",
     "output_type": "stream",
     "text": [
      "0.00038219029302177923\n",
      "786.2026227724698\n"
     ]
    }
   ],
   "source": [
    "new_data_matrix = U.dot(Sigma).dot(V)\n",
    "print(sum(sum((new_data_matrix - data_matrix.values) ** 2)))\n",
    "print(sum(sum((data_matrix.values.mean() - data_matrix.values) ** 2)))"
   ]
  },
  {
   "cell_type": "code",
   "execution_count": 62,
   "metadata": {},
   "outputs": [
    {
     "data": {
      "application/vnd.jupyter.widget-view+json": {
       "model_id": "dbb69abcc26c4e82861b875b9bc9bd45",
       "version_major": 2,
       "version_minor": 0
      },
      "text/plain": [
       "HBox(children=(IntProgress(value=0, max=1000), HTML(value='')))"
      ]
     },
     "metadata": {},
     "output_type": "display_data"
    },
    {
     "name": "stdout",
     "output_type": "stream",
     "text": [
      "\n"
     ]
    }
   ],
   "source": [
    "new_data_matrix = pd.DataFrame(new_data_matrix, index=data_matrix.index, columns=data_matrix.columns)\n",
    "\n",
    "predictions = []\n",
    "for client_id in tqdm_notebook(data_true.index):\n",
    "    prediction = (\n",
    "        new_data_matrix\n",
    "        .loc[client_id]\n",
    "        .sort_values(ascending=False)\n",
    "        .index.values\n",
    "    )\n",
    "    \n",
    "    predictions.append(\n",
    "        list(prediction)[:top_k]) #***\n",
    "\n",
    "data_true['prediction_svd'] = predictions"
   ]
  },
  {
   "cell_type": "code",
   "execution_count": 63,
   "metadata": {},
   "outputs": [
    {
     "name": "stdout",
     "output_type": "stream",
     "text": [
      "Precision@k: 0.855\n",
      "Recall@k: 0.855\n",
      "F-score@k: 0.855\n"
     ]
    }
   ],
   "source": [
    "print(f'Precision@k: {calc_precision(\"prediction_svd\")}')\n",
    "print(f'Recall@k: {calc_recall(\"prediction_svd\")}')\n",
    "print(f'F-score@k: {calc_fscore_precision(\"prediction_svd\")}')"
   ]
  },
  {
   "cell_type": "markdown",
   "metadata": {},
   "source": [
    "### Контентная модель"
   ]
  },
  {
   "cell_type": "code",
   "execution_count": 44,
   "metadata": {},
   "outputs": [
    {
     "name": "stderr",
     "output_type": "stream",
     "text": [
      "C:\\Users\\kiril\\Anaconda3\\lib\\site-packages\\ipykernel_launcher.py:11: FutureWarning: Sorting because non-concatenation axis is not aligned. A future version\n",
      "of pandas will change to not sort by default.\n",
      "\n",
      "To accept the future behavior, pass 'sort=False'.\n",
      "\n",
      "To retain the current behavior and silence the warning, pass 'sort=True'.\n",
      "\n",
      "  # This is added back by InteractiveShellApp.init_path()\n"
     ]
    }
   ],
   "source": [
    "test_client_id = np.repeat(data_true.index, len(data_matrix.columns)) \n",
    "test_product_category = list(data_matrix.columns) * len(data_true)\n",
    "test = pd.DataFrame(\n",
    "    np.array([test_client_id, test_product_category]).T,\n",
    "    columns=['client_id', 'product_category'])\n",
    "\n",
    "data_train_content = pd.concat((\n",
    "    data_train,\n",
    "    test.loc[\n",
    "        np.random.permutation(test.index)[\n",
    "            :4*len(data_train)]]), ignore_index=True)\n",
    "data_train.purchase_normalize.fillna(0, inplace=True)"
   ]
  },
  {
   "cell_type": "code",
   "execution_count": 45,
   "metadata": {},
   "outputs": [],
   "source": [
    "data_train_content = data_train_content.merge(categories, how='left', on='product_category')\n",
    "data_test_content = data_test.merge(categories, how='left', on='product_category')"
   ]
  },
  {
   "cell_type": "code",
   "execution_count": 46,
   "metadata": {},
   "outputs": [],
   "source": [
    "data_train_content.drop(columns=['name', 'description'], inplace=True)\n",
    "data_test_content.drop(columns=['name', 'description'], inplace=True)"
   ]
  },
  {
   "cell_type": "code",
   "execution_count": 47,
   "metadata": {},
   "outputs": [
    {
     "data": {
      "text/html": [
       "<div>\n",
       "<style scoped>\n",
       "    .dataframe tbody tr th:only-of-type {\n",
       "        vertical-align: middle;\n",
       "    }\n",
       "\n",
       "    .dataframe tbody tr th {\n",
       "        vertical-align: top;\n",
       "    }\n",
       "\n",
       "    .dataframe thead th {\n",
       "        text-align: right;\n",
       "    }\n",
       "</style>\n",
       "<table border=\"1\" class=\"dataframe\">\n",
       "  <thead>\n",
       "    <tr style=\"text-align: right;\">\n",
       "      <th></th>\n",
       "      <th>client_id</th>\n",
       "      <th>last_date</th>\n",
       "      <th>product_category</th>\n",
       "      <th>purchase_count</th>\n",
       "      <th>purchase_normalize</th>\n",
       "      <th>mcc-code</th>\n",
       "    </tr>\n",
       "  </thead>\n",
       "  <tbody>\n",
       "    <tr>\n",
       "      <td>0</td>\n",
       "      <td>1</td>\n",
       "      <td>2020-12-22 02:33:13</td>\n",
       "      <td>10</td>\n",
       "      <td>18.0</td>\n",
       "      <td>0.042607</td>\n",
       "      <td>7911, 7922, 7929, 7932, 7933, 7941, 7991, 7992...</td>\n",
       "    </tr>\n",
       "    <tr>\n",
       "      <td>1</td>\n",
       "      <td>1</td>\n",
       "      <td>2020-12-22 10:20:44</td>\n",
       "      <td>11</td>\n",
       "      <td>14.0</td>\n",
       "      <td>0.032581</td>\n",
       "      <td>5977, 7230, 7297, 7298</td>\n",
       "    </tr>\n",
       "    <tr>\n",
       "      <td>2</td>\n",
       "      <td>1</td>\n",
       "      <td>2020-12-29 09:07:06</td>\n",
       "      <td>13</td>\n",
       "      <td>23.0</td>\n",
       "      <td>0.055138</td>\n",
       "      <td>5094, 5137, 5139, 5611, 5621, 5631, 5641, 5651...</td>\n",
       "    </tr>\n",
       "    <tr>\n",
       "      <td>3</td>\n",
       "      <td>1</td>\n",
       "      <td>2020-12-29 03:38:07</td>\n",
       "      <td>16</td>\n",
       "      <td>10.0</td>\n",
       "      <td>0.022556</td>\n",
       "      <td>5995, 0742</td>\n",
       "    </tr>\n",
       "    <tr>\n",
       "      <td>4</td>\n",
       "      <td>1</td>\n",
       "      <td>2020-11-11 05:21:46</td>\n",
       "      <td>17</td>\n",
       "      <td>6.0</td>\n",
       "      <td>0.012531</td>\n",
       "      <td>1520, 1711, 1731, 1740, 1750, 1761, 1771, 1799...</td>\n",
       "    </tr>\n",
       "  </tbody>\n",
       "</table>\n",
       "</div>"
      ],
      "text/plain": [
       "  client_id           last_date product_category  purchase_count  \\\n",
       "0         1 2020-12-22 02:33:13               10            18.0   \n",
       "1         1 2020-12-22 10:20:44               11            14.0   \n",
       "2         1 2020-12-29 09:07:06               13            23.0   \n",
       "3         1 2020-12-29 03:38:07               16            10.0   \n",
       "4         1 2020-11-11 05:21:46               17             6.0   \n",
       "\n",
       "   purchase_normalize                                           mcc-code  \n",
       "0            0.042607  7911, 7922, 7929, 7932, 7933, 7941, 7991, 7992...  \n",
       "1            0.032581                             5977, 7230, 7297, 7298  \n",
       "2            0.055138  5094, 5137, 5139, 5611, 5621, 5631, 5641, 5651...  \n",
       "3            0.022556                                         5995, 0742  \n",
       "4            0.012531  1520, 1711, 1731, 1740, 1750, 1761, 1771, 1799...  "
      ]
     },
     "execution_count": 47,
     "metadata": {},
     "output_type": "execute_result"
    }
   ],
   "source": [
    "data_train_content.head()"
   ]
  },
  {
   "cell_type": "code",
   "execution_count": 48,
   "metadata": {},
   "outputs": [
    {
     "data": {
      "text/html": [
       "<div>\n",
       "<style scoped>\n",
       "    .dataframe tbody tr th:only-of-type {\n",
       "        vertical-align: middle;\n",
       "    }\n",
       "\n",
       "    .dataframe tbody tr th {\n",
       "        vertical-align: top;\n",
       "    }\n",
       "\n",
       "    .dataframe thead th {\n",
       "        text-align: right;\n",
       "    }\n",
       "</style>\n",
       "<table border=\"1\" class=\"dataframe\">\n",
       "  <thead>\n",
       "    <tr style=\"text-align: right;\">\n",
       "      <th></th>\n",
       "      <th>client_id</th>\n",
       "      <th>product_category</th>\n",
       "      <th>purchase_count</th>\n",
       "      <th>purchase_normalize</th>\n",
       "      <th>last_date</th>\n",
       "      <th>mcc-code</th>\n",
       "    </tr>\n",
       "  </thead>\n",
       "  <tbody>\n",
       "    <tr>\n",
       "      <td>0</td>\n",
       "      <td>1</td>\n",
       "      <td>14</td>\n",
       "      <td>19</td>\n",
       "      <td>0.045113</td>\n",
       "      <td>2020-12-31 06:49:11</td>\n",
       "      <td>5811, 5812, 5813</td>\n",
       "    </tr>\n",
       "    <tr>\n",
       "      <td>1</td>\n",
       "      <td>1</td>\n",
       "      <td>28</td>\n",
       "      <td>111</td>\n",
       "      <td>0.275689</td>\n",
       "      <td>2020-12-31 05:48:08</td>\n",
       "      <td>no_code</td>\n",
       "    </tr>\n",
       "    <tr>\n",
       "      <td>2</td>\n",
       "      <td>1</td>\n",
       "      <td>5</td>\n",
       "      <td>152</td>\n",
       "      <td>0.378446</td>\n",
       "      <td>2020-12-30 01:48:37</td>\n",
       "      <td>5814</td>\n",
       "    </tr>\n",
       "    <tr>\n",
       "      <td>3</td>\n",
       "      <td>1</td>\n",
       "      <td>9</td>\n",
       "      <td>20</td>\n",
       "      <td>0.047619</td>\n",
       "      <td>2020-12-30 23:54:16</td>\n",
       "      <td>2741, 5111, 5192, 5942, 5994</td>\n",
       "    </tr>\n",
       "    <tr>\n",
       "      <td>4</td>\n",
       "      <td>2</td>\n",
       "      <td>5</td>\n",
       "      <td>136</td>\n",
       "      <td>0.338346</td>\n",
       "      <td>2020-12-30 05:57:08</td>\n",
       "      <td>5814</td>\n",
       "    </tr>\n",
       "  </tbody>\n",
       "</table>\n",
       "</div>"
      ],
      "text/plain": [
       "   client_id product_category  purchase_count  purchase_normalize  \\\n",
       "0          1               14              19            0.045113   \n",
       "1          1               28             111            0.275689   \n",
       "2          1                5             152            0.378446   \n",
       "3          1                9              20            0.047619   \n",
       "4          2                5             136            0.338346   \n",
       "\n",
       "            last_date                      mcc-code  \n",
       "0 2020-12-31 06:49:11              5811, 5812, 5813  \n",
       "1 2020-12-31 05:48:08                       no_code  \n",
       "2 2020-12-30 01:48:37                          5814  \n",
       "3 2020-12-30 23:54:16  2741, 5111, 5192, 5942, 5994  \n",
       "4 2020-12-30 05:57:08                          5814  "
      ]
     },
     "execution_count": 48,
     "metadata": {},
     "output_type": "execute_result"
    }
   ],
   "source": [
    "data_test_content.head()"
   ]
  },
  {
   "cell_type": "code",
   "execution_count": 49,
   "metadata": {},
   "outputs": [
    {
     "data": {
      "text/plain": [
       "5"
      ]
     },
     "execution_count": 49,
     "metadata": {},
     "output_type": "execute_result"
    }
   ],
   "source": [
    "features_start = len(data_train_content.columns) - 1\n",
    "features_start"
   ]
  },
  {
   "cell_type": "code",
   "execution_count": 50,
   "metadata": {},
   "outputs": [],
   "source": [
    "test_client_id = np.repeat(data_true.index, len(categories)) \n",
    "test_product_category = list(categories.product_category) * len(data_true)\n",
    "test = pd.DataFrame(\n",
    "    np.array([test_client_id, test_product_category]).T,\n",
    "    columns=['client_id', 'product_category'])\n",
    "test = test.merge(categories, how='left', on='product_category')\n",
    "test.drop(columns=['name', 'description'], inplace=True)"
   ]
  },
  {
   "cell_type": "code",
   "execution_count": 51,
   "metadata": {},
   "outputs": [
    {
     "data": {
      "text/html": [
       "<div>\n",
       "<style scoped>\n",
       "    .dataframe tbody tr th:only-of-type {\n",
       "        vertical-align: middle;\n",
       "    }\n",
       "\n",
       "    .dataframe tbody tr th {\n",
       "        vertical-align: top;\n",
       "    }\n",
       "\n",
       "    .dataframe thead th {\n",
       "        text-align: right;\n",
       "    }\n",
       "</style>\n",
       "<table border=\"1\" class=\"dataframe\">\n",
       "  <thead>\n",
       "    <tr style=\"text-align: right;\">\n",
       "      <th></th>\n",
       "      <th>client_id</th>\n",
       "      <th>product_category</th>\n",
       "      <th>mcc-code</th>\n",
       "    </tr>\n",
       "  </thead>\n",
       "  <tbody>\n",
       "    <tr>\n",
       "      <td>0</td>\n",
       "      <td>1</td>\n",
       "      <td>1</td>\n",
       "      <td>7512, 4121</td>\n",
       "    </tr>\n",
       "    <tr>\n",
       "      <td>1</td>\n",
       "      <td>1</td>\n",
       "      <td>2</td>\n",
       "      <td>5297, 5298, 5300, 5411, 5412, 5422, 5441, 5451...</td>\n",
       "    </tr>\n",
       "    <tr>\n",
       "      <td>2</td>\n",
       "      <td>1</td>\n",
       "      <td>3</td>\n",
       "      <td>4121</td>\n",
       "    </tr>\n",
       "    <tr>\n",
       "      <td>3</td>\n",
       "      <td>1</td>\n",
       "      <td>4</td>\n",
       "      <td>5733, 5735</td>\n",
       "    </tr>\n",
       "    <tr>\n",
       "      <td>4</td>\n",
       "      <td>1</td>\n",
       "      <td>5</td>\n",
       "      <td>5814</td>\n",
       "    </tr>\n",
       "  </tbody>\n",
       "</table>\n",
       "</div>"
      ],
      "text/plain": [
       "  client_id product_category  \\\n",
       "0         1                1   \n",
       "1         1                2   \n",
       "2         1                3   \n",
       "3         1                4   \n",
       "4         1                5   \n",
       "\n",
       "                                            mcc-code  \n",
       "0                                         7512, 4121  \n",
       "1  5297, 5298, 5300, 5411, 5412, 5422, 5441, 5451...  \n",
       "2                                               4121  \n",
       "3                                         5733, 5735  \n",
       "4                                               5814  "
      ]
     },
     "execution_count": 51,
     "metadata": {},
     "output_type": "execute_result"
    }
   ],
   "source": [
    "test.head()"
   ]
  },
  {
   "cell_type": "code",
   "execution_count": 52,
   "metadata": {},
   "outputs": [],
   "source": [
    "def mcc_count(column_value):\n",
    "    if column_value == 'no_code':\n",
    "        return 0\n",
    "    else:\n",
    "        mcc_count = len(column_value.split(', '))\n",
    "        return mcc_count"
   ]
  },
  {
   "cell_type": "code",
   "execution_count": 53,
   "metadata": {},
   "outputs": [],
   "source": [
    "data_train_content['mcc-code'] = data_train_content['mcc-code'].apply(mcc_count)\n",
    "test['mcc-code'] = test['mcc-code'].apply(mcc_count)"
   ]
  },
  {
   "cell_type": "code",
   "execution_count": 54,
   "metadata": {},
   "outputs": [],
   "source": [
    "X_train_content = data_train_content[data_train_content.columns[features_start:]]\n",
    "y_train_content = np.array(data_train_content.purchase_normalize > 0, dtype=int)"
   ]
  },
  {
   "cell_type": "code",
   "execution_count": 55,
   "metadata": {},
   "outputs": [
    {
     "name": "stdout",
     "output_type": "stream",
     "text": [
      "Learning rate set to 0.053158\n",
      "0:\tlearn: 0.6862877\ttotal: 199ms\tremaining: 3m 18s\n",
      "1:\tlearn: 0.6808951\ttotal: 244ms\tremaining: 2m 1s\n",
      "2:\tlearn: 0.6753544\ttotal: 277ms\tremaining: 1m 31s\n",
      "3:\tlearn: 0.6698093\ttotal: 294ms\tremaining: 1m 13s\n",
      "4:\tlearn: 0.6649210\ttotal: 309ms\tremaining: 1m 1s\n",
      "5:\tlearn: 0.6606872\ttotal: 320ms\tremaining: 53.1s\n",
      "6:\tlearn: 0.6577370\ttotal: 335ms\tremaining: 47.5s\n",
      "7:\tlearn: 0.6544662\ttotal: 348ms\tremaining: 43.2s\n",
      "8:\tlearn: 0.6525464\ttotal: 361ms\tremaining: 39.7s\n",
      "9:\tlearn: 0.6491402\ttotal: 373ms\tremaining: 36.9s\n",
      "10:\tlearn: 0.6465558\ttotal: 404ms\tremaining: 36.3s\n",
      "11:\tlearn: 0.6448588\ttotal: 418ms\tremaining: 34.4s\n",
      "12:\tlearn: 0.6433300\ttotal: 430ms\tremaining: 32.6s\n",
      "13:\tlearn: 0.6413223\ttotal: 443ms\tremaining: 31.2s\n",
      "14:\tlearn: 0.6401957\ttotal: 453ms\tremaining: 29.7s\n",
      "15:\tlearn: 0.6392524\ttotal: 467ms\tremaining: 28.7s\n",
      "16:\tlearn: 0.6375654\ttotal: 480ms\tremaining: 27.8s\n",
      "17:\tlearn: 0.6363658\ttotal: 493ms\tremaining: 26.9s\n",
      "18:\tlearn: 0.6356793\ttotal: 507ms\tremaining: 26.2s\n",
      "19:\tlearn: 0.6345115\ttotal: 524ms\tremaining: 25.7s\n",
      "20:\tlearn: 0.6338969\ttotal: 535ms\tremaining: 24.9s\n",
      "21:\tlearn: 0.6330535\ttotal: 568ms\tremaining: 25.3s\n",
      "22:\tlearn: 0.6323240\ttotal: 587ms\tremaining: 24.9s\n",
      "23:\tlearn: 0.6317580\ttotal: 598ms\tremaining: 24.3s\n",
      "24:\tlearn: 0.6312189\ttotal: 614ms\tremaining: 23.9s\n",
      "25:\tlearn: 0.6306629\ttotal: 628ms\tremaining: 23.5s\n",
      "26:\tlearn: 0.6303111\ttotal: 639ms\tremaining: 23s\n",
      "27:\tlearn: 0.6299994\ttotal: 649ms\tremaining: 22.5s\n",
      "28:\tlearn: 0.6293556\ttotal: 661ms\tremaining: 22.1s\n",
      "29:\tlearn: 0.6287424\ttotal: 677ms\tremaining: 21.9s\n",
      "30:\tlearn: 0.6284224\ttotal: 688ms\tremaining: 21.5s\n",
      "31:\tlearn: 0.6280055\ttotal: 702ms\tremaining: 21.2s\n",
      "32:\tlearn: 0.6276703\ttotal: 713ms\tremaining: 20.9s\n",
      "33:\tlearn: 0.6273519\ttotal: 728ms\tremaining: 20.7s\n",
      "34:\tlearn: 0.6271316\ttotal: 741ms\tremaining: 20.4s\n",
      "35:\tlearn: 0.6268756\ttotal: 752ms\tremaining: 20.1s\n",
      "36:\tlearn: 0.6266888\ttotal: 762ms\tremaining: 19.8s\n",
      "37:\tlearn: 0.6265669\ttotal: 790ms\tremaining: 20s\n",
      "38:\tlearn: 0.6265037\ttotal: 802ms\tremaining: 19.8s\n",
      "39:\tlearn: 0.6259958\ttotal: 815ms\tremaining: 19.6s\n",
      "40:\tlearn: 0.6258577\ttotal: 827ms\tremaining: 19.3s\n",
      "41:\tlearn: 0.6256833\ttotal: 859ms\tremaining: 19.6s\n",
      "42:\tlearn: 0.6253381\ttotal: 874ms\tremaining: 19.5s\n",
      "43:\tlearn: 0.6253018\ttotal: 883ms\tremaining: 19.2s\n",
      "44:\tlearn: 0.6249990\ttotal: 899ms\tremaining: 19.1s\n",
      "45:\tlearn: 0.6249053\ttotal: 925ms\tremaining: 19.2s\n",
      "46:\tlearn: 0.6248099\ttotal: 940ms\tremaining: 19.1s\n",
      "47:\tlearn: 0.6246192\ttotal: 955ms\tremaining: 18.9s\n",
      "48:\tlearn: 0.6243879\ttotal: 973ms\tremaining: 18.9s\n",
      "49:\tlearn: 0.6243532\ttotal: 997ms\tremaining: 18.9s\n",
      "50:\tlearn: 0.6241773\ttotal: 1.02s\tremaining: 18.9s\n",
      "51:\tlearn: 0.6241419\ttotal: 1.03s\tremaining: 18.7s\n",
      "52:\tlearn: 0.6239894\ttotal: 1.05s\tremaining: 18.8s\n",
      "53:\tlearn: 0.6237969\ttotal: 1.07s\tremaining: 18.8s\n",
      "54:\tlearn: 0.6236523\ttotal: 1.08s\tremaining: 18.6s\n",
      "55:\tlearn: 0.6235630\ttotal: 1.1s\tremaining: 18.5s\n",
      "56:\tlearn: 0.6234186\ttotal: 1.11s\tremaining: 18.4s\n",
      "57:\tlearn: 0.6232680\ttotal: 1.13s\tremaining: 18.4s\n",
      "58:\tlearn: 0.6231688\ttotal: 1.14s\tremaining: 18.2s\n",
      "59:\tlearn: 0.6231279\ttotal: 1.15s\tremaining: 18.1s\n",
      "60:\tlearn: 0.6231083\ttotal: 1.16s\tremaining: 17.9s\n",
      "61:\tlearn: 0.6230072\ttotal: 1.18s\tremaining: 17.8s\n",
      "62:\tlearn: 0.6229890\ttotal: 1.19s\tremaining: 17.7s\n",
      "63:\tlearn: 0.6229034\ttotal: 1.2s\tremaining: 17.6s\n",
      "64:\tlearn: 0.6228140\ttotal: 1.22s\tremaining: 17.6s\n",
      "65:\tlearn: 0.6227705\ttotal: 1.24s\tremaining: 17.6s\n",
      "66:\tlearn: 0.6227028\ttotal: 1.25s\tremaining: 17.5s\n",
      "67:\tlearn: 0.6226659\ttotal: 1.27s\tremaining: 17.4s\n",
      "68:\tlearn: 0.6226028\ttotal: 1.28s\tremaining: 17.3s\n",
      "69:\tlearn: 0.6225726\ttotal: 1.29s\tremaining: 17.2s\n",
      "70:\tlearn: 0.6224980\ttotal: 1.3s\tremaining: 17s\n",
      "71:\tlearn: 0.6224427\ttotal: 1.32s\tremaining: 17s\n",
      "72:\tlearn: 0.6224348\ttotal: 1.33s\tremaining: 16.9s\n",
      "73:\tlearn: 0.6223590\ttotal: 1.34s\tremaining: 16.8s\n",
      "74:\tlearn: 0.6223453\ttotal: 1.35s\tremaining: 16.7s\n",
      "75:\tlearn: 0.6222981\ttotal: 1.37s\tremaining: 16.6s\n",
      "76:\tlearn: 0.6222385\ttotal: 1.39s\tremaining: 16.7s\n",
      "77:\tlearn: 0.6221752\ttotal: 1.41s\tremaining: 16.6s\n",
      "78:\tlearn: 0.6221309\ttotal: 1.42s\tremaining: 16.5s\n",
      "79:\tlearn: 0.6221199\ttotal: 1.45s\tremaining: 16.6s\n",
      "80:\tlearn: 0.6221052\ttotal: 1.46s\tremaining: 16.6s\n",
      "81:\tlearn: 0.6221039\ttotal: 1.47s\tremaining: 16.5s\n",
      "82:\tlearn: 0.6220569\ttotal: 1.49s\tremaining: 16.4s\n",
      "83:\tlearn: 0.6220217\ttotal: 1.5s\tremaining: 16.3s\n",
      "84:\tlearn: 0.6220213\ttotal: 1.51s\tremaining: 16.3s\n",
      "85:\tlearn: 0.6219635\ttotal: 1.54s\tremaining: 16.4s\n",
      "86:\tlearn: 0.6219597\ttotal: 1.55s\tremaining: 16.3s\n",
      "87:\tlearn: 0.6219239\ttotal: 1.57s\tremaining: 16.2s\n",
      "88:\tlearn: 0.6219082\ttotal: 1.58s\tremaining: 16.2s\n",
      "89:\tlearn: 0.6218790\ttotal: 1.61s\tremaining: 16.2s\n",
      "90:\tlearn: 0.6218617\ttotal: 1.62s\tremaining: 16.2s\n",
      "91:\tlearn: 0.6218405\ttotal: 1.63s\tremaining: 16.1s\n",
      "92:\tlearn: 0.6218120\ttotal: 1.65s\tremaining: 16.1s\n",
      "93:\tlearn: 0.6218005\ttotal: 1.67s\tremaining: 16.1s\n",
      "94:\tlearn: 0.6217702\ttotal: 1.69s\tremaining: 16.1s\n",
      "95:\tlearn: 0.6217630\ttotal: 1.7s\tremaining: 16s\n",
      "96:\tlearn: 0.6217398\ttotal: 1.71s\tremaining: 15.9s\n",
      "97:\tlearn: 0.6217172\ttotal: 1.72s\tremaining: 15.8s\n",
      "98:\tlearn: 0.6217015\ttotal: 1.73s\tremaining: 15.8s\n",
      "99:\tlearn: 0.6216963\ttotal: 1.75s\tremaining: 15.7s\n",
      "100:\tlearn: 0.6216901\ttotal: 1.76s\tremaining: 15.7s\n",
      "101:\tlearn: 0.6216584\ttotal: 1.78s\tremaining: 15.7s\n",
      "102:\tlearn: 0.6216408\ttotal: 1.8s\tremaining: 15.7s\n",
      "103:\tlearn: 0.6216366\ttotal: 1.81s\tremaining: 15.6s\n",
      "104:\tlearn: 0.6216196\ttotal: 1.82s\tremaining: 15.5s\n",
      "105:\tlearn: 0.6216104\ttotal: 1.83s\tremaining: 15.5s\n",
      "106:\tlearn: 0.6215833\ttotal: 1.85s\tremaining: 15.4s\n",
      "107:\tlearn: 0.6215780\ttotal: 1.86s\tremaining: 15.3s\n",
      "108:\tlearn: 0.6215779\ttotal: 1.87s\tremaining: 15.3s\n",
      "109:\tlearn: 0.6215616\ttotal: 1.88s\tremaining: 15.2s\n",
      "110:\tlearn: 0.6215561\ttotal: 1.89s\tremaining: 15.2s\n",
      "111:\tlearn: 0.6215495\ttotal: 1.92s\tremaining: 15.2s\n",
      "112:\tlearn: 0.6215453\ttotal: 1.93s\tremaining: 15.2s\n",
      "113:\tlearn: 0.6215327\ttotal: 1.94s\tremaining: 15.1s\n",
      "114:\tlearn: 0.6215128\ttotal: 1.96s\tremaining: 15.1s\n",
      "115:\tlearn: 0.6215057\ttotal: 1.98s\tremaining: 15.1s\n",
      "116:\tlearn: 0.6214943\ttotal: 1.99s\tremaining: 15s\n",
      "117:\tlearn: 0.6214943\ttotal: 2.01s\tremaining: 15s\n",
      "118:\tlearn: 0.6214851\ttotal: 2.03s\tremaining: 15s\n",
      "119:\tlearn: 0.6214851\ttotal: 2.04s\tremaining: 15s\n",
      "120:\tlearn: 0.6214801\ttotal: 2.06s\tremaining: 15s\n",
      "121:\tlearn: 0.6214795\ttotal: 2.08s\tremaining: 15s\n",
      "122:\tlearn: 0.6214616\ttotal: 2.1s\tremaining: 14.9s\n",
      "123:\tlearn: 0.6214449\ttotal: 2.11s\tremaining: 14.9s\n",
      "124:\tlearn: 0.6214433\ttotal: 2.13s\tremaining: 14.9s\n",
      "125:\tlearn: 0.6214417\ttotal: 2.14s\tremaining: 14.9s\n",
      "126:\tlearn: 0.6214353\ttotal: 2.17s\tremaining: 14.9s\n",
      "127:\tlearn: 0.6214345\ttotal: 2.18s\tremaining: 14.9s\n",
      "128:\tlearn: 0.6214344\ttotal: 2.19s\tremaining: 14.8s\n",
      "129:\tlearn: 0.6214290\ttotal: 2.21s\tremaining: 14.8s\n",
      "130:\tlearn: 0.6214232\ttotal: 2.23s\tremaining: 14.8s\n",
      "131:\tlearn: 0.6214217\ttotal: 2.24s\tremaining: 14.7s\n",
      "132:\tlearn: 0.6214192\ttotal: 2.25s\tremaining: 14.7s\n",
      "133:\tlearn: 0.6214174\ttotal: 2.27s\tremaining: 14.6s\n",
      "134:\tlearn: 0.6214173\ttotal: 2.27s\tremaining: 14.6s\n",
      "135:\tlearn: 0.6214166\ttotal: 2.29s\tremaining: 14.5s\n",
      "136:\tlearn: 0.6213994\ttotal: 2.32s\tremaining: 14.6s\n",
      "137:\tlearn: 0.6213984\ttotal: 2.34s\tremaining: 14.6s\n",
      "138:\tlearn: 0.6213979\ttotal: 2.35s\tremaining: 14.5s\n",
      "139:\tlearn: 0.6213878\ttotal: 2.38s\tremaining: 14.6s\n",
      "140:\tlearn: 0.6213858\ttotal: 2.39s\tremaining: 14.6s\n",
      "141:\tlearn: 0.6213846\ttotal: 2.4s\tremaining: 14.5s\n",
      "142:\tlearn: 0.6213837\ttotal: 2.42s\tremaining: 14.5s\n",
      "143:\tlearn: 0.6213825\ttotal: 2.43s\tremaining: 14.4s\n",
      "144:\tlearn: 0.6213812\ttotal: 2.44s\tremaining: 14.4s\n",
      "145:\tlearn: 0.6213811\ttotal: 2.46s\tremaining: 14.4s\n",
      "146:\tlearn: 0.6213785\ttotal: 2.48s\tremaining: 14.4s\n",
      "147:\tlearn: 0.6213783\ttotal: 2.49s\tremaining: 14.3s\n",
      "148:\tlearn: 0.6213767\ttotal: 2.51s\tremaining: 14.4s\n",
      "149:\tlearn: 0.6213734\ttotal: 2.53s\tremaining: 14.4s\n",
      "150:\tlearn: 0.6213730\ttotal: 2.54s\tremaining: 14.3s\n",
      "151:\tlearn: 0.6213728\ttotal: 2.55s\tremaining: 14.3s\n",
      "152:\tlearn: 0.6213718\ttotal: 2.58s\tremaining: 14.3s\n",
      "153:\tlearn: 0.6213649\ttotal: 2.6s\tremaining: 14.3s\n",
      "154:\tlearn: 0.6213635\ttotal: 2.61s\tremaining: 14.2s\n",
      "155:\tlearn: 0.6213620\ttotal: 2.62s\tremaining: 14.2s\n",
      "156:\tlearn: 0.6213609\ttotal: 2.65s\tremaining: 14.2s\n",
      "157:\tlearn: 0.6213593\ttotal: 2.66s\tremaining: 14.2s\n",
      "158:\tlearn: 0.6213588\ttotal: 2.67s\tremaining: 14.2s\n",
      "159:\tlearn: 0.6213509\ttotal: 2.7s\tremaining: 14.2s\n"
     ]
    },
    {
     "name": "stdout",
     "output_type": "stream",
     "text": [
      "160:\tlearn: 0.6213509\ttotal: 2.71s\tremaining: 14.1s\n",
      "161:\tlearn: 0.6213509\ttotal: 2.72s\tremaining: 14.1s\n",
      "162:\tlearn: 0.6213492\ttotal: 2.73s\tremaining: 14s\n",
      "163:\tlearn: 0.6213492\ttotal: 2.76s\tremaining: 14.1s\n",
      "164:\tlearn: 0.6213491\ttotal: 2.77s\tremaining: 14s\n",
      "165:\tlearn: 0.6213424\ttotal: 2.79s\tremaining: 14s\n",
      "166:\tlearn: 0.6213407\ttotal: 2.81s\tremaining: 14s\n",
      "167:\tlearn: 0.6213404\ttotal: 2.82s\tremaining: 14s\n",
      "168:\tlearn: 0.6213379\ttotal: 2.85s\tremaining: 14s\n",
      "169:\tlearn: 0.6213375\ttotal: 2.86s\tremaining: 14s\n",
      "170:\tlearn: 0.6213347\ttotal: 2.87s\tremaining: 13.9s\n",
      "171:\tlearn: 0.6213347\ttotal: 2.88s\tremaining: 13.9s\n",
      "172:\tlearn: 0.6213267\ttotal: 2.9s\tremaining: 13.9s\n",
      "173:\tlearn: 0.6213267\ttotal: 2.92s\tremaining: 13.9s\n",
      "174:\tlearn: 0.6213267\ttotal: 2.94s\tremaining: 13.9s\n",
      "175:\tlearn: 0.6213265\ttotal: 2.95s\tremaining: 13.8s\n",
      "176:\tlearn: 0.6213259\ttotal: 2.98s\tremaining: 13.8s\n",
      "177:\tlearn: 0.6213236\ttotal: 2.99s\tremaining: 13.8s\n",
      "178:\tlearn: 0.6213235\ttotal: 3s\tremaining: 13.8s\n",
      "179:\tlearn: 0.6213226\ttotal: 3.01s\tremaining: 13.7s\n",
      "180:\tlearn: 0.6213213\ttotal: 3.04s\tremaining: 13.7s\n",
      "181:\tlearn: 0.6213213\ttotal: 3.05s\tremaining: 13.7s\n",
      "182:\tlearn: 0.6213201\ttotal: 3.06s\tremaining: 13.7s\n",
      "183:\tlearn: 0.6213147\ttotal: 3.08s\tremaining: 13.6s\n",
      "184:\tlearn: 0.6213146\ttotal: 3.08s\tremaining: 13.6s\n",
      "185:\tlearn: 0.6213089\ttotal: 3.1s\tremaining: 13.6s\n",
      "186:\tlearn: 0.6213038\ttotal: 3.11s\tremaining: 13.5s\n",
      "187:\tlearn: 0.6213025\ttotal: 3.12s\tremaining: 13.5s\n",
      "188:\tlearn: 0.6213023\ttotal: 3.13s\tremaining: 13.4s\n",
      "189:\tlearn: 0.6213012\ttotal: 3.15s\tremaining: 13.4s\n",
      "190:\tlearn: 0.6213011\ttotal: 3.15s\tremaining: 13.4s\n",
      "191:\tlearn: 0.6213010\ttotal: 3.18s\tremaining: 13.4s\n",
      "192:\tlearn: 0.6213010\ttotal: 3.19s\tremaining: 13.3s\n",
      "193:\tlearn: 0.6213004\ttotal: 3.2s\tremaining: 13.3s\n",
      "194:\tlearn: 0.6213004\ttotal: 3.21s\tremaining: 13.3s\n",
      "195:\tlearn: 0.6212996\ttotal: 3.23s\tremaining: 13.2s\n",
      "196:\tlearn: 0.6212993\ttotal: 3.24s\tremaining: 13.2s\n",
      "197:\tlearn: 0.6212983\ttotal: 3.25s\tremaining: 13.2s\n",
      "198:\tlearn: 0.6212981\ttotal: 3.27s\tremaining: 13.2s\n",
      "199:\tlearn: 0.6212978\ttotal: 3.29s\tremaining: 13.2s\n",
      "200:\tlearn: 0.6212974\ttotal: 3.3s\tremaining: 13.1s\n",
      "201:\tlearn: 0.6212974\ttotal: 3.31s\tremaining: 13.1s\n",
      "202:\tlearn: 0.6212930\ttotal: 3.32s\tremaining: 13s\n",
      "203:\tlearn: 0.6212925\ttotal: 3.35s\tremaining: 13.1s\n",
      "204:\tlearn: 0.6212877\ttotal: 3.36s\tremaining: 13s\n",
      "205:\tlearn: 0.6212836\ttotal: 3.38s\tremaining: 13s\n",
      "206:\tlearn: 0.6212833\ttotal: 3.4s\tremaining: 13s\n",
      "207:\tlearn: 0.6212792\ttotal: 3.42s\tremaining: 13s\n",
      "208:\tlearn: 0.6212785\ttotal: 3.43s\tremaining: 13s\n",
      "209:\tlearn: 0.6212782\ttotal: 3.45s\tremaining: 13s\n",
      "210:\tlearn: 0.6212768\ttotal: 3.47s\tremaining: 13s\n",
      "211:\tlearn: 0.6212768\ttotal: 3.48s\tremaining: 12.9s\n",
      "212:\tlearn: 0.6212765\ttotal: 3.49s\tremaining: 12.9s\n",
      "213:\tlearn: 0.6212753\ttotal: 3.5s\tremaining: 12.9s\n",
      "214:\tlearn: 0.6212745\ttotal: 3.51s\tremaining: 12.8s\n",
      "215:\tlearn: 0.6212701\ttotal: 3.53s\tremaining: 12.8s\n",
      "216:\tlearn: 0.6212701\ttotal: 3.54s\tremaining: 12.8s\n",
      "217:\tlearn: 0.6212701\ttotal: 3.56s\tremaining: 12.8s\n",
      "218:\tlearn: 0.6212699\ttotal: 3.58s\tremaining: 12.8s\n",
      "219:\tlearn: 0.6212693\ttotal: 3.59s\tremaining: 12.7s\n",
      "220:\tlearn: 0.6212693\ttotal: 3.6s\tremaining: 12.7s\n",
      "221:\tlearn: 0.6212686\ttotal: 3.61s\tremaining: 12.7s\n",
      "222:\tlearn: 0.6212651\ttotal: 3.63s\tremaining: 12.6s\n",
      "223:\tlearn: 0.6212651\ttotal: 3.64s\tremaining: 12.6s\n",
      "224:\tlearn: 0.6212642\ttotal: 3.66s\tremaining: 12.6s\n",
      "225:\tlearn: 0.6212640\ttotal: 3.68s\tremaining: 12.6s\n",
      "226:\tlearn: 0.6212610\ttotal: 3.69s\tremaining: 12.6s\n",
      "227:\tlearn: 0.6212603\ttotal: 3.7s\tremaining: 12.5s\n",
      "228:\tlearn: 0.6212594\ttotal: 3.72s\tremaining: 12.5s\n",
      "229:\tlearn: 0.6212594\ttotal: 3.73s\tremaining: 12.5s\n",
      "230:\tlearn: 0.6212593\ttotal: 3.74s\tremaining: 12.4s\n",
      "231:\tlearn: 0.6212592\ttotal: 3.75s\tremaining: 12.4s\n",
      "232:\tlearn: 0.6212590\ttotal: 3.77s\tremaining: 12.4s\n",
      "233:\tlearn: 0.6212584\ttotal: 3.78s\tremaining: 12.4s\n",
      "234:\tlearn: 0.6212578\ttotal: 3.79s\tremaining: 12.3s\n",
      "235:\tlearn: 0.6212574\ttotal: 3.8s\tremaining: 12.3s\n",
      "236:\tlearn: 0.6212569\ttotal: 3.83s\tremaining: 12.3s\n",
      "237:\tlearn: 0.6212568\ttotal: 3.84s\tremaining: 12.3s\n",
      "238:\tlearn: 0.6212568\ttotal: 3.85s\tremaining: 12.3s\n",
      "239:\tlearn: 0.6212540\ttotal: 3.88s\tremaining: 12.3s\n",
      "240:\tlearn: 0.6212540\ttotal: 3.9s\tremaining: 12.3s\n",
      "241:\tlearn: 0.6212536\ttotal: 3.91s\tremaining: 12.2s\n",
      "242:\tlearn: 0.6212535\ttotal: 3.92s\tremaining: 12.2s\n",
      "243:\tlearn: 0.6212501\ttotal: 3.93s\tremaining: 12.2s\n",
      "244:\tlearn: 0.6212496\ttotal: 3.94s\tremaining: 12.2s\n",
      "245:\tlearn: 0.6212496\ttotal: 3.95s\tremaining: 12.1s\n",
      "246:\tlearn: 0.6212471\ttotal: 3.97s\tremaining: 12.1s\n",
      "247:\tlearn: 0.6212470\ttotal: 3.98s\tremaining: 12.1s\n",
      "248:\tlearn: 0.6212439\ttotal: 4.01s\tremaining: 12.1s\n",
      "249:\tlearn: 0.6212434\ttotal: 4.02s\tremaining: 12.1s\n",
      "250:\tlearn: 0.6212406\ttotal: 4.04s\tremaining: 12.1s\n",
      "251:\tlearn: 0.6212382\ttotal: 4.05s\tremaining: 12s\n",
      "252:\tlearn: 0.6212359\ttotal: 4.06s\tremaining: 12s\n",
      "253:\tlearn: 0.6212357\ttotal: 4.09s\tremaining: 12s\n",
      "254:\tlearn: 0.6212351\ttotal: 4.1s\tremaining: 12s\n",
      "255:\tlearn: 0.6212349\ttotal: 4.12s\tremaining: 12s\n",
      "256:\tlearn: 0.6212348\ttotal: 4.13s\tremaining: 11.9s\n",
      "257:\tlearn: 0.6212347\ttotal: 4.15s\tremaining: 11.9s\n",
      "258:\tlearn: 0.6212346\ttotal: 4.17s\tremaining: 11.9s\n",
      "259:\tlearn: 0.6212325\ttotal: 4.18s\tremaining: 11.9s\n",
      "260:\tlearn: 0.6212306\ttotal: 4.21s\tremaining: 11.9s\n",
      "261:\tlearn: 0.6212287\ttotal: 4.22s\tremaining: 11.9s\n",
      "262:\tlearn: 0.6212269\ttotal: 4.24s\tremaining: 11.9s\n",
      "263:\tlearn: 0.6212267\ttotal: 4.26s\tremaining: 11.9s\n",
      "264:\tlearn: 0.6212264\ttotal: 4.28s\tremaining: 11.9s\n",
      "265:\tlearn: 0.6212262\ttotal: 4.29s\tremaining: 11.8s\n",
      "266:\tlearn: 0.6212261\ttotal: 4.31s\tremaining: 11.8s\n",
      "267:\tlearn: 0.6212261\ttotal: 4.32s\tremaining: 11.8s\n",
      "268:\tlearn: 0.6212258\ttotal: 4.33s\tremaining: 11.8s\n",
      "269:\tlearn: 0.6212255\ttotal: 4.36s\tremaining: 11.8s\n",
      "270:\tlearn: 0.6212252\ttotal: 4.37s\tremaining: 11.8s\n",
      "271:\tlearn: 0.6212252\ttotal: 4.38s\tremaining: 11.7s\n",
      "272:\tlearn: 0.6212252\ttotal: 4.39s\tremaining: 11.7s\n",
      "273:\tlearn: 0.6212251\ttotal: 4.4s\tremaining: 11.7s\n",
      "274:\tlearn: 0.6212250\ttotal: 4.42s\tremaining: 11.6s\n",
      "275:\tlearn: 0.6212250\ttotal: 4.43s\tremaining: 11.6s\n",
      "276:\tlearn: 0.6212248\ttotal: 4.45s\tremaining: 11.6s\n",
      "277:\tlearn: 0.6212234\ttotal: 4.47s\tremaining: 11.6s\n",
      "278:\tlearn: 0.6212232\ttotal: 4.48s\tremaining: 11.6s\n",
      "279:\tlearn: 0.6212231\ttotal: 4.49s\tremaining: 11.6s\n",
      "280:\tlearn: 0.6212216\ttotal: 4.52s\tremaining: 11.6s\n",
      "281:\tlearn: 0.6212215\ttotal: 4.54s\tremaining: 11.5s\n",
      "282:\tlearn: 0.6212214\ttotal: 4.55s\tremaining: 11.5s\n",
      "283:\tlearn: 0.6212213\ttotal: 4.56s\tremaining: 11.5s\n",
      "284:\tlearn: 0.6212213\ttotal: 4.58s\tremaining: 11.5s\n",
      "285:\tlearn: 0.6212213\ttotal: 4.6s\tremaining: 11.5s\n",
      "286:\tlearn: 0.6212212\ttotal: 4.62s\tremaining: 11.5s\n",
      "287:\tlearn: 0.6212211\ttotal: 4.63s\tremaining: 11.5s\n",
      "288:\tlearn: 0.6212210\ttotal: 4.65s\tremaining: 11.4s\n",
      "289:\tlearn: 0.6212196\ttotal: 4.67s\tremaining: 11.4s\n",
      "290:\tlearn: 0.6212180\ttotal: 4.69s\tremaining: 11.4s\n",
      "291:\tlearn: 0.6212179\ttotal: 4.71s\tremaining: 11.4s\n",
      "292:\tlearn: 0.6212167\ttotal: 4.72s\tremaining: 11.4s\n",
      "293:\tlearn: 0.6212166\ttotal: 4.74s\tremaining: 11.4s\n",
      "294:\tlearn: 0.6212153\ttotal: 4.77s\tremaining: 11.4s\n",
      "295:\tlearn: 0.6212142\ttotal: 4.78s\tremaining: 11.4s\n",
      "296:\tlearn: 0.6212141\ttotal: 4.79s\tremaining: 11.3s\n",
      "297:\tlearn: 0.6212141\ttotal: 4.81s\tremaining: 11.3s\n",
      "298:\tlearn: 0.6212141\ttotal: 4.82s\tremaining: 11.3s\n",
      "299:\tlearn: 0.6212129\ttotal: 4.83s\tremaining: 11.3s\n",
      "300:\tlearn: 0.6212119\ttotal: 4.85s\tremaining: 11.3s\n",
      "301:\tlearn: 0.6212118\ttotal: 4.86s\tremaining: 11.2s\n",
      "302:\tlearn: 0.6212118\ttotal: 4.88s\tremaining: 11.2s\n",
      "303:\tlearn: 0.6212117\ttotal: 4.89s\tremaining: 11.2s\n",
      "304:\tlearn: 0.6212117\ttotal: 4.9s\tremaining: 11.2s\n",
      "305:\tlearn: 0.6212116\ttotal: 4.91s\tremaining: 11.1s\n",
      "306:\tlearn: 0.6212116\ttotal: 4.93s\tremaining: 11.1s\n",
      "307:\tlearn: 0.6212116\ttotal: 4.94s\tremaining: 11.1s\n",
      "308:\tlearn: 0.6212107\ttotal: 4.95s\tremaining: 11.1s\n",
      "309:\tlearn: 0.6212090\ttotal: 4.98s\tremaining: 11.1s\n",
      "310:\tlearn: 0.6212083\ttotal: 5s\tremaining: 11.1s\n",
      "311:\tlearn: 0.6212076\ttotal: 5.01s\tremaining: 11s\n",
      "312:\tlearn: 0.6212076\ttotal: 5.04s\tremaining: 11.1s\n",
      "313:\tlearn: 0.6212068\ttotal: 5.05s\tremaining: 11s\n",
      "314:\tlearn: 0.6212060\ttotal: 5.06s\tremaining: 11s\n",
      "315:\tlearn: 0.6212060\ttotal: 5.08s\tremaining: 11s\n",
      "316:\tlearn: 0.6212059\ttotal: 5.09s\tremaining: 11s\n",
      "317:\tlearn: 0.6212059\ttotal: 5.11s\tremaining: 10.9s\n",
      "318:\tlearn: 0.6212052\ttotal: 5.12s\tremaining: 10.9s\n"
     ]
    },
    {
     "name": "stdout",
     "output_type": "stream",
     "text": [
      "319:\tlearn: 0.6212052\ttotal: 5.13s\tremaining: 10.9s\n",
      "320:\tlearn: 0.6212047\ttotal: 5.16s\tremaining: 10.9s\n",
      "321:\tlearn: 0.6212046\ttotal: 5.17s\tremaining: 10.9s\n",
      "322:\tlearn: 0.6212040\ttotal: 5.18s\tremaining: 10.9s\n",
      "323:\tlearn: 0.6212040\ttotal: 5.2s\tremaining: 10.8s\n",
      "324:\tlearn: 0.6212039\ttotal: 5.22s\tremaining: 10.8s\n",
      "325:\tlearn: 0.6212039\ttotal: 5.23s\tremaining: 10.8s\n",
      "326:\tlearn: 0.6212039\ttotal: 5.25s\tremaining: 10.8s\n",
      "327:\tlearn: 0.6212039\ttotal: 5.27s\tremaining: 10.8s\n",
      "328:\tlearn: 0.6212038\ttotal: 5.29s\tremaining: 10.8s\n",
      "329:\tlearn: 0.6212038\ttotal: 5.3s\tremaining: 10.8s\n",
      "330:\tlearn: 0.6212038\ttotal: 5.31s\tremaining: 10.7s\n",
      "331:\tlearn: 0.6212038\ttotal: 5.34s\tremaining: 10.7s\n",
      "332:\tlearn: 0.6212032\ttotal: 5.35s\tremaining: 10.7s\n",
      "333:\tlearn: 0.6212032\ttotal: 5.36s\tremaining: 10.7s\n",
      "334:\tlearn: 0.6212032\ttotal: 5.38s\tremaining: 10.7s\n",
      "335:\tlearn: 0.6212032\ttotal: 5.39s\tremaining: 10.6s\n",
      "336:\tlearn: 0.6212027\ttotal: 5.4s\tremaining: 10.6s\n",
      "337:\tlearn: 0.6212027\ttotal: 5.41s\tremaining: 10.6s\n",
      "338:\tlearn: 0.6212026\ttotal: 5.43s\tremaining: 10.6s\n",
      "339:\tlearn: 0.6212026\ttotal: 5.44s\tremaining: 10.6s\n",
      "340:\tlearn: 0.6212026\ttotal: 5.45s\tremaining: 10.5s\n",
      "341:\tlearn: 0.6212026\ttotal: 5.46s\tremaining: 10.5s\n",
      "342:\tlearn: 0.6212026\ttotal: 5.48s\tremaining: 10.5s\n",
      "343:\tlearn: 0.6212022\ttotal: 5.49s\tremaining: 10.5s\n",
      "344:\tlearn: 0.6212021\ttotal: 5.5s\tremaining: 10.4s\n",
      "345:\tlearn: 0.6212021\ttotal: 5.52s\tremaining: 10.4s\n",
      "346:\tlearn: 0.6212018\ttotal: 5.53s\tremaining: 10.4s\n",
      "347:\tlearn: 0.6212015\ttotal: 5.54s\tremaining: 10.4s\n",
      "348:\tlearn: 0.6212015\ttotal: 5.55s\tremaining: 10.4s\n",
      "349:\tlearn: 0.6212007\ttotal: 5.58s\tremaining: 10.4s\n",
      "350:\tlearn: 0.6212007\ttotal: 5.59s\tremaining: 10.3s\n",
      "351:\tlearn: 0.6212007\ttotal: 5.6s\tremaining: 10.3s\n",
      "352:\tlearn: 0.6212007\ttotal: 5.62s\tremaining: 10.3s\n",
      "353:\tlearn: 0.6212004\ttotal: 5.63s\tremaining: 10.3s\n",
      "354:\tlearn: 0.6212000\ttotal: 5.64s\tremaining: 10.2s\n",
      "355:\tlearn: 0.6211999\ttotal: 5.65s\tremaining: 10.2s\n",
      "356:\tlearn: 0.6211999\ttotal: 5.68s\tremaining: 10.2s\n",
      "357:\tlearn: 0.6211999\ttotal: 5.69s\tremaining: 10.2s\n",
      "358:\tlearn: 0.6211999\ttotal: 5.7s\tremaining: 10.2s\n",
      "359:\tlearn: 0.6211995\ttotal: 5.71s\tremaining: 10.2s\n",
      "360:\tlearn: 0.6211995\ttotal: 5.73s\tremaining: 10.1s\n",
      "361:\tlearn: 0.6211995\ttotal: 5.75s\tremaining: 10.1s\n",
      "362:\tlearn: 0.6211995\ttotal: 5.77s\tremaining: 10.1s\n",
      "363:\tlearn: 0.6211995\ttotal: 5.78s\tremaining: 10.1s\n",
      "364:\tlearn: 0.6211994\ttotal: 5.79s\tremaining: 10.1s\n",
      "365:\tlearn: 0.6211994\ttotal: 5.81s\tremaining: 10.1s\n",
      "366:\tlearn: 0.6211992\ttotal: 5.82s\tremaining: 10s\n",
      "367:\tlearn: 0.6211992\ttotal: 5.83s\tremaining: 10s\n",
      "368:\tlearn: 0.6211988\ttotal: 5.86s\tremaining: 10s\n",
      "369:\tlearn: 0.6211988\ttotal: 5.87s\tremaining: 10s\n",
      "370:\tlearn: 0.6211988\ttotal: 5.88s\tremaining: 9.98s\n",
      "371:\tlearn: 0.6211988\ttotal: 5.9s\tremaining: 9.96s\n",
      "372:\tlearn: 0.6211985\ttotal: 5.91s\tremaining: 9.94s\n",
      "373:\tlearn: 0.6211985\ttotal: 5.93s\tremaining: 9.92s\n",
      "374:\tlearn: 0.6211983\ttotal: 5.96s\tremaining: 9.94s\n",
      "375:\tlearn: 0.6211983\ttotal: 5.97s\tremaining: 9.92s\n",
      "376:\tlearn: 0.6211982\ttotal: 6s\tremaining: 9.92s\n",
      "377:\tlearn: 0.6211982\ttotal: 6.02s\tremaining: 9.9s\n",
      "378:\tlearn: 0.6211982\ttotal: 6.03s\tremaining: 9.88s\n",
      "379:\tlearn: 0.6211982\ttotal: 6.04s\tremaining: 9.86s\n",
      "380:\tlearn: 0.6211981\ttotal: 6.05s\tremaining: 9.83s\n",
      "381:\tlearn: 0.6211981\ttotal: 6.07s\tremaining: 9.81s\n",
      "382:\tlearn: 0.6211981\ttotal: 6.08s\tremaining: 9.79s\n",
      "383:\tlearn: 0.6211981\ttotal: 6.11s\tremaining: 9.79s\n",
      "384:\tlearn: 0.6211980\ttotal: 6.12s\tremaining: 9.78s\n",
      "385:\tlearn: 0.6211980\ttotal: 6.13s\tremaining: 9.75s\n",
      "386:\tlearn: 0.6211977\ttotal: 6.15s\tremaining: 9.74s\n",
      "387:\tlearn: 0.6211977\ttotal: 6.16s\tremaining: 9.72s\n",
      "388:\tlearn: 0.6211977\ttotal: 6.17s\tremaining: 9.7s\n",
      "389:\tlearn: 0.6211977\ttotal: 6.2s\tremaining: 9.7s\n",
      "390:\tlearn: 0.6211977\ttotal: 6.21s\tremaining: 9.68s\n",
      "391:\tlearn: 0.6211977\ttotal: 6.23s\tremaining: 9.66s\n",
      "392:\tlearn: 0.6211977\ttotal: 6.24s\tremaining: 9.63s\n",
      "393:\tlearn: 0.6211977\ttotal: 6.26s\tremaining: 9.64s\n",
      "394:\tlearn: 0.6211974\ttotal: 6.28s\tremaining: 9.62s\n",
      "395:\tlearn: 0.6211973\ttotal: 6.29s\tremaining: 9.6s\n",
      "396:\tlearn: 0.6211972\ttotal: 6.3s\tremaining: 9.58s\n",
      "397:\tlearn: 0.6211972\ttotal: 6.32s\tremaining: 9.55s\n",
      "398:\tlearn: 0.6211972\ttotal: 6.33s\tremaining: 9.53s\n",
      "399:\tlearn: 0.6211972\ttotal: 6.34s\tremaining: 9.51s\n",
      "400:\tlearn: 0.6211971\ttotal: 6.37s\tremaining: 9.51s\n",
      "401:\tlearn: 0.6211971\ttotal: 6.38s\tremaining: 9.49s\n",
      "402:\tlearn: 0.6211971\ttotal: 6.41s\tremaining: 9.49s\n",
      "403:\tlearn: 0.6211971\ttotal: 6.42s\tremaining: 9.47s\n",
      "404:\tlearn: 0.6211971\ttotal: 6.43s\tremaining: 9.46s\n",
      "405:\tlearn: 0.6211970\ttotal: 6.46s\tremaining: 9.45s\n",
      "406:\tlearn: 0.6211970\ttotal: 6.48s\tremaining: 9.44s\n",
      "407:\tlearn: 0.6211970\ttotal: 6.49s\tremaining: 9.41s\n",
      "408:\tlearn: 0.6211968\ttotal: 6.5s\tremaining: 9.39s\n",
      "409:\tlearn: 0.6211968\ttotal: 6.51s\tremaining: 9.37s\n",
      "410:\tlearn: 0.6211968\ttotal: 6.53s\tremaining: 9.35s\n",
      "411:\tlearn: 0.6211968\ttotal: 6.54s\tremaining: 9.33s\n",
      "412:\tlearn: 0.6211968\ttotal: 6.55s\tremaining: 9.31s\n",
      "413:\tlearn: 0.6211967\ttotal: 6.58s\tremaining: 9.31s\n",
      "414:\tlearn: 0.6211967\ttotal: 6.59s\tremaining: 9.29s\n",
      "415:\tlearn: 0.6211967\ttotal: 6.6s\tremaining: 9.27s\n",
      "416:\tlearn: 0.6211967\ttotal: 6.62s\tremaining: 9.26s\n",
      "417:\tlearn: 0.6211965\ttotal: 6.63s\tremaining: 9.23s\n",
      "418:\tlearn: 0.6211965\ttotal: 6.66s\tremaining: 9.23s\n",
      "419:\tlearn: 0.6211965\ttotal: 6.67s\tremaining: 9.21s\n",
      "420:\tlearn: 0.6211965\ttotal: 6.69s\tremaining: 9.2s\n",
      "421:\tlearn: 0.6211965\ttotal: 6.7s\tremaining: 9.18s\n",
      "422:\tlearn: 0.6211965\ttotal: 6.71s\tremaining: 9.16s\n",
      "423:\tlearn: 0.6211965\ttotal: 6.73s\tremaining: 9.15s\n",
      "424:\tlearn: 0.6211965\ttotal: 6.75s\tremaining: 9.13s\n",
      "425:\tlearn: 0.6211965\ttotal: 6.76s\tremaining: 9.11s\n",
      "426:\tlearn: 0.6211965\ttotal: 6.77s\tremaining: 9.09s\n",
      "427:\tlearn: 0.6211965\ttotal: 6.78s\tremaining: 9.07s\n",
      "428:\tlearn: 0.6211965\ttotal: 6.81s\tremaining: 9.06s\n",
      "429:\tlearn: 0.6211965\ttotal: 6.82s\tremaining: 9.04s\n",
      "430:\tlearn: 0.6211965\ttotal: 6.84s\tremaining: 9.03s\n",
      "431:\tlearn: 0.6211965\ttotal: 6.86s\tremaining: 9.02s\n",
      "432:\tlearn: 0.6211965\ttotal: 6.88s\tremaining: 9.01s\n",
      "433:\tlearn: 0.6211965\ttotal: 6.89s\tremaining: 8.99s\n",
      "434:\tlearn: 0.6211965\ttotal: 6.9s\tremaining: 8.97s\n",
      "435:\tlearn: 0.6211965\ttotal: 6.93s\tremaining: 8.96s\n",
      "436:\tlearn: 0.6211965\ttotal: 6.94s\tremaining: 8.94s\n",
      "437:\tlearn: 0.6211963\ttotal: 6.95s\tremaining: 8.92s\n",
      "438:\tlearn: 0.6211963\ttotal: 6.96s\tremaining: 8.9s\n",
      "439:\tlearn: 0.6211963\ttotal: 7s\tremaining: 8.9s\n",
      "440:\tlearn: 0.6211963\ttotal: 7.01s\tremaining: 8.89s\n",
      "441:\tlearn: 0.6211963\ttotal: 7.02s\tremaining: 8.86s\n",
      "442:\tlearn: 0.6211963\ttotal: 7.04s\tremaining: 8.86s\n",
      "443:\tlearn: 0.6211963\ttotal: 7.06s\tremaining: 8.84s\n",
      "444:\tlearn: 0.6211963\ttotal: 7.07s\tremaining: 8.82s\n",
      "445:\tlearn: 0.6211963\ttotal: 7.1s\tremaining: 8.82s\n",
      "446:\tlearn: 0.6211963\ttotal: 7.11s\tremaining: 8.8s\n",
      "447:\tlearn: 0.6211963\ttotal: 7.14s\tremaining: 8.8s\n",
      "448:\tlearn: 0.6211963\ttotal: 7.16s\tremaining: 8.78s\n",
      "449:\tlearn: 0.6211963\ttotal: 7.17s\tremaining: 8.76s\n",
      "450:\tlearn: 0.6211963\ttotal: 7.2s\tremaining: 8.76s\n",
      "451:\tlearn: 0.6211963\ttotal: 7.21s\tremaining: 8.74s\n",
      "452:\tlearn: 0.6211963\ttotal: 7.22s\tremaining: 8.72s\n",
      "453:\tlearn: 0.6211963\ttotal: 7.25s\tremaining: 8.72s\n",
      "454:\tlearn: 0.6211963\ttotal: 7.27s\tremaining: 8.7s\n",
      "455:\tlearn: 0.6211963\ttotal: 7.28s\tremaining: 8.69s\n",
      "456:\tlearn: 0.6211962\ttotal: 7.29s\tremaining: 8.66s\n",
      "457:\tlearn: 0.6211962\ttotal: 7.31s\tremaining: 8.65s\n",
      "458:\tlearn: 0.6211962\ttotal: 7.33s\tremaining: 8.64s\n",
      "459:\tlearn: 0.6211962\ttotal: 7.35s\tremaining: 8.62s\n",
      "460:\tlearn: 0.6211962\ttotal: 7.36s\tremaining: 8.61s\n",
      "461:\tlearn: 0.6211962\ttotal: 7.38s\tremaining: 8.59s\n",
      "462:\tlearn: 0.6211962\ttotal: 7.39s\tremaining: 8.57s\n",
      "463:\tlearn: 0.6211960\ttotal: 7.42s\tremaining: 8.57s\n",
      "464:\tlearn: 0.6211960\ttotal: 7.43s\tremaining: 8.55s\n",
      "465:\tlearn: 0.6211960\ttotal: 7.45s\tremaining: 8.53s\n",
      "466:\tlearn: 0.6211960\ttotal: 7.46s\tremaining: 8.52s\n",
      "467:\tlearn: 0.6211959\ttotal: 7.49s\tremaining: 8.52s\n",
      "468:\tlearn: 0.6211959\ttotal: 7.51s\tremaining: 8.5s\n",
      "469:\tlearn: 0.6211959\ttotal: 7.52s\tremaining: 8.48s\n",
      "470:\tlearn: 0.6211959\ttotal: 7.54s\tremaining: 8.47s\n",
      "471:\tlearn: 0.6211959\ttotal: 7.56s\tremaining: 8.46s\n",
      "472:\tlearn: 0.6211958\ttotal: 7.58s\tremaining: 8.44s\n",
      "473:\tlearn: 0.6211958\ttotal: 7.59s\tremaining: 8.42s\n",
      "474:\tlearn: 0.6211958\ttotal: 7.6s\tremaining: 8.4s\n",
      "475:\tlearn: 0.6211956\ttotal: 7.62s\tremaining: 8.38s\n",
      "476:\tlearn: 0.6211956\ttotal: 7.64s\tremaining: 8.38s\n",
      "477:\tlearn: 0.6211956\ttotal: 7.66s\tremaining: 8.36s\n"
     ]
    },
    {
     "name": "stdout",
     "output_type": "stream",
     "text": [
      "478:\tlearn: 0.6211956\ttotal: 7.67s\tremaining: 8.34s\n",
      "479:\tlearn: 0.6211956\ttotal: 7.68s\tremaining: 8.32s\n",
      "480:\tlearn: 0.6211956\ttotal: 7.7s\tremaining: 8.3s\n",
      "481:\tlearn: 0.6211956\ttotal: 7.72s\tremaining: 8.29s\n",
      "482:\tlearn: 0.6211956\ttotal: 7.73s\tremaining: 8.28s\n",
      "483:\tlearn: 0.6211956\ttotal: 7.74s\tremaining: 8.25s\n",
      "484:\tlearn: 0.6211956\ttotal: 7.76s\tremaining: 8.24s\n",
      "485:\tlearn: 0.6211956\ttotal: 7.77s\tremaining: 8.21s\n",
      "486:\tlearn: 0.6211956\ttotal: 7.78s\tremaining: 8.2s\n",
      "487:\tlearn: 0.6211955\ttotal: 7.79s\tremaining: 8.18s\n",
      "488:\tlearn: 0.6211955\ttotal: 7.81s\tremaining: 8.16s\n",
      "489:\tlearn: 0.6211955\ttotal: 7.82s\tremaining: 8.14s\n",
      "490:\tlearn: 0.6211955\ttotal: 7.83s\tremaining: 8.12s\n",
      "491:\tlearn: 0.6211955\ttotal: 7.85s\tremaining: 8.11s\n",
      "492:\tlearn: 0.6211955\ttotal: 7.86s\tremaining: 8.08s\n",
      "493:\tlearn: 0.6211955\ttotal: 7.87s\tremaining: 8.06s\n",
      "494:\tlearn: 0.6211955\ttotal: 7.88s\tremaining: 8.04s\n",
      "495:\tlearn: 0.6211955\ttotal: 7.9s\tremaining: 8.02s\n",
      "496:\tlearn: 0.6211955\ttotal: 7.91s\tremaining: 8s\n",
      "497:\tlearn: 0.6211954\ttotal: 7.92s\tremaining: 7.98s\n",
      "498:\tlearn: 0.6211954\ttotal: 7.93s\tremaining: 7.96s\n",
      "499:\tlearn: 0.6211953\ttotal: 7.95s\tremaining: 7.95s\n",
      "500:\tlearn: 0.6211953\ttotal: 7.97s\tremaining: 7.94s\n",
      "501:\tlearn: 0.6211953\ttotal: 7.98s\tremaining: 7.92s\n",
      "502:\tlearn: 0.6211953\ttotal: 8.01s\tremaining: 7.91s\n",
      "503:\tlearn: 0.6211953\ttotal: 8.02s\tremaining: 7.9s\n",
      "504:\tlearn: 0.6211953\ttotal: 8.04s\tremaining: 7.88s\n",
      "505:\tlearn: 0.6211953\ttotal: 8.05s\tremaining: 7.86s\n",
      "506:\tlearn: 0.6211953\ttotal: 8.07s\tremaining: 7.84s\n",
      "507:\tlearn: 0.6211953\ttotal: 8.08s\tremaining: 7.83s\n",
      "508:\tlearn: 0.6211953\ttotal: 8.1s\tremaining: 7.81s\n",
      "509:\tlearn: 0.6211953\ttotal: 8.11s\tremaining: 7.79s\n",
      "510:\tlearn: 0.6211952\ttotal: 8.12s\tremaining: 7.77s\n",
      "511:\tlearn: 0.6211951\ttotal: 8.13s\tremaining: 7.75s\n",
      "512:\tlearn: 0.6211951\ttotal: 8.14s\tremaining: 7.73s\n",
      "513:\tlearn: 0.6211950\ttotal: 8.16s\tremaining: 7.71s\n",
      "514:\tlearn: 0.6211950\ttotal: 8.17s\tremaining: 7.7s\n",
      "515:\tlearn: 0.6211950\ttotal: 8.2s\tremaining: 7.69s\n",
      "516:\tlearn: 0.6211950\ttotal: 8.21s\tremaining: 7.67s\n",
      "517:\tlearn: 0.6211949\ttotal: 8.23s\tremaining: 7.66s\n",
      "518:\tlearn: 0.6211949\ttotal: 8.24s\tremaining: 7.64s\n",
      "519:\tlearn: 0.6211949\ttotal: 8.26s\tremaining: 7.62s\n",
      "520:\tlearn: 0.6211949\ttotal: 8.27s\tremaining: 7.6s\n",
      "521:\tlearn: 0.6211949\ttotal: 8.28s\tremaining: 7.58s\n",
      "522:\tlearn: 0.6211949\ttotal: 8.29s\tremaining: 7.56s\n",
      "523:\tlearn: 0.6211948\ttotal: 8.31s\tremaining: 7.55s\n",
      "524:\tlearn: 0.6211948\ttotal: 8.32s\tremaining: 7.53s\n",
      "525:\tlearn: 0.6211947\ttotal: 8.35s\tremaining: 7.52s\n",
      "526:\tlearn: 0.6211947\ttotal: 8.36s\tremaining: 7.51s\n",
      "527:\tlearn: 0.6211947\ttotal: 8.38s\tremaining: 7.49s\n",
      "528:\tlearn: 0.6211947\ttotal: 8.39s\tremaining: 7.47s\n",
      "529:\tlearn: 0.6211947\ttotal: 8.41s\tremaining: 7.46s\n",
      "530:\tlearn: 0.6211946\ttotal: 8.44s\tremaining: 7.45s\n",
      "531:\tlearn: 0.6211946\ttotal: 8.45s\tremaining: 7.43s\n",
      "532:\tlearn: 0.6211946\ttotal: 8.46s\tremaining: 7.41s\n",
      "533:\tlearn: 0.6211946\ttotal: 8.47s\tremaining: 7.39s\n",
      "534:\tlearn: 0.6211946\ttotal: 8.49s\tremaining: 7.38s\n",
      "535:\tlearn: 0.6211946\ttotal: 8.5s\tremaining: 7.36s\n",
      "536:\tlearn: 0.6211946\ttotal: 8.51s\tremaining: 7.34s\n",
      "537:\tlearn: 0.6211946\ttotal: 8.53s\tremaining: 7.32s\n",
      "538:\tlearn: 0.6211946\ttotal: 8.54s\tremaining: 7.3s\n",
      "539:\tlearn: 0.6211945\ttotal: 8.55s\tremaining: 7.28s\n",
      "540:\tlearn: 0.6211945\ttotal: 8.56s\tremaining: 7.27s\n",
      "541:\tlearn: 0.6211945\ttotal: 8.58s\tremaining: 7.25s\n",
      "542:\tlearn: 0.6211945\ttotal: 8.61s\tremaining: 7.24s\n",
      "543:\tlearn: 0.6211945\ttotal: 8.62s\tremaining: 7.23s\n",
      "544:\tlearn: 0.6211945\ttotal: 8.63s\tremaining: 7.21s\n",
      "545:\tlearn: 0.6211945\ttotal: 8.65s\tremaining: 7.19s\n",
      "546:\tlearn: 0.6211944\ttotal: 8.66s\tremaining: 7.17s\n",
      "547:\tlearn: 0.6211944\ttotal: 8.67s\tremaining: 7.15s\n",
      "548:\tlearn: 0.6211944\ttotal: 8.7s\tremaining: 7.14s\n",
      "549:\tlearn: 0.6211944\ttotal: 8.71s\tremaining: 7.13s\n",
      "550:\tlearn: 0.6211944\ttotal: 8.72s\tremaining: 7.11s\n",
      "551:\tlearn: 0.6211944\ttotal: 8.74s\tremaining: 7.09s\n",
      "552:\tlearn: 0.6211944\ttotal: 8.75s\tremaining: 7.08s\n",
      "553:\tlearn: 0.6211944\ttotal: 8.77s\tremaining: 7.06s\n",
      "554:\tlearn: 0.6211944\ttotal: 8.79s\tremaining: 7.05s\n",
      "555:\tlearn: 0.6211944\ttotal: 8.8s\tremaining: 7.03s\n",
      "556:\tlearn: 0.6211944\ttotal: 8.82s\tremaining: 7.01s\n",
      "557:\tlearn: 0.6211944\ttotal: 8.83s\tremaining: 6.99s\n",
      "558:\tlearn: 0.6211944\ttotal: 8.84s\tremaining: 6.98s\n",
      "559:\tlearn: 0.6211944\ttotal: 8.86s\tremaining: 6.96s\n",
      "560:\tlearn: 0.6211944\ttotal: 8.88s\tremaining: 6.95s\n",
      "561:\tlearn: 0.6211944\ttotal: 8.89s\tremaining: 6.93s\n",
      "562:\tlearn: 0.6211944\ttotal: 8.9s\tremaining: 6.91s\n",
      "563:\tlearn: 0.6211944\ttotal: 8.93s\tremaining: 6.9s\n",
      "564:\tlearn: 0.6211944\ttotal: 8.94s\tremaining: 6.88s\n",
      "565:\tlearn: 0.6211944\ttotal: 8.95s\tremaining: 6.87s\n",
      "566:\tlearn: 0.6211944\ttotal: 8.96s\tremaining: 6.84s\n",
      "567:\tlearn: 0.6211944\ttotal: 8.99s\tremaining: 6.84s\n",
      "568:\tlearn: 0.6211944\ttotal: 9s\tremaining: 6.82s\n",
      "569:\tlearn: 0.6211944\ttotal: 9.02s\tremaining: 6.8s\n",
      "570:\tlearn: 0.6211944\ttotal: 9.03s\tremaining: 6.78s\n",
      "571:\tlearn: 0.6211944\ttotal: 9.06s\tremaining: 6.78s\n",
      "572:\tlearn: 0.6211944\ttotal: 9.07s\tremaining: 6.76s\n",
      "573:\tlearn: 0.6211944\ttotal: 9.08s\tremaining: 6.74s\n",
      "574:\tlearn: 0.6211944\ttotal: 9.1s\tremaining: 6.72s\n",
      "575:\tlearn: 0.6211944\ttotal: 9.11s\tremaining: 6.7s\n",
      "576:\tlearn: 0.6211944\ttotal: 9.12s\tremaining: 6.68s\n",
      "577:\tlearn: 0.6211944\ttotal: 9.13s\tremaining: 6.67s\n",
      "578:\tlearn: 0.6211944\ttotal: 9.14s\tremaining: 6.65s\n",
      "579:\tlearn: 0.6211944\ttotal: 9.16s\tremaining: 6.63s\n",
      "580:\tlearn: 0.6211944\ttotal: 9.17s\tremaining: 6.61s\n",
      "581:\tlearn: 0.6211944\ttotal: 9.18s\tremaining: 6.59s\n",
      "582:\tlearn: 0.6211944\ttotal: 9.2s\tremaining: 6.58s\n",
      "583:\tlearn: 0.6211944\ttotal: 9.21s\tremaining: 6.56s\n",
      "584:\tlearn: 0.6211943\ttotal: 9.23s\tremaining: 6.55s\n",
      "585:\tlearn: 0.6211943\ttotal: 9.24s\tremaining: 6.53s\n",
      "586:\tlearn: 0.6211943\ttotal: 9.26s\tremaining: 6.51s\n",
      "587:\tlearn: 0.6211943\ttotal: 9.27s\tremaining: 6.49s\n",
      "588:\tlearn: 0.6211942\ttotal: 9.28s\tremaining: 6.48s\n",
      "589:\tlearn: 0.6211942\ttotal: 9.3s\tremaining: 6.46s\n",
      "590:\tlearn: 0.6211942\ttotal: 9.32s\tremaining: 6.45s\n",
      "591:\tlearn: 0.6211942\ttotal: 9.33s\tremaining: 6.43s\n",
      "592:\tlearn: 0.6211942\ttotal: 9.34s\tremaining: 6.41s\n",
      "593:\tlearn: 0.6211942\ttotal: 9.35s\tremaining: 6.39s\n",
      "594:\tlearn: 0.6211942\ttotal: 9.38s\tremaining: 6.38s\n",
      "595:\tlearn: 0.6211942\ttotal: 9.39s\tremaining: 6.37s\n",
      "596:\tlearn: 0.6211942\ttotal: 9.4s\tremaining: 6.35s\n",
      "597:\tlearn: 0.6211942\ttotal: 9.42s\tremaining: 6.33s\n",
      "598:\tlearn: 0.6211942\ttotal: 9.43s\tremaining: 6.31s\n",
      "599:\tlearn: 0.6211942\ttotal: 9.44s\tremaining: 6.29s\n",
      "600:\tlearn: 0.6211942\ttotal: 9.45s\tremaining: 6.28s\n",
      "601:\tlearn: 0.6211942\ttotal: 9.46s\tremaining: 6.25s\n",
      "602:\tlearn: 0.6211942\ttotal: 9.49s\tremaining: 6.25s\n",
      "603:\tlearn: 0.6211942\ttotal: 9.5s\tremaining: 6.23s\n",
      "604:\tlearn: 0.6211942\ttotal: 9.51s\tremaining: 6.21s\n",
      "605:\tlearn: 0.6211942\ttotal: 9.54s\tremaining: 6.2s\n",
      "606:\tlearn: 0.6211942\ttotal: 9.55s\tremaining: 6.18s\n",
      "607:\tlearn: 0.6211942\ttotal: 9.56s\tremaining: 6.17s\n",
      "608:\tlearn: 0.6211942\ttotal: 9.58s\tremaining: 6.15s\n",
      "609:\tlearn: 0.6211942\ttotal: 9.6s\tremaining: 6.14s\n",
      "610:\tlearn: 0.6211942\ttotal: 9.62s\tremaining: 6.12s\n",
      "611:\tlearn: 0.6211942\ttotal: 9.63s\tremaining: 6.1s\n",
      "612:\tlearn: 0.6211942\ttotal: 9.64s\tremaining: 6.09s\n",
      "613:\tlearn: 0.6211942\ttotal: 9.66s\tremaining: 6.07s\n",
      "614:\tlearn: 0.6211942\ttotal: 9.67s\tremaining: 6.05s\n",
      "615:\tlearn: 0.6211942\ttotal: 9.68s\tremaining: 6.04s\n",
      "616:\tlearn: 0.6211942\ttotal: 9.69s\tremaining: 6.02s\n",
      "617:\tlearn: 0.6211942\ttotal: 9.72s\tremaining: 6.01s\n",
      "618:\tlearn: 0.6211942\ttotal: 9.73s\tremaining: 5.99s\n",
      "619:\tlearn: 0.6211942\ttotal: 9.75s\tremaining: 5.97s\n",
      "620:\tlearn: 0.6211942\ttotal: 9.76s\tremaining: 5.96s\n",
      "621:\tlearn: 0.6211942\ttotal: 9.77s\tremaining: 5.94s\n",
      "622:\tlearn: 0.6211942\ttotal: 9.78s\tremaining: 5.92s\n",
      "623:\tlearn: 0.6211942\ttotal: 9.8s\tremaining: 5.9s\n",
      "624:\tlearn: 0.6211942\ttotal: 9.81s\tremaining: 5.88s\n",
      "625:\tlearn: 0.6211942\ttotal: 9.82s\tremaining: 5.87s\n",
      "626:\tlearn: 0.6211942\ttotal: 9.84s\tremaining: 5.86s\n",
      "627:\tlearn: 0.6211942\ttotal: 9.86s\tremaining: 5.84s\n",
      "628:\tlearn: 0.6211942\ttotal: 9.87s\tremaining: 5.82s\n",
      "629:\tlearn: 0.6211942\ttotal: 9.88s\tremaining: 5.8s\n",
      "630:\tlearn: 0.6211942\ttotal: 9.89s\tremaining: 5.79s\n",
      "631:\tlearn: 0.6211942\ttotal: 9.92s\tremaining: 5.77s\n",
      "632:\tlearn: 0.6211942\ttotal: 9.93s\tremaining: 5.76s\n",
      "633:\tlearn: 0.6211942\ttotal: 9.94s\tremaining: 5.74s\n",
      "634:\tlearn: 0.6211942\ttotal: 9.97s\tremaining: 5.73s\n",
      "635:\tlearn: 0.6211942\ttotal: 9.98s\tremaining: 5.71s\n",
      "636:\tlearn: 0.6211942\ttotal: 10s\tremaining: 5.7s\n"
     ]
    },
    {
     "name": "stdout",
     "output_type": "stream",
     "text": [
      "637:\tlearn: 0.6211942\ttotal: 10s\tremaining: 5.69s\n",
      "638:\tlearn: 0.6211942\ttotal: 10s\tremaining: 5.67s\n",
      "639:\tlearn: 0.6211942\ttotal: 10s\tremaining: 5.65s\n",
      "640:\tlearn: 0.6211942\ttotal: 10.1s\tremaining: 5.64s\n",
      "641:\tlearn: 0.6211942\ttotal: 10.1s\tremaining: 5.62s\n",
      "642:\tlearn: 0.6211942\ttotal: 10.1s\tremaining: 5.61s\n",
      "643:\tlearn: 0.6211942\ttotal: 10.1s\tremaining: 5.59s\n",
      "644:\tlearn: 0.6211942\ttotal: 10.1s\tremaining: 5.58s\n",
      "645:\tlearn: 0.6211942\ttotal: 10.1s\tremaining: 5.56s\n",
      "646:\tlearn: 0.6211942\ttotal: 10.2s\tremaining: 5.54s\n",
      "647:\tlearn: 0.6211942\ttotal: 10.2s\tremaining: 5.52s\n",
      "648:\tlearn: 0.6211942\ttotal: 10.2s\tremaining: 5.51s\n",
      "649:\tlearn: 0.6211942\ttotal: 10.2s\tremaining: 5.5s\n",
      "650:\tlearn: 0.6211942\ttotal: 10.2s\tremaining: 5.48s\n",
      "651:\tlearn: 0.6211942\ttotal: 10.2s\tremaining: 5.46s\n",
      "652:\tlearn: 0.6211942\ttotal: 10.2s\tremaining: 5.44s\n",
      "653:\tlearn: 0.6211942\ttotal: 10.3s\tremaining: 5.42s\n",
      "654:\tlearn: 0.6211942\ttotal: 10.3s\tremaining: 5.41s\n",
      "655:\tlearn: 0.6211942\ttotal: 10.3s\tremaining: 5.39s\n",
      "656:\tlearn: 0.6211942\ttotal: 10.3s\tremaining: 5.37s\n",
      "657:\tlearn: 0.6211942\ttotal: 10.3s\tremaining: 5.35s\n",
      "658:\tlearn: 0.6211942\ttotal: 10.3s\tremaining: 5.33s\n",
      "659:\tlearn: 0.6211942\ttotal: 10.3s\tremaining: 5.32s\n",
      "660:\tlearn: 0.6211942\ttotal: 10.3s\tremaining: 5.3s\n",
      "661:\tlearn: 0.6211942\ttotal: 10.3s\tremaining: 5.28s\n",
      "662:\tlearn: 0.6211942\ttotal: 10.4s\tremaining: 5.26s\n",
      "663:\tlearn: 0.6211942\ttotal: 10.4s\tremaining: 5.25s\n",
      "664:\tlearn: 0.6211942\ttotal: 10.4s\tremaining: 5.23s\n",
      "665:\tlearn: 0.6211942\ttotal: 10.4s\tremaining: 5.22s\n",
      "666:\tlearn: 0.6211942\ttotal: 10.4s\tremaining: 5.21s\n",
      "667:\tlearn: 0.6211942\ttotal: 10.4s\tremaining: 5.19s\n",
      "668:\tlearn: 0.6211942\ttotal: 10.4s\tremaining: 5.17s\n",
      "669:\tlearn: 0.6211942\ttotal: 10.5s\tremaining: 5.15s\n",
      "670:\tlearn: 0.6211942\ttotal: 10.5s\tremaining: 5.13s\n",
      "671:\tlearn: 0.6211942\ttotal: 10.5s\tremaining: 5.12s\n",
      "672:\tlearn: 0.6211942\ttotal: 10.5s\tremaining: 5.1s\n",
      "673:\tlearn: 0.6211942\ttotal: 10.5s\tremaining: 5.08s\n",
      "674:\tlearn: 0.6211942\ttotal: 10.5s\tremaining: 5.07s\n",
      "675:\tlearn: 0.6211942\ttotal: 10.6s\tremaining: 5.06s\n",
      "676:\tlearn: 0.6211942\ttotal: 10.6s\tremaining: 5.04s\n",
      "677:\tlearn: 0.6211942\ttotal: 10.6s\tremaining: 5.02s\n",
      "678:\tlearn: 0.6211942\ttotal: 10.6s\tremaining: 5.01s\n",
      "679:\tlearn: 0.6211942\ttotal: 10.6s\tremaining: 4.99s\n",
      "680:\tlearn: 0.6211942\ttotal: 10.6s\tremaining: 4.97s\n",
      "681:\tlearn: 0.6211942\ttotal: 10.6s\tremaining: 4.95s\n",
      "682:\tlearn: 0.6211942\ttotal: 10.6s\tremaining: 4.94s\n",
      "683:\tlearn: 0.6211941\ttotal: 10.6s\tremaining: 4.92s\n",
      "684:\tlearn: 0.6211941\ttotal: 10.7s\tremaining: 4.91s\n",
      "685:\tlearn: 0.6211941\ttotal: 10.7s\tremaining: 4.89s\n",
      "686:\tlearn: 0.6211941\ttotal: 10.7s\tremaining: 4.88s\n",
      "687:\tlearn: 0.6211941\ttotal: 10.7s\tremaining: 4.86s\n",
      "688:\tlearn: 0.6211941\ttotal: 10.7s\tremaining: 4.85s\n",
      "689:\tlearn: 0.6211941\ttotal: 10.8s\tremaining: 4.83s\n",
      "690:\tlearn: 0.6211941\ttotal: 10.8s\tremaining: 4.82s\n",
      "691:\tlearn: 0.6211941\ttotal: 10.8s\tremaining: 4.8s\n",
      "692:\tlearn: 0.6211941\ttotal: 10.8s\tremaining: 4.79s\n",
      "693:\tlearn: 0.6211941\ttotal: 10.8s\tremaining: 4.78s\n",
      "694:\tlearn: 0.6211941\ttotal: 10.8s\tremaining: 4.76s\n",
      "695:\tlearn: 0.6211941\ttotal: 10.9s\tremaining: 4.75s\n",
      "696:\tlearn: 0.6211941\ttotal: 10.9s\tremaining: 4.73s\n",
      "697:\tlearn: 0.6211941\ttotal: 10.9s\tremaining: 4.72s\n",
      "698:\tlearn: 0.6211941\ttotal: 10.9s\tremaining: 4.7s\n",
      "699:\tlearn: 0.6211941\ttotal: 10.9s\tremaining: 4.69s\n",
      "700:\tlearn: 0.6211941\ttotal: 11s\tremaining: 4.67s\n",
      "701:\tlearn: 0.6211941\ttotal: 11s\tremaining: 4.66s\n",
      "702:\tlearn: 0.6211941\ttotal: 11s\tremaining: 4.64s\n",
      "703:\tlearn: 0.6211941\ttotal: 11s\tremaining: 4.63s\n",
      "704:\tlearn: 0.6211941\ttotal: 11s\tremaining: 4.61s\n",
      "705:\tlearn: 0.6211941\ttotal: 11s\tremaining: 4.59s\n",
      "706:\tlearn: 0.6211941\ttotal: 11.1s\tremaining: 4.58s\n",
      "707:\tlearn: 0.6211941\ttotal: 11.1s\tremaining: 4.57s\n",
      "708:\tlearn: 0.6211941\ttotal: 11.1s\tremaining: 4.55s\n",
      "709:\tlearn: 0.6211941\ttotal: 11.1s\tremaining: 4.54s\n",
      "710:\tlearn: 0.6211940\ttotal: 11.1s\tremaining: 4.52s\n",
      "711:\tlearn: 0.6211940\ttotal: 11.1s\tremaining: 4.5s\n",
      "712:\tlearn: 0.6211940\ttotal: 11.2s\tremaining: 4.49s\n",
      "713:\tlearn: 0.6211940\ttotal: 11.2s\tremaining: 4.47s\n",
      "714:\tlearn: 0.6211940\ttotal: 11.2s\tremaining: 4.46s\n",
      "715:\tlearn: 0.6211940\ttotal: 11.2s\tremaining: 4.44s\n",
      "716:\tlearn: 0.6211940\ttotal: 11.2s\tremaining: 4.42s\n",
      "717:\tlearn: 0.6211940\ttotal: 11.2s\tremaining: 4.41s\n",
      "718:\tlearn: 0.6211940\ttotal: 11.2s\tremaining: 4.4s\n",
      "719:\tlearn: 0.6211940\ttotal: 11.3s\tremaining: 4.38s\n",
      "720:\tlearn: 0.6211940\ttotal: 11.3s\tremaining: 4.37s\n",
      "721:\tlearn: 0.6211940\ttotal: 11.3s\tremaining: 4.35s\n",
      "722:\tlearn: 0.6211940\ttotal: 11.3s\tremaining: 4.33s\n",
      "723:\tlearn: 0.6211940\ttotal: 11.3s\tremaining: 4.32s\n",
      "724:\tlearn: 0.6211940\ttotal: 11.4s\tremaining: 4.31s\n",
      "725:\tlearn: 0.6211940\ttotal: 11.4s\tremaining: 4.29s\n",
      "726:\tlearn: 0.6211940\ttotal: 11.4s\tremaining: 4.27s\n",
      "727:\tlearn: 0.6211940\ttotal: 11.4s\tremaining: 4.26s\n",
      "728:\tlearn: 0.6211940\ttotal: 11.4s\tremaining: 4.24s\n",
      "729:\tlearn: 0.6211940\ttotal: 11.4s\tremaining: 4.22s\n",
      "730:\tlearn: 0.6211940\ttotal: 11.4s\tremaining: 4.21s\n",
      "731:\tlearn: 0.6211940\ttotal: 11.5s\tremaining: 4.2s\n",
      "732:\tlearn: 0.6211940\ttotal: 11.5s\tremaining: 4.18s\n",
      "733:\tlearn: 0.6211940\ttotal: 11.5s\tremaining: 4.16s\n",
      "734:\tlearn: 0.6211940\ttotal: 11.5s\tremaining: 4.14s\n",
      "735:\tlearn: 0.6211940\ttotal: 11.5s\tremaining: 4.13s\n",
      "736:\tlearn: 0.6211940\ttotal: 11.5s\tremaining: 4.12s\n",
      "737:\tlearn: 0.6211940\ttotal: 11.5s\tremaining: 4.1s\n",
      "738:\tlearn: 0.6211940\ttotal: 11.6s\tremaining: 4.08s\n",
      "739:\tlearn: 0.6211940\ttotal: 11.6s\tremaining: 4.07s\n",
      "740:\tlearn: 0.6211940\ttotal: 11.6s\tremaining: 4.05s\n",
      "741:\tlearn: 0.6211940\ttotal: 11.6s\tremaining: 4.04s\n",
      "742:\tlearn: 0.6211940\ttotal: 11.6s\tremaining: 4.02s\n",
      "743:\tlearn: 0.6211940\ttotal: 11.6s\tremaining: 4s\n",
      "744:\tlearn: 0.6211940\ttotal: 11.6s\tremaining: 3.99s\n",
      "745:\tlearn: 0.6211940\ttotal: 11.7s\tremaining: 3.98s\n",
      "746:\tlearn: 0.6211940\ttotal: 11.7s\tremaining: 3.96s\n",
      "747:\tlearn: 0.6211940\ttotal: 11.7s\tremaining: 3.94s\n",
      "748:\tlearn: 0.6211940\ttotal: 11.7s\tremaining: 3.92s\n",
      "749:\tlearn: 0.6211940\ttotal: 11.7s\tremaining: 3.91s\n",
      "750:\tlearn: 0.6211940\ttotal: 11.7s\tremaining: 3.89s\n",
      "751:\tlearn: 0.6211940\ttotal: 11.8s\tremaining: 3.88s\n",
      "752:\tlearn: 0.6211940\ttotal: 11.8s\tremaining: 3.86s\n",
      "753:\tlearn: 0.6211940\ttotal: 11.8s\tremaining: 3.85s\n",
      "754:\tlearn: 0.6211940\ttotal: 11.8s\tremaining: 3.83s\n",
      "755:\tlearn: 0.6211940\ttotal: 11.8s\tremaining: 3.82s\n",
      "756:\tlearn: 0.6211940\ttotal: 11.8s\tremaining: 3.8s\n",
      "757:\tlearn: 0.6211940\ttotal: 11.9s\tremaining: 3.78s\n",
      "758:\tlearn: 0.6211940\ttotal: 11.9s\tremaining: 3.77s\n",
      "759:\tlearn: 0.6211940\ttotal: 11.9s\tremaining: 3.75s\n",
      "760:\tlearn: 0.6211940\ttotal: 11.9s\tremaining: 3.74s\n",
      "761:\tlearn: 0.6211940\ttotal: 11.9s\tremaining: 3.72s\n",
      "762:\tlearn: 0.6211940\ttotal: 11.9s\tremaining: 3.71s\n",
      "763:\tlearn: 0.6211940\ttotal: 12s\tremaining: 3.69s\n",
      "764:\tlearn: 0.6211940\ttotal: 12s\tremaining: 3.68s\n",
      "765:\tlearn: 0.6211940\ttotal: 12s\tremaining: 3.66s\n",
      "766:\tlearn: 0.6211940\ttotal: 12s\tremaining: 3.65s\n",
      "767:\tlearn: 0.6211940\ttotal: 12s\tremaining: 3.63s\n",
      "768:\tlearn: 0.6211940\ttotal: 12s\tremaining: 3.62s\n",
      "769:\tlearn: 0.6211940\ttotal: 12.1s\tremaining: 3.6s\n",
      "770:\tlearn: 0.6211940\ttotal: 12.1s\tremaining: 3.58s\n",
      "771:\tlearn: 0.6211940\ttotal: 12.1s\tremaining: 3.57s\n",
      "772:\tlearn: 0.6211940\ttotal: 12.1s\tremaining: 3.56s\n",
      "773:\tlearn: 0.6211940\ttotal: 12.1s\tremaining: 3.54s\n",
      "774:\tlearn: 0.6211940\ttotal: 12.1s\tremaining: 3.52s\n",
      "775:\tlearn: 0.6211940\ttotal: 12.2s\tremaining: 3.51s\n",
      "776:\tlearn: 0.6211940\ttotal: 12.2s\tremaining: 3.5s\n",
      "777:\tlearn: 0.6211940\ttotal: 12.2s\tremaining: 3.48s\n",
      "778:\tlearn: 0.6211940\ttotal: 12.2s\tremaining: 3.47s\n",
      "779:\tlearn: 0.6211940\ttotal: 12.2s\tremaining: 3.45s\n",
      "780:\tlearn: 0.6211940\ttotal: 12.3s\tremaining: 3.44s\n",
      "781:\tlearn: 0.6211940\ttotal: 12.3s\tremaining: 3.42s\n",
      "782:\tlearn: 0.6211940\ttotal: 12.3s\tremaining: 3.41s\n",
      "783:\tlearn: 0.6211940\ttotal: 12.3s\tremaining: 3.39s\n",
      "784:\tlearn: 0.6211940\ttotal: 12.3s\tremaining: 3.38s\n",
      "785:\tlearn: 0.6211940\ttotal: 12.3s\tremaining: 3.36s\n",
      "786:\tlearn: 0.6211940\ttotal: 12.4s\tremaining: 3.35s\n",
      "787:\tlearn: 0.6211940\ttotal: 12.4s\tremaining: 3.33s\n",
      "788:\tlearn: 0.6211940\ttotal: 12.4s\tremaining: 3.31s\n",
      "789:\tlearn: 0.6211940\ttotal: 12.4s\tremaining: 3.3s\n",
      "790:\tlearn: 0.6211940\ttotal: 12.4s\tremaining: 3.28s\n",
      "791:\tlearn: 0.6211940\ttotal: 12.4s\tremaining: 3.27s\n",
      "792:\tlearn: 0.6211940\ttotal: 12.5s\tremaining: 3.25s\n",
      "793:\tlearn: 0.6211940\ttotal: 12.5s\tremaining: 3.23s\n",
      "794:\tlearn: 0.6211940\ttotal: 12.5s\tremaining: 3.22s\n",
      "795:\tlearn: 0.6211940\ttotal: 12.5s\tremaining: 3.21s\n"
     ]
    },
    {
     "name": "stdout",
     "output_type": "stream",
     "text": [
      "796:\tlearn: 0.6211940\ttotal: 12.5s\tremaining: 3.19s\n",
      "797:\tlearn: 0.6211940\ttotal: 12.5s\tremaining: 3.17s\n",
      "798:\tlearn: 0.6211940\ttotal: 12.6s\tremaining: 3.16s\n",
      "799:\tlearn: 0.6211940\ttotal: 12.6s\tremaining: 3.14s\n",
      "800:\tlearn: 0.6211940\ttotal: 12.6s\tremaining: 3.13s\n",
      "801:\tlearn: 0.6211940\ttotal: 12.6s\tremaining: 3.11s\n",
      "802:\tlearn: 0.6211940\ttotal: 12.6s\tremaining: 3.1s\n",
      "803:\tlearn: 0.6211940\ttotal: 12.6s\tremaining: 3.08s\n",
      "804:\tlearn: 0.6211940\ttotal: 12.6s\tremaining: 3.06s\n",
      "805:\tlearn: 0.6211940\ttotal: 12.7s\tremaining: 3.05s\n",
      "806:\tlearn: 0.6211940\ttotal: 12.7s\tremaining: 3.03s\n",
      "807:\tlearn: 0.6211940\ttotal: 12.7s\tremaining: 3.02s\n",
      "808:\tlearn: 0.6211940\ttotal: 12.7s\tremaining: 3s\n",
      "809:\tlearn: 0.6211940\ttotal: 12.7s\tremaining: 2.98s\n",
      "810:\tlearn: 0.6211940\ttotal: 12.7s\tremaining: 2.97s\n",
      "811:\tlearn: 0.6211940\ttotal: 12.7s\tremaining: 2.95s\n",
      "812:\tlearn: 0.6211940\ttotal: 12.8s\tremaining: 2.94s\n",
      "813:\tlearn: 0.6211940\ttotal: 12.8s\tremaining: 2.92s\n",
      "814:\tlearn: 0.6211940\ttotal: 12.8s\tremaining: 2.9s\n",
      "815:\tlearn: 0.6211940\ttotal: 12.8s\tremaining: 2.89s\n",
      "816:\tlearn: 0.6211940\ttotal: 12.8s\tremaining: 2.87s\n",
      "817:\tlearn: 0.6211940\ttotal: 12.8s\tremaining: 2.86s\n",
      "818:\tlearn: 0.6211940\ttotal: 12.9s\tremaining: 2.84s\n",
      "819:\tlearn: 0.6211940\ttotal: 12.9s\tremaining: 2.82s\n",
      "820:\tlearn: 0.6211940\ttotal: 12.9s\tremaining: 2.81s\n",
      "821:\tlearn: 0.6211940\ttotal: 12.9s\tremaining: 2.79s\n",
      "822:\tlearn: 0.6211940\ttotal: 12.9s\tremaining: 2.78s\n",
      "823:\tlearn: 0.6211940\ttotal: 12.9s\tremaining: 2.76s\n",
      "824:\tlearn: 0.6211940\ttotal: 12.9s\tremaining: 2.75s\n",
      "825:\tlearn: 0.6211940\ttotal: 13s\tremaining: 2.73s\n",
      "826:\tlearn: 0.6211940\ttotal: 13s\tremaining: 2.72s\n",
      "827:\tlearn: 0.6211940\ttotal: 13s\tremaining: 2.7s\n",
      "828:\tlearn: 0.6211940\ttotal: 13s\tremaining: 2.68s\n",
      "829:\tlearn: 0.6211940\ttotal: 13s\tremaining: 2.67s\n",
      "830:\tlearn: 0.6211940\ttotal: 13s\tremaining: 2.65s\n",
      "831:\tlearn: 0.6211940\ttotal: 13.1s\tremaining: 2.63s\n",
      "832:\tlearn: 0.6211940\ttotal: 13.1s\tremaining: 2.62s\n",
      "833:\tlearn: 0.6211940\ttotal: 13.1s\tremaining: 2.6s\n",
      "834:\tlearn: 0.6211940\ttotal: 13.1s\tremaining: 2.59s\n",
      "835:\tlearn: 0.6211940\ttotal: 13.1s\tremaining: 2.57s\n",
      "836:\tlearn: 0.6211940\ttotal: 13.1s\tremaining: 2.56s\n",
      "837:\tlearn: 0.6211940\ttotal: 13.1s\tremaining: 2.54s\n",
      "838:\tlearn: 0.6211940\ttotal: 13.1s\tremaining: 2.52s\n",
      "839:\tlearn: 0.6211940\ttotal: 13.2s\tremaining: 2.51s\n",
      "840:\tlearn: 0.6211940\ttotal: 13.2s\tremaining: 2.49s\n",
      "841:\tlearn: 0.6211940\ttotal: 13.2s\tremaining: 2.48s\n",
      "842:\tlearn: 0.6211940\ttotal: 13.2s\tremaining: 2.46s\n",
      "843:\tlearn: 0.6211940\ttotal: 13.2s\tremaining: 2.44s\n",
      "844:\tlearn: 0.6211940\ttotal: 13.2s\tremaining: 2.43s\n",
      "845:\tlearn: 0.6211940\ttotal: 13.2s\tremaining: 2.41s\n",
      "846:\tlearn: 0.6211940\ttotal: 13.3s\tremaining: 2.4s\n",
      "847:\tlearn: 0.6211940\ttotal: 13.3s\tremaining: 2.38s\n",
      "848:\tlearn: 0.6211940\ttotal: 13.3s\tremaining: 2.36s\n",
      "849:\tlearn: 0.6211940\ttotal: 13.3s\tremaining: 2.35s\n",
      "850:\tlearn: 0.6211940\ttotal: 13.3s\tremaining: 2.33s\n",
      "851:\tlearn: 0.6211940\ttotal: 13.3s\tremaining: 2.32s\n",
      "852:\tlearn: 0.6211940\ttotal: 13.4s\tremaining: 2.3s\n",
      "853:\tlearn: 0.6211940\ttotal: 13.4s\tremaining: 2.28s\n",
      "854:\tlearn: 0.6211940\ttotal: 13.4s\tremaining: 2.27s\n",
      "855:\tlearn: 0.6211940\ttotal: 13.4s\tremaining: 2.25s\n",
      "856:\tlearn: 0.6211940\ttotal: 13.4s\tremaining: 2.24s\n",
      "857:\tlearn: 0.6211940\ttotal: 13.4s\tremaining: 2.22s\n",
      "858:\tlearn: 0.6211940\ttotal: 13.4s\tremaining: 2.21s\n",
      "859:\tlearn: 0.6211940\ttotal: 13.5s\tremaining: 2.19s\n",
      "860:\tlearn: 0.6211940\ttotal: 13.5s\tremaining: 2.17s\n",
      "861:\tlearn: 0.6211940\ttotal: 13.5s\tremaining: 2.16s\n",
      "862:\tlearn: 0.6211940\ttotal: 13.5s\tremaining: 2.14s\n",
      "863:\tlearn: 0.6211939\ttotal: 13.5s\tremaining: 2.13s\n",
      "864:\tlearn: 0.6211939\ttotal: 13.5s\tremaining: 2.11s\n",
      "865:\tlearn: 0.6211939\ttotal: 13.6s\tremaining: 2.1s\n",
      "866:\tlearn: 0.6211939\ttotal: 13.6s\tremaining: 2.08s\n",
      "867:\tlearn: 0.6211939\ttotal: 13.6s\tremaining: 2.07s\n",
      "868:\tlearn: 0.6211939\ttotal: 13.6s\tremaining: 2.05s\n",
      "869:\tlearn: 0.6211939\ttotal: 13.6s\tremaining: 2.04s\n",
      "870:\tlearn: 0.6211939\ttotal: 13.6s\tremaining: 2.02s\n",
      "871:\tlearn: 0.6211939\ttotal: 13.7s\tremaining: 2s\n",
      "872:\tlearn: 0.6211939\ttotal: 13.7s\tremaining: 1.99s\n",
      "873:\tlearn: 0.6211939\ttotal: 13.7s\tremaining: 1.97s\n",
      "874:\tlearn: 0.6211939\ttotal: 13.7s\tremaining: 1.96s\n",
      "875:\tlearn: 0.6211939\ttotal: 13.7s\tremaining: 1.94s\n",
      "876:\tlearn: 0.6211939\ttotal: 13.7s\tremaining: 1.93s\n",
      "877:\tlearn: 0.6211939\ttotal: 13.7s\tremaining: 1.91s\n",
      "878:\tlearn: 0.6211939\ttotal: 13.7s\tremaining: 1.89s\n",
      "879:\tlearn: 0.6211939\ttotal: 13.8s\tremaining: 1.88s\n",
      "880:\tlearn: 0.6211939\ttotal: 13.8s\tremaining: 1.86s\n",
      "881:\tlearn: 0.6211939\ttotal: 13.8s\tremaining: 1.84s\n",
      "882:\tlearn: 0.6211939\ttotal: 13.8s\tremaining: 1.83s\n",
      "883:\tlearn: 0.6211939\ttotal: 13.8s\tremaining: 1.81s\n",
      "884:\tlearn: 0.6211939\ttotal: 13.8s\tremaining: 1.8s\n",
      "885:\tlearn: 0.6211939\ttotal: 13.8s\tremaining: 1.78s\n",
      "886:\tlearn: 0.6211939\ttotal: 13.9s\tremaining: 1.76s\n",
      "887:\tlearn: 0.6211939\ttotal: 13.9s\tremaining: 1.75s\n",
      "888:\tlearn: 0.6211939\ttotal: 13.9s\tremaining: 1.74s\n",
      "889:\tlearn: 0.6211939\ttotal: 13.9s\tremaining: 1.72s\n",
      "890:\tlearn: 0.6211939\ttotal: 13.9s\tremaining: 1.7s\n",
      "891:\tlearn: 0.6211939\ttotal: 13.9s\tremaining: 1.69s\n",
      "892:\tlearn: 0.6211939\ttotal: 14s\tremaining: 1.67s\n",
      "893:\tlearn: 0.6211939\ttotal: 14s\tremaining: 1.66s\n",
      "894:\tlearn: 0.6211939\ttotal: 14s\tremaining: 1.64s\n",
      "895:\tlearn: 0.6211939\ttotal: 14s\tremaining: 1.63s\n",
      "896:\tlearn: 0.6211939\ttotal: 14s\tremaining: 1.61s\n",
      "897:\tlearn: 0.6211939\ttotal: 14s\tremaining: 1.59s\n",
      "898:\tlearn: 0.6211939\ttotal: 14.1s\tremaining: 1.58s\n",
      "899:\tlearn: 0.6211939\ttotal: 14.1s\tremaining: 1.56s\n",
      "900:\tlearn: 0.6211939\ttotal: 14.1s\tremaining: 1.55s\n",
      "901:\tlearn: 0.6211939\ttotal: 14.1s\tremaining: 1.53s\n",
      "902:\tlearn: 0.6211939\ttotal: 14.1s\tremaining: 1.52s\n",
      "903:\tlearn: 0.6211939\ttotal: 14.1s\tremaining: 1.5s\n",
      "904:\tlearn: 0.6211939\ttotal: 14.2s\tremaining: 1.49s\n",
      "905:\tlearn: 0.6211939\ttotal: 14.2s\tremaining: 1.47s\n",
      "906:\tlearn: 0.6211939\ttotal: 14.2s\tremaining: 1.45s\n",
      "907:\tlearn: 0.6211939\ttotal: 14.2s\tremaining: 1.44s\n",
      "908:\tlearn: 0.6211939\ttotal: 14.2s\tremaining: 1.42s\n",
      "909:\tlearn: 0.6211939\ttotal: 14.2s\tremaining: 1.41s\n",
      "910:\tlearn: 0.6211939\ttotal: 14.2s\tremaining: 1.39s\n",
      "911:\tlearn: 0.6211939\ttotal: 14.2s\tremaining: 1.37s\n",
      "912:\tlearn: 0.6211939\ttotal: 14.3s\tremaining: 1.36s\n",
      "913:\tlearn: 0.6211939\ttotal: 14.3s\tremaining: 1.34s\n",
      "914:\tlearn: 0.6211939\ttotal: 14.3s\tremaining: 1.33s\n",
      "915:\tlearn: 0.6211939\ttotal: 14.3s\tremaining: 1.31s\n",
      "916:\tlearn: 0.6211938\ttotal: 14.3s\tremaining: 1.3s\n",
      "917:\tlearn: 0.6211938\ttotal: 14.3s\tremaining: 1.28s\n",
      "918:\tlearn: 0.6211938\ttotal: 14.4s\tremaining: 1.27s\n",
      "919:\tlearn: 0.6211938\ttotal: 14.4s\tremaining: 1.25s\n",
      "920:\tlearn: 0.6211938\ttotal: 14.4s\tremaining: 1.24s\n",
      "921:\tlearn: 0.6211938\ttotal: 14.4s\tremaining: 1.22s\n",
      "922:\tlearn: 0.6211938\ttotal: 14.4s\tremaining: 1.2s\n",
      "923:\tlearn: 0.6211938\ttotal: 14.5s\tremaining: 1.19s\n",
      "924:\tlearn: 0.6211938\ttotal: 14.5s\tremaining: 1.17s\n",
      "925:\tlearn: 0.6211938\ttotal: 14.5s\tremaining: 1.16s\n",
      "926:\tlearn: 0.6211938\ttotal: 14.5s\tremaining: 1.14s\n",
      "927:\tlearn: 0.6211938\ttotal: 14.5s\tremaining: 1.13s\n",
      "928:\tlearn: 0.6211938\ttotal: 14.5s\tremaining: 1.11s\n",
      "929:\tlearn: 0.6211938\ttotal: 14.5s\tremaining: 1.09s\n",
      "930:\tlearn: 0.6211938\ttotal: 14.6s\tremaining: 1.08s\n",
      "931:\tlearn: 0.6211938\ttotal: 14.6s\tremaining: 1.06s\n",
      "932:\tlearn: 0.6211938\ttotal: 14.6s\tremaining: 1.05s\n",
      "933:\tlearn: 0.6211938\ttotal: 14.6s\tremaining: 1.03s\n",
      "934:\tlearn: 0.6211938\ttotal: 14.6s\tremaining: 1.02s\n",
      "935:\tlearn: 0.6211938\ttotal: 14.6s\tremaining: 1s\n",
      "936:\tlearn: 0.6211938\ttotal: 14.7s\tremaining: 987ms\n",
      "937:\tlearn: 0.6211938\ttotal: 14.7s\tremaining: 971ms\n",
      "938:\tlearn: 0.6211938\ttotal: 14.7s\tremaining: 955ms\n",
      "939:\tlearn: 0.6211938\ttotal: 14.7s\tremaining: 940ms\n",
      "940:\tlearn: 0.6211938\ttotal: 14.7s\tremaining: 924ms\n",
      "941:\tlearn: 0.6211938\ttotal: 14.8s\tremaining: 908ms\n",
      "942:\tlearn: 0.6211938\ttotal: 14.8s\tremaining: 893ms\n",
      "943:\tlearn: 0.6211938\ttotal: 14.8s\tremaining: 877ms\n",
      "944:\tlearn: 0.6211938\ttotal: 14.8s\tremaining: 861ms\n",
      "945:\tlearn: 0.6211938\ttotal: 14.8s\tremaining: 846ms\n",
      "946:\tlearn: 0.6211938\ttotal: 14.8s\tremaining: 830ms\n",
      "947:\tlearn: 0.6211938\ttotal: 14.8s\tremaining: 815ms\n",
      "948:\tlearn: 0.6211938\ttotal: 14.9s\tremaining: 799ms\n",
      "949:\tlearn: 0.6211938\ttotal: 14.9s\tremaining: 783ms\n",
      "950:\tlearn: 0.6211938\ttotal: 14.9s\tremaining: 768ms\n",
      "951:\tlearn: 0.6211938\ttotal: 14.9s\tremaining: 752ms\n",
      "952:\tlearn: 0.6211938\ttotal: 14.9s\tremaining: 736ms\n",
      "953:\tlearn: 0.6211938\ttotal: 14.9s\tremaining: 721ms\n",
      "954:\tlearn: 0.6211938\ttotal: 15s\tremaining: 705ms\n"
     ]
    },
    {
     "name": "stdout",
     "output_type": "stream",
     "text": [
      "955:\tlearn: 0.6211938\ttotal: 15s\tremaining: 689ms\n",
      "956:\tlearn: 0.6211938\ttotal: 15s\tremaining: 674ms\n",
      "957:\tlearn: 0.6211938\ttotal: 15s\tremaining: 658ms\n",
      "958:\tlearn: 0.6211938\ttotal: 15s\tremaining: 642ms\n",
      "959:\tlearn: 0.6211938\ttotal: 15.1s\tremaining: 627ms\n",
      "960:\tlearn: 0.6211938\ttotal: 15.1s\tremaining: 611ms\n",
      "961:\tlearn: 0.6211938\ttotal: 15.1s\tremaining: 596ms\n",
      "962:\tlearn: 0.6211938\ttotal: 15.1s\tremaining: 580ms\n",
      "963:\tlearn: 0.6211938\ttotal: 15.1s\tremaining: 564ms\n",
      "964:\tlearn: 0.6211938\ttotal: 15.1s\tremaining: 548ms\n",
      "965:\tlearn: 0.6211938\ttotal: 15.1s\tremaining: 532ms\n",
      "966:\tlearn: 0.6211938\ttotal: 15.1s\tremaining: 517ms\n",
      "967:\tlearn: 0.6211938\ttotal: 15.1s\tremaining: 501ms\n",
      "968:\tlearn: 0.6211938\ttotal: 15.2s\tremaining: 485ms\n",
      "969:\tlearn: 0.6211938\ttotal: 15.2s\tremaining: 470ms\n",
      "970:\tlearn: 0.6211938\ttotal: 15.2s\tremaining: 454ms\n",
      "971:\tlearn: 0.6211938\ttotal: 15.2s\tremaining: 439ms\n",
      "972:\tlearn: 0.6211938\ttotal: 15.2s\tremaining: 423ms\n",
      "973:\tlearn: 0.6211938\ttotal: 15.3s\tremaining: 407ms\n",
      "974:\tlearn: 0.6211938\ttotal: 15.3s\tremaining: 392ms\n",
      "975:\tlearn: 0.6211938\ttotal: 15.3s\tremaining: 376ms\n",
      "976:\tlearn: 0.6211938\ttotal: 15.3s\tremaining: 360ms\n",
      "977:\tlearn: 0.6211938\ttotal: 15.3s\tremaining: 345ms\n",
      "978:\tlearn: 0.6211938\ttotal: 15.3s\tremaining: 329ms\n",
      "979:\tlearn: 0.6211938\ttotal: 15.4s\tremaining: 313ms\n",
      "980:\tlearn: 0.6211938\ttotal: 15.4s\tremaining: 298ms\n",
      "981:\tlearn: 0.6211938\ttotal: 15.4s\tremaining: 282ms\n",
      "982:\tlearn: 0.6211938\ttotal: 15.4s\tremaining: 266ms\n",
      "983:\tlearn: 0.6211938\ttotal: 15.4s\tremaining: 251ms\n",
      "984:\tlearn: 0.6211938\ttotal: 15.4s\tremaining: 235ms\n",
      "985:\tlearn: 0.6211938\ttotal: 15.4s\tremaining: 219ms\n",
      "986:\tlearn: 0.6211938\ttotal: 15.5s\tremaining: 204ms\n",
      "987:\tlearn: 0.6211938\ttotal: 15.5s\tremaining: 188ms\n",
      "988:\tlearn: 0.6211938\ttotal: 15.5s\tremaining: 172ms\n",
      "989:\tlearn: 0.6211938\ttotal: 15.5s\tremaining: 157ms\n",
      "990:\tlearn: 0.6211938\ttotal: 15.5s\tremaining: 141ms\n",
      "991:\tlearn: 0.6211938\ttotal: 15.6s\tremaining: 125ms\n",
      "992:\tlearn: 0.6211938\ttotal: 15.6s\tremaining: 110ms\n",
      "993:\tlearn: 0.6211938\ttotal: 15.6s\tremaining: 94.1ms\n",
      "994:\tlearn: 0.6211938\ttotal: 15.6s\tremaining: 78.4ms\n",
      "995:\tlearn: 0.6211938\ttotal: 15.6s\tremaining: 62.7ms\n",
      "996:\tlearn: 0.6211938\ttotal: 15.6s\tremaining: 47ms\n",
      "997:\tlearn: 0.6211938\ttotal: 15.6s\tremaining: 31.4ms\n",
      "998:\tlearn: 0.6211938\ttotal: 15.7s\tremaining: 15.7ms\n",
      "999:\tlearn: 0.6211938\ttotal: 15.7s\tremaining: 0us\n"
     ]
    },
    {
     "data": {
      "text/plain": [
       "<catboost.core.CatBoostClassifier at 0x20a0b61d848>"
      ]
     },
     "execution_count": 55,
     "metadata": {},
     "output_type": "execute_result"
    }
   ],
   "source": [
    "model = catboost.CatBoostClassifier()\n",
    "model.fit(X_train_content, y_train_content)"
   ]
  },
  {
   "cell_type": "code",
   "execution_count": 56,
   "metadata": {},
   "outputs": [
    {
     "data": {
      "application/vnd.jupyter.widget-view+json": {
       "model_id": "68ad80b532aa43ce92e89268219f9491",
       "version_major": 2,
       "version_minor": 0
      },
      "text/plain": [
       "HBox(children=(IntProgress(value=0, max=1000), HTML(value='')))"
      ]
     },
     "metadata": {},
     "output_type": "display_data"
    },
    {
     "name": "stdout",
     "output_type": "stream",
     "text": [
      "\n"
     ]
    }
   ],
   "source": [
    "predictions = model.predict_proba(test[data_train_content.columns[features_start:]])[:, 1]\n",
    "test['predictions'] = predictions\n",
    "\n",
    "test = test.sort_values('predictions', ascending=False)\n",
    "predictions = test.groupby('client_id')['product_category'].agg(list)\n",
    "tmp_predictions = []\n",
    "\n",
    "for client_id in tqdm_notebook(data_true.index):\n",
    "    prediction = np.array(predictions[client_id - 1])\n",
    "    \n",
    "    tmp_predictions.append(\n",
    "        list(prediction)[:top_k]) #***\n",
    "    \n",
    "data_true['prediction_content'] = tmp_predictions"
   ]
  },
  {
   "cell_type": "code",
   "execution_count": 57,
   "metadata": {},
   "outputs": [
    {
     "name": "stdout",
     "output_type": "stream",
     "text": [
      "Precision@k: 0.045\n",
      "Recall@k: 0.045\n",
      "F-score@k: 0.045\n"
     ]
    }
   ],
   "source": [
    "print(f'Precision@k: {calc_precision(\"prediction_content\")}')\n",
    "print(f'Recall@k: {calc_recall(\"prediction_content\")}')\n",
    "print(f'F-score@k: {calc_fscore_precision(\"prediction_content\")}')"
   ]
  },
  {
   "cell_type": "code",
   "execution_count": null,
   "metadata": {},
   "outputs": [],
   "source": []
  }
 ],
 "metadata": {
  "kernelspec": {
   "display_name": "Python 3",
   "language": "python",
   "name": "python3"
  },
  "language_info": {
   "codemirror_mode": {
    "name": "ipython",
    "version": 3
   },
   "file_extension": ".py",
   "mimetype": "text/x-python",
   "name": "python",
   "nbconvert_exporter": "python",
   "pygments_lexer": "ipython3",
   "version": "3.7.4"
  }
 },
 "nbformat": 4,
 "nbformat_minor": 2
}
