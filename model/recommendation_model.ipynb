{
 "cells": [
  {
   "cell_type": "code",
   "execution_count": 87,
   "metadata": {},
   "outputs": [],
   "source": [
    "import pandas as pd\n",
    "from sklearn.model_selection import train_test_split\n",
    "import matplotlib.pyplot as plt\n",
    "import seaborn as sns\n",
    "import numpy as np\n",
    "from tqdm import tqdm_notebook\n",
    "from scipy.linalg import svd\n",
    "\n",
    "%matplotlib inline"
   ]
  },
  {
   "cell_type": "markdown",
   "metadata": {},
   "source": [
    "## Подготовка данных"
   ]
  },
  {
   "cell_type": "markdown",
   "metadata": {},
   "source": [
    "### \"Схлопывание\" повторяющихся действий пользователей"
   ]
  },
  {
   "cell_type": "markdown",
   "metadata": {},
   "source": [
    "Для каждого пользователя посчитаем количество того, сколько раз он взаимодействовал с каждой категорией товара в данных транзакций."
   ]
  },
  {
   "cell_type": "code",
   "execution_count": 33,
   "metadata": {},
   "outputs": [],
   "source": [
    "path_transactions = r\"C:\\Users\\kiril\\OneDrive\\Рабочий стол\\Вышка\\КР-ВКР\\Курсовая\\3 курс\\RecommendationSystem\\model\\data\\transactions.csv\"\n",
    "path_clients = r\"C:\\Users\\kiril\\OneDrive\\Рабочий стол\\Вышка\\КР-ВКР\\Курсовая\\3 курс\\RecommendationSystem\\model\\data\\clients.csv\"\n",
    "path_categories = r\"C:\\Users\\kiril\\OneDrive\\Рабочий стол\\Вышка\\КР-ВКР\\Курсовая\\3 курс\\RecommendationSystem\\model\\data\\categories.csv\""
   ]
  },
  {
   "cell_type": "code",
   "execution_count": 3,
   "metadata": {},
   "outputs": [
    {
     "data": {
      "text/html": [
       "<div>\n",
       "<style scoped>\n",
       "    .dataframe tbody tr th:only-of-type {\n",
       "        vertical-align: middle;\n",
       "    }\n",
       "\n",
       "    .dataframe tbody tr th {\n",
       "        vertical-align: top;\n",
       "    }\n",
       "\n",
       "    .dataframe thead th {\n",
       "        text-align: right;\n",
       "    }\n",
       "</style>\n",
       "<table border=\"1\" class=\"dataframe\">\n",
       "  <thead>\n",
       "    <tr style=\"text-align: right;\">\n",
       "      <th></th>\n",
       "      <th>Unnamed: 0</th>\n",
       "      <th>client_id</th>\n",
       "      <th>product_category</th>\n",
       "      <th>product_company</th>\n",
       "      <th>subtype</th>\n",
       "      <th>amount</th>\n",
       "      <th>date</th>\n",
       "      <th>transaction_type</th>\n",
       "    </tr>\n",
       "  </thead>\n",
       "  <tbody>\n",
       "    <tr>\n",
       "      <td>0</td>\n",
       "      <td>34478</td>\n",
       "      <td>37</td>\n",
       "      <td>29</td>\n",
       "      <td>NaN</td>\n",
       "      <td>Автоплатеж</td>\n",
       "      <td>1209</td>\n",
       "      <td>2020-01-01 00:00:00</td>\n",
       "      <td>Negative</td>\n",
       "    </tr>\n",
       "    <tr>\n",
       "      <td>1</td>\n",
       "      <td>65406</td>\n",
       "      <td>71</td>\n",
       "      <td>4</td>\n",
       "      <td>YouTube Music</td>\n",
       "      <td>Подписка</td>\n",
       "      <td>169</td>\n",
       "      <td>2020-01-01 00:00:00</td>\n",
       "      <td>Negative</td>\n",
       "    </tr>\n",
       "    <tr>\n",
       "      <td>2</td>\n",
       "      <td>82186</td>\n",
       "      <td>88</td>\n",
       "      <td>29</td>\n",
       "      <td>NaN</td>\n",
       "      <td>Автоплатеж</td>\n",
       "      <td>3711</td>\n",
       "      <td>2020-01-01 00:00:00</td>\n",
       "      <td>Negative</td>\n",
       "    </tr>\n",
       "    <tr>\n",
       "      <td>3</td>\n",
       "      <td>83113</td>\n",
       "      <td>89</td>\n",
       "      <td>29</td>\n",
       "      <td>NaN</td>\n",
       "      <td>Автоплатеж</td>\n",
       "      <td>6443</td>\n",
       "      <td>2020-01-01 00:00:00</td>\n",
       "      <td>Negative</td>\n",
       "    </tr>\n",
       "    <tr>\n",
       "      <td>4</td>\n",
       "      <td>131373</td>\n",
       "      <td>141</td>\n",
       "      <td>29</td>\n",
       "      <td>NaN</td>\n",
       "      <td>Автоплатеж</td>\n",
       "      <td>7319</td>\n",
       "      <td>2020-01-01 00:00:00</td>\n",
       "      <td>Negative</td>\n",
       "    </tr>\n",
       "  </tbody>\n",
       "</table>\n",
       "</div>"
      ],
      "text/plain": [
       "   Unnamed: 0  client_id  product_category product_company     subtype  \\\n",
       "0       34478         37                29             NaN  Автоплатеж   \n",
       "1       65406         71                 4   YouTube Music    Подписка   \n",
       "2       82186         88                29             NaN  Автоплатеж   \n",
       "3       83113         89                29             NaN  Автоплатеж   \n",
       "4      131373        141                29             NaN  Автоплатеж   \n",
       "\n",
       "   amount                 date transaction_type  \n",
       "0    1209  2020-01-01 00:00:00         Negative  \n",
       "1     169  2020-01-01 00:00:00         Negative  \n",
       "2    3711  2020-01-01 00:00:00         Negative  \n",
       "3    6443  2020-01-01 00:00:00         Negative  \n",
       "4    7319  2020-01-01 00:00:00         Negative  "
      ]
     },
     "execution_count": 3,
     "metadata": {},
     "output_type": "execute_result"
    }
   ],
   "source": [
    "transactions = pd.read_csv(path_transactions)\n",
    "transactions.head()"
   ]
  },
  {
   "cell_type": "code",
   "execution_count": 4,
   "metadata": {},
   "outputs": [
    {
     "name": "stdout",
     "output_type": "stream",
     "text": [
      "<class 'pandas.core.frame.DataFrame'>\n",
      "RangeIndex: 929135 entries, 0 to 929134\n",
      "Data columns (total 8 columns):\n",
      "Unnamed: 0          929135 non-null int64\n",
      "client_id           929135 non-null int64\n",
      "product_category    929135 non-null int64\n",
      "product_company     644651 non-null object\n",
      "subtype             929135 non-null object\n",
      "amount              929135 non-null int64\n",
      "date                929135 non-null object\n",
      "transaction_type    929135 non-null object\n",
      "dtypes: int64(4), object(4)\n",
      "memory usage: 56.7+ MB\n"
     ]
    }
   ],
   "source": [
    "transactions.info()"
   ]
  },
  {
   "cell_type": "code",
   "execution_count": 5,
   "metadata": {},
   "outputs": [],
   "source": [
    "transactions.product_category = transactions.product_category.astype('str')"
   ]
  },
  {
   "cell_type": "code",
   "execution_count": 6,
   "metadata": {},
   "outputs": [],
   "source": [
    "transactions.date = pd.to_datetime(transactions.date)"
   ]
  },
  {
   "cell_type": "code",
   "execution_count": 7,
   "metadata": {},
   "outputs": [
    {
     "data": {
      "text/plain": [
       "Unnamed: 0                   int64\n",
       "client_id                    int64\n",
       "product_category            object\n",
       "product_company             object\n",
       "subtype                     object\n",
       "amount                       int64\n",
       "date                datetime64[ns]\n",
       "transaction_type            object\n",
       "dtype: object"
      ]
     },
     "execution_count": 7,
     "metadata": {},
     "output_type": "execute_result"
    }
   ],
   "source": [
    "transactions.dtypes"
   ]
  },
  {
   "cell_type": "code",
   "execution_count": 8,
   "metadata": {},
   "outputs": [
    {
     "data": {
      "text/html": [
       "<div>\n",
       "<style scoped>\n",
       "    .dataframe tbody tr th:only-of-type {\n",
       "        vertical-align: middle;\n",
       "    }\n",
       "\n",
       "    .dataframe tbody tr th {\n",
       "        vertical-align: top;\n",
       "    }\n",
       "\n",
       "    .dataframe thead th {\n",
       "        text-align: right;\n",
       "    }\n",
       "</style>\n",
       "<table border=\"1\" class=\"dataframe\">\n",
       "  <thead>\n",
       "    <tr style=\"text-align: right;\">\n",
       "      <th></th>\n",
       "      <th>id</th>\n",
       "      <th>fullname</th>\n",
       "      <th>address</th>\n",
       "      <th>phone_number</th>\n",
       "      <th>email</th>\n",
       "      <th>workplace</th>\n",
       "      <th>birthdate</th>\n",
       "      <th>registration_date</th>\n",
       "      <th>gender</th>\n",
       "      <th>income</th>\n",
       "      <th>expenses</th>\n",
       "      <th>credit</th>\n",
       "      <th>deposit</th>\n",
       "    </tr>\n",
       "  </thead>\n",
       "  <tbody>\n",
       "    <tr>\n",
       "      <td>0</td>\n",
       "      <td>1</td>\n",
       "      <td>Волкова Фаина Афанасьевна</td>\n",
       "      <td>с. Новосибирск, наб. Привокзальная, д. 58 к. 5...</td>\n",
       "      <td>8 (475) 014-6494</td>\n",
       "      <td>wkirillov@rambler.ru</td>\n",
       "      <td>ст. Кировск (Мурм.), ш. Коммуны, д. 238 стр. 3...</td>\n",
       "      <td>1966-09-07</td>\n",
       "      <td>2017-01-10</td>\n",
       "      <td>F</td>\n",
       "      <td>230910.0</td>\n",
       "      <td>61975</td>\n",
       "      <td>1.0</td>\n",
       "      <td>NaN</td>\n",
       "    </tr>\n",
       "    <tr>\n",
       "      <td>1</td>\n",
       "      <td>2</td>\n",
       "      <td>Пелагея Вячеславовна Галкина</td>\n",
       "      <td>клх Белокуриха, ш. Комсомольское, д. 701 стр. ...</td>\n",
       "      <td>+7 (981) 576-1146</td>\n",
       "      <td>bogdanovmoke@rambler.ru</td>\n",
       "      <td>г. Елабуга, бул. 60 лет Октября, д. 5, 070955</td>\n",
       "      <td>1987-05-23</td>\n",
       "      <td>2016-07-14</td>\n",
       "      <td>F</td>\n",
       "      <td>NaN</td>\n",
       "      <td>75232</td>\n",
       "      <td>NaN</td>\n",
       "      <td>NaN</td>\n",
       "    </tr>\n",
       "    <tr>\n",
       "      <td>2</td>\n",
       "      <td>3</td>\n",
       "      <td>Валентина Игоревна Фомина</td>\n",
       "      <td>к. Усть-Катав, бул. Восточный, д. 292 стр. 3, ...</td>\n",
       "      <td>+7 (920) 068-58-36</td>\n",
       "      <td>mjasnikovvalentin@mail.ru</td>\n",
       "      <td>г. Сосновый Бор, алл. Лесхозная, д. 146, 139446</td>\n",
       "      <td>1974-06-15</td>\n",
       "      <td>2017-10-18</td>\n",
       "      <td>F</td>\n",
       "      <td>NaN</td>\n",
       "      <td>88813</td>\n",
       "      <td>NaN</td>\n",
       "      <td>NaN</td>\n",
       "    </tr>\n",
       "    <tr>\n",
       "      <td>3</td>\n",
       "      <td>4</td>\n",
       "      <td>тов. Воронцова Фёкла Федоровна</td>\n",
       "      <td>клх Новая Игирма, алл. Пограничная, д. 6/6, 73...</td>\n",
       "      <td>8 334 398 3828</td>\n",
       "      <td>martin85@rambler.ru</td>\n",
       "      <td>клх Котельнич, бул. Серафимовича, д. 97, 753076</td>\n",
       "      <td>1979-10-19</td>\n",
       "      <td>2012-08-25</td>\n",
       "      <td>F</td>\n",
       "      <td>NaN</td>\n",
       "      <td>55167</td>\n",
       "      <td>NaN</td>\n",
       "      <td>NaN</td>\n",
       "    </tr>\n",
       "    <tr>\n",
       "      <td>4</td>\n",
       "      <td>5</td>\n",
       "      <td>Филипп Дмитриевич Воронцов</td>\n",
       "      <td>к. Ребриха, пр. Свободы, д. 54, 466509</td>\n",
       "      <td>8 (296) 455-0453</td>\n",
       "      <td>jan_07@rambler.ru</td>\n",
       "      <td>клх Карабудахкент, ул. Абрикосовая, д. 3 к. 19...</td>\n",
       "      <td>1986-08-14</td>\n",
       "      <td>2017-03-15</td>\n",
       "      <td>M</td>\n",
       "      <td>NaN</td>\n",
       "      <td>85106</td>\n",
       "      <td>NaN</td>\n",
       "      <td>NaN</td>\n",
       "    </tr>\n",
       "  </tbody>\n",
       "</table>\n",
       "</div>"
      ],
      "text/plain": [
       "   id                        fullname  \\\n",
       "0   1       Волкова Фаина Афанасьевна   \n",
       "1   2    Пелагея Вячеславовна Галкина   \n",
       "2   3       Валентина Игоревна Фомина   \n",
       "3   4  тов. Воронцова Фёкла Федоровна   \n",
       "4   5      Филипп Дмитриевич Воронцов   \n",
       "\n",
       "                                             address        phone_number  \\\n",
       "0  с. Новосибирск, наб. Привокзальная, д. 58 к. 5...    8 (475) 014-6494   \n",
       "1  клх Белокуриха, ш. Комсомольское, д. 701 стр. ...   +7 (981) 576-1146   \n",
       "2  к. Усть-Катав, бул. Восточный, д. 292 стр. 3, ...  +7 (920) 068-58-36   \n",
       "3  клх Новая Игирма, алл. Пограничная, д. 6/6, 73...      8 334 398 3828   \n",
       "4             к. Ребриха, пр. Свободы, д. 54, 466509    8 (296) 455-0453   \n",
       "\n",
       "                       email  \\\n",
       "0       wkirillov@rambler.ru   \n",
       "1    bogdanovmoke@rambler.ru   \n",
       "2  mjasnikovvalentin@mail.ru   \n",
       "3        martin85@rambler.ru   \n",
       "4          jan_07@rambler.ru   \n",
       "\n",
       "                                           workplace   birthdate  \\\n",
       "0  ст. Кировск (Мурм.), ш. Коммуны, д. 238 стр. 3...  1966-09-07   \n",
       "1      г. Елабуга, бул. 60 лет Октября, д. 5, 070955  1987-05-23   \n",
       "2    г. Сосновый Бор, алл. Лесхозная, д. 146, 139446  1974-06-15   \n",
       "3    клх Котельнич, бул. Серафимовича, д. 97, 753076  1979-10-19   \n",
       "4  клх Карабудахкент, ул. Абрикосовая, д. 3 к. 19...  1986-08-14   \n",
       "\n",
       "  registration_date gender    income  expenses  credit  deposit  \n",
       "0        2017-01-10      F  230910.0     61975     1.0      NaN  \n",
       "1        2016-07-14      F       NaN     75232     NaN      NaN  \n",
       "2        2017-10-18      F       NaN     88813     NaN      NaN  \n",
       "3        2012-08-25      F       NaN     55167     NaN      NaN  \n",
       "4        2017-03-15      M       NaN     85106     NaN      NaN  "
      ]
     },
     "execution_count": 8,
     "metadata": {},
     "output_type": "execute_result"
    }
   ],
   "source": [
    "clients = pd.read_csv(path_clients)\n",
    "clients.head()"
   ]
  },
  {
   "cell_type": "code",
   "execution_count": 34,
   "metadata": {},
   "outputs": [
    {
     "data": {
      "text/html": [
       "<div>\n",
       "<style scoped>\n",
       "    .dataframe tbody tr th:only-of-type {\n",
       "        vertical-align: middle;\n",
       "    }\n",
       "\n",
       "    .dataframe tbody tr th {\n",
       "        vertical-align: top;\n",
       "    }\n",
       "\n",
       "    .dataframe thead th {\n",
       "        text-align: right;\n",
       "    }\n",
       "</style>\n",
       "<table border=\"1\" class=\"dataframe\">\n",
       "  <thead>\n",
       "    <tr style=\"text-align: right;\">\n",
       "      <th></th>\n",
       "      <th>id</th>\n",
       "      <th>name</th>\n",
       "      <th>description</th>\n",
       "      <th>mcc-code</th>\n",
       "    </tr>\n",
       "  </thead>\n",
       "  <tbody>\n",
       "    <tr>\n",
       "      <td>0</td>\n",
       "      <td>1</td>\n",
       "      <td>Каршеринг</td>\n",
       "      <td>Краткосрочная аренда авто с оплатой по минутам...</td>\n",
       "      <td>7512, 4121</td>\n",
       "    </tr>\n",
       "    <tr>\n",
       "      <td>1</td>\n",
       "      <td>2</td>\n",
       "      <td>Супермаркеты</td>\n",
       "      <td>Покупки в супермаркетах и продуктовых магазинах</td>\n",
       "      <td>5297, 5298, 5300, 5411, 5412, 5422, 5441, 5451...</td>\n",
       "    </tr>\n",
       "    <tr>\n",
       "      <td>2</td>\n",
       "      <td>3</td>\n",
       "      <td>Такси</td>\n",
       "      <td>Услуги такси (каршеринг не входит в данную кат...</td>\n",
       "      <td>4121</td>\n",
       "    </tr>\n",
       "    <tr>\n",
       "      <td>3</td>\n",
       "      <td>4</td>\n",
       "      <td>Музыка</td>\n",
       "      <td>Покупки в магазинах музыки и музыкальных инстр...</td>\n",
       "      <td>5733, 5735</td>\n",
       "    </tr>\n",
       "    <tr>\n",
       "      <td>4</td>\n",
       "      <td>5</td>\n",
       "      <td>Фастфуд</td>\n",
       "      <td>Покупки в ресторанах быстрого питания</td>\n",
       "      <td>5814</td>\n",
       "    </tr>\n",
       "  </tbody>\n",
       "</table>\n",
       "</div>"
      ],
      "text/plain": [
       "   id          name                                        description  \\\n",
       "0   1     Каршеринг  Краткосрочная аренда авто с оплатой по минутам...   \n",
       "1   2  Супермаркеты    Покупки в супермаркетах и продуктовых магазинах   \n",
       "2   3         Такси  Услуги такси (каршеринг не входит в данную кат...   \n",
       "3   4        Музыка  Покупки в магазинах музыки и музыкальных инстр...   \n",
       "4   5       Фастфуд              Покупки в ресторанах быстрого питания   \n",
       "\n",
       "                                            mcc-code  \n",
       "0                                         7512, 4121  \n",
       "1  5297, 5298, 5300, 5411, 5412, 5422, 5441, 5451...  \n",
       "2                                               4121  \n",
       "3                                         5733, 5735  \n",
       "4                                               5814  "
      ]
     },
     "execution_count": 34,
     "metadata": {},
     "output_type": "execute_result"
    }
   ],
   "source": [
    "categories = pd.read_csv(path_categories)\n",
    "categories.head()"
   ]
  },
  {
   "cell_type": "code",
   "execution_count": 9,
   "metadata": {},
   "outputs": [],
   "source": [
    "transactions.rename(columns={'Unnamed: 0': 'id'}, inplace=True)"
   ]
  },
  {
   "cell_type": "code",
   "execution_count": 10,
   "metadata": {},
   "outputs": [
    {
     "data": {
      "text/html": [
       "<div>\n",
       "<style scoped>\n",
       "    .dataframe tbody tr th:only-of-type {\n",
       "        vertical-align: middle;\n",
       "    }\n",
       "\n",
       "    .dataframe tbody tr th {\n",
       "        vertical-align: top;\n",
       "    }\n",
       "\n",
       "    .dataframe thead th {\n",
       "        text-align: right;\n",
       "    }\n",
       "</style>\n",
       "<table border=\"1\" class=\"dataframe\">\n",
       "  <thead>\n",
       "    <tr style=\"text-align: right;\">\n",
       "      <th></th>\n",
       "      <th>id</th>\n",
       "    </tr>\n",
       "  </thead>\n",
       "  <tbody>\n",
       "    <tr>\n",
       "      <td>0</td>\n",
       "      <td>1</td>\n",
       "    </tr>\n",
       "    <tr>\n",
       "      <td>1</td>\n",
       "      <td>2</td>\n",
       "    </tr>\n",
       "    <tr>\n",
       "      <td>2</td>\n",
       "      <td>3</td>\n",
       "    </tr>\n",
       "    <tr>\n",
       "      <td>3</td>\n",
       "      <td>4</td>\n",
       "    </tr>\n",
       "    <tr>\n",
       "      <td>4</td>\n",
       "      <td>5</td>\n",
       "    </tr>\n",
       "  </tbody>\n",
       "</table>\n",
       "</div>"
      ],
      "text/plain": [
       "   id\n",
       "0   1\n",
       "1   2\n",
       "2   3\n",
       "3   4\n",
       "4   5"
      ]
     },
     "execution_count": 10,
     "metadata": {},
     "output_type": "execute_result"
    }
   ],
   "source": [
    "clients_id = clients[['id']]\n",
    "clients_id.head()"
   ]
  },
  {
   "cell_type": "code",
   "execution_count": 11,
   "metadata": {},
   "outputs": [
    {
     "data": {
      "text/html": [
       "<div>\n",
       "<style scoped>\n",
       "    .dataframe tbody tr th:only-of-type {\n",
       "        vertical-align: middle;\n",
       "    }\n",
       "\n",
       "    .dataframe tbody tr th {\n",
       "        vertical-align: top;\n",
       "    }\n",
       "\n",
       "    .dataframe thead th {\n",
       "        text-align: right;\n",
       "    }\n",
       "</style>\n",
       "<table border=\"1\" class=\"dataframe\">\n",
       "  <thead>\n",
       "    <tr style=\"text-align: right;\">\n",
       "      <th></th>\n",
       "      <th>client_id</th>\n",
       "      <th>product_category</th>\n",
       "      <th>date</th>\n",
       "    </tr>\n",
       "  </thead>\n",
       "  <tbody>\n",
       "    <tr>\n",
       "      <td>0</td>\n",
       "      <td>37</td>\n",
       "      <td>29</td>\n",
       "      <td>2020-01-01</td>\n",
       "    </tr>\n",
       "    <tr>\n",
       "      <td>1</td>\n",
       "      <td>71</td>\n",
       "      <td>4</td>\n",
       "      <td>2020-01-01</td>\n",
       "    </tr>\n",
       "    <tr>\n",
       "      <td>2</td>\n",
       "      <td>88</td>\n",
       "      <td>29</td>\n",
       "      <td>2020-01-01</td>\n",
       "    </tr>\n",
       "    <tr>\n",
       "      <td>3</td>\n",
       "      <td>89</td>\n",
       "      <td>29</td>\n",
       "      <td>2020-01-01</td>\n",
       "    </tr>\n",
       "    <tr>\n",
       "      <td>4</td>\n",
       "      <td>141</td>\n",
       "      <td>29</td>\n",
       "      <td>2020-01-01</td>\n",
       "    </tr>\n",
       "  </tbody>\n",
       "</table>\n",
       "</div>"
      ],
      "text/plain": [
       "   client_id product_category       date\n",
       "0         37               29 2020-01-01\n",
       "1         71                4 2020-01-01\n",
       "2         88               29 2020-01-01\n",
       "3         89               29 2020-01-01\n",
       "4        141               29 2020-01-01"
      ]
     },
     "execution_count": 11,
     "metadata": {},
     "output_type": "execute_result"
    }
   ],
   "source": [
    "transactions_part = transactions[['client_id', 'product_category', 'date']]\n",
    "transactions_part.head()"
   ]
  },
  {
   "cell_type": "code",
   "execution_count": 12,
   "metadata": {},
   "outputs": [],
   "source": [
    "data = transactions_part.groupby(['client_id', 'product_category'], as_index=False) \\\n",
    "    .agg({'date': 'count'}) \\\n",
    "    .rename(columns={'date': 'purchase_count'})"
   ]
  },
  {
   "cell_type": "code",
   "execution_count": 13,
   "metadata": {},
   "outputs": [
    {
     "data": {
      "text/html": [
       "<div>\n",
       "<style scoped>\n",
       "    .dataframe tbody tr th:only-of-type {\n",
       "        vertical-align: middle;\n",
       "    }\n",
       "\n",
       "    .dataframe tbody tr th {\n",
       "        vertical-align: top;\n",
       "    }\n",
       "\n",
       "    .dataframe thead th {\n",
       "        text-align: right;\n",
       "    }\n",
       "</style>\n",
       "<table border=\"1\" class=\"dataframe\">\n",
       "  <thead>\n",
       "    <tr style=\"text-align: right;\">\n",
       "      <th></th>\n",
       "      <th>client_id</th>\n",
       "      <th>product_category</th>\n",
       "      <th>purchase_count</th>\n",
       "    </tr>\n",
       "  </thead>\n",
       "  <tbody>\n",
       "    <tr>\n",
       "      <td>0</td>\n",
       "      <td>1</td>\n",
       "      <td>10</td>\n",
       "      <td>18</td>\n",
       "    </tr>\n",
       "    <tr>\n",
       "      <td>1</td>\n",
       "      <td>1</td>\n",
       "      <td>11</td>\n",
       "      <td>14</td>\n",
       "    </tr>\n",
       "    <tr>\n",
       "      <td>2</td>\n",
       "      <td>1</td>\n",
       "      <td>13</td>\n",
       "      <td>23</td>\n",
       "    </tr>\n",
       "    <tr>\n",
       "      <td>3</td>\n",
       "      <td>1</td>\n",
       "      <td>14</td>\n",
       "      <td>19</td>\n",
       "    </tr>\n",
       "    <tr>\n",
       "      <td>4</td>\n",
       "      <td>1</td>\n",
       "      <td>16</td>\n",
       "      <td>10</td>\n",
       "    </tr>\n",
       "  </tbody>\n",
       "</table>\n",
       "</div>"
      ],
      "text/plain": [
       "   client_id product_category  purchase_count\n",
       "0          1               10              18\n",
       "1          1               11              14\n",
       "2          1               13              23\n",
       "3          1               14              19\n",
       "4          1               16              10"
      ]
     },
     "execution_count": 13,
     "metadata": {},
     "output_type": "execute_result"
    }
   ],
   "source": [
    "data.head()"
   ]
  },
  {
   "cell_type": "markdown",
   "metadata": {},
   "source": [
    "### Фильтрация неактивных пользователей"
   ]
  },
  {
   "cell_type": "markdown",
   "metadata": {},
   "source": [
    "Отфильтруем пользователей, которые взаимодействовали не больше, чем с 4 категориями товаров и услуг."
   ]
  },
  {
   "cell_type": "code",
   "execution_count": 14,
   "metadata": {},
   "outputs": [
    {
     "data": {
      "text/html": [
       "<div>\n",
       "<style scoped>\n",
       "    .dataframe tbody tr th:only-of-type {\n",
       "        vertical-align: middle;\n",
       "    }\n",
       "\n",
       "    .dataframe tbody tr th {\n",
       "        vertical-align: top;\n",
       "    }\n",
       "\n",
       "    .dataframe thead th {\n",
       "        text-align: right;\n",
       "    }\n",
       "</style>\n",
       "<table border=\"1\" class=\"dataframe\">\n",
       "  <thead>\n",
       "    <tr style=\"text-align: right;\">\n",
       "      <th></th>\n",
       "      <th>client_id</th>\n",
       "      <th>unique_categories</th>\n",
       "    </tr>\n",
       "  </thead>\n",
       "  <tbody>\n",
       "    <tr>\n",
       "      <td>0</td>\n",
       "      <td>1</td>\n",
       "      <td>18</td>\n",
       "    </tr>\n",
       "    <tr>\n",
       "      <td>1</td>\n",
       "      <td>2</td>\n",
       "      <td>21</td>\n",
       "    </tr>\n",
       "    <tr>\n",
       "      <td>2</td>\n",
       "      <td>3</td>\n",
       "      <td>24</td>\n",
       "    </tr>\n",
       "    <tr>\n",
       "      <td>3</td>\n",
       "      <td>4</td>\n",
       "      <td>21</td>\n",
       "    </tr>\n",
       "    <tr>\n",
       "      <td>4</td>\n",
       "      <td>5</td>\n",
       "      <td>19</td>\n",
       "    </tr>\n",
       "  </tbody>\n",
       "</table>\n",
       "</div>"
      ],
      "text/plain": [
       "   client_id  unique_categories\n",
       "0          1                 18\n",
       "1          2                 21\n",
       "2          3                 24\n",
       "3          4                 21\n",
       "4          5                 19"
      ]
     },
     "execution_count": 14,
     "metadata": {},
     "output_type": "execute_result"
    }
   ],
   "source": [
    "users_interactions = data \\\n",
    "    .groupby('client_id', as_index=False) \\\n",
    "    .agg({'product_category': 'count'}) \\\n",
    "    .rename(columns={'product_category': 'unique_categories'})\n",
    "users_interactions.head()"
   ]
  },
  {
   "cell_type": "code",
   "execution_count": 15,
   "metadata": {},
   "outputs": [
    {
     "data": {
      "image/png": "[encoded data removed]",
      "text/plain": [
       "<Figure size 432x288 with 1 Axes>"
      ]
     },
     "metadata": {
      "needs_background": "light"
     },
     "output_type": "display_data"
    }
   ],
   "source": [
    "sns.distplot(users_interactions.unique_categories);"
   ]
  },
  {
   "cell_type": "code",
   "execution_count": 16,
   "metadata": {},
   "outputs": [
    {
     "data": {
      "text/plain": [
       "0         1\n",
       "1         2\n",
       "2         3\n",
       "3         4\n",
       "4         5\n",
       "       ... \n",
       "995     996\n",
       "996     997\n",
       "997     998\n",
       "998     999\n",
       "999    1000\n",
       "Name: client_id, Length: 1000, dtype: int64"
      ]
     },
     "execution_count": 16,
     "metadata": {},
     "output_type": "execute_result"
    }
   ],
   "source": [
    "users_with_enough_interactions = users_interactions.query('unique_categories > 4')['client_id']\n",
    "users_with_enough_interactions"
   ]
  },
  {
   "cell_type": "code",
   "execution_count": 17,
   "metadata": {},
   "outputs": [
    {
     "name": "stdout",
     "output_type": "stream",
     "text": [
      "Всего пользователей: 1000\n",
      "Пользователей по крайней мере с 5 взаимодействиями: 1000\n"
     ]
    }
   ],
   "source": [
    "print(f'Всего пользователей: {users_interactions.shape[0]}')\n",
    "print(f'Пользователей по крайней мере с 5 взаимодействиями: {users_with_enough_interactions.shape[0]}')"
   ]
  },
  {
   "cell_type": "markdown",
   "metadata": {},
   "source": [
    "Получаем, что пользователей меньше, чем с 5 взаимодействиями нет."
   ]
  },
  {
   "cell_type": "markdown",
   "metadata": {},
   "source": [
    "### Нормализация"
   ]
  },
  {
   "cell_type": "markdown",
   "metadata": {},
   "source": [
    "В качестве нормализации воспользуемся MinMaxScaler."
   ]
  },
  {
   "cell_type": "code",
   "execution_count": 18,
   "metadata": {},
   "outputs": [
    {
     "data": {
      "text/html": [
       "<div>\n",
       "<style scoped>\n",
       "    .dataframe tbody tr th:only-of-type {\n",
       "        vertical-align: middle;\n",
       "    }\n",
       "\n",
       "    .dataframe tbody tr th {\n",
       "        vertical-align: top;\n",
       "    }\n",
       "\n",
       "    .dataframe thead th {\n",
       "        text-align: right;\n",
       "    }\n",
       "</style>\n",
       "<table border=\"1\" class=\"dataframe\">\n",
       "  <thead>\n",
       "    <tr style=\"text-align: right;\">\n",
       "      <th></th>\n",
       "      <th>client_id</th>\n",
       "      <th>product_category</th>\n",
       "      <th>purchase_count</th>\n",
       "      <th>purchase_normalize</th>\n",
       "    </tr>\n",
       "  </thead>\n",
       "  <tbody>\n",
       "    <tr>\n",
       "      <td>0</td>\n",
       "      <td>1</td>\n",
       "      <td>10</td>\n",
       "      <td>18</td>\n",
       "      <td>0.042607</td>\n",
       "    </tr>\n",
       "    <tr>\n",
       "      <td>1</td>\n",
       "      <td>1</td>\n",
       "      <td>11</td>\n",
       "      <td>14</td>\n",
       "      <td>0.032581</td>\n",
       "    </tr>\n",
       "    <tr>\n",
       "      <td>2</td>\n",
       "      <td>1</td>\n",
       "      <td>13</td>\n",
       "      <td>23</td>\n",
       "      <td>0.055138</td>\n",
       "    </tr>\n",
       "    <tr>\n",
       "      <td>3</td>\n",
       "      <td>1</td>\n",
       "      <td>14</td>\n",
       "      <td>19</td>\n",
       "      <td>0.045113</td>\n",
       "    </tr>\n",
       "    <tr>\n",
       "      <td>4</td>\n",
       "      <td>1</td>\n",
       "      <td>16</td>\n",
       "      <td>10</td>\n",
       "      <td>0.022556</td>\n",
       "    </tr>\n",
       "  </tbody>\n",
       "</table>\n",
       "</div>"
      ],
      "text/plain": [
       "   client_id product_category  purchase_count  purchase_normalize\n",
       "0          1               10              18            0.042607\n",
       "1          1               11              14            0.032581\n",
       "2          1               13              23            0.055138\n",
       "3          1               14              19            0.045113\n",
       "4          1               16              10            0.022556"
      ]
     },
     "execution_count": 18,
     "metadata": {},
     "output_type": "execute_result"
    }
   ],
   "source": [
    "data = data.assign(purchase_normalize = (data.purchase_count - data.purchase_count.min()) / (data.purchase_count.max() - data.purchase_count.min()))\n",
    "data.head()"
   ]
  },
  {
   "cell_type": "markdown",
   "metadata": {},
   "source": [
    "### Разбиение выборки на тренировочную и тестовую"
   ]
  },
  {
   "cell_type": "markdown",
   "metadata": {},
   "source": [
    "Произведем разбиение выборки на обучение и контроль по времени. Перед этим возьмем последнее время взаимодействия пары client_id и product_category."
   ]
  },
  {
   "cell_type": "code",
   "execution_count": 19,
   "metadata": {},
   "outputs": [
    {
     "data": {
      "text/html": [
       "<div>\n",
       "<style scoped>\n",
       "    .dataframe tbody tr th:only-of-type {\n",
       "        vertical-align: middle;\n",
       "    }\n",
       "\n",
       "    .dataframe tbody tr th {\n",
       "        vertical-align: top;\n",
       "    }\n",
       "\n",
       "    .dataframe thead th {\n",
       "        text-align: right;\n",
       "    }\n",
       "</style>\n",
       "<table border=\"1\" class=\"dataframe\">\n",
       "  <thead>\n",
       "    <tr style=\"text-align: right;\">\n",
       "      <th></th>\n",
       "      <th>client_id</th>\n",
       "      <th>product_category</th>\n",
       "      <th>date</th>\n",
       "    </tr>\n",
       "  </thead>\n",
       "  <tbody>\n",
       "    <tr>\n",
       "      <td>0</td>\n",
       "      <td>1</td>\n",
       "      <td>10</td>\n",
       "      <td>2020-12-22 02:33:13</td>\n",
       "    </tr>\n",
       "    <tr>\n",
       "      <td>1</td>\n",
       "      <td>1</td>\n",
       "      <td>11</td>\n",
       "      <td>2020-12-22 10:20:44</td>\n",
       "    </tr>\n",
       "    <tr>\n",
       "      <td>2</td>\n",
       "      <td>1</td>\n",
       "      <td>13</td>\n",
       "      <td>2020-12-29 09:07:06</td>\n",
       "    </tr>\n",
       "    <tr>\n",
       "      <td>3</td>\n",
       "      <td>1</td>\n",
       "      <td>14</td>\n",
       "      <td>2020-12-31 06:49:11</td>\n",
       "    </tr>\n",
       "    <tr>\n",
       "      <td>4</td>\n",
       "      <td>1</td>\n",
       "      <td>16</td>\n",
       "      <td>2020-12-29 03:38:07</td>\n",
       "    </tr>\n",
       "  </tbody>\n",
       "</table>\n",
       "</div>"
      ],
      "text/plain": [
       "   client_id product_category                date\n",
       "0          1               10 2020-12-22 02:33:13\n",
       "1          1               11 2020-12-22 10:20:44\n",
       "2          1               13 2020-12-29 09:07:06\n",
       "3          1               14 2020-12-31 06:49:11\n",
       "4          1               16 2020-12-29 03:38:07"
      ]
     },
     "execution_count": 19,
     "metadata": {},
     "output_type": "execute_result"
    }
   ],
   "source": [
    "transactions_last_date = transactions_part \\\n",
    "    .groupby(['client_id', 'product_category'], as_index=False) \\\n",
    "    .date \\\n",
    "    .last()\n",
    "transactions_last_date.head()"
   ]
  },
  {
   "cell_type": "code",
   "execution_count": 20,
   "metadata": {},
   "outputs": [
    {
     "data": {
      "text/html": [
       "<div>\n",
       "<style scoped>\n",
       "    .dataframe tbody tr th:only-of-type {\n",
       "        vertical-align: middle;\n",
       "    }\n",
       "\n",
       "    .dataframe tbody tr th {\n",
       "        vertical-align: top;\n",
       "    }\n",
       "\n",
       "    .dataframe thead th {\n",
       "        text-align: right;\n",
       "    }\n",
       "</style>\n",
       "<table border=\"1\" class=\"dataframe\">\n",
       "  <thead>\n",
       "    <tr style=\"text-align: right;\">\n",
       "      <th></th>\n",
       "      <th>client_id</th>\n",
       "      <th>product_category</th>\n",
       "      <th>purchase_count</th>\n",
       "      <th>purchase_normalize</th>\n",
       "      <th>last_date</th>\n",
       "    </tr>\n",
       "  </thead>\n",
       "  <tbody>\n",
       "    <tr>\n",
       "      <td>0</td>\n",
       "      <td>1</td>\n",
       "      <td>10</td>\n",
       "      <td>18</td>\n",
       "      <td>0.042607</td>\n",
       "      <td>2020-12-22 02:33:13</td>\n",
       "    </tr>\n",
       "    <tr>\n",
       "      <td>1</td>\n",
       "      <td>1</td>\n",
       "      <td>11</td>\n",
       "      <td>14</td>\n",
       "      <td>0.032581</td>\n",
       "      <td>2020-12-22 10:20:44</td>\n",
       "    </tr>\n",
       "    <tr>\n",
       "      <td>2</td>\n",
       "      <td>1</td>\n",
       "      <td>13</td>\n",
       "      <td>23</td>\n",
       "      <td>0.055138</td>\n",
       "      <td>2020-12-29 09:07:06</td>\n",
       "    </tr>\n",
       "    <tr>\n",
       "      <td>3</td>\n",
       "      <td>1</td>\n",
       "      <td>14</td>\n",
       "      <td>19</td>\n",
       "      <td>0.045113</td>\n",
       "      <td>2020-12-31 06:49:11</td>\n",
       "    </tr>\n",
       "    <tr>\n",
       "      <td>4</td>\n",
       "      <td>1</td>\n",
       "      <td>16</td>\n",
       "      <td>10</td>\n",
       "      <td>0.022556</td>\n",
       "      <td>2020-12-29 03:38:07</td>\n",
       "    </tr>\n",
       "  </tbody>\n",
       "</table>\n",
       "</div>"
      ],
      "text/plain": [
       "   client_id product_category  purchase_count  purchase_normalize  \\\n",
       "0          1               10              18            0.042607   \n",
       "1          1               11              14            0.032581   \n",
       "2          1               13              23            0.055138   \n",
       "3          1               14              19            0.045113   \n",
       "4          1               16              10            0.022556   \n",
       "\n",
       "            last_date  \n",
       "0 2020-12-22 02:33:13  \n",
       "1 2020-12-22 10:20:44  \n",
       "2 2020-12-29 09:07:06  \n",
       "3 2020-12-31 06:49:11  \n",
       "4 2020-12-29 03:38:07  "
      ]
     },
     "execution_count": 20,
     "metadata": {},
     "output_type": "execute_result"
    }
   ],
   "source": [
    "data = data \\\n",
    "    .merge(transactions_last_date, on=['client_id', 'product_category']) \\\n",
    "    .rename(columns={'date': 'last_date'})\n",
    "data.head()"
   ]
  },
  {
   "cell_type": "code",
   "execution_count": 21,
   "metadata": {},
   "outputs": [
    {
     "name": "stdout",
     "output_type": "stream",
     "text": [
      "Всего взаимодействий: 21201\n",
      "Доля взаимодействий в тренировочной выборке: 0.8 (17658)\n",
      "Доля взаимодействий в тестовой выборке: 0.2 (3543)\n"
     ]
    }
   ],
   "source": [
    "split_date = '2020-12-30'\n",
    "data_train = data.query('last_date < @split_date').copy()\n",
    "data_test = data.query('last_date >= @split_date').copy()\n",
    "\n",
    "print(f'Всего взаимодействий: {data.shape[0]}')\n",
    "print(f'Доля взаимодействий в тренировочной выборке: {round(data_train.shape[0] / data.shape[0], 1)} ({data_train.shape[0]})')\n",
    "print(f'Доля взаимодействий в тестовой выборке: {round(data_test.shape[0] / data.shape[0], 1)} ({data_test.shape[0]})')"
   ]
  },
  {
   "cell_type": "markdown",
   "metadata": {},
   "source": [
    "Для удобства подсчета качества запишем данные в формате, где строка соответствует пользователю, а столбцы будут истинными метками и предсказаниями в виде списков"
   ]
  },
  {
   "cell_type": "code",
   "execution_count": 26,
   "metadata": {},
   "outputs": [],
   "source": [
    "data_true = (\n",
    "    data_train\n",
    "    .groupby('client_id')['product_category'].agg(lambda x: list(x))\n",
    "    .reset_index()\n",
    "    .rename(columns={'product_category': 'true_train'})\n",
    "    .set_index('client_id')\n",
    ")\n",
    "\n",
    "data_true['true_test'] = (\n",
    "    data_test\n",
    "    .groupby('client_id')['product_category'].agg(lambda x: list(x))\n",
    ")"
   ]
  },
  {
   "cell_type": "markdown",
   "metadata": {},
   "source": [
    "Заполним пропуски пустыми списками."
   ]
  },
  {
   "cell_type": "code",
   "execution_count": 27,
   "metadata": {},
   "outputs": [],
   "source": [
    "data_true.loc[pd.isnull(data_true.true_test), 'true_test'] = [\n",
    "    list() for x in range(len(data_true.loc[pd.isnull(data_true.true_test), 'true_test']))]"
   ]
  },
  {
   "cell_type": "code",
   "execution_count": 28,
   "metadata": {},
   "outputs": [
    {
     "data": {
      "text/html": [
       "<div>\n",
       "<style scoped>\n",
       "    .dataframe tbody tr th:only-of-type {\n",
       "        vertical-align: middle;\n",
       "    }\n",
       "\n",
       "    .dataframe tbody tr th {\n",
       "        vertical-align: top;\n",
       "    }\n",
       "\n",
       "    .dataframe thead th {\n",
       "        text-align: right;\n",
       "    }\n",
       "</style>\n",
       "<table border=\"1\" class=\"dataframe\">\n",
       "  <thead>\n",
       "    <tr style=\"text-align: right;\">\n",
       "      <th></th>\n",
       "      <th>true_train</th>\n",
       "      <th>true_test</th>\n",
       "    </tr>\n",
       "    <tr>\n",
       "      <th>client_id</th>\n",
       "      <th></th>\n",
       "      <th></th>\n",
       "    </tr>\n",
       "  </thead>\n",
       "  <tbody>\n",
       "    <tr>\n",
       "      <td>1</td>\n",
       "      <td>[10, 11, 13, 16, 17, 18, 19, 2, 20, 21, 4, 6, ...</td>\n",
       "      <td>[14, 28, 5, 9]</td>\n",
       "    </tr>\n",
       "  </tbody>\n",
       "</table>\n",
       "</div>"
      ],
      "text/plain": [
       "                                                  true_train       true_test\n",
       "client_id                                                                   \n",
       "1          [10, 11, 13, 16, 17, 18, 19, 2, 20, 21, 4, 6, ...  [14, 28, 5, 9]"
      ]
     },
     "execution_count": 28,
     "metadata": {},
     "output_type": "execute_result"
    }
   ],
   "source": [
    "data_true.head(1)"
   ]
  },
  {
   "cell_type": "markdown",
   "metadata": {},
   "source": [
    "## Моделирование и оценка"
   ]
  },
  {
   "cell_type": "markdown",
   "metadata": {},
   "source": [
    "Для каждого пользователя будем предсказывать только одну категорию товара или услуги в связи тем, что только реклама одной категории товара или услуги может быть показана пользователю в приложении."
   ]
  },
  {
   "cell_type": "markdown",
   "metadata": {},
   "source": [
    "В качестве метрик качества моделей будем использовать: precision@k, "
   ]
  },
  {
   "cell_type": "code",
   "execution_count": 76,
   "metadata": {},
   "outputs": [],
   "source": [
    "def calc_precision(column):\n",
    "    return (\n",
    "        data_true\n",
    "        .apply(\n",
    "            lambda row:\n",
    "            len(set(row['true_test']).intersection(\n",
    "                set(row[column]))) /\n",
    "            min(len(row['true_test']) + 0.001, 10.0),\n",
    "            axis=1)).mean()"
   ]
  },
  {
   "cell_type": "markdown",
   "metadata": {},
   "source": [
    "### Baseline (модель по полуярности)"
   ]
  },
  {
   "cell_type": "markdown",
   "metadata": {},
   "source": [
    "Посчитаем популярность каждой категории, как сумму всех количеств взаимодействия с ней, и отсортируем категории по их популярности."
   ]
  },
  {
   "cell_type": "code",
   "execution_count": 42,
   "metadata": {},
   "outputs": [],
   "source": [
    "top_k = 1 # количество категорий, которое нужно предсказать пользователю"
   ]
  },
  {
   "cell_type": "code",
   "execution_count": 32,
   "metadata": {},
   "outputs": [
    {
     "data": {
      "text/plain": [
       "array(['5', '28', '6', '2', '3', '1', '7', '11', '8', '13', '10', '14',\n",
       "       '9', '15', '17', '21', '20', '16', '18', '19', '4', '29', '12',\n",
       "       '26', '27', '24', '25', '22', '23'], dtype=object)"
      ]
     },
     "execution_count": 32,
     "metadata": {},
     "output_type": "execute_result"
    }
   ],
   "source": [
    "popular_category = (\n",
    "    data_train\n",
    "    .groupby('product_category', as_index=False)\n",
    "    .agg({'purchase_normalize': 'sum'})\n",
    "    .rename(columns={'purchase_normalize': 'purchase_total'})\n",
    "    .sort_values('purchase_total', ascending=False)\n",
    "    .product_category.values\n",
    ")\n",
    "popular_category"
   ]
  },
  {
   "cell_type": "code",
   "execution_count": 40,
   "metadata": {},
   "outputs": [
    {
     "name": "stdout",
     "output_type": "stream",
     "text": [
      "Наиболее популярной категорией является: Фастфуд\n",
      "Наименее популярной категорией является: Автоуслуги\n"
     ]
    }
   ],
   "source": [
    "print(f\"Наиболее популярной категорией является: {categories.query('id == @popular_category[0]')['name'].values[0]}\")\n",
    "print(f\"Наименее популярной категорией является: {categories.query('id == @popular_category[-1]')['name'].values[0]}\")"
   ]
  },
  {
   "cell_type": "markdown",
   "metadata": {},
   "source": [
    "Делаем предсказания для каждого пользователя."
   ]
  },
  {
   "cell_type": "markdown",
   "metadata": {},
   "source": [
    "#### Без учета того, что пользователь уже приобретал"
   ]
  },
  {
   "cell_type": "markdown",
   "metadata": {},
   "source": [
    "В этом случае мы будем пользователю также рекомендовать те категории товаров и услуг, которые он приобретал. В этом случае каждому пользователю предлагаем самую популярную категорию."
   ]
  },
  {
   "cell_type": "code",
   "execution_count": 64,
   "metadata": {},
   "outputs": [],
   "source": [
    "data_true['prediction_popular_without'] = np.resize(popular_category[:top_k], (data_true.shape[0], 1))"
   ]
  },
  {
   "cell_type": "code",
   "execution_count": 65,
   "metadata": {},
   "outputs": [
    {
     "data": {
      "text/html": [
       "<div>\n",
       "<style scoped>\n",
       "    .dataframe tbody tr th:only-of-type {\n",
       "        vertical-align: middle;\n",
       "    }\n",
       "\n",
       "    .dataframe tbody tr th {\n",
       "        vertical-align: top;\n",
       "    }\n",
       "\n",
       "    .dataframe thead th {\n",
       "        text-align: right;\n",
       "    }\n",
       "</style>\n",
       "<table border=\"1\" class=\"dataframe\">\n",
       "  <thead>\n",
       "    <tr style=\"text-align: right;\">\n",
       "      <th></th>\n",
       "      <th>true_train</th>\n",
       "      <th>true_test</th>\n",
       "      <th>prediction_popular_without</th>\n",
       "    </tr>\n",
       "    <tr>\n",
       "      <th>client_id</th>\n",
       "      <th></th>\n",
       "      <th></th>\n",
       "      <th></th>\n",
       "    </tr>\n",
       "  </thead>\n",
       "  <tbody>\n",
       "    <tr>\n",
       "      <td>1</td>\n",
       "      <td>[10, 11, 13, 16, 17, 18, 19, 2, 20, 21, 4, 6, ...</td>\n",
       "      <td>[14, 28, 5, 9]</td>\n",
       "      <td>5</td>\n",
       "    </tr>\n",
       "    <tr>\n",
       "      <td>2</td>\n",
       "      <td>[1, 10, 11, 13, 14, 15, 16, 17, 18, 19, 2, 20,...</td>\n",
       "      <td>[5]</td>\n",
       "      <td>5</td>\n",
       "    </tr>\n",
       "    <tr>\n",
       "      <td>3</td>\n",
       "      <td>[10, 11, 13, 15, 16, 17, 18, 19, 20, 21, 22, 2...</td>\n",
       "      <td>[1, 14, 2, 5, 6, 9]</td>\n",
       "      <td>5</td>\n",
       "    </tr>\n",
       "    <tr>\n",
       "      <td>4</td>\n",
       "      <td>[10, 13, 14, 16, 17, 18, 19, 2, 20, 21, 23, 24...</td>\n",
       "      <td>[11, 28, 6, 9]</td>\n",
       "      <td>5</td>\n",
       "    </tr>\n",
       "    <tr>\n",
       "      <td>5</td>\n",
       "      <td>[1, 11, 13, 14, 16, 17, 18, 19, 2, 20, 21, 28,...</td>\n",
       "      <td>[10, 6]</td>\n",
       "      <td>5</td>\n",
       "    </tr>\n",
       "  </tbody>\n",
       "</table>\n",
       "</div>"
      ],
      "text/plain": [
       "                                                  true_train  \\\n",
       "client_id                                                      \n",
       "1          [10, 11, 13, 16, 17, 18, 19, 2, 20, 21, 4, 6, ...   \n",
       "2          [1, 10, 11, 13, 14, 15, 16, 17, 18, 19, 2, 20,...   \n",
       "3          [10, 11, 13, 15, 16, 17, 18, 19, 20, 21, 22, 2...   \n",
       "4          [10, 13, 14, 16, 17, 18, 19, 2, 20, 21, 23, 24...   \n",
       "5          [1, 11, 13, 14, 16, 17, 18, 19, 2, 20, 21, 28,...   \n",
       "\n",
       "                     true_test prediction_popular_without  \n",
       "client_id                                                  \n",
       "1               [14, 28, 5, 9]                          5  \n",
       "2                          [5]                          5  \n",
       "3          [1, 14, 2, 5, 6, 9]                          5  \n",
       "4               [11, 28, 6, 9]                          5  \n",
       "5                      [10, 6]                          5  "
      ]
     },
     "execution_count": 65,
     "metadata": {},
     "output_type": "execute_result"
    }
   ],
   "source": [
    "data_true.head()"
   ]
  },
  {
   "cell_type": "code",
   "execution_count": 77,
   "metadata": {},
   "outputs": [
    {
     "data": {
      "text/plain": [
       "0.14890538174745013"
      ]
     },
     "execution_count": 77,
     "metadata": {},
     "output_type": "execute_result"
    }
   ],
   "source": [
    "calc_precision('prediction_popular_without')"
   ]
  },
  {
   "cell_type": "markdown",
   "metadata": {},
   "source": [
    "#### С учетом того, что пользователь уже приобретал"
   ]
  },
  {
   "cell_type": "markdown",
   "metadata": {},
   "source": [
    "Теперь рассмотрим вариант, когда рекомендуем пользователю только те категории, которые он еще не приобретал."
   ]
  },
  {
   "cell_type": "code",
   "execution_count": 73,
   "metadata": {},
   "outputs": [],
   "source": [
    "data_true['prediction_popular_with'] = (\n",
    "    data_true.true_train\n",
    "    .apply(\n",
    "        lambda x:\n",
    "        popular_category[~np.in1d(popular_category, x)][:top_k]\n",
    "    )\n",
    ")"
   ]
  },
  {
   "cell_type": "code",
   "execution_count": 74,
   "metadata": {},
   "outputs": [
    {
     "data": {
      "text/html": [
       "<div>\n",
       "<style scoped>\n",
       "    .dataframe tbody tr th:only-of-type {\n",
       "        vertical-align: middle;\n",
       "    }\n",
       "\n",
       "    .dataframe tbody tr th {\n",
       "        vertical-align: top;\n",
       "    }\n",
       "\n",
       "    .dataframe thead th {\n",
       "        text-align: right;\n",
       "    }\n",
       "</style>\n",
       "<table border=\"1\" class=\"dataframe\">\n",
       "  <thead>\n",
       "    <tr style=\"text-align: right;\">\n",
       "      <th></th>\n",
       "      <th>true_train</th>\n",
       "      <th>true_test</th>\n",
       "      <th>prediction_popular_without</th>\n",
       "      <th>prediction_popular_with</th>\n",
       "    </tr>\n",
       "    <tr>\n",
       "      <th>client_id</th>\n",
       "      <th></th>\n",
       "      <th></th>\n",
       "      <th></th>\n",
       "      <th></th>\n",
       "    </tr>\n",
       "  </thead>\n",
       "  <tbody>\n",
       "    <tr>\n",
       "      <td>1</td>\n",
       "      <td>[10, 11, 13, 16, 17, 18, 19, 2, 20, 21, 4, 6, ...</td>\n",
       "      <td>[14, 28, 5, 9]</td>\n",
       "      <td>5</td>\n",
       "      <td>[5]</td>\n",
       "    </tr>\n",
       "    <tr>\n",
       "      <td>2</td>\n",
       "      <td>[1, 10, 11, 13, 14, 15, 16, 17, 18, 19, 2, 20,...</td>\n",
       "      <td>[5]</td>\n",
       "      <td>5</td>\n",
       "      <td>[5]</td>\n",
       "    </tr>\n",
       "    <tr>\n",
       "      <td>3</td>\n",
       "      <td>[10, 11, 13, 15, 16, 17, 18, 19, 20, 21, 22, 2...</td>\n",
       "      <td>[1, 14, 2, 5, 6, 9]</td>\n",
       "      <td>5</td>\n",
       "      <td>[5]</td>\n",
       "    </tr>\n",
       "    <tr>\n",
       "      <td>4</td>\n",
       "      <td>[10, 13, 14, 16, 17, 18, 19, 2, 20, 21, 23, 24...</td>\n",
       "      <td>[11, 28, 6, 9]</td>\n",
       "      <td>5</td>\n",
       "      <td>[28]</td>\n",
       "    </tr>\n",
       "    <tr>\n",
       "      <td>5</td>\n",
       "      <td>[1, 11, 13, 14, 16, 17, 18, 19, 2, 20, 21, 28,...</td>\n",
       "      <td>[10, 6]</td>\n",
       "      <td>5</td>\n",
       "      <td>[6]</td>\n",
       "    </tr>\n",
       "  </tbody>\n",
       "</table>\n",
       "</div>"
      ],
      "text/plain": [
       "                                                  true_train  \\\n",
       "client_id                                                      \n",
       "1          [10, 11, 13, 16, 17, 18, 19, 2, 20, 21, 4, 6, ...   \n",
       "2          [1, 10, 11, 13, 14, 15, 16, 17, 18, 19, 2, 20,...   \n",
       "3          [10, 11, 13, 15, 16, 17, 18, 19, 20, 21, 22, 2...   \n",
       "4          [10, 13, 14, 16, 17, 18, 19, 2, 20, 21, 23, 24...   \n",
       "5          [1, 11, 13, 14, 16, 17, 18, 19, 2, 20, 21, 28,...   \n",
       "\n",
       "                     true_test prediction_popular_without  \\\n",
       "client_id                                                   \n",
       "1               [14, 28, 5, 9]                          5   \n",
       "2                          [5]                          5   \n",
       "3          [1, 14, 2, 5, 6, 9]                          5   \n",
       "4               [11, 28, 6, 9]                          5   \n",
       "5                      [10, 6]                          5   \n",
       "\n",
       "          prediction_popular_with  \n",
       "client_id                          \n",
       "1                             [5]  \n",
       "2                             [5]  \n",
       "3                             [5]  \n",
       "4                            [28]  \n",
       "5                             [6]  "
      ]
     },
     "execution_count": 74,
     "metadata": {},
     "output_type": "execute_result"
    }
   ],
   "source": [
    "data_true.head()"
   ]
  },
  {
   "cell_type": "code",
   "execution_count": 75,
   "metadata": {},
   "outputs": [
    {
     "data": {
      "text/plain": [
       "0.33836705930191663"
      ]
     },
     "execution_count": 75,
     "metadata": {},
     "output_type": "execute_result"
    }
   ],
   "source": [
    "calc_precision('prediction_popular_with')"
   ]
  },
  {
   "cell_type": "markdown",
   "metadata": {},
   "source": [
    "### Коллаборативная фильтрация"
   ]
  },
  {
   "cell_type": "code",
   "execution_count": 78,
   "metadata": {},
   "outputs": [
    {
     "data": {
      "text/html": [
       "<div>\n",
       "<style scoped>\n",
       "    .dataframe tbody tr th:only-of-type {\n",
       "        vertical-align: middle;\n",
       "    }\n",
       "\n",
       "    .dataframe tbody tr th {\n",
       "        vertical-align: top;\n",
       "    }\n",
       "\n",
       "    .dataframe thead th {\n",
       "        text-align: right;\n",
       "    }\n",
       "</style>\n",
       "<table border=\"1\" class=\"dataframe\">\n",
       "  <thead>\n",
       "    <tr style=\"text-align: right;\">\n",
       "      <th>product_category</th>\n",
       "      <th>1</th>\n",
       "      <th>10</th>\n",
       "      <th>11</th>\n",
       "      <th>12</th>\n",
       "      <th>13</th>\n",
       "      <th>14</th>\n",
       "      <th>15</th>\n",
       "      <th>16</th>\n",
       "      <th>17</th>\n",
       "      <th>18</th>\n",
       "      <th>...</th>\n",
       "      <th>27</th>\n",
       "      <th>28</th>\n",
       "      <th>29</th>\n",
       "      <th>3</th>\n",
       "      <th>4</th>\n",
       "      <th>5</th>\n",
       "      <th>6</th>\n",
       "      <th>7</th>\n",
       "      <th>8</th>\n",
       "      <th>9</th>\n",
       "    </tr>\n",
       "    <tr>\n",
       "      <th>client_id</th>\n",
       "      <th></th>\n",
       "      <th></th>\n",
       "      <th></th>\n",
       "      <th></th>\n",
       "      <th></th>\n",
       "      <th></th>\n",
       "      <th></th>\n",
       "      <th></th>\n",
       "      <th></th>\n",
       "      <th></th>\n",
       "      <th></th>\n",
       "      <th></th>\n",
       "      <th></th>\n",
       "      <th></th>\n",
       "      <th></th>\n",
       "      <th></th>\n",
       "      <th></th>\n",
       "      <th></th>\n",
       "      <th></th>\n",
       "      <th></th>\n",
       "      <th></th>\n",
       "    </tr>\n",
       "  </thead>\n",
       "  <tbody>\n",
       "    <tr>\n",
       "      <td>1</td>\n",
       "      <td>0.000000</td>\n",
       "      <td>0.042607</td>\n",
       "      <td>0.032581</td>\n",
       "      <td>0.0</td>\n",
       "      <td>0.055138</td>\n",
       "      <td>0.045113</td>\n",
       "      <td>0.000000</td>\n",
       "      <td>0.022556</td>\n",
       "      <td>0.012531</td>\n",
       "      <td>0.040100</td>\n",
       "      <td>...</td>\n",
       "      <td>0.0</td>\n",
       "      <td>0.275689</td>\n",
       "      <td>0.000000</td>\n",
       "      <td>0.000000</td>\n",
       "      <td>0.027569</td>\n",
       "      <td>0.378446</td>\n",
       "      <td>0.974937</td>\n",
       "      <td>0.065163</td>\n",
       "      <td>0.060150</td>\n",
       "      <td>0.047619</td>\n",
       "    </tr>\n",
       "    <tr>\n",
       "      <td>2</td>\n",
       "      <td>0.072682</td>\n",
       "      <td>0.050125</td>\n",
       "      <td>0.045113</td>\n",
       "      <td>0.0</td>\n",
       "      <td>0.045113</td>\n",
       "      <td>0.042607</td>\n",
       "      <td>0.107769</td>\n",
       "      <td>0.020050</td>\n",
       "      <td>0.025063</td>\n",
       "      <td>0.017544</td>\n",
       "      <td>...</td>\n",
       "      <td>0.0</td>\n",
       "      <td>0.298246</td>\n",
       "      <td>0.000000</td>\n",
       "      <td>0.100251</td>\n",
       "      <td>0.010025</td>\n",
       "      <td>0.338346</td>\n",
       "      <td>0.756892</td>\n",
       "      <td>0.030075</td>\n",
       "      <td>0.032581</td>\n",
       "      <td>0.062657</td>\n",
       "    </tr>\n",
       "    <tr>\n",
       "      <td>3</td>\n",
       "      <td>0.095238</td>\n",
       "      <td>0.037594</td>\n",
       "      <td>0.062657</td>\n",
       "      <td>0.0</td>\n",
       "      <td>0.040100</td>\n",
       "      <td>0.040100</td>\n",
       "      <td>0.105263</td>\n",
       "      <td>0.017544</td>\n",
       "      <td>0.022556</td>\n",
       "      <td>0.017544</td>\n",
       "      <td>...</td>\n",
       "      <td>0.0</td>\n",
       "      <td>0.295739</td>\n",
       "      <td>0.000000</td>\n",
       "      <td>0.090226</td>\n",
       "      <td>0.027569</td>\n",
       "      <td>0.395990</td>\n",
       "      <td>0.769424</td>\n",
       "      <td>0.072682</td>\n",
       "      <td>0.042607</td>\n",
       "      <td>0.052632</td>\n",
       "    </tr>\n",
       "    <tr>\n",
       "      <td>4</td>\n",
       "      <td>0.000000</td>\n",
       "      <td>0.047619</td>\n",
       "      <td>0.040100</td>\n",
       "      <td>0.0</td>\n",
       "      <td>0.025063</td>\n",
       "      <td>0.035088</td>\n",
       "      <td>0.000000</td>\n",
       "      <td>0.020050</td>\n",
       "      <td>0.005013</td>\n",
       "      <td>0.040100</td>\n",
       "      <td>...</td>\n",
       "      <td>0.0</td>\n",
       "      <td>0.248120</td>\n",
       "      <td>0.027569</td>\n",
       "      <td>0.000000</td>\n",
       "      <td>0.012531</td>\n",
       "      <td>0.293233</td>\n",
       "      <td>0.927318</td>\n",
       "      <td>0.042607</td>\n",
       "      <td>0.067669</td>\n",
       "      <td>0.050125</td>\n",
       "    </tr>\n",
       "    <tr>\n",
       "      <td>5</td>\n",
       "      <td>0.110276</td>\n",
       "      <td>0.082707</td>\n",
       "      <td>0.057644</td>\n",
       "      <td>0.0</td>\n",
       "      <td>0.062657</td>\n",
       "      <td>0.070175</td>\n",
       "      <td>0.000000</td>\n",
       "      <td>0.015038</td>\n",
       "      <td>0.025063</td>\n",
       "      <td>0.025063</td>\n",
       "      <td>...</td>\n",
       "      <td>0.0</td>\n",
       "      <td>0.255639</td>\n",
       "      <td>0.000000</td>\n",
       "      <td>0.107769</td>\n",
       "      <td>0.000000</td>\n",
       "      <td>0.385965</td>\n",
       "      <td>0.979950</td>\n",
       "      <td>0.067669</td>\n",
       "      <td>0.052632</td>\n",
       "      <td>0.065163</td>\n",
       "    </tr>\n",
       "  </tbody>\n",
       "</table>\n",
       "<p>5 rows × 29 columns</p>\n",
       "</div>"
      ],
      "text/plain": [
       "product_category         1        10        11   12        13        14  \\\n",
       "client_id                                                                 \n",
       "1                 0.000000  0.042607  0.032581  0.0  0.055138  0.045113   \n",
       "2                 0.072682  0.050125  0.045113  0.0  0.045113  0.042607   \n",
       "3                 0.095238  0.037594  0.062657  0.0  0.040100  0.040100   \n",
       "4                 0.000000  0.047619  0.040100  0.0  0.025063  0.035088   \n",
       "5                 0.110276  0.082707  0.057644  0.0  0.062657  0.070175   \n",
       "\n",
       "product_category        15        16        17        18  ...   27        28  \\\n",
       "client_id                                                 ...                  \n",
       "1                 0.000000  0.022556  0.012531  0.040100  ...  0.0  0.275689   \n",
       "2                 0.107769  0.020050  0.025063  0.017544  ...  0.0  0.298246   \n",
       "3                 0.105263  0.017544  0.022556  0.017544  ...  0.0  0.295739   \n",
       "4                 0.000000  0.020050  0.005013  0.040100  ...  0.0  0.248120   \n",
       "5                 0.000000  0.015038  0.025063  0.025063  ...  0.0  0.255639   \n",
       "\n",
       "product_category        29         3         4         5         6         7  \\\n",
       "client_id                                                                      \n",
       "1                 0.000000  0.000000  0.027569  0.378446  0.974937  0.065163   \n",
       "2                 0.000000  0.100251  0.010025  0.338346  0.756892  0.030075   \n",
       "3                 0.000000  0.090226  0.027569  0.395990  0.769424  0.072682   \n",
       "4                 0.027569  0.000000  0.012531  0.293233  0.927318  0.042607   \n",
       "5                 0.000000  0.107769  0.000000  0.385965  0.979950  0.067669   \n",
       "\n",
       "product_category         8         9  \n",
       "client_id                             \n",
       "1                 0.060150  0.047619  \n",
       "2                 0.032581  0.062657  \n",
       "3                 0.042607  0.052632  \n",
       "4                 0.067669  0.050125  \n",
       "5                 0.052632  0.065163  \n",
       "\n",
       "[5 rows x 29 columns]"
      ]
     },
     "execution_count": 78,
     "metadata": {},
     "output_type": "execute_result"
    }
   ],
   "source": [
    "data_matrix = pd.pivot_table(data, index='client_id', columns='product_category', values='purchase_normalize', fill_value=0)\n",
    "data_matrix.head()"
   ]
  },
  {
   "cell_type": "markdown",
   "metadata": {},
   "source": [
    "#### Memory-dased"
   ]
  },
  {
   "cell_type": "code",
   "execution_count": 79,
   "metadata": {},
   "outputs": [],
   "source": [
    "matrix = data_matrix.values"
   ]
  },
  {
   "cell_type": "code",
   "execution_count": 84,
   "metadata": {},
   "outputs": [
    {
     "data": {
      "application/vnd.jupyter.widget-view+json": {
       "model_id": "010807075371404ab0a6a350d1dcfb8e",
       "version_major": 2,
       "version_minor": 0
      },
      "text/plain": [
       "HBox(children=(IntProgress(value=0, max=999), HTML(value='')))"
      ]
     },
     "metadata": {},
     "output_type": "display_data"
    },
    {
     "name": "stdout",
     "output_type": "stream",
     "text": [
      "\n"
     ]
    }
   ],
   "source": [
    "similarity_users = np.zeros((len(matrix), len(matrix)))\n",
    "\n",
    "for i in tqdm_notebook(range(len(matrix)-1)):\n",
    "    for j in range(i+1, len(matrix)):\n",
    "        \n",
    "        # nonzero elements of two users\n",
    "        mask_uv = (matrix[i] != 0) & (matrix[j] != 0)\n",
    "        \n",
    "        # continue if no intersection\n",
    "        if np.sum(mask_uv) == 0:\n",
    "            continue\n",
    "            \n",
    "        # get nonzero elements\n",
    "        ratings_v = matrix[i, mask_uv]\n",
    "        ratings_u = matrix[j, mask_uv]\n",
    "        \n",
    "        # for nonzero std\n",
    "        if len(np.unique(ratings_v)) < 2 or len(np.unique(ratings_u)) < 2:\n",
    "            continue\n",
    "        similarity_users[i,j] = np.corrcoef(ratings_v, ratings_u)[0, 1]\n",
    "        similarity_users[j,i] = similarity_users[i,j]"
   ]
  },
  {
   "cell_type": "code",
   "execution_count": 85,
   "metadata": {},
   "outputs": [
    {
     "data": {
      "application/vnd.jupyter.widget-view+json": {
       "model_id": "74f4da7bf1934711b5b66a891a50a47d",
       "version_major": 2,
       "version_minor": 0
      },
      "text/plain": [
       "HBox(children=(IntProgress(value=0, max=1000), HTML(value='')))"
      ]
     },
     "metadata": {},
     "output_type": "display_data"
    },
    {
     "name": "stderr",
     "output_type": "stream",
     "text": [
      "C:\\Users\\kiril\\Anaconda3\\lib\\site-packages\\numpy\\lib\\arraysetops.py:569: FutureWarning: elementwise comparison failed; returning scalar instead, but in the future will perform elementwise comparison\n",
      "  mask |= (ar1 == a)\n"
     ]
    },
    {
     "name": "stdout",
     "output_type": "stream",
     "text": [
      "\n"
     ]
    }
   ],
   "source": [
    "prediction_user_based = []\n",
    "for i in tqdm_notebook(range(len(similarity_users))):\n",
    "    users_sim = similarity_users[i] > 0\n",
    "    if len(users_sim) == 0:\n",
    "        prediction_user_based.append([])\n",
    "    else:\n",
    "        tmp_recommend = np.argsort(matrix[users_sim].sum(axis=0))[::-1]\n",
    "        tmp_recommend = data_matrix.columns[tmp_recommend]\n",
    "        recommend = np.array(tmp_recommend)[~np.in1d(tmp_recommend, data_true.iloc[i])][:10]\n",
    "        prediction_user_based.append(list(recommend))\n",
    "\n",
    "data_true['prediction_user_based'] = prediction_user_based"
   ]
  },
  {
   "cell_type": "code",
   "execution_count": 86,
   "metadata": {},
   "outputs": [
    {
     "data": {
      "text/plain": [
       "0.5111497857838353"
      ]
     },
     "execution_count": 86,
     "metadata": {},
     "output_type": "execute_result"
    }
   ],
   "source": [
    "calc_precision('prediction_user_based')"
   ]
  },
  {
   "cell_type": "markdown",
   "metadata": {},
   "source": [
    "#### Latent Factor Model"
   ]
  },
  {
   "cell_type": "code",
   "execution_count": 93,
   "metadata": {},
   "outputs": [
    {
     "name": "stdout",
     "output_type": "stream",
     "text": [
      "(1000, 29) (1000, 1000) (29,) (29, 29)\n"
     ]
    }
   ],
   "source": [
    "U, sigma, V = svd(data_matrix)\n",
    "print(data_matrix.shape, U.shape, sigma.shape, V.shape)"
   ]
  },
  {
   "cell_type": "code",
   "execution_count": 94,
   "metadata": {},
   "outputs": [
    {
     "name": "stdout",
     "output_type": "stream",
     "text": [
      "6.385793947506476e-26\n"
     ]
    }
   ],
   "source": [
    "Sigma = np.zeros((1000, 29))\n",
    "Sigma[:29, :29] = np.diag(sigma)\n",
    "\n",
    "new_data_matrix = U.dot(Sigma).dot(V)\n",
    "print(sum(sum((new_data_matrix - data_matrix.values) ** 2)))"
   ]
  },
  {
   "cell_type": "code",
   "execution_count": 95,
   "metadata": {},
   "outputs": [],
   "source": [
    "K = 25\n",
    "sigma[K:] = 0\n",
    "Sigma = np.zeros((1000, 29))\n",
    "Sigma[:29, :29] = np.diag(sigma)"
   ]
  },
  {
   "cell_type": "code",
   "execution_count": 96,
   "metadata": {},
   "outputs": [
    {
     "name": "stdout",
     "output_type": "stream",
     "text": [
      "0.0005187998118375348\n",
      "809.8458534297037\n"
     ]
    }
   ],
   "source": [
    "new_data_matrix = U.dot(Sigma).dot(V)\n",
    "print(sum(sum((new_data_matrix - data_matrix.values) ** 2)))\n",
    "print(sum(sum((data_matrix.values.mean() - data_matrix.values) ** 2)))"
   ]
  },
  {
   "cell_type": "code",
   "execution_count": 97,
   "metadata": {},
   "outputs": [
    {
     "data": {
      "application/vnd.jupyter.widget-view+json": {
       "model_id": "638fd9becd5c4e96bc4ff57185ef76cd",
       "version_major": 2,
       "version_minor": 0
      },
      "text/plain": [
       "HBox(children=(IntProgress(value=0, max=1000), HTML(value='')))"
      ]
     },
     "metadata": {},
     "output_type": "display_data"
    },
    {
     "name": "stdout",
     "output_type": "stream",
     "text": [
      "\n"
     ]
    }
   ],
   "source": [
    "new_data_matrix = pd.DataFrame(new_data_matrix, index=data_matrix.index, columns=data_matrix.columns)\n",
    "\n",
    "predictions = []\n",
    "for client_id in tqdm_notebook(data_true.index):\n",
    "    prediction = (\n",
    "        new_data_matrix\n",
    "        .loc[client_id]\n",
    "        .sort_values(ascending=False)\n",
    "        .index.values\n",
    "    )\n",
    "    \n",
    "    predictions.append(\n",
    "        list(prediction[~np.in1d(\n",
    "            prediction,\n",
    "            data_true.loc[client_id, 'true_train'])])[:top_k])\n",
    "\n",
    "data_true['prediction_svd'] = predictions"
   ]
  },
  {
   "cell_type": "code",
   "execution_count": 98,
   "metadata": {},
   "outputs": [
    {
     "data": {
      "text/plain": [
       "0.3416977838090405"
      ]
     },
     "execution_count": 98,
     "metadata": {},
     "output_type": "execute_result"
    }
   ],
   "source": [
    "calc_precision('prediction_svd')"
   ]
  },
  {
   "cell_type": "markdown",
   "metadata": {},
   "source": [
    "### Контентная модель"
   ]
  },
  {
   "cell_type": "code",
   "execution_count": null,
   "metadata": {},
   "outputs": [],
   "source": []
  },
  {
   "cell_type": "markdown",
   "metadata": {},
   "source": [
    "### Факторизационная машина"
   ]
  },
  {
   "cell_type": "code",
   "execution_count": null,
   "metadata": {},
   "outputs": [],
   "source": []
  }
 ],
 "metadata": {
  "kernelspec": {
   "display_name": "Python 3",
   "language": "python",
   "name": "python3"
  },
  "language_info": {
   "codemirror_mode": {
    "name": "ipython",
    "version": 3
   },
   "file_extension": ".py",
   "mimetype": "text/x-python",
   "name": "python",
   "nbconvert_exporter": "python",
   "pygments_lexer": "ipython3",
   "version": "3.7.4"
  }
 },
 "nbformat": 4,
 "nbformat_minor": 2
}
