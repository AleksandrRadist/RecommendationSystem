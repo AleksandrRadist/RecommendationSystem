{
 "cells": [
  {
   "cell_type": "code",
   "execution_count": 1,
   "metadata": {},
   "outputs": [],
   "source": [
    "import pandas as pd\n",
    "from sklearn.model_selection import train_test_split\n",
    "import matplotlib.pyplot as plt\n",
    "import seaborn as sns\n",
    "\n",
    "%matplotlib inline"
   ]
  },
  {
   "cell_type": "markdown",
   "metadata": {},
   "source": [
    "## Подготовка данных"
   ]
  },
  {
   "cell_type": "markdown",
   "metadata": {},
   "source": [
    "### \"Схлопывание\" повторяющихся действий пользователей"
   ]
  },
  {
   "cell_type": "markdown",
   "metadata": {},
   "source": [
    "Для каждого пользователя посчитаем количество того, сколько раз он взаимодействовал с каждой категорией товара в данных транзакций."
   ]
  },
  {
   "cell_type": "code",
   "execution_count": 2,
   "metadata": {},
   "outputs": [],
   "source": [
    "path_transactions = r\"C:\\Users\\kiril\\OneDrive\\Рабочий стол\\Вышка\\КР-ВКР\\Курсовая\\3 курс\\RecommendationSystem\\model\\data\\transactions.csv\"\n",
    "path_clients = r\"C:\\Users\\kiril\\OneDrive\\Рабочий стол\\Вышка\\КР-ВКР\\Курсовая\\3 курс\\RecommendationSystem\\model\\data\\clients.csv\""
   ]
  },
  {
   "cell_type": "code",
   "execution_count": 3,
   "metadata": {},
   "outputs": [
    {
     "data": {
      "text/html": [
       "<div>\n",
       "<style scoped>\n",
       "    .dataframe tbody tr th:only-of-type {\n",
       "        vertical-align: middle;\n",
       "    }\n",
       "\n",
       "    .dataframe tbody tr th {\n",
       "        vertical-align: top;\n",
       "    }\n",
       "\n",
       "    .dataframe thead th {\n",
       "        text-align: right;\n",
       "    }\n",
       "</style>\n",
       "<table border=\"1\" class=\"dataframe\">\n",
       "  <thead>\n",
       "    <tr style=\"text-align: right;\">\n",
       "      <th></th>\n",
       "      <th>Unnamed: 0</th>\n",
       "      <th>client_id</th>\n",
       "      <th>product_category</th>\n",
       "      <th>product_company</th>\n",
       "      <th>subtype</th>\n",
       "      <th>amount</th>\n",
       "      <th>date</th>\n",
       "      <th>transaction_type</th>\n",
       "    </tr>\n",
       "  </thead>\n",
       "  <tbody>\n",
       "    <tr>\n",
       "      <td>0</td>\n",
       "      <td>34478</td>\n",
       "      <td>37</td>\n",
       "      <td>29</td>\n",
       "      <td>NaN</td>\n",
       "      <td>Автоплатеж</td>\n",
       "      <td>1209</td>\n",
       "      <td>2020-01-01 00:00:00</td>\n",
       "      <td>Negative</td>\n",
       "    </tr>\n",
       "    <tr>\n",
       "      <td>1</td>\n",
       "      <td>65406</td>\n",
       "      <td>71</td>\n",
       "      <td>4</td>\n",
       "      <td>YouTube Music</td>\n",
       "      <td>Подписка</td>\n",
       "      <td>169</td>\n",
       "      <td>2020-01-01 00:00:00</td>\n",
       "      <td>Negative</td>\n",
       "    </tr>\n",
       "    <tr>\n",
       "      <td>2</td>\n",
       "      <td>82186</td>\n",
       "      <td>88</td>\n",
       "      <td>29</td>\n",
       "      <td>NaN</td>\n",
       "      <td>Автоплатеж</td>\n",
       "      <td>3711</td>\n",
       "      <td>2020-01-01 00:00:00</td>\n",
       "      <td>Negative</td>\n",
       "    </tr>\n",
       "    <tr>\n",
       "      <td>3</td>\n",
       "      <td>83113</td>\n",
       "      <td>89</td>\n",
       "      <td>29</td>\n",
       "      <td>NaN</td>\n",
       "      <td>Автоплатеж</td>\n",
       "      <td>6443</td>\n",
       "      <td>2020-01-01 00:00:00</td>\n",
       "      <td>Negative</td>\n",
       "    </tr>\n",
       "    <tr>\n",
       "      <td>4</td>\n",
       "      <td>131373</td>\n",
       "      <td>141</td>\n",
       "      <td>29</td>\n",
       "      <td>NaN</td>\n",
       "      <td>Автоплатеж</td>\n",
       "      <td>7319</td>\n",
       "      <td>2020-01-01 00:00:00</td>\n",
       "      <td>Negative</td>\n",
       "    </tr>\n",
       "  </tbody>\n",
       "</table>\n",
       "</div>"
      ],
      "text/plain": [
       "   Unnamed: 0  client_id  product_category product_company     subtype  \\\n",
       "0       34478         37                29             NaN  Автоплатеж   \n",
       "1       65406         71                 4   YouTube Music    Подписка   \n",
       "2       82186         88                29             NaN  Автоплатеж   \n",
       "3       83113         89                29             NaN  Автоплатеж   \n",
       "4      131373        141                29             NaN  Автоплатеж   \n",
       "\n",
       "   amount                 date transaction_type  \n",
       "0    1209  2020-01-01 00:00:00         Negative  \n",
       "1     169  2020-01-01 00:00:00         Negative  \n",
       "2    3711  2020-01-01 00:00:00         Negative  \n",
       "3    6443  2020-01-01 00:00:00         Negative  \n",
       "4    7319  2020-01-01 00:00:00         Negative  "
      ]
     },
     "execution_count": 3,
     "metadata": {},
     "output_type": "execute_result"
    }
   ],
   "source": [
    "transactions = pd.read_csv(path_transactions)\n",
    "transactions.head()"
   ]
  },
  {
   "cell_type": "code",
   "execution_count": 4,
   "metadata": {},
   "outputs": [
    {
     "name": "stdout",
     "output_type": "stream",
     "text": [
      "<class 'pandas.core.frame.DataFrame'>\n",
      "RangeIndex: 929135 entries, 0 to 929134\n",
      "Data columns (total 8 columns):\n",
      "Unnamed: 0          929135 non-null int64\n",
      "client_id           929135 non-null int64\n",
      "product_category    929135 non-null int64\n",
      "product_company     644651 non-null object\n",
      "subtype             929135 non-null object\n",
      "amount              929135 non-null int64\n",
      "date                929135 non-null object\n",
      "transaction_type    929135 non-null object\n",
      "dtypes: int64(4), object(4)\n",
      "memory usage: 56.7+ MB\n"
     ]
    }
   ],
   "source": [
    "transactions.info()"
   ]
  },
  {
   "cell_type": "code",
   "execution_count": 5,
   "metadata": {},
   "outputs": [],
   "source": [
    "transactions.product_category = transactions.product_category.astype('str')"
   ]
  },
  {
   "cell_type": "code",
   "execution_count": 6,
   "metadata": {},
   "outputs": [],
   "source": [
    "transactions.date = pd.to_datetime(transactions.date)"
   ]
  },
  {
   "cell_type": "code",
   "execution_count": 7,
   "metadata": {},
   "outputs": [
    {
     "data": {
      "text/plain": [
       "Unnamed: 0                   int64\n",
       "client_id                    int64\n",
       "product_category            object\n",
       "product_company             object\n",
       "subtype                     object\n",
       "amount                       int64\n",
       "date                datetime64[ns]\n",
       "transaction_type            object\n",
       "dtype: object"
      ]
     },
     "execution_count": 7,
     "metadata": {},
     "output_type": "execute_result"
    }
   ],
   "source": [
    "transactions.dtypes"
   ]
  },
  {
   "cell_type": "code",
   "execution_count": 8,
   "metadata": {},
   "outputs": [
    {
     "data": {
      "text/html": [
       "<div>\n",
       "<style scoped>\n",
       "    .dataframe tbody tr th:only-of-type {\n",
       "        vertical-align: middle;\n",
       "    }\n",
       "\n",
       "    .dataframe tbody tr th {\n",
       "        vertical-align: top;\n",
       "    }\n",
       "\n",
       "    .dataframe thead th {\n",
       "        text-align: right;\n",
       "    }\n",
       "</style>\n",
       "<table border=\"1\" class=\"dataframe\">\n",
       "  <thead>\n",
       "    <tr style=\"text-align: right;\">\n",
       "      <th></th>\n",
       "      <th>id</th>\n",
       "      <th>fullname</th>\n",
       "      <th>address</th>\n",
       "      <th>phone_number</th>\n",
       "      <th>email</th>\n",
       "      <th>workplace</th>\n",
       "      <th>birthdate</th>\n",
       "      <th>registration_date</th>\n",
       "      <th>gender</th>\n",
       "      <th>income</th>\n",
       "      <th>expenses</th>\n",
       "      <th>credit</th>\n",
       "      <th>deposit</th>\n",
       "    </tr>\n",
       "  </thead>\n",
       "  <tbody>\n",
       "    <tr>\n",
       "      <td>0</td>\n",
       "      <td>1</td>\n",
       "      <td>Волкова Фаина Афанасьевна</td>\n",
       "      <td>с. Новосибирск, наб. Привокзальная, д. 58 к. 5...</td>\n",
       "      <td>8 (475) 014-6494</td>\n",
       "      <td>wkirillov@rambler.ru</td>\n",
       "      <td>ст. Кировск (Мурм.), ш. Коммуны, д. 238 стр. 3...</td>\n",
       "      <td>1966-09-07</td>\n",
       "      <td>2017-01-10</td>\n",
       "      <td>F</td>\n",
       "      <td>230910.0</td>\n",
       "      <td>61975</td>\n",
       "      <td>1.0</td>\n",
       "      <td>NaN</td>\n",
       "    </tr>\n",
       "    <tr>\n",
       "      <td>1</td>\n",
       "      <td>2</td>\n",
       "      <td>Пелагея Вячеславовна Галкина</td>\n",
       "      <td>клх Белокуриха, ш. Комсомольское, д. 701 стр. ...</td>\n",
       "      <td>+7 (981) 576-1146</td>\n",
       "      <td>bogdanovmoke@rambler.ru</td>\n",
       "      <td>г. Елабуга, бул. 60 лет Октября, д. 5, 070955</td>\n",
       "      <td>1987-05-23</td>\n",
       "      <td>2016-07-14</td>\n",
       "      <td>F</td>\n",
       "      <td>NaN</td>\n",
       "      <td>75232</td>\n",
       "      <td>NaN</td>\n",
       "      <td>NaN</td>\n",
       "    </tr>\n",
       "    <tr>\n",
       "      <td>2</td>\n",
       "      <td>3</td>\n",
       "      <td>Валентина Игоревна Фомина</td>\n",
       "      <td>к. Усть-Катав, бул. Восточный, д. 292 стр. 3, ...</td>\n",
       "      <td>+7 (920) 068-58-36</td>\n",
       "      <td>mjasnikovvalentin@mail.ru</td>\n",
       "      <td>г. Сосновый Бор, алл. Лесхозная, д. 146, 139446</td>\n",
       "      <td>1974-06-15</td>\n",
       "      <td>2017-10-18</td>\n",
       "      <td>F</td>\n",
       "      <td>NaN</td>\n",
       "      <td>88813</td>\n",
       "      <td>NaN</td>\n",
       "      <td>NaN</td>\n",
       "    </tr>\n",
       "    <tr>\n",
       "      <td>3</td>\n",
       "      <td>4</td>\n",
       "      <td>тов. Воронцова Фёкла Федоровна</td>\n",
       "      <td>клх Новая Игирма, алл. Пограничная, д. 6/6, 73...</td>\n",
       "      <td>8 334 398 3828</td>\n",
       "      <td>martin85@rambler.ru</td>\n",
       "      <td>клх Котельнич, бул. Серафимовича, д. 97, 753076</td>\n",
       "      <td>1979-10-19</td>\n",
       "      <td>2012-08-25</td>\n",
       "      <td>F</td>\n",
       "      <td>NaN</td>\n",
       "      <td>55167</td>\n",
       "      <td>NaN</td>\n",
       "      <td>NaN</td>\n",
       "    </tr>\n",
       "    <tr>\n",
       "      <td>4</td>\n",
       "      <td>5</td>\n",
       "      <td>Филипп Дмитриевич Воронцов</td>\n",
       "      <td>к. Ребриха, пр. Свободы, д. 54, 466509</td>\n",
       "      <td>8 (296) 455-0453</td>\n",
       "      <td>jan_07@rambler.ru</td>\n",
       "      <td>клх Карабудахкент, ул. Абрикосовая, д. 3 к. 19...</td>\n",
       "      <td>1986-08-14</td>\n",
       "      <td>2017-03-15</td>\n",
       "      <td>M</td>\n",
       "      <td>NaN</td>\n",
       "      <td>85106</td>\n",
       "      <td>NaN</td>\n",
       "      <td>NaN</td>\n",
       "    </tr>\n",
       "  </tbody>\n",
       "</table>\n",
       "</div>"
      ],
      "text/plain": [
       "   id                        fullname  \\\n",
       "0   1       Волкова Фаина Афанасьевна   \n",
       "1   2    Пелагея Вячеславовна Галкина   \n",
       "2   3       Валентина Игоревна Фомина   \n",
       "3   4  тов. Воронцова Фёкла Федоровна   \n",
       "4   5      Филипп Дмитриевич Воронцов   \n",
       "\n",
       "                                             address        phone_number  \\\n",
       "0  с. Новосибирск, наб. Привокзальная, д. 58 к. 5...    8 (475) 014-6494   \n",
       "1  клх Белокуриха, ш. Комсомольское, д. 701 стр. ...   +7 (981) 576-1146   \n",
       "2  к. Усть-Катав, бул. Восточный, д. 292 стр. 3, ...  +7 (920) 068-58-36   \n",
       "3  клх Новая Игирма, алл. Пограничная, д. 6/6, 73...      8 334 398 3828   \n",
       "4             к. Ребриха, пр. Свободы, д. 54, 466509    8 (296) 455-0453   \n",
       "\n",
       "                       email  \\\n",
       "0       wkirillov@rambler.ru   \n",
       "1    bogdanovmoke@rambler.ru   \n",
       "2  mjasnikovvalentin@mail.ru   \n",
       "3        martin85@rambler.ru   \n",
       "4          jan_07@rambler.ru   \n",
       "\n",
       "                                           workplace   birthdate  \\\n",
       "0  ст. Кировск (Мурм.), ш. Коммуны, д. 238 стр. 3...  1966-09-07   \n",
       "1      г. Елабуга, бул. 60 лет Октября, д. 5, 070955  1987-05-23   \n",
       "2    г. Сосновый Бор, алл. Лесхозная, д. 146, 139446  1974-06-15   \n",
       "3    клх Котельнич, бул. Серафимовича, д. 97, 753076  1979-10-19   \n",
       "4  клх Карабудахкент, ул. Абрикосовая, д. 3 к. 19...  1986-08-14   \n",
       "\n",
       "  registration_date gender    income  expenses  credit  deposit  \n",
       "0        2017-01-10      F  230910.0     61975     1.0      NaN  \n",
       "1        2016-07-14      F       NaN     75232     NaN      NaN  \n",
       "2        2017-10-18      F       NaN     88813     NaN      NaN  \n",
       "3        2012-08-25      F       NaN     55167     NaN      NaN  \n",
       "4        2017-03-15      M       NaN     85106     NaN      NaN  "
      ]
     },
     "execution_count": 8,
     "metadata": {},
     "output_type": "execute_result"
    }
   ],
   "source": [
    "clients = pd.read_csv(path_clients)\n",
    "clients.head()"
   ]
  },
  {
   "cell_type": "code",
   "execution_count": 9,
   "metadata": {},
   "outputs": [],
   "source": [
    "transactions.rename(columns={'Unnamed: 0': 'id'}, inplace=True)"
   ]
  },
  {
   "cell_type": "code",
   "execution_count": 10,
   "metadata": {},
   "outputs": [
    {
     "data": {
      "text/html": [
       "<div>\n",
       "<style scoped>\n",
       "    .dataframe tbody tr th:only-of-type {\n",
       "        vertical-align: middle;\n",
       "    }\n",
       "\n",
       "    .dataframe tbody tr th {\n",
       "        vertical-align: top;\n",
       "    }\n",
       "\n",
       "    .dataframe thead th {\n",
       "        text-align: right;\n",
       "    }\n",
       "</style>\n",
       "<table border=\"1\" class=\"dataframe\">\n",
       "  <thead>\n",
       "    <tr style=\"text-align: right;\">\n",
       "      <th></th>\n",
       "      <th>id</th>\n",
       "    </tr>\n",
       "  </thead>\n",
       "  <tbody>\n",
       "    <tr>\n",
       "      <td>0</td>\n",
       "      <td>1</td>\n",
       "    </tr>\n",
       "    <tr>\n",
       "      <td>1</td>\n",
       "      <td>2</td>\n",
       "    </tr>\n",
       "    <tr>\n",
       "      <td>2</td>\n",
       "      <td>3</td>\n",
       "    </tr>\n",
       "    <tr>\n",
       "      <td>3</td>\n",
       "      <td>4</td>\n",
       "    </tr>\n",
       "    <tr>\n",
       "      <td>4</td>\n",
       "      <td>5</td>\n",
       "    </tr>\n",
       "  </tbody>\n",
       "</table>\n",
       "</div>"
      ],
      "text/plain": [
       "   id\n",
       "0   1\n",
       "1   2\n",
       "2   3\n",
       "3   4\n",
       "4   5"
      ]
     },
     "execution_count": 10,
     "metadata": {},
     "output_type": "execute_result"
    }
   ],
   "source": [
    "clients_id = clients[['id']]\n",
    "clients_id.head()"
   ]
  },
  {
   "cell_type": "code",
   "execution_count": 11,
   "metadata": {},
   "outputs": [
    {
     "data": {
      "text/html": [
       "<div>\n",
       "<style scoped>\n",
       "    .dataframe tbody tr th:only-of-type {\n",
       "        vertical-align: middle;\n",
       "    }\n",
       "\n",
       "    .dataframe tbody tr th {\n",
       "        vertical-align: top;\n",
       "    }\n",
       "\n",
       "    .dataframe thead th {\n",
       "        text-align: right;\n",
       "    }\n",
       "</style>\n",
       "<table border=\"1\" class=\"dataframe\">\n",
       "  <thead>\n",
       "    <tr style=\"text-align: right;\">\n",
       "      <th></th>\n",
       "      <th>client_id</th>\n",
       "      <th>product_category</th>\n",
       "      <th>date</th>\n",
       "    </tr>\n",
       "  </thead>\n",
       "  <tbody>\n",
       "    <tr>\n",
       "      <td>0</td>\n",
       "      <td>37</td>\n",
       "      <td>29</td>\n",
       "      <td>2020-01-01</td>\n",
       "    </tr>\n",
       "    <tr>\n",
       "      <td>1</td>\n",
       "      <td>71</td>\n",
       "      <td>4</td>\n",
       "      <td>2020-01-01</td>\n",
       "    </tr>\n",
       "    <tr>\n",
       "      <td>2</td>\n",
       "      <td>88</td>\n",
       "      <td>29</td>\n",
       "      <td>2020-01-01</td>\n",
       "    </tr>\n",
       "    <tr>\n",
       "      <td>3</td>\n",
       "      <td>89</td>\n",
       "      <td>29</td>\n",
       "      <td>2020-01-01</td>\n",
       "    </tr>\n",
       "    <tr>\n",
       "      <td>4</td>\n",
       "      <td>141</td>\n",
       "      <td>29</td>\n",
       "      <td>2020-01-01</td>\n",
       "    </tr>\n",
       "  </tbody>\n",
       "</table>\n",
       "</div>"
      ],
      "text/plain": [
       "   client_id product_category       date\n",
       "0         37               29 2020-01-01\n",
       "1         71                4 2020-01-01\n",
       "2         88               29 2020-01-01\n",
       "3         89               29 2020-01-01\n",
       "4        141               29 2020-01-01"
      ]
     },
     "execution_count": 11,
     "metadata": {},
     "output_type": "execute_result"
    }
   ],
   "source": [
    "transactions_part = transactions[['client_id', 'product_category', 'date']]\n",
    "transactions_part.head()"
   ]
  },
  {
   "cell_type": "code",
   "execution_count": 12,
   "metadata": {},
   "outputs": [],
   "source": [
    "data = transactions_part.groupby(['client_id', 'product_category'], as_index=False) \\\n",
    "    .agg({'date': 'count'}) \\\n",
    "    .rename(columns={'date': 'purchase_count'})"
   ]
  },
  {
   "cell_type": "code",
   "execution_count": 13,
   "metadata": {},
   "outputs": [
    {
     "data": {
      "text/html": [
       "<div>\n",
       "<style scoped>\n",
       "    .dataframe tbody tr th:only-of-type {\n",
       "        vertical-align: middle;\n",
       "    }\n",
       "\n",
       "    .dataframe tbody tr th {\n",
       "        vertical-align: top;\n",
       "    }\n",
       "\n",
       "    .dataframe thead th {\n",
       "        text-align: right;\n",
       "    }\n",
       "</style>\n",
       "<table border=\"1\" class=\"dataframe\">\n",
       "  <thead>\n",
       "    <tr style=\"text-align: right;\">\n",
       "      <th></th>\n",
       "      <th>client_id</th>\n",
       "      <th>product_category</th>\n",
       "      <th>purchase_count</th>\n",
       "    </tr>\n",
       "  </thead>\n",
       "  <tbody>\n",
       "    <tr>\n",
       "      <td>0</td>\n",
       "      <td>1</td>\n",
       "      <td>10</td>\n",
       "      <td>18</td>\n",
       "    </tr>\n",
       "    <tr>\n",
       "      <td>1</td>\n",
       "      <td>1</td>\n",
       "      <td>11</td>\n",
       "      <td>14</td>\n",
       "    </tr>\n",
       "    <tr>\n",
       "      <td>2</td>\n",
       "      <td>1</td>\n",
       "      <td>13</td>\n",
       "      <td>23</td>\n",
       "    </tr>\n",
       "    <tr>\n",
       "      <td>3</td>\n",
       "      <td>1</td>\n",
       "      <td>14</td>\n",
       "      <td>19</td>\n",
       "    </tr>\n",
       "    <tr>\n",
       "      <td>4</td>\n",
       "      <td>1</td>\n",
       "      <td>16</td>\n",
       "      <td>10</td>\n",
       "    </tr>\n",
       "  </tbody>\n",
       "</table>\n",
       "</div>"
      ],
      "text/plain": [
       "   client_id product_category  purchase_count\n",
       "0          1               10              18\n",
       "1          1               11              14\n",
       "2          1               13              23\n",
       "3          1               14              19\n",
       "4          1               16              10"
      ]
     },
     "execution_count": 13,
     "metadata": {},
     "output_type": "execute_result"
    }
   ],
   "source": [
    "data.head()"
   ]
  },
  {
   "cell_type": "markdown",
   "metadata": {},
   "source": [
    "### Фильтрация неактивных пользователей"
   ]
  },
  {
   "cell_type": "markdown",
   "metadata": {},
   "source": [
    "Отфильтруем пользователей, которые взаимодействовали не больше, чем с 4 категориями товаров и услуг."
   ]
  },
  {
   "cell_type": "code",
   "execution_count": 14,
   "metadata": {},
   "outputs": [
    {
     "data": {
      "text/html": [
       "<div>\n",
       "<style scoped>\n",
       "    .dataframe tbody tr th:only-of-type {\n",
       "        vertical-align: middle;\n",
       "    }\n",
       "\n",
       "    .dataframe tbody tr th {\n",
       "        vertical-align: top;\n",
       "    }\n",
       "\n",
       "    .dataframe thead th {\n",
       "        text-align: right;\n",
       "    }\n",
       "</style>\n",
       "<table border=\"1\" class=\"dataframe\">\n",
       "  <thead>\n",
       "    <tr style=\"text-align: right;\">\n",
       "      <th></th>\n",
       "      <th>client_id</th>\n",
       "      <th>unique_categories</th>\n",
       "    </tr>\n",
       "  </thead>\n",
       "  <tbody>\n",
       "    <tr>\n",
       "      <td>0</td>\n",
       "      <td>1</td>\n",
       "      <td>18</td>\n",
       "    </tr>\n",
       "    <tr>\n",
       "      <td>1</td>\n",
       "      <td>2</td>\n",
       "      <td>21</td>\n",
       "    </tr>\n",
       "    <tr>\n",
       "      <td>2</td>\n",
       "      <td>3</td>\n",
       "      <td>24</td>\n",
       "    </tr>\n",
       "    <tr>\n",
       "      <td>3</td>\n",
       "      <td>4</td>\n",
       "      <td>21</td>\n",
       "    </tr>\n",
       "    <tr>\n",
       "      <td>4</td>\n",
       "      <td>5</td>\n",
       "      <td>19</td>\n",
       "    </tr>\n",
       "  </tbody>\n",
       "</table>\n",
       "</div>"
      ],
      "text/plain": [
       "   client_id  unique_categories\n",
       "0          1                 18\n",
       "1          2                 21\n",
       "2          3                 24\n",
       "3          4                 21\n",
       "4          5                 19"
      ]
     },
     "execution_count": 14,
     "metadata": {},
     "output_type": "execute_result"
    }
   ],
   "source": [
    "users_interactions = data \\\n",
    "    .groupby('client_id', as_index=False) \\\n",
    "    .agg({'product_category': 'count'}) \\\n",
    "    .rename(columns={'product_category': 'unique_categories'})\n",
    "users_interactions.head()"
   ]
  },
  {
   "cell_type": "code",
   "execution_count": 15,
   "metadata": {},
   "outputs": [
    {
     "data": {
      "image/png": "[encoded data removed]",
      "text/plain": [
       "<Figure size 432x288 with 1 Axes>"
      ]
     },
     "metadata": {
      "needs_background": "light"
     },
     "output_type": "display_data"
    }
   ],
   "source": [
    "sns.distplot(users_interactions.unique_categories);"
   ]
  },
  {
   "cell_type": "code",
   "execution_count": 16,
   "metadata": {},
   "outputs": [
    {
     "data": {
      "text/plain": [
       "0         1\n",
       "1         2\n",
       "2         3\n",
       "3         4\n",
       "4         5\n",
       "       ... \n",
       "995     996\n",
       "996     997\n",
       "997     998\n",
       "998     999\n",
       "999    1000\n",
       "Name: client_id, Length: 1000, dtype: int64"
      ]
     },
     "execution_count": 16,
     "metadata": {},
     "output_type": "execute_result"
    }
   ],
   "source": [
    "users_with_enough_interactions = users_interactions.query('unique_categories > 4')['client_id']\n",
    "users_with_enough_interactions"
   ]
  },
  {
   "cell_type": "code",
   "execution_count": 17,
   "metadata": {},
   "outputs": [
    {
     "name": "stdout",
     "output_type": "stream",
     "text": [
      "Всего пользователей: 1000\n",
      "Пользователей по крайней мере с 5 взаимодействиями: 1000\n"
     ]
    }
   ],
   "source": [
    "print(f'Всего пользователей: {users_interactions.shape[0]}')\n",
    "print(f'Пользователей по крайней мере с 5 взаимодействиями: {users_with_enough_interactions.shape[0]}')"
   ]
  },
  {
   "cell_type": "markdown",
   "metadata": {},
   "source": [
    "Получаем, что пользователей меньше, чем с 5 взаимодействиями нет."
   ]
  },
  {
   "cell_type": "markdown",
   "metadata": {},
   "source": [
    "### Нормализация"
   ]
  },
  {
   "cell_type": "markdown",
   "metadata": {},
   "source": [
    "В качестве нормализации воспользуемся MinMaxScaler."
   ]
  },
  {
   "cell_type": "code",
   "execution_count": 18,
   "metadata": {},
   "outputs": [
    {
     "data": {
      "text/html": [
       "<div>\n",
       "<style scoped>\n",
       "    .dataframe tbody tr th:only-of-type {\n",
       "        vertical-align: middle;\n",
       "    }\n",
       "\n",
       "    .dataframe tbody tr th {\n",
       "        vertical-align: top;\n",
       "    }\n",
       "\n",
       "    .dataframe thead th {\n",
       "        text-align: right;\n",
       "    }\n",
       "</style>\n",
       "<table border=\"1\" class=\"dataframe\">\n",
       "  <thead>\n",
       "    <tr style=\"text-align: right;\">\n",
       "      <th></th>\n",
       "      <th>client_id</th>\n",
       "      <th>product_category</th>\n",
       "      <th>purchase_count</th>\n",
       "      <th>purchase_normalize</th>\n",
       "    </tr>\n",
       "  </thead>\n",
       "  <tbody>\n",
       "    <tr>\n",
       "      <td>0</td>\n",
       "      <td>1</td>\n",
       "      <td>10</td>\n",
       "      <td>18</td>\n",
       "      <td>0.042607</td>\n",
       "    </tr>\n",
       "    <tr>\n",
       "      <td>1</td>\n",
       "      <td>1</td>\n",
       "      <td>11</td>\n",
       "      <td>14</td>\n",
       "      <td>0.032581</td>\n",
       "    </tr>\n",
       "    <tr>\n",
       "      <td>2</td>\n",
       "      <td>1</td>\n",
       "      <td>13</td>\n",
       "      <td>23</td>\n",
       "      <td>0.055138</td>\n",
       "    </tr>\n",
       "    <tr>\n",
       "      <td>3</td>\n",
       "      <td>1</td>\n",
       "      <td>14</td>\n",
       "      <td>19</td>\n",
       "      <td>0.045113</td>\n",
       "    </tr>\n",
       "    <tr>\n",
       "      <td>4</td>\n",
       "      <td>1</td>\n",
       "      <td>16</td>\n",
       "      <td>10</td>\n",
       "      <td>0.022556</td>\n",
       "    </tr>\n",
       "  </tbody>\n",
       "</table>\n",
       "</div>"
      ],
      "text/plain": [
       "   client_id product_category  purchase_count  purchase_normalize\n",
       "0          1               10              18            0.042607\n",
       "1          1               11              14            0.032581\n",
       "2          1               13              23            0.055138\n",
       "3          1               14              19            0.045113\n",
       "4          1               16              10            0.022556"
      ]
     },
     "execution_count": 18,
     "metadata": {},
     "output_type": "execute_result"
    }
   ],
   "source": [
    "data = data.assign(purchase_normalize = (data.purchase_count - data.purchase_count.min()) / (data.purchase_count.max() - data.purchase_count.min()))\n",
    "data.head()"
   ]
  },
  {
   "cell_type": "markdown",
   "metadata": {},
   "source": [
    "### Разбиение выборки на тренировочную и тестовую"
   ]
  },
  {
   "cell_type": "markdown",
   "metadata": {},
   "source": [
    "Произведем разбиение выборки на обучение и контроль по времени. Перед этим возьмем последнее время взаимодействия пары client_id и product_category."
   ]
  },
  {
   "cell_type": "code",
   "execution_count": 19,
   "metadata": {},
   "outputs": [
    {
     "data": {
      "text/html": [
       "<div>\n",
       "<style scoped>\n",
       "    .dataframe tbody tr th:only-of-type {\n",
       "        vertical-align: middle;\n",
       "    }\n",
       "\n",
       "    .dataframe tbody tr th {\n",
       "        vertical-align: top;\n",
       "    }\n",
       "\n",
       "    .dataframe thead th {\n",
       "        text-align: right;\n",
       "    }\n",
       "</style>\n",
       "<table border=\"1\" class=\"dataframe\">\n",
       "  <thead>\n",
       "    <tr style=\"text-align: right;\">\n",
       "      <th></th>\n",
       "      <th>client_id</th>\n",
       "      <th>product_category</th>\n",
       "      <th>date</th>\n",
       "    </tr>\n",
       "  </thead>\n",
       "  <tbody>\n",
       "    <tr>\n",
       "      <td>0</td>\n",
       "      <td>1</td>\n",
       "      <td>10</td>\n",
       "      <td>2020-12-22 02:33:13</td>\n",
       "    </tr>\n",
       "    <tr>\n",
       "      <td>1</td>\n",
       "      <td>1</td>\n",
       "      <td>11</td>\n",
       "      <td>2020-12-22 10:20:44</td>\n",
       "    </tr>\n",
       "    <tr>\n",
       "      <td>2</td>\n",
       "      <td>1</td>\n",
       "      <td>13</td>\n",
       "      <td>2020-12-29 09:07:06</td>\n",
       "    </tr>\n",
       "    <tr>\n",
       "      <td>3</td>\n",
       "      <td>1</td>\n",
       "      <td>14</td>\n",
       "      <td>2020-12-31 06:49:11</td>\n",
       "    </tr>\n",
       "    <tr>\n",
       "      <td>4</td>\n",
       "      <td>1</td>\n",
       "      <td>16</td>\n",
       "      <td>2020-12-29 03:38:07</td>\n",
       "    </tr>\n",
       "  </tbody>\n",
       "</table>\n",
       "</div>"
      ],
      "text/plain": [
       "   client_id product_category                date\n",
       "0          1               10 2020-12-22 02:33:13\n",
       "1          1               11 2020-12-22 10:20:44\n",
       "2          1               13 2020-12-29 09:07:06\n",
       "3          1               14 2020-12-31 06:49:11\n",
       "4          1               16 2020-12-29 03:38:07"
      ]
     },
     "execution_count": 19,
     "metadata": {},
     "output_type": "execute_result"
    }
   ],
   "source": [
    "transactions_last_date = transactions_part \\\n",
    "    .groupby(['client_id', 'product_category'], as_index=False) \\\n",
    "    .date \\\n",
    "    .last()\n",
    "transactions_last_date.head()"
   ]
  },
  {
   "cell_type": "code",
   "execution_count": 20,
   "metadata": {},
   "outputs": [
    {
     "data": {
      "text/html": [
       "<div>\n",
       "<style scoped>\n",
       "    .dataframe tbody tr th:only-of-type {\n",
       "        vertical-align: middle;\n",
       "    }\n",
       "\n",
       "    .dataframe tbody tr th {\n",
       "        vertical-align: top;\n",
       "    }\n",
       "\n",
       "    .dataframe thead th {\n",
       "        text-align: right;\n",
       "    }\n",
       "</style>\n",
       "<table border=\"1\" class=\"dataframe\">\n",
       "  <thead>\n",
       "    <tr style=\"text-align: right;\">\n",
       "      <th></th>\n",
       "      <th>client_id</th>\n",
       "      <th>product_category</th>\n",
       "      <th>purchase_count</th>\n",
       "      <th>purchase_normalize</th>\n",
       "      <th>last_date</th>\n",
       "    </tr>\n",
       "  </thead>\n",
       "  <tbody>\n",
       "    <tr>\n",
       "      <td>0</td>\n",
       "      <td>1</td>\n",
       "      <td>10</td>\n",
       "      <td>18</td>\n",
       "      <td>0.042607</td>\n",
       "      <td>2020-12-22 02:33:13</td>\n",
       "    </tr>\n",
       "    <tr>\n",
       "      <td>1</td>\n",
       "      <td>1</td>\n",
       "      <td>11</td>\n",
       "      <td>14</td>\n",
       "      <td>0.032581</td>\n",
       "      <td>2020-12-22 10:20:44</td>\n",
       "    </tr>\n",
       "    <tr>\n",
       "      <td>2</td>\n",
       "      <td>1</td>\n",
       "      <td>13</td>\n",
       "      <td>23</td>\n",
       "      <td>0.055138</td>\n",
       "      <td>2020-12-29 09:07:06</td>\n",
       "    </tr>\n",
       "    <tr>\n",
       "      <td>3</td>\n",
       "      <td>1</td>\n",
       "      <td>14</td>\n",
       "      <td>19</td>\n",
       "      <td>0.045113</td>\n",
       "      <td>2020-12-31 06:49:11</td>\n",
       "    </tr>\n",
       "    <tr>\n",
       "      <td>4</td>\n",
       "      <td>1</td>\n",
       "      <td>16</td>\n",
       "      <td>10</td>\n",
       "      <td>0.022556</td>\n",
       "      <td>2020-12-29 03:38:07</td>\n",
       "    </tr>\n",
       "  </tbody>\n",
       "</table>\n",
       "</div>"
      ],
      "text/plain": [
       "   client_id product_category  purchase_count  purchase_normalize  \\\n",
       "0          1               10              18            0.042607   \n",
       "1          1               11              14            0.032581   \n",
       "2          1               13              23            0.055138   \n",
       "3          1               14              19            0.045113   \n",
       "4          1               16              10            0.022556   \n",
       "\n",
       "            last_date  \n",
       "0 2020-12-22 02:33:13  \n",
       "1 2020-12-22 10:20:44  \n",
       "2 2020-12-29 09:07:06  \n",
       "3 2020-12-31 06:49:11  \n",
       "4 2020-12-29 03:38:07  "
      ]
     },
     "execution_count": 20,
     "metadata": {},
     "output_type": "execute_result"
    }
   ],
   "source": [
    "data = data \\\n",
    "    .merge(transactions_last_date, on=['client_id', 'product_category']) \\\n",
    "    .rename(columns={'date': 'last_date'})\n",
    "data.head()"
   ]
  },
  {
   "cell_type": "code",
   "execution_count": 31,
   "metadata": {},
   "outputs": [
    {
     "name": "stdout",
     "output_type": "stream",
     "text": [
      "Всего взаимодействий: 21201\n",
      "Доля взаимодействий в тренировочной выборке: 0.8 (17658)\n",
      "Доля взаимодействий в тестовой выборке: 0.2 (3543)\n"
     ]
    }
   ],
   "source": [
    "split_date = '2020-12-30'\n",
    "data_train = data.query('last_date < @split_date').copy()\n",
    "data_test = data.query('last_date >= @split_date').copy()\n",
    "\n",
    "print(f'Всего взаимодействий: {data.shape[0]}')\n",
    "print(f'Доля взаимодействий в тренировочной выборке: {round(data_train.shape[0] / data.shape[0], 1)} ({data_train.shape[0]})')\n",
    "print(f'Доля взаимодействий в тестовой выборке: {round(data_test.shape[0] / data.shape[0], 1)} ({data_test.shape[0]})')"
   ]
  },
  {
   "cell_type": "markdown",
   "metadata": {},
   "source": [
    "Для удобства подсчета качества запишем данные в формате, где строка соответствует пользователю, а столбцы будут истинными метками и предсказаниями в виде списков"
   ]
  },
  {
   "cell_type": "code",
   "execution_count": 47,
   "metadata": {},
   "outputs": [
    {
     "data": {
      "text/html": [
       "<div>\n",
       "<style scoped>\n",
       "    .dataframe tbody tr th:only-of-type {\n",
       "        vertical-align: middle;\n",
       "    }\n",
       "\n",
       "    .dataframe tbody tr th {\n",
       "        vertical-align: top;\n",
       "    }\n",
       "\n",
       "    .dataframe thead th {\n",
       "        text-align: right;\n",
       "    }\n",
       "</style>\n",
       "<table border=\"1\" class=\"dataframe\">\n",
       "  <thead>\n",
       "    <tr style=\"text-align: right;\">\n",
       "      <th></th>\n",
       "      <th>true_train</th>\n",
       "      <th>true_test</th>\n",
       "    </tr>\n",
       "    <tr>\n",
       "      <th>client_id</th>\n",
       "      <th></th>\n",
       "      <th></th>\n",
       "    </tr>\n",
       "  </thead>\n",
       "  <tbody>\n",
       "    <tr>\n",
       "      <td>1</td>\n",
       "      <td>[10, 11, 13, 16, 17, 18, 19, 2, 20, 21, 4, 6, ...</td>\n",
       "      <td>[14, 28, 5, 9]</td>\n",
       "    </tr>\n",
       "  </tbody>\n",
       "</table>\n",
       "</div>"
      ],
      "text/plain": [
       "                                                  true_train       true_test\n",
       "client_id                                                                   \n",
       "1          [10, 11, 13, 16, 17, 18, 19, 2, 20, 21, 4, 6, ...  [14, 28, 5, 9]"
      ]
     },
     "execution_count": 47,
     "metadata": {},
     "output_type": "execute_result"
    }
   ],
   "source": [
    "data_true = (\n",
    "    data_train\n",
    "    .groupby('client_id')['product_category'].agg(lambda x: list(x))\n",
    "    .reset_index()\n",
    "    .rename(columns={'product_category': 'true_train'})\n",
    "    .set_index('client_id')\n",
    ")\n",
    "\n",
    "data_true['true_test'] = (\n",
    "    data_test\n",
    "    .groupby('client_id')['product_category'].agg(lambda x: list(x))\n",
    ")\n",
    "\n",
    "# заполнение пропусков пустыми списками\n",
    "# data_true.loc[pd.isnull(data_true.true_test), 'true_test'] = [\n",
    "#     list() for x in range(len(data_true.loc[pd.isnull(data_true.true_test), 'true_test']))]\n",
    "\n",
    "data_true.head(1)"
   ]
  },
  {
   "cell_type": "markdown",
   "metadata": {},
   "source": [
    "Заполним пропуски пустыми списками."
   ]
  },
  {
   "cell_type": "code",
   "execution_count": 52,
   "metadata": {},
   "outputs": [],
   "source": [
    "data_true.loc[pd.isnull(data_true.true_test), 'true_test'] = [\n",
    "    list() for x in range(len(data_true.loc[pd.isnull(data_true.true_test), 'true_test']))]"
   ]
  },
  {
   "cell_type": "code",
   "execution_count": 53,
   "metadata": {},
   "outputs": [
    {
     "data": {
      "text/html": [
       "<div>\n",
       "<style scoped>\n",
       "    .dataframe tbody tr th:only-of-type {\n",
       "        vertical-align: middle;\n",
       "    }\n",
       "\n",
       "    .dataframe tbody tr th {\n",
       "        vertical-align: top;\n",
       "    }\n",
       "\n",
       "    .dataframe thead th {\n",
       "        text-align: right;\n",
       "    }\n",
       "</style>\n",
       "<table border=\"1\" class=\"dataframe\">\n",
       "  <thead>\n",
       "    <tr style=\"text-align: right;\">\n",
       "      <th></th>\n",
       "      <th>true_train</th>\n",
       "      <th>true_test</th>\n",
       "    </tr>\n",
       "    <tr>\n",
       "      <th>client_id</th>\n",
       "      <th></th>\n",
       "      <th></th>\n",
       "    </tr>\n",
       "  </thead>\n",
       "  <tbody>\n",
       "    <tr>\n",
       "      <td>1</td>\n",
       "      <td>[10, 11, 13, 16, 17, 18, 19, 2, 20, 21, 4, 6, ...</td>\n",
       "      <td>[14, 28, 5, 9]</td>\n",
       "    </tr>\n",
       "  </tbody>\n",
       "</table>\n",
       "</div>"
      ],
      "text/plain": [
       "                                                  true_train       true_test\n",
       "client_id                                                                   \n",
       "1          [10, 11, 13, 16, 17, 18, 19, 2, 20, 21, 4, 6, ...  [14, 28, 5, 9]"
      ]
     },
     "execution_count": 53,
     "metadata": {},
     "output_type": "execute_result"
    }
   ],
   "source": [
    "data_true.head(1)"
   ]
  },
  {
   "cell_type": "code",
   "execution_count": 21,
   "metadata": {},
   "outputs": [
    {
     "data": {
      "text/html": [
       "<div>\n",
       "<style scoped>\n",
       "    .dataframe tbody tr th:only-of-type {\n",
       "        vertical-align: middle;\n",
       "    }\n",
       "\n",
       "    .dataframe tbody tr th {\n",
       "        vertical-align: top;\n",
       "    }\n",
       "\n",
       "    .dataframe thead th {\n",
       "        text-align: right;\n",
       "    }\n",
       "</style>\n",
       "<table border=\"1\" class=\"dataframe\">\n",
       "  <thead>\n",
       "    <tr style=\"text-align: right;\">\n",
       "      <th>product_category</th>\n",
       "      <th>1</th>\n",
       "      <th>10</th>\n",
       "      <th>11</th>\n",
       "      <th>12</th>\n",
       "      <th>13</th>\n",
       "      <th>14</th>\n",
       "      <th>15</th>\n",
       "      <th>16</th>\n",
       "      <th>17</th>\n",
       "      <th>18</th>\n",
       "      <th>...</th>\n",
       "      <th>27</th>\n",
       "      <th>28</th>\n",
       "      <th>29</th>\n",
       "      <th>3</th>\n",
       "      <th>4</th>\n",
       "      <th>5</th>\n",
       "      <th>6</th>\n",
       "      <th>7</th>\n",
       "      <th>8</th>\n",
       "      <th>9</th>\n",
       "    </tr>\n",
       "    <tr>\n",
       "      <th>client_id</th>\n",
       "      <th></th>\n",
       "      <th></th>\n",
       "      <th></th>\n",
       "      <th></th>\n",
       "      <th></th>\n",
       "      <th></th>\n",
       "      <th></th>\n",
       "      <th></th>\n",
       "      <th></th>\n",
       "      <th></th>\n",
       "      <th></th>\n",
       "      <th></th>\n",
       "      <th></th>\n",
       "      <th></th>\n",
       "      <th></th>\n",
       "      <th></th>\n",
       "      <th></th>\n",
       "      <th></th>\n",
       "      <th></th>\n",
       "      <th></th>\n",
       "      <th></th>\n",
       "    </tr>\n",
       "  </thead>\n",
       "  <tbody>\n",
       "    <tr>\n",
       "      <td>1</td>\n",
       "      <td>NaN</td>\n",
       "      <td>18.0</td>\n",
       "      <td>14.0</td>\n",
       "      <td>NaN</td>\n",
       "      <td>23.0</td>\n",
       "      <td>19.0</td>\n",
       "      <td>NaN</td>\n",
       "      <td>10.0</td>\n",
       "      <td>6.0</td>\n",
       "      <td>17.0</td>\n",
       "      <td>...</td>\n",
       "      <td>NaN</td>\n",
       "      <td>111.0</td>\n",
       "      <td>NaN</td>\n",
       "      <td>NaN</td>\n",
       "      <td>12.0</td>\n",
       "      <td>152.0</td>\n",
       "      <td>390.0</td>\n",
       "      <td>27.0</td>\n",
       "      <td>25.0</td>\n",
       "      <td>20.0</td>\n",
       "    </tr>\n",
       "    <tr>\n",
       "      <td>2</td>\n",
       "      <td>30.0</td>\n",
       "      <td>21.0</td>\n",
       "      <td>19.0</td>\n",
       "      <td>NaN</td>\n",
       "      <td>19.0</td>\n",
       "      <td>18.0</td>\n",
       "      <td>44.0</td>\n",
       "      <td>9.0</td>\n",
       "      <td>11.0</td>\n",
       "      <td>8.0</td>\n",
       "      <td>...</td>\n",
       "      <td>NaN</td>\n",
       "      <td>120.0</td>\n",
       "      <td>NaN</td>\n",
       "      <td>41.0</td>\n",
       "      <td>5.0</td>\n",
       "      <td>136.0</td>\n",
       "      <td>303.0</td>\n",
       "      <td>13.0</td>\n",
       "      <td>14.0</td>\n",
       "      <td>26.0</td>\n",
       "    </tr>\n",
       "    <tr>\n",
       "      <td>3</td>\n",
       "      <td>39.0</td>\n",
       "      <td>16.0</td>\n",
       "      <td>26.0</td>\n",
       "      <td>NaN</td>\n",
       "      <td>17.0</td>\n",
       "      <td>17.0</td>\n",
       "      <td>43.0</td>\n",
       "      <td>8.0</td>\n",
       "      <td>10.0</td>\n",
       "      <td>8.0</td>\n",
       "      <td>...</td>\n",
       "      <td>NaN</td>\n",
       "      <td>119.0</td>\n",
       "      <td>NaN</td>\n",
       "      <td>37.0</td>\n",
       "      <td>12.0</td>\n",
       "      <td>159.0</td>\n",
       "      <td>308.0</td>\n",
       "      <td>30.0</td>\n",
       "      <td>18.0</td>\n",
       "      <td>22.0</td>\n",
       "    </tr>\n",
       "    <tr>\n",
       "      <td>4</td>\n",
       "      <td>NaN</td>\n",
       "      <td>20.0</td>\n",
       "      <td>17.0</td>\n",
       "      <td>NaN</td>\n",
       "      <td>11.0</td>\n",
       "      <td>15.0</td>\n",
       "      <td>NaN</td>\n",
       "      <td>9.0</td>\n",
       "      <td>3.0</td>\n",
       "      <td>17.0</td>\n",
       "      <td>...</td>\n",
       "      <td>NaN</td>\n",
       "      <td>100.0</td>\n",
       "      <td>12.0</td>\n",
       "      <td>NaN</td>\n",
       "      <td>6.0</td>\n",
       "      <td>118.0</td>\n",
       "      <td>371.0</td>\n",
       "      <td>18.0</td>\n",
       "      <td>28.0</td>\n",
       "      <td>21.0</td>\n",
       "    </tr>\n",
       "    <tr>\n",
       "      <td>5</td>\n",
       "      <td>45.0</td>\n",
       "      <td>34.0</td>\n",
       "      <td>24.0</td>\n",
       "      <td>NaN</td>\n",
       "      <td>26.0</td>\n",
       "      <td>29.0</td>\n",
       "      <td>NaN</td>\n",
       "      <td>7.0</td>\n",
       "      <td>11.0</td>\n",
       "      <td>11.0</td>\n",
       "      <td>...</td>\n",
       "      <td>NaN</td>\n",
       "      <td>103.0</td>\n",
       "      <td>NaN</td>\n",
       "      <td>44.0</td>\n",
       "      <td>NaN</td>\n",
       "      <td>155.0</td>\n",
       "      <td>392.0</td>\n",
       "      <td>28.0</td>\n",
       "      <td>22.0</td>\n",
       "      <td>27.0</td>\n",
       "    </tr>\n",
       "  </tbody>\n",
       "</table>\n",
       "<p>5 rows × 29 columns</p>\n",
       "</div>"
      ],
      "text/plain": [
       "product_category     1    10    11  12    13    14    15    16    17    18  \\\n",
       "client_id                                                                    \n",
       "1                  NaN  18.0  14.0 NaN  23.0  19.0   NaN  10.0   6.0  17.0   \n",
       "2                 30.0  21.0  19.0 NaN  19.0  18.0  44.0   9.0  11.0   8.0   \n",
       "3                 39.0  16.0  26.0 NaN  17.0  17.0  43.0   8.0  10.0   8.0   \n",
       "4                  NaN  20.0  17.0 NaN  11.0  15.0   NaN   9.0   3.0  17.0   \n",
       "5                 45.0  34.0  24.0 NaN  26.0  29.0   NaN   7.0  11.0  11.0   \n",
       "\n",
       "product_category  ...  27     28    29     3     4      5      6     7     8  \\\n",
       "client_id         ...                                                          \n",
       "1                 ... NaN  111.0   NaN   NaN  12.0  152.0  390.0  27.0  25.0   \n",
       "2                 ... NaN  120.0   NaN  41.0   5.0  136.0  303.0  13.0  14.0   \n",
       "3                 ... NaN  119.0   NaN  37.0  12.0  159.0  308.0  30.0  18.0   \n",
       "4                 ... NaN  100.0  12.0   NaN   6.0  118.0  371.0  18.0  28.0   \n",
       "5                 ... NaN  103.0   NaN  44.0   NaN  155.0  392.0  28.0  22.0   \n",
       "\n",
       "product_category     9  \n",
       "client_id               \n",
       "1                 20.0  \n",
       "2                 26.0  \n",
       "3                 22.0  \n",
       "4                 21.0  \n",
       "5                 27.0  \n",
       "\n",
       "[5 rows x 29 columns]"
      ]
     },
     "execution_count": 21,
     "metadata": {},
     "output_type": "execute_result"
    }
   ],
   "source": [
    "data_matrix = pd.pivot_table(data, index='client_id', columns='product_category', values='purchase_count')\n",
    "data_matrix.head()"
   ]
  },
  {
   "cell_type": "code",
   "execution_count": null,
   "metadata": {},
   "outputs": [],
   "source": [
    "xxxxxxxxxxxxxxxxxxxxxxxxxxxxxxxxxxxxxxxxxxxxxxxx"
   ]
  }
 ],
 "metadata": {
  "kernelspec": {
   "display_name": "Python 3",
   "language": "python",
   "name": "python3"
  },
  "language_info": {
   "codemirror_mode": {
    "name": "ipython",
    "version": 3
   },
   "file_extension": ".py",
   "mimetype": "text/x-python",
   "name": "python",
   "nbconvert_exporter": "python",
   "pygments_lexer": "ipython3",
   "version": "3.7.4"
  }
 },
 "nbformat": 4,
 "nbformat_minor": 2
}
