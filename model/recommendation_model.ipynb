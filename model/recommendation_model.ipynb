{
 "cells": [
  {
   "cell_type": "code",
   "execution_count": 1,
   "metadata": {},
   "outputs": [],
   "source": [
    "import pandas as pd\n",
    "import matplotlib.pyplot as plt\n",
    "import seaborn as sns\n",
    "import numpy as np\n",
    "from tqdm import tqdm_notebook\n",
    "from scipy.linalg import svd\n",
    "import catboost\n",
    "\n",
    "%matplotlib inline"
   ]
  },
  {
   "cell_type": "markdown",
   "metadata": {},
   "source": [
    "## Понимание данных"
   ]
  },
  {
   "cell_type": "code",
   "execution_count": 2,
   "metadata": {},
   "outputs": [],
   "source": [
    "path_transactions = r\"C:\\Users\\kiril\\OneDrive\\Рабочий стол\\Вышка\\КР-ВКР\\Курсовая\\3 курс\\RecommendationSystem\\model\\data\\transactions.csv\"\n",
    "path_clients = r\"C:\\Users\\kiril\\OneDrive\\Рабочий стол\\Вышка\\КР-ВКР\\Курсовая\\3 курс\\RecommendationSystem\\model\\data\\clients.csv\"\n",
    "path_categories = r\"C:\\Users\\kiril\\OneDrive\\Рабочий стол\\Вышка\\КР-ВКР\\Курсовая\\3 курс\\RecommendationSystem\\model\\data\\categories.csv\""
   ]
  },
  {
   "cell_type": "markdown",
   "metadata": {},
   "source": [
    "### clients"
   ]
  },
  {
   "cell_type": "code",
   "execution_count": 3,
   "metadata": {},
   "outputs": [
    {
     "data": {
      "text/html": [
       "<div>\n",
       "<style scoped>\n",
       "    .dataframe tbody tr th:only-of-type {\n",
       "        vertical-align: middle;\n",
       "    }\n",
       "\n",
       "    .dataframe tbody tr th {\n",
       "        vertical-align: top;\n",
       "    }\n",
       "\n",
       "    .dataframe thead th {\n",
       "        text-align: right;\n",
       "    }\n",
       "</style>\n",
       "<table border=\"1\" class=\"dataframe\">\n",
       "  <thead>\n",
       "    <tr style=\"text-align: right;\">\n",
       "      <th></th>\n",
       "      <th>id</th>\n",
       "      <th>fullname</th>\n",
       "      <th>address</th>\n",
       "      <th>phone_number</th>\n",
       "      <th>email</th>\n",
       "      <th>workplace</th>\n",
       "      <th>birthdate</th>\n",
       "      <th>registration_date</th>\n",
       "      <th>gender</th>\n",
       "      <th>income</th>\n",
       "      <th>expenses</th>\n",
       "      <th>credit</th>\n",
       "      <th>deposit</th>\n",
       "    </tr>\n",
       "  </thead>\n",
       "  <tbody>\n",
       "    <tr>\n",
       "      <td>0</td>\n",
       "      <td>1</td>\n",
       "      <td>Волкова Фаина Афанасьевна</td>\n",
       "      <td>с. Новосибирск, наб. Привокзальная, д. 58 к. 5...</td>\n",
       "      <td>8 (475) 014-6494</td>\n",
       "      <td>wkirillov@rambler.ru</td>\n",
       "      <td>ст. Кировск (Мурм.), ш. Коммуны, д. 238 стр. 3...</td>\n",
       "      <td>1966-09-07</td>\n",
       "      <td>2017-01-10</td>\n",
       "      <td>F</td>\n",
       "      <td>230910.0</td>\n",
       "      <td>61975</td>\n",
       "      <td>1.0</td>\n",
       "      <td>NaN</td>\n",
       "    </tr>\n",
       "    <tr>\n",
       "      <td>1</td>\n",
       "      <td>2</td>\n",
       "      <td>Пелагея Вячеславовна Галкина</td>\n",
       "      <td>клх Белокуриха, ш. Комсомольское, д. 701 стр. ...</td>\n",
       "      <td>+7 (981) 576-1146</td>\n",
       "      <td>bogdanovmoke@rambler.ru</td>\n",
       "      <td>г. Елабуга, бул. 60 лет Октября, д. 5, 070955</td>\n",
       "      <td>1987-05-23</td>\n",
       "      <td>2016-07-14</td>\n",
       "      <td>F</td>\n",
       "      <td>NaN</td>\n",
       "      <td>75232</td>\n",
       "      <td>NaN</td>\n",
       "      <td>NaN</td>\n",
       "    </tr>\n",
       "    <tr>\n",
       "      <td>2</td>\n",
       "      <td>3</td>\n",
       "      <td>Валентина Игоревна Фомина</td>\n",
       "      <td>к. Усть-Катав, бул. Восточный, д. 292 стр. 3, ...</td>\n",
       "      <td>+7 (920) 068-58-36</td>\n",
       "      <td>mjasnikovvalentin@mail.ru</td>\n",
       "      <td>г. Сосновый Бор, алл. Лесхозная, д. 146, 139446</td>\n",
       "      <td>1974-06-15</td>\n",
       "      <td>2017-10-18</td>\n",
       "      <td>F</td>\n",
       "      <td>NaN</td>\n",
       "      <td>88813</td>\n",
       "      <td>NaN</td>\n",
       "      <td>NaN</td>\n",
       "    </tr>\n",
       "    <tr>\n",
       "      <td>3</td>\n",
       "      <td>4</td>\n",
       "      <td>тов. Воронцова Фёкла Федоровна</td>\n",
       "      <td>клх Новая Игирма, алл. Пограничная, д. 6/6, 73...</td>\n",
       "      <td>8 334 398 3828</td>\n",
       "      <td>martin85@rambler.ru</td>\n",
       "      <td>клх Котельнич, бул. Серафимовича, д. 97, 753076</td>\n",
       "      <td>1979-10-19</td>\n",
       "      <td>2012-08-25</td>\n",
       "      <td>F</td>\n",
       "      <td>NaN</td>\n",
       "      <td>55167</td>\n",
       "      <td>NaN</td>\n",
       "      <td>NaN</td>\n",
       "    </tr>\n",
       "    <tr>\n",
       "      <td>4</td>\n",
       "      <td>5</td>\n",
       "      <td>Филипп Дмитриевич Воронцов</td>\n",
       "      <td>к. Ребриха, пр. Свободы, д. 54, 466509</td>\n",
       "      <td>8 (296) 455-0453</td>\n",
       "      <td>jan_07@rambler.ru</td>\n",
       "      <td>клх Карабудахкент, ул. Абрикосовая, д. 3 к. 19...</td>\n",
       "      <td>1986-08-14</td>\n",
       "      <td>2017-03-15</td>\n",
       "      <td>M</td>\n",
       "      <td>NaN</td>\n",
       "      <td>85106</td>\n",
       "      <td>NaN</td>\n",
       "      <td>NaN</td>\n",
       "    </tr>\n",
       "  </tbody>\n",
       "</table>\n",
       "</div>"
      ],
      "text/plain": [
       "   id                        fullname  \\\n",
       "0   1       Волкова Фаина Афанасьевна   \n",
       "1   2    Пелагея Вячеславовна Галкина   \n",
       "2   3       Валентина Игоревна Фомина   \n",
       "3   4  тов. Воронцова Фёкла Федоровна   \n",
       "4   5      Филипп Дмитриевич Воронцов   \n",
       "\n",
       "                                             address        phone_number  \\\n",
       "0  с. Новосибирск, наб. Привокзальная, д. 58 к. 5...    8 (475) 014-6494   \n",
       "1  клх Белокуриха, ш. Комсомольское, д. 701 стр. ...   +7 (981) 576-1146   \n",
       "2  к. Усть-Катав, бул. Восточный, д. 292 стр. 3, ...  +7 (920) 068-58-36   \n",
       "3  клх Новая Игирма, алл. Пограничная, д. 6/6, 73...      8 334 398 3828   \n",
       "4             к. Ребриха, пр. Свободы, д. 54, 466509    8 (296) 455-0453   \n",
       "\n",
       "                       email  \\\n",
       "0       wkirillov@rambler.ru   \n",
       "1    bogdanovmoke@rambler.ru   \n",
       "2  mjasnikovvalentin@mail.ru   \n",
       "3        martin85@rambler.ru   \n",
       "4          jan_07@rambler.ru   \n",
       "\n",
       "                                           workplace   birthdate  \\\n",
       "0  ст. Кировск (Мурм.), ш. Коммуны, д. 238 стр. 3...  1966-09-07   \n",
       "1      г. Елабуга, бул. 60 лет Октября, д. 5, 070955  1987-05-23   \n",
       "2    г. Сосновый Бор, алл. Лесхозная, д. 146, 139446  1974-06-15   \n",
       "3    клх Котельнич, бул. Серафимовича, д. 97, 753076  1979-10-19   \n",
       "4  клх Карабудахкент, ул. Абрикосовая, д. 3 к. 19...  1986-08-14   \n",
       "\n",
       "  registration_date gender    income  expenses  credit  deposit  \n",
       "0        2017-01-10      F  230910.0     61975     1.0      NaN  \n",
       "1        2016-07-14      F       NaN     75232     NaN      NaN  \n",
       "2        2017-10-18      F       NaN     88813     NaN      NaN  \n",
       "3        2012-08-25      F       NaN     55167     NaN      NaN  \n",
       "4        2017-03-15      M       NaN     85106     NaN      NaN  "
      ]
     },
     "execution_count": 3,
     "metadata": {},
     "output_type": "execute_result"
    }
   ],
   "source": [
    "clients = pd.read_csv(path_clients)\n",
    "clients.head()"
   ]
  },
  {
   "cell_type": "code",
   "execution_count": 4,
   "metadata": {},
   "outputs": [
    {
     "name": "stdout",
     "output_type": "stream",
     "text": [
      "<class 'pandas.core.frame.DataFrame'>\n",
      "RangeIndex: 1000 entries, 0 to 999\n",
      "Data columns (total 13 columns):\n",
      "id                   1000 non-null int64\n",
      "fullname             1000 non-null object\n",
      "address              1000 non-null object\n",
      "phone_number         1000 non-null object\n",
      "email                1000 non-null object\n",
      "workplace            1000 non-null object\n",
      "birthdate            1000 non-null object\n",
      "registration_date    1000 non-null object\n",
      "gender               1000 non-null object\n",
      "income               364 non-null float64\n",
      "expenses             1000 non-null int64\n",
      "credit               364 non-null float64\n",
      "deposit              376 non-null float64\n",
      "dtypes: float64(3), int64(2), object(8)\n",
      "memory usage: 101.7+ KB\n"
     ]
    }
   ],
   "source": [
    "clients.info()"
   ]
  },
  {
   "cell_type": "code",
   "execution_count": 5,
   "metadata": {},
   "outputs": [],
   "source": [
    "clients.id = clients.id.astype('str')\n",
    "clients = clients.rename(columns={'id': 'client_id'})\n",
    "clients.birthdate = pd.to_datetime(clients.birthdate, format='%Y-%m-%d')\n",
    "clients.registration_date = pd.to_datetime(clients.registration_date, format='%Y-%m-%d')"
   ]
  },
  {
   "cell_type": "markdown",
   "metadata": {},
   "source": [
    "#### expenses"
   ]
  },
  {
   "cell_type": "code",
   "execution_count": 6,
   "metadata": {},
   "outputs": [
    {
     "data": {
      "image/png": "[encoded data removed]",
      "text/plain": [
       "<Figure size 432x288 with 1 Axes>"
      ]
     },
     "metadata": {
      "needs_background": "light"
     },
     "output_type": "display_data"
    }
   ],
   "source": [
    "sns.distplot(clients.expenses);"
   ]
  },
  {
   "cell_type": "markdown",
   "metadata": {},
   "source": [
    "#### income"
   ]
  },
  {
   "cell_type": "markdown",
   "metadata": {},
   "source": [
    "Заполним пропуски в данном столбце средним значением для тех клиентов, у которых не удалось определить значение среднего месячного дохода за последний год."
   ]
  },
  {
   "cell_type": "code",
   "execution_count": 7,
   "metadata": {},
   "outputs": [],
   "source": [
    "mean = clients.loc[clients['income'].isnull() != True, 'income'].mean()\n",
    "clients.loc[clients['income'].isnull() == True, 'income'] = mean"
   ]
  },
  {
   "cell_type": "code",
   "execution_count": 8,
   "metadata": {},
   "outputs": [
    {
     "data": {
      "image/png": "[encoded data removed]",
      "text/plain": [
       "<Figure size 432x288 with 1 Axes>"
      ]
     },
     "metadata": {
      "needs_background": "light"
     },
     "output_type": "display_data"
    }
   ],
   "source": [
    "sns.distplot(clients.query('income != @mean')['income']); # уберем пользователей, у которых изначально отсутствовало значение income"
   ]
  },
  {
   "cell_type": "markdown",
   "metadata": {},
   "source": [
    "#### credit"
   ]
  },
  {
   "cell_type": "markdown",
   "metadata": {},
   "source": [
    "Заполним пропуски в данном столбце 0, что говорит о том, что клиент не брал кредит в банке."
   ]
  },
  {
   "cell_type": "code",
   "execution_count": 9,
   "metadata": {},
   "outputs": [],
   "source": [
    "clients.loc[clients['credit'].isnull() == True, 'credit'] = 0\n",
    "clients.credit = clients.credit.astype('int')"
   ]
  },
  {
   "cell_type": "code",
   "execution_count": 10,
   "metadata": {},
   "outputs": [
    {
     "data": {
      "image/png": "[encoded data removed]",
      "text/plain": [
       "<Figure size 432x288 with 1 Axes>"
      ]
     },
     "metadata": {
      "needs_background": "light"
     },
     "output_type": "display_data"
    }
   ],
   "source": [
    "sns.barplot(x=clients.credit.value_counts().index, y=clients.credit.value_counts());"
   ]
  },
  {
   "cell_type": "markdown",
   "metadata": {},
   "source": [
    "#### deposit"
   ]
  },
  {
   "cell_type": "markdown",
   "metadata": {},
   "source": [
    "Заполним пропуски в данном столбце 0, что говорит о том, что клиент не брал депозит в банке."
   ]
  },
  {
   "cell_type": "code",
   "execution_count": 11,
   "metadata": {},
   "outputs": [],
   "source": [
    "clients.loc[clients['deposit'].isnull() == True, 'deposit'] = 0\n",
    "clients.deposit = clients.deposit.astype('int')"
   ]
  },
  {
   "cell_type": "code",
   "execution_count": 12,
   "metadata": {},
   "outputs": [
    {
     "name": "stdout",
     "output_type": "stream",
     "text": [
      "<class 'pandas.core.frame.DataFrame'>\n",
      "RangeIndex: 1000 entries, 0 to 999\n",
      "Data columns (total 13 columns):\n",
      "client_id            1000 non-null object\n",
      "fullname             1000 non-null object\n",
      "address              1000 non-null object\n",
      "phone_number         1000 non-null object\n",
      "email                1000 non-null object\n",
      "workplace            1000 non-null object\n",
      "birthdate            1000 non-null datetime64[ns]\n",
      "registration_date    1000 non-null datetime64[ns]\n",
      "gender               1000 non-null object\n",
      "income               1000 non-null float64\n",
      "expenses             1000 non-null int64\n",
      "credit               1000 non-null int32\n",
      "deposit              1000 non-null int32\n",
      "dtypes: datetime64[ns](2), float64(1), int32(2), int64(1), object(7)\n",
      "memory usage: 93.9+ KB\n"
     ]
    }
   ],
   "source": [
    "clients.info()"
   ]
  },
  {
   "cell_type": "code",
   "execution_count": 13,
   "metadata": {},
   "outputs": [
    {
     "data": {
      "image/png": "[encoded data removed]",
      "text/plain": [
       "<Figure size 432x288 with 1 Axes>"
      ]
     },
     "metadata": {
      "needs_background": "light"
     },
     "output_type": "display_data"
    }
   ],
   "source": [
    "sns.barplot(x=clients.deposit.value_counts().index, y=clients.deposit.value_counts());"
   ]
  },
  {
   "cell_type": "markdown",
   "metadata": {},
   "source": [
    "### categories"
   ]
  },
  {
   "cell_type": "code",
   "execution_count": 14,
   "metadata": {},
   "outputs": [
    {
     "data": {
      "text/html": [
       "<div>\n",
       "<style scoped>\n",
       "    .dataframe tbody tr th:only-of-type {\n",
       "        vertical-align: middle;\n",
       "    }\n",
       "\n",
       "    .dataframe tbody tr th {\n",
       "        vertical-align: top;\n",
       "    }\n",
       "\n",
       "    .dataframe thead th {\n",
       "        text-align: right;\n",
       "    }\n",
       "</style>\n",
       "<table border=\"1\" class=\"dataframe\">\n",
       "  <thead>\n",
       "    <tr style=\"text-align: right;\">\n",
       "      <th></th>\n",
       "      <th>id</th>\n",
       "      <th>name</th>\n",
       "      <th>description</th>\n",
       "      <th>mcc-code</th>\n",
       "    </tr>\n",
       "  </thead>\n",
       "  <tbody>\n",
       "    <tr>\n",
       "      <td>0</td>\n",
       "      <td>1</td>\n",
       "      <td>Каршеринг</td>\n",
       "      <td>Краткосрочная аренда авто с оплатой по минутам...</td>\n",
       "      <td>7512, 4121</td>\n",
       "    </tr>\n",
       "    <tr>\n",
       "      <td>1</td>\n",
       "      <td>2</td>\n",
       "      <td>Супермаркеты</td>\n",
       "      <td>Покупки в супермаркетах и продуктовых магазинах</td>\n",
       "      <td>5297, 5298, 5300, 5411, 5412, 5422, 5441, 5451...</td>\n",
       "    </tr>\n",
       "    <tr>\n",
       "      <td>2</td>\n",
       "      <td>3</td>\n",
       "      <td>Такси</td>\n",
       "      <td>Услуги такси (каршеринг не входит в данную кат...</td>\n",
       "      <td>4121</td>\n",
       "    </tr>\n",
       "    <tr>\n",
       "      <td>3</td>\n",
       "      <td>4</td>\n",
       "      <td>Музыка</td>\n",
       "      <td>Покупки в магазинах музыки и музыкальных инстр...</td>\n",
       "      <td>5733, 5735</td>\n",
       "    </tr>\n",
       "    <tr>\n",
       "      <td>4</td>\n",
       "      <td>5</td>\n",
       "      <td>Фастфуд</td>\n",
       "      <td>Покупки в ресторанах быстрого питания</td>\n",
       "      <td>5814</td>\n",
       "    </tr>\n",
       "    <tr>\n",
       "      <td>5</td>\n",
       "      <td>6</td>\n",
       "      <td>Транспорт</td>\n",
       "      <td>Оплата городского и пригородного транспорта. В...</td>\n",
       "      <td>4111, 4121, 4131, 4457, 4468, 4784, 4789, 5013...</td>\n",
       "    </tr>\n",
       "    <tr>\n",
       "      <td>6</td>\n",
       "      <td>7</td>\n",
       "      <td>Аптеки</td>\n",
       "      <td>Покупки в аптеках</td>\n",
       "      <td>5122, 5292, 5295, 5912</td>\n",
       "    </tr>\n",
       "    <tr>\n",
       "      <td>7</td>\n",
       "      <td>8</td>\n",
       "      <td>Кино</td>\n",
       "      <td>Покупки в кинотеатрах и магазинах кино</td>\n",
       "      <td>7829, 7832, 7841</td>\n",
       "    </tr>\n",
       "    <tr>\n",
       "      <td>8</td>\n",
       "      <td>9</td>\n",
       "      <td>Книги</td>\n",
       "      <td>Покупки в книжных магазинах и газетных киосках</td>\n",
       "      <td>2741, 5111, 5192, 5942, 5994</td>\n",
       "    </tr>\n",
       "    <tr>\n",
       "      <td>9</td>\n",
       "      <td>10</td>\n",
       "      <td>Развлечения</td>\n",
       "      <td>Оплата развлечений, (например, в магазинах вид...</td>\n",
       "      <td>7911, 7922, 7929, 7932, 7933, 7941, 7991, 7992...</td>\n",
       "    </tr>\n",
       "    <tr>\n",
       "      <td>10</td>\n",
       "      <td>11</td>\n",
       "      <td>Красота</td>\n",
       "      <td>Покупки в массажных и косметических салонах, S...</td>\n",
       "      <td>5977, 7230, 7297, 7298</td>\n",
       "    </tr>\n",
       "    <tr>\n",
       "      <td>11</td>\n",
       "      <td>12</td>\n",
       "      <td>Образование</td>\n",
       "      <td>Оплата в государственных и частных школах, вуз...</td>\n",
       "      <td>8211, 8220, 8241, 8244, 8249, 8299, 8493, 8494</td>\n",
       "    </tr>\n",
       "    <tr>\n",
       "      <td>12</td>\n",
       "      <td>13</td>\n",
       "      <td>Одежда и обувь</td>\n",
       "      <td>Покупки в магазинах одежды и обуви</td>\n",
       "      <td>5094, 5137, 5139, 5611, 5621, 5631, 5641, 5651...</td>\n",
       "    </tr>\n",
       "    <tr>\n",
       "      <td>13</td>\n",
       "      <td>14</td>\n",
       "      <td>Рестораны</td>\n",
       "      <td>Оплата счета в барах, ресторанах, кафе и клуба...</td>\n",
       "      <td>5811, 5812, 5813</td>\n",
       "    </tr>\n",
       "    <tr>\n",
       "      <td>14</td>\n",
       "      <td>15</td>\n",
       "      <td>Топливо</td>\n",
       "      <td>Покупка газа и бензина на заправках</td>\n",
       "      <td>5172, 5541, 5542, 5983</td>\n",
       "    </tr>\n",
       "    <tr>\n",
       "      <td>15</td>\n",
       "      <td>16</td>\n",
       "      <td>Животные</td>\n",
       "      <td>Покупки в зоомагазинах</td>\n",
       "      <td>5995, 0742</td>\n",
       "    </tr>\n",
       "    <tr>\n",
       "      <td>16</td>\n",
       "      <td>17</td>\n",
       "      <td>Дом и ремонт</td>\n",
       "      <td>Покупки в магазинах мебели, товаров для дома и...</td>\n",
       "      <td>1520, 1711, 1731, 1740, 1750, 1761, 1771, 1799...</td>\n",
       "    </tr>\n",
       "    <tr>\n",
       "      <td>17</td>\n",
       "      <td>18</td>\n",
       "      <td>Спорттовары</td>\n",
       "      <td>Покупки в магазинах спортивных товаров</td>\n",
       "      <td>5655, 5940, 5941</td>\n",
       "    </tr>\n",
       "    <tr>\n",
       "      <td>18</td>\n",
       "      <td>19</td>\n",
       "      <td>Сувениры</td>\n",
       "      <td>Покупки в магазинах сувениров: открыток, упако...</td>\n",
       "      <td>5947</td>\n",
       "    </tr>\n",
       "    <tr>\n",
       "      <td>19</td>\n",
       "      <td>20</td>\n",
       "      <td>Фото и видео</td>\n",
       "      <td>Покупки в магазинах фото- и видеотехники</td>\n",
       "      <td>5044, 5045, 5946, 7332, 7333, 7338, 7339, 7395</td>\n",
       "    </tr>\n",
       "    <tr>\n",
       "      <td>20</td>\n",
       "      <td>21</td>\n",
       "      <td>Цветы</td>\n",
       "      <td>Покупки в цветочных магазинах и салонах флорис...</td>\n",
       "      <td>5193, 5992</td>\n",
       "    </tr>\n",
       "    <tr>\n",
       "      <td>21</td>\n",
       "      <td>22</td>\n",
       "      <td>Аренда авто</td>\n",
       "      <td>Оплата аренды авто в дилерских центрах (каршер...</td>\n",
       "      <td>3351–3398, 3400–3410, 3412–3423, 3425–3439, 34...</td>\n",
       "    </tr>\n",
       "    <tr>\n",
       "      <td>22</td>\n",
       "      <td>23</td>\n",
       "      <td>Автоуслуги</td>\n",
       "      <td>Покупка автозапчастей, услуги в автосервисах и...</td>\n",
       "      <td>5511, 5521, 5531, 5532, 5533, 5571, 7012, 7531...</td>\n",
       "    </tr>\n",
       "    <tr>\n",
       "      <td>23</td>\n",
       "      <td>24</td>\n",
       "      <td>Авиабилеты</td>\n",
       "      <td>Оплата авиабилетов</td>\n",
       "      <td>3000–3299; 4304; 4415; 4418; 4511; 4582</td>\n",
       "    </tr>\n",
       "    <tr>\n",
       "      <td>24</td>\n",
       "      <td>25</td>\n",
       "      <td>Дьюти-фри</td>\n",
       "      <td>Покупки в магазинах дьюти-фри</td>\n",
       "      <td>5309</td>\n",
       "    </tr>\n",
       "    <tr>\n",
       "      <td>25</td>\n",
       "      <td>26</td>\n",
       "      <td>Железнодорожные билеты</td>\n",
       "      <td>Оплата билетов на поезд</td>\n",
       "      <td>4011, 4112</td>\n",
       "    </tr>\n",
       "    <tr>\n",
       "      <td>26</td>\n",
       "      <td>27</td>\n",
       "      <td>Искусство</td>\n",
       "      <td>Покупки в галереях, антикварных магазинах или ...</td>\n",
       "      <td>5932, 5937, 5970, 5971, 5972, 5973</td>\n",
       "    </tr>\n",
       "    <tr>\n",
       "      <td>27</td>\n",
       "      <td>28</td>\n",
       "      <td>Переводы</td>\n",
       "      <td>Переводы, пополнения</td>\n",
       "      <td>NaN</td>\n",
       "    </tr>\n",
       "    <tr>\n",
       "      <td>28</td>\n",
       "      <td>29</td>\n",
       "      <td>Другое</td>\n",
       "      <td>Интернет, комунальные услуги</td>\n",
       "      <td>NaN</td>\n",
       "    </tr>\n",
       "  </tbody>\n",
       "</table>\n",
       "</div>"
      ],
      "text/plain": [
       "    id                    name  \\\n",
       "0    1               Каршеринг   \n",
       "1    2            Супермаркеты   \n",
       "2    3                   Такси   \n",
       "3    4                  Музыка   \n",
       "4    5                 Фастфуд   \n",
       "5    6               Транспорт   \n",
       "6    7                  Аптеки   \n",
       "7    8                    Кино   \n",
       "8    9                   Книги   \n",
       "9   10             Развлечения   \n",
       "10  11                 Красота   \n",
       "11  12             Образование   \n",
       "12  13          Одежда и обувь   \n",
       "13  14               Рестораны   \n",
       "14  15                 Топливо   \n",
       "15  16                Животные   \n",
       "16  17            Дом и ремонт   \n",
       "17  18             Спорттовары   \n",
       "18  19                Сувениры   \n",
       "19  20            Фото и видео   \n",
       "20  21                   Цветы   \n",
       "21  22             Аренда авто   \n",
       "22  23              Автоуслуги   \n",
       "23  24              Авиабилеты   \n",
       "24  25               Дьюти-фри   \n",
       "25  26  Железнодорожные билеты   \n",
       "26  27               Искусство   \n",
       "27  28                Переводы   \n",
       "28  29                  Другое   \n",
       "\n",
       "                                          description  \\\n",
       "0   Краткосрочная аренда авто с оплатой по минутам...   \n",
       "1     Покупки в супермаркетах и продуктовых магазинах   \n",
       "2   Услуги такси (каршеринг не входит в данную кат...   \n",
       "3   Покупки в магазинах музыки и музыкальных инстр...   \n",
       "4               Покупки в ресторанах быстрого питания   \n",
       "5   Оплата городского и пригородного транспорта. В...   \n",
       "6                                   Покупки в аптеках   \n",
       "7              Покупки в кинотеатрах и магазинах кино   \n",
       "8      Покупки в книжных магазинах и газетных киосках   \n",
       "9   Оплата развлечений, (например, в магазинах вид...   \n",
       "10  Покупки в массажных и косметических салонах, S...   \n",
       "11  Оплата в государственных и частных школах, вуз...   \n",
       "12                 Покупки в магазинах одежды и обуви   \n",
       "13  Оплата счета в барах, ресторанах, кафе и клуба...   \n",
       "14                Покупка газа и бензина на заправках   \n",
       "15                             Покупки в зоомагазинах   \n",
       "16  Покупки в магазинах мебели, товаров для дома и...   \n",
       "17             Покупки в магазинах спортивных товаров   \n",
       "18  Покупки в магазинах сувениров: открыток, упако...   \n",
       "19           Покупки в магазинах фото- и видеотехники   \n",
       "20  Покупки в цветочных магазинах и салонах флорис...   \n",
       "21  Оплата аренды авто в дилерских центрах (каршер...   \n",
       "22  Покупка автозапчастей, услуги в автосервисах и...   \n",
       "23                                 Оплата авиабилетов   \n",
       "24                      Покупки в магазинах дьюти-фри   \n",
       "25                            Оплата билетов на поезд   \n",
       "26  Покупки в галереях, антикварных магазинах или ...   \n",
       "27                               Переводы, пополнения   \n",
       "28                       Интернет, комунальные услуги   \n",
       "\n",
       "                                             mcc-code  \n",
       "0                                          7512, 4121  \n",
       "1   5297, 5298, 5300, 5411, 5412, 5422, 5441, 5451...  \n",
       "2                                                4121  \n",
       "3                                          5733, 5735  \n",
       "4                                                5814  \n",
       "5   4111, 4121, 4131, 4457, 4468, 4784, 4789, 5013...  \n",
       "6                              5122, 5292, 5295, 5912  \n",
       "7                                    7829, 7832, 7841  \n",
       "8                        2741, 5111, 5192, 5942, 5994  \n",
       "9   7911, 7922, 7929, 7932, 7933, 7941, 7991, 7992...  \n",
       "10                             5977, 7230, 7297, 7298  \n",
       "11     8211, 8220, 8241, 8244, 8249, 8299, 8493, 8494  \n",
       "12  5094, 5137, 5139, 5611, 5621, 5631, 5641, 5651...  \n",
       "13                                   5811, 5812, 5813  \n",
       "14                             5172, 5541, 5542, 5983  \n",
       "15                                         5995, 0742  \n",
       "16  1520, 1711, 1731, 1740, 1750, 1761, 1771, 1799...  \n",
       "17                                   5655, 5940, 5941  \n",
       "18                                               5947  \n",
       "19     5044, 5045, 5946, 7332, 7333, 7338, 7339, 7395  \n",
       "20                                         5193, 5992  \n",
       "21  3351–3398, 3400–3410, 3412–3423, 3425–3439, 34...  \n",
       "22  5511, 5521, 5531, 5532, 5533, 5571, 7012, 7531...  \n",
       "23            3000–3299; 4304; 4415; 4418; 4511; 4582  \n",
       "24                                               5309  \n",
       "25                                         4011, 4112  \n",
       "26                 5932, 5937, 5970, 5971, 5972, 5973  \n",
       "27                                                NaN  \n",
       "28                                                NaN  "
      ]
     },
     "execution_count": 14,
     "metadata": {},
     "output_type": "execute_result"
    }
   ],
   "source": [
    "categories = pd.read_csv(path_categories)\n",
    "categories"
   ]
  },
  {
   "cell_type": "code",
   "execution_count": 15,
   "metadata": {},
   "outputs": [
    {
     "name": "stdout",
     "output_type": "stream",
     "text": [
      "<class 'pandas.core.frame.DataFrame'>\n",
      "RangeIndex: 29 entries, 0 to 28\n",
      "Data columns (total 4 columns):\n",
      "id             29 non-null int64\n",
      "name           29 non-null object\n",
      "description    29 non-null object\n",
      "mcc-code       27 non-null object\n",
      "dtypes: int64(1), object(3)\n",
      "memory usage: 1.0+ KB\n"
     ]
    }
   ],
   "source": [
    "categories.info()"
   ]
  },
  {
   "cell_type": "code",
   "execution_count": 16,
   "metadata": {},
   "outputs": [],
   "source": [
    "categories.id = categories.id.astype('str')\n",
    "categories['mcc-code'] = categories['mcc-code'].fillna('no_code')\n",
    "categories['mcc-code'] = categories['mcc-code'].astype('str')\n",
    "categories = categories.rename(columns={'id': 'product_category'})"
   ]
  },
  {
   "cell_type": "markdown",
   "metadata": {},
   "source": [
    "### transactions"
   ]
  },
  {
   "cell_type": "code",
   "execution_count": 17,
   "metadata": {},
   "outputs": [
    {
     "data": {
      "text/html": [
       "<div>\n",
       "<style scoped>\n",
       "    .dataframe tbody tr th:only-of-type {\n",
       "        vertical-align: middle;\n",
       "    }\n",
       "\n",
       "    .dataframe tbody tr th {\n",
       "        vertical-align: top;\n",
       "    }\n",
       "\n",
       "    .dataframe thead th {\n",
       "        text-align: right;\n",
       "    }\n",
       "</style>\n",
       "<table border=\"1\" class=\"dataframe\">\n",
       "  <thead>\n",
       "    <tr style=\"text-align: right;\">\n",
       "      <th></th>\n",
       "      <th>Unnamed: 0</th>\n",
       "      <th>client_id</th>\n",
       "      <th>product_category</th>\n",
       "      <th>product_company</th>\n",
       "      <th>subtype</th>\n",
       "      <th>amount</th>\n",
       "      <th>date</th>\n",
       "      <th>transaction_type</th>\n",
       "    </tr>\n",
       "  </thead>\n",
       "  <tbody>\n",
       "    <tr>\n",
       "      <td>0</td>\n",
       "      <td>34478</td>\n",
       "      <td>37</td>\n",
       "      <td>29</td>\n",
       "      <td>NaN</td>\n",
       "      <td>Автоплатеж</td>\n",
       "      <td>1209</td>\n",
       "      <td>2020-01-01 00:00:00</td>\n",
       "      <td>Negative</td>\n",
       "    </tr>\n",
       "    <tr>\n",
       "      <td>1</td>\n",
       "      <td>65406</td>\n",
       "      <td>71</td>\n",
       "      <td>4</td>\n",
       "      <td>YouTube Music</td>\n",
       "      <td>Подписка</td>\n",
       "      <td>169</td>\n",
       "      <td>2020-01-01 00:00:00</td>\n",
       "      <td>Negative</td>\n",
       "    </tr>\n",
       "    <tr>\n",
       "      <td>2</td>\n",
       "      <td>82186</td>\n",
       "      <td>88</td>\n",
       "      <td>29</td>\n",
       "      <td>NaN</td>\n",
       "      <td>Автоплатеж</td>\n",
       "      <td>3711</td>\n",
       "      <td>2020-01-01 00:00:00</td>\n",
       "      <td>Negative</td>\n",
       "    </tr>\n",
       "    <tr>\n",
       "      <td>3</td>\n",
       "      <td>83113</td>\n",
       "      <td>89</td>\n",
       "      <td>29</td>\n",
       "      <td>NaN</td>\n",
       "      <td>Автоплатеж</td>\n",
       "      <td>6443</td>\n",
       "      <td>2020-01-01 00:00:00</td>\n",
       "      <td>Negative</td>\n",
       "    </tr>\n",
       "    <tr>\n",
       "      <td>4</td>\n",
       "      <td>131373</td>\n",
       "      <td>141</td>\n",
       "      <td>29</td>\n",
       "      <td>NaN</td>\n",
       "      <td>Автоплатеж</td>\n",
       "      <td>7319</td>\n",
       "      <td>2020-01-01 00:00:00</td>\n",
       "      <td>Negative</td>\n",
       "    </tr>\n",
       "  </tbody>\n",
       "</table>\n",
       "</div>"
      ],
      "text/plain": [
       "   Unnamed: 0  client_id  product_category product_company     subtype  \\\n",
       "0       34478         37                29             NaN  Автоплатеж   \n",
       "1       65406         71                 4   YouTube Music    Подписка   \n",
       "2       82186         88                29             NaN  Автоплатеж   \n",
       "3       83113         89                29             NaN  Автоплатеж   \n",
       "4      131373        141                29             NaN  Автоплатеж   \n",
       "\n",
       "   amount                 date transaction_type  \n",
       "0    1209  2020-01-01 00:00:00         Negative  \n",
       "1     169  2020-01-01 00:00:00         Negative  \n",
       "2    3711  2020-01-01 00:00:00         Negative  \n",
       "3    6443  2020-01-01 00:00:00         Negative  \n",
       "4    7319  2020-01-01 00:00:00         Negative  "
      ]
     },
     "execution_count": 17,
     "metadata": {},
     "output_type": "execute_result"
    }
   ],
   "source": [
    "transactions = pd.read_csv(path_transactions)\n",
    "transactions.head()"
   ]
  },
  {
   "cell_type": "code",
   "execution_count": 18,
   "metadata": {},
   "outputs": [
    {
     "name": "stdout",
     "output_type": "stream",
     "text": [
      "<class 'pandas.core.frame.DataFrame'>\n",
      "RangeIndex: 929135 entries, 0 to 929134\n",
      "Data columns (total 8 columns):\n",
      "Unnamed: 0          929135 non-null int64\n",
      "client_id           929135 non-null int64\n",
      "product_category    929135 non-null int64\n",
      "product_company     644651 non-null object\n",
      "subtype             929135 non-null object\n",
      "amount              929135 non-null int64\n",
      "date                929135 non-null object\n",
      "transaction_type    929135 non-null object\n",
      "dtypes: int64(4), object(4)\n",
      "memory usage: 56.7+ MB\n"
     ]
    }
   ],
   "source": [
    "transactions.info()"
   ]
  },
  {
   "cell_type": "code",
   "execution_count": 19,
   "metadata": {},
   "outputs": [],
   "source": [
    "transactions.rename(columns={'Unnamed: 0': 'id'}, inplace=True)\n",
    "transactions.product_category = transactions.product_category.astype('str')\n",
    "transactions.client_id = transactions.client_id.astype('str')\n",
    "transactions.id = transactions.id.astype('str')\n",
    "transactions.date = pd.to_datetime(transactions.date, format='%Y-%m-%d %H:%M:%S')"
   ]
  },
  {
   "cell_type": "markdown",
   "metadata": {},
   "source": [
    "#### transaction_type"
   ]
  },
  {
   "cell_type": "markdown",
   "metadata": {},
   "source": [
    "В нашем анализе для построения рекомендательной системы нужны те транзакции клиентов, которые говорят о том, что они приобрели ту или иную категорию товара или услуги, а не получили денежный перевод от кого-либо, поэтому уберем все транзакции, которые имеют transaction_type, равный Positive."
   ]
  },
  {
   "cell_type": "code",
   "execution_count": 20,
   "metadata": {},
   "outputs": [
    {
     "data": {
      "text/plain": [
       "array(['Negative', 'Positive'], dtype=object)"
      ]
     },
     "execution_count": 20,
     "metadata": {},
     "output_type": "execute_result"
    }
   ],
   "source": [
    "transactions.transaction_type.unique()"
   ]
  },
  {
   "cell_type": "code",
   "execution_count": 21,
   "metadata": {},
   "outputs": [],
   "source": [
    "transactions = transactions.query('transaction_type != \"Positive\"')"
   ]
  },
  {
   "cell_type": "code",
   "execution_count": 22,
   "metadata": {},
   "outputs": [
    {
     "data": {
      "text/plain": [
       "(884151, 8)"
      ]
     },
     "execution_count": 22,
     "metadata": {},
     "output_type": "execute_result"
    }
   ],
   "source": [
    "transactions.shape"
   ]
  },
  {
   "cell_type": "markdown",
   "metadata": {},
   "source": [
    "#### product_category"
   ]
  },
  {
   "cell_type": "markdown",
   "metadata": {},
   "source": [
    "Проанализировав имеющиеся категории товаров и услуг заметим, что категория 28 - Переводы (переводы, пополнения). Уберем все транзакции, в которых содержится данная категория, так как данную категорию нельзя связвать со спецификой решаемой задачи."
   ]
  },
  {
   "cell_type": "code",
   "execution_count": 23,
   "metadata": {},
   "outputs": [],
   "source": [
    "transactions = transactions.query('product_category != \"28\"')"
   ]
  },
  {
   "cell_type": "code",
   "execution_count": 24,
   "metadata": {},
   "outputs": [
    {
     "data": {
      "text/plain": [
       "(839117, 8)"
      ]
     },
     "execution_count": 24,
     "metadata": {},
     "output_type": "execute_result"
    }
   ],
   "source": [
    "transactions.shape"
   ]
  },
  {
   "cell_type": "code",
   "execution_count": 25,
   "metadata": {},
   "outputs": [],
   "source": [
    "transactions.reset_index(inplace=True, drop=True)"
   ]
  },
  {
   "cell_type": "code",
   "execution_count": 26,
   "metadata": {},
   "outputs": [
    {
     "data": {
      "text/plain": [
       "6     350044\n",
       "5     130137\n",
       "2      45010\n",
       "3      29839\n",
       "1      29563\n",
       "8      24225\n",
       "9      24208\n",
       "11     24087\n",
       "14     24035\n",
       "10     24007\n",
       "7      23924\n",
       "13     23877\n",
       "15     16973\n",
       "17      9191\n",
       "20      9160\n",
       "21      9154\n",
       "16      9122\n",
       "18      9108\n",
       "19      9068\n",
       "4       8004\n",
       "29      5186\n",
       "12       427\n",
       "26       142\n",
       "27       136\n",
       "22       134\n",
       "24       126\n",
       "25       122\n",
       "23       108\n",
       "Name: product_category, dtype: int64"
      ]
     },
     "execution_count": 26,
     "metadata": {},
     "output_type": "execute_result"
    }
   ],
   "source": [
    "transactions.product_category.value_counts()"
   ]
  },
  {
   "cell_type": "markdown",
   "metadata": {},
   "source": [
    "#### subtype"
   ]
  },
  {
   "cell_type": "code",
   "execution_count": 27,
   "metadata": {},
   "outputs": [
    {
     "data": {
      "text/plain": [
       "Покупка       825927\n",
       "Подписка        8004\n",
       "Автоплатеж      5186\n",
       "Name: subtype, dtype: int64"
      ]
     },
     "execution_count": 27,
     "metadata": {},
     "output_type": "execute_result"
    }
   ],
   "source": [
    "transactions.subtype.value_counts()"
   ]
  },
  {
   "cell_type": "markdown",
   "metadata": {},
   "source": [
    "#### product_company"
   ]
  },
  {
   "cell_type": "markdown",
   "metadata": {},
   "source": [
    "Заполним пропуски в данном столбце на значение no_company."
   ]
  },
  {
   "cell_type": "code",
   "execution_count": 28,
   "metadata": {},
   "outputs": [],
   "source": [
    "transactions.loc[transactions.product_company.isnull() == True, 'product_company'] = 'no_company'"
   ]
  },
  {
   "cell_type": "code",
   "execution_count": 29,
   "metadata": {},
   "outputs": [
    {
     "data": {
      "text/plain": [
       "no_company                 194466\n",
       "Московский Метрополитен    116903\n",
       "Стрелка                    116124\n",
       "Тануки                      16513\n",
       "PizzaHut                    16362\n",
       "                            ...  \n",
       "Boom                         1395\n",
       "Яндекс.Музыка                1370\n",
       "YouTube Music                1352\n",
       "Spotify                      1184\n",
       "Apple Music                  1131\n",
       "Name: product_company, Length: 69, dtype: int64"
      ]
     },
     "execution_count": 29,
     "metadata": {},
     "output_type": "execute_result"
    }
   ],
   "source": [
    "transactions.product_company.value_counts()"
   ]
  },
  {
   "cell_type": "markdown",
   "metadata": {},
   "source": [
    "#### amount"
   ]
  },
  {
   "cell_type": "code",
   "execution_count": 30,
   "metadata": {},
   "outputs": [
    {
     "data": {
      "image/png": "[encoded data removed]",
      "text/plain": [
       "<Figure size 432x288 with 1 Axes>"
      ]
     },
     "metadata": {
      "needs_background": "light"
     },
     "output_type": "display_data"
    }
   ],
   "source": [
    "sns.distplot(transactions.amount);"
   ]
  },
  {
   "cell_type": "code",
   "execution_count": 31,
   "metadata": {},
   "outputs": [
    {
     "data": {
      "image/png": "[encoded data removed]",
      "text/plain": [
       "<Figure size 432x288 with 1 Axes>"
      ]
     },
     "metadata": {
      "needs_background": "light"
     },
     "output_type": "display_data"
    }
   ],
   "source": [
    "sns.distplot(transactions.query('amount > 20000')['amount']);"
   ]
  },
  {
   "cell_type": "code",
   "execution_count": 32,
   "metadata": {},
   "outputs": [
    {
     "data": {
      "text/html": [
       "<div>\n",
       "<style scoped>\n",
       "    .dataframe tbody tr th:only-of-type {\n",
       "        vertical-align: middle;\n",
       "    }\n",
       "\n",
       "    .dataframe tbody tr th {\n",
       "        vertical-align: top;\n",
       "    }\n",
       "\n",
       "    .dataframe thead th {\n",
       "        text-align: right;\n",
       "    }\n",
       "</style>\n",
       "<table border=\"1\" class=\"dataframe\">\n",
       "  <thead>\n",
       "    <tr style=\"text-align: right;\">\n",
       "      <th></th>\n",
       "      <th>client_id</th>\n",
       "      <th>product_category</th>\n",
       "      <th>date</th>\n",
       "    </tr>\n",
       "  </thead>\n",
       "  <tbody>\n",
       "    <tr>\n",
       "      <td>0</td>\n",
       "      <td>37</td>\n",
       "      <td>29</td>\n",
       "      <td>2020-01-01</td>\n",
       "    </tr>\n",
       "    <tr>\n",
       "      <td>1</td>\n",
       "      <td>71</td>\n",
       "      <td>4</td>\n",
       "      <td>2020-01-01</td>\n",
       "    </tr>\n",
       "    <tr>\n",
       "      <td>2</td>\n",
       "      <td>88</td>\n",
       "      <td>29</td>\n",
       "      <td>2020-01-01</td>\n",
       "    </tr>\n",
       "    <tr>\n",
       "      <td>3</td>\n",
       "      <td>89</td>\n",
       "      <td>29</td>\n",
       "      <td>2020-01-01</td>\n",
       "    </tr>\n",
       "    <tr>\n",
       "      <td>4</td>\n",
       "      <td>141</td>\n",
       "      <td>29</td>\n",
       "      <td>2020-01-01</td>\n",
       "    </tr>\n",
       "  </tbody>\n",
       "</table>\n",
       "</div>"
      ],
      "text/plain": [
       "  client_id product_category       date\n",
       "0        37               29 2020-01-01\n",
       "1        71                4 2020-01-01\n",
       "2        88               29 2020-01-01\n",
       "3        89               29 2020-01-01\n",
       "4       141               29 2020-01-01"
      ]
     },
     "execution_count": 32,
     "metadata": {},
     "output_type": "execute_result"
    }
   ],
   "source": [
    "transactions_part = transactions[['client_id', 'product_category', 'date']]\n",
    "transactions_part.head()"
   ]
  },
  {
   "cell_type": "markdown",
   "metadata": {},
   "source": [
    "## Подготовка данных"
   ]
  },
  {
   "cell_type": "markdown",
   "metadata": {},
   "source": [
    "### \"Схлопывание\" повторяющихся действий пользователей"
   ]
  },
  {
   "cell_type": "markdown",
   "metadata": {},
   "source": [
    "Для каждого пользователя посчитаем количество того, сколько раз он взаимодействовал с каждой категорией товара в данных транзакций."
   ]
  },
  {
   "cell_type": "code",
   "execution_count": 33,
   "metadata": {},
   "outputs": [],
   "source": [
    "data = transactions_part.groupby(['client_id', 'product_category'], as_index=False) \\\n",
    "    .agg({'date': 'count'}) \\\n",
    "    .rename(columns={'date': 'purchase_count'})"
   ]
  },
  {
   "cell_type": "code",
   "execution_count": 34,
   "metadata": {},
   "outputs": [
    {
     "data": {
      "text/html": [
       "<div>\n",
       "<style scoped>\n",
       "    .dataframe tbody tr th:only-of-type {\n",
       "        vertical-align: middle;\n",
       "    }\n",
       "\n",
       "    .dataframe tbody tr th {\n",
       "        vertical-align: top;\n",
       "    }\n",
       "\n",
       "    .dataframe thead th {\n",
       "        text-align: right;\n",
       "    }\n",
       "</style>\n",
       "<table border=\"1\" class=\"dataframe\">\n",
       "  <thead>\n",
       "    <tr style=\"text-align: right;\">\n",
       "      <th></th>\n",
       "      <th>client_id</th>\n",
       "      <th>product_category</th>\n",
       "      <th>purchase_count</th>\n",
       "    </tr>\n",
       "  </thead>\n",
       "  <tbody>\n",
       "    <tr>\n",
       "      <td>0</td>\n",
       "      <td>1</td>\n",
       "      <td>10</td>\n",
       "      <td>18</td>\n",
       "    </tr>\n",
       "    <tr>\n",
       "      <td>1</td>\n",
       "      <td>1</td>\n",
       "      <td>11</td>\n",
       "      <td>14</td>\n",
       "    </tr>\n",
       "    <tr>\n",
       "      <td>2</td>\n",
       "      <td>1</td>\n",
       "      <td>13</td>\n",
       "      <td>23</td>\n",
       "    </tr>\n",
       "    <tr>\n",
       "      <td>3</td>\n",
       "      <td>1</td>\n",
       "      <td>14</td>\n",
       "      <td>19</td>\n",
       "    </tr>\n",
       "    <tr>\n",
       "      <td>4</td>\n",
       "      <td>1</td>\n",
       "      <td>16</td>\n",
       "      <td>10</td>\n",
       "    </tr>\n",
       "  </tbody>\n",
       "</table>\n",
       "</div>"
      ],
      "text/plain": [
       "  client_id product_category  purchase_count\n",
       "0         1               10              18\n",
       "1         1               11              14\n",
       "2         1               13              23\n",
       "3         1               14              19\n",
       "4         1               16              10"
      ]
     },
     "execution_count": 34,
     "metadata": {},
     "output_type": "execute_result"
    }
   ],
   "source": [
    "data.head()"
   ]
  },
  {
   "cell_type": "markdown",
   "metadata": {},
   "source": [
    "### Фильтрация неактивных пользователей"
   ]
  },
  {
   "cell_type": "markdown",
   "metadata": {},
   "source": [
    "Отфильтруем пользователей, которые взаимодействовали не больше, чем с 4 категориями товаров и услуг."
   ]
  },
  {
   "cell_type": "code",
   "execution_count": 35,
   "metadata": {},
   "outputs": [
    {
     "data": {
      "text/html": [
       "<div>\n",
       "<style scoped>\n",
       "    .dataframe tbody tr th:only-of-type {\n",
       "        vertical-align: middle;\n",
       "    }\n",
       "\n",
       "    .dataframe tbody tr th {\n",
       "        vertical-align: top;\n",
       "    }\n",
       "\n",
       "    .dataframe thead th {\n",
       "        text-align: right;\n",
       "    }\n",
       "</style>\n",
       "<table border=\"1\" class=\"dataframe\">\n",
       "  <thead>\n",
       "    <tr style=\"text-align: right;\">\n",
       "      <th></th>\n",
       "      <th>client_id</th>\n",
       "      <th>unique_categories</th>\n",
       "    </tr>\n",
       "  </thead>\n",
       "  <tbody>\n",
       "    <tr>\n",
       "      <td>0</td>\n",
       "      <td>1</td>\n",
       "      <td>17</td>\n",
       "    </tr>\n",
       "    <tr>\n",
       "      <td>1</td>\n",
       "      <td>10</td>\n",
       "      <td>19</td>\n",
       "    </tr>\n",
       "    <tr>\n",
       "      <td>2</td>\n",
       "      <td>100</td>\n",
       "      <td>21</td>\n",
       "    </tr>\n",
       "    <tr>\n",
       "      <td>3</td>\n",
       "      <td>1000</td>\n",
       "      <td>21</td>\n",
       "    </tr>\n",
       "    <tr>\n",
       "      <td>4</td>\n",
       "      <td>101</td>\n",
       "      <td>20</td>\n",
       "    </tr>\n",
       "  </tbody>\n",
       "</table>\n",
       "</div>"
      ],
      "text/plain": [
       "  client_id  unique_categories\n",
       "0         1                 17\n",
       "1        10                 19\n",
       "2       100                 21\n",
       "3      1000                 21\n",
       "4       101                 20"
      ]
     },
     "execution_count": 35,
     "metadata": {},
     "output_type": "execute_result"
    }
   ],
   "source": [
    "users_interactions = data \\\n",
    "    .groupby('client_id', as_index=False) \\\n",
    "    .agg({'product_category': 'count'}) \\\n",
    "    .rename(columns={'product_category': 'unique_categories'})\n",
    "users_interactions.head()"
   ]
  },
  {
   "cell_type": "code",
   "execution_count": 36,
   "metadata": {},
   "outputs": [
    {
     "data": {
      "image/png": "[encoded data removed]",
      "text/plain": [
       "<Figure size 432x288 with 1 Axes>"
      ]
     },
     "metadata": {
      "needs_background": "light"
     },
     "output_type": "display_data"
    }
   ],
   "source": [
    "sns.distplot(users_interactions.unique_categories);"
   ]
  },
  {
   "cell_type": "code",
   "execution_count": 37,
   "metadata": {},
   "outputs": [
    {
     "data": {
      "text/plain": [
       "0         1\n",
       "1        10\n",
       "2       100\n",
       "3      1000\n",
       "4       101\n",
       "       ... \n",
       "995     995\n",
       "996     996\n",
       "997     997\n",
       "998     998\n",
       "999     999\n",
       "Name: client_id, Length: 1000, dtype: object"
      ]
     },
     "execution_count": 37,
     "metadata": {},
     "output_type": "execute_result"
    }
   ],
   "source": [
    "users_with_enough_interactions = users_interactions.query('unique_categories > 4')['client_id']\n",
    "users_with_enough_interactions"
   ]
  },
  {
   "cell_type": "code",
   "execution_count": 38,
   "metadata": {},
   "outputs": [
    {
     "name": "stdout",
     "output_type": "stream",
     "text": [
      "Всего пользователей: 1000\n",
      "Пользователей по крайней мере с 5 взаимодействиями: 1000\n"
     ]
    }
   ],
   "source": [
    "print(f'Всего пользователей: {users_interactions.shape[0]}')\n",
    "print(f'Пользователей по крайней мере с 5 взаимодействиями: {users_with_enough_interactions.shape[0]}')"
   ]
  },
  {
   "cell_type": "markdown",
   "metadata": {},
   "source": [
    "Получаем, что пользователей меньше, чем с 5 взаимодействиями нет."
   ]
  },
  {
   "cell_type": "markdown",
   "metadata": {},
   "source": [
    "### Масштабирование данных"
   ]
  },
  {
   "cell_type": "markdown",
   "metadata": {},
   "source": [
    "В качестве масштабирования данных воспользуемся MinMaxScaler."
   ]
  },
  {
   "cell_type": "code",
   "execution_count": 39,
   "metadata": {},
   "outputs": [
    {
     "data": {
      "text/html": [
       "<div>\n",
       "<style scoped>\n",
       "    .dataframe tbody tr th:only-of-type {\n",
       "        vertical-align: middle;\n",
       "    }\n",
       "\n",
       "    .dataframe tbody tr th {\n",
       "        vertical-align: top;\n",
       "    }\n",
       "\n",
       "    .dataframe thead th {\n",
       "        text-align: right;\n",
       "    }\n",
       "</style>\n",
       "<table border=\"1\" class=\"dataframe\">\n",
       "  <thead>\n",
       "    <tr style=\"text-align: right;\">\n",
       "      <th></th>\n",
       "      <th>client_id</th>\n",
       "      <th>product_category</th>\n",
       "      <th>purchase_normalize</th>\n",
       "    </tr>\n",
       "  </thead>\n",
       "  <tbody>\n",
       "    <tr>\n",
       "      <td>0</td>\n",
       "      <td>1</td>\n",
       "      <td>10</td>\n",
       "      <td>0.042607</td>\n",
       "    </tr>\n",
       "    <tr>\n",
       "      <td>1</td>\n",
       "      <td>1</td>\n",
       "      <td>11</td>\n",
       "      <td>0.032581</td>\n",
       "    </tr>\n",
       "    <tr>\n",
       "      <td>2</td>\n",
       "      <td>1</td>\n",
       "      <td>13</td>\n",
       "      <td>0.055138</td>\n",
       "    </tr>\n",
       "    <tr>\n",
       "      <td>3</td>\n",
       "      <td>1</td>\n",
       "      <td>14</td>\n",
       "      <td>0.045113</td>\n",
       "    </tr>\n",
       "    <tr>\n",
       "      <td>4</td>\n",
       "      <td>1</td>\n",
       "      <td>16</td>\n",
       "      <td>0.022556</td>\n",
       "    </tr>\n",
       "  </tbody>\n",
       "</table>\n",
       "</div>"
      ],
      "text/plain": [
       "  client_id product_category  purchase_normalize\n",
       "0         1               10            0.042607\n",
       "1         1               11            0.032581\n",
       "2         1               13            0.055138\n",
       "3         1               14            0.045113\n",
       "4         1               16            0.022556"
      ]
     },
     "execution_count": 39,
     "metadata": {},
     "output_type": "execute_result"
    }
   ],
   "source": [
    "data = data.assign(purchase_normalize = (data.purchase_count - data.purchase_count.min()) / (data.purchase_count.max() - data.purchase_count.min()))\n",
    "data.drop(columns=['purchase_count'], inplace=True)\n",
    "data.head()"
   ]
  },
  {
   "cell_type": "markdown",
   "metadata": {},
   "source": [
    "### Разбиение выборки на тренировочную и тестовую"
   ]
  },
  {
   "cell_type": "markdown",
   "metadata": {},
   "source": [
    "Произведем разбиение выборки на обучение и контроль по времени. Перед этим возьмем последнее время взаимодействия пары client_id и product_category."
   ]
  },
  {
   "cell_type": "code",
   "execution_count": 40,
   "metadata": {},
   "outputs": [
    {
     "data": {
      "text/html": [
       "<div>\n",
       "<style scoped>\n",
       "    .dataframe tbody tr th:only-of-type {\n",
       "        vertical-align: middle;\n",
       "    }\n",
       "\n",
       "    .dataframe tbody tr th {\n",
       "        vertical-align: top;\n",
       "    }\n",
       "\n",
       "    .dataframe thead th {\n",
       "        text-align: right;\n",
       "    }\n",
       "</style>\n",
       "<table border=\"1\" class=\"dataframe\">\n",
       "  <thead>\n",
       "    <tr style=\"text-align: right;\">\n",
       "      <th></th>\n",
       "      <th>client_id</th>\n",
       "      <th>product_category</th>\n",
       "      <th>date</th>\n",
       "    </tr>\n",
       "  </thead>\n",
       "  <tbody>\n",
       "    <tr>\n",
       "      <td>0</td>\n",
       "      <td>1</td>\n",
       "      <td>10</td>\n",
       "      <td>2020-12-22 02:33:13</td>\n",
       "    </tr>\n",
       "    <tr>\n",
       "      <td>1</td>\n",
       "      <td>1</td>\n",
       "      <td>11</td>\n",
       "      <td>2020-12-22 10:20:44</td>\n",
       "    </tr>\n",
       "    <tr>\n",
       "      <td>2</td>\n",
       "      <td>1</td>\n",
       "      <td>13</td>\n",
       "      <td>2020-12-29 09:07:06</td>\n",
       "    </tr>\n",
       "    <tr>\n",
       "      <td>3</td>\n",
       "      <td>1</td>\n",
       "      <td>14</td>\n",
       "      <td>2020-12-31 06:49:11</td>\n",
       "    </tr>\n",
       "    <tr>\n",
       "      <td>4</td>\n",
       "      <td>1</td>\n",
       "      <td>16</td>\n",
       "      <td>2020-12-29 03:38:07</td>\n",
       "    </tr>\n",
       "  </tbody>\n",
       "</table>\n",
       "</div>"
      ],
      "text/plain": [
       "  client_id product_category                date\n",
       "0         1               10 2020-12-22 02:33:13\n",
       "1         1               11 2020-12-22 10:20:44\n",
       "2         1               13 2020-12-29 09:07:06\n",
       "3         1               14 2020-12-31 06:49:11\n",
       "4         1               16 2020-12-29 03:38:07"
      ]
     },
     "execution_count": 40,
     "metadata": {},
     "output_type": "execute_result"
    }
   ],
   "source": [
    "transactions_last_date = transactions_part \\\n",
    "    .groupby(['client_id', 'product_category'], as_index=False) \\\n",
    "    .date \\\n",
    "    .last()\n",
    "transactions_last_date.head()"
   ]
  },
  {
   "cell_type": "code",
   "execution_count": 41,
   "metadata": {},
   "outputs": [
    {
     "data": {
      "text/html": [
       "<div>\n",
       "<style scoped>\n",
       "    .dataframe tbody tr th:only-of-type {\n",
       "        vertical-align: middle;\n",
       "    }\n",
       "\n",
       "    .dataframe tbody tr th {\n",
       "        vertical-align: top;\n",
       "    }\n",
       "\n",
       "    .dataframe thead th {\n",
       "        text-align: right;\n",
       "    }\n",
       "</style>\n",
       "<table border=\"1\" class=\"dataframe\">\n",
       "  <thead>\n",
       "    <tr style=\"text-align: right;\">\n",
       "      <th></th>\n",
       "      <th>client_id</th>\n",
       "      <th>product_category</th>\n",
       "      <th>purchase_normalize</th>\n",
       "      <th>last_date</th>\n",
       "    </tr>\n",
       "  </thead>\n",
       "  <tbody>\n",
       "    <tr>\n",
       "      <td>0</td>\n",
       "      <td>1</td>\n",
       "      <td>10</td>\n",
       "      <td>0.042607</td>\n",
       "      <td>2020-12-22 02:33:13</td>\n",
       "    </tr>\n",
       "    <tr>\n",
       "      <td>1</td>\n",
       "      <td>1</td>\n",
       "      <td>11</td>\n",
       "      <td>0.032581</td>\n",
       "      <td>2020-12-22 10:20:44</td>\n",
       "    </tr>\n",
       "    <tr>\n",
       "      <td>2</td>\n",
       "      <td>1</td>\n",
       "      <td>13</td>\n",
       "      <td>0.055138</td>\n",
       "      <td>2020-12-29 09:07:06</td>\n",
       "    </tr>\n",
       "    <tr>\n",
       "      <td>3</td>\n",
       "      <td>1</td>\n",
       "      <td>14</td>\n",
       "      <td>0.045113</td>\n",
       "      <td>2020-12-31 06:49:11</td>\n",
       "    </tr>\n",
       "    <tr>\n",
       "      <td>4</td>\n",
       "      <td>1</td>\n",
       "      <td>16</td>\n",
       "      <td>0.022556</td>\n",
       "      <td>2020-12-29 03:38:07</td>\n",
       "    </tr>\n",
       "  </tbody>\n",
       "</table>\n",
       "</div>"
      ],
      "text/plain": [
       "  client_id product_category  purchase_normalize           last_date\n",
       "0         1               10            0.042607 2020-12-22 02:33:13\n",
       "1         1               11            0.032581 2020-12-22 10:20:44\n",
       "2         1               13            0.055138 2020-12-29 09:07:06\n",
       "3         1               14            0.045113 2020-12-31 06:49:11\n",
       "4         1               16            0.022556 2020-12-29 03:38:07"
      ]
     },
     "execution_count": 41,
     "metadata": {},
     "output_type": "execute_result"
    }
   ],
   "source": [
    "data = data \\\n",
    "    .merge(transactions_last_date, on=['client_id', 'product_category']) \\\n",
    "    .rename(columns={'date': 'last_date'})\n",
    "data.head()"
   ]
  },
  {
   "cell_type": "code",
   "execution_count": 42,
   "metadata": {},
   "outputs": [
    {
     "name": "stdout",
     "output_type": "stream",
     "text": [
      "Всего взаимодействий: 20201\n",
      "Доля взаимодействий в тренировочной выборке: 0.8 (17051)\n",
      "Доля взаимодействий в тестовой выборке: 0.2 (3150)\n"
     ]
    }
   ],
   "source": [
    "split_date = '2020-12-30'\n",
    "data_train = data.query('last_date < @split_date').copy()\n",
    "data_test = data.query('last_date >= @split_date').copy()\n",
    "\n",
    "print(f'Всего взаимодействий: {data.shape[0]}')\n",
    "print(f'Доля взаимодействий в тренировочной выборке: {round(data_train.shape[0] / data.shape[0], 1)} ({data_train.shape[0]})')\n",
    "print(f'Доля взаимодействий в тестовой выборке: {round(data_test.shape[0] / data.shape[0], 1)} ({data_test.shape[0]})')"
   ]
  },
  {
   "cell_type": "markdown",
   "metadata": {},
   "source": [
    "Для удобства подсчета качества запишем данные в формате, где строка соответствует пользователю, а столбцы будут истинными метками и предсказаниями в виде списков."
   ]
  },
  {
   "cell_type": "code",
   "execution_count": 43,
   "metadata": {},
   "outputs": [],
   "source": [
    "data_true = (\n",
    "    data_train\n",
    "    .groupby('client_id')['product_category'].agg(lambda x: list(x))\n",
    "    .reset_index()\n",
    "    .rename(columns={'product_category': 'true_train'})\n",
    "    .set_index('client_id')\n",
    ")\n",
    "\n",
    "data_true['true_test'] = (\n",
    "    data_test\n",
    "    .groupby('client_id')['product_category'].agg(lambda x: list(x))\n",
    ")"
   ]
  },
  {
   "cell_type": "markdown",
   "metadata": {},
   "source": [
    "Заполним пропуски пустыми списками."
   ]
  },
  {
   "cell_type": "code",
   "execution_count": 44,
   "metadata": {},
   "outputs": [],
   "source": [
    "data_true.loc[pd.isnull(data_true.true_test), 'true_test'] = [\n",
    "    list() for x in range(len(data_true.loc[pd.isnull(data_true.true_test), 'true_test']))]"
   ]
  },
  {
   "cell_type": "code",
   "execution_count": 45,
   "metadata": {},
   "outputs": [
    {
     "data": {
      "text/html": [
       "<div>\n",
       "<style scoped>\n",
       "    .dataframe tbody tr th:only-of-type {\n",
       "        vertical-align: middle;\n",
       "    }\n",
       "\n",
       "    .dataframe tbody tr th {\n",
       "        vertical-align: top;\n",
       "    }\n",
       "\n",
       "    .dataframe thead th {\n",
       "        text-align: right;\n",
       "    }\n",
       "</style>\n",
       "<table border=\"1\" class=\"dataframe\">\n",
       "  <thead>\n",
       "    <tr style=\"text-align: right;\">\n",
       "      <th></th>\n",
       "      <th>true_train</th>\n",
       "      <th>true_test</th>\n",
       "    </tr>\n",
       "    <tr>\n",
       "      <th>client_id</th>\n",
       "      <th></th>\n",
       "      <th></th>\n",
       "    </tr>\n",
       "  </thead>\n",
       "  <tbody>\n",
       "    <tr>\n",
       "      <td>1</td>\n",
       "      <td>[10, 11, 13, 16, 17, 18, 19, 2, 20, 21, 4, 6, ...</td>\n",
       "      <td>[14, 5, 9]</td>\n",
       "    </tr>\n",
       "  </tbody>\n",
       "</table>\n",
       "</div>"
      ],
      "text/plain": [
       "                                                  true_train   true_test\n",
       "client_id                                                               \n",
       "1          [10, 11, 13, 16, 17, 18, 19, 2, 20, 21, 4, 6, ...  [14, 5, 9]"
      ]
     },
     "execution_count": 45,
     "metadata": {},
     "output_type": "execute_result"
    }
   ],
   "source": [
    "data_true.head(1)"
   ]
  },
  {
   "cell_type": "markdown",
   "metadata": {},
   "source": [
    "## Моделирование и оценка"
   ]
  },
  {
   "cell_type": "markdown",
   "metadata": {},
   "source": [
    "Для каждого пользователя будем предсказывать только одну категорию товара или услуги в связи тем, что реклама только одной категории товара или услуги может быть показана пользователю в приложении."
   ]
  },
  {
   "cell_type": "markdown",
   "metadata": {},
   "source": [
    "### Метрики качества"
   ]
  },
  {
   "cell_type": "markdown",
   "metadata": {},
   "source": [
    "В качестве метрик качества моделей рассчитаем следующие:\n",
    "- precision@k;\n",
    "- recall@k;\n",
    "- F-score@k.\n",
    "\n",
    "За основную метрику возьмем F-score@k."
   ]
  },
  {
   "cell_type": "code",
   "execution_count": 46,
   "metadata": {},
   "outputs": [],
   "source": [
    "top_k = 1 # количество категорий, которое нужно предсказать пользователю"
   ]
  },
  {
   "cell_type": "code",
   "execution_count": 47,
   "metadata": {},
   "outputs": [],
   "source": [
    "def calc_precision(column):\n",
    "    return (\n",
    "        data_true\n",
    "            .apply(\n",
    "                lambda row: len(set(row['true_test']).intersection(row[column])) / min(len(row['true_test']) + 0.001, top_k),\n",
    "                axis=1\n",
    "            )\n",
    "    ).mean()"
   ]
  },
  {
   "cell_type": "code",
   "execution_count": 48,
   "metadata": {},
   "outputs": [],
   "source": [
    "def calc_recall(column):\n",
    "    return (\n",
    "        data_true\n",
    "            .apply(\n",
    "                lambda row: len(set(row['true_test']).intersection(row[column])) / min(len(row[column]) + 0.001, top_k),\n",
    "                axis=1\n",
    "            )\n",
    "    ).mean()"
   ]
  },
  {
   "cell_type": "markdown",
   "metadata": {},
   "source": [
    "При прогнозировании нам важнее то, чтобы модель рекомендательной системы не рекомендовала пользователям то, что им не интересно, поэтому строя и оценивая наши модели, будем использовать измененную метрику качества F-score, в которой дадим больший вес точности (precision@k)."
   ]
  },
  {
   "cell_type": "code",
   "execution_count": 49,
   "metadata": {},
   "outputs": [],
   "source": [
    "def calc_fscore_precision(column):\n",
    "    beta = 0.5\n",
    "    precision = calc_precision(column)\n",
    "    recall = calc_recall(column)\n",
    "    fscore_precision = ((1 + beta ** 2) * precision * recall) / (beta ** 2 * precision + recall)\n",
    "    return fscore_precision"
   ]
  },
  {
   "cell_type": "markdown",
   "metadata": {},
   "source": [
    "### Модель по полуярности (baseline)"
   ]
  },
  {
   "cell_type": "markdown",
   "metadata": {},
   "source": [
    "Посчитаем популярность каждой категории, как сумму всех количеств взаимодействия с ней, и отсортируем категории по их популярности."
   ]
  },
  {
   "cell_type": "code",
   "execution_count": 50,
   "metadata": {},
   "outputs": [
    {
     "data": {
      "text/plain": [
       "array(['5', '6', '2', '3', '1', '7', '11', '8', '13', '10', '14', '9',\n",
       "       '15', '17', '21', '20', '16', '18', '19', '4', '29', '12', '26',\n",
       "       '27', '24', '25', '22', '23'], dtype=object)"
      ]
     },
     "execution_count": 50,
     "metadata": {},
     "output_type": "execute_result"
    }
   ],
   "source": [
    "popular_category = (\n",
    "    data_train\n",
    "    .groupby('product_category', as_index=False)\n",
    "    .agg({'purchase_normalize': 'sum'})\n",
    "    .rename(columns={'purchase_normalize': 'purchase_total'})\n",
    "    .sort_values('purchase_total', ascending=False)\n",
    "    .product_category.values\n",
    ")\n",
    "popular_category"
   ]
  },
  {
   "cell_type": "code",
   "execution_count": 51,
   "metadata": {},
   "outputs": [
    {
     "name": "stdout",
     "output_type": "stream",
     "text": [
      "Наиболее популярной категорией является: Фастфуд\n",
      "Наименее популярной категорией является: Автоуслуги\n"
     ]
    }
   ],
   "source": [
    "print(f\"Наиболее популярной категорией является: {categories.query('product_category == @popular_category[0]')['name'].values[0]}\")\n",
    "print(f\"Наименее популярной категорией является: {categories.query('product_category == @popular_category[-1]')['name'].values[0]}\")"
   ]
  },
  {
   "cell_type": "markdown",
   "metadata": {},
   "source": [
    "Делаем предсказания для каждого пользователя."
   ]
  },
  {
   "cell_type": "markdown",
   "metadata": {},
   "source": [
    "Рекомендуем каждому пользователю те категории товаров и услуг, которые он приобретал и которые еще нет. В этом случае каждому пользователю предлагаем самую популярную категорию."
   ]
  },
  {
   "cell_type": "code",
   "execution_count": 52,
   "metadata": {},
   "outputs": [],
   "source": [
    "data_true['prediction_popular_without'] = np.resize(popular_category[:top_k], (data_true.shape[0], 1))"
   ]
  },
  {
   "cell_type": "code",
   "execution_count": 53,
   "metadata": {},
   "outputs": [
    {
     "data": {
      "text/html": [
       "<div>\n",
       "<style scoped>\n",
       "    .dataframe tbody tr th:only-of-type {\n",
       "        vertical-align: middle;\n",
       "    }\n",
       "\n",
       "    .dataframe tbody tr th {\n",
       "        vertical-align: top;\n",
       "    }\n",
       "\n",
       "    .dataframe thead th {\n",
       "        text-align: right;\n",
       "    }\n",
       "</style>\n",
       "<table border=\"1\" class=\"dataframe\">\n",
       "  <thead>\n",
       "    <tr style=\"text-align: right;\">\n",
       "      <th></th>\n",
       "      <th>true_train</th>\n",
       "      <th>true_test</th>\n",
       "      <th>prediction_popular_without</th>\n",
       "    </tr>\n",
       "    <tr>\n",
       "      <th>client_id</th>\n",
       "      <th></th>\n",
       "      <th></th>\n",
       "      <th></th>\n",
       "    </tr>\n",
       "  </thead>\n",
       "  <tbody>\n",
       "    <tr>\n",
       "      <td>1</td>\n",
       "      <td>[10, 11, 13, 16, 17, 18, 19, 2, 20, 21, 4, 6, ...</td>\n",
       "      <td>[14, 5, 9]</td>\n",
       "      <td>5</td>\n",
       "    </tr>\n",
       "    <tr>\n",
       "      <td>10</td>\n",
       "      <td>[1, 10, 11, 13, 14, 16, 17, 18, 19, 20, 21, 26...</td>\n",
       "      <td>[2, 6]</td>\n",
       "      <td>5</td>\n",
       "    </tr>\n",
       "    <tr>\n",
       "      <td>100</td>\n",
       "      <td>[1, 10, 12, 13, 14, 16, 17, 18, 19, 2, 20, 21,...</td>\n",
       "      <td>[11, 5, 6, 9]</td>\n",
       "      <td>5</td>\n",
       "    </tr>\n",
       "    <tr>\n",
       "      <td>1000</td>\n",
       "      <td>[1, 11, 13, 14, 15, 16, 17, 18, 19, 20, 21, 29...</td>\n",
       "      <td>[10, 2, 6, 7]</td>\n",
       "      <td>5</td>\n",
       "    </tr>\n",
       "    <tr>\n",
       "      <td>101</td>\n",
       "      <td>[1, 10, 11, 13, 14, 16, 17, 18, 19, 2, 20, 21,...</td>\n",
       "      <td>[6]</td>\n",
       "      <td>5</td>\n",
       "    </tr>\n",
       "  </tbody>\n",
       "</table>\n",
       "</div>"
      ],
      "text/plain": [
       "                                                  true_train      true_test  \\\n",
       "client_id                                                                     \n",
       "1          [10, 11, 13, 16, 17, 18, 19, 2, 20, 21, 4, 6, ...     [14, 5, 9]   \n",
       "10         [1, 10, 11, 13, 14, 16, 17, 18, 19, 20, 21, 26...         [2, 6]   \n",
       "100        [1, 10, 12, 13, 14, 16, 17, 18, 19, 2, 20, 21,...  [11, 5, 6, 9]   \n",
       "1000       [1, 11, 13, 14, 15, 16, 17, 18, 19, 20, 21, 29...  [10, 2, 6, 7]   \n",
       "101        [1, 10, 11, 13, 14, 16, 17, 18, 19, 2, 20, 21,...            [6]   \n",
       "\n",
       "          prediction_popular_without  \n",
       "client_id                             \n",
       "1                                  5  \n",
       "10                                 5  \n",
       "100                                5  \n",
       "1000                               5  \n",
       "101                                5  "
      ]
     },
     "execution_count": 53,
     "metadata": {},
     "output_type": "execute_result"
    }
   ],
   "source": [
    "data_true.head()"
   ]
  },
  {
   "cell_type": "code",
   "execution_count": 54,
   "metadata": {},
   "outputs": [
    {
     "name": "stdout",
     "output_type": "stream",
     "text": [
      "Precision@1: 0.524\n",
      "Recall@1: 0.524\n",
      "F-score@1: 0.524\n"
     ]
    }
   ],
   "source": [
    "print(f'Precision@1: {calc_precision(\"prediction_popular_without\")}')\n",
    "print(f'Recall@1: {calc_recall(\"prediction_popular_without\")}')\n",
    "print(f'F-score@1: {calc_fscore_precision(\"prediction_popular_without\")}')"
   ]
  },
  {
   "cell_type": "markdown",
   "metadata": {},
   "source": [
    "### Коллаборативная фильтрация"
   ]
  },
  {
   "cell_type": "code",
   "execution_count": 55,
   "metadata": {},
   "outputs": [
    {
     "data": {
      "text/html": [
       "<div>\n",
       "<style scoped>\n",
       "    .dataframe tbody tr th:only-of-type {\n",
       "        vertical-align: middle;\n",
       "    }\n",
       "\n",
       "    .dataframe tbody tr th {\n",
       "        vertical-align: top;\n",
       "    }\n",
       "\n",
       "    .dataframe thead th {\n",
       "        text-align: right;\n",
       "    }\n",
       "</style>\n",
       "<table border=\"1\" class=\"dataframe\">\n",
       "  <thead>\n",
       "    <tr style=\"text-align: right;\">\n",
       "      <th>product_category</th>\n",
       "      <th>1</th>\n",
       "      <th>10</th>\n",
       "      <th>11</th>\n",
       "      <th>12</th>\n",
       "      <th>13</th>\n",
       "      <th>14</th>\n",
       "      <th>15</th>\n",
       "      <th>16</th>\n",
       "      <th>17</th>\n",
       "      <th>18</th>\n",
       "      <th>...</th>\n",
       "      <th>26</th>\n",
       "      <th>27</th>\n",
       "      <th>29</th>\n",
       "      <th>3</th>\n",
       "      <th>4</th>\n",
       "      <th>5</th>\n",
       "      <th>6</th>\n",
       "      <th>7</th>\n",
       "      <th>8</th>\n",
       "      <th>9</th>\n",
       "    </tr>\n",
       "    <tr>\n",
       "      <th>client_id</th>\n",
       "      <th></th>\n",
       "      <th></th>\n",
       "      <th></th>\n",
       "      <th></th>\n",
       "      <th></th>\n",
       "      <th></th>\n",
       "      <th></th>\n",
       "      <th></th>\n",
       "      <th></th>\n",
       "      <th></th>\n",
       "      <th></th>\n",
       "      <th></th>\n",
       "      <th></th>\n",
       "      <th></th>\n",
       "      <th></th>\n",
       "      <th></th>\n",
       "      <th></th>\n",
       "      <th></th>\n",
       "      <th></th>\n",
       "      <th></th>\n",
       "      <th></th>\n",
       "    </tr>\n",
       "  </thead>\n",
       "  <tbody>\n",
       "    <tr>\n",
       "      <td>1</td>\n",
       "      <td>0.000000</td>\n",
       "      <td>0.042607</td>\n",
       "      <td>0.032581</td>\n",
       "      <td>0.0</td>\n",
       "      <td>0.055138</td>\n",
       "      <td>0.045113</td>\n",
       "      <td>0.000000</td>\n",
       "      <td>0.022556</td>\n",
       "      <td>0.012531</td>\n",
       "      <td>0.040100</td>\n",
       "      <td>...</td>\n",
       "      <td>0.0</td>\n",
       "      <td>0.0</td>\n",
       "      <td>0.000000</td>\n",
       "      <td>0.000000</td>\n",
       "      <td>0.027569</td>\n",
       "      <td>0.378446</td>\n",
       "      <td>0.974937</td>\n",
       "      <td>0.065163</td>\n",
       "      <td>0.060150</td>\n",
       "      <td>0.047619</td>\n",
       "    </tr>\n",
       "    <tr>\n",
       "      <td>10</td>\n",
       "      <td>0.102757</td>\n",
       "      <td>0.050125</td>\n",
       "      <td>0.065163</td>\n",
       "      <td>0.0</td>\n",
       "      <td>0.070175</td>\n",
       "      <td>0.050125</td>\n",
       "      <td>0.000000</td>\n",
       "      <td>0.015038</td>\n",
       "      <td>0.022556</td>\n",
       "      <td>0.030075</td>\n",
       "      <td>...</td>\n",
       "      <td>0.0</td>\n",
       "      <td>0.0</td>\n",
       "      <td>0.000000</td>\n",
       "      <td>0.082707</td>\n",
       "      <td>0.000000</td>\n",
       "      <td>0.273183</td>\n",
       "      <td>0.784461</td>\n",
       "      <td>0.050125</td>\n",
       "      <td>0.065163</td>\n",
       "      <td>0.047619</td>\n",
       "    </tr>\n",
       "    <tr>\n",
       "      <td>100</td>\n",
       "      <td>0.110276</td>\n",
       "      <td>0.030075</td>\n",
       "      <td>0.045113</td>\n",
       "      <td>0.0</td>\n",
       "      <td>0.030075</td>\n",
       "      <td>0.035088</td>\n",
       "      <td>0.000000</td>\n",
       "      <td>0.025063</td>\n",
       "      <td>0.035088</td>\n",
       "      <td>0.030075</td>\n",
       "      <td>...</td>\n",
       "      <td>0.0</td>\n",
       "      <td>0.0</td>\n",
       "      <td>0.022556</td>\n",
       "      <td>0.067669</td>\n",
       "      <td>0.020050</td>\n",
       "      <td>0.283208</td>\n",
       "      <td>0.781955</td>\n",
       "      <td>0.035088</td>\n",
       "      <td>0.047619</td>\n",
       "      <td>0.062657</td>\n",
       "    </tr>\n",
       "    <tr>\n",
       "      <td>1000</td>\n",
       "      <td>0.080201</td>\n",
       "      <td>0.075188</td>\n",
       "      <td>0.077694</td>\n",
       "      <td>0.0</td>\n",
       "      <td>0.057644</td>\n",
       "      <td>0.065163</td>\n",
       "      <td>0.117794</td>\n",
       "      <td>0.012531</td>\n",
       "      <td>0.010025</td>\n",
       "      <td>0.020050</td>\n",
       "      <td>...</td>\n",
       "      <td>0.0</td>\n",
       "      <td>0.0</td>\n",
       "      <td>0.027569</td>\n",
       "      <td>0.080201</td>\n",
       "      <td>0.027569</td>\n",
       "      <td>0.338346</td>\n",
       "      <td>0.979950</td>\n",
       "      <td>0.075188</td>\n",
       "      <td>0.072682</td>\n",
       "      <td>0.067669</td>\n",
       "    </tr>\n",
       "    <tr>\n",
       "      <td>101</td>\n",
       "      <td>0.067669</td>\n",
       "      <td>0.067669</td>\n",
       "      <td>0.082707</td>\n",
       "      <td>0.0</td>\n",
       "      <td>0.090226</td>\n",
       "      <td>0.057644</td>\n",
       "      <td>0.000000</td>\n",
       "      <td>0.020050</td>\n",
       "      <td>0.015038</td>\n",
       "      <td>0.022556</td>\n",
       "      <td>...</td>\n",
       "      <td>0.0</td>\n",
       "      <td>0.0</td>\n",
       "      <td>0.002506</td>\n",
       "      <td>0.110276</td>\n",
       "      <td>0.007519</td>\n",
       "      <td>0.338346</td>\n",
       "      <td>0.862155</td>\n",
       "      <td>0.077694</td>\n",
       "      <td>0.082707</td>\n",
       "      <td>0.057644</td>\n",
       "    </tr>\n",
       "  </tbody>\n",
       "</table>\n",
       "<p>5 rows × 28 columns</p>\n",
       "</div>"
      ],
      "text/plain": [
       "product_category         1        10        11   12        13        14  \\\n",
       "client_id                                                                 \n",
       "1                 0.000000  0.042607  0.032581  0.0  0.055138  0.045113   \n",
       "10                0.102757  0.050125  0.065163  0.0  0.070175  0.050125   \n",
       "100               0.110276  0.030075  0.045113  0.0  0.030075  0.035088   \n",
       "1000              0.080201  0.075188  0.077694  0.0  0.057644  0.065163   \n",
       "101               0.067669  0.067669  0.082707  0.0  0.090226  0.057644   \n",
       "\n",
       "product_category        15        16        17        18  ...   26   27  \\\n",
       "client_id                                                 ...             \n",
       "1                 0.000000  0.022556  0.012531  0.040100  ...  0.0  0.0   \n",
       "10                0.000000  0.015038  0.022556  0.030075  ...  0.0  0.0   \n",
       "100               0.000000  0.025063  0.035088  0.030075  ...  0.0  0.0   \n",
       "1000              0.117794  0.012531  0.010025  0.020050  ...  0.0  0.0   \n",
       "101               0.000000  0.020050  0.015038  0.022556  ...  0.0  0.0   \n",
       "\n",
       "product_category        29         3         4         5         6         7  \\\n",
       "client_id                                                                      \n",
       "1                 0.000000  0.000000  0.027569  0.378446  0.974937  0.065163   \n",
       "10                0.000000  0.082707  0.000000  0.273183  0.784461  0.050125   \n",
       "100               0.022556  0.067669  0.020050  0.283208  0.781955  0.035088   \n",
       "1000              0.027569  0.080201  0.027569  0.338346  0.979950  0.075188   \n",
       "101               0.002506  0.110276  0.007519  0.338346  0.862155  0.077694   \n",
       "\n",
       "product_category         8         9  \n",
       "client_id                             \n",
       "1                 0.060150  0.047619  \n",
       "10                0.065163  0.047619  \n",
       "100               0.047619  0.062657  \n",
       "1000              0.072682  0.067669  \n",
       "101               0.082707  0.057644  \n",
       "\n",
       "[5 rows x 28 columns]"
      ]
     },
     "execution_count": 55,
     "metadata": {},
     "output_type": "execute_result"
    }
   ],
   "source": [
    "data_matrix = pd.pivot_table(data, index='client_id', columns='product_category', values='purchase_normalize', fill_value=0)\n",
    "data_matrix.head()"
   ]
  },
  {
   "cell_type": "markdown",
   "metadata": {},
   "source": [
    "#### Memory-dased"
   ]
  },
  {
   "cell_type": "code",
   "execution_count": 56,
   "metadata": {},
   "outputs": [],
   "source": [
    "matrix = data_matrix.values"
   ]
  },
  {
   "cell_type": "code",
   "execution_count": 57,
   "metadata": {},
   "outputs": [
    {
     "data": {
      "application/vnd.jupyter.widget-view+json": {
       "model_id": "26163ade248641589df2d73eeca9a308",
       "version_major": 2,
       "version_minor": 0
      },
      "text/plain": [
       "HBox(children=(IntProgress(value=0, max=1000), HTML(value='')))"
      ]
     },
     "metadata": {},
     "output_type": "display_data"
    },
    {
     "name": "stdout",
     "output_type": "stream",
     "text": [
      "\n"
     ]
    }
   ],
   "source": [
    "similarity_users = np.zeros((len(matrix), len(matrix)))\n",
    "\n",
    "for i in tqdm_notebook(range(len(matrix))):\n",
    "    for j in range(i+1, len(matrix)):\n",
    "        \n",
    "        # nonzero elements of two users\n",
    "        mask_uv = (matrix[i] != 0) & (matrix[j] != 0)\n",
    "        \n",
    "        # continue if no intersection\n",
    "        if np.sum(mask_uv) == 0:\n",
    "            continue\n",
    "            \n",
    "        # get nonzero elements\n",
    "        ratings_v = matrix[i, mask_uv]\n",
    "        ratings_u = matrix[j, mask_uv]\n",
    "        \n",
    "        # for nonzero std\n",
    "        if len(np.unique(ratings_v)) < 2 or len(np.unique(ratings_u)) < 2:\n",
    "            continue\n",
    "        similarity_users[i,j] = np.corrcoef(ratings_v, ratings_u)[0, 1]\n",
    "        similarity_users[j,i] = similarity_users[i,j]"
   ]
  },
  {
   "cell_type": "markdown",
   "metadata": {},
   "source": [
    "В нашем примере данных не очень много, поэтому возьмём $\\alpha = 0$."
   ]
  },
  {
   "cell_type": "code",
   "execution_count": 58,
   "metadata": {},
   "outputs": [
    {
     "data": {
      "application/vnd.jupyter.widget-view+json": {
       "model_id": "a74f488526974fc795344b10303188ed",
       "version_major": 2,
       "version_minor": 0
      },
      "text/plain": [
       "HBox(children=(IntProgress(value=0, max=1000), HTML(value='')))"
      ]
     },
     "metadata": {},
     "output_type": "display_data"
    },
    {
     "name": "stdout",
     "output_type": "stream",
     "text": [
      "\n"
     ]
    }
   ],
   "source": [
    "prediction_user_based = []\n",
    "for i in tqdm_notebook(range(len(similarity_users))):\n",
    "    users_sim = similarity_users[i] > 0\n",
    "    if len(users_sim) == 0:\n",
    "        prediction_user_based.append([])\n",
    "    else:\n",
    "        tmp_recommend = np.argsort(matrix[users_sim].sum(axis=0))[::-1]\n",
    "        tmp_recommend = data_matrix.columns[tmp_recommend]\n",
    "        recommend = np.array(tmp_recommend)[:top_k] #***\n",
    "        prediction_user_based.append(list(recommend))\n",
    "\n",
    "data_true['prediction_user_based'] = prediction_user_based"
   ]
  },
  {
   "cell_type": "code",
   "execution_count": 59,
   "metadata": {},
   "outputs": [
    {
     "name": "stdout",
     "output_type": "stream",
     "text": [
      "Precision@1: 0.855\n",
      "Recall@1: 0.855\n",
      "F-score@1: 0.855\n"
     ]
    }
   ],
   "source": [
    "print(f'Precision@1: {calc_precision(\"prediction_user_based\")}')\n",
    "print(f'Recall@1: {calc_recall(\"prediction_user_based\")}')\n",
    "print(f'F-score@1: {calc_fscore_precision(\"prediction_user_based\")}')"
   ]
  },
  {
   "cell_type": "markdown",
   "metadata": {},
   "source": [
    "#### Latent Factor Model"
   ]
  },
  {
   "cell_type": "code",
   "execution_count": 60,
   "metadata": {},
   "outputs": [
    {
     "name": "stdout",
     "output_type": "stream",
     "text": [
      "(1000, 28) (1000, 1000) (28,) (28, 28)\n"
     ]
    }
   ],
   "source": [
    "U, sigma, V = svd(data_matrix)\n",
    "print(data_matrix.shape, U.shape, sigma.shape, V.shape)"
   ]
  },
  {
   "cell_type": "code",
   "execution_count": 61,
   "metadata": {},
   "outputs": [
    {
     "name": "stdout",
     "output_type": "stream",
     "text": [
      "9.617382236731986e-26\n"
     ]
    }
   ],
   "source": [
    "Sigma = np.zeros((1000, 28))\n",
    "Sigma[:28, :28] = np.diag(sigma)\n",
    "\n",
    "new_data_matrix = U.dot(Sigma).dot(V)\n",
    "print(sum(sum((new_data_matrix - data_matrix.values) ** 2)))"
   ]
  },
  {
   "cell_type": "markdown",
   "metadata": {},
   "source": [
    "Значения у матрицы с сингулярными числами отсортированы по убыванию. Оставим только первые 25 компонент и получим скрытые представления размерности 25."
   ]
  },
  {
   "cell_type": "code",
   "execution_count": 62,
   "metadata": {},
   "outputs": [],
   "source": [
    "K = 25\n",
    "sigma[K:] = 0\n",
    "Sigma = np.zeros((1000, 28))\n",
    "Sigma[:28, :28] = np.diag(sigma)"
   ]
  },
  {
   "cell_type": "code",
   "execution_count": 63,
   "metadata": {},
   "outputs": [
    {
     "name": "stdout",
     "output_type": "stream",
     "text": [
      "0.00038219029302177923\n",
      "786.2026227724698\n"
     ]
    }
   ],
   "source": [
    "new_data_matrix = U.dot(Sigma).dot(V)\n",
    "print(sum(sum((new_data_matrix - data_matrix.values) ** 2)))\n",
    "print(sum(sum((data_matrix.values.mean() - data_matrix.values) ** 2)))"
   ]
  },
  {
   "cell_type": "code",
   "execution_count": 64,
   "metadata": {},
   "outputs": [
    {
     "data": {
      "application/vnd.jupyter.widget-view+json": {
       "model_id": "d99647d9cabf429c9fbce1d095108981",
       "version_major": 2,
       "version_minor": 0
      },
      "text/plain": [
       "HBox(children=(IntProgress(value=0, max=1000), HTML(value='')))"
      ]
     },
     "metadata": {},
     "output_type": "display_data"
    },
    {
     "name": "stdout",
     "output_type": "stream",
     "text": [
      "\n"
     ]
    }
   ],
   "source": [
    "new_data_matrix = pd.DataFrame(new_data_matrix, index=data_matrix.index, columns=data_matrix.columns)\n",
    "\n",
    "predictions = []\n",
    "for client_id in tqdm_notebook(data_true.index):\n",
    "    prediction = (\n",
    "        new_data_matrix\n",
    "        .loc[client_id]\n",
    "        .sort_values(ascending=False)\n",
    "        .index.values\n",
    "    )\n",
    "    \n",
    "    predictions.append(\n",
    "        list(prediction)[:top_k]) #***\n",
    "\n",
    "data_true['prediction_svd'] = predictions"
   ]
  },
  {
   "cell_type": "code",
   "execution_count": 65,
   "metadata": {},
   "outputs": [
    {
     "name": "stdout",
     "output_type": "stream",
     "text": [
      "Precision@1: 0.855\n",
      "Recall@1: 0.855\n",
      "F-score@1: 0.855\n"
     ]
    }
   ],
   "source": [
    "print(f'Precision@1: {calc_precision(\"prediction_svd\")}')\n",
    "print(f'Recall@1: {calc_recall(\"prediction_svd\")}')\n",
    "print(f'F-score@1: {calc_fscore_precision(\"prediction_svd\")}')"
   ]
  },
  {
   "cell_type": "markdown",
   "metadata": {},
   "source": [
    "### Контентная модель"
   ]
  },
  {
   "cell_type": "code",
   "execution_count": 156,
   "metadata": {},
   "outputs": [
    {
     "name": "stderr",
     "output_type": "stream",
     "text": [
      "C:\\Users\\kiril\\Anaconda3\\lib\\site-packages\\ipykernel_launcher.py:11: FutureWarning: Sorting because non-concatenation axis is not aligned. A future version\n",
      "of pandas will change to not sort by default.\n",
      "\n",
      "To accept the future behavior, pass 'sort=False'.\n",
      "\n",
      "To retain the current behavior and silence the warning, pass 'sort=True'.\n",
      "\n",
      "  # This is added back by InteractiveShellApp.init_path()\n"
     ]
    }
   ],
   "source": [
    "test_client_id = np.repeat(data_true.index, len(data_matrix.columns)) \n",
    "test_product_category = list(data_matrix.columns) * len(data_true)\n",
    "test = pd.DataFrame(\n",
    "    np.array([test_client_id, test_product_category]).T,\n",
    "    columns=['client_id', 'product_category'])\n",
    "\n",
    "data_train_content = pd.concat((\n",
    "    data_train,\n",
    "    test.loc[\n",
    "        np.random.permutation(test.index)[\n",
    "            :4*len(data_train)]]), ignore_index=True)\n",
    "data_train.purchase_normalize.fillna(0, inplace=True)"
   ]
  },
  {
   "cell_type": "code",
   "execution_count": 157,
   "metadata": {},
   "outputs": [],
   "source": [
    "# data_test_content = data_test.merge(categories, how='left', on='product_category')"
   ]
  },
  {
   "cell_type": "code",
   "execution_count": 158,
   "metadata": {},
   "outputs": [
    {
     "data": {
      "text/html": [
       "<div>\n",
       "<style scoped>\n",
       "    .dataframe tbody tr th:only-of-type {\n",
       "        vertical-align: middle;\n",
       "    }\n",
       "\n",
       "    .dataframe tbody tr th {\n",
       "        vertical-align: top;\n",
       "    }\n",
       "\n",
       "    .dataframe thead th {\n",
       "        text-align: right;\n",
       "    }\n",
       "</style>\n",
       "<table border=\"1\" class=\"dataframe\">\n",
       "  <thead>\n",
       "    <tr style=\"text-align: right;\">\n",
       "      <th></th>\n",
       "      <th>client_id</th>\n",
       "      <th>last_date</th>\n",
       "      <th>product_category</th>\n",
       "      <th>purchase_normalize</th>\n",
       "    </tr>\n",
       "  </thead>\n",
       "  <tbody>\n",
       "    <tr>\n",
       "      <td>0</td>\n",
       "      <td>1</td>\n",
       "      <td>2020-12-22 02:33:13</td>\n",
       "      <td>10</td>\n",
       "      <td>0.042607</td>\n",
       "    </tr>\n",
       "    <tr>\n",
       "      <td>1</td>\n",
       "      <td>1</td>\n",
       "      <td>2020-12-22 10:20:44</td>\n",
       "      <td>11</td>\n",
       "      <td>0.032581</td>\n",
       "    </tr>\n",
       "    <tr>\n",
       "      <td>2</td>\n",
       "      <td>1</td>\n",
       "      <td>2020-12-29 09:07:06</td>\n",
       "      <td>13</td>\n",
       "      <td>0.055138</td>\n",
       "    </tr>\n",
       "    <tr>\n",
       "      <td>3</td>\n",
       "      <td>1</td>\n",
       "      <td>2020-12-29 03:38:07</td>\n",
       "      <td>16</td>\n",
       "      <td>0.022556</td>\n",
       "    </tr>\n",
       "    <tr>\n",
       "      <td>4</td>\n",
       "      <td>1</td>\n",
       "      <td>2020-11-11 05:21:46</td>\n",
       "      <td>17</td>\n",
       "      <td>0.012531</td>\n",
       "    </tr>\n",
       "  </tbody>\n",
       "</table>\n",
       "</div>"
      ],
      "text/plain": [
       "  client_id           last_date product_category  purchase_normalize\n",
       "0         1 2020-12-22 02:33:13               10            0.042607\n",
       "1         1 2020-12-22 10:20:44               11            0.032581\n",
       "2         1 2020-12-29 09:07:06               13            0.055138\n",
       "3         1 2020-12-29 03:38:07               16            0.022556\n",
       "4         1 2020-11-11 05:21:46               17            0.012531"
      ]
     },
     "execution_count": 158,
     "metadata": {},
     "output_type": "execute_result"
    }
   ],
   "source": [
    "data_train_content.head()"
   ]
  },
  {
   "cell_type": "code",
   "execution_count": 159,
   "metadata": {},
   "outputs": [
    {
     "data": {
      "text/plain": [
       "4"
      ]
     },
     "execution_count": 159,
     "metadata": {},
     "output_type": "execute_result"
    }
   ],
   "source": [
    "features_start = len(data_train_content.columns)\n",
    "features_start"
   ]
  },
  {
   "cell_type": "markdown",
   "metadata": {},
   "source": [
    "Добавим данные о категориях и о клиентах."
   ]
  },
  {
   "cell_type": "code",
   "execution_count": 160,
   "metadata": {},
   "outputs": [],
   "source": [
    "data_train_content = data_train_content.merge(categories, how='left', on='product_category')\n",
    "data_train_content = data_train_content.merge(clients[['client_id', 'birthdate', 'registration_date', 'gender', 'income', 'expenses', 'credit', 'deposit']], how='left', on='client_id')"
   ]
  },
  {
   "cell_type": "code",
   "execution_count": 161,
   "metadata": {},
   "outputs": [],
   "source": [
    "data_train_content.drop(columns=['name', 'description'], inplace=True)"
   ]
  },
  {
   "cell_type": "code",
   "execution_count": 162,
   "metadata": {},
   "outputs": [
    {
     "data": {
      "text/html": [
       "<div>\n",
       "<style scoped>\n",
       "    .dataframe tbody tr th:only-of-type {\n",
       "        vertical-align: middle;\n",
       "    }\n",
       "\n",
       "    .dataframe tbody tr th {\n",
       "        vertical-align: top;\n",
       "    }\n",
       "\n",
       "    .dataframe thead th {\n",
       "        text-align: right;\n",
       "    }\n",
       "</style>\n",
       "<table border=\"1\" class=\"dataframe\">\n",
       "  <thead>\n",
       "    <tr style=\"text-align: right;\">\n",
       "      <th></th>\n",
       "      <th>client_id</th>\n",
       "      <th>last_date</th>\n",
       "      <th>product_category</th>\n",
       "      <th>purchase_normalize</th>\n",
       "      <th>mcc-code</th>\n",
       "      <th>birthdate</th>\n",
       "      <th>registration_date</th>\n",
       "      <th>gender</th>\n",
       "      <th>income</th>\n",
       "      <th>expenses</th>\n",
       "      <th>credit</th>\n",
       "      <th>deposit</th>\n",
       "    </tr>\n",
       "  </thead>\n",
       "  <tbody>\n",
       "    <tr>\n",
       "      <td>0</td>\n",
       "      <td>1</td>\n",
       "      <td>2020-12-22 02:33:13</td>\n",
       "      <td>10</td>\n",
       "      <td>0.042607</td>\n",
       "      <td>7911, 7922, 7929, 7932, 7933, 7941, 7991, 7992...</td>\n",
       "      <td>1966-09-07</td>\n",
       "      <td>2017-01-10</td>\n",
       "      <td>F</td>\n",
       "      <td>230910.0</td>\n",
       "      <td>61975</td>\n",
       "      <td>1</td>\n",
       "      <td>0</td>\n",
       "    </tr>\n",
       "    <tr>\n",
       "      <td>1</td>\n",
       "      <td>1</td>\n",
       "      <td>2020-12-22 10:20:44</td>\n",
       "      <td>11</td>\n",
       "      <td>0.032581</td>\n",
       "      <td>5977, 7230, 7297, 7298</td>\n",
       "      <td>1966-09-07</td>\n",
       "      <td>2017-01-10</td>\n",
       "      <td>F</td>\n",
       "      <td>230910.0</td>\n",
       "      <td>61975</td>\n",
       "      <td>1</td>\n",
       "      <td>0</td>\n",
       "    </tr>\n",
       "    <tr>\n",
       "      <td>2</td>\n",
       "      <td>1</td>\n",
       "      <td>2020-12-29 09:07:06</td>\n",
       "      <td>13</td>\n",
       "      <td>0.055138</td>\n",
       "      <td>5094, 5137, 5139, 5611, 5621, 5631, 5641, 5651...</td>\n",
       "      <td>1966-09-07</td>\n",
       "      <td>2017-01-10</td>\n",
       "      <td>F</td>\n",
       "      <td>230910.0</td>\n",
       "      <td>61975</td>\n",
       "      <td>1</td>\n",
       "      <td>0</td>\n",
       "    </tr>\n",
       "    <tr>\n",
       "      <td>3</td>\n",
       "      <td>1</td>\n",
       "      <td>2020-12-29 03:38:07</td>\n",
       "      <td>16</td>\n",
       "      <td>0.022556</td>\n",
       "      <td>5995, 0742</td>\n",
       "      <td>1966-09-07</td>\n",
       "      <td>2017-01-10</td>\n",
       "      <td>F</td>\n",
       "      <td>230910.0</td>\n",
       "      <td>61975</td>\n",
       "      <td>1</td>\n",
       "      <td>0</td>\n",
       "    </tr>\n",
       "    <tr>\n",
       "      <td>4</td>\n",
       "      <td>1</td>\n",
       "      <td>2020-11-11 05:21:46</td>\n",
       "      <td>17</td>\n",
       "      <td>0.012531</td>\n",
       "      <td>1520, 1711, 1731, 1740, 1750, 1761, 1771, 1799...</td>\n",
       "      <td>1966-09-07</td>\n",
       "      <td>2017-01-10</td>\n",
       "      <td>F</td>\n",
       "      <td>230910.0</td>\n",
       "      <td>61975</td>\n",
       "      <td>1</td>\n",
       "      <td>0</td>\n",
       "    </tr>\n",
       "  </tbody>\n",
       "</table>\n",
       "</div>"
      ],
      "text/plain": [
       "  client_id           last_date product_category  purchase_normalize  \\\n",
       "0         1 2020-12-22 02:33:13               10            0.042607   \n",
       "1         1 2020-12-22 10:20:44               11            0.032581   \n",
       "2         1 2020-12-29 09:07:06               13            0.055138   \n",
       "3         1 2020-12-29 03:38:07               16            0.022556   \n",
       "4         1 2020-11-11 05:21:46               17            0.012531   \n",
       "\n",
       "                                            mcc-code  birthdate  \\\n",
       "0  7911, 7922, 7929, 7932, 7933, 7941, 7991, 7992... 1966-09-07   \n",
       "1                             5977, 7230, 7297, 7298 1966-09-07   \n",
       "2  5094, 5137, 5139, 5611, 5621, 5631, 5641, 5651... 1966-09-07   \n",
       "3                                         5995, 0742 1966-09-07   \n",
       "4  1520, 1711, 1731, 1740, 1750, 1761, 1771, 1799... 1966-09-07   \n",
       "\n",
       "  registration_date gender    income  expenses  credit  deposit  \n",
       "0        2017-01-10      F  230910.0     61975       1        0  \n",
       "1        2017-01-10      F  230910.0     61975       1        0  \n",
       "2        2017-01-10      F  230910.0     61975       1        0  \n",
       "3        2017-01-10      F  230910.0     61975       1        0  \n",
       "4        2017-01-10      F  230910.0     61975       1        0  "
      ]
     },
     "execution_count": 162,
     "metadata": {},
     "output_type": "execute_result"
    }
   ],
   "source": [
    "data_train_content.head()"
   ]
  },
  {
   "cell_type": "markdown",
   "metadata": {},
   "source": [
    "Добавим данные о паре user-category: посчитаем то, на какую сумму пользователем было приобретено товаров и услуг каждой категории; также возьмем в транзакциях последний тип subtype и product_company."
   ]
  },
  {
   "cell_type": "code",
   "execution_count": 163,
   "metadata": {},
   "outputs": [
    {
     "data": {
      "text/html": [
       "<div>\n",
       "<style scoped>\n",
       "    .dataframe tbody tr th:only-of-type {\n",
       "        vertical-align: middle;\n",
       "    }\n",
       "\n",
       "    .dataframe tbody tr th {\n",
       "        vertical-align: top;\n",
       "    }\n",
       "\n",
       "    .dataframe thead th {\n",
       "        text-align: right;\n",
       "    }\n",
       "</style>\n",
       "<table border=\"1\" class=\"dataframe\">\n",
       "  <thead>\n",
       "    <tr style=\"text-align: right;\">\n",
       "      <th></th>\n",
       "      <th>client_id</th>\n",
       "      <th>product_category</th>\n",
       "      <th>date</th>\n",
       "      <th>subtype</th>\n",
       "      <th>product_company</th>\n",
       "    </tr>\n",
       "  </thead>\n",
       "  <tbody>\n",
       "    <tr>\n",
       "      <td>0</td>\n",
       "      <td>1</td>\n",
       "      <td>10</td>\n",
       "      <td>2020-12-22 02:33:13</td>\n",
       "      <td>Покупка</td>\n",
       "      <td>Боулинг клуб Самокат</td>\n",
       "    </tr>\n",
       "    <tr>\n",
       "      <td>1</td>\n",
       "      <td>1</td>\n",
       "      <td>11</td>\n",
       "      <td>2020-12-22 10:20:44</td>\n",
       "      <td>Покупка</td>\n",
       "      <td>Парикмахерская DIMAX</td>\n",
       "    </tr>\n",
       "    <tr>\n",
       "      <td>2</td>\n",
       "      <td>1</td>\n",
       "      <td>13</td>\n",
       "      <td>2020-12-29 09:07:06</td>\n",
       "      <td>Покупка</td>\n",
       "      <td>Bershka</td>\n",
       "    </tr>\n",
       "    <tr>\n",
       "      <td>3</td>\n",
       "      <td>1</td>\n",
       "      <td>14</td>\n",
       "      <td>2020-12-31 06:49:11</td>\n",
       "      <td>Покупка</td>\n",
       "      <td>Своя компания</td>\n",
       "    </tr>\n",
       "    <tr>\n",
       "      <td>4</td>\n",
       "      <td>1</td>\n",
       "      <td>16</td>\n",
       "      <td>2020-12-29 03:38:07</td>\n",
       "      <td>Покупка</td>\n",
       "      <td>no_company</td>\n",
       "    </tr>\n",
       "  </tbody>\n",
       "</table>\n",
       "</div>"
      ],
      "text/plain": [
       "  client_id product_category                date  subtype  \\\n",
       "0         1               10 2020-12-22 02:33:13  Покупка   \n",
       "1         1               11 2020-12-22 10:20:44  Покупка   \n",
       "2         1               13 2020-12-29 09:07:06  Покупка   \n",
       "3         1               14 2020-12-31 06:49:11  Покупка   \n",
       "4         1               16 2020-12-29 03:38:07  Покупка   \n",
       "\n",
       "        product_company  \n",
       "0  Боулинг клуб Самокат  \n",
       "1  Парикмахерская DIMAX  \n",
       "2               Bershka  \n",
       "3         Своя компания  \n",
       "4            no_company  "
      ]
     },
     "execution_count": 163,
     "metadata": {},
     "output_type": "execute_result"
    }
   ],
   "source": [
    "last_subtype_company = transactions_last_date.merge(transactions[['client_id','product_category', 'date', 'subtype', 'product_company']], how='left', on=['client_id','product_category', 'date'])\n",
    "last_subtype_company.head()"
   ]
  },
  {
   "cell_type": "code",
   "execution_count": 164,
   "metadata": {},
   "outputs": [
    {
     "data": {
      "text/html": [
       "<div>\n",
       "<style scoped>\n",
       "    .dataframe tbody tr th:only-of-type {\n",
       "        vertical-align: middle;\n",
       "    }\n",
       "\n",
       "    .dataframe tbody tr th {\n",
       "        vertical-align: top;\n",
       "    }\n",
       "\n",
       "    .dataframe thead th {\n",
       "        text-align: right;\n",
       "    }\n",
       "</style>\n",
       "<table border=\"1\" class=\"dataframe\">\n",
       "  <thead>\n",
       "    <tr style=\"text-align: right;\">\n",
       "      <th></th>\n",
       "      <th>client_id</th>\n",
       "      <th>product_category</th>\n",
       "      <th>sum_amount</th>\n",
       "    </tr>\n",
       "  </thead>\n",
       "  <tbody>\n",
       "    <tr>\n",
       "      <td>0</td>\n",
       "      <td>1</td>\n",
       "      <td>10</td>\n",
       "      <td>9707</td>\n",
       "    </tr>\n",
       "    <tr>\n",
       "      <td>1</td>\n",
       "      <td>1</td>\n",
       "      <td>11</td>\n",
       "      <td>21380</td>\n",
       "    </tr>\n",
       "    <tr>\n",
       "      <td>2</td>\n",
       "      <td>1</td>\n",
       "      <td>13</td>\n",
       "      <td>130068</td>\n",
       "    </tr>\n",
       "    <tr>\n",
       "      <td>3</td>\n",
       "      <td>1</td>\n",
       "      <td>14</td>\n",
       "      <td>32328</td>\n",
       "    </tr>\n",
       "    <tr>\n",
       "      <td>4</td>\n",
       "      <td>1</td>\n",
       "      <td>16</td>\n",
       "      <td>7885</td>\n",
       "    </tr>\n",
       "  </tbody>\n",
       "</table>\n",
       "</div>"
      ],
      "text/plain": [
       "  client_id product_category  sum_amount\n",
       "0         1               10        9707\n",
       "1         1               11       21380\n",
       "2         1               13      130068\n",
       "3         1               14       32328\n",
       "4         1               16        7885"
      ]
     },
     "execution_count": 164,
     "metadata": {},
     "output_type": "execute_result"
    }
   ],
   "source": [
    "sum_amount = transactions.groupby(['client_id', 'product_category'], as_index=False) \\\n",
    "    .agg({'amount': 'sum'}) \\\n",
    "    .rename(columns={'amount': 'sum_amount'})\n",
    "sum_amount.head()"
   ]
  },
  {
   "cell_type": "code",
   "execution_count": 165,
   "metadata": {},
   "outputs": [
    {
     "data": {
      "text/html": [
       "<div>\n",
       "<style scoped>\n",
       "    .dataframe tbody tr th:only-of-type {\n",
       "        vertical-align: middle;\n",
       "    }\n",
       "\n",
       "    .dataframe tbody tr th {\n",
       "        vertical-align: top;\n",
       "    }\n",
       "\n",
       "    .dataframe thead th {\n",
       "        text-align: right;\n",
       "    }\n",
       "</style>\n",
       "<table border=\"1\" class=\"dataframe\">\n",
       "  <thead>\n",
       "    <tr style=\"text-align: right;\">\n",
       "      <th></th>\n",
       "      <th>client_id</th>\n",
       "      <th>product_category</th>\n",
       "      <th>sum_amount</th>\n",
       "      <th>date</th>\n",
       "      <th>subtype</th>\n",
       "      <th>product_company</th>\n",
       "    </tr>\n",
       "  </thead>\n",
       "  <tbody>\n",
       "    <tr>\n",
       "      <td>0</td>\n",
       "      <td>1</td>\n",
       "      <td>10</td>\n",
       "      <td>9707</td>\n",
       "      <td>2020-12-22 02:33:13</td>\n",
       "      <td>Покупка</td>\n",
       "      <td>Боулинг клуб Самокат</td>\n",
       "    </tr>\n",
       "    <tr>\n",
       "      <td>1</td>\n",
       "      <td>1</td>\n",
       "      <td>11</td>\n",
       "      <td>21380</td>\n",
       "      <td>2020-12-22 10:20:44</td>\n",
       "      <td>Покупка</td>\n",
       "      <td>Парикмахерская DIMAX</td>\n",
       "    </tr>\n",
       "    <tr>\n",
       "      <td>2</td>\n",
       "      <td>1</td>\n",
       "      <td>13</td>\n",
       "      <td>130068</td>\n",
       "      <td>2020-12-29 09:07:06</td>\n",
       "      <td>Покупка</td>\n",
       "      <td>Bershka</td>\n",
       "    </tr>\n",
       "    <tr>\n",
       "      <td>3</td>\n",
       "      <td>1</td>\n",
       "      <td>14</td>\n",
       "      <td>32328</td>\n",
       "      <td>2020-12-31 06:49:11</td>\n",
       "      <td>Покупка</td>\n",
       "      <td>Своя компания</td>\n",
       "    </tr>\n",
       "    <tr>\n",
       "      <td>4</td>\n",
       "      <td>1</td>\n",
       "      <td>16</td>\n",
       "      <td>7885</td>\n",
       "      <td>2020-12-29 03:38:07</td>\n",
       "      <td>Покупка</td>\n",
       "      <td>no_company</td>\n",
       "    </tr>\n",
       "  </tbody>\n",
       "</table>\n",
       "</div>"
      ],
      "text/plain": [
       "  client_id product_category  sum_amount                date  subtype  \\\n",
       "0         1               10        9707 2020-12-22 02:33:13  Покупка   \n",
       "1         1               11       21380 2020-12-22 10:20:44  Покупка   \n",
       "2         1               13      130068 2020-12-29 09:07:06  Покупка   \n",
       "3         1               14       32328 2020-12-31 06:49:11  Покупка   \n",
       "4         1               16        7885 2020-12-29 03:38:07  Покупка   \n",
       "\n",
       "        product_company  \n",
       "0  Боулинг клуб Самокат  \n",
       "1  Парикмахерская DIMAX  \n",
       "2               Bershka  \n",
       "3         Своя компания  \n",
       "4            no_company  "
      ]
     },
     "execution_count": 165,
     "metadata": {},
     "output_type": "execute_result"
    }
   ],
   "source": [
    "user_category_features = sum_amount.merge(last_subtype_company, on=['client_id', 'product_category'])\n",
    "user_category_features.head()"
   ]
  },
  {
   "cell_type": "code",
   "execution_count": 166,
   "metadata": {},
   "outputs": [
    {
     "data": {
      "text/html": [
       "<div>\n",
       "<style scoped>\n",
       "    .dataframe tbody tr th:only-of-type {\n",
       "        vertical-align: middle;\n",
       "    }\n",
       "\n",
       "    .dataframe tbody tr th {\n",
       "        vertical-align: top;\n",
       "    }\n",
       "\n",
       "    .dataframe thead th {\n",
       "        text-align: right;\n",
       "    }\n",
       "</style>\n",
       "<table border=\"1\" class=\"dataframe\">\n",
       "  <thead>\n",
       "    <tr style=\"text-align: right;\">\n",
       "      <th></th>\n",
       "      <th>client_id</th>\n",
       "      <th>last_date</th>\n",
       "      <th>product_category</th>\n",
       "      <th>purchase_normalize</th>\n",
       "      <th>mcc-code</th>\n",
       "      <th>birthdate</th>\n",
       "      <th>registration_date</th>\n",
       "      <th>gender</th>\n",
       "      <th>income</th>\n",
       "      <th>expenses</th>\n",
       "      <th>credit</th>\n",
       "      <th>deposit</th>\n",
       "      <th>sum_amount</th>\n",
       "      <th>date</th>\n",
       "      <th>subtype</th>\n",
       "      <th>product_company</th>\n",
       "    </tr>\n",
       "  </thead>\n",
       "  <tbody>\n",
       "    <tr>\n",
       "      <td>0</td>\n",
       "      <td>1</td>\n",
       "      <td>2020-12-22 02:33:13</td>\n",
       "      <td>10</td>\n",
       "      <td>0.042607</td>\n",
       "      <td>7911, 7922, 7929, 7932, 7933, 7941, 7991, 7992...</td>\n",
       "      <td>1966-09-07</td>\n",
       "      <td>2017-01-10</td>\n",
       "      <td>F</td>\n",
       "      <td>230910.0</td>\n",
       "      <td>61975</td>\n",
       "      <td>1</td>\n",
       "      <td>0</td>\n",
       "      <td>9707.0</td>\n",
       "      <td>2020-12-22 02:33:13</td>\n",
       "      <td>Покупка</td>\n",
       "      <td>Боулинг клуб Самокат</td>\n",
       "    </tr>\n",
       "    <tr>\n",
       "      <td>1</td>\n",
       "      <td>1</td>\n",
       "      <td>2020-12-22 10:20:44</td>\n",
       "      <td>11</td>\n",
       "      <td>0.032581</td>\n",
       "      <td>5977, 7230, 7297, 7298</td>\n",
       "      <td>1966-09-07</td>\n",
       "      <td>2017-01-10</td>\n",
       "      <td>F</td>\n",
       "      <td>230910.0</td>\n",
       "      <td>61975</td>\n",
       "      <td>1</td>\n",
       "      <td>0</td>\n",
       "      <td>21380.0</td>\n",
       "      <td>2020-12-22 10:20:44</td>\n",
       "      <td>Покупка</td>\n",
       "      <td>Парикмахерская DIMAX</td>\n",
       "    </tr>\n",
       "    <tr>\n",
       "      <td>2</td>\n",
       "      <td>1</td>\n",
       "      <td>2020-12-29 09:07:06</td>\n",
       "      <td>13</td>\n",
       "      <td>0.055138</td>\n",
       "      <td>5094, 5137, 5139, 5611, 5621, 5631, 5641, 5651...</td>\n",
       "      <td>1966-09-07</td>\n",
       "      <td>2017-01-10</td>\n",
       "      <td>F</td>\n",
       "      <td>230910.0</td>\n",
       "      <td>61975</td>\n",
       "      <td>1</td>\n",
       "      <td>0</td>\n",
       "      <td>130068.0</td>\n",
       "      <td>2020-12-29 09:07:06</td>\n",
       "      <td>Покупка</td>\n",
       "      <td>Bershka</td>\n",
       "    </tr>\n",
       "    <tr>\n",
       "      <td>3</td>\n",
       "      <td>1</td>\n",
       "      <td>2020-12-29 03:38:07</td>\n",
       "      <td>16</td>\n",
       "      <td>0.022556</td>\n",
       "      <td>5995, 0742</td>\n",
       "      <td>1966-09-07</td>\n",
       "      <td>2017-01-10</td>\n",
       "      <td>F</td>\n",
       "      <td>230910.0</td>\n",
       "      <td>61975</td>\n",
       "      <td>1</td>\n",
       "      <td>0</td>\n",
       "      <td>7885.0</td>\n",
       "      <td>2020-12-29 03:38:07</td>\n",
       "      <td>Покупка</td>\n",
       "      <td>no_company</td>\n",
       "    </tr>\n",
       "    <tr>\n",
       "      <td>4</td>\n",
       "      <td>1</td>\n",
       "      <td>2020-11-11 05:21:46</td>\n",
       "      <td>17</td>\n",
       "      <td>0.012531</td>\n",
       "      <td>1520, 1711, 1731, 1740, 1750, 1761, 1771, 1799...</td>\n",
       "      <td>1966-09-07</td>\n",
       "      <td>2017-01-10</td>\n",
       "      <td>F</td>\n",
       "      <td>230910.0</td>\n",
       "      <td>61975</td>\n",
       "      <td>1</td>\n",
       "      <td>0</td>\n",
       "      <td>122239.0</td>\n",
       "      <td>2020-11-11 05:21:46</td>\n",
       "      <td>Покупка</td>\n",
       "      <td>no_company</td>\n",
       "    </tr>\n",
       "  </tbody>\n",
       "</table>\n",
       "</div>"
      ],
      "text/plain": [
       "  client_id           last_date product_category  purchase_normalize  \\\n",
       "0         1 2020-12-22 02:33:13               10            0.042607   \n",
       "1         1 2020-12-22 10:20:44               11            0.032581   \n",
       "2         1 2020-12-29 09:07:06               13            0.055138   \n",
       "3         1 2020-12-29 03:38:07               16            0.022556   \n",
       "4         1 2020-11-11 05:21:46               17            0.012531   \n",
       "\n",
       "                                            mcc-code  birthdate  \\\n",
       "0  7911, 7922, 7929, 7932, 7933, 7941, 7991, 7992... 1966-09-07   \n",
       "1                             5977, 7230, 7297, 7298 1966-09-07   \n",
       "2  5094, 5137, 5139, 5611, 5621, 5631, 5641, 5651... 1966-09-07   \n",
       "3                                         5995, 0742 1966-09-07   \n",
       "4  1520, 1711, 1731, 1740, 1750, 1761, 1771, 1799... 1966-09-07   \n",
       "\n",
       "  registration_date gender    income  expenses  credit  deposit  sum_amount  \\\n",
       "0        2017-01-10      F  230910.0     61975       1        0      9707.0   \n",
       "1        2017-01-10      F  230910.0     61975       1        0     21380.0   \n",
       "2        2017-01-10      F  230910.0     61975       1        0    130068.0   \n",
       "3        2017-01-10      F  230910.0     61975       1        0      7885.0   \n",
       "4        2017-01-10      F  230910.0     61975       1        0    122239.0   \n",
       "\n",
       "                 date  subtype       product_company  \n",
       "0 2020-12-22 02:33:13  Покупка  Боулинг клуб Самокат  \n",
       "1 2020-12-22 10:20:44  Покупка  Парикмахерская DIMAX  \n",
       "2 2020-12-29 09:07:06  Покупка               Bershka  \n",
       "3 2020-12-29 03:38:07  Покупка            no_company  \n",
       "4 2020-11-11 05:21:46  Покупка            no_company  "
      ]
     },
     "execution_count": 166,
     "metadata": {},
     "output_type": "execute_result"
    }
   ],
   "source": [
    "data_train_content = data_train_content.merge(user_category_features, how='left', on=['client_id', 'product_category'])\n",
    "data_train_content.head()"
   ]
  },
  {
   "cell_type": "markdown",
   "metadata": {},
   "source": [
    "Расчитаем то, сколько дней прошло с момента регистрации пользователя и последним взаимодействием с каждой категорией. Также посчитаем то, сколько примерно лет было пользователю на момент последней покупки каждой категории."
   ]
  },
  {
   "cell_type": "code",
   "execution_count": 167,
   "metadata": {},
   "outputs": [],
   "source": [
    "data_train_content['days_from_registration'] = data_train_content['date'].subtract(data_train_content['registration_date']).dt.days\n",
    "mean_days_from_registration = data_train_content.loc[data_train_content['days_from_registration'].isnull() != True, 'days_from_registration'].mean()\n",
    "data_train_content.loc[data_train_content['days_from_registration'].isnull() == True, 'days_from_registration'] = mean_days_from_registration\n",
    "data_train_content.days_from_registration = data_train_content.days_from_registration.astype(int)"
   ]
  },
  {
   "cell_type": "code",
   "execution_count": 168,
   "metadata": {},
   "outputs": [],
   "source": [
    "data_train_content['age'] = data_train_content['date'].subtract(data_train_content['birthdate']).dt.days.div(365).round()\n",
    "mean_age = round(data_train_content.loc[data_train_content['age'].isnull() != True, 'age'].mean())\n",
    "data_train_content.loc[data_train_content['age'].isnull() == True, 'age'] = mean_age\n",
    "data_train_content.age = data_train_content.age.astype(int)"
   ]
  },
  {
   "cell_type": "code",
   "execution_count": 169,
   "metadata": {},
   "outputs": [],
   "source": [
    "data_train_content.drop(columns=['date', 'registration_date', 'birthdate'], inplace=True)"
   ]
  },
  {
   "cell_type": "code",
   "execution_count": 170,
   "metadata": {},
   "outputs": [
    {
     "data": {
      "text/html": [
       "<div>\n",
       "<style scoped>\n",
       "    .dataframe tbody tr th:only-of-type {\n",
       "        vertical-align: middle;\n",
       "    }\n",
       "\n",
       "    .dataframe tbody tr th {\n",
       "        vertical-align: top;\n",
       "    }\n",
       "\n",
       "    .dataframe thead th {\n",
       "        text-align: right;\n",
       "    }\n",
       "</style>\n",
       "<table border=\"1\" class=\"dataframe\">\n",
       "  <thead>\n",
       "    <tr style=\"text-align: right;\">\n",
       "      <th></th>\n",
       "      <th>client_id</th>\n",
       "      <th>last_date</th>\n",
       "      <th>product_category</th>\n",
       "      <th>purchase_normalize</th>\n",
       "      <th>mcc-code</th>\n",
       "      <th>gender</th>\n",
       "      <th>income</th>\n",
       "      <th>expenses</th>\n",
       "      <th>credit</th>\n",
       "      <th>deposit</th>\n",
       "      <th>sum_amount</th>\n",
       "      <th>subtype</th>\n",
       "      <th>product_company</th>\n",
       "      <th>days_from_registration</th>\n",
       "      <th>age</th>\n",
       "    </tr>\n",
       "  </thead>\n",
       "  <tbody>\n",
       "    <tr>\n",
       "      <td>0</td>\n",
       "      <td>1</td>\n",
       "      <td>2020-12-22 02:33:13</td>\n",
       "      <td>10</td>\n",
       "      <td>0.042607</td>\n",
       "      <td>7911, 7922, 7929, 7932, 7933, 7941, 7991, 7992...</td>\n",
       "      <td>F</td>\n",
       "      <td>230910.0</td>\n",
       "      <td>61975</td>\n",
       "      <td>1</td>\n",
       "      <td>0</td>\n",
       "      <td>9707.0</td>\n",
       "      <td>Покупка</td>\n",
       "      <td>Боулинг клуб Самокат</td>\n",
       "      <td>1442</td>\n",
       "      <td>54</td>\n",
       "    </tr>\n",
       "    <tr>\n",
       "      <td>1</td>\n",
       "      <td>1</td>\n",
       "      <td>2020-12-22 10:20:44</td>\n",
       "      <td>11</td>\n",
       "      <td>0.032581</td>\n",
       "      <td>5977, 7230, 7297, 7298</td>\n",
       "      <td>F</td>\n",
       "      <td>230910.0</td>\n",
       "      <td>61975</td>\n",
       "      <td>1</td>\n",
       "      <td>0</td>\n",
       "      <td>21380.0</td>\n",
       "      <td>Покупка</td>\n",
       "      <td>Парикмахерская DIMAX</td>\n",
       "      <td>1442</td>\n",
       "      <td>54</td>\n",
       "    </tr>\n",
       "    <tr>\n",
       "      <td>2</td>\n",
       "      <td>1</td>\n",
       "      <td>2020-12-29 09:07:06</td>\n",
       "      <td>13</td>\n",
       "      <td>0.055138</td>\n",
       "      <td>5094, 5137, 5139, 5611, 5621, 5631, 5641, 5651...</td>\n",
       "      <td>F</td>\n",
       "      <td>230910.0</td>\n",
       "      <td>61975</td>\n",
       "      <td>1</td>\n",
       "      <td>0</td>\n",
       "      <td>130068.0</td>\n",
       "      <td>Покупка</td>\n",
       "      <td>Bershka</td>\n",
       "      <td>1449</td>\n",
       "      <td>54</td>\n",
       "    </tr>\n",
       "    <tr>\n",
       "      <td>3</td>\n",
       "      <td>1</td>\n",
       "      <td>2020-12-29 03:38:07</td>\n",
       "      <td>16</td>\n",
       "      <td>0.022556</td>\n",
       "      <td>5995, 0742</td>\n",
       "      <td>F</td>\n",
       "      <td>230910.0</td>\n",
       "      <td>61975</td>\n",
       "      <td>1</td>\n",
       "      <td>0</td>\n",
       "      <td>7885.0</td>\n",
       "      <td>Покупка</td>\n",
       "      <td>no_company</td>\n",
       "      <td>1449</td>\n",
       "      <td>54</td>\n",
       "    </tr>\n",
       "    <tr>\n",
       "      <td>4</td>\n",
       "      <td>1</td>\n",
       "      <td>2020-11-11 05:21:46</td>\n",
       "      <td>17</td>\n",
       "      <td>0.012531</td>\n",
       "      <td>1520, 1711, 1731, 1740, 1750, 1761, 1771, 1799...</td>\n",
       "      <td>F</td>\n",
       "      <td>230910.0</td>\n",
       "      <td>61975</td>\n",
       "      <td>1</td>\n",
       "      <td>0</td>\n",
       "      <td>122239.0</td>\n",
       "      <td>Покупка</td>\n",
       "      <td>no_company</td>\n",
       "      <td>1401</td>\n",
       "      <td>54</td>\n",
       "    </tr>\n",
       "  </tbody>\n",
       "</table>\n",
       "</div>"
      ],
      "text/plain": [
       "  client_id           last_date product_category  purchase_normalize  \\\n",
       "0         1 2020-12-22 02:33:13               10            0.042607   \n",
       "1         1 2020-12-22 10:20:44               11            0.032581   \n",
       "2         1 2020-12-29 09:07:06               13            0.055138   \n",
       "3         1 2020-12-29 03:38:07               16            0.022556   \n",
       "4         1 2020-11-11 05:21:46               17            0.012531   \n",
       "\n",
       "                                            mcc-code gender    income  \\\n",
       "0  7911, 7922, 7929, 7932, 7933, 7941, 7991, 7992...      F  230910.0   \n",
       "1                             5977, 7230, 7297, 7298      F  230910.0   \n",
       "2  5094, 5137, 5139, 5611, 5621, 5631, 5641, 5651...      F  230910.0   \n",
       "3                                         5995, 0742      F  230910.0   \n",
       "4  1520, 1711, 1731, 1740, 1750, 1761, 1771, 1799...      F  230910.0   \n",
       "\n",
       "   expenses  credit  deposit  sum_amount  subtype       product_company  \\\n",
       "0     61975       1        0      9707.0  Покупка  Боулинг клуб Самокат   \n",
       "1     61975       1        0     21380.0  Покупка  Парикмахерская DIMAX   \n",
       "2     61975       1        0    130068.0  Покупка               Bershka   \n",
       "3     61975       1        0      7885.0  Покупка            no_company   \n",
       "4     61975       1        0    122239.0  Покупка            no_company   \n",
       "\n",
       "   days_from_registration  age  \n",
       "0                    1442   54  \n",
       "1                    1442   54  \n",
       "2                    1449   54  \n",
       "3                    1449   54  \n",
       "4                    1401   54  "
      ]
     },
     "execution_count": 170,
     "metadata": {},
     "output_type": "execute_result"
    }
   ],
   "source": [
    "data_train_content.head()"
   ]
  },
  {
   "cell_type": "code",
   "execution_count": 171,
   "metadata": {},
   "outputs": [],
   "source": [
    "test_client_id = np.repeat(data_true.index, len(categories)) \n",
    "test_product_category = list(categories.product_category) * len(data_true)\n",
    "data_test_content = pd.DataFrame(\n",
    "    np.array([test_client_id, test_product_category]).T,\n",
    "    columns=['client_id', 'product_category'])\n",
    "data_test_content = data_test_content.merge(categories, how='left', on='product_category')\n",
    "data_test_content = data_test_content.merge(clients[['client_id', 'birthdate', 'registration_date', 'gender', 'income', 'expenses', 'credit', 'deposit']], how='left', on='client_id')\n",
    "data_test_content.drop(columns=['name', 'description'], inplace=True)"
   ]
  },
  {
   "cell_type": "code",
   "execution_count": 172,
   "metadata": {},
   "outputs": [],
   "source": [
    "data_test_content = data_test_content.merge(user_category_features, how='left', on=['client_id', 'product_category'])"
   ]
  },
  {
   "cell_type": "code",
   "execution_count": 173,
   "metadata": {},
   "outputs": [],
   "source": [
    "data_test_content['days_from_registration'] = data_test_content['date'].subtract(data_test_content['registration_date']).dt.days\n",
    "mean_days_from_registration = data_test_content.loc[data_test_content['days_from_registration'].isnull() != True, 'days_from_registration'].mean()\n",
    "data_test_content.loc[data_test_content['days_from_registration'].isnull() == True, 'days_from_registration'] = mean_days_from_registration\n",
    "data_test_content.days_from_registration = data_test_content.days_from_registration.astype(int)"
   ]
  },
  {
   "cell_type": "code",
   "execution_count": 174,
   "metadata": {},
   "outputs": [],
   "source": [
    "data_test_content['age'] = data_test_content['date'].subtract(data_test_content['birthdate']).dt.days.div(365).round()\n",
    "mean_age = round(data_test_content.loc[data_test_content['age'].isnull() != True, 'age'].mean())\n",
    "data_test_content.loc[data_test_content['age'].isnull() == True, 'age'] = mean_age\n",
    "data_test_content.age = data_test_content.age.astype(int)"
   ]
  },
  {
   "cell_type": "code",
   "execution_count": 188,
   "metadata": {},
   "outputs": [],
   "source": [
    "data_test_content.drop(columns=['date'], inplace=True)"
   ]
  },
  {
   "cell_type": "code",
   "execution_count": 175,
   "metadata": {},
   "outputs": [
    {
     "data": {
      "text/html": [
       "<div>\n",
       "<style scoped>\n",
       "    .dataframe tbody tr th:only-of-type {\n",
       "        vertical-align: middle;\n",
       "    }\n",
       "\n",
       "    .dataframe tbody tr th {\n",
       "        vertical-align: top;\n",
       "    }\n",
       "\n",
       "    .dataframe thead th {\n",
       "        text-align: right;\n",
       "    }\n",
       "</style>\n",
       "<table border=\"1\" class=\"dataframe\">\n",
       "  <thead>\n",
       "    <tr style=\"text-align: right;\">\n",
       "      <th></th>\n",
       "      <th>client_id</th>\n",
       "      <th>product_category</th>\n",
       "      <th>mcc-code</th>\n",
       "      <th>birthdate</th>\n",
       "      <th>registration_date</th>\n",
       "      <th>gender</th>\n",
       "      <th>income</th>\n",
       "      <th>expenses</th>\n",
       "      <th>credit</th>\n",
       "      <th>deposit</th>\n",
       "      <th>sum_amount</th>\n",
       "      <th>date</th>\n",
       "      <th>subtype</th>\n",
       "      <th>product_company</th>\n",
       "      <th>days_from_registration</th>\n",
       "      <th>age</th>\n",
       "    </tr>\n",
       "  </thead>\n",
       "  <tbody>\n",
       "    <tr>\n",
       "      <td>0</td>\n",
       "      <td>1</td>\n",
       "      <td>1</td>\n",
       "      <td>7512, 4121</td>\n",
       "      <td>1966-09-07</td>\n",
       "      <td>2017-01-10</td>\n",
       "      <td>F</td>\n",
       "      <td>230910.0</td>\n",
       "      <td>61975</td>\n",
       "      <td>1</td>\n",
       "      <td>0</td>\n",
       "      <td>NaN</td>\n",
       "      <td>NaT</td>\n",
       "      <td>NaN</td>\n",
       "      <td>NaN</td>\n",
       "      <td>1795</td>\n",
       "      <td>39</td>\n",
       "    </tr>\n",
       "    <tr>\n",
       "      <td>1</td>\n",
       "      <td>1</td>\n",
       "      <td>2</td>\n",
       "      <td>5297, 5298, 5300, 5411, 5412, 5422, 5441, 5451...</td>\n",
       "      <td>1966-09-07</td>\n",
       "      <td>2017-01-10</td>\n",
       "      <td>F</td>\n",
       "      <td>230910.0</td>\n",
       "      <td>61975</td>\n",
       "      <td>1</td>\n",
       "      <td>0</td>\n",
       "      <td>124999.0</td>\n",
       "      <td>2020-12-25 20:53:02</td>\n",
       "      <td>Покупка</td>\n",
       "      <td>Ашан</td>\n",
       "      <td>1445</td>\n",
       "      <td>54</td>\n",
       "    </tr>\n",
       "    <tr>\n",
       "      <td>2</td>\n",
       "      <td>1</td>\n",
       "      <td>3</td>\n",
       "      <td>4121</td>\n",
       "      <td>1966-09-07</td>\n",
       "      <td>2017-01-10</td>\n",
       "      <td>F</td>\n",
       "      <td>230910.0</td>\n",
       "      <td>61975</td>\n",
       "      <td>1</td>\n",
       "      <td>0</td>\n",
       "      <td>NaN</td>\n",
       "      <td>NaT</td>\n",
       "      <td>NaN</td>\n",
       "      <td>NaN</td>\n",
       "      <td>1795</td>\n",
       "      <td>39</td>\n",
       "    </tr>\n",
       "    <tr>\n",
       "      <td>3</td>\n",
       "      <td>1</td>\n",
       "      <td>4</td>\n",
       "      <td>5733, 5735</td>\n",
       "      <td>1966-09-07</td>\n",
       "      <td>2017-01-10</td>\n",
       "      <td>F</td>\n",
       "      <td>230910.0</td>\n",
       "      <td>61975</td>\n",
       "      <td>1</td>\n",
       "      <td>0</td>\n",
       "      <td>1908.0</td>\n",
       "      <td>2020-12-20 00:00:00</td>\n",
       "      <td>Подписка</td>\n",
       "      <td>Google Play Музыка</td>\n",
       "      <td>1440</td>\n",
       "      <td>54</td>\n",
       "    </tr>\n",
       "    <tr>\n",
       "      <td>4</td>\n",
       "      <td>1</td>\n",
       "      <td>5</td>\n",
       "      <td>5814</td>\n",
       "      <td>1966-09-07</td>\n",
       "      <td>2017-01-10</td>\n",
       "      <td>F</td>\n",
       "      <td>230910.0</td>\n",
       "      <td>61975</td>\n",
       "      <td>1</td>\n",
       "      <td>0</td>\n",
       "      <td>57310.0</td>\n",
       "      <td>2020-12-30 01:48:37</td>\n",
       "      <td>Покупка</td>\n",
       "      <td>KFC</td>\n",
       "      <td>1450</td>\n",
       "      <td>54</td>\n",
       "    </tr>\n",
       "  </tbody>\n",
       "</table>\n",
       "</div>"
      ],
      "text/plain": [
       "  client_id product_category  \\\n",
       "0         1                1   \n",
       "1         1                2   \n",
       "2         1                3   \n",
       "3         1                4   \n",
       "4         1                5   \n",
       "\n",
       "                                            mcc-code  birthdate  \\\n",
       "0                                         7512, 4121 1966-09-07   \n",
       "1  5297, 5298, 5300, 5411, 5412, 5422, 5441, 5451... 1966-09-07   \n",
       "2                                               4121 1966-09-07   \n",
       "3                                         5733, 5735 1966-09-07   \n",
       "4                                               5814 1966-09-07   \n",
       "\n",
       "  registration_date gender    income  expenses  credit  deposit  sum_amount  \\\n",
       "0        2017-01-10      F  230910.0     61975       1        0         NaN   \n",
       "1        2017-01-10      F  230910.0     61975       1        0    124999.0   \n",
       "2        2017-01-10      F  230910.0     61975       1        0         NaN   \n",
       "3        2017-01-10      F  230910.0     61975       1        0      1908.0   \n",
       "4        2017-01-10      F  230910.0     61975       1        0     57310.0   \n",
       "\n",
       "                 date   subtype     product_company  days_from_registration  \\\n",
       "0                 NaT       NaN                 NaN                    1795   \n",
       "1 2020-12-25 20:53:02   Покупка                Ашан                    1445   \n",
       "2                 NaT       NaN                 NaN                    1795   \n",
       "3 2020-12-20 00:00:00  Подписка  Google Play Музыка                    1440   \n",
       "4 2020-12-30 01:48:37   Покупка                 KFC                    1450   \n",
       "\n",
       "   age  \n",
       "0   39  \n",
       "1   54  \n",
       "2   39  \n",
       "3   54  \n",
       "4   54  "
      ]
     },
     "execution_count": 175,
     "metadata": {},
     "output_type": "execute_result"
    }
   ],
   "source": [
    "data_test_content.head()"
   ]
  },
  {
   "cell_type": "code",
   "execution_count": 176,
   "metadata": {},
   "outputs": [],
   "source": [
    "def mcc_count(column_value):\n",
    "    if column_value == 'no_code':\n",
    "        return 0\n",
    "    else:\n",
    "        mcc_count = len(column_value.split(', '))\n",
    "        return mcc_count"
   ]
  },
  {
   "cell_type": "code",
   "execution_count": 177,
   "metadata": {},
   "outputs": [],
   "source": [
    "data_train_content['mcc-code'] = data_train_content['mcc-code'].apply(mcc_count)\n",
    "data_test_content['mcc-code'] = data_test_content['mcc-code'].apply(mcc_count)"
   ]
  },
  {
   "cell_type": "code",
   "execution_count": 178,
   "metadata": {},
   "outputs": [
    {
     "data": {
      "text/plain": [
       "client_id                 False\n",
       "last_date                  True\n",
       "product_category          False\n",
       "purchase_normalize         True\n",
       "mcc-code                  False\n",
       "gender                    False\n",
       "income                    False\n",
       "expenses                  False\n",
       "credit                    False\n",
       "deposit                   False\n",
       "sum_amount                 True\n",
       "subtype                    True\n",
       "product_company            True\n",
       "days_from_registration    False\n",
       "age                       False\n",
       "dtype: bool"
      ]
     },
     "execution_count": 178,
     "metadata": {},
     "output_type": "execute_result"
    }
   ],
   "source": [
    "data_train_content.isnull().any()"
   ]
  },
  {
   "cell_type": "code",
   "execution_count": 179,
   "metadata": {},
   "outputs": [],
   "source": [
    "data_train_content.loc[data_train_content.sum_amount.isnull() == True, 'sum_amount'] = data_train_content.loc[data_train_content.sum_amount.isnull() != True, 'sum_amount'].mean()\n",
    "data_train_content.loc[data_train_content.subtype.isnull() == True, 'subtype'] = data_train_content.loc[data_train_content.subtype.isnull() != True, 'subtype'].mode()[0]\n",
    "data_train_content.loc[data_train_content.product_company.isnull() == True, 'product_company'] = 'no_company'"
   ]
  },
  {
   "cell_type": "code",
   "execution_count": 189,
   "metadata": {},
   "outputs": [
    {
     "data": {
      "text/plain": [
       "client_id                 False\n",
       "product_category          False\n",
       "mcc-code                  False\n",
       "birthdate                 False\n",
       "registration_date         False\n",
       "gender                    False\n",
       "income                    False\n",
       "expenses                  False\n",
       "credit                    False\n",
       "deposit                   False\n",
       "sum_amount                 True\n",
       "subtype                    True\n",
       "product_company            True\n",
       "days_from_registration    False\n",
       "age                       False\n",
       "dtype: bool"
      ]
     },
     "execution_count": 189,
     "metadata": {},
     "output_type": "execute_result"
    }
   ],
   "source": [
    "data_test_content.isnull().any()"
   ]
  },
  {
   "cell_type": "code",
   "execution_count": 192,
   "metadata": {},
   "outputs": [],
   "source": [
    "data_test_content.loc[data_test_content.sum_amount.isnull() == True, 'sum_amount'] = data_test_content.loc[data_test_content.sum_amount.isnull() != True, 'sum_amount'].mean()\n",
    "data_test_content.loc[data_test_content.subtype.isnull() == True, 'subtype'] = data_test_content.loc[data_test_content.subtype.isnull() != True, 'subtype'].mode()[0]\n",
    "data_test_content.loc[data_test_content.product_company.isnull() == True, 'product_company'] = 'no_company'"
   ]
  },
  {
   "cell_type": "code",
   "execution_count": 180,
   "metadata": {},
   "outputs": [],
   "source": [
    "X_train_content = data_train_content[data_train_content.columns[features_start:]]\n",
    "y_train_content = np.array(data_train_content.purchase_normalize > 0, dtype=int)"
   ]
  },
  {
   "cell_type": "code",
   "execution_count": 181,
   "metadata": {},
   "outputs": [],
   "source": [
    "cat_features = ['gender', 'subtype', 'product_company']"
   ]
  },
  {
   "cell_type": "code",
   "execution_count": 185,
   "metadata": {},
   "outputs": [
    {
     "name": "stdout",
     "output_type": "stream",
     "text": [
      "Learning rate set to 0.052368\n",
      "0:\tlearn: 0.6751807\ttotal: 257ms\tremaining: 4m 16s\n",
      "1:\tlearn: 0.6506357\ttotal: 339ms\tremaining: 2m 49s\n",
      "2:\tlearn: 0.6359990\ttotal: 421ms\tremaining: 2m 19s\n",
      "3:\tlearn: 0.6252707\ttotal: 491ms\tremaining: 2m 2s\n",
      "4:\tlearn: 0.6136143\ttotal: 548ms\tremaining: 1m 49s\n",
      "5:\tlearn: 0.6088028\ttotal: 600ms\tremaining: 1m 39s\n",
      "6:\tlearn: 0.6039042\ttotal: 665ms\tremaining: 1m 34s\n",
      "7:\tlearn: 0.6000151\ttotal: 719ms\tremaining: 1m 29s\n",
      "8:\tlearn: 0.5956631\ttotal: 775ms\tremaining: 1m 25s\n",
      "9:\tlearn: 0.5936867\ttotal: 834ms\tremaining: 1m 22s\n",
      "10:\tlearn: 0.5888936\ttotal: 888ms\tremaining: 1m 19s\n",
      "11:\tlearn: 0.5872891\ttotal: 950ms\tremaining: 1m 18s\n",
      "12:\tlearn: 0.5849813\ttotal: 993ms\tremaining: 1m 15s\n",
      "13:\tlearn: 0.5838480\ttotal: 1.04s\tremaining: 1m 13s\n",
      "14:\tlearn: 0.5812602\ttotal: 1.11s\tremaining: 1m 13s\n",
      "15:\tlearn: 0.5798090\ttotal: 1.18s\tremaining: 1m 12s\n",
      "16:\tlearn: 0.5787323\ttotal: 1.23s\tremaining: 1m 11s\n",
      "17:\tlearn: 0.5782380\ttotal: 1.27s\tremaining: 1m 9s\n",
      "18:\tlearn: 0.5771565\ttotal: 1.33s\tremaining: 1m 8s\n",
      "19:\tlearn: 0.5758571\ttotal: 1.39s\tremaining: 1m 8s\n",
      "20:\tlearn: 0.5750984\ttotal: 1.45s\tremaining: 1m 7s\n",
      "21:\tlearn: 0.5739484\ttotal: 1.51s\tremaining: 1m 7s\n",
      "22:\tlearn: 0.5736280\ttotal: 1.56s\tremaining: 1m 6s\n",
      "23:\tlearn: 0.5729697\ttotal: 1.6s\tremaining: 1m 5s\n",
      "24:\tlearn: 0.5719836\ttotal: 1.65s\tremaining: 1m 4s\n",
      "25:\tlearn: 0.5713818\ttotal: 1.7s\tremaining: 1m 3s\n",
      "26:\tlearn: 0.5706574\ttotal: 1.76s\tremaining: 1m 3s\n",
      "27:\tlearn: 0.5699294\ttotal: 1.81s\tremaining: 1m 3s\n",
      "28:\tlearn: 0.5698197\ttotal: 1.84s\tremaining: 1m 1s\n",
      "29:\tlearn: 0.5692849\ttotal: 1.91s\tremaining: 1m 1s\n",
      "30:\tlearn: 0.5684096\ttotal: 1.97s\tremaining: 1m 1s\n",
      "31:\tlearn: 0.5678648\ttotal: 2.03s\tremaining: 1m 1s\n",
      "32:\tlearn: 0.5666763\ttotal: 2.08s\tremaining: 1m\n",
      "33:\tlearn: 0.5642004\ttotal: 2.15s\tremaining: 1m 1s\n",
      "34:\tlearn: 0.5634980\ttotal: 2.21s\tremaining: 1m\n",
      "35:\tlearn: 0.5633291\ttotal: 2.27s\tremaining: 1m\n",
      "36:\tlearn: 0.5628607\ttotal: 2.32s\tremaining: 1m\n",
      "37:\tlearn: 0.5626847\ttotal: 2.36s\tremaining: 59.7s\n",
      "38:\tlearn: 0.5621600\ttotal: 2.43s\tremaining: 60s\n",
      "39:\tlearn: 0.5619543\ttotal: 2.49s\tremaining: 59.9s\n",
      "40:\tlearn: 0.5598517\ttotal: 2.55s\tremaining: 59.7s\n",
      "41:\tlearn: 0.5597820\ttotal: 2.61s\tremaining: 59.4s\n",
      "42:\tlearn: 0.5596113\ttotal: 2.65s\tremaining: 59.1s\n",
      "43:\tlearn: 0.5593688\ttotal: 2.71s\tremaining: 58.9s\n",
      "44:\tlearn: 0.5592983\ttotal: 2.76s\tremaining: 58.7s\n",
      "45:\tlearn: 0.5591522\ttotal: 2.83s\tremaining: 58.8s\n",
      "46:\tlearn: 0.5589931\ttotal: 2.91s\tremaining: 59s\n",
      "47:\tlearn: 0.5587083\ttotal: 2.98s\tremaining: 59.2s\n",
      "48:\tlearn: 0.5585279\ttotal: 3.05s\tremaining: 59.1s\n",
      "49:\tlearn: 0.5584358\ttotal: 3.1s\tremaining: 58.9s\n",
      "50:\tlearn: 0.5583672\ttotal: 3.14s\tremaining: 58.5s\n",
      "51:\tlearn: 0.5582466\ttotal: 3.21s\tremaining: 58.6s\n",
      "52:\tlearn: 0.5582341\ttotal: 3.27s\tremaining: 58.5s\n",
      "53:\tlearn: 0.5581842\ttotal: 3.33s\tremaining: 58.3s\n",
      "54:\tlearn: 0.5581609\ttotal: 3.36s\tremaining: 57.7s\n",
      "55:\tlearn: 0.5581193\ttotal: 3.41s\tremaining: 57.6s\n",
      "56:\tlearn: 0.5578729\ttotal: 3.48s\tremaining: 57.7s\n",
      "57:\tlearn: 0.5577728\ttotal: 3.56s\tremaining: 57.8s\n",
      "58:\tlearn: 0.5577636\ttotal: 3.6s\tremaining: 57.5s\n",
      "59:\tlearn: 0.5575684\ttotal: 3.67s\tremaining: 57.5s\n",
      "60:\tlearn: 0.5573599\ttotal: 3.73s\tremaining: 57.4s\n",
      "61:\tlearn: 0.5571761\ttotal: 3.78s\tremaining: 57.2s\n",
      "62:\tlearn: 0.5571726\ttotal: 3.81s\tremaining: 56.7s\n",
      "63:\tlearn: 0.5570075\ttotal: 3.86s\tremaining: 56.5s\n",
      "64:\tlearn: 0.5567410\ttotal: 3.91s\tremaining: 56.3s\n",
      "65:\tlearn: 0.5566618\ttotal: 3.97s\tremaining: 56.2s\n",
      "66:\tlearn: 0.5566487\ttotal: 4.04s\tremaining: 56.2s\n",
      "67:\tlearn: 0.5565506\ttotal: 4.09s\tremaining: 56.1s\n",
      "68:\tlearn: 0.5564757\ttotal: 4.14s\tremaining: 55.9s\n",
      "69:\tlearn: 0.5563635\ttotal: 4.2s\tremaining: 55.7s\n",
      "70:\tlearn: 0.5563198\ttotal: 4.25s\tremaining: 55.7s\n",
      "71:\tlearn: 0.5562032\ttotal: 4.32s\tremaining: 55.6s\n",
      "72:\tlearn: 0.5561294\ttotal: 4.38s\tremaining: 55.6s\n",
      "73:\tlearn: 0.5561059\ttotal: 4.43s\tremaining: 55.5s\n",
      "74:\tlearn: 0.5560610\ttotal: 4.49s\tremaining: 55.4s\n",
      "75:\tlearn: 0.5557882\ttotal: 4.56s\tremaining: 55.4s\n",
      "76:\tlearn: 0.5557423\ttotal: 4.6s\tremaining: 55.2s\n",
      "77:\tlearn: 0.5557138\ttotal: 4.65s\tremaining: 55s\n",
      "78:\tlearn: 0.5555312\ttotal: 4.71s\tremaining: 54.9s\n",
      "79:\tlearn: 0.5553806\ttotal: 4.78s\tremaining: 54.9s\n",
      "80:\tlearn: 0.5553699\ttotal: 4.82s\tremaining: 54.7s\n",
      "81:\tlearn: 0.5552378\ttotal: 4.87s\tremaining: 54.5s\n",
      "82:\tlearn: 0.5552378\ttotal: 4.89s\tremaining: 54s\n",
      "83:\tlearn: 0.5551844\ttotal: 4.94s\tremaining: 53.9s\n",
      "84:\tlearn: 0.5547201\ttotal: 5s\tremaining: 53.8s\n",
      "85:\tlearn: 0.5546976\ttotal: 5.06s\tremaining: 53.8s\n",
      "86:\tlearn: 0.5546752\ttotal: 5.11s\tremaining: 53.6s\n",
      "87:\tlearn: 0.5546620\ttotal: 5.16s\tremaining: 53.5s\n",
      "88:\tlearn: 0.5546099\ttotal: 5.22s\tremaining: 53.4s\n",
      "89:\tlearn: 0.5545958\ttotal: 5.27s\tremaining: 53.3s\n",
      "90:\tlearn: 0.5545620\ttotal: 5.32s\tremaining: 53.1s\n",
      "91:\tlearn: 0.5545326\ttotal: 5.37s\tremaining: 53s\n",
      "92:\tlearn: 0.5544921\ttotal: 5.42s\tremaining: 52.8s\n",
      "93:\tlearn: 0.5543138\ttotal: 5.47s\tremaining: 52.8s\n",
      "94:\tlearn: 0.5542878\ttotal: 5.53s\tremaining: 52.6s\n",
      "95:\tlearn: 0.5542464\ttotal: 5.59s\tremaining: 52.6s\n",
      "96:\tlearn: 0.5541930\ttotal: 5.64s\tremaining: 52.5s\n",
      "97:\tlearn: 0.5541758\ttotal: 5.7s\tremaining: 52.4s\n",
      "98:\tlearn: 0.5541153\ttotal: 5.75s\tremaining: 52.3s\n",
      "99:\tlearn: 0.5540774\ttotal: 5.81s\tremaining: 52.3s\n",
      "100:\tlearn: 0.5540428\ttotal: 5.85s\tremaining: 52.1s\n",
      "101:\tlearn: 0.5537261\ttotal: 5.91s\tremaining: 52s\n",
      "102:\tlearn: 0.5535726\ttotal: 5.97s\tremaining: 52s\n",
      "103:\tlearn: 0.5535717\ttotal: 6s\tremaining: 51.7s\n",
      "104:\tlearn: 0.5535293\ttotal: 6.05s\tremaining: 51.6s\n",
      "105:\tlearn: 0.5534684\ttotal: 6.11s\tremaining: 51.5s\n",
      "106:\tlearn: 0.5534461\ttotal: 6.15s\tremaining: 51.4s\n",
      "107:\tlearn: 0.5533627\ttotal: 6.21s\tremaining: 51.3s\n",
      "108:\tlearn: 0.5533549\ttotal: 6.29s\tremaining: 51.4s\n",
      "109:\tlearn: 0.5532170\ttotal: 6.36s\tremaining: 51.4s\n",
      "110:\tlearn: 0.5531234\ttotal: 6.42s\tremaining: 51.4s\n",
      "111:\tlearn: 0.5530482\ttotal: 6.47s\tremaining: 51.3s\n",
      "112:\tlearn: 0.5529788\ttotal: 6.52s\tremaining: 51.2s\n",
      "113:\tlearn: 0.5529788\ttotal: 6.54s\tremaining: 50.8s\n",
      "114:\tlearn: 0.5529769\ttotal: 6.57s\tremaining: 50.6s\n",
      "115:\tlearn: 0.5528761\ttotal: 6.65s\tremaining: 50.7s\n",
      "116:\tlearn: 0.5528701\ttotal: 6.69s\tremaining: 50.5s\n",
      "117:\tlearn: 0.5528286\ttotal: 6.75s\tremaining: 50.4s\n",
      "118:\tlearn: 0.5527958\ttotal: 6.82s\tremaining: 50.5s\n",
      "119:\tlearn: 0.5527457\ttotal: 6.89s\tremaining: 50.5s\n",
      "120:\tlearn: 0.5527071\ttotal: 6.94s\tremaining: 50.4s\n",
      "121:\tlearn: 0.5526272\ttotal: 6.99s\tremaining: 50.3s\n",
      "122:\tlearn: 0.5525482\ttotal: 7.04s\tremaining: 50.2s\n",
      "123:\tlearn: 0.5525045\ttotal: 7.09s\tremaining: 50.1s\n",
      "124:\tlearn: 0.5524415\ttotal: 7.15s\tremaining: 50s\n",
      "125:\tlearn: 0.5524046\ttotal: 7.22s\tremaining: 50.1s\n",
      "126:\tlearn: 0.5523232\ttotal: 7.27s\tremaining: 50s\n",
      "127:\tlearn: 0.5522601\ttotal: 7.33s\tremaining: 49.9s\n",
      "128:\tlearn: 0.5522540\ttotal: 7.38s\tremaining: 49.8s\n",
      "129:\tlearn: 0.5522422\ttotal: 7.43s\tremaining: 49.7s\n",
      "130:\tlearn: 0.5522331\ttotal: 7.48s\tremaining: 49.6s\n",
      "131:\tlearn: 0.5522086\ttotal: 7.53s\tremaining: 49.5s\n",
      "132:\tlearn: 0.5521326\ttotal: 7.59s\tremaining: 49.5s\n",
      "133:\tlearn: 0.5519916\ttotal: 7.64s\tremaining: 49.4s\n",
      "134:\tlearn: 0.5519447\ttotal: 7.7s\tremaining: 49.4s\n",
      "135:\tlearn: 0.5519000\ttotal: 7.76s\tremaining: 49.3s\n",
      "136:\tlearn: 0.5517554\ttotal: 7.82s\tremaining: 49.3s\n",
      "137:\tlearn: 0.5517254\ttotal: 7.87s\tremaining: 49.2s\n",
      "138:\tlearn: 0.5516446\ttotal: 7.93s\tremaining: 49.1s\n",
      "139:\tlearn: 0.5514207\ttotal: 7.98s\tremaining: 49s\n",
      "140:\tlearn: 0.5513565\ttotal: 8.05s\tremaining: 49.1s\n",
      "141:\tlearn: 0.5513346\ttotal: 8.11s\tremaining: 49s\n",
      "142:\tlearn: 0.5512093\ttotal: 8.17s\tremaining: 49s\n",
      "143:\tlearn: 0.5511861\ttotal: 8.23s\tremaining: 48.9s\n",
      "144:\tlearn: 0.5511751\ttotal: 8.29s\tremaining: 48.9s\n",
      "145:\tlearn: 0.5511587\ttotal: 8.34s\tremaining: 48.8s\n",
      "146:\tlearn: 0.5510700\ttotal: 8.4s\tremaining: 48.7s\n",
      "147:\tlearn: 0.5507991\ttotal: 8.45s\tremaining: 48.7s\n",
      "148:\tlearn: 0.5507525\ttotal: 8.5s\tremaining: 48.6s\n",
      "149:\tlearn: 0.5507298\ttotal: 8.57s\tremaining: 48.6s\n",
      "150:\tlearn: 0.5506969\ttotal: 8.64s\tremaining: 48.6s\n",
      "151:\tlearn: 0.5506662\ttotal: 8.7s\tremaining: 48.5s\n",
      "152:\tlearn: 0.5506656\ttotal: 8.72s\tremaining: 48.3s\n",
      "153:\tlearn: 0.5506227\ttotal: 8.78s\tremaining: 48.2s\n",
      "154:\tlearn: 0.5506116\ttotal: 8.83s\tremaining: 48.1s\n",
      "155:\tlearn: 0.5505994\ttotal: 8.9s\tremaining: 48.1s\n",
      "156:\tlearn: 0.5505036\ttotal: 8.95s\tremaining: 48.1s\n",
      "157:\tlearn: 0.5504401\ttotal: 9.08s\tremaining: 48.4s\n",
      "158:\tlearn: 0.5503699\ttotal: 9.13s\tremaining: 48.3s\n",
      "159:\tlearn: 0.5502878\ttotal: 9.18s\tremaining: 48.2s\n"
     ]
    },
    {
     "name": "stdout",
     "output_type": "stream",
     "text": [
      "160:\tlearn: 0.5502635\ttotal: 9.23s\tremaining: 48.1s\n",
      "161:\tlearn: 0.5502143\ttotal: 9.29s\tremaining: 48.1s\n",
      "162:\tlearn: 0.5501969\ttotal: 9.36s\tremaining: 48.1s\n",
      "163:\tlearn: 0.5501685\ttotal: 9.42s\tremaining: 48s\n",
      "164:\tlearn: 0.5500242\ttotal: 9.51s\tremaining: 48.1s\n",
      "165:\tlearn: 0.5499914\ttotal: 9.58s\tremaining: 48.1s\n",
      "166:\tlearn: 0.5499550\ttotal: 9.64s\tremaining: 48.1s\n",
      "167:\tlearn: 0.5499207\ttotal: 9.71s\tremaining: 48.1s\n",
      "168:\tlearn: 0.5499053\ttotal: 9.78s\tremaining: 48.1s\n",
      "169:\tlearn: 0.5498962\ttotal: 9.84s\tremaining: 48.1s\n",
      "170:\tlearn: 0.5498756\ttotal: 9.93s\tremaining: 48.1s\n",
      "171:\tlearn: 0.5498677\ttotal: 9.99s\tremaining: 48.1s\n",
      "172:\tlearn: 0.5498230\ttotal: 10s\tremaining: 48s\n",
      "173:\tlearn: 0.5498044\ttotal: 10.1s\tremaining: 47.9s\n",
      "174:\tlearn: 0.5496918\ttotal: 10.2s\tremaining: 47.9s\n",
      "175:\tlearn: 0.5496398\ttotal: 10.3s\tremaining: 48s\n",
      "176:\tlearn: 0.5495432\ttotal: 10.3s\tremaining: 48.1s\n",
      "177:\tlearn: 0.5494228\ttotal: 10.4s\tremaining: 48s\n",
      "178:\tlearn: 0.5493805\ttotal: 10.5s\tremaining: 47.9s\n",
      "179:\tlearn: 0.5493705\ttotal: 10.5s\tremaining: 47.9s\n",
      "180:\tlearn: 0.5493549\ttotal: 10.6s\tremaining: 48s\n",
      "181:\tlearn: 0.5492628\ttotal: 10.7s\tremaining: 48s\n",
      "182:\tlearn: 0.5492628\ttotal: 10.7s\tremaining: 47.7s\n",
      "183:\tlearn: 0.5492388\ttotal: 10.7s\tremaining: 47.6s\n",
      "184:\tlearn: 0.5491914\ttotal: 10.8s\tremaining: 47.5s\n",
      "185:\tlearn: 0.5491447\ttotal: 10.8s\tremaining: 47.5s\n",
      "186:\tlearn: 0.5491367\ttotal: 10.9s\tremaining: 47.5s\n",
      "187:\tlearn: 0.5490992\ttotal: 11s\tremaining: 47.5s\n",
      "188:\tlearn: 0.5490107\ttotal: 11.1s\tremaining: 47.6s\n",
      "189:\tlearn: 0.5489745\ttotal: 11.1s\tremaining: 47.5s\n",
      "190:\tlearn: 0.5489505\ttotal: 11.2s\tremaining: 47.4s\n",
      "191:\tlearn: 0.5488974\ttotal: 11.3s\tremaining: 47.4s\n",
      "192:\tlearn: 0.5486628\ttotal: 11.3s\tremaining: 47.4s\n",
      "193:\tlearn: 0.5485134\ttotal: 11.4s\tremaining: 47.4s\n",
      "194:\tlearn: 0.5485069\ttotal: 11.5s\tremaining: 47.3s\n",
      "195:\tlearn: 0.5484783\ttotal: 11.5s\tremaining: 47.2s\n",
      "196:\tlearn: 0.5483613\ttotal: 11.6s\tremaining: 47.2s\n",
      "197:\tlearn: 0.5482562\ttotal: 11.7s\tremaining: 47.3s\n",
      "198:\tlearn: 0.5482234\ttotal: 11.7s\tremaining: 47.2s\n",
      "199:\tlearn: 0.5482013\ttotal: 11.8s\tremaining: 47.3s\n",
      "200:\tlearn: 0.5481436\ttotal: 11.9s\tremaining: 47.2s\n",
      "201:\tlearn: 0.5480164\ttotal: 12s\tremaining: 47.2s\n",
      "202:\tlearn: 0.5479509\ttotal: 12s\tremaining: 47.2s\n",
      "203:\tlearn: 0.5479026\ttotal: 12.1s\tremaining: 47.1s\n",
      "204:\tlearn: 0.5478425\ttotal: 12.1s\tremaining: 47s\n",
      "205:\tlearn: 0.5478337\ttotal: 12.2s\tremaining: 47.1s\n",
      "206:\tlearn: 0.5478212\ttotal: 12.3s\tremaining: 47.1s\n",
      "207:\tlearn: 0.5477912\ttotal: 12.4s\tremaining: 47.1s\n",
      "208:\tlearn: 0.5477167\ttotal: 12.4s\tremaining: 47.1s\n",
      "209:\tlearn: 0.5475937\ttotal: 12.5s\tremaining: 47.1s\n",
      "210:\tlearn: 0.5475847\ttotal: 12.6s\tremaining: 47s\n",
      "211:\tlearn: 0.5474879\ttotal: 12.6s\tremaining: 47s\n",
      "212:\tlearn: 0.5474592\ttotal: 12.7s\tremaining: 47s\n",
      "213:\tlearn: 0.5474423\ttotal: 12.8s\tremaining: 47s\n",
      "214:\tlearn: 0.5474120\ttotal: 12.9s\tremaining: 47s\n",
      "215:\tlearn: 0.5473651\ttotal: 12.9s\tremaining: 47s\n",
      "216:\tlearn: 0.5472179\ttotal: 13s\tremaining: 47s\n",
      "217:\tlearn: 0.5472051\ttotal: 13.1s\tremaining: 46.9s\n",
      "218:\tlearn: 0.5471899\ttotal: 13.1s\tremaining: 46.9s\n",
      "219:\tlearn: 0.5471406\ttotal: 13.2s\tremaining: 46.8s\n",
      "220:\tlearn: 0.5471348\ttotal: 13.3s\tremaining: 46.8s\n",
      "221:\tlearn: 0.5471226\ttotal: 13.3s\tremaining: 46.7s\n",
      "222:\tlearn: 0.5471135\ttotal: 13.4s\tremaining: 46.7s\n",
      "223:\tlearn: 0.5470659\ttotal: 13.5s\tremaining: 46.7s\n",
      "224:\tlearn: 0.5470071\ttotal: 13.6s\tremaining: 46.7s\n",
      "225:\tlearn: 0.5467594\ttotal: 13.6s\tremaining: 46.7s\n",
      "226:\tlearn: 0.5467381\ttotal: 13.7s\tremaining: 46.6s\n",
      "227:\tlearn: 0.5466975\ttotal: 13.7s\tremaining: 46.5s\n",
      "228:\tlearn: 0.5466399\ttotal: 13.8s\tremaining: 46.5s\n",
      "229:\tlearn: 0.5465544\ttotal: 13.9s\tremaining: 46.5s\n",
      "230:\tlearn: 0.5464945\ttotal: 13.9s\tremaining: 46.4s\n",
      "231:\tlearn: 0.5464896\ttotal: 14s\tremaining: 46.3s\n",
      "232:\tlearn: 0.5463684\ttotal: 14s\tremaining: 46.2s\n",
      "233:\tlearn: 0.5463681\ttotal: 14.1s\tremaining: 46s\n",
      "234:\tlearn: 0.5463296\ttotal: 14.1s\tremaining: 45.9s\n",
      "235:\tlearn: 0.5462938\ttotal: 14.2s\tremaining: 45.9s\n",
      "236:\tlearn: 0.5461949\ttotal: 14.2s\tremaining: 45.8s\n",
      "237:\tlearn: 0.5461895\ttotal: 14.3s\tremaining: 45.7s\n",
      "238:\tlearn: 0.5461679\ttotal: 14.4s\tremaining: 45.7s\n",
      "239:\tlearn: 0.5461047\ttotal: 14.4s\tremaining: 45.7s\n",
      "240:\tlearn: 0.5460606\ttotal: 14.5s\tremaining: 45.6s\n",
      "241:\tlearn: 0.5460451\ttotal: 14.6s\tremaining: 45.7s\n",
      "242:\tlearn: 0.5459680\ttotal: 14.6s\tremaining: 45.6s\n",
      "243:\tlearn: 0.5459530\ttotal: 14.7s\tremaining: 45.5s\n",
      "244:\tlearn: 0.5459173\ttotal: 14.7s\tremaining: 45.4s\n",
      "245:\tlearn: 0.5458863\ttotal: 14.8s\tremaining: 45.3s\n",
      "246:\tlearn: 0.5458124\ttotal: 14.9s\tremaining: 45.3s\n",
      "247:\tlearn: 0.5457613\ttotal: 14.9s\tremaining: 45.2s\n",
      "248:\tlearn: 0.5457301\ttotal: 15s\tremaining: 45.1s\n",
      "249:\tlearn: 0.5457130\ttotal: 15s\tremaining: 45s\n",
      "250:\tlearn: 0.5456267\ttotal: 15.1s\tremaining: 45s\n",
      "251:\tlearn: 0.5455859\ttotal: 15.1s\tremaining: 45s\n",
      "252:\tlearn: 0.5454825\ttotal: 15.2s\tremaining: 44.9s\n",
      "253:\tlearn: 0.5454205\ttotal: 15.2s\tremaining: 44.8s\n",
      "254:\tlearn: 0.5453994\ttotal: 15.3s\tremaining: 44.7s\n",
      "255:\tlearn: 0.5453443\ttotal: 15.3s\tremaining: 44.6s\n",
      "256:\tlearn: 0.5452781\ttotal: 15.4s\tremaining: 44.5s\n",
      "257:\tlearn: 0.5452586\ttotal: 15.5s\tremaining: 44.5s\n",
      "258:\tlearn: 0.5451516\ttotal: 15.6s\tremaining: 44.5s\n",
      "259:\tlearn: 0.5450205\ttotal: 15.6s\tremaining: 44.5s\n",
      "260:\tlearn: 0.5449190\ttotal: 15.7s\tremaining: 44.4s\n",
      "261:\tlearn: 0.5448887\ttotal: 15.8s\tremaining: 44.4s\n",
      "262:\tlearn: 0.5448617\ttotal: 15.8s\tremaining: 44.3s\n",
      "263:\tlearn: 0.5448531\ttotal: 15.9s\tremaining: 44.3s\n",
      "264:\tlearn: 0.5448473\ttotal: 15.9s\tremaining: 44.2s\n",
      "265:\tlearn: 0.5447347\ttotal: 16s\tremaining: 44.1s\n",
      "266:\tlearn: 0.5446733\ttotal: 16s\tremaining: 44s\n",
      "267:\tlearn: 0.5446322\ttotal: 16.1s\tremaining: 44s\n",
      "268:\tlearn: 0.5445962\ttotal: 16.2s\tremaining: 43.9s\n",
      "269:\tlearn: 0.5445527\ttotal: 16.2s\tremaining: 43.9s\n",
      "270:\tlearn: 0.5445463\ttotal: 16.3s\tremaining: 43.9s\n",
      "271:\tlearn: 0.5444722\ttotal: 16.4s\tremaining: 43.8s\n",
      "272:\tlearn: 0.5444559\ttotal: 16.4s\tremaining: 43.7s\n",
      "273:\tlearn: 0.5444339\ttotal: 16.5s\tremaining: 43.6s\n",
      "274:\tlearn: 0.5444295\ttotal: 16.5s\tremaining: 43.5s\n",
      "275:\tlearn: 0.5443949\ttotal: 16.6s\tremaining: 43.5s\n",
      "276:\tlearn: 0.5443637\ttotal: 16.6s\tremaining: 43.4s\n",
      "277:\tlearn: 0.5443503\ttotal: 16.7s\tremaining: 43.3s\n",
      "278:\tlearn: 0.5443033\ttotal: 16.7s\tremaining: 43.2s\n",
      "279:\tlearn: 0.5442874\ttotal: 16.8s\tremaining: 43.1s\n",
      "280:\tlearn: 0.5441451\ttotal: 16.9s\tremaining: 43.1s\n",
      "281:\tlearn: 0.5441196\ttotal: 16.9s\tremaining: 43.1s\n",
      "282:\tlearn: 0.5440276\ttotal: 17s\tremaining: 43s\n",
      "283:\tlearn: 0.5439326\ttotal: 17.1s\tremaining: 43s\n",
      "284:\tlearn: 0.5439254\ttotal: 17.1s\tremaining: 42.9s\n",
      "285:\tlearn: 0.5438558\ttotal: 17.2s\tremaining: 42.9s\n",
      "286:\tlearn: 0.5437096\ttotal: 17.2s\tremaining: 42.8s\n",
      "287:\tlearn: 0.5437045\ttotal: 17.3s\tremaining: 42.8s\n",
      "288:\tlearn: 0.5436896\ttotal: 17.4s\tremaining: 42.7s\n",
      "289:\tlearn: 0.5436592\ttotal: 17.4s\tremaining: 42.6s\n",
      "290:\tlearn: 0.5436060\ttotal: 17.5s\tremaining: 42.5s\n",
      "291:\tlearn: 0.5435513\ttotal: 17.5s\tremaining: 42.4s\n",
      "292:\tlearn: 0.5434629\ttotal: 17.6s\tremaining: 42.4s\n",
      "293:\tlearn: 0.5433963\ttotal: 17.6s\tremaining: 42.3s\n",
      "294:\tlearn: 0.5432320\ttotal: 17.7s\tremaining: 42.2s\n",
      "295:\tlearn: 0.5432292\ttotal: 17.7s\tremaining: 42.1s\n",
      "296:\tlearn: 0.5431868\ttotal: 17.8s\tremaining: 42s\n",
      "297:\tlearn: 0.5431478\ttotal: 17.8s\tremaining: 42s\n",
      "298:\tlearn: 0.5430968\ttotal: 17.9s\tremaining: 42s\n",
      "299:\tlearn: 0.5430668\ttotal: 18s\tremaining: 41.9s\n",
      "300:\tlearn: 0.5429732\ttotal: 18s\tremaining: 41.9s\n",
      "301:\tlearn: 0.5429136\ttotal: 18.1s\tremaining: 41.8s\n",
      "302:\tlearn: 0.5428609\ttotal: 18.1s\tremaining: 41.7s\n",
      "303:\tlearn: 0.5428593\ttotal: 18.2s\tremaining: 41.7s\n",
      "304:\tlearn: 0.5427955\ttotal: 18.3s\tremaining: 41.6s\n",
      "305:\tlearn: 0.5427733\ttotal: 18.3s\tremaining: 41.6s\n",
      "306:\tlearn: 0.5427523\ttotal: 18.4s\tremaining: 41.5s\n",
      "307:\tlearn: 0.5426544\ttotal: 18.4s\tremaining: 41.4s\n",
      "308:\tlearn: 0.5426225\ttotal: 18.5s\tremaining: 41.4s\n",
      "309:\tlearn: 0.5425492\ttotal: 18.6s\tremaining: 41.3s\n",
      "310:\tlearn: 0.5425317\ttotal: 18.6s\tremaining: 41.3s\n",
      "311:\tlearn: 0.5425123\ttotal: 18.7s\tremaining: 41.2s\n",
      "312:\tlearn: 0.5424989\ttotal: 18.8s\tremaining: 41.2s\n",
      "313:\tlearn: 0.5424765\ttotal: 18.8s\tremaining: 41.1s\n",
      "314:\tlearn: 0.5424640\ttotal: 18.9s\tremaining: 41.1s\n",
      "315:\tlearn: 0.5423577\ttotal: 19s\tremaining: 41s\n",
      "316:\tlearn: 0.5423156\ttotal: 19s\tremaining: 40.9s\n",
      "317:\tlearn: 0.5422935\ttotal: 19.1s\tremaining: 40.9s\n",
      "318:\tlearn: 0.5421403\ttotal: 19.1s\tremaining: 40.8s\n",
      "319:\tlearn: 0.5421233\ttotal: 19.2s\tremaining: 40.7s\n"
     ]
    },
    {
     "name": "stdout",
     "output_type": "stream",
     "text": [
      "320:\tlearn: 0.5420678\ttotal: 19.2s\tremaining: 40.7s\n",
      "321:\tlearn: 0.5420297\ttotal: 19.3s\tremaining: 40.6s\n",
      "322:\tlearn: 0.5419727\ttotal: 19.3s\tremaining: 40.5s\n",
      "323:\tlearn: 0.5418923\ttotal: 19.4s\tremaining: 40.5s\n",
      "324:\tlearn: 0.5417554\ttotal: 19.5s\tremaining: 40.5s\n",
      "325:\tlearn: 0.5417099\ttotal: 19.5s\tremaining: 40.4s\n",
      "326:\tlearn: 0.5416856\ttotal: 19.6s\tremaining: 40.3s\n",
      "327:\tlearn: 0.5416505\ttotal: 19.7s\tremaining: 40.3s\n",
      "328:\tlearn: 0.5415457\ttotal: 19.7s\tremaining: 40.2s\n",
      "329:\tlearn: 0.5415065\ttotal: 19.8s\tremaining: 40.2s\n",
      "330:\tlearn: 0.5414814\ttotal: 19.8s\tremaining: 40.1s\n",
      "331:\tlearn: 0.5414416\ttotal: 19.9s\tremaining: 40s\n",
      "332:\tlearn: 0.5413973\ttotal: 20s\tremaining: 40s\n",
      "333:\tlearn: 0.5413873\ttotal: 20s\tremaining: 39.9s\n",
      "334:\tlearn: 0.5412857\ttotal: 20.1s\tremaining: 39.9s\n",
      "335:\tlearn: 0.5412440\ttotal: 20.2s\tremaining: 39.9s\n",
      "336:\tlearn: 0.5412268\ttotal: 20.3s\tremaining: 39.9s\n",
      "337:\tlearn: 0.5412168\ttotal: 20.3s\tremaining: 39.8s\n",
      "338:\tlearn: 0.5411999\ttotal: 20.4s\tremaining: 39.7s\n",
      "339:\tlearn: 0.5411975\ttotal: 20.4s\tremaining: 39.7s\n",
      "340:\tlearn: 0.5411235\ttotal: 20.5s\tremaining: 39.6s\n",
      "341:\tlearn: 0.5410382\ttotal: 20.6s\tremaining: 39.6s\n",
      "342:\tlearn: 0.5410181\ttotal: 20.7s\tremaining: 39.6s\n",
      "343:\tlearn: 0.5410004\ttotal: 20.7s\tremaining: 39.5s\n",
      "344:\tlearn: 0.5408872\ttotal: 20.8s\tremaining: 39.5s\n",
      "345:\tlearn: 0.5408270\ttotal: 20.9s\tremaining: 39.5s\n",
      "346:\tlearn: 0.5407986\ttotal: 21s\tremaining: 39.4s\n",
      "347:\tlearn: 0.5407639\ttotal: 21s\tremaining: 39.4s\n",
      "348:\tlearn: 0.5407404\ttotal: 21.1s\tremaining: 39.4s\n",
      "349:\tlearn: 0.5407298\ttotal: 21.2s\tremaining: 39.3s\n",
      "350:\tlearn: 0.5406384\ttotal: 21.2s\tremaining: 39.2s\n",
      "351:\tlearn: 0.5406031\ttotal: 21.3s\tremaining: 39.2s\n",
      "352:\tlearn: 0.5405573\ttotal: 21.4s\tremaining: 39.2s\n",
      "353:\tlearn: 0.5405179\ttotal: 21.4s\tremaining: 39.1s\n",
      "354:\tlearn: 0.5404981\ttotal: 21.5s\tremaining: 39.1s\n",
      "355:\tlearn: 0.5404666\ttotal: 21.6s\tremaining: 39s\n",
      "356:\tlearn: 0.5404536\ttotal: 21.6s\tremaining: 39s\n",
      "357:\tlearn: 0.5404364\ttotal: 21.7s\tremaining: 38.9s\n",
      "358:\tlearn: 0.5404309\ttotal: 21.8s\tremaining: 38.9s\n",
      "359:\tlearn: 0.5403265\ttotal: 21.8s\tremaining: 38.8s\n",
      "360:\tlearn: 0.5403128\ttotal: 21.9s\tremaining: 38.7s\n",
      "361:\tlearn: 0.5403035\ttotal: 21.9s\tremaining: 38.6s\n",
      "362:\tlearn: 0.5402711\ttotal: 22s\tremaining: 38.6s\n",
      "363:\tlearn: 0.5402539\ttotal: 22.1s\tremaining: 38.6s\n",
      "364:\tlearn: 0.5401992\ttotal: 22.1s\tremaining: 38.5s\n",
      "365:\tlearn: 0.5401476\ttotal: 22.2s\tremaining: 38.4s\n",
      "366:\tlearn: 0.5401141\ttotal: 22.2s\tremaining: 38.4s\n",
      "367:\tlearn: 0.5400444\ttotal: 22.3s\tremaining: 38.3s\n",
      "368:\tlearn: 0.5400056\ttotal: 22.4s\tremaining: 38.3s\n",
      "369:\tlearn: 0.5399102\ttotal: 22.4s\tremaining: 38.2s\n",
      "370:\tlearn: 0.5398608\ttotal: 22.5s\tremaining: 38.2s\n",
      "371:\tlearn: 0.5398403\ttotal: 22.6s\tremaining: 38.1s\n",
      "372:\tlearn: 0.5398189\ttotal: 22.6s\tremaining: 38.1s\n",
      "373:\tlearn: 0.5397852\ttotal: 22.7s\tremaining: 38s\n",
      "374:\tlearn: 0.5396834\ttotal: 22.8s\tremaining: 37.9s\n",
      "375:\tlearn: 0.5396674\ttotal: 22.8s\tremaining: 37.9s\n",
      "376:\tlearn: 0.5396426\ttotal: 22.9s\tremaining: 37.9s\n",
      "377:\tlearn: 0.5395733\ttotal: 23s\tremaining: 37.8s\n",
      "378:\tlearn: 0.5394566\ttotal: 23s\tremaining: 37.8s\n",
      "379:\tlearn: 0.5393580\ttotal: 23.1s\tremaining: 37.7s\n",
      "380:\tlearn: 0.5393287\ttotal: 23.2s\tremaining: 37.6s\n",
      "381:\tlearn: 0.5392968\ttotal: 23.2s\tremaining: 37.6s\n",
      "382:\tlearn: 0.5392896\ttotal: 23.3s\tremaining: 37.5s\n",
      "383:\tlearn: 0.5392447\ttotal: 23.4s\tremaining: 37.5s\n",
      "384:\tlearn: 0.5392380\ttotal: 23.4s\tremaining: 37.4s\n",
      "385:\tlearn: 0.5392083\ttotal: 23.5s\tremaining: 37.3s\n",
      "386:\tlearn: 0.5391644\ttotal: 23.5s\tremaining: 37.3s\n",
      "387:\tlearn: 0.5391402\ttotal: 23.6s\tremaining: 37.3s\n",
      "388:\tlearn: 0.5391297\ttotal: 23.7s\tremaining: 37.2s\n",
      "389:\tlearn: 0.5390931\ttotal: 23.8s\tremaining: 37.2s\n",
      "390:\tlearn: 0.5390500\ttotal: 23.9s\tremaining: 37.2s\n",
      "391:\tlearn: 0.5390171\ttotal: 23.9s\tremaining: 37.1s\n",
      "392:\tlearn: 0.5389652\ttotal: 24s\tremaining: 37.1s\n",
      "393:\tlearn: 0.5389506\ttotal: 24.1s\tremaining: 37s\n",
      "394:\tlearn: 0.5388500\ttotal: 24.2s\tremaining: 37s\n",
      "395:\tlearn: 0.5388160\ttotal: 24.2s\tremaining: 36.9s\n",
      "396:\tlearn: 0.5387893\ttotal: 24.3s\tremaining: 36.9s\n",
      "397:\tlearn: 0.5387801\ttotal: 24.3s\tremaining: 36.8s\n",
      "398:\tlearn: 0.5387589\ttotal: 24.4s\tremaining: 36.7s\n",
      "399:\tlearn: 0.5386340\ttotal: 24.5s\tremaining: 36.7s\n",
      "400:\tlearn: 0.5386080\ttotal: 24.5s\tremaining: 36.6s\n",
      "401:\tlearn: 0.5385789\ttotal: 24.6s\tremaining: 36.6s\n",
      "402:\tlearn: 0.5385679\ttotal: 24.7s\tremaining: 36.5s\n",
      "403:\tlearn: 0.5385663\ttotal: 24.7s\tremaining: 36.5s\n",
      "404:\tlearn: 0.5385376\ttotal: 24.8s\tremaining: 36.4s\n",
      "405:\tlearn: 0.5384868\ttotal: 24.8s\tremaining: 36.4s\n",
      "406:\tlearn: 0.5384486\ttotal: 24.9s\tremaining: 36.3s\n",
      "407:\tlearn: 0.5383939\ttotal: 25s\tremaining: 36.3s\n",
      "408:\tlearn: 0.5383475\ttotal: 25.1s\tremaining: 36.2s\n",
      "409:\tlearn: 0.5382862\ttotal: 25.1s\tremaining: 36.2s\n",
      "410:\tlearn: 0.5382781\ttotal: 25.2s\tremaining: 36.1s\n",
      "411:\tlearn: 0.5382494\ttotal: 25.2s\tremaining: 36s\n",
      "412:\tlearn: 0.5382177\ttotal: 25.3s\tremaining: 35.9s\n",
      "413:\tlearn: 0.5381896\ttotal: 25.3s\tremaining: 35.9s\n",
      "414:\tlearn: 0.5381574\ttotal: 25.4s\tremaining: 35.8s\n",
      "415:\tlearn: 0.5381031\ttotal: 25.4s\tremaining: 35.7s\n",
      "416:\tlearn: 0.5380419\ttotal: 25.5s\tremaining: 35.6s\n",
      "417:\tlearn: 0.5379984\ttotal: 25.5s\tremaining: 35.6s\n",
      "418:\tlearn: 0.5379429\ttotal: 25.6s\tremaining: 35.5s\n",
      "419:\tlearn: 0.5378894\ttotal: 25.7s\tremaining: 35.4s\n",
      "420:\tlearn: 0.5378632\ttotal: 25.7s\tremaining: 35.3s\n",
      "421:\tlearn: 0.5377909\ttotal: 25.8s\tremaining: 35.3s\n",
      "422:\tlearn: 0.5377669\ttotal: 25.8s\tremaining: 35.2s\n",
      "423:\tlearn: 0.5377275\ttotal: 25.9s\tremaining: 35.2s\n",
      "424:\tlearn: 0.5376646\ttotal: 26s\tremaining: 35.1s\n",
      "425:\tlearn: 0.5376110\ttotal: 26s\tremaining: 35.1s\n",
      "426:\tlearn: 0.5374581\ttotal: 26.1s\tremaining: 35s\n",
      "427:\tlearn: 0.5374532\ttotal: 26.1s\tremaining: 34.9s\n",
      "428:\tlearn: 0.5374426\ttotal: 26.2s\tremaining: 34.9s\n",
      "429:\tlearn: 0.5373697\ttotal: 26.3s\tremaining: 34.8s\n",
      "430:\tlearn: 0.5373296\ttotal: 26.3s\tremaining: 34.8s\n",
      "431:\tlearn: 0.5373123\ttotal: 26.4s\tremaining: 34.7s\n",
      "432:\tlearn: 0.5372740\ttotal: 26.5s\tremaining: 34.7s\n",
      "433:\tlearn: 0.5372265\ttotal: 26.6s\tremaining: 34.6s\n",
      "434:\tlearn: 0.5371585\ttotal: 26.6s\tremaining: 34.6s\n",
      "435:\tlearn: 0.5371144\ttotal: 26.7s\tremaining: 34.5s\n",
      "436:\tlearn: 0.5370967\ttotal: 26.7s\tremaining: 34.4s\n",
      "437:\tlearn: 0.5370651\ttotal: 26.8s\tremaining: 34.4s\n",
      "438:\tlearn: 0.5370447\ttotal: 26.8s\tremaining: 34.3s\n",
      "439:\tlearn: 0.5369732\ttotal: 26.9s\tremaining: 34.2s\n",
      "440:\tlearn: 0.5369402\ttotal: 26.9s\tremaining: 34.1s\n",
      "441:\tlearn: 0.5368991\ttotal: 27s\tremaining: 34.1s\n",
      "442:\tlearn: 0.5368858\ttotal: 27.1s\tremaining: 34s\n",
      "443:\tlearn: 0.5368724\ttotal: 27.1s\tremaining: 34s\n",
      "444:\tlearn: 0.5368346\ttotal: 27.2s\tremaining: 33.9s\n",
      "445:\tlearn: 0.5368287\ttotal: 27.3s\tremaining: 33.9s\n",
      "446:\tlearn: 0.5368161\ttotal: 27.3s\tremaining: 33.8s\n",
      "447:\tlearn: 0.5368076\ttotal: 27.4s\tremaining: 33.7s\n",
      "448:\tlearn: 0.5368023\ttotal: 27.4s\tremaining: 33.7s\n",
      "449:\tlearn: 0.5367751\ttotal: 27.5s\tremaining: 33.6s\n",
      "450:\tlearn: 0.5367520\ttotal: 27.6s\tremaining: 33.6s\n",
      "451:\tlearn: 0.5366590\ttotal: 27.6s\tremaining: 33.5s\n",
      "452:\tlearn: 0.5366493\ttotal: 27.7s\tremaining: 33.5s\n",
      "453:\tlearn: 0.5365900\ttotal: 27.8s\tremaining: 33.4s\n",
      "454:\tlearn: 0.5365883\ttotal: 27.9s\tremaining: 33.4s\n",
      "455:\tlearn: 0.5365454\ttotal: 27.9s\tremaining: 33.3s\n",
      "456:\tlearn: 0.5364239\ttotal: 28s\tremaining: 33.3s\n",
      "457:\tlearn: 0.5364008\ttotal: 28s\tremaining: 33.2s\n",
      "458:\tlearn: 0.5363638\ttotal: 28.1s\tremaining: 33.1s\n",
      "459:\tlearn: 0.5363493\ttotal: 28.1s\tremaining: 33s\n",
      "460:\tlearn: 0.5363353\ttotal: 28.2s\tremaining: 33s\n",
      "461:\tlearn: 0.5363198\ttotal: 28.2s\tremaining: 32.9s\n",
      "462:\tlearn: 0.5362233\ttotal: 28.3s\tremaining: 32.8s\n",
      "463:\tlearn: 0.5362098\ttotal: 28.3s\tremaining: 32.7s\n",
      "464:\tlearn: 0.5361222\ttotal: 28.4s\tremaining: 32.7s\n",
      "465:\tlearn: 0.5361093\ttotal: 28.5s\tremaining: 32.6s\n",
      "466:\tlearn: 0.5360481\ttotal: 28.6s\tremaining: 32.6s\n",
      "467:\tlearn: 0.5360255\ttotal: 28.6s\tremaining: 32.6s\n",
      "468:\tlearn: 0.5359842\ttotal: 28.7s\tremaining: 32.5s\n",
      "469:\tlearn: 0.5359004\ttotal: 28.8s\tremaining: 32.4s\n",
      "470:\tlearn: 0.5357954\ttotal: 28.8s\tremaining: 32.4s\n",
      "471:\tlearn: 0.5357703\ttotal: 28.9s\tremaining: 32.3s\n",
      "472:\tlearn: 0.5357621\ttotal: 28.9s\tremaining: 32.3s\n",
      "473:\tlearn: 0.5357180\ttotal: 29s\tremaining: 32.2s\n",
      "474:\tlearn: 0.5356679\ttotal: 29s\tremaining: 32.1s\n",
      "475:\tlearn: 0.5356521\ttotal: 29.1s\tremaining: 32s\n",
      "476:\tlearn: 0.5356180\ttotal: 29.1s\tremaining: 32s\n",
      "477:\tlearn: 0.5355962\ttotal: 29.2s\tremaining: 31.9s\n",
      "478:\tlearn: 0.5355623\ttotal: 29.2s\tremaining: 31.8s\n"
     ]
    },
    {
     "name": "stdout",
     "output_type": "stream",
     "text": [
      "479:\tlearn: 0.5354936\ttotal: 29.3s\tremaining: 31.7s\n",
      "480:\tlearn: 0.5353858\ttotal: 29.3s\tremaining: 31.7s\n",
      "481:\tlearn: 0.5353578\ttotal: 29.4s\tremaining: 31.6s\n",
      "482:\tlearn: 0.5353387\ttotal: 29.5s\tremaining: 31.6s\n",
      "483:\tlearn: 0.5352789\ttotal: 29.6s\tremaining: 31.5s\n",
      "484:\tlearn: 0.5352313\ttotal: 29.6s\tremaining: 31.5s\n",
      "485:\tlearn: 0.5352041\ttotal: 29.7s\tremaining: 31.4s\n",
      "486:\tlearn: 0.5351818\ttotal: 29.8s\tremaining: 31.4s\n",
      "487:\tlearn: 0.5351608\ttotal: 29.9s\tremaining: 31.3s\n",
      "488:\tlearn: 0.5351502\ttotal: 29.9s\tremaining: 31.3s\n",
      "489:\tlearn: 0.5351193\ttotal: 30s\tremaining: 31.2s\n",
      "490:\tlearn: 0.5350527\ttotal: 30.1s\tremaining: 31.2s\n",
      "491:\tlearn: 0.5350102\ttotal: 30.1s\tremaining: 31.1s\n",
      "492:\tlearn: 0.5349988\ttotal: 30.2s\tremaining: 31s\n",
      "493:\tlearn: 0.5349793\ttotal: 30.3s\tremaining: 31s\n",
      "494:\tlearn: 0.5349249\ttotal: 30.3s\tremaining: 31s\n",
      "495:\tlearn: 0.5349118\ttotal: 30.4s\tremaining: 30.9s\n",
      "496:\tlearn: 0.5348996\ttotal: 30.5s\tremaining: 30.8s\n",
      "497:\tlearn: 0.5348550\ttotal: 30.6s\tremaining: 30.8s\n",
      "498:\tlearn: 0.5348220\ttotal: 30.6s\tremaining: 30.8s\n",
      "499:\tlearn: 0.5347787\ttotal: 30.7s\tremaining: 30.7s\n",
      "500:\tlearn: 0.5347469\ttotal: 30.8s\tremaining: 30.6s\n",
      "501:\tlearn: 0.5347266\ttotal: 30.8s\tremaining: 30.6s\n",
      "502:\tlearn: 0.5346887\ttotal: 30.9s\tremaining: 30.5s\n",
      "503:\tlearn: 0.5346713\ttotal: 31s\tremaining: 30.5s\n",
      "504:\tlearn: 0.5346096\ttotal: 31s\tremaining: 30.4s\n",
      "505:\tlearn: 0.5345511\ttotal: 31.1s\tremaining: 30.3s\n",
      "506:\tlearn: 0.5345231\ttotal: 31.1s\tremaining: 30.3s\n",
      "507:\tlearn: 0.5344950\ttotal: 31.2s\tremaining: 30.2s\n",
      "508:\tlearn: 0.5344454\ttotal: 31.3s\tremaining: 30.2s\n",
      "509:\tlearn: 0.5344188\ttotal: 31.4s\tremaining: 30.1s\n",
      "510:\tlearn: 0.5343014\ttotal: 31.4s\tremaining: 30.1s\n",
      "511:\tlearn: 0.5342782\ttotal: 31.5s\tremaining: 30s\n",
      "512:\tlearn: 0.5342589\ttotal: 31.5s\tremaining: 29.9s\n",
      "513:\tlearn: 0.5342390\ttotal: 31.6s\tremaining: 29.9s\n",
      "514:\tlearn: 0.5341708\ttotal: 31.7s\tremaining: 29.8s\n",
      "515:\tlearn: 0.5341579\ttotal: 31.7s\tremaining: 29.8s\n",
      "516:\tlearn: 0.5341364\ttotal: 31.8s\tremaining: 29.7s\n",
      "517:\tlearn: 0.5341201\ttotal: 31.9s\tremaining: 29.7s\n",
      "518:\tlearn: 0.5340968\ttotal: 31.9s\tremaining: 29.6s\n",
      "519:\tlearn: 0.5340547\ttotal: 32s\tremaining: 29.6s\n",
      "520:\tlearn: 0.5340345\ttotal: 32.1s\tremaining: 29.5s\n",
      "521:\tlearn: 0.5340115\ttotal: 32.1s\tremaining: 29.4s\n",
      "522:\tlearn: 0.5340080\ttotal: 32.2s\tremaining: 29.4s\n",
      "523:\tlearn: 0.5339846\ttotal: 32.3s\tremaining: 29.3s\n",
      "524:\tlearn: 0.5339364\ttotal: 32.3s\tremaining: 29.3s\n",
      "525:\tlearn: 0.5339199\ttotal: 32.4s\tremaining: 29.2s\n",
      "526:\tlearn: 0.5338818\ttotal: 32.5s\tremaining: 29.1s\n",
      "527:\tlearn: 0.5338783\ttotal: 32.5s\tremaining: 29.1s\n",
      "528:\tlearn: 0.5337543\ttotal: 32.6s\tremaining: 29s\n",
      "529:\tlearn: 0.5337213\ttotal: 32.7s\tremaining: 29s\n",
      "530:\tlearn: 0.5336958\ttotal: 32.8s\tremaining: 29s\n",
      "531:\tlearn: 0.5336200\ttotal: 32.9s\tremaining: 28.9s\n",
      "532:\tlearn: 0.5335536\ttotal: 32.9s\tremaining: 28.9s\n",
      "533:\tlearn: 0.5335342\ttotal: 33s\tremaining: 28.8s\n",
      "534:\tlearn: 0.5334992\ttotal: 33.1s\tremaining: 28.8s\n",
      "535:\tlearn: 0.5333916\ttotal: 33.2s\tremaining: 28.7s\n",
      "536:\tlearn: 0.5333050\ttotal: 33.2s\tremaining: 28.7s\n",
      "537:\tlearn: 0.5331845\ttotal: 33.3s\tremaining: 28.6s\n",
      "538:\tlearn: 0.5331668\ttotal: 33.4s\tremaining: 28.6s\n",
      "539:\tlearn: 0.5331370\ttotal: 33.5s\tremaining: 28.5s\n",
      "540:\tlearn: 0.5331007\ttotal: 33.5s\tremaining: 28.5s\n",
      "541:\tlearn: 0.5330434\ttotal: 33.6s\tremaining: 28.4s\n",
      "542:\tlearn: 0.5329838\ttotal: 33.7s\tremaining: 28.4s\n",
      "543:\tlearn: 0.5329800\ttotal: 33.8s\tremaining: 28.3s\n",
      "544:\tlearn: 0.5329537\ttotal: 33.9s\tremaining: 28.3s\n",
      "545:\tlearn: 0.5328595\ttotal: 33.9s\tremaining: 28.2s\n",
      "546:\tlearn: 0.5328570\ttotal: 34s\tremaining: 28.2s\n",
      "547:\tlearn: 0.5328138\ttotal: 34.1s\tremaining: 28.1s\n",
      "548:\tlearn: 0.5327820\ttotal: 34.2s\tremaining: 28.1s\n",
      "549:\tlearn: 0.5327664\ttotal: 34.2s\tremaining: 28s\n",
      "550:\tlearn: 0.5327519\ttotal: 34.3s\tremaining: 27.9s\n",
      "551:\tlearn: 0.5327508\ttotal: 34.3s\tremaining: 27.9s\n",
      "552:\tlearn: 0.5326745\ttotal: 34.4s\tremaining: 27.8s\n",
      "553:\tlearn: 0.5326446\ttotal: 34.5s\tremaining: 27.8s\n",
      "554:\tlearn: 0.5325999\ttotal: 34.6s\tremaining: 27.7s\n",
      "555:\tlearn: 0.5325266\ttotal: 34.6s\tremaining: 27.7s\n",
      "556:\tlearn: 0.5324999\ttotal: 34.7s\tremaining: 27.6s\n",
      "557:\tlearn: 0.5323645\ttotal: 34.8s\tremaining: 27.6s\n",
      "558:\tlearn: 0.5323535\ttotal: 34.9s\tremaining: 27.5s\n",
      "559:\tlearn: 0.5323335\ttotal: 34.9s\tremaining: 27.5s\n",
      "560:\tlearn: 0.5323041\ttotal: 35s\tremaining: 27.4s\n",
      "561:\tlearn: 0.5322928\ttotal: 35.1s\tremaining: 27.3s\n",
      "562:\tlearn: 0.5322154\ttotal: 35.1s\tremaining: 27.3s\n",
      "563:\tlearn: 0.5321736\ttotal: 35.2s\tremaining: 27.2s\n",
      "564:\tlearn: 0.5321550\ttotal: 35.3s\tremaining: 27.2s\n",
      "565:\tlearn: 0.5321516\ttotal: 35.3s\tremaining: 27.1s\n",
      "566:\tlearn: 0.5320841\ttotal: 35.4s\tremaining: 27s\n",
      "567:\tlearn: 0.5320608\ttotal: 35.4s\tremaining: 27s\n",
      "568:\tlearn: 0.5320391\ttotal: 35.5s\tremaining: 26.9s\n",
      "569:\tlearn: 0.5320235\ttotal: 35.6s\tremaining: 26.8s\n",
      "570:\tlearn: 0.5320207\ttotal: 35.6s\tremaining: 26.8s\n",
      "571:\tlearn: 0.5319591\ttotal: 35.7s\tremaining: 26.7s\n",
      "572:\tlearn: 0.5319200\ttotal: 35.8s\tremaining: 26.7s\n",
      "573:\tlearn: 0.5319083\ttotal: 35.9s\tremaining: 26.6s\n",
      "574:\tlearn: 0.5318632\ttotal: 35.9s\tremaining: 26.6s\n",
      "575:\tlearn: 0.5318435\ttotal: 36s\tremaining: 26.5s\n",
      "576:\tlearn: 0.5318167\ttotal: 36.1s\tremaining: 26.5s\n",
      "577:\tlearn: 0.5318161\ttotal: 36.2s\tremaining: 26.4s\n",
      "578:\tlearn: 0.5317905\ttotal: 36.2s\tremaining: 26.4s\n",
      "579:\tlearn: 0.5317191\ttotal: 36.3s\tremaining: 26.3s\n",
      "580:\tlearn: 0.5317116\ttotal: 36.3s\tremaining: 26.2s\n",
      "581:\tlearn: 0.5316548\ttotal: 36.4s\tremaining: 26.1s\n",
      "582:\tlearn: 0.5316195\ttotal: 36.5s\tremaining: 26.1s\n",
      "583:\tlearn: 0.5315811\ttotal: 36.5s\tremaining: 26s\n",
      "584:\tlearn: 0.5315537\ttotal: 36.6s\tremaining: 26s\n",
      "585:\tlearn: 0.5315340\ttotal: 36.7s\tremaining: 25.9s\n",
      "586:\tlearn: 0.5315217\ttotal: 36.7s\tremaining: 25.8s\n",
      "587:\tlearn: 0.5314942\ttotal: 36.8s\tremaining: 25.8s\n",
      "588:\tlearn: 0.5314195\ttotal: 36.8s\tremaining: 25.7s\n",
      "589:\tlearn: 0.5313954\ttotal: 36.9s\tremaining: 25.6s\n",
      "590:\tlearn: 0.5313943\ttotal: 36.9s\tremaining: 25.6s\n",
      "591:\tlearn: 0.5313731\ttotal: 37s\tremaining: 25.5s\n",
      "592:\tlearn: 0.5313047\ttotal: 37s\tremaining: 25.4s\n",
      "593:\tlearn: 0.5312894\ttotal: 37.1s\tremaining: 25.4s\n",
      "594:\tlearn: 0.5312873\ttotal: 37.2s\tremaining: 25.3s\n",
      "595:\tlearn: 0.5312572\ttotal: 37.2s\tremaining: 25.2s\n",
      "596:\tlearn: 0.5312401\ttotal: 37.3s\tremaining: 25.2s\n",
      "597:\tlearn: 0.5312211\ttotal: 37.3s\tremaining: 25.1s\n",
      "598:\tlearn: 0.5312131\ttotal: 37.4s\tremaining: 25s\n",
      "599:\tlearn: 0.5311923\ttotal: 37.5s\tremaining: 25s\n",
      "600:\tlearn: 0.5311528\ttotal: 37.5s\tremaining: 24.9s\n",
      "601:\tlearn: 0.5311508\ttotal: 37.6s\tremaining: 24.9s\n",
      "602:\tlearn: 0.5311370\ttotal: 37.7s\tremaining: 24.8s\n",
      "603:\tlearn: 0.5310924\ttotal: 37.8s\tremaining: 24.8s\n",
      "604:\tlearn: 0.5310566\ttotal: 37.9s\tremaining: 24.7s\n",
      "605:\tlearn: 0.5310102\ttotal: 37.9s\tremaining: 24.7s\n",
      "606:\tlearn: 0.5309884\ttotal: 38s\tremaining: 24.6s\n",
      "607:\tlearn: 0.5309798\ttotal: 38s\tremaining: 24.5s\n",
      "608:\tlearn: 0.5309650\ttotal: 38.1s\tremaining: 24.4s\n",
      "609:\tlearn: 0.5308941\ttotal: 38.1s\tremaining: 24.4s\n",
      "610:\tlearn: 0.5308615\ttotal: 38.2s\tremaining: 24.3s\n",
      "611:\tlearn: 0.5308316\ttotal: 38.3s\tremaining: 24.3s\n",
      "612:\tlearn: 0.5308112\ttotal: 38.3s\tremaining: 24.2s\n",
      "613:\tlearn: 0.5307932\ttotal: 38.4s\tremaining: 24.1s\n",
      "614:\tlearn: 0.5307260\ttotal: 38.5s\tremaining: 24.1s\n",
      "615:\tlearn: 0.5307162\ttotal: 38.5s\tremaining: 24s\n",
      "616:\tlearn: 0.5306896\ttotal: 38.5s\tremaining: 23.9s\n",
      "617:\tlearn: 0.5306211\ttotal: 38.6s\tremaining: 23.9s\n",
      "618:\tlearn: 0.5305961\ttotal: 38.7s\tremaining: 23.8s\n",
      "619:\tlearn: 0.5305867\ttotal: 38.8s\tremaining: 23.8s\n",
      "620:\tlearn: 0.5305615\ttotal: 38.8s\tremaining: 23.7s\n",
      "621:\tlearn: 0.5305451\ttotal: 38.8s\tremaining: 23.6s\n",
      "622:\tlearn: 0.5305331\ttotal: 38.9s\tremaining: 23.5s\n",
      "623:\tlearn: 0.5305087\ttotal: 38.9s\tremaining: 23.5s\n",
      "624:\tlearn: 0.5305017\ttotal: 39s\tremaining: 23.4s\n",
      "625:\tlearn: 0.5304850\ttotal: 39s\tremaining: 23.3s\n",
      "626:\tlearn: 0.5304725\ttotal: 39.1s\tremaining: 23.3s\n",
      "627:\tlearn: 0.5304446\ttotal: 39.1s\tremaining: 23.2s\n",
      "628:\tlearn: 0.5303824\ttotal: 39.2s\tremaining: 23.1s\n",
      "629:\tlearn: 0.5303497\ttotal: 39.3s\tremaining: 23.1s\n",
      "630:\tlearn: 0.5303188\ttotal: 39.3s\tremaining: 23s\n",
      "631:\tlearn: 0.5302998\ttotal: 39.4s\tremaining: 22.9s\n",
      "632:\tlearn: 0.5302926\ttotal: 39.5s\tremaining: 22.9s\n",
      "633:\tlearn: 0.5302799\ttotal: 39.5s\tremaining: 22.8s\n",
      "634:\tlearn: 0.5301203\ttotal: 39.6s\tremaining: 22.8s\n",
      "635:\tlearn: 0.5301067\ttotal: 39.7s\tremaining: 22.7s\n",
      "636:\tlearn: 0.5300983\ttotal: 39.7s\tremaining: 22.6s\n",
      "637:\tlearn: 0.5300842\ttotal: 39.8s\tremaining: 22.6s\n"
     ]
    },
    {
     "name": "stdout",
     "output_type": "stream",
     "text": [
      "638:\tlearn: 0.5300705\ttotal: 39.8s\tremaining: 22.5s\n",
      "639:\tlearn: 0.5300608\ttotal: 39.9s\tremaining: 22.4s\n",
      "640:\tlearn: 0.5299766\ttotal: 39.9s\tremaining: 22.4s\n",
      "641:\tlearn: 0.5299384\ttotal: 40s\tremaining: 22.3s\n",
      "642:\tlearn: 0.5299172\ttotal: 40.1s\tremaining: 22.3s\n",
      "643:\tlearn: 0.5298995\ttotal: 40.2s\tremaining: 22.2s\n",
      "644:\tlearn: 0.5298416\ttotal: 40.2s\tremaining: 22.1s\n",
      "645:\tlearn: 0.5297811\ttotal: 40.3s\tremaining: 22.1s\n",
      "646:\tlearn: 0.5297675\ttotal: 40.4s\tremaining: 22s\n",
      "647:\tlearn: 0.5297394\ttotal: 40.5s\tremaining: 22s\n",
      "648:\tlearn: 0.5297253\ttotal: 40.5s\tremaining: 21.9s\n",
      "649:\tlearn: 0.5296637\ttotal: 40.6s\tremaining: 21.9s\n",
      "650:\tlearn: 0.5296604\ttotal: 40.7s\tremaining: 21.8s\n",
      "651:\tlearn: 0.5296283\ttotal: 40.7s\tremaining: 21.7s\n",
      "652:\tlearn: 0.5295891\ttotal: 40.8s\tremaining: 21.7s\n",
      "653:\tlearn: 0.5295774\ttotal: 40.9s\tremaining: 21.6s\n",
      "654:\tlearn: 0.5295338\ttotal: 40.9s\tremaining: 21.6s\n",
      "655:\tlearn: 0.5295161\ttotal: 41s\tremaining: 21.5s\n",
      "656:\tlearn: 0.5294848\ttotal: 41.1s\tremaining: 21.4s\n",
      "657:\tlearn: 0.5294663\ttotal: 41.1s\tremaining: 21.4s\n",
      "658:\tlearn: 0.5294330\ttotal: 41.2s\tremaining: 21.3s\n",
      "659:\tlearn: 0.5293873\ttotal: 41.3s\tremaining: 21.3s\n",
      "660:\tlearn: 0.5293504\ttotal: 41.4s\tremaining: 21.2s\n",
      "661:\tlearn: 0.5293307\ttotal: 41.4s\tremaining: 21.2s\n",
      "662:\tlearn: 0.5293016\ttotal: 41.5s\tremaining: 21.1s\n",
      "663:\tlearn: 0.5292305\ttotal: 41.6s\tremaining: 21s\n",
      "664:\tlearn: 0.5291759\ttotal: 41.7s\tremaining: 21s\n",
      "665:\tlearn: 0.5291535\ttotal: 41.7s\tremaining: 20.9s\n",
      "666:\tlearn: 0.5291495\ttotal: 41.8s\tremaining: 20.9s\n",
      "667:\tlearn: 0.5291350\ttotal: 41.9s\tremaining: 20.8s\n",
      "668:\tlearn: 0.5291048\ttotal: 42s\tremaining: 20.8s\n",
      "669:\tlearn: 0.5290577\ttotal: 42s\tremaining: 20.7s\n",
      "670:\tlearn: 0.5290322\ttotal: 42.1s\tremaining: 20.6s\n",
      "671:\tlearn: 0.5290154\ttotal: 42.2s\tremaining: 20.6s\n",
      "672:\tlearn: 0.5289990\ttotal: 42.3s\tremaining: 20.6s\n",
      "673:\tlearn: 0.5289730\ttotal: 42.4s\tremaining: 20.5s\n",
      "674:\tlearn: 0.5288692\ttotal: 42.5s\tremaining: 20.4s\n",
      "675:\tlearn: 0.5288455\ttotal: 42.6s\tremaining: 20.4s\n",
      "676:\tlearn: 0.5288269\ttotal: 42.6s\tremaining: 20.3s\n",
      "677:\tlearn: 0.5288049\ttotal: 42.7s\tremaining: 20.3s\n",
      "678:\tlearn: 0.5287907\ttotal: 42.8s\tremaining: 20.2s\n",
      "679:\tlearn: 0.5287333\ttotal: 42.9s\tremaining: 20.2s\n",
      "680:\tlearn: 0.5287128\ttotal: 42.9s\tremaining: 20.1s\n",
      "681:\tlearn: 0.5286670\ttotal: 43s\tremaining: 20.1s\n",
      "682:\tlearn: 0.5285996\ttotal: 43.1s\tremaining: 20s\n",
      "683:\tlearn: 0.5284165\ttotal: 43.2s\tremaining: 20s\n",
      "684:\tlearn: 0.5283986\ttotal: 43.3s\tremaining: 19.9s\n",
      "685:\tlearn: 0.5283803\ttotal: 43.4s\tremaining: 19.8s\n",
      "686:\tlearn: 0.5283350\ttotal: 43.4s\tremaining: 19.8s\n",
      "687:\tlearn: 0.5283239\ttotal: 43.5s\tremaining: 19.7s\n",
      "688:\tlearn: 0.5283018\ttotal: 43.6s\tremaining: 19.7s\n",
      "689:\tlearn: 0.5282222\ttotal: 43.7s\tremaining: 19.6s\n",
      "690:\tlearn: 0.5281886\ttotal: 43.7s\tremaining: 19.6s\n",
      "691:\tlearn: 0.5281740\ttotal: 43.8s\tremaining: 19.5s\n",
      "692:\tlearn: 0.5281285\ttotal: 43.9s\tremaining: 19.4s\n",
      "693:\tlearn: 0.5281196\ttotal: 43.9s\tremaining: 19.4s\n",
      "694:\tlearn: 0.5280871\ttotal: 44s\tremaining: 19.3s\n",
      "695:\tlearn: 0.5280823\ttotal: 44.1s\tremaining: 19.3s\n",
      "696:\tlearn: 0.5280603\ttotal: 44.2s\tremaining: 19.2s\n",
      "697:\tlearn: 0.5280290\ttotal: 44.2s\tremaining: 19.1s\n",
      "698:\tlearn: 0.5280118\ttotal: 44.3s\tremaining: 19.1s\n",
      "699:\tlearn: 0.5280064\ttotal: 44.4s\tremaining: 19s\n",
      "700:\tlearn: 0.5279741\ttotal: 44.4s\tremaining: 19s\n",
      "701:\tlearn: 0.5279448\ttotal: 44.5s\tremaining: 18.9s\n",
      "702:\tlearn: 0.5279370\ttotal: 44.6s\tremaining: 18.8s\n",
      "703:\tlearn: 0.5279150\ttotal: 44.7s\tremaining: 18.8s\n",
      "704:\tlearn: 0.5279011\ttotal: 44.7s\tremaining: 18.7s\n",
      "705:\tlearn: 0.5278757\ttotal: 44.8s\tremaining: 18.6s\n",
      "706:\tlearn: 0.5278453\ttotal: 44.8s\tremaining: 18.6s\n",
      "707:\tlearn: 0.5278281\ttotal: 44.9s\tremaining: 18.5s\n",
      "708:\tlearn: 0.5278211\ttotal: 45s\tremaining: 18.5s\n",
      "709:\tlearn: 0.5277931\ttotal: 45.1s\tremaining: 18.4s\n",
      "710:\tlearn: 0.5277874\ttotal: 45.2s\tremaining: 18.4s\n",
      "711:\tlearn: 0.5277445\ttotal: 45.2s\tremaining: 18.3s\n",
      "712:\tlearn: 0.5277272\ttotal: 45.3s\tremaining: 18.2s\n",
      "713:\tlearn: 0.5276936\ttotal: 45.4s\tremaining: 18.2s\n",
      "714:\tlearn: 0.5276924\ttotal: 45.5s\tremaining: 18.1s\n",
      "715:\tlearn: 0.5276820\ttotal: 45.5s\tremaining: 18s\n",
      "716:\tlearn: 0.5276477\ttotal: 45.6s\tremaining: 18s\n",
      "717:\tlearn: 0.5275571\ttotal: 45.7s\tremaining: 17.9s\n",
      "718:\tlearn: 0.5275436\ttotal: 45.7s\tremaining: 17.9s\n",
      "719:\tlearn: 0.5274801\ttotal: 45.8s\tremaining: 17.8s\n",
      "720:\tlearn: 0.5274542\ttotal: 45.9s\tremaining: 17.8s\n",
      "721:\tlearn: 0.5274284\ttotal: 46s\tremaining: 17.7s\n",
      "722:\tlearn: 0.5274253\ttotal: 46s\tremaining: 17.6s\n",
      "723:\tlearn: 0.5273655\ttotal: 46.1s\tremaining: 17.6s\n",
      "724:\tlearn: 0.5273273\ttotal: 46.2s\tremaining: 17.5s\n",
      "725:\tlearn: 0.5273038\ttotal: 46.3s\tremaining: 17.5s\n",
      "726:\tlearn: 0.5272755\ttotal: 46.3s\tremaining: 17.4s\n",
      "727:\tlearn: 0.5272464\ttotal: 46.4s\tremaining: 17.3s\n",
      "728:\tlearn: 0.5272185\ttotal: 46.5s\tremaining: 17.3s\n",
      "729:\tlearn: 0.5271916\ttotal: 46.6s\tremaining: 17.2s\n",
      "730:\tlearn: 0.5271750\ttotal: 46.6s\tremaining: 17.2s\n",
      "731:\tlearn: 0.5271601\ttotal: 46.7s\tremaining: 17.1s\n",
      "732:\tlearn: 0.5270954\ttotal: 46.7s\tremaining: 17s\n",
      "733:\tlearn: 0.5270885\ttotal: 46.8s\tremaining: 17s\n",
      "734:\tlearn: 0.5270565\ttotal: 46.8s\tremaining: 16.9s\n",
      "735:\tlearn: 0.5270392\ttotal: 46.9s\tremaining: 16.8s\n",
      "736:\tlearn: 0.5270165\ttotal: 47s\tremaining: 16.8s\n",
      "737:\tlearn: 0.5270034\ttotal: 47s\tremaining: 16.7s\n",
      "738:\tlearn: 0.5269358\ttotal: 47.1s\tremaining: 16.6s\n",
      "739:\tlearn: 0.5269151\ttotal: 47.1s\tremaining: 16.6s\n",
      "740:\tlearn: 0.5268841\ttotal: 47.2s\tremaining: 16.5s\n",
      "741:\tlearn: 0.5268588\ttotal: 47.3s\tremaining: 16.4s\n",
      "742:\tlearn: 0.5268318\ttotal: 47.3s\tremaining: 16.4s\n",
      "743:\tlearn: 0.5268154\ttotal: 47.4s\tremaining: 16.3s\n",
      "744:\tlearn: 0.5268078\ttotal: 47.4s\tremaining: 16.2s\n",
      "745:\tlearn: 0.5267553\ttotal: 47.5s\tremaining: 16.2s\n",
      "746:\tlearn: 0.5267060\ttotal: 47.6s\tremaining: 16.1s\n",
      "747:\tlearn: 0.5266962\ttotal: 47.6s\tremaining: 16s\n",
      "748:\tlearn: 0.5266321\ttotal: 47.7s\tremaining: 16s\n",
      "749:\tlearn: 0.5266025\ttotal: 47.7s\tremaining: 15.9s\n",
      "750:\tlearn: 0.5265563\ttotal: 47.8s\tremaining: 15.9s\n",
      "751:\tlearn: 0.5265547\ttotal: 47.9s\tremaining: 15.8s\n",
      "752:\tlearn: 0.5264835\ttotal: 47.9s\tremaining: 15.7s\n",
      "753:\tlearn: 0.5264291\ttotal: 48s\tremaining: 15.7s\n",
      "754:\tlearn: 0.5264172\ttotal: 48.1s\tremaining: 15.6s\n",
      "755:\tlearn: 0.5264035\ttotal: 48.1s\tremaining: 15.5s\n",
      "756:\tlearn: 0.5263908\ttotal: 48.2s\tremaining: 15.5s\n",
      "757:\tlearn: 0.5263663\ttotal: 48.3s\tremaining: 15.4s\n",
      "758:\tlearn: 0.5263523\ttotal: 48.3s\tremaining: 15.3s\n",
      "759:\tlearn: 0.5263314\ttotal: 48.4s\tremaining: 15.3s\n",
      "760:\tlearn: 0.5263159\ttotal: 48.5s\tremaining: 15.2s\n",
      "761:\tlearn: 0.5262513\ttotal: 48.6s\tremaining: 15.2s\n",
      "762:\tlearn: 0.5262159\ttotal: 48.6s\tremaining: 15.1s\n",
      "763:\tlearn: 0.5262009\ttotal: 48.7s\tremaining: 15s\n",
      "764:\tlearn: 0.5261735\ttotal: 48.8s\tremaining: 15s\n",
      "765:\tlearn: 0.5261575\ttotal: 48.9s\tremaining: 14.9s\n",
      "766:\tlearn: 0.5261483\ttotal: 48.9s\tremaining: 14.9s\n",
      "767:\tlearn: 0.5261191\ttotal: 49s\tremaining: 14.8s\n",
      "768:\tlearn: 0.5261148\ttotal: 49s\tremaining: 14.7s\n",
      "769:\tlearn: 0.5260604\ttotal: 49.1s\tremaining: 14.7s\n",
      "770:\tlearn: 0.5260001\ttotal: 49.1s\tremaining: 14.6s\n",
      "771:\tlearn: 0.5259868\ttotal: 49.2s\tremaining: 14.5s\n",
      "772:\tlearn: 0.5259561\ttotal: 49.2s\tremaining: 14.5s\n",
      "773:\tlearn: 0.5259349\ttotal: 49.3s\tremaining: 14.4s\n",
      "774:\tlearn: 0.5259195\ttotal: 49.4s\tremaining: 14.3s\n",
      "775:\tlearn: 0.5259004\ttotal: 49.4s\tremaining: 14.3s\n",
      "776:\tlearn: 0.5258175\ttotal: 49.5s\tremaining: 14.2s\n",
      "777:\tlearn: 0.5258005\ttotal: 49.6s\tremaining: 14.1s\n",
      "778:\tlearn: 0.5257143\ttotal: 49.6s\tremaining: 14.1s\n",
      "779:\tlearn: 0.5256565\ttotal: 49.7s\tremaining: 14s\n",
      "780:\tlearn: 0.5256431\ttotal: 49.8s\tremaining: 14s\n",
      "781:\tlearn: 0.5255957\ttotal: 49.8s\tremaining: 13.9s\n",
      "782:\tlearn: 0.5255932\ttotal: 49.9s\tremaining: 13.8s\n",
      "783:\tlearn: 0.5255809\ttotal: 50s\tremaining: 13.8s\n",
      "784:\tlearn: 0.5255564\ttotal: 50s\tremaining: 13.7s\n",
      "785:\tlearn: 0.5255276\ttotal: 50.1s\tremaining: 13.6s\n",
      "786:\tlearn: 0.5255117\ttotal: 50.2s\tremaining: 13.6s\n",
      "787:\tlearn: 0.5254995\ttotal: 50.2s\tremaining: 13.5s\n",
      "788:\tlearn: 0.5254899\ttotal: 50.3s\tremaining: 13.5s\n",
      "789:\tlearn: 0.5254549\ttotal: 50.4s\tremaining: 13.4s\n",
      "790:\tlearn: 0.5254239\ttotal: 50.4s\tremaining: 13.3s\n",
      "791:\tlearn: 0.5254167\ttotal: 50.5s\tremaining: 13.3s\n",
      "792:\tlearn: 0.5253482\ttotal: 50.6s\tremaining: 13.2s\n",
      "793:\tlearn: 0.5253239\ttotal: 50.6s\tremaining: 13.1s\n",
      "794:\tlearn: 0.5253187\ttotal: 50.7s\tremaining: 13.1s\n",
      "795:\tlearn: 0.5253057\ttotal: 50.7s\tremaining: 13s\n",
      "796:\tlearn: 0.5252933\ttotal: 50.8s\tremaining: 12.9s\n"
     ]
    },
    {
     "name": "stdout",
     "output_type": "stream",
     "text": [
      "797:\tlearn: 0.5252738\ttotal: 50.8s\tremaining: 12.9s\n",
      "798:\tlearn: 0.5252483\ttotal: 50.9s\tremaining: 12.8s\n",
      "799:\tlearn: 0.5251755\ttotal: 51s\tremaining: 12.7s\n",
      "800:\tlearn: 0.5251639\ttotal: 51.1s\tremaining: 12.7s\n",
      "801:\tlearn: 0.5251621\ttotal: 51.1s\tremaining: 12.6s\n",
      "802:\tlearn: 0.5251283\ttotal: 51.2s\tremaining: 12.6s\n",
      "803:\tlearn: 0.5251216\ttotal: 51.3s\tremaining: 12.5s\n",
      "804:\tlearn: 0.5250805\ttotal: 51.3s\tremaining: 12.4s\n",
      "805:\tlearn: 0.5250780\ttotal: 51.4s\tremaining: 12.4s\n",
      "806:\tlearn: 0.5250062\ttotal: 51.5s\tremaining: 12.3s\n",
      "807:\tlearn: 0.5249996\ttotal: 51.5s\tremaining: 12.2s\n",
      "808:\tlearn: 0.5249462\ttotal: 51.6s\tremaining: 12.2s\n",
      "809:\tlearn: 0.5249389\ttotal: 51.7s\tremaining: 12.1s\n",
      "810:\tlearn: 0.5248961\ttotal: 51.8s\tremaining: 12.1s\n",
      "811:\tlearn: 0.5248866\ttotal: 51.9s\tremaining: 12s\n",
      "812:\tlearn: 0.5248329\ttotal: 51.9s\tremaining: 11.9s\n",
      "813:\tlearn: 0.5248105\ttotal: 52s\tremaining: 11.9s\n",
      "814:\tlearn: 0.5247867\ttotal: 52.1s\tremaining: 11.8s\n",
      "815:\tlearn: 0.5245422\ttotal: 52.2s\tremaining: 11.8s\n",
      "816:\tlearn: 0.5244956\ttotal: 52.3s\tremaining: 11.7s\n",
      "817:\tlearn: 0.5244839\ttotal: 52.3s\tremaining: 11.6s\n",
      "818:\tlearn: 0.5244143\ttotal: 52.4s\tremaining: 11.6s\n",
      "819:\tlearn: 0.5243450\ttotal: 52.5s\tremaining: 11.5s\n",
      "820:\tlearn: 0.5243112\ttotal: 52.6s\tremaining: 11.5s\n",
      "821:\tlearn: 0.5242807\ttotal: 52.6s\tremaining: 11.4s\n",
      "822:\tlearn: 0.5242049\ttotal: 52.7s\tremaining: 11.3s\n",
      "823:\tlearn: 0.5241565\ttotal: 52.8s\tremaining: 11.3s\n",
      "824:\tlearn: 0.5241409\ttotal: 52.8s\tremaining: 11.2s\n",
      "825:\tlearn: 0.5240535\ttotal: 52.9s\tremaining: 11.1s\n",
      "826:\tlearn: 0.5240019\ttotal: 53s\tremaining: 11.1s\n",
      "827:\tlearn: 0.5239899\ttotal: 53s\tremaining: 11s\n",
      "828:\tlearn: 0.5239800\ttotal: 53.1s\tremaining: 10.9s\n",
      "829:\tlearn: 0.5239223\ttotal: 53.1s\tremaining: 10.9s\n",
      "830:\tlearn: 0.5238662\ttotal: 53.2s\tremaining: 10.8s\n",
      "831:\tlearn: 0.5238363\ttotal: 53.3s\tremaining: 10.8s\n",
      "832:\tlearn: 0.5238190\ttotal: 53.4s\tremaining: 10.7s\n",
      "833:\tlearn: 0.5238032\ttotal: 53.4s\tremaining: 10.6s\n",
      "834:\tlearn: 0.5237826\ttotal: 53.5s\tremaining: 10.6s\n",
      "835:\tlearn: 0.5237496\ttotal: 53.5s\tremaining: 10.5s\n",
      "836:\tlearn: 0.5237213\ttotal: 53.6s\tremaining: 10.4s\n",
      "837:\tlearn: 0.5236452\ttotal: 53.7s\tremaining: 10.4s\n",
      "838:\tlearn: 0.5236352\ttotal: 53.7s\tremaining: 10.3s\n",
      "839:\tlearn: 0.5236152\ttotal: 53.8s\tremaining: 10.2s\n",
      "840:\tlearn: 0.5235952\ttotal: 53.9s\tremaining: 10.2s\n",
      "841:\tlearn: 0.5235808\ttotal: 53.9s\tremaining: 10.1s\n",
      "842:\tlearn: 0.5235363\ttotal: 54s\tremaining: 10.1s\n",
      "843:\tlearn: 0.5235081\ttotal: 54.1s\tremaining: 9.99s\n",
      "844:\tlearn: 0.5234349\ttotal: 54.1s\tremaining: 9.93s\n",
      "845:\tlearn: 0.5234100\ttotal: 54.2s\tremaining: 9.87s\n",
      "846:\tlearn: 0.5233925\ttotal: 54.3s\tremaining: 9.8s\n",
      "847:\tlearn: 0.5233675\ttotal: 54.3s\tremaining: 9.74s\n",
      "848:\tlearn: 0.5233447\ttotal: 54.4s\tremaining: 9.67s\n",
      "849:\tlearn: 0.5233349\ttotal: 54.5s\tremaining: 9.61s\n",
      "850:\tlearn: 0.5233238\ttotal: 54.6s\tremaining: 9.55s\n",
      "851:\tlearn: 0.5232881\ttotal: 54.7s\tremaining: 9.49s\n",
      "852:\tlearn: 0.5232518\ttotal: 54.7s\tremaining: 9.43s\n",
      "853:\tlearn: 0.5231923\ttotal: 54.8s\tremaining: 9.37s\n",
      "854:\tlearn: 0.5231635\ttotal: 54.8s\tremaining: 9.3s\n",
      "855:\tlearn: 0.5231413\ttotal: 54.9s\tremaining: 9.23s\n",
      "856:\tlearn: 0.5231301\ttotal: 55s\tremaining: 9.17s\n",
      "857:\tlearn: 0.5231118\ttotal: 55s\tremaining: 9.11s\n",
      "858:\tlearn: 0.5230732\ttotal: 55.1s\tremaining: 9.05s\n",
      "859:\tlearn: 0.5230196\ttotal: 55.2s\tremaining: 8.99s\n",
      "860:\tlearn: 0.5229968\ttotal: 55.3s\tremaining: 8.92s\n",
      "861:\tlearn: 0.5229895\ttotal: 55.3s\tremaining: 8.86s\n",
      "862:\tlearn: 0.5229237\ttotal: 55.4s\tremaining: 8.8s\n",
      "863:\tlearn: 0.5229101\ttotal: 55.5s\tremaining: 8.73s\n",
      "864:\tlearn: 0.5228850\ttotal: 55.6s\tremaining: 8.67s\n",
      "865:\tlearn: 0.5228585\ttotal: 55.7s\tremaining: 8.61s\n",
      "866:\tlearn: 0.5228513\ttotal: 55.8s\tremaining: 8.55s\n",
      "867:\tlearn: 0.5228316\ttotal: 55.8s\tremaining: 8.49s\n",
      "868:\tlearn: 0.5228210\ttotal: 55.9s\tremaining: 8.42s\n",
      "869:\tlearn: 0.5227438\ttotal: 56s\tremaining: 8.36s\n",
      "870:\tlearn: 0.5227208\ttotal: 56s\tremaining: 8.3s\n",
      "871:\tlearn: 0.5226562\ttotal: 56.1s\tremaining: 8.23s\n",
      "872:\tlearn: 0.5225741\ttotal: 56.2s\tremaining: 8.17s\n",
      "873:\tlearn: 0.5225291\ttotal: 56.2s\tremaining: 8.1s\n",
      "874:\tlearn: 0.5225085\ttotal: 56.3s\tremaining: 8.04s\n",
      "875:\tlearn: 0.5224873\ttotal: 56.3s\tremaining: 7.97s\n",
      "876:\tlearn: 0.5224784\ttotal: 56.4s\tremaining: 7.91s\n",
      "877:\tlearn: 0.5224062\ttotal: 56.5s\tremaining: 7.85s\n",
      "878:\tlearn: 0.5223624\ttotal: 56.5s\tremaining: 7.78s\n",
      "879:\tlearn: 0.5222958\ttotal: 56.6s\tremaining: 7.72s\n",
      "880:\tlearn: 0.5222860\ttotal: 56.6s\tremaining: 7.65s\n",
      "881:\tlearn: 0.5222635\ttotal: 56.7s\tremaining: 7.59s\n",
      "882:\tlearn: 0.5222429\ttotal: 56.8s\tremaining: 7.53s\n",
      "883:\tlearn: 0.5221861\ttotal: 56.9s\tremaining: 7.46s\n",
      "884:\tlearn: 0.5221651\ttotal: 56.9s\tremaining: 7.4s\n",
      "885:\tlearn: 0.5220983\ttotal: 57s\tremaining: 7.33s\n",
      "886:\tlearn: 0.5220851\ttotal: 57.1s\tremaining: 7.27s\n",
      "887:\tlearn: 0.5220642\ttotal: 57.1s\tremaining: 7.2s\n",
      "888:\tlearn: 0.5220553\ttotal: 57.2s\tremaining: 7.14s\n",
      "889:\tlearn: 0.5220259\ttotal: 57.2s\tremaining: 7.08s\n",
      "890:\tlearn: 0.5220058\ttotal: 57.3s\tremaining: 7.01s\n",
      "891:\tlearn: 0.5219644\ttotal: 57.4s\tremaining: 6.95s\n",
      "892:\tlearn: 0.5219427\ttotal: 57.5s\tremaining: 6.89s\n",
      "893:\tlearn: 0.5219067\ttotal: 57.6s\tremaining: 6.82s\n",
      "894:\tlearn: 0.5219029\ttotal: 57.6s\tremaining: 6.76s\n",
      "895:\tlearn: 0.5218697\ttotal: 57.7s\tremaining: 6.69s\n",
      "896:\tlearn: 0.5218484\ttotal: 57.7s\tremaining: 6.63s\n",
      "897:\tlearn: 0.5218195\ttotal: 57.8s\tremaining: 6.56s\n",
      "898:\tlearn: 0.5217722\ttotal: 57.8s\tremaining: 6.5s\n",
      "899:\tlearn: 0.5217576\ttotal: 57.9s\tremaining: 6.43s\n",
      "900:\tlearn: 0.5217533\ttotal: 58s\tremaining: 6.37s\n",
      "901:\tlearn: 0.5217143\ttotal: 58.1s\tremaining: 6.31s\n",
      "902:\tlearn: 0.5216917\ttotal: 58.2s\tremaining: 6.25s\n",
      "903:\tlearn: 0.5216754\ttotal: 58.2s\tremaining: 6.18s\n",
      "904:\tlearn: 0.5216600\ttotal: 58.3s\tremaining: 6.12s\n",
      "905:\tlearn: 0.5216550\ttotal: 58.3s\tremaining: 6.05s\n",
      "906:\tlearn: 0.5216151\ttotal: 58.4s\tremaining: 5.99s\n",
      "907:\tlearn: 0.5215444\ttotal: 58.5s\tremaining: 5.92s\n",
      "908:\tlearn: 0.5215335\ttotal: 58.5s\tremaining: 5.86s\n",
      "909:\tlearn: 0.5214812\ttotal: 58.6s\tremaining: 5.79s\n",
      "910:\tlearn: 0.5214098\ttotal: 58.7s\tremaining: 5.73s\n",
      "911:\tlearn: 0.5213739\ttotal: 58.8s\tremaining: 5.67s\n",
      "912:\tlearn: 0.5213631\ttotal: 58.8s\tremaining: 5.61s\n",
      "913:\tlearn: 0.5213459\ttotal: 58.9s\tremaining: 5.54s\n",
      "914:\tlearn: 0.5213297\ttotal: 59s\tremaining: 5.48s\n",
      "915:\tlearn: 0.5212988\ttotal: 59s\tremaining: 5.41s\n",
      "916:\tlearn: 0.5212857\ttotal: 59.1s\tremaining: 5.35s\n",
      "917:\tlearn: 0.5212741\ttotal: 59.2s\tremaining: 5.29s\n",
      "918:\tlearn: 0.5212554\ttotal: 59.2s\tremaining: 5.22s\n",
      "919:\tlearn: 0.5212451\ttotal: 59.3s\tremaining: 5.16s\n",
      "920:\tlearn: 0.5212290\ttotal: 59.4s\tremaining: 5.09s\n",
      "921:\tlearn: 0.5212072\ttotal: 59.4s\tremaining: 5.03s\n",
      "922:\tlearn: 0.5211901\ttotal: 59.5s\tremaining: 4.96s\n",
      "923:\tlearn: 0.5211370\ttotal: 59.6s\tremaining: 4.9s\n",
      "924:\tlearn: 0.5211084\ttotal: 59.6s\tremaining: 4.83s\n",
      "925:\tlearn: 0.5210850\ttotal: 59.7s\tremaining: 4.77s\n",
      "926:\tlearn: 0.5210568\ttotal: 59.7s\tremaining: 4.7s\n",
      "927:\tlearn: 0.5209834\ttotal: 59.8s\tremaining: 4.64s\n",
      "928:\tlearn: 0.5209685\ttotal: 59.9s\tremaining: 4.57s\n",
      "929:\tlearn: 0.5209583\ttotal: 59.9s\tremaining: 4.51s\n",
      "930:\tlearn: 0.5209190\ttotal: 60s\tremaining: 4.44s\n",
      "931:\tlearn: 0.5208730\ttotal: 1m\tremaining: 4.38s\n",
      "932:\tlearn: 0.5208434\ttotal: 1m\tremaining: 4.31s\n",
      "933:\tlearn: 0.5207568\ttotal: 1m\tremaining: 4.25s\n",
      "934:\tlearn: 0.5207444\ttotal: 1m\tremaining: 4.18s\n",
      "935:\tlearn: 0.5207393\ttotal: 1m\tremaining: 4.12s\n",
      "936:\tlearn: 0.5206213\ttotal: 1m\tremaining: 4.06s\n",
      "937:\tlearn: 0.5206057\ttotal: 1m\tremaining: 3.99s\n",
      "938:\tlearn: 0.5204783\ttotal: 1m\tremaining: 3.93s\n",
      "939:\tlearn: 0.5204463\ttotal: 1m\tremaining: 3.86s\n",
      "940:\tlearn: 0.5204172\ttotal: 1m\tremaining: 3.8s\n",
      "941:\tlearn: 0.5203894\ttotal: 1m\tremaining: 3.74s\n",
      "942:\tlearn: 0.5203702\ttotal: 1m\tremaining: 3.67s\n",
      "943:\tlearn: 0.5203507\ttotal: 1m\tremaining: 3.61s\n",
      "944:\tlearn: 0.5203418\ttotal: 1m\tremaining: 3.54s\n",
      "945:\tlearn: 0.5203297\ttotal: 1m\tremaining: 3.48s\n",
      "946:\tlearn: 0.5202629\ttotal: 1m\tremaining: 3.41s\n",
      "947:\tlearn: 0.5202523\ttotal: 1m 1s\tremaining: 3.35s\n",
      "948:\tlearn: 0.5202290\ttotal: 1m 1s\tremaining: 3.28s\n",
      "949:\tlearn: 0.5202020\ttotal: 1m 1s\tremaining: 3.22s\n",
      "950:\tlearn: 0.5201663\ttotal: 1m 1s\tremaining: 3.15s\n",
      "951:\tlearn: 0.5201601\ttotal: 1m 1s\tremaining: 3.09s\n",
      "952:\tlearn: 0.5201162\ttotal: 1m 1s\tremaining: 3.02s\n",
      "953:\tlearn: 0.5200998\ttotal: 1m 1s\tremaining: 2.96s\n",
      "954:\tlearn: 0.5200952\ttotal: 1m 1s\tremaining: 2.9s\n",
      "955:\tlearn: 0.5199862\ttotal: 1m 1s\tremaining: 2.83s\n",
      "956:\tlearn: 0.5199691\ttotal: 1m 1s\tremaining: 2.77s\n"
     ]
    },
    {
     "name": "stdout",
     "output_type": "stream",
     "text": [
      "957:\tlearn: 0.5199598\ttotal: 1m 1s\tremaining: 2.7s\n",
      "958:\tlearn: 0.5199355\ttotal: 1m 1s\tremaining: 2.64s\n",
      "959:\tlearn: 0.5198697\ttotal: 1m 1s\tremaining: 2.58s\n",
      "960:\tlearn: 0.5198494\ttotal: 1m 1s\tremaining: 2.51s\n",
      "961:\tlearn: 0.5198246\ttotal: 1m 2s\tremaining: 2.45s\n",
      "962:\tlearn: 0.5197884\ttotal: 1m 2s\tremaining: 2.38s\n",
      "963:\tlearn: 0.5197694\ttotal: 1m 2s\tremaining: 2.32s\n",
      "964:\tlearn: 0.5197424\ttotal: 1m 2s\tremaining: 2.25s\n",
      "965:\tlearn: 0.5197103\ttotal: 1m 2s\tremaining: 2.19s\n",
      "966:\tlearn: 0.5196552\ttotal: 1m 2s\tremaining: 2.13s\n",
      "967:\tlearn: 0.5195499\ttotal: 1m 2s\tremaining: 2.06s\n",
      "968:\tlearn: 0.5195185\ttotal: 1m 2s\tremaining: 2s\n",
      "969:\tlearn: 0.5194727\ttotal: 1m 2s\tremaining: 1.94s\n",
      "970:\tlearn: 0.5194436\ttotal: 1m 2s\tremaining: 1.87s\n",
      "971:\tlearn: 0.5194141\ttotal: 1m 2s\tremaining: 1.8s\n",
      "972:\tlearn: 0.5193860\ttotal: 1m 2s\tremaining: 1.74s\n",
      "973:\tlearn: 0.5193351\ttotal: 1m 2s\tremaining: 1.68s\n",
      "974:\tlearn: 0.5193293\ttotal: 1m 2s\tremaining: 1.61s\n",
      "975:\tlearn: 0.5193131\ttotal: 1m 2s\tremaining: 1.55s\n",
      "976:\tlearn: 0.5192938\ttotal: 1m 3s\tremaining: 1.48s\n",
      "977:\tlearn: 0.5192824\ttotal: 1m 3s\tremaining: 1.42s\n",
      "978:\tlearn: 0.5192471\ttotal: 1m 3s\tremaining: 1.35s\n",
      "979:\tlearn: 0.5192066\ttotal: 1m 3s\tremaining: 1.29s\n",
      "980:\tlearn: 0.5191835\ttotal: 1m 3s\tremaining: 1.23s\n",
      "981:\tlearn: 0.5191749\ttotal: 1m 3s\tremaining: 1.16s\n",
      "982:\tlearn: 0.5191432\ttotal: 1m 3s\tremaining: 1.1s\n",
      "983:\tlearn: 0.5191228\ttotal: 1m 3s\tremaining: 1.03s\n",
      "984:\tlearn: 0.5191126\ttotal: 1m 3s\tremaining: 969ms\n",
      "985:\tlearn: 0.5190418\ttotal: 1m 3s\tremaining: 904ms\n",
      "986:\tlearn: 0.5190334\ttotal: 1m 3s\tremaining: 839ms\n",
      "987:\tlearn: 0.5190239\ttotal: 1m 3s\tremaining: 775ms\n",
      "988:\tlearn: 0.5189980\ttotal: 1m 3s\tremaining: 710ms\n",
      "989:\tlearn: 0.5189777\ttotal: 1m 3s\tremaining: 646ms\n",
      "990:\tlearn: 0.5189526\ttotal: 1m 3s\tremaining: 581ms\n",
      "991:\tlearn: 0.5189195\ttotal: 1m 4s\tremaining: 516ms\n",
      "992:\tlearn: 0.5189016\ttotal: 1m 4s\tremaining: 452ms\n",
      "993:\tlearn: 0.5188844\ttotal: 1m 4s\tremaining: 387ms\n",
      "994:\tlearn: 0.5188602\ttotal: 1m 4s\tremaining: 323ms\n",
      "995:\tlearn: 0.5188522\ttotal: 1m 4s\tremaining: 258ms\n",
      "996:\tlearn: 0.5188340\ttotal: 1m 4s\tremaining: 194ms\n",
      "997:\tlearn: 0.5187981\ttotal: 1m 4s\tremaining: 129ms\n",
      "998:\tlearn: 0.5187634\ttotal: 1m 4s\tremaining: 64.5ms\n",
      "999:\tlearn: 0.5187518\ttotal: 1m 4s\tremaining: 0us\n"
     ]
    },
    {
     "data": {
      "text/plain": [
       "<catboost.core.CatBoostClassifier at 0x1dcff875c88>"
      ]
     },
     "execution_count": 185,
     "metadata": {},
     "output_type": "execute_result"
    }
   ],
   "source": [
    "model = catboost.CatBoostClassifier()\n",
    "model.fit(X_train_content, y_train_content, cat_features)"
   ]
  },
  {
   "cell_type": "code",
   "execution_count": 197,
   "metadata": {},
   "outputs": [
    {
     "data": {
      "application/vnd.jupyter.widget-view+json": {
       "model_id": "68fb688a924148d2ba1210b17a378c13",
       "version_major": 2,
       "version_minor": 0
      },
      "text/plain": [
       "HBox(children=(IntProgress(value=0, max=1000), HTML(value='')))"
      ]
     },
     "metadata": {},
     "output_type": "display_data"
    },
    {
     "name": "stdout",
     "output_type": "stream",
     "text": [
      "\n"
     ]
    }
   ],
   "source": [
    "predictions = model.predict_proba(data_test_content[data_train_content.columns[features_start:]])[:, 1]\n",
    "data_test_content['predictions'] = predictions\n",
    "\n",
    "data_test_content = data_test_content.sort_values('predictions', ascending=False)\n",
    "predictions = data_test_content.groupby('client_id')['product_category'].agg(list)\n",
    "tmp_predictions = []\n",
    "\n",
    "for client_id in tqdm_notebook(data_true.index):\n",
    "    prediction = np.array(predictions[int(client_id) - 1])\n",
    "    \n",
    "    tmp_predictions.append(\n",
    "        list(prediction)[:top_k]) #***\n",
    "    \n",
    "data_true['prediction_content'] = tmp_predictions"
   ]
  },
  {
   "cell_type": "code",
   "execution_count": 198,
   "metadata": {},
   "outputs": [
    {
     "name": "stdout",
     "output_type": "stream",
     "text": [
      "Precision@1: 0.12\n",
      "Recall@1: 0.12\n",
      "F-score@1: 0.12\n"
     ]
    }
   ],
   "source": [
    "print(f'Precision@1: {calc_precision(\"prediction_content\")}')\n",
    "print(f'Recall@1: {calc_recall(\"prediction_content\")}')\n",
    "print(f'F-score@1: {calc_fscore_precision(\"prediction_content\")}')"
   ]
  },
  {
   "cell_type": "code",
   "execution_count": null,
   "metadata": {},
   "outputs": [],
   "source": []
  }
 ],
 "metadata": {
  "kernelspec": {
   "display_name": "Python 3",
   "language": "python",
   "name": "python3"
  },
  "language_info": {
   "codemirror_mode": {
    "name": "ipython",
    "version": 3
   },
   "file_extension": ".py",
   "mimetype": "text/x-python",
   "name": "python",
   "nbconvert_exporter": "python",
   "pygments_lexer": "ipython3",
   "version": "3.7.4"
  }
 },
 "nbformat": 4,
 "nbformat_minor": 2
}
