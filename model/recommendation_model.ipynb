{
 "cells": [
  {
   "cell_type": "code",
   "execution_count": 1,
   "metadata": {},
   "outputs": [],
   "source": [
    "import pandas as pd\n",
    "import matplotlib.pyplot as plt\n",
    "import seaborn as sns\n",
    "import numpy as np\n",
    "from tqdm import tqdm_notebook\n",
    "from scipy.linalg import svd\n",
    "import catboost\n",
    "from sklearn.ensemble import RandomForestClassifier\n",
    "\n",
    "%matplotlib inline"
   ]
  },
  {
   "cell_type": "markdown",
   "metadata": {},
   "source": [
    "### Содержание"
   ]
  },
  {
   "cell_type": "markdown",
   "metadata": {},
   "source": [
    "1. Понимание данных\n",
    "2. Подготовка данных  \n",
    "    2.1. \"Схлопывание\" повторяющихся действий пользователей  \n",
    "    2.2. Фильтрация неактивных пользователей  \n",
    "    2.3. Масштабирование данных  \n",
    "    2.4. Разбиение выборки на тренировочную и тестовую\n",
    "3. Моделирование и оценка  \n",
    "    3.1. Метрики качества  \n",
    "    3.2. Модель по полуярности (baseline)  \n",
    "    3.3. Коллаборативная фильтрация  \n",
    "        3.3.1. Memory-dased (user-based)  \n",
    "        3.3.2. Latent Factor Model  \n",
    "    3.4. Контентная модель  \n",
    "        3.4.1. Предобработка данных и работа с признаками  \n",
    "        3.4.2. RandomForestClassifier  \n",
    "        3.4.3. CatBoostClassifier  \n",
    "    3.5. Сравнение memory-based и LFM моделей"
   ]
  },
  {
   "cell_type": "markdown",
   "metadata": {},
   "source": [
    "## 1. Понимание данных"
   ]
  },
  {
   "cell_type": "code",
   "execution_count": 2,
   "metadata": {},
   "outputs": [],
   "source": [
    "path_transactions = r\"C:\\Users\\kiril\\OneDrive\\Рабочий стол\\Вышка\\КР-ВКР\\Курсовая\\3 курс\\RecommendationSystem\\model\\data\\transactions.csv\"\n",
    "path_clients = r\"C:\\Users\\kiril\\OneDrive\\Рабочий стол\\Вышка\\КР-ВКР\\Курсовая\\3 курс\\RecommendationSystem\\model\\data\\clients.csv\"\n",
    "path_categories = r\"C:\\Users\\kiril\\OneDrive\\Рабочий стол\\Вышка\\КР-ВКР\\Курсовая\\3 курс\\RecommendationSystem\\model\\data\\categories.csv\"\n",
    "path_subscriptions = r\"C:\\Users\\kiril\\OneDrive\\Рабочий стол\\Вышка\\КР-ВКР\\Курсовая\\3 курс\\RecommendationSystem\\model\\data\\subscriptions.csv\""
   ]
  },
  {
   "cell_type": "markdown",
   "metadata": {},
   "source": [
    "### subscriptions"
   ]
  },
  {
   "cell_type": "code",
   "execution_count": 3,
   "metadata": {},
   "outputs": [
    {
     "data": {
      "text/html": [
       "<div>\n",
       "<style scoped>\n",
       "    .dataframe tbody tr th:only-of-type {\n",
       "        vertical-align: middle;\n",
       "    }\n",
       "\n",
       "    .dataframe tbody tr th {\n",
       "        vertical-align: top;\n",
       "    }\n",
       "\n",
       "    .dataframe thead th {\n",
       "        text-align: right;\n",
       "    }\n",
       "</style>\n",
       "<table border=\"1\" class=\"dataframe\">\n",
       "  <thead>\n",
       "    <tr style=\"text-align: right;\">\n",
       "      <th></th>\n",
       "      <th>id</th>\n",
       "      <th>client_id</th>\n",
       "      <th>product_category</th>\n",
       "      <th>product_company</th>\n",
       "      <th>amount</th>\n",
       "      <th>date_start</th>\n",
       "      <th>date_end</th>\n",
       "    </tr>\n",
       "  </thead>\n",
       "  <tbody>\n",
       "    <tr>\n",
       "      <td>0</td>\n",
       "      <td>766278</td>\n",
       "      <td>825</td>\n",
       "      <td>29</td>\n",
       "      <td>NaN</td>\n",
       "      <td>3990</td>\n",
       "      <td>2012-01-25</td>\n",
       "      <td>NaN</td>\n",
       "    </tr>\n",
       "    <tr>\n",
       "      <td>1</td>\n",
       "      <td>658393</td>\n",
       "      <td>709</td>\n",
       "      <td>4</td>\n",
       "      <td>Яндекс.Музыка</td>\n",
       "      <td>199</td>\n",
       "      <td>2012-01-27</td>\n",
       "      <td>2020-02-27</td>\n",
       "    </tr>\n",
       "    <tr>\n",
       "      <td>2</td>\n",
       "      <td>354548</td>\n",
       "      <td>383</td>\n",
       "      <td>4</td>\n",
       "      <td>Boom</td>\n",
       "      <td>149</td>\n",
       "      <td>2012-01-28</td>\n",
       "      <td>NaN</td>\n",
       "    </tr>\n",
       "    <tr>\n",
       "      <td>3</td>\n",
       "      <td>515830</td>\n",
       "      <td>556</td>\n",
       "      <td>4</td>\n",
       "      <td>Spotify</td>\n",
       "      <td>169</td>\n",
       "      <td>2012-02-01</td>\n",
       "      <td>NaN</td>\n",
       "    </tr>\n",
       "    <tr>\n",
       "      <td>4</td>\n",
       "      <td>799560</td>\n",
       "      <td>862</td>\n",
       "      <td>4</td>\n",
       "      <td>YouTube Music</td>\n",
       "      <td>169</td>\n",
       "      <td>2012-02-20</td>\n",
       "      <td>2020-05-20</td>\n",
       "    </tr>\n",
       "  </tbody>\n",
       "</table>\n",
       "</div>"
      ],
      "text/plain": [
       "       id  client_id  product_category product_company  amount  date_start  \\\n",
       "0  766278        825                29             NaN    3990  2012-01-25   \n",
       "1  658393        709                 4   Яндекс.Музыка     199  2012-01-27   \n",
       "2  354548        383                 4            Boom     149  2012-01-28   \n",
       "3  515830        556                 4         Spotify     169  2012-02-01   \n",
       "4  799560        862                 4   YouTube Music     169  2012-02-20   \n",
       "\n",
       "     date_end  \n",
       "0         NaN  \n",
       "1  2020-02-27  \n",
       "2         NaN  \n",
       "3         NaN  \n",
       "4  2020-05-20  "
      ]
     },
     "execution_count": 3,
     "metadata": {},
     "output_type": "execute_result"
    }
   ],
   "source": [
    "subscriptions = pd.read_csv(path_subscriptions)\n",
    "subscriptions.head()"
   ]
  },
  {
   "cell_type": "code",
   "execution_count": 4,
   "metadata": {},
   "outputs": [
    {
     "name": "stdout",
     "output_type": "stream",
     "text": [
      "<class 'pandas.core.frame.DataFrame'>\n",
      "RangeIndex: 1308 entries, 0 to 1307\n",
      "Data columns (total 7 columns):\n",
      "id                  1308 non-null int64\n",
      "client_id           1308 non-null int64\n",
      "product_category    1308 non-null int64\n",
      "product_company     801 non-null object\n",
      "amount              1308 non-null int64\n",
      "date_start          1308 non-null object\n",
      "date_end            284 non-null object\n",
      "dtypes: int64(4), object(3)\n",
      "memory usage: 71.7+ KB\n"
     ]
    }
   ],
   "source": [
    "subscriptions.info()"
   ]
  },
  {
   "cell_type": "code",
   "execution_count": 5,
   "metadata": {},
   "outputs": [],
   "source": [
    "subscriptions.date_start = pd.to_datetime(subscriptions.date_start, format='%Y-%m-%d')\n",
    "subscriptions.date_end = pd.to_datetime(subscriptions.date_end, format='%Y-%m-%d')"
   ]
  },
  {
   "cell_type": "markdown",
   "metadata": {},
   "source": [
    "#### product_category"
   ]
  },
  {
   "cell_type": "code",
   "execution_count": 6,
   "metadata": {},
   "outputs": [
    {
     "data": {
      "image/png": "[encoded data removed]",
      "text/plain": [
       "<Figure size 432x288 with 1 Axes>"
      ]
     },
     "metadata": {
      "needs_background": "light"
     },
     "output_type": "display_data"
    }
   ],
   "source": [
    "sns.countplot(subscriptions.product_category);"
   ]
  },
  {
   "cell_type": "markdown",
   "metadata": {},
   "source": [
    "#### product_company"
   ]
  },
  {
   "cell_type": "code",
   "execution_count": 7,
   "metadata": {},
   "outputs": [
    {
     "data": {
      "text/plain": [
       "True"
      ]
     },
     "execution_count": 7,
     "metadata": {},
     "output_type": "execute_result"
    }
   ],
   "source": [
    "subscriptions.loc[subscriptions.product_company.isnull() == True].shape[0] == subscriptions.query('product_category == 29').shape[0]"
   ]
  },
  {
   "cell_type": "markdown",
   "metadata": {},
   "source": [
    "Получаем, что пропуски в данном столбце соответствуют только 29 категории."
   ]
  },
  {
   "cell_type": "code",
   "execution_count": 8,
   "metadata": {},
   "outputs": [],
   "source": [
    "subscriptions.loc[subscriptions.product_company.isnull() == True, 'product_company'] = 'company_29'"
   ]
  },
  {
   "cell_type": "code",
   "execution_count": 9,
   "metadata": {},
   "outputs": [
    {
     "data": {
      "image/png": "[encoded data removed]",
      "text/plain": [
       "<Figure size 720x432 with 1 Axes>"
      ]
     },
     "metadata": {
      "needs_background": "light"
     },
     "output_type": "display_data"
    }
   ],
   "source": [
    "fig, ax = plt.subplots(figsize=(10, 6))\n",
    "sns.countplot(subscriptions.product_company, ax=ax);"
   ]
  },
  {
   "cell_type": "markdown",
   "metadata": {},
   "source": [
    "#### amount"
   ]
  },
  {
   "cell_type": "code",
   "execution_count": 10,
   "metadata": {},
   "outputs": [
    {
     "data": {
      "image/png": "[encoded data removed]",
      "text/plain": [
       "<Figure size 432x288 with 1 Axes>"
      ]
     },
     "metadata": {
      "needs_background": "light"
     },
     "output_type": "display_data"
    }
   ],
   "source": [
    "sns.distplot(subscriptions.amount, kde=False);"
   ]
  },
  {
   "cell_type": "markdown",
   "metadata": {},
   "source": [
    "#### date_end"
   ]
  },
  {
   "cell_type": "markdown",
   "metadata": {},
   "source": [
    "Пропуски в данном столбце означают то, что клиент все еще по-прежнему подписан на данную категорию. Создадим бинарный столбец, который говорит о том, подписан ли клиент на данну категорию."
   ]
  },
  {
   "cell_type": "code",
   "execution_count": 11,
   "metadata": {},
   "outputs": [],
   "source": [
    "subscriptions.loc[subscriptions['date_end'].isnull() != True, 'is_subscription'] = 1\n",
    "subscriptions.loc[subscriptions['date_end'].isnull() == True, 'is_subscription'] = 0"
   ]
  },
  {
   "cell_type": "markdown",
   "metadata": {},
   "source": [
    "#### is_subscriptions"
   ]
  },
  {
   "cell_type": "code",
   "execution_count": 12,
   "metadata": {},
   "outputs": [
    {
     "data": {
      "image/png": "[encoded data removed]",
      "text/plain": [
       "<Figure size 432x288 with 1 Axes>"
      ]
     },
     "metadata": {
      "needs_background": "light"
     },
     "output_type": "display_data"
    }
   ],
   "source": [
    "sns.countplot(subscriptions.is_subscription);"
   ]
  },
  {
   "cell_type": "markdown",
   "metadata": {},
   "source": [
    "### clients"
   ]
  },
  {
   "cell_type": "code",
   "execution_count": 13,
   "metadata": {},
   "outputs": [
    {
     "data": {
      "text/html": [
       "<div>\n",
       "<style scoped>\n",
       "    .dataframe tbody tr th:only-of-type {\n",
       "        vertical-align: middle;\n",
       "    }\n",
       "\n",
       "    .dataframe tbody tr th {\n",
       "        vertical-align: top;\n",
       "    }\n",
       "\n",
       "    .dataframe thead th {\n",
       "        text-align: right;\n",
       "    }\n",
       "</style>\n",
       "<table border=\"1\" class=\"dataframe\">\n",
       "  <thead>\n",
       "    <tr style=\"text-align: right;\">\n",
       "      <th></th>\n",
       "      <th>id</th>\n",
       "      <th>fullname</th>\n",
       "      <th>address</th>\n",
       "      <th>phone_number</th>\n",
       "      <th>email</th>\n",
       "      <th>workplace</th>\n",
       "      <th>birthdate</th>\n",
       "      <th>registration_date</th>\n",
       "      <th>gender</th>\n",
       "      <th>income</th>\n",
       "      <th>expenses</th>\n",
       "      <th>credit</th>\n",
       "      <th>deposit</th>\n",
       "    </tr>\n",
       "  </thead>\n",
       "  <tbody>\n",
       "    <tr>\n",
       "      <td>0</td>\n",
       "      <td>1</td>\n",
       "      <td>Волкова Фаина Афанасьевна</td>\n",
       "      <td>с. Новосибирск, наб. Привокзальная, д. 58 к. 5...</td>\n",
       "      <td>8 (475) 014-6494</td>\n",
       "      <td>wkirillov@rambler.ru</td>\n",
       "      <td>ст. Кировск (Мурм.), ш. Коммуны, д. 238 стр. 3...</td>\n",
       "      <td>1966-09-07</td>\n",
       "      <td>2017-01-10</td>\n",
       "      <td>F</td>\n",
       "      <td>230910.0</td>\n",
       "      <td>61975</td>\n",
       "      <td>1.0</td>\n",
       "      <td>NaN</td>\n",
       "    </tr>\n",
       "    <tr>\n",
       "      <td>1</td>\n",
       "      <td>2</td>\n",
       "      <td>Пелагея Вячеславовна Галкина</td>\n",
       "      <td>клх Белокуриха, ш. Комсомольское, д. 701 стр. ...</td>\n",
       "      <td>+7 (981) 576-1146</td>\n",
       "      <td>bogdanovmoke@rambler.ru</td>\n",
       "      <td>г. Елабуга, бул. 60 лет Октября, д. 5, 070955</td>\n",
       "      <td>1987-05-23</td>\n",
       "      <td>2016-07-14</td>\n",
       "      <td>F</td>\n",
       "      <td>NaN</td>\n",
       "      <td>75232</td>\n",
       "      <td>NaN</td>\n",
       "      <td>NaN</td>\n",
       "    </tr>\n",
       "    <tr>\n",
       "      <td>2</td>\n",
       "      <td>3</td>\n",
       "      <td>Валентина Игоревна Фомина</td>\n",
       "      <td>к. Усть-Катав, бул. Восточный, д. 292 стр. 3, ...</td>\n",
       "      <td>+7 (920) 068-58-36</td>\n",
       "      <td>mjasnikovvalentin@mail.ru</td>\n",
       "      <td>г. Сосновый Бор, алл. Лесхозная, д. 146, 139446</td>\n",
       "      <td>1974-06-15</td>\n",
       "      <td>2017-10-18</td>\n",
       "      <td>F</td>\n",
       "      <td>NaN</td>\n",
       "      <td>88813</td>\n",
       "      <td>NaN</td>\n",
       "      <td>NaN</td>\n",
       "    </tr>\n",
       "    <tr>\n",
       "      <td>3</td>\n",
       "      <td>4</td>\n",
       "      <td>тов. Воронцова Фёкла Федоровна</td>\n",
       "      <td>клх Новая Игирма, алл. Пограничная, д. 6/6, 73...</td>\n",
       "      <td>8 334 398 3828</td>\n",
       "      <td>martin85@rambler.ru</td>\n",
       "      <td>клх Котельнич, бул. Серафимовича, д. 97, 753076</td>\n",
       "      <td>1979-10-19</td>\n",
       "      <td>2012-08-25</td>\n",
       "      <td>F</td>\n",
       "      <td>NaN</td>\n",
       "      <td>55167</td>\n",
       "      <td>NaN</td>\n",
       "      <td>NaN</td>\n",
       "    </tr>\n",
       "    <tr>\n",
       "      <td>4</td>\n",
       "      <td>5</td>\n",
       "      <td>Филипп Дмитриевич Воронцов</td>\n",
       "      <td>к. Ребриха, пр. Свободы, д. 54, 466509</td>\n",
       "      <td>8 (296) 455-0453</td>\n",
       "      <td>jan_07@rambler.ru</td>\n",
       "      <td>клх Карабудахкент, ул. Абрикосовая, д. 3 к. 19...</td>\n",
       "      <td>1986-08-14</td>\n",
       "      <td>2017-03-15</td>\n",
       "      <td>M</td>\n",
       "      <td>NaN</td>\n",
       "      <td>85106</td>\n",
       "      <td>NaN</td>\n",
       "      <td>NaN</td>\n",
       "    </tr>\n",
       "  </tbody>\n",
       "</table>\n",
       "</div>"
      ],
      "text/plain": [
       "   id                        fullname  \\\n",
       "0   1       Волкова Фаина Афанасьевна   \n",
       "1   2    Пелагея Вячеславовна Галкина   \n",
       "2   3       Валентина Игоревна Фомина   \n",
       "3   4  тов. Воронцова Фёкла Федоровна   \n",
       "4   5      Филипп Дмитриевич Воронцов   \n",
       "\n",
       "                                             address        phone_number  \\\n",
       "0  с. Новосибирск, наб. Привокзальная, д. 58 к. 5...    8 (475) 014-6494   \n",
       "1  клх Белокуриха, ш. Комсомольское, д. 701 стр. ...   +7 (981) 576-1146   \n",
       "2  к. Усть-Катав, бул. Восточный, д. 292 стр. 3, ...  +7 (920) 068-58-36   \n",
       "3  клх Новая Игирма, алл. Пограничная, д. 6/6, 73...      8 334 398 3828   \n",
       "4             к. Ребриха, пр. Свободы, д. 54, 466509    8 (296) 455-0453   \n",
       "\n",
       "                       email  \\\n",
       "0       wkirillov@rambler.ru   \n",
       "1    bogdanovmoke@rambler.ru   \n",
       "2  mjasnikovvalentin@mail.ru   \n",
       "3        martin85@rambler.ru   \n",
       "4          jan_07@rambler.ru   \n",
       "\n",
       "                                           workplace   birthdate  \\\n",
       "0  ст. Кировск (Мурм.), ш. Коммуны, д. 238 стр. 3...  1966-09-07   \n",
       "1      г. Елабуга, бул. 60 лет Октября, д. 5, 070955  1987-05-23   \n",
       "2    г. Сосновый Бор, алл. Лесхозная, д. 146, 139446  1974-06-15   \n",
       "3    клх Котельнич, бул. Серафимовича, д. 97, 753076  1979-10-19   \n",
       "4  клх Карабудахкент, ул. Абрикосовая, д. 3 к. 19...  1986-08-14   \n",
       "\n",
       "  registration_date gender    income  expenses  credit  deposit  \n",
       "0        2017-01-10      F  230910.0     61975     1.0      NaN  \n",
       "1        2016-07-14      F       NaN     75232     NaN      NaN  \n",
       "2        2017-10-18      F       NaN     88813     NaN      NaN  \n",
       "3        2012-08-25      F       NaN     55167     NaN      NaN  \n",
       "4        2017-03-15      M       NaN     85106     NaN      NaN  "
      ]
     },
     "execution_count": 13,
     "metadata": {},
     "output_type": "execute_result"
    }
   ],
   "source": [
    "clients = pd.read_csv(path_clients)\n",
    "clients.head()"
   ]
  },
  {
   "cell_type": "code",
   "execution_count": 14,
   "metadata": {},
   "outputs": [
    {
     "name": "stdout",
     "output_type": "stream",
     "text": [
      "<class 'pandas.core.frame.DataFrame'>\n",
      "RangeIndex: 1000 entries, 0 to 999\n",
      "Data columns (total 13 columns):\n",
      "id                   1000 non-null int64\n",
      "fullname             1000 non-null object\n",
      "address              1000 non-null object\n",
      "phone_number         1000 non-null object\n",
      "email                1000 non-null object\n",
      "workplace            1000 non-null object\n",
      "birthdate            1000 non-null object\n",
      "registration_date    1000 non-null object\n",
      "gender               1000 non-null object\n",
      "income               364 non-null float64\n",
      "expenses             1000 non-null int64\n",
      "credit               364 non-null float64\n",
      "deposit              376 non-null float64\n",
      "dtypes: float64(3), int64(2), object(8)\n",
      "memory usage: 101.7+ KB\n"
     ]
    }
   ],
   "source": [
    "clients.info()"
   ]
  },
  {
   "cell_type": "code",
   "execution_count": 15,
   "metadata": {},
   "outputs": [],
   "source": [
    "clients.id = clients.id.astype('str')\n",
    "clients = clients.rename(columns={'id': 'client_id'})\n",
    "clients.birthdate = pd.to_datetime(clients.birthdate, format='%Y-%m-%d')\n",
    "clients.registration_date = pd.to_datetime(clients.registration_date, format='%Y-%m-%d')"
   ]
  },
  {
   "cell_type": "markdown",
   "metadata": {},
   "source": [
    "#### expenses"
   ]
  },
  {
   "cell_type": "code",
   "execution_count": 16,
   "metadata": {},
   "outputs": [
    {
     "data": {
      "image/png": "[encoded data removed]",
      "text/plain": [
       "<Figure size 432x288 with 1 Axes>"
      ]
     },
     "metadata": {
      "needs_background": "light"
     },
     "output_type": "display_data"
    }
   ],
   "source": [
    "sns.distplot(clients.expenses);"
   ]
  },
  {
   "cell_type": "markdown",
   "metadata": {},
   "source": [
    "#### income"
   ]
  },
  {
   "cell_type": "markdown",
   "metadata": {},
   "source": [
    "Заполним пропуски в данном столбце средним значением для тех клиентов, у которых не удалось определить значение среднего месячного дохода за последний год."
   ]
  },
  {
   "cell_type": "code",
   "execution_count": 17,
   "metadata": {},
   "outputs": [],
   "source": [
    "mean = clients.loc[clients['income'].isnull() != True, 'income'].mean()\n",
    "clients.loc[clients['income'].isnull() == True, 'income'] = mean"
   ]
  },
  {
   "cell_type": "code",
   "execution_count": 18,
   "metadata": {},
   "outputs": [
    {
     "data": {
      "image/png": "[encoded data removed]",
      "text/plain": [
       "<Figure size 432x288 with 1 Axes>"
      ]
     },
     "metadata": {
      "needs_background": "light"
     },
     "output_type": "display_data"
    }
   ],
   "source": [
    "sns.distplot(clients.query('income != @mean')['income']); # уберем пользователей, у которых изначально отсутствовало значение income"
   ]
  },
  {
   "cell_type": "markdown",
   "metadata": {},
   "source": [
    "#### credit"
   ]
  },
  {
   "cell_type": "markdown",
   "metadata": {},
   "source": [
    "Заполним пропуски в данном столбце 0, что говорит о том, что клиент не брал кредит в банке."
   ]
  },
  {
   "cell_type": "code",
   "execution_count": 19,
   "metadata": {},
   "outputs": [],
   "source": [
    "clients.loc[clients['credit'].isnull() == True, 'credit'] = 0\n",
    "clients.credit = clients.credit.astype('int')"
   ]
  },
  {
   "cell_type": "code",
   "execution_count": 20,
   "metadata": {},
   "outputs": [
    {
     "data": {
      "image/png": "[encoded data removed]",
      "text/plain": [
       "<Figure size 432x288 with 1 Axes>"
      ]
     },
     "metadata": {
      "needs_background": "light"
     },
     "output_type": "display_data"
    }
   ],
   "source": [
    "sns.barplot(x=clients.credit.value_counts().index, y=clients.credit.value_counts());"
   ]
  },
  {
   "cell_type": "markdown",
   "metadata": {},
   "source": [
    "#### deposit"
   ]
  },
  {
   "cell_type": "markdown",
   "metadata": {},
   "source": [
    "Заполним пропуски в данном столбце 0, что говорит о том, что клиент не брал депозит в банке."
   ]
  },
  {
   "cell_type": "code",
   "execution_count": 21,
   "metadata": {},
   "outputs": [],
   "source": [
    "clients.loc[clients['deposit'].isnull() == True, 'deposit'] = 0\n",
    "clients.deposit = clients.deposit.astype('int')"
   ]
  },
  {
   "cell_type": "code",
   "execution_count": 22,
   "metadata": {},
   "outputs": [
    {
     "name": "stdout",
     "output_type": "stream",
     "text": [
      "<class 'pandas.core.frame.DataFrame'>\n",
      "RangeIndex: 1000 entries, 0 to 999\n",
      "Data columns (total 13 columns):\n",
      "client_id            1000 non-null object\n",
      "fullname             1000 non-null object\n",
      "address              1000 non-null object\n",
      "phone_number         1000 non-null object\n",
      "email                1000 non-null object\n",
      "workplace            1000 non-null object\n",
      "birthdate            1000 non-null datetime64[ns]\n",
      "registration_date    1000 non-null datetime64[ns]\n",
      "gender               1000 non-null object\n",
      "income               1000 non-null float64\n",
      "expenses             1000 non-null int64\n",
      "credit               1000 non-null int32\n",
      "deposit              1000 non-null int32\n",
      "dtypes: datetime64[ns](2), float64(1), int32(2), int64(1), object(7)\n",
      "memory usage: 93.9+ KB\n"
     ]
    }
   ],
   "source": [
    "clients.info()"
   ]
  },
  {
   "cell_type": "code",
   "execution_count": 23,
   "metadata": {},
   "outputs": [
    {
     "data": {
      "image/png": "[encoded data removed]",
      "text/plain": [
       "<Figure size 432x288 with 1 Axes>"
      ]
     },
     "metadata": {
      "needs_background": "light"
     },
     "output_type": "display_data"
    }
   ],
   "source": [
    "sns.barplot(x=clients.deposit.value_counts().index, y=clients.deposit.value_counts());"
   ]
  },
  {
   "cell_type": "markdown",
   "metadata": {},
   "source": [
    "### categories"
   ]
  },
  {
   "cell_type": "code",
   "execution_count": 24,
   "metadata": {},
   "outputs": [
    {
     "data": {
      "text/html": [
       "<div>\n",
       "<style scoped>\n",
       "    .dataframe tbody tr th:only-of-type {\n",
       "        vertical-align: middle;\n",
       "    }\n",
       "\n",
       "    .dataframe tbody tr th {\n",
       "        vertical-align: top;\n",
       "    }\n",
       "\n",
       "    .dataframe thead th {\n",
       "        text-align: right;\n",
       "    }\n",
       "</style>\n",
       "<table border=\"1\" class=\"dataframe\">\n",
       "  <thead>\n",
       "    <tr style=\"text-align: right;\">\n",
       "      <th></th>\n",
       "      <th>id</th>\n",
       "      <th>name</th>\n",
       "      <th>description</th>\n",
       "      <th>mcc-code</th>\n",
       "    </tr>\n",
       "  </thead>\n",
       "  <tbody>\n",
       "    <tr>\n",
       "      <td>0</td>\n",
       "      <td>1</td>\n",
       "      <td>Каршеринг</td>\n",
       "      <td>Краткосрочная аренда авто с оплатой по минутам...</td>\n",
       "      <td>7512, 4121</td>\n",
       "    </tr>\n",
       "    <tr>\n",
       "      <td>1</td>\n",
       "      <td>2</td>\n",
       "      <td>Супермаркеты</td>\n",
       "      <td>Покупки в супермаркетах и продуктовых магазинах</td>\n",
       "      <td>5297, 5298, 5300, 5411, 5412, 5422, 5441, 5451...</td>\n",
       "    </tr>\n",
       "    <tr>\n",
       "      <td>2</td>\n",
       "      <td>3</td>\n",
       "      <td>Такси</td>\n",
       "      <td>Услуги такси (каршеринг не входит в данную кат...</td>\n",
       "      <td>4121</td>\n",
       "    </tr>\n",
       "    <tr>\n",
       "      <td>3</td>\n",
       "      <td>4</td>\n",
       "      <td>Музыка</td>\n",
       "      <td>Покупки в магазинах музыки и музыкальных инстр...</td>\n",
       "      <td>5733, 5735</td>\n",
       "    </tr>\n",
       "    <tr>\n",
       "      <td>4</td>\n",
       "      <td>5</td>\n",
       "      <td>Фастфуд</td>\n",
       "      <td>Покупки в ресторанах быстрого питания</td>\n",
       "      <td>5814</td>\n",
       "    </tr>\n",
       "    <tr>\n",
       "      <td>5</td>\n",
       "      <td>6</td>\n",
       "      <td>Транспорт</td>\n",
       "      <td>Оплата городского и пригородного транспорта. В...</td>\n",
       "      <td>4111, 4121, 4131, 4457, 4468, 4784, 4789, 5013...</td>\n",
       "    </tr>\n",
       "    <tr>\n",
       "      <td>6</td>\n",
       "      <td>7</td>\n",
       "      <td>Аптеки</td>\n",
       "      <td>Покупки в аптеках</td>\n",
       "      <td>5122, 5292, 5295, 5912</td>\n",
       "    </tr>\n",
       "    <tr>\n",
       "      <td>7</td>\n",
       "      <td>8</td>\n",
       "      <td>Кино</td>\n",
       "      <td>Покупки в кинотеатрах и магазинах кино</td>\n",
       "      <td>7829, 7832, 7841</td>\n",
       "    </tr>\n",
       "    <tr>\n",
       "      <td>8</td>\n",
       "      <td>9</td>\n",
       "      <td>Книги</td>\n",
       "      <td>Покупки в книжных магазинах и газетных киосках</td>\n",
       "      <td>2741, 5111, 5192, 5942, 5994</td>\n",
       "    </tr>\n",
       "    <tr>\n",
       "      <td>9</td>\n",
       "      <td>10</td>\n",
       "      <td>Развлечения</td>\n",
       "      <td>Оплата развлечений, (например, в магазинах вид...</td>\n",
       "      <td>7911, 7922, 7929, 7932, 7933, 7941, 7991, 7992...</td>\n",
       "    </tr>\n",
       "    <tr>\n",
       "      <td>10</td>\n",
       "      <td>11</td>\n",
       "      <td>Красота</td>\n",
       "      <td>Покупки в массажных и косметических салонах, S...</td>\n",
       "      <td>5977, 7230, 7297, 7298</td>\n",
       "    </tr>\n",
       "    <tr>\n",
       "      <td>11</td>\n",
       "      <td>12</td>\n",
       "      <td>Образование</td>\n",
       "      <td>Оплата в государственных и частных школах, вуз...</td>\n",
       "      <td>8211, 8220, 8241, 8244, 8249, 8299, 8493, 8494</td>\n",
       "    </tr>\n",
       "    <tr>\n",
       "      <td>12</td>\n",
       "      <td>13</td>\n",
       "      <td>Одежда и обувь</td>\n",
       "      <td>Покупки в магазинах одежды и обуви</td>\n",
       "      <td>5094, 5137, 5139, 5611, 5621, 5631, 5641, 5651...</td>\n",
       "    </tr>\n",
       "    <tr>\n",
       "      <td>13</td>\n",
       "      <td>14</td>\n",
       "      <td>Рестораны</td>\n",
       "      <td>Оплата счета в барах, ресторанах, кафе и клуба...</td>\n",
       "      <td>5811, 5812, 5813</td>\n",
       "    </tr>\n",
       "    <tr>\n",
       "      <td>14</td>\n",
       "      <td>15</td>\n",
       "      <td>Топливо</td>\n",
       "      <td>Покупка газа и бензина на заправках</td>\n",
       "      <td>5172, 5541, 5542, 5983</td>\n",
       "    </tr>\n",
       "    <tr>\n",
       "      <td>15</td>\n",
       "      <td>16</td>\n",
       "      <td>Животные</td>\n",
       "      <td>Покупки в зоомагазинах</td>\n",
       "      <td>5995, 0742</td>\n",
       "    </tr>\n",
       "    <tr>\n",
       "      <td>16</td>\n",
       "      <td>17</td>\n",
       "      <td>Дом и ремонт</td>\n",
       "      <td>Покупки в магазинах мебели, товаров для дома и...</td>\n",
       "      <td>1520, 1711, 1731, 1740, 1750, 1761, 1771, 1799...</td>\n",
       "    </tr>\n",
       "    <tr>\n",
       "      <td>17</td>\n",
       "      <td>18</td>\n",
       "      <td>Спорттовары</td>\n",
       "      <td>Покупки в магазинах спортивных товаров</td>\n",
       "      <td>5655, 5940, 5941</td>\n",
       "    </tr>\n",
       "    <tr>\n",
       "      <td>18</td>\n",
       "      <td>19</td>\n",
       "      <td>Сувениры</td>\n",
       "      <td>Покупки в магазинах сувениров: открыток, упако...</td>\n",
       "      <td>5947</td>\n",
       "    </tr>\n",
       "    <tr>\n",
       "      <td>19</td>\n",
       "      <td>20</td>\n",
       "      <td>Фото и видео</td>\n",
       "      <td>Покупки в магазинах фото- и видеотехники</td>\n",
       "      <td>5044, 5045, 5946, 7332, 7333, 7338, 7339, 7395</td>\n",
       "    </tr>\n",
       "    <tr>\n",
       "      <td>20</td>\n",
       "      <td>21</td>\n",
       "      <td>Цветы</td>\n",
       "      <td>Покупки в цветочных магазинах и салонах флорис...</td>\n",
       "      <td>5193, 5992</td>\n",
       "    </tr>\n",
       "    <tr>\n",
       "      <td>21</td>\n",
       "      <td>22</td>\n",
       "      <td>Аренда авто</td>\n",
       "      <td>Оплата аренды авто в дилерских центрах (каршер...</td>\n",
       "      <td>3351–3398, 3400–3410, 3412–3423, 3425–3439, 34...</td>\n",
       "    </tr>\n",
       "    <tr>\n",
       "      <td>22</td>\n",
       "      <td>23</td>\n",
       "      <td>Автоуслуги</td>\n",
       "      <td>Покупка автозапчастей, услуги в автосервисах и...</td>\n",
       "      <td>5511, 5521, 5531, 5532, 5533, 5571, 7012, 7531...</td>\n",
       "    </tr>\n",
       "    <tr>\n",
       "      <td>23</td>\n",
       "      <td>24</td>\n",
       "      <td>Авиабилеты</td>\n",
       "      <td>Оплата авиабилетов</td>\n",
       "      <td>3000–3299; 4304; 4415; 4418; 4511; 4582</td>\n",
       "    </tr>\n",
       "    <tr>\n",
       "      <td>24</td>\n",
       "      <td>25</td>\n",
       "      <td>Дьюти-фри</td>\n",
       "      <td>Покупки в магазинах дьюти-фри</td>\n",
       "      <td>5309</td>\n",
       "    </tr>\n",
       "    <tr>\n",
       "      <td>25</td>\n",
       "      <td>26</td>\n",
       "      <td>Железнодорожные билеты</td>\n",
       "      <td>Оплата билетов на поезд</td>\n",
       "      <td>4011, 4112</td>\n",
       "    </tr>\n",
       "    <tr>\n",
       "      <td>26</td>\n",
       "      <td>27</td>\n",
       "      <td>Искусство</td>\n",
       "      <td>Покупки в галереях, антикварных магазинах или ...</td>\n",
       "      <td>5932, 5937, 5970, 5971, 5972, 5973</td>\n",
       "    </tr>\n",
       "    <tr>\n",
       "      <td>27</td>\n",
       "      <td>28</td>\n",
       "      <td>Переводы</td>\n",
       "      <td>Переводы, пополнения</td>\n",
       "      <td>NaN</td>\n",
       "    </tr>\n",
       "    <tr>\n",
       "      <td>28</td>\n",
       "      <td>29</td>\n",
       "      <td>Другое</td>\n",
       "      <td>Интернет, комунальные услуги</td>\n",
       "      <td>NaN</td>\n",
       "    </tr>\n",
       "  </tbody>\n",
       "</table>\n",
       "</div>"
      ],
      "text/plain": [
       "    id                    name  \\\n",
       "0    1               Каршеринг   \n",
       "1    2            Супермаркеты   \n",
       "2    3                   Такси   \n",
       "3    4                  Музыка   \n",
       "4    5                 Фастфуд   \n",
       "5    6               Транспорт   \n",
       "6    7                  Аптеки   \n",
       "7    8                    Кино   \n",
       "8    9                   Книги   \n",
       "9   10             Развлечения   \n",
       "10  11                 Красота   \n",
       "11  12             Образование   \n",
       "12  13          Одежда и обувь   \n",
       "13  14               Рестораны   \n",
       "14  15                 Топливо   \n",
       "15  16                Животные   \n",
       "16  17            Дом и ремонт   \n",
       "17  18             Спорттовары   \n",
       "18  19                Сувениры   \n",
       "19  20            Фото и видео   \n",
       "20  21                   Цветы   \n",
       "21  22             Аренда авто   \n",
       "22  23              Автоуслуги   \n",
       "23  24              Авиабилеты   \n",
       "24  25               Дьюти-фри   \n",
       "25  26  Железнодорожные билеты   \n",
       "26  27               Искусство   \n",
       "27  28                Переводы   \n",
       "28  29                  Другое   \n",
       "\n",
       "                                          description  \\\n",
       "0   Краткосрочная аренда авто с оплатой по минутам...   \n",
       "1     Покупки в супермаркетах и продуктовых магазинах   \n",
       "2   Услуги такси (каршеринг не входит в данную кат...   \n",
       "3   Покупки в магазинах музыки и музыкальных инстр...   \n",
       "4               Покупки в ресторанах быстрого питания   \n",
       "5   Оплата городского и пригородного транспорта. В...   \n",
       "6                                   Покупки в аптеках   \n",
       "7              Покупки в кинотеатрах и магазинах кино   \n",
       "8      Покупки в книжных магазинах и газетных киосках   \n",
       "9   Оплата развлечений, (например, в магазинах вид...   \n",
       "10  Покупки в массажных и косметических салонах, S...   \n",
       "11  Оплата в государственных и частных школах, вуз...   \n",
       "12                 Покупки в магазинах одежды и обуви   \n",
       "13  Оплата счета в барах, ресторанах, кафе и клуба...   \n",
       "14                Покупка газа и бензина на заправках   \n",
       "15                             Покупки в зоомагазинах   \n",
       "16  Покупки в магазинах мебели, товаров для дома и...   \n",
       "17             Покупки в магазинах спортивных товаров   \n",
       "18  Покупки в магазинах сувениров: открыток, упако...   \n",
       "19           Покупки в магазинах фото- и видеотехники   \n",
       "20  Покупки в цветочных магазинах и салонах флорис...   \n",
       "21  Оплата аренды авто в дилерских центрах (каршер...   \n",
       "22  Покупка автозапчастей, услуги в автосервисах и...   \n",
       "23                                 Оплата авиабилетов   \n",
       "24                      Покупки в магазинах дьюти-фри   \n",
       "25                            Оплата билетов на поезд   \n",
       "26  Покупки в галереях, антикварных магазинах или ...   \n",
       "27                               Переводы, пополнения   \n",
       "28                       Интернет, комунальные услуги   \n",
       "\n",
       "                                             mcc-code  \n",
       "0                                          7512, 4121  \n",
       "1   5297, 5298, 5300, 5411, 5412, 5422, 5441, 5451...  \n",
       "2                                                4121  \n",
       "3                                          5733, 5735  \n",
       "4                                                5814  \n",
       "5   4111, 4121, 4131, 4457, 4468, 4784, 4789, 5013...  \n",
       "6                              5122, 5292, 5295, 5912  \n",
       "7                                    7829, 7832, 7841  \n",
       "8                        2741, 5111, 5192, 5942, 5994  \n",
       "9   7911, 7922, 7929, 7932, 7933, 7941, 7991, 7992...  \n",
       "10                             5977, 7230, 7297, 7298  \n",
       "11     8211, 8220, 8241, 8244, 8249, 8299, 8493, 8494  \n",
       "12  5094, 5137, 5139, 5611, 5621, 5631, 5641, 5651...  \n",
       "13                                   5811, 5812, 5813  \n",
       "14                             5172, 5541, 5542, 5983  \n",
       "15                                         5995, 0742  \n",
       "16  1520, 1711, 1731, 1740, 1750, 1761, 1771, 1799...  \n",
       "17                                   5655, 5940, 5941  \n",
       "18                                               5947  \n",
       "19     5044, 5045, 5946, 7332, 7333, 7338, 7339, 7395  \n",
       "20                                         5193, 5992  \n",
       "21  3351–3398, 3400–3410, 3412–3423, 3425–3439, 34...  \n",
       "22  5511, 5521, 5531, 5532, 5533, 5571, 7012, 7531...  \n",
       "23            3000–3299; 4304; 4415; 4418; 4511; 4582  \n",
       "24                                               5309  \n",
       "25                                         4011, 4112  \n",
       "26                 5932, 5937, 5970, 5971, 5972, 5973  \n",
       "27                                                NaN  \n",
       "28                                                NaN  "
      ]
     },
     "execution_count": 24,
     "metadata": {},
     "output_type": "execute_result"
    }
   ],
   "source": [
    "categories = pd.read_csv(path_categories)\n",
    "categories"
   ]
  },
  {
   "cell_type": "code",
   "execution_count": 25,
   "metadata": {},
   "outputs": [
    {
     "name": "stdout",
     "output_type": "stream",
     "text": [
      "<class 'pandas.core.frame.DataFrame'>\n",
      "RangeIndex: 29 entries, 0 to 28\n",
      "Data columns (total 4 columns):\n",
      "id             29 non-null int64\n",
      "name           29 non-null object\n",
      "description    29 non-null object\n",
      "mcc-code       27 non-null object\n",
      "dtypes: int64(1), object(3)\n",
      "memory usage: 1.0+ KB\n"
     ]
    }
   ],
   "source": [
    "categories.info()"
   ]
  },
  {
   "cell_type": "code",
   "execution_count": 26,
   "metadata": {},
   "outputs": [],
   "source": [
    "categories.id = categories.id.astype('str')\n",
    "categories['mcc-code'] = categories['mcc-code'].fillna('no_code')\n",
    "categories['mcc-code'] = categories['mcc-code'].astype('str')\n",
    "categories = categories.rename(columns={'id': 'product_category'})"
   ]
  },
  {
   "cell_type": "markdown",
   "metadata": {},
   "source": [
    "### transactions"
   ]
  },
  {
   "cell_type": "code",
   "execution_count": 27,
   "metadata": {},
   "outputs": [
    {
     "data": {
      "text/html": [
       "<div>\n",
       "<style scoped>\n",
       "    .dataframe tbody tr th:only-of-type {\n",
       "        vertical-align: middle;\n",
       "    }\n",
       "\n",
       "    .dataframe tbody tr th {\n",
       "        vertical-align: top;\n",
       "    }\n",
       "\n",
       "    .dataframe thead th {\n",
       "        text-align: right;\n",
       "    }\n",
       "</style>\n",
       "<table border=\"1\" class=\"dataframe\">\n",
       "  <thead>\n",
       "    <tr style=\"text-align: right;\">\n",
       "      <th></th>\n",
       "      <th>Unnamed: 0</th>\n",
       "      <th>client_id</th>\n",
       "      <th>product_category</th>\n",
       "      <th>product_company</th>\n",
       "      <th>subtype</th>\n",
       "      <th>amount</th>\n",
       "      <th>date</th>\n",
       "      <th>transaction_type</th>\n",
       "    </tr>\n",
       "  </thead>\n",
       "  <tbody>\n",
       "    <tr>\n",
       "      <td>0</td>\n",
       "      <td>34478</td>\n",
       "      <td>37</td>\n",
       "      <td>29</td>\n",
       "      <td>NaN</td>\n",
       "      <td>Автоплатеж</td>\n",
       "      <td>1209</td>\n",
       "      <td>2020-01-01 00:00:00</td>\n",
       "      <td>Negative</td>\n",
       "    </tr>\n",
       "    <tr>\n",
       "      <td>1</td>\n",
       "      <td>65406</td>\n",
       "      <td>71</td>\n",
       "      <td>4</td>\n",
       "      <td>YouTube Music</td>\n",
       "      <td>Подписка</td>\n",
       "      <td>169</td>\n",
       "      <td>2020-01-01 00:00:00</td>\n",
       "      <td>Negative</td>\n",
       "    </tr>\n",
       "    <tr>\n",
       "      <td>2</td>\n",
       "      <td>82186</td>\n",
       "      <td>88</td>\n",
       "      <td>29</td>\n",
       "      <td>NaN</td>\n",
       "      <td>Автоплатеж</td>\n",
       "      <td>3711</td>\n",
       "      <td>2020-01-01 00:00:00</td>\n",
       "      <td>Negative</td>\n",
       "    </tr>\n",
       "    <tr>\n",
       "      <td>3</td>\n",
       "      <td>83113</td>\n",
       "      <td>89</td>\n",
       "      <td>29</td>\n",
       "      <td>NaN</td>\n",
       "      <td>Автоплатеж</td>\n",
       "      <td>6443</td>\n",
       "      <td>2020-01-01 00:00:00</td>\n",
       "      <td>Negative</td>\n",
       "    </tr>\n",
       "    <tr>\n",
       "      <td>4</td>\n",
       "      <td>131373</td>\n",
       "      <td>141</td>\n",
       "      <td>29</td>\n",
       "      <td>NaN</td>\n",
       "      <td>Автоплатеж</td>\n",
       "      <td>7319</td>\n",
       "      <td>2020-01-01 00:00:00</td>\n",
       "      <td>Negative</td>\n",
       "    </tr>\n",
       "  </tbody>\n",
       "</table>\n",
       "</div>"
      ],
      "text/plain": [
       "   Unnamed: 0  client_id  product_category product_company     subtype  \\\n",
       "0       34478         37                29             NaN  Автоплатеж   \n",
       "1       65406         71                 4   YouTube Music    Подписка   \n",
       "2       82186         88                29             NaN  Автоплатеж   \n",
       "3       83113         89                29             NaN  Автоплатеж   \n",
       "4      131373        141                29             NaN  Автоплатеж   \n",
       "\n",
       "   amount                 date transaction_type  \n",
       "0    1209  2020-01-01 00:00:00         Negative  \n",
       "1     169  2020-01-01 00:00:00         Negative  \n",
       "2    3711  2020-01-01 00:00:00         Negative  \n",
       "3    6443  2020-01-01 00:00:00         Negative  \n",
       "4    7319  2020-01-01 00:00:00         Negative  "
      ]
     },
     "execution_count": 27,
     "metadata": {},
     "output_type": "execute_result"
    }
   ],
   "source": [
    "transactions = pd.read_csv(path_transactions)\n",
    "transactions.head()"
   ]
  },
  {
   "cell_type": "code",
   "execution_count": 28,
   "metadata": {},
   "outputs": [
    {
     "name": "stdout",
     "output_type": "stream",
     "text": [
      "<class 'pandas.core.frame.DataFrame'>\n",
      "RangeIndex: 929135 entries, 0 to 929134\n",
      "Data columns (total 8 columns):\n",
      "Unnamed: 0          929135 non-null int64\n",
      "client_id           929135 non-null int64\n",
      "product_category    929135 non-null int64\n",
      "product_company     644651 non-null object\n",
      "subtype             929135 non-null object\n",
      "amount              929135 non-null int64\n",
      "date                929135 non-null object\n",
      "transaction_type    929135 non-null object\n",
      "dtypes: int64(4), object(4)\n",
      "memory usage: 56.7+ MB\n"
     ]
    }
   ],
   "source": [
    "transactions.info()"
   ]
  },
  {
   "cell_type": "code",
   "execution_count": 29,
   "metadata": {},
   "outputs": [],
   "source": [
    "transactions.rename(columns={'Unnamed: 0': 'id'}, inplace=True)\n",
    "transactions.product_category = transactions.product_category.astype('str')\n",
    "transactions.client_id = transactions.client_id.astype('str')\n",
    "transactions.id = transactions.id.astype('str')\n",
    "transactions.date = pd.to_datetime(transactions.date, format='%Y-%m-%d %H:%M:%S')"
   ]
  },
  {
   "cell_type": "markdown",
   "metadata": {},
   "source": [
    "#### transaction_type"
   ]
  },
  {
   "cell_type": "markdown",
   "metadata": {},
   "source": [
    "В нашем анализе для построения рекомендательной системы нужны те транзакции клиентов, которые говорят о том, что они приобрели ту или иную категорию товара или услуги, а не получили денежный перевод от кого-либо, поэтому уберем все транзакции, которые имеют transaction_type, равный Positive."
   ]
  },
  {
   "cell_type": "code",
   "execution_count": 30,
   "metadata": {},
   "outputs": [
    {
     "data": {
      "text/plain": [
       "array(['Negative', 'Positive'], dtype=object)"
      ]
     },
     "execution_count": 30,
     "metadata": {},
     "output_type": "execute_result"
    }
   ],
   "source": [
    "transactions.transaction_type.unique()"
   ]
  },
  {
   "cell_type": "code",
   "execution_count": 31,
   "metadata": {},
   "outputs": [],
   "source": [
    "transactions = transactions.query('transaction_type != \"Positive\"')"
   ]
  },
  {
   "cell_type": "code",
   "execution_count": 32,
   "metadata": {},
   "outputs": [
    {
     "data": {
      "text/plain": [
       "(884151, 8)"
      ]
     },
     "execution_count": 32,
     "metadata": {},
     "output_type": "execute_result"
    }
   ],
   "source": [
    "transactions.shape"
   ]
  },
  {
   "cell_type": "markdown",
   "metadata": {},
   "source": [
    "#### product_category"
   ]
  },
  {
   "cell_type": "markdown",
   "metadata": {},
   "source": [
    "Проанализировав имеющиеся категории товаров и услуг заметим, что категория 28 - Переводы (переводы, пополнения). Уберем все транзакции, в которых содержится данная категория, так как данную категорию нельзя связвать со спецификой решаемой задачи."
   ]
  },
  {
   "cell_type": "code",
   "execution_count": 33,
   "metadata": {},
   "outputs": [],
   "source": [
    "transactions = transactions.query('product_category != \"28\"')"
   ]
  },
  {
   "cell_type": "code",
   "execution_count": 34,
   "metadata": {},
   "outputs": [
    {
     "data": {
      "text/plain": [
       "(839117, 8)"
      ]
     },
     "execution_count": 34,
     "metadata": {},
     "output_type": "execute_result"
    }
   ],
   "source": [
    "transactions.shape"
   ]
  },
  {
   "cell_type": "markdown",
   "metadata": {},
   "source": [
    "Также уберем категорию 29 - Другое (интернет, коммунальные услуги), поскольку в ней смешаны несколько разных услуг и данную категорию также нельзя связать со спецификой решаемой задачи."
   ]
  },
  {
   "cell_type": "code",
   "execution_count": 35,
   "metadata": {},
   "outputs": [],
   "source": [
    "transactions = transactions.query('product_category != \"29\"')"
   ]
  },
  {
   "cell_type": "code",
   "execution_count": 36,
   "metadata": {},
   "outputs": [
    {
     "data": {
      "text/plain": [
       "(833931, 8)"
      ]
     },
     "execution_count": 36,
     "metadata": {},
     "output_type": "execute_result"
    }
   ],
   "source": [
    "transactions.shape"
   ]
  },
  {
   "cell_type": "code",
   "execution_count": 37,
   "metadata": {},
   "outputs": [],
   "source": [
    "transactions.reset_index(inplace=True, drop=True)"
   ]
  },
  {
   "cell_type": "code",
   "execution_count": 38,
   "metadata": {},
   "outputs": [
    {
     "data": {
      "text/plain": [
       "6     350044\n",
       "5     130137\n",
       "2      45010\n",
       "3      29839\n",
       "1      29563\n",
       "8      24225\n",
       "9      24208\n",
       "11     24087\n",
       "14     24035\n",
       "10     24007\n",
       "7      23924\n",
       "13     23877\n",
       "15     16973\n",
       "17      9191\n",
       "20      9160\n",
       "21      9154\n",
       "16      9122\n",
       "18      9108\n",
       "19      9068\n",
       "4       8004\n",
       "12       427\n",
       "26       142\n",
       "27       136\n",
       "22       134\n",
       "24       126\n",
       "25       122\n",
       "23       108\n",
       "Name: product_category, dtype: int64"
      ]
     },
     "execution_count": 38,
     "metadata": {},
     "output_type": "execute_result"
    }
   ],
   "source": [
    "transactions.product_category.value_counts()"
   ]
  },
  {
   "cell_type": "markdown",
   "metadata": {},
   "source": [
    "#### subtype"
   ]
  },
  {
   "cell_type": "code",
   "execution_count": 39,
   "metadata": {},
   "outputs": [
    {
     "data": {
      "text/plain": [
       "Покупка     825927\n",
       "Подписка      8004\n",
       "Name: subtype, dtype: int64"
      ]
     },
     "execution_count": 39,
     "metadata": {},
     "output_type": "execute_result"
    }
   ],
   "source": [
    "transactions.subtype.value_counts()"
   ]
  },
  {
   "cell_type": "markdown",
   "metadata": {},
   "source": [
    "#### product_company"
   ]
  },
  {
   "cell_type": "markdown",
   "metadata": {},
   "source": [
    "Заполним пропуски в данном столбце на значение no_company."
   ]
  },
  {
   "cell_type": "code",
   "execution_count": 40,
   "metadata": {},
   "outputs": [],
   "source": [
    "transactions.loc[transactions.product_company.isnull() == True, 'product_company'] = 'no_company'"
   ]
  },
  {
   "cell_type": "code",
   "execution_count": 41,
   "metadata": {},
   "outputs": [
    {
     "data": {
      "text/plain": [
       "no_company                 189280\n",
       "Московский Метрополитен    116903\n",
       "Стрелка                    116124\n",
       "Тануки                      16513\n",
       "PizzaHut                    16362\n",
       "                            ...  \n",
       "Boom                         1395\n",
       "Яндекс.Музыка                1370\n",
       "YouTube Music                1352\n",
       "Spotify                      1184\n",
       "Apple Music                  1131\n",
       "Name: product_company, Length: 69, dtype: int64"
      ]
     },
     "execution_count": 41,
     "metadata": {},
     "output_type": "execute_result"
    }
   ],
   "source": [
    "transactions.product_company.value_counts()"
   ]
  },
  {
   "cell_type": "markdown",
   "metadata": {},
   "source": [
    "#### amount"
   ]
  },
  {
   "cell_type": "code",
   "execution_count": 42,
   "metadata": {},
   "outputs": [
    {
     "data": {
      "image/png": "[encoded data removed]",
      "text/plain": [
       "<Figure size 432x288 with 1 Axes>"
      ]
     },
     "metadata": {
      "needs_background": "light"
     },
     "output_type": "display_data"
    }
   ],
   "source": [
    "sns.distplot(transactions.amount);"
   ]
  },
  {
   "cell_type": "code",
   "execution_count": 43,
   "metadata": {},
   "outputs": [
    {
     "data": {
      "image/png": "[encoded data removed]",
      "text/plain": [
       "<Figure size 432x288 with 1 Axes>"
      ]
     },
     "metadata": {
      "needs_background": "light"
     },
     "output_type": "display_data"
    }
   ],
   "source": [
    "sns.distplot(transactions.query('amount > 20000')['amount']);"
   ]
  },
  {
   "cell_type": "code",
   "execution_count": 44,
   "metadata": {},
   "outputs": [
    {
     "data": {
      "text/html": [
       "<div>\n",
       "<style scoped>\n",
       "    .dataframe tbody tr th:only-of-type {\n",
       "        vertical-align: middle;\n",
       "    }\n",
       "\n",
       "    .dataframe tbody tr th {\n",
       "        vertical-align: top;\n",
       "    }\n",
       "\n",
       "    .dataframe thead th {\n",
       "        text-align: right;\n",
       "    }\n",
       "</style>\n",
       "<table border=\"1\" class=\"dataframe\">\n",
       "  <thead>\n",
       "    <tr style=\"text-align: right;\">\n",
       "      <th></th>\n",
       "      <th>client_id</th>\n",
       "      <th>product_category</th>\n",
       "      <th>date</th>\n",
       "    </tr>\n",
       "  </thead>\n",
       "  <tbody>\n",
       "    <tr>\n",
       "      <td>0</td>\n",
       "      <td>71</td>\n",
       "      <td>4</td>\n",
       "      <td>2020-01-01</td>\n",
       "    </tr>\n",
       "    <tr>\n",
       "      <td>1</td>\n",
       "      <td>225</td>\n",
       "      <td>4</td>\n",
       "      <td>2020-01-01</td>\n",
       "    </tr>\n",
       "    <tr>\n",
       "      <td>2</td>\n",
       "      <td>295</td>\n",
       "      <td>4</td>\n",
       "      <td>2020-01-01</td>\n",
       "    </tr>\n",
       "    <tr>\n",
       "      <td>3</td>\n",
       "      <td>317</td>\n",
       "      <td>4</td>\n",
       "      <td>2020-01-01</td>\n",
       "    </tr>\n",
       "    <tr>\n",
       "      <td>4</td>\n",
       "      <td>336</td>\n",
       "      <td>4</td>\n",
       "      <td>2020-01-01</td>\n",
       "    </tr>\n",
       "  </tbody>\n",
       "</table>\n",
       "</div>"
      ],
      "text/plain": [
       "  client_id product_category       date\n",
       "0        71                4 2020-01-01\n",
       "1       225                4 2020-01-01\n",
       "2       295                4 2020-01-01\n",
       "3       317                4 2020-01-01\n",
       "4       336                4 2020-01-01"
      ]
     },
     "execution_count": 44,
     "metadata": {},
     "output_type": "execute_result"
    }
   ],
   "source": [
    "transactions_part = transactions[['client_id', 'product_category', 'date']]\n",
    "transactions_part.head()"
   ]
  },
  {
   "cell_type": "markdown",
   "metadata": {},
   "source": [
    "## 2. Подготовка данных"
   ]
  },
  {
   "cell_type": "markdown",
   "metadata": {},
   "source": [
    "### 2.1. \"Схлопывание\" повторяющихся действий пользователей"
   ]
  },
  {
   "cell_type": "markdown",
   "metadata": {},
   "source": [
    "Для каждого пользователя посчитаем количество того, сколько раз он взаимодействовал с каждой категорией товара в данных транзакций."
   ]
  },
  {
   "cell_type": "code",
   "execution_count": 45,
   "metadata": {},
   "outputs": [],
   "source": [
    "data = transactions_part.groupby(['client_id', 'product_category'], as_index=False) \\\n",
    "    .agg({'date': 'count'}) \\\n",
    "    .rename(columns={'date': 'purchase_count'})"
   ]
  },
  {
   "cell_type": "code",
   "execution_count": 46,
   "metadata": {},
   "outputs": [
    {
     "data": {
      "text/html": [
       "<div>\n",
       "<style scoped>\n",
       "    .dataframe tbody tr th:only-of-type {\n",
       "        vertical-align: middle;\n",
       "    }\n",
       "\n",
       "    .dataframe tbody tr th {\n",
       "        vertical-align: top;\n",
       "    }\n",
       "\n",
       "    .dataframe thead th {\n",
       "        text-align: right;\n",
       "    }\n",
       "</style>\n",
       "<table border=\"1\" class=\"dataframe\">\n",
       "  <thead>\n",
       "    <tr style=\"text-align: right;\">\n",
       "      <th></th>\n",
       "      <th>client_id</th>\n",
       "      <th>product_category</th>\n",
       "      <th>purchase_count</th>\n",
       "    </tr>\n",
       "  </thead>\n",
       "  <tbody>\n",
       "    <tr>\n",
       "      <td>0</td>\n",
       "      <td>1</td>\n",
       "      <td>10</td>\n",
       "      <td>18</td>\n",
       "    </tr>\n",
       "    <tr>\n",
       "      <td>1</td>\n",
       "      <td>1</td>\n",
       "      <td>11</td>\n",
       "      <td>14</td>\n",
       "    </tr>\n",
       "    <tr>\n",
       "      <td>2</td>\n",
       "      <td>1</td>\n",
       "      <td>13</td>\n",
       "      <td>23</td>\n",
       "    </tr>\n",
       "    <tr>\n",
       "      <td>3</td>\n",
       "      <td>1</td>\n",
       "      <td>14</td>\n",
       "      <td>19</td>\n",
       "    </tr>\n",
       "    <tr>\n",
       "      <td>4</td>\n",
       "      <td>1</td>\n",
       "      <td>16</td>\n",
       "      <td>10</td>\n",
       "    </tr>\n",
       "  </tbody>\n",
       "</table>\n",
       "</div>"
      ],
      "text/plain": [
       "  client_id product_category  purchase_count\n",
       "0         1               10              18\n",
       "1         1               11              14\n",
       "2         1               13              23\n",
       "3         1               14              19\n",
       "4         1               16              10"
      ]
     },
     "execution_count": 46,
     "metadata": {},
     "output_type": "execute_result"
    }
   ],
   "source": [
    "data.head()"
   ]
  },
  {
   "cell_type": "markdown",
   "metadata": {},
   "source": [
    "### 2.2. Фильтрация неактивных пользователей"
   ]
  },
  {
   "cell_type": "markdown",
   "metadata": {},
   "source": [
    "Отфильтруем пользователей, которые взаимодействовали не больше, чем с 4 категориями товаров и услуг."
   ]
  },
  {
   "cell_type": "code",
   "execution_count": 47,
   "metadata": {},
   "outputs": [
    {
     "data": {
      "text/html": [
       "<div>\n",
       "<style scoped>\n",
       "    .dataframe tbody tr th:only-of-type {\n",
       "        vertical-align: middle;\n",
       "    }\n",
       "\n",
       "    .dataframe tbody tr th {\n",
       "        vertical-align: top;\n",
       "    }\n",
       "\n",
       "    .dataframe thead th {\n",
       "        text-align: right;\n",
       "    }\n",
       "</style>\n",
       "<table border=\"1\" class=\"dataframe\">\n",
       "  <thead>\n",
       "    <tr style=\"text-align: right;\">\n",
       "      <th></th>\n",
       "      <th>client_id</th>\n",
       "      <th>unique_categories</th>\n",
       "    </tr>\n",
       "  </thead>\n",
       "  <tbody>\n",
       "    <tr>\n",
       "      <td>0</td>\n",
       "      <td>1</td>\n",
       "      <td>17</td>\n",
       "    </tr>\n",
       "    <tr>\n",
       "      <td>1</td>\n",
       "      <td>10</td>\n",
       "      <td>19</td>\n",
       "    </tr>\n",
       "    <tr>\n",
       "      <td>2</td>\n",
       "      <td>100</td>\n",
       "      <td>20</td>\n",
       "    </tr>\n",
       "    <tr>\n",
       "      <td>3</td>\n",
       "      <td>1000</td>\n",
       "      <td>20</td>\n",
       "    </tr>\n",
       "    <tr>\n",
       "      <td>4</td>\n",
       "      <td>101</td>\n",
       "      <td>19</td>\n",
       "    </tr>\n",
       "  </tbody>\n",
       "</table>\n",
       "</div>"
      ],
      "text/plain": [
       "  client_id  unique_categories\n",
       "0         1                 17\n",
       "1        10                 19\n",
       "2       100                 20\n",
       "3      1000                 20\n",
       "4       101                 19"
      ]
     },
     "execution_count": 47,
     "metadata": {},
     "output_type": "execute_result"
    }
   ],
   "source": [
    "users_interactions = data \\\n",
    "    .groupby('client_id', as_index=False) \\\n",
    "    .agg({'product_category': 'count'}) \\\n",
    "    .rename(columns={'product_category': 'unique_categories'})\n",
    "users_interactions.head()"
   ]
  },
  {
   "cell_type": "code",
   "execution_count": 48,
   "metadata": {},
   "outputs": [
    {
     "data": {
      "image/png": "[encoded data removed]",
      "text/plain": [
       "<Figure size 432x288 with 1 Axes>"
      ]
     },
     "metadata": {
      "needs_background": "light"
     },
     "output_type": "display_data"
    }
   ],
   "source": [
    "sns.distplot(users_interactions.unique_categories);"
   ]
  },
  {
   "cell_type": "code",
   "execution_count": 49,
   "metadata": {},
   "outputs": [
    {
     "data": {
      "text/plain": [
       "0         1\n",
       "1        10\n",
       "2       100\n",
       "3      1000\n",
       "4       101\n",
       "       ... \n",
       "995     995\n",
       "996     996\n",
       "997     997\n",
       "998     998\n",
       "999     999\n",
       "Name: client_id, Length: 1000, dtype: object"
      ]
     },
     "execution_count": 49,
     "metadata": {},
     "output_type": "execute_result"
    }
   ],
   "source": [
    "users_with_enough_interactions = users_interactions.query('unique_categories > 4')['client_id']\n",
    "users_with_enough_interactions"
   ]
  },
  {
   "cell_type": "code",
   "execution_count": 50,
   "metadata": {},
   "outputs": [
    {
     "name": "stdout",
     "output_type": "stream",
     "text": [
      "Всего пользователей: 1000\n",
      "Пользователей по крайней мере с 5 взаимодействиями: 1000\n"
     ]
    }
   ],
   "source": [
    "print(f'Всего пользователей: {users_interactions.shape[0]}')\n",
    "print(f'Пользователей по крайней мере с 5 взаимодействиями: {users_with_enough_interactions.shape[0]}')"
   ]
  },
  {
   "cell_type": "markdown",
   "metadata": {},
   "source": [
    "Получаем, что пользователей меньше, чем с 5 взаимодействиями нет."
   ]
  },
  {
   "cell_type": "markdown",
   "metadata": {},
   "source": [
    "### 2.3. Масштабирование данных"
   ]
  },
  {
   "cell_type": "markdown",
   "metadata": {},
   "source": [
    "В качестве масштабирования данных воспользуемся MinMaxScaler."
   ]
  },
  {
   "cell_type": "code",
   "execution_count": 51,
   "metadata": {},
   "outputs": [
    {
     "data": {
      "text/html": [
       "<div>\n",
       "<style scoped>\n",
       "    .dataframe tbody tr th:only-of-type {\n",
       "        vertical-align: middle;\n",
       "    }\n",
       "\n",
       "    .dataframe tbody tr th {\n",
       "        vertical-align: top;\n",
       "    }\n",
       "\n",
       "    .dataframe thead th {\n",
       "        text-align: right;\n",
       "    }\n",
       "</style>\n",
       "<table border=\"1\" class=\"dataframe\">\n",
       "  <thead>\n",
       "    <tr style=\"text-align: right;\">\n",
       "      <th></th>\n",
       "      <th>client_id</th>\n",
       "      <th>product_category</th>\n",
       "      <th>purchase_normalize</th>\n",
       "    </tr>\n",
       "  </thead>\n",
       "  <tbody>\n",
       "    <tr>\n",
       "      <td>0</td>\n",
       "      <td>1</td>\n",
       "      <td>10</td>\n",
       "      <td>0.042607</td>\n",
       "    </tr>\n",
       "    <tr>\n",
       "      <td>1</td>\n",
       "      <td>1</td>\n",
       "      <td>11</td>\n",
       "      <td>0.032581</td>\n",
       "    </tr>\n",
       "    <tr>\n",
       "      <td>2</td>\n",
       "      <td>1</td>\n",
       "      <td>13</td>\n",
       "      <td>0.055138</td>\n",
       "    </tr>\n",
       "    <tr>\n",
       "      <td>3</td>\n",
       "      <td>1</td>\n",
       "      <td>14</td>\n",
       "      <td>0.045113</td>\n",
       "    </tr>\n",
       "    <tr>\n",
       "      <td>4</td>\n",
       "      <td>1</td>\n",
       "      <td>16</td>\n",
       "      <td>0.022556</td>\n",
       "    </tr>\n",
       "  </tbody>\n",
       "</table>\n",
       "</div>"
      ],
      "text/plain": [
       "  client_id product_category  purchase_normalize\n",
       "0         1               10            0.042607\n",
       "1         1               11            0.032581\n",
       "2         1               13            0.055138\n",
       "3         1               14            0.045113\n",
       "4         1               16            0.022556"
      ]
     },
     "execution_count": 51,
     "metadata": {},
     "output_type": "execute_result"
    }
   ],
   "source": [
    "data = data.assign(purchase_normalize = (data.purchase_count - data.purchase_count.min()) / (data.purchase_count.max() - data.purchase_count.min()))\n",
    "data.drop(columns=['purchase_count'], inplace=True)\n",
    "data.head()"
   ]
  },
  {
   "cell_type": "markdown",
   "metadata": {},
   "source": [
    "### 2.4. Разбиение выборки на тренировочную и тестовую"
   ]
  },
  {
   "cell_type": "markdown",
   "metadata": {},
   "source": [
    "Произведем разбиение выборки на обучение и контроль по времени. Перед этим возьмем последнее время взаимодействия пары client_id и product_category."
   ]
  },
  {
   "cell_type": "code",
   "execution_count": 52,
   "metadata": {},
   "outputs": [
    {
     "data": {
      "text/html": [
       "<div>\n",
       "<style scoped>\n",
       "    .dataframe tbody tr th:only-of-type {\n",
       "        vertical-align: middle;\n",
       "    }\n",
       "\n",
       "    .dataframe tbody tr th {\n",
       "        vertical-align: top;\n",
       "    }\n",
       "\n",
       "    .dataframe thead th {\n",
       "        text-align: right;\n",
       "    }\n",
       "</style>\n",
       "<table border=\"1\" class=\"dataframe\">\n",
       "  <thead>\n",
       "    <tr style=\"text-align: right;\">\n",
       "      <th></th>\n",
       "      <th>client_id</th>\n",
       "      <th>product_category</th>\n",
       "      <th>date</th>\n",
       "    </tr>\n",
       "  </thead>\n",
       "  <tbody>\n",
       "    <tr>\n",
       "      <td>0</td>\n",
       "      <td>1</td>\n",
       "      <td>10</td>\n",
       "      <td>2020-12-22 02:33:13</td>\n",
       "    </tr>\n",
       "    <tr>\n",
       "      <td>1</td>\n",
       "      <td>1</td>\n",
       "      <td>11</td>\n",
       "      <td>2020-12-22 10:20:44</td>\n",
       "    </tr>\n",
       "    <tr>\n",
       "      <td>2</td>\n",
       "      <td>1</td>\n",
       "      <td>13</td>\n",
       "      <td>2020-12-29 09:07:06</td>\n",
       "    </tr>\n",
       "    <tr>\n",
       "      <td>3</td>\n",
       "      <td>1</td>\n",
       "      <td>14</td>\n",
       "      <td>2020-12-31 06:49:11</td>\n",
       "    </tr>\n",
       "    <tr>\n",
       "      <td>4</td>\n",
       "      <td>1</td>\n",
       "      <td>16</td>\n",
       "      <td>2020-12-29 03:38:07</td>\n",
       "    </tr>\n",
       "  </tbody>\n",
       "</table>\n",
       "</div>"
      ],
      "text/plain": [
       "  client_id product_category                date\n",
       "0         1               10 2020-12-22 02:33:13\n",
       "1         1               11 2020-12-22 10:20:44\n",
       "2         1               13 2020-12-29 09:07:06\n",
       "3         1               14 2020-12-31 06:49:11\n",
       "4         1               16 2020-12-29 03:38:07"
      ]
     },
     "execution_count": 52,
     "metadata": {},
     "output_type": "execute_result"
    }
   ],
   "source": [
    "transactions_last_date = transactions_part \\\n",
    "    .groupby(['client_id', 'product_category'], as_index=False) \\\n",
    "    .date \\\n",
    "    .last()\n",
    "transactions_last_date.head()"
   ]
  },
  {
   "cell_type": "code",
   "execution_count": 53,
   "metadata": {},
   "outputs": [
    {
     "data": {
      "text/html": [
       "<div>\n",
       "<style scoped>\n",
       "    .dataframe tbody tr th:only-of-type {\n",
       "        vertical-align: middle;\n",
       "    }\n",
       "\n",
       "    .dataframe tbody tr th {\n",
       "        vertical-align: top;\n",
       "    }\n",
       "\n",
       "    .dataframe thead th {\n",
       "        text-align: right;\n",
       "    }\n",
       "</style>\n",
       "<table border=\"1\" class=\"dataframe\">\n",
       "  <thead>\n",
       "    <tr style=\"text-align: right;\">\n",
       "      <th></th>\n",
       "      <th>client_id</th>\n",
       "      <th>product_category</th>\n",
       "      <th>purchase_normalize</th>\n",
       "      <th>last_date</th>\n",
       "    </tr>\n",
       "  </thead>\n",
       "  <tbody>\n",
       "    <tr>\n",
       "      <td>0</td>\n",
       "      <td>1</td>\n",
       "      <td>10</td>\n",
       "      <td>0.042607</td>\n",
       "      <td>2020-12-22 02:33:13</td>\n",
       "    </tr>\n",
       "    <tr>\n",
       "      <td>1</td>\n",
       "      <td>1</td>\n",
       "      <td>11</td>\n",
       "      <td>0.032581</td>\n",
       "      <td>2020-12-22 10:20:44</td>\n",
       "    </tr>\n",
       "    <tr>\n",
       "      <td>2</td>\n",
       "      <td>1</td>\n",
       "      <td>13</td>\n",
       "      <td>0.055138</td>\n",
       "      <td>2020-12-29 09:07:06</td>\n",
       "    </tr>\n",
       "    <tr>\n",
       "      <td>3</td>\n",
       "      <td>1</td>\n",
       "      <td>14</td>\n",
       "      <td>0.045113</td>\n",
       "      <td>2020-12-31 06:49:11</td>\n",
       "    </tr>\n",
       "    <tr>\n",
       "      <td>4</td>\n",
       "      <td>1</td>\n",
       "      <td>16</td>\n",
       "      <td>0.022556</td>\n",
       "      <td>2020-12-29 03:38:07</td>\n",
       "    </tr>\n",
       "  </tbody>\n",
       "</table>\n",
       "</div>"
      ],
      "text/plain": [
       "  client_id product_category  purchase_normalize           last_date\n",
       "0         1               10            0.042607 2020-12-22 02:33:13\n",
       "1         1               11            0.032581 2020-12-22 10:20:44\n",
       "2         1               13            0.055138 2020-12-29 09:07:06\n",
       "3         1               14            0.045113 2020-12-31 06:49:11\n",
       "4         1               16            0.022556 2020-12-29 03:38:07"
      ]
     },
     "execution_count": 53,
     "metadata": {},
     "output_type": "execute_result"
    }
   ],
   "source": [
    "data = data \\\n",
    "    .merge(transactions_last_date, on=['client_id', 'product_category']) \\\n",
    "    .rename(columns={'date': 'last_date'})\n",
    "data.head()"
   ]
  },
  {
   "cell_type": "code",
   "execution_count": 54,
   "metadata": {},
   "outputs": [
    {
     "name": "stdout",
     "output_type": "stream",
     "text": [
      "Всего взаимодействий: 19694\n",
      "Доля взаимодействий в тренировочной выборке: 0.8 (16544)\n",
      "Доля взаимодействий в тестовой выборке: 0.2 (3150)\n"
     ]
    }
   ],
   "source": [
    "split_date = '2020-12-30'\n",
    "data_train = data.query('last_date < @split_date').copy()\n",
    "data_test = data.query('last_date >= @split_date').copy()\n",
    "\n",
    "print(f'Всего взаимодействий: {data.shape[0]}')\n",
    "print(f'Доля взаимодействий в тренировочной выборке: {round(data_train.shape[0] / data.shape[0], 1)} ({data_train.shape[0]})')\n",
    "print(f'Доля взаимодействий в тестовой выборке: {round(data_test.shape[0] / data.shape[0], 1)} ({data_test.shape[0]})')"
   ]
  },
  {
   "cell_type": "markdown",
   "metadata": {},
   "source": [
    "Для удобства подсчета качества запишем данные в формате, где строка соответствует пользователю, а столбцы будут истинными метками и предсказаниями в виде списков."
   ]
  },
  {
   "cell_type": "code",
   "execution_count": 55,
   "metadata": {},
   "outputs": [],
   "source": [
    "data_true = (\n",
    "    data_train\n",
    "    .groupby('client_id')['product_category'].agg(lambda x: list(x))\n",
    "    .reset_index()\n",
    "    .rename(columns={'product_category': 'true_train'})\n",
    "    .set_index('client_id')\n",
    ")\n",
    "\n",
    "data_true['true_test'] = (\n",
    "    data_test\n",
    "    .groupby('client_id')['product_category'].agg(lambda x: list(x))\n",
    ")"
   ]
  },
  {
   "cell_type": "markdown",
   "metadata": {},
   "source": [
    "Заполним пропуски пустыми списками."
   ]
  },
  {
   "cell_type": "code",
   "execution_count": 56,
   "metadata": {},
   "outputs": [],
   "source": [
    "data_true.loc[pd.isnull(data_true.true_test), 'true_test'] = [\n",
    "    list() for x in range(len(data_true.loc[pd.isnull(data_true.true_test), 'true_test']))]"
   ]
  },
  {
   "cell_type": "code",
   "execution_count": 57,
   "metadata": {},
   "outputs": [
    {
     "data": {
      "text/html": [
       "<div>\n",
       "<style scoped>\n",
       "    .dataframe tbody tr th:only-of-type {\n",
       "        vertical-align: middle;\n",
       "    }\n",
       "\n",
       "    .dataframe tbody tr th {\n",
       "        vertical-align: top;\n",
       "    }\n",
       "\n",
       "    .dataframe thead th {\n",
       "        text-align: right;\n",
       "    }\n",
       "</style>\n",
       "<table border=\"1\" class=\"dataframe\">\n",
       "  <thead>\n",
       "    <tr style=\"text-align: right;\">\n",
       "      <th></th>\n",
       "      <th>true_train</th>\n",
       "      <th>true_test</th>\n",
       "    </tr>\n",
       "    <tr>\n",
       "      <th>client_id</th>\n",
       "      <th></th>\n",
       "      <th></th>\n",
       "    </tr>\n",
       "  </thead>\n",
       "  <tbody>\n",
       "    <tr>\n",
       "      <td>1</td>\n",
       "      <td>[10, 11, 13, 16, 17, 18, 19, 2, 20, 21, 4, 6, ...</td>\n",
       "      <td>[14, 5, 9]</td>\n",
       "    </tr>\n",
       "  </tbody>\n",
       "</table>\n",
       "</div>"
      ],
      "text/plain": [
       "                                                  true_train   true_test\n",
       "client_id                                                               \n",
       "1          [10, 11, 13, 16, 17, 18, 19, 2, 20, 21, 4, 6, ...  [14, 5, 9]"
      ]
     },
     "execution_count": 57,
     "metadata": {},
     "output_type": "execute_result"
    }
   ],
   "source": [
    "data_true.head(1)"
   ]
  },
  {
   "cell_type": "markdown",
   "metadata": {},
   "source": [
    "## 3. Моделирование и оценка"
   ]
  },
  {
   "cell_type": "markdown",
   "metadata": {},
   "source": [
    "Для каждого пользователя будем предсказывать только одну категорию товара или услуги в связи тем, что реклама только одной категории товара или услуги может быть показана пользователю в приложении."
   ]
  },
  {
   "cell_type": "markdown",
   "metadata": {},
   "source": [
    "### 3.1. Метрики качества"
   ]
  },
  {
   "cell_type": "markdown",
   "metadata": {},
   "source": [
    "В качестве метрик качества моделей рассчитаем следующие:\n",
    "- precision@k;\n",
    "- recall@k;\n",
    "- F-score@k.\n",
    "\n",
    "За основную метрику возьмем F-score@k."
   ]
  },
  {
   "cell_type": "code",
   "execution_count": 58,
   "metadata": {},
   "outputs": [],
   "source": [
    "top_k = 1 # количество категорий, которое нужно предсказать пользователю"
   ]
  },
  {
   "cell_type": "code",
   "execution_count": 59,
   "metadata": {},
   "outputs": [],
   "source": [
    "def calc_precision(column):\n",
    "    return (\n",
    "        data_true\n",
    "            .apply(\n",
    "                lambda row: len(set(row['true_test']).intersection(row[column])) / min(len(row['true_test']) + 0.001, top_k),\n",
    "                axis=1\n",
    "            )\n",
    "    ).mean()"
   ]
  },
  {
   "cell_type": "code",
   "execution_count": 60,
   "metadata": {},
   "outputs": [],
   "source": [
    "def calc_recall(column):\n",
    "    return (\n",
    "        data_true\n",
    "            .apply(\n",
    "                lambda row: len(set(row['true_test']).intersection(row[column])) / min(len(row[column]) + 0.001, top_k),\n",
    "                axis=1\n",
    "            )\n",
    "    ).mean()"
   ]
  },
  {
   "cell_type": "markdown",
   "metadata": {},
   "source": [
    "При прогнозировании нам важнее то, чтобы модель рекомендательной системы не рекомендовала пользователям то, что им не интересно, поэтому строя и оценивая наши модели, будем использовать измененную метрику качества F-score, в которой дадим больший вес точности (precision@k)."
   ]
  },
  {
   "cell_type": "code",
   "execution_count": 61,
   "metadata": {},
   "outputs": [],
   "source": [
    "def calc_fscore_precision(column):\n",
    "    beta = 0.5\n",
    "    precision = calc_precision(column)\n",
    "    recall = calc_recall(column)\n",
    "    fscore_precision = ((1 + beta ** 2) * precision * recall) / (beta ** 2 * precision + recall)\n",
    "    return fscore_precision"
   ]
  },
  {
   "cell_type": "markdown",
   "metadata": {},
   "source": [
    "### 3.2. Модель по полуярности (baseline)"
   ]
  },
  {
   "cell_type": "markdown",
   "metadata": {},
   "source": [
    "Посчитаем популярность каждой категории, как сумму всех количеств взаимодействия с ней, и отсортируем категории по их популярности."
   ]
  },
  {
   "cell_type": "code",
   "execution_count": 62,
   "metadata": {},
   "outputs": [
    {
     "data": {
      "text/plain": [
       "array(['5', '6', '2', '3', '1', '7', '11', '8', '13', '10', '14', '9',\n",
       "       '15', '17', '21', '20', '16', '18', '19', '4', '12', '26', '27',\n",
       "       '24', '25', '22', '23'], dtype=object)"
      ]
     },
     "execution_count": 62,
     "metadata": {},
     "output_type": "execute_result"
    }
   ],
   "source": [
    "popular_category = (\n",
    "    data_train\n",
    "    .groupby('product_category', as_index=False)\n",
    "    .agg({'purchase_normalize': 'sum'})\n",
    "    .rename(columns={'purchase_normalize': 'purchase_total'})\n",
    "    .sort_values('purchase_total', ascending=False)\n",
    "    .product_category.values\n",
    ")\n",
    "popular_category"
   ]
  },
  {
   "cell_type": "code",
   "execution_count": 63,
   "metadata": {},
   "outputs": [
    {
     "name": "stdout",
     "output_type": "stream",
     "text": [
      "Наиболее популярной категорией является: Фастфуд\n",
      "Наименее популярной категорией является: Автоуслуги\n"
     ]
    }
   ],
   "source": [
    "print(f\"Наиболее популярной категорией является: {categories.query('product_category == @popular_category[0]')['name'].values[0]}\")\n",
    "print(f\"Наименее популярной категорией является: {categories.query('product_category == @popular_category[-1]')['name'].values[0]}\")"
   ]
  },
  {
   "cell_type": "markdown",
   "metadata": {},
   "source": [
    "Делаем предсказания для каждого пользователя."
   ]
  },
  {
   "cell_type": "markdown",
   "metadata": {},
   "source": [
    "Рекомендуем каждому пользователю те категории товаров и услуг, которые он приобретал и которые еще нет. В этом случае каждому пользователю предлагаем самую популярную категорию."
   ]
  },
  {
   "cell_type": "code",
   "execution_count": 64,
   "metadata": {},
   "outputs": [],
   "source": [
    "data_true['prediction_popular_without'] = np.resize(popular_category[:top_k], (data_true.shape[0], 1))"
   ]
  },
  {
   "cell_type": "code",
   "execution_count": 65,
   "metadata": {},
   "outputs": [
    {
     "data": {
      "text/html": [
       "<div>\n",
       "<style scoped>\n",
       "    .dataframe tbody tr th:only-of-type {\n",
       "        vertical-align: middle;\n",
       "    }\n",
       "\n",
       "    .dataframe tbody tr th {\n",
       "        vertical-align: top;\n",
       "    }\n",
       "\n",
       "    .dataframe thead th {\n",
       "        text-align: right;\n",
       "    }\n",
       "</style>\n",
       "<table border=\"1\" class=\"dataframe\">\n",
       "  <thead>\n",
       "    <tr style=\"text-align: right;\">\n",
       "      <th></th>\n",
       "      <th>true_train</th>\n",
       "      <th>true_test</th>\n",
       "      <th>prediction_popular_without</th>\n",
       "    </tr>\n",
       "    <tr>\n",
       "      <th>client_id</th>\n",
       "      <th></th>\n",
       "      <th></th>\n",
       "      <th></th>\n",
       "    </tr>\n",
       "  </thead>\n",
       "  <tbody>\n",
       "    <tr>\n",
       "      <td>1</td>\n",
       "      <td>[10, 11, 13, 16, 17, 18, 19, 2, 20, 21, 4, 6, ...</td>\n",
       "      <td>[14, 5, 9]</td>\n",
       "      <td>5</td>\n",
       "    </tr>\n",
       "    <tr>\n",
       "      <td>10</td>\n",
       "      <td>[1, 10, 11, 13, 14, 16, 17, 18, 19, 20, 21, 26...</td>\n",
       "      <td>[2, 6]</td>\n",
       "      <td>5</td>\n",
       "    </tr>\n",
       "    <tr>\n",
       "      <td>100</td>\n",
       "      <td>[1, 10, 12, 13, 14, 16, 17, 18, 19, 2, 20, 21,...</td>\n",
       "      <td>[11, 5, 6, 9]</td>\n",
       "      <td>5</td>\n",
       "    </tr>\n",
       "    <tr>\n",
       "      <td>1000</td>\n",
       "      <td>[1, 11, 13, 14, 15, 16, 17, 18, 19, 20, 21, 3,...</td>\n",
       "      <td>[10, 2, 6, 7]</td>\n",
       "      <td>5</td>\n",
       "    </tr>\n",
       "    <tr>\n",
       "      <td>101</td>\n",
       "      <td>[1, 10, 11, 13, 14, 16, 17, 18, 19, 2, 20, 21,...</td>\n",
       "      <td>[6]</td>\n",
       "      <td>5</td>\n",
       "    </tr>\n",
       "  </tbody>\n",
       "</table>\n",
       "</div>"
      ],
      "text/plain": [
       "                                                  true_train      true_test  \\\n",
       "client_id                                                                     \n",
       "1          [10, 11, 13, 16, 17, 18, 19, 2, 20, 21, 4, 6, ...     [14, 5, 9]   \n",
       "10         [1, 10, 11, 13, 14, 16, 17, 18, 19, 20, 21, 26...         [2, 6]   \n",
       "100        [1, 10, 12, 13, 14, 16, 17, 18, 19, 2, 20, 21,...  [11, 5, 6, 9]   \n",
       "1000       [1, 11, 13, 14, 15, 16, 17, 18, 19, 20, 21, 3,...  [10, 2, 6, 7]   \n",
       "101        [1, 10, 11, 13, 14, 16, 17, 18, 19, 2, 20, 21,...            [6]   \n",
       "\n",
       "          prediction_popular_without  \n",
       "client_id                             \n",
       "1                                  5  \n",
       "10                                 5  \n",
       "100                                5  \n",
       "1000                               5  \n",
       "101                                5  "
      ]
     },
     "execution_count": 65,
     "metadata": {},
     "output_type": "execute_result"
    }
   ],
   "source": [
    "data_true.head()"
   ]
  },
  {
   "cell_type": "code",
   "execution_count": 66,
   "metadata": {},
   "outputs": [
    {
     "name": "stdout",
     "output_type": "stream",
     "text": [
      "Precision@1: 0.524\n",
      "Recall@1: 0.524\n",
      "F-score@1: 0.524\n"
     ]
    }
   ],
   "source": [
    "print(f'Precision@1: {calc_precision(\"prediction_popular_without\")}')\n",
    "print(f'Recall@1: {calc_recall(\"prediction_popular_without\")}')\n",
    "print(f'F-score@1: {calc_fscore_precision(\"prediction_popular_without\")}')"
   ]
  },
  {
   "cell_type": "markdown",
   "metadata": {},
   "source": [
    "### 3.3. Коллаборативная фильтрация"
   ]
  },
  {
   "cell_type": "code",
   "execution_count": 67,
   "metadata": {},
   "outputs": [
    {
     "data": {
      "text/html": [
       "<div>\n",
       "<style scoped>\n",
       "    .dataframe tbody tr th:only-of-type {\n",
       "        vertical-align: middle;\n",
       "    }\n",
       "\n",
       "    .dataframe tbody tr th {\n",
       "        vertical-align: top;\n",
       "    }\n",
       "\n",
       "    .dataframe thead th {\n",
       "        text-align: right;\n",
       "    }\n",
       "</style>\n",
       "<table border=\"1\" class=\"dataframe\">\n",
       "  <thead>\n",
       "    <tr style=\"text-align: right;\">\n",
       "      <th>product_category</th>\n",
       "      <th>1</th>\n",
       "      <th>10</th>\n",
       "      <th>11</th>\n",
       "      <th>12</th>\n",
       "      <th>13</th>\n",
       "      <th>14</th>\n",
       "      <th>15</th>\n",
       "      <th>16</th>\n",
       "      <th>17</th>\n",
       "      <th>18</th>\n",
       "      <th>...</th>\n",
       "      <th>25</th>\n",
       "      <th>26</th>\n",
       "      <th>27</th>\n",
       "      <th>3</th>\n",
       "      <th>4</th>\n",
       "      <th>5</th>\n",
       "      <th>6</th>\n",
       "      <th>7</th>\n",
       "      <th>8</th>\n",
       "      <th>9</th>\n",
       "    </tr>\n",
       "    <tr>\n",
       "      <th>client_id</th>\n",
       "      <th></th>\n",
       "      <th></th>\n",
       "      <th></th>\n",
       "      <th></th>\n",
       "      <th></th>\n",
       "      <th></th>\n",
       "      <th></th>\n",
       "      <th></th>\n",
       "      <th></th>\n",
       "      <th></th>\n",
       "      <th></th>\n",
       "      <th></th>\n",
       "      <th></th>\n",
       "      <th></th>\n",
       "      <th></th>\n",
       "      <th></th>\n",
       "      <th></th>\n",
       "      <th></th>\n",
       "      <th></th>\n",
       "      <th></th>\n",
       "      <th></th>\n",
       "    </tr>\n",
       "  </thead>\n",
       "  <tbody>\n",
       "    <tr>\n",
       "      <td>1</td>\n",
       "      <td>0.000000</td>\n",
       "      <td>0.042607</td>\n",
       "      <td>0.032581</td>\n",
       "      <td>0.0</td>\n",
       "      <td>0.055138</td>\n",
       "      <td>0.045113</td>\n",
       "      <td>0.000000</td>\n",
       "      <td>0.022556</td>\n",
       "      <td>0.012531</td>\n",
       "      <td>0.040100</td>\n",
       "      <td>...</td>\n",
       "      <td>0.0</td>\n",
       "      <td>0.0</td>\n",
       "      <td>0.0</td>\n",
       "      <td>0.000000</td>\n",
       "      <td>0.027569</td>\n",
       "      <td>0.378446</td>\n",
       "      <td>0.974937</td>\n",
       "      <td>0.065163</td>\n",
       "      <td>0.060150</td>\n",
       "      <td>0.047619</td>\n",
       "    </tr>\n",
       "    <tr>\n",
       "      <td>10</td>\n",
       "      <td>0.102757</td>\n",
       "      <td>0.050125</td>\n",
       "      <td>0.065163</td>\n",
       "      <td>0.0</td>\n",
       "      <td>0.070175</td>\n",
       "      <td>0.050125</td>\n",
       "      <td>0.000000</td>\n",
       "      <td>0.015038</td>\n",
       "      <td>0.022556</td>\n",
       "      <td>0.030075</td>\n",
       "      <td>...</td>\n",
       "      <td>0.0</td>\n",
       "      <td>0.0</td>\n",
       "      <td>0.0</td>\n",
       "      <td>0.082707</td>\n",
       "      <td>0.000000</td>\n",
       "      <td>0.273183</td>\n",
       "      <td>0.784461</td>\n",
       "      <td>0.050125</td>\n",
       "      <td>0.065163</td>\n",
       "      <td>0.047619</td>\n",
       "    </tr>\n",
       "    <tr>\n",
       "      <td>100</td>\n",
       "      <td>0.110276</td>\n",
       "      <td>0.030075</td>\n",
       "      <td>0.045113</td>\n",
       "      <td>0.0</td>\n",
       "      <td>0.030075</td>\n",
       "      <td>0.035088</td>\n",
       "      <td>0.000000</td>\n",
       "      <td>0.025063</td>\n",
       "      <td>0.035088</td>\n",
       "      <td>0.030075</td>\n",
       "      <td>...</td>\n",
       "      <td>0.0</td>\n",
       "      <td>0.0</td>\n",
       "      <td>0.0</td>\n",
       "      <td>0.067669</td>\n",
       "      <td>0.020050</td>\n",
       "      <td>0.283208</td>\n",
       "      <td>0.781955</td>\n",
       "      <td>0.035088</td>\n",
       "      <td>0.047619</td>\n",
       "      <td>0.062657</td>\n",
       "    </tr>\n",
       "    <tr>\n",
       "      <td>1000</td>\n",
       "      <td>0.080201</td>\n",
       "      <td>0.075188</td>\n",
       "      <td>0.077694</td>\n",
       "      <td>0.0</td>\n",
       "      <td>0.057644</td>\n",
       "      <td>0.065163</td>\n",
       "      <td>0.117794</td>\n",
       "      <td>0.012531</td>\n",
       "      <td>0.010025</td>\n",
       "      <td>0.020050</td>\n",
       "      <td>...</td>\n",
       "      <td>0.0</td>\n",
       "      <td>0.0</td>\n",
       "      <td>0.0</td>\n",
       "      <td>0.080201</td>\n",
       "      <td>0.027569</td>\n",
       "      <td>0.338346</td>\n",
       "      <td>0.979950</td>\n",
       "      <td>0.075188</td>\n",
       "      <td>0.072682</td>\n",
       "      <td>0.067669</td>\n",
       "    </tr>\n",
       "    <tr>\n",
       "      <td>101</td>\n",
       "      <td>0.067669</td>\n",
       "      <td>0.067669</td>\n",
       "      <td>0.082707</td>\n",
       "      <td>0.0</td>\n",
       "      <td>0.090226</td>\n",
       "      <td>0.057644</td>\n",
       "      <td>0.000000</td>\n",
       "      <td>0.020050</td>\n",
       "      <td>0.015038</td>\n",
       "      <td>0.022556</td>\n",
       "      <td>...</td>\n",
       "      <td>0.0</td>\n",
       "      <td>0.0</td>\n",
       "      <td>0.0</td>\n",
       "      <td>0.110276</td>\n",
       "      <td>0.007519</td>\n",
       "      <td>0.338346</td>\n",
       "      <td>0.862155</td>\n",
       "      <td>0.077694</td>\n",
       "      <td>0.082707</td>\n",
       "      <td>0.057644</td>\n",
       "    </tr>\n",
       "  </tbody>\n",
       "</table>\n",
       "<p>5 rows × 27 columns</p>\n",
       "</div>"
      ],
      "text/plain": [
       "product_category         1        10        11   12        13        14  \\\n",
       "client_id                                                                 \n",
       "1                 0.000000  0.042607  0.032581  0.0  0.055138  0.045113   \n",
       "10                0.102757  0.050125  0.065163  0.0  0.070175  0.050125   \n",
       "100               0.110276  0.030075  0.045113  0.0  0.030075  0.035088   \n",
       "1000              0.080201  0.075188  0.077694  0.0  0.057644  0.065163   \n",
       "101               0.067669  0.067669  0.082707  0.0  0.090226  0.057644   \n",
       "\n",
       "product_category        15        16        17        18  ...   25   26   27  \\\n",
       "client_id                                                 ...                  \n",
       "1                 0.000000  0.022556  0.012531  0.040100  ...  0.0  0.0  0.0   \n",
       "10                0.000000  0.015038  0.022556  0.030075  ...  0.0  0.0  0.0   \n",
       "100               0.000000  0.025063  0.035088  0.030075  ...  0.0  0.0  0.0   \n",
       "1000              0.117794  0.012531  0.010025  0.020050  ...  0.0  0.0  0.0   \n",
       "101               0.000000  0.020050  0.015038  0.022556  ...  0.0  0.0  0.0   \n",
       "\n",
       "product_category         3         4         5         6         7         8  \\\n",
       "client_id                                                                      \n",
       "1                 0.000000  0.027569  0.378446  0.974937  0.065163  0.060150   \n",
       "10                0.082707  0.000000  0.273183  0.784461  0.050125  0.065163   \n",
       "100               0.067669  0.020050  0.283208  0.781955  0.035088  0.047619   \n",
       "1000              0.080201  0.027569  0.338346  0.979950  0.075188  0.072682   \n",
       "101               0.110276  0.007519  0.338346  0.862155  0.077694  0.082707   \n",
       "\n",
       "product_category         9  \n",
       "client_id                   \n",
       "1                 0.047619  \n",
       "10                0.047619  \n",
       "100               0.062657  \n",
       "1000              0.067669  \n",
       "101               0.057644  \n",
       "\n",
       "[5 rows x 27 columns]"
      ]
     },
     "execution_count": 67,
     "metadata": {},
     "output_type": "execute_result"
    }
   ],
   "source": [
    "data_matrix = pd.pivot_table(data, index='client_id', columns='product_category', values='purchase_normalize', fill_value=0)\n",
    "data_matrix.head()"
   ]
  },
  {
   "cell_type": "markdown",
   "metadata": {},
   "source": [
    "#### 3.3.1. Memory-dased (user-based)"
   ]
  },
  {
   "cell_type": "code",
   "execution_count": 68,
   "metadata": {},
   "outputs": [],
   "source": [
    "matrix = data_matrix.values"
   ]
  },
  {
   "cell_type": "code",
   "execution_count": 69,
   "metadata": {},
   "outputs": [
    {
     "data": {
      "application/vnd.jupyter.widget-view+json": {
       "model_id": "7b99890a3d124b82b669cf71fae509f3",
       "version_major": 2,
       "version_minor": 0
      },
      "text/plain": [
       "HBox(children=(IntProgress(value=0, max=1000), HTML(value='')))"
      ]
     },
     "metadata": {},
     "output_type": "display_data"
    },
    {
     "name": "stdout",
     "output_type": "stream",
     "text": [
      "\n"
     ]
    }
   ],
   "source": [
    "similarity_users = np.zeros((len(matrix), len(matrix)))\n",
    "\n",
    "for i in tqdm_notebook(range(len(matrix))):\n",
    "    for j in range(i+1, len(matrix)):\n",
    "        \n",
    "        mask_uv = (matrix[i] != 0) & (matrix[j] != 0)\n",
    "        \n",
    "        if np.sum(mask_uv) == 0:\n",
    "            continue\n",
    "            \n",
    "        ratings_v = matrix[i, mask_uv]\n",
    "        ratings_u = matrix[j, mask_uv]\n",
    "        \n",
    "        if len(np.unique(ratings_v)) < 2 or len(np.unique(ratings_u)) < 2:\n",
    "            continue\n",
    "        similarity_users[i,j] = np.corrcoef(ratings_v, ratings_u)[0, 1]\n",
    "        similarity_users[j,i] = similarity_users[i,j]"
   ]
  },
  {
   "cell_type": "markdown",
   "metadata": {},
   "source": [
    "В нашем примере данных не очень много, поэтому возьмём $\\alpha = 0$."
   ]
  },
  {
   "cell_type": "code",
   "execution_count": 70,
   "metadata": {},
   "outputs": [
    {
     "data": {
      "application/vnd.jupyter.widget-view+json": {
       "model_id": "0797a293587d47ff9181ee4dacf0c919",
       "version_major": 2,
       "version_minor": 0
      },
      "text/plain": [
       "HBox(children=(IntProgress(value=0, max=1000), HTML(value='')))"
      ]
     },
     "metadata": {},
     "output_type": "display_data"
    },
    {
     "name": "stdout",
     "output_type": "stream",
     "text": [
      "\n"
     ]
    }
   ],
   "source": [
    "prediction_user_based = []\n",
    "for i in tqdm_notebook(range(len(similarity_users))):\n",
    "    users_sim = similarity_users[i] > 0\n",
    "    if len(users_sim) == 0:\n",
    "        prediction_user_based.append([])\n",
    "    else:\n",
    "        tmp_recommend = np.argsort(matrix[users_sim].sum(axis=0))[::-1]\n",
    "        tmp_recommend = data_matrix.columns[tmp_recommend]\n",
    "        recommend = np.array(tmp_recommend)[:1] #***\n",
    "        prediction_user_based.append(list(recommend))\n",
    "\n",
    "data_true['prediction_user_based'] = prediction_user_based"
   ]
  },
  {
   "cell_type": "code",
   "execution_count": 71,
   "metadata": {},
   "outputs": [
    {
     "name": "stdout",
     "output_type": "stream",
     "text": [
      "Precision@1: 0.855\n",
      "Recall@1: 0.855\n",
      "F-score@1: 0.855\n"
     ]
    }
   ],
   "source": [
    "print(f'Precision@1: {calc_precision(\"prediction_user_based\")}')\n",
    "print(f'Recall@1: {calc_recall(\"prediction_user_based\")}')\n",
    "print(f'F-score@1: {calc_fscore_precision(\"prediction_user_based\")}')"
   ]
  },
  {
   "cell_type": "markdown",
   "metadata": {},
   "source": [
    "#### 3.3.2. Latent Factor Model"
   ]
  },
  {
   "cell_type": "code",
   "execution_count": 72,
   "metadata": {},
   "outputs": [
    {
     "name": "stdout",
     "output_type": "stream",
     "text": [
      "(1000, 27) (1000, 1000) (27,) (27, 27)\n"
     ]
    }
   ],
   "source": [
    "U, sigma, V = svd(data_matrix)\n",
    "print(data_matrix.shape, U.shape, sigma.shape, V.shape)"
   ]
  },
  {
   "cell_type": "code",
   "execution_count": 73,
   "metadata": {},
   "outputs": [
    {
     "name": "stdout",
     "output_type": "stream",
     "text": [
      "9.463168292693107e-26\n"
     ]
    }
   ],
   "source": [
    "Sigma = np.zeros((1000, 27))\n",
    "Sigma[:27, :27] = np.diag(sigma)\n",
    "\n",
    "new_data_matrix = U.dot(Sigma).dot(V)\n",
    "print(sum(sum((new_data_matrix - data_matrix.values) ** 2)))"
   ]
  },
  {
   "cell_type": "markdown",
   "metadata": {},
   "source": [
    "Значения у матрицы с сингулярными числами отсортированы по убыванию. Оставим только первые 25 компонент и получим скрытые представления размерности 25."
   ]
  },
  {
   "cell_type": "code",
   "execution_count": 74,
   "metadata": {},
   "outputs": [],
   "source": [
    "K = 25\n",
    "sigma[K:] = 0\n",
    "Sigma = np.zeros((1000, 27))\n",
    "Sigma[:27, :27] = np.diag(sigma)"
   ]
  },
  {
   "cell_type": "code",
   "execution_count": 75,
   "metadata": {},
   "outputs": [
    {
     "name": "stdout",
     "output_type": "stream",
     "text": [
      "0.00024670313819872284\n",
      "782.1063944626712\n"
     ]
    }
   ],
   "source": [
    "new_data_matrix = U.dot(Sigma).dot(V)\n",
    "print(sum(sum((new_data_matrix - data_matrix.values) ** 2)))\n",
    "print(sum(sum((data_matrix.values.mean() - data_matrix.values) ** 2)))"
   ]
  },
  {
   "cell_type": "code",
   "execution_count": 76,
   "metadata": {},
   "outputs": [
    {
     "data": {
      "application/vnd.jupyter.widget-view+json": {
       "model_id": "6c58fe6407ba44b9845023399352a496",
       "version_major": 2,
       "version_minor": 0
      },
      "text/plain": [
       "HBox(children=(IntProgress(value=0, max=1000), HTML(value='')))"
      ]
     },
     "metadata": {},
     "output_type": "display_data"
    },
    {
     "name": "stdout",
     "output_type": "stream",
     "text": [
      "\n"
     ]
    }
   ],
   "source": [
    "new_data_matrix = pd.DataFrame(new_data_matrix, index=data_matrix.index, columns=data_matrix.columns)\n",
    "\n",
    "predictions = []\n",
    "for client_id in tqdm_notebook(data_true.index):\n",
    "    prediction = (\n",
    "        new_data_matrix\n",
    "        .loc[client_id]\n",
    "        .sort_values(ascending=False)\n",
    "        .index.values\n",
    "    )\n",
    "    \n",
    "    predictions.append(\n",
    "        list(prediction)[:top_k]) #***\n",
    "\n",
    "data_true['prediction_svd'] = predictions"
   ]
  },
  {
   "cell_type": "code",
   "execution_count": 77,
   "metadata": {},
   "outputs": [
    {
     "name": "stdout",
     "output_type": "stream",
     "text": [
      "Precision@1: 0.855\n",
      "Recall@1: 0.855\n",
      "F-score@1: 0.855\n"
     ]
    }
   ],
   "source": [
    "print(f'Precision@1: {calc_precision(\"prediction_svd\")}')\n",
    "print(f'Recall@1: {calc_recall(\"prediction_svd\")}')\n",
    "print(f'F-score@1: {calc_fscore_precision(\"prediction_svd\")}')"
   ]
  },
  {
   "cell_type": "markdown",
   "metadata": {},
   "source": [
    "### 3.4. Контентная модель"
   ]
  },
  {
   "cell_type": "code",
   "execution_count": 78,
   "metadata": {},
   "outputs": [
    {
     "name": "stderr",
     "output_type": "stream",
     "text": [
      "C:\\Users\\kiril\\Anaconda3\\lib\\site-packages\\ipykernel_launcher.py:11: FutureWarning: Sorting because non-concatenation axis is not aligned. A future version\n",
      "of pandas will change to not sort by default.\n",
      "\n",
      "To accept the future behavior, pass 'sort=False'.\n",
      "\n",
      "To retain the current behavior and silence the warning, pass 'sort=True'.\n",
      "\n",
      "  # This is added back by InteractiveShellApp.init_path()\n"
     ]
    }
   ],
   "source": [
    "test_client_id = np.repeat(data_true.index, len(data_matrix.columns)) \n",
    "test_product_category = list(data_matrix.columns) * len(data_true)\n",
    "test = pd.DataFrame(\n",
    "    np.array([test_client_id, test_product_category]).T,\n",
    "    columns=['client_id', 'product_category'])\n",
    "\n",
    "data_train_content = pd.concat((\n",
    "    data_train,\n",
    "    test.loc[\n",
    "        np.random.permutation(test.index)[\n",
    "            :4*len(data_train)]]), ignore_index=True)\n",
    "data_train.purchase_normalize.fillna(0, inplace=True)"
   ]
  },
  {
   "cell_type": "code",
   "execution_count": 79,
   "metadata": {},
   "outputs": [
    {
     "data": {
      "text/html": [
       "<div>\n",
       "<style scoped>\n",
       "    .dataframe tbody tr th:only-of-type {\n",
       "        vertical-align: middle;\n",
       "    }\n",
       "\n",
       "    .dataframe tbody tr th {\n",
       "        vertical-align: top;\n",
       "    }\n",
       "\n",
       "    .dataframe thead th {\n",
       "        text-align: right;\n",
       "    }\n",
       "</style>\n",
       "<table border=\"1\" class=\"dataframe\">\n",
       "  <thead>\n",
       "    <tr style=\"text-align: right;\">\n",
       "      <th></th>\n",
       "      <th>client_id</th>\n",
       "      <th>last_date</th>\n",
       "      <th>product_category</th>\n",
       "      <th>purchase_normalize</th>\n",
       "    </tr>\n",
       "  </thead>\n",
       "  <tbody>\n",
       "    <tr>\n",
       "      <td>0</td>\n",
       "      <td>1</td>\n",
       "      <td>2020-12-22 02:33:13</td>\n",
       "      <td>10</td>\n",
       "      <td>0.042607</td>\n",
       "    </tr>\n",
       "    <tr>\n",
       "      <td>1</td>\n",
       "      <td>1</td>\n",
       "      <td>2020-12-22 10:20:44</td>\n",
       "      <td>11</td>\n",
       "      <td>0.032581</td>\n",
       "    </tr>\n",
       "    <tr>\n",
       "      <td>2</td>\n",
       "      <td>1</td>\n",
       "      <td>2020-12-29 09:07:06</td>\n",
       "      <td>13</td>\n",
       "      <td>0.055138</td>\n",
       "    </tr>\n",
       "    <tr>\n",
       "      <td>3</td>\n",
       "      <td>1</td>\n",
       "      <td>2020-12-29 03:38:07</td>\n",
       "      <td>16</td>\n",
       "      <td>0.022556</td>\n",
       "    </tr>\n",
       "    <tr>\n",
       "      <td>4</td>\n",
       "      <td>1</td>\n",
       "      <td>2020-11-11 05:21:46</td>\n",
       "      <td>17</td>\n",
       "      <td>0.012531</td>\n",
       "    </tr>\n",
       "  </tbody>\n",
       "</table>\n",
       "</div>"
      ],
      "text/plain": [
       "  client_id           last_date product_category  purchase_normalize\n",
       "0         1 2020-12-22 02:33:13               10            0.042607\n",
       "1         1 2020-12-22 10:20:44               11            0.032581\n",
       "2         1 2020-12-29 09:07:06               13            0.055138\n",
       "3         1 2020-12-29 03:38:07               16            0.022556\n",
       "4         1 2020-11-11 05:21:46               17            0.012531"
      ]
     },
     "execution_count": 79,
     "metadata": {},
     "output_type": "execute_result"
    }
   ],
   "source": [
    "data_train_content.head()"
   ]
  },
  {
   "cell_type": "code",
   "execution_count": 80,
   "metadata": {},
   "outputs": [
    {
     "data": {
      "text/plain": [
       "4"
      ]
     },
     "execution_count": 80,
     "metadata": {},
     "output_type": "execute_result"
    }
   ],
   "source": [
    "features_start = len(data_train_content.columns)\n",
    "features_start"
   ]
  },
  {
   "cell_type": "markdown",
   "metadata": {},
   "source": [
    "#### 3.4.1. Предобработка данных и работа с признаками"
   ]
  },
  {
   "cell_type": "markdown",
   "metadata": {},
   "source": [
    "Добавим данные о категориях и о клиентах."
   ]
  },
  {
   "cell_type": "code",
   "execution_count": 81,
   "metadata": {},
   "outputs": [],
   "source": [
    "data_train_content = data_train_content.merge(categories, how='left', on='product_category')\n",
    "data_train_content = data_train_content.merge(clients[['client_id', 'birthdate', 'registration_date', 'gender', 'income', 'expenses', 'credit', 'deposit']], how='left', on='client_id')"
   ]
  },
  {
   "cell_type": "code",
   "execution_count": 82,
   "metadata": {},
   "outputs": [],
   "source": [
    "data_train_content.drop(columns=['name', 'description'], inplace=True)"
   ]
  },
  {
   "cell_type": "code",
   "execution_count": 83,
   "metadata": {},
   "outputs": [
    {
     "data": {
      "text/html": [
       "<div>\n",
       "<style scoped>\n",
       "    .dataframe tbody tr th:only-of-type {\n",
       "        vertical-align: middle;\n",
       "    }\n",
       "\n",
       "    .dataframe tbody tr th {\n",
       "        vertical-align: top;\n",
       "    }\n",
       "\n",
       "    .dataframe thead th {\n",
       "        text-align: right;\n",
       "    }\n",
       "</style>\n",
       "<table border=\"1\" class=\"dataframe\">\n",
       "  <thead>\n",
       "    <tr style=\"text-align: right;\">\n",
       "      <th></th>\n",
       "      <th>client_id</th>\n",
       "      <th>last_date</th>\n",
       "      <th>product_category</th>\n",
       "      <th>purchase_normalize</th>\n",
       "      <th>mcc-code</th>\n",
       "      <th>birthdate</th>\n",
       "      <th>registration_date</th>\n",
       "      <th>gender</th>\n",
       "      <th>income</th>\n",
       "      <th>expenses</th>\n",
       "      <th>credit</th>\n",
       "      <th>deposit</th>\n",
       "    </tr>\n",
       "  </thead>\n",
       "  <tbody>\n",
       "    <tr>\n",
       "      <td>0</td>\n",
       "      <td>1</td>\n",
       "      <td>2020-12-22 02:33:13</td>\n",
       "      <td>10</td>\n",
       "      <td>0.042607</td>\n",
       "      <td>7911, 7922, 7929, 7932, 7933, 7941, 7991, 7992...</td>\n",
       "      <td>1966-09-07</td>\n",
       "      <td>2017-01-10</td>\n",
       "      <td>F</td>\n",
       "      <td>230910.0</td>\n",
       "      <td>61975</td>\n",
       "      <td>1</td>\n",
       "      <td>0</td>\n",
       "    </tr>\n",
       "    <tr>\n",
       "      <td>1</td>\n",
       "      <td>1</td>\n",
       "      <td>2020-12-22 10:20:44</td>\n",
       "      <td>11</td>\n",
       "      <td>0.032581</td>\n",
       "      <td>5977, 7230, 7297, 7298</td>\n",
       "      <td>1966-09-07</td>\n",
       "      <td>2017-01-10</td>\n",
       "      <td>F</td>\n",
       "      <td>230910.0</td>\n",
       "      <td>61975</td>\n",
       "      <td>1</td>\n",
       "      <td>0</td>\n",
       "    </tr>\n",
       "    <tr>\n",
       "      <td>2</td>\n",
       "      <td>1</td>\n",
       "      <td>2020-12-29 09:07:06</td>\n",
       "      <td>13</td>\n",
       "      <td>0.055138</td>\n",
       "      <td>5094, 5137, 5139, 5611, 5621, 5631, 5641, 5651...</td>\n",
       "      <td>1966-09-07</td>\n",
       "      <td>2017-01-10</td>\n",
       "      <td>F</td>\n",
       "      <td>230910.0</td>\n",
       "      <td>61975</td>\n",
       "      <td>1</td>\n",
       "      <td>0</td>\n",
       "    </tr>\n",
       "    <tr>\n",
       "      <td>3</td>\n",
       "      <td>1</td>\n",
       "      <td>2020-12-29 03:38:07</td>\n",
       "      <td>16</td>\n",
       "      <td>0.022556</td>\n",
       "      <td>5995, 0742</td>\n",
       "      <td>1966-09-07</td>\n",
       "      <td>2017-01-10</td>\n",
       "      <td>F</td>\n",
       "      <td>230910.0</td>\n",
       "      <td>61975</td>\n",
       "      <td>1</td>\n",
       "      <td>0</td>\n",
       "    </tr>\n",
       "    <tr>\n",
       "      <td>4</td>\n",
       "      <td>1</td>\n",
       "      <td>2020-11-11 05:21:46</td>\n",
       "      <td>17</td>\n",
       "      <td>0.012531</td>\n",
       "      <td>1520, 1711, 1731, 1740, 1750, 1761, 1771, 1799...</td>\n",
       "      <td>1966-09-07</td>\n",
       "      <td>2017-01-10</td>\n",
       "      <td>F</td>\n",
       "      <td>230910.0</td>\n",
       "      <td>61975</td>\n",
       "      <td>1</td>\n",
       "      <td>0</td>\n",
       "    </tr>\n",
       "  </tbody>\n",
       "</table>\n",
       "</div>"
      ],
      "text/plain": [
       "  client_id           last_date product_category  purchase_normalize  \\\n",
       "0         1 2020-12-22 02:33:13               10            0.042607   \n",
       "1         1 2020-12-22 10:20:44               11            0.032581   \n",
       "2         1 2020-12-29 09:07:06               13            0.055138   \n",
       "3         1 2020-12-29 03:38:07               16            0.022556   \n",
       "4         1 2020-11-11 05:21:46               17            0.012531   \n",
       "\n",
       "                                            mcc-code  birthdate  \\\n",
       "0  7911, 7922, 7929, 7932, 7933, 7941, 7991, 7992... 1966-09-07   \n",
       "1                             5977, 7230, 7297, 7298 1966-09-07   \n",
       "2  5094, 5137, 5139, 5611, 5621, 5631, 5641, 5651... 1966-09-07   \n",
       "3                                         5995, 0742 1966-09-07   \n",
       "4  1520, 1711, 1731, 1740, 1750, 1761, 1771, 1799... 1966-09-07   \n",
       "\n",
       "  registration_date gender    income  expenses  credit  deposit  \n",
       "0        2017-01-10      F  230910.0     61975       1        0  \n",
       "1        2017-01-10      F  230910.0     61975       1        0  \n",
       "2        2017-01-10      F  230910.0     61975       1        0  \n",
       "3        2017-01-10      F  230910.0     61975       1        0  \n",
       "4        2017-01-10      F  230910.0     61975       1        0  "
      ]
     },
     "execution_count": 83,
     "metadata": {},
     "output_type": "execute_result"
    }
   ],
   "source": [
    "data_train_content.head()"
   ]
  },
  {
   "cell_type": "markdown",
   "metadata": {},
   "source": [
    "Добавим данные о паре user-category: посчитаем то, на какую сумму пользователем было приобретено товаров и услуг каждой категории; также возьмем в транзакциях последний тип subtype и product_company."
   ]
  },
  {
   "cell_type": "code",
   "execution_count": 84,
   "metadata": {},
   "outputs": [
    {
     "data": {
      "text/html": [
       "<div>\n",
       "<style scoped>\n",
       "    .dataframe tbody tr th:only-of-type {\n",
       "        vertical-align: middle;\n",
       "    }\n",
       "\n",
       "    .dataframe tbody tr th {\n",
       "        vertical-align: top;\n",
       "    }\n",
       "\n",
       "    .dataframe thead th {\n",
       "        text-align: right;\n",
       "    }\n",
       "</style>\n",
       "<table border=\"1\" class=\"dataframe\">\n",
       "  <thead>\n",
       "    <tr style=\"text-align: right;\">\n",
       "      <th></th>\n",
       "      <th>client_id</th>\n",
       "      <th>product_category</th>\n",
       "      <th>date</th>\n",
       "      <th>subtype</th>\n",
       "      <th>product_company</th>\n",
       "    </tr>\n",
       "  </thead>\n",
       "  <tbody>\n",
       "    <tr>\n",
       "      <td>0</td>\n",
       "      <td>1</td>\n",
       "      <td>10</td>\n",
       "      <td>2020-12-22 02:33:13</td>\n",
       "      <td>Покупка</td>\n",
       "      <td>Боулинг клуб Самокат</td>\n",
       "    </tr>\n",
       "    <tr>\n",
       "      <td>1</td>\n",
       "      <td>1</td>\n",
       "      <td>11</td>\n",
       "      <td>2020-12-22 10:20:44</td>\n",
       "      <td>Покупка</td>\n",
       "      <td>Парикмахерская DIMAX</td>\n",
       "    </tr>\n",
       "    <tr>\n",
       "      <td>2</td>\n",
       "      <td>1</td>\n",
       "      <td>13</td>\n",
       "      <td>2020-12-29 09:07:06</td>\n",
       "      <td>Покупка</td>\n",
       "      <td>Bershka</td>\n",
       "    </tr>\n",
       "    <tr>\n",
       "      <td>3</td>\n",
       "      <td>1</td>\n",
       "      <td>14</td>\n",
       "      <td>2020-12-31 06:49:11</td>\n",
       "      <td>Покупка</td>\n",
       "      <td>Своя компания</td>\n",
       "    </tr>\n",
       "    <tr>\n",
       "      <td>4</td>\n",
       "      <td>1</td>\n",
       "      <td>16</td>\n",
       "      <td>2020-12-29 03:38:07</td>\n",
       "      <td>Покупка</td>\n",
       "      <td>no_company</td>\n",
       "    </tr>\n",
       "  </tbody>\n",
       "</table>\n",
       "</div>"
      ],
      "text/plain": [
       "  client_id product_category                date  subtype  \\\n",
       "0         1               10 2020-12-22 02:33:13  Покупка   \n",
       "1         1               11 2020-12-22 10:20:44  Покупка   \n",
       "2         1               13 2020-12-29 09:07:06  Покупка   \n",
       "3         1               14 2020-12-31 06:49:11  Покупка   \n",
       "4         1               16 2020-12-29 03:38:07  Покупка   \n",
       "\n",
       "        product_company  \n",
       "0  Боулинг клуб Самокат  \n",
       "1  Парикмахерская DIMAX  \n",
       "2               Bershka  \n",
       "3         Своя компания  \n",
       "4            no_company  "
      ]
     },
     "execution_count": 84,
     "metadata": {},
     "output_type": "execute_result"
    }
   ],
   "source": [
    "last_subtype_company = transactions_last_date.merge(transactions[['client_id','product_category', 'date', 'subtype', 'product_company']], how='left', on=['client_id','product_category', 'date'])\n",
    "last_subtype_company.head()"
   ]
  },
  {
   "cell_type": "code",
   "execution_count": 85,
   "metadata": {},
   "outputs": [
    {
     "data": {
      "text/html": [
       "<div>\n",
       "<style scoped>\n",
       "    .dataframe tbody tr th:only-of-type {\n",
       "        vertical-align: middle;\n",
       "    }\n",
       "\n",
       "    .dataframe tbody tr th {\n",
       "        vertical-align: top;\n",
       "    }\n",
       "\n",
       "    .dataframe thead th {\n",
       "        text-align: right;\n",
       "    }\n",
       "</style>\n",
       "<table border=\"1\" class=\"dataframe\">\n",
       "  <thead>\n",
       "    <tr style=\"text-align: right;\">\n",
       "      <th></th>\n",
       "      <th>client_id</th>\n",
       "      <th>product_category</th>\n",
       "      <th>sum_amount</th>\n",
       "    </tr>\n",
       "  </thead>\n",
       "  <tbody>\n",
       "    <tr>\n",
       "      <td>0</td>\n",
       "      <td>1</td>\n",
       "      <td>10</td>\n",
       "      <td>9707</td>\n",
       "    </tr>\n",
       "    <tr>\n",
       "      <td>1</td>\n",
       "      <td>1</td>\n",
       "      <td>11</td>\n",
       "      <td>21380</td>\n",
       "    </tr>\n",
       "    <tr>\n",
       "      <td>2</td>\n",
       "      <td>1</td>\n",
       "      <td>13</td>\n",
       "      <td>130068</td>\n",
       "    </tr>\n",
       "    <tr>\n",
       "      <td>3</td>\n",
       "      <td>1</td>\n",
       "      <td>14</td>\n",
       "      <td>32328</td>\n",
       "    </tr>\n",
       "    <tr>\n",
       "      <td>4</td>\n",
       "      <td>1</td>\n",
       "      <td>16</td>\n",
       "      <td>7885</td>\n",
       "    </tr>\n",
       "  </tbody>\n",
       "</table>\n",
       "</div>"
      ],
      "text/plain": [
       "  client_id product_category  sum_amount\n",
       "0         1               10        9707\n",
       "1         1               11       21380\n",
       "2         1               13      130068\n",
       "3         1               14       32328\n",
       "4         1               16        7885"
      ]
     },
     "execution_count": 85,
     "metadata": {},
     "output_type": "execute_result"
    }
   ],
   "source": [
    "sum_amount = transactions.groupby(['client_id', 'product_category'], as_index=False) \\\n",
    "    .agg({'amount': 'sum'}) \\\n",
    "    .rename(columns={'amount': 'sum_amount'})\n",
    "sum_amount.head()"
   ]
  },
  {
   "cell_type": "code",
   "execution_count": 86,
   "metadata": {},
   "outputs": [
    {
     "data": {
      "text/html": [
       "<div>\n",
       "<style scoped>\n",
       "    .dataframe tbody tr th:only-of-type {\n",
       "        vertical-align: middle;\n",
       "    }\n",
       "\n",
       "    .dataframe tbody tr th {\n",
       "        vertical-align: top;\n",
       "    }\n",
       "\n",
       "    .dataframe thead th {\n",
       "        text-align: right;\n",
       "    }\n",
       "</style>\n",
       "<table border=\"1\" class=\"dataframe\">\n",
       "  <thead>\n",
       "    <tr style=\"text-align: right;\">\n",
       "      <th></th>\n",
       "      <th>client_id</th>\n",
       "      <th>product_category</th>\n",
       "      <th>sum_amount</th>\n",
       "      <th>date</th>\n",
       "      <th>subtype</th>\n",
       "      <th>product_company</th>\n",
       "    </tr>\n",
       "  </thead>\n",
       "  <tbody>\n",
       "    <tr>\n",
       "      <td>0</td>\n",
       "      <td>1</td>\n",
       "      <td>10</td>\n",
       "      <td>9707</td>\n",
       "      <td>2020-12-22 02:33:13</td>\n",
       "      <td>Покупка</td>\n",
       "      <td>Боулинг клуб Самокат</td>\n",
       "    </tr>\n",
       "    <tr>\n",
       "      <td>1</td>\n",
       "      <td>1</td>\n",
       "      <td>11</td>\n",
       "      <td>21380</td>\n",
       "      <td>2020-12-22 10:20:44</td>\n",
       "      <td>Покупка</td>\n",
       "      <td>Парикмахерская DIMAX</td>\n",
       "    </tr>\n",
       "    <tr>\n",
       "      <td>2</td>\n",
       "      <td>1</td>\n",
       "      <td>13</td>\n",
       "      <td>130068</td>\n",
       "      <td>2020-12-29 09:07:06</td>\n",
       "      <td>Покупка</td>\n",
       "      <td>Bershka</td>\n",
       "    </tr>\n",
       "    <tr>\n",
       "      <td>3</td>\n",
       "      <td>1</td>\n",
       "      <td>14</td>\n",
       "      <td>32328</td>\n",
       "      <td>2020-12-31 06:49:11</td>\n",
       "      <td>Покупка</td>\n",
       "      <td>Своя компания</td>\n",
       "    </tr>\n",
       "    <tr>\n",
       "      <td>4</td>\n",
       "      <td>1</td>\n",
       "      <td>16</td>\n",
       "      <td>7885</td>\n",
       "      <td>2020-12-29 03:38:07</td>\n",
       "      <td>Покупка</td>\n",
       "      <td>no_company</td>\n",
       "    </tr>\n",
       "  </tbody>\n",
       "</table>\n",
       "</div>"
      ],
      "text/plain": [
       "  client_id product_category  sum_amount                date  subtype  \\\n",
       "0         1               10        9707 2020-12-22 02:33:13  Покупка   \n",
       "1         1               11       21380 2020-12-22 10:20:44  Покупка   \n",
       "2         1               13      130068 2020-12-29 09:07:06  Покупка   \n",
       "3         1               14       32328 2020-12-31 06:49:11  Покупка   \n",
       "4         1               16        7885 2020-12-29 03:38:07  Покупка   \n",
       "\n",
       "        product_company  \n",
       "0  Боулинг клуб Самокат  \n",
       "1  Парикмахерская DIMAX  \n",
       "2               Bershka  \n",
       "3         Своя компания  \n",
       "4            no_company  "
      ]
     },
     "execution_count": 86,
     "metadata": {},
     "output_type": "execute_result"
    }
   ],
   "source": [
    "user_category_features = sum_amount.merge(last_subtype_company, on=['client_id', 'product_category'])\n",
    "user_category_features.head()"
   ]
  },
  {
   "cell_type": "code",
   "execution_count": 87,
   "metadata": {},
   "outputs": [
    {
     "data": {
      "text/html": [
       "<div>\n",
       "<style scoped>\n",
       "    .dataframe tbody tr th:only-of-type {\n",
       "        vertical-align: middle;\n",
       "    }\n",
       "\n",
       "    .dataframe tbody tr th {\n",
       "        vertical-align: top;\n",
       "    }\n",
       "\n",
       "    .dataframe thead th {\n",
       "        text-align: right;\n",
       "    }\n",
       "</style>\n",
       "<table border=\"1\" class=\"dataframe\">\n",
       "  <thead>\n",
       "    <tr style=\"text-align: right;\">\n",
       "      <th></th>\n",
       "      <th>client_id</th>\n",
       "      <th>last_date</th>\n",
       "      <th>product_category</th>\n",
       "      <th>purchase_normalize</th>\n",
       "      <th>mcc-code</th>\n",
       "      <th>birthdate</th>\n",
       "      <th>registration_date</th>\n",
       "      <th>gender</th>\n",
       "      <th>income</th>\n",
       "      <th>expenses</th>\n",
       "      <th>credit</th>\n",
       "      <th>deposit</th>\n",
       "      <th>sum_amount</th>\n",
       "      <th>date</th>\n",
       "      <th>subtype</th>\n",
       "      <th>product_company</th>\n",
       "    </tr>\n",
       "  </thead>\n",
       "  <tbody>\n",
       "    <tr>\n",
       "      <td>0</td>\n",
       "      <td>1</td>\n",
       "      <td>2020-12-22 02:33:13</td>\n",
       "      <td>10</td>\n",
       "      <td>0.042607</td>\n",
       "      <td>7911, 7922, 7929, 7932, 7933, 7941, 7991, 7992...</td>\n",
       "      <td>1966-09-07</td>\n",
       "      <td>2017-01-10</td>\n",
       "      <td>F</td>\n",
       "      <td>230910.0</td>\n",
       "      <td>61975</td>\n",
       "      <td>1</td>\n",
       "      <td>0</td>\n",
       "      <td>9707.0</td>\n",
       "      <td>2020-12-22 02:33:13</td>\n",
       "      <td>Покупка</td>\n",
       "      <td>Боулинг клуб Самокат</td>\n",
       "    </tr>\n",
       "    <tr>\n",
       "      <td>1</td>\n",
       "      <td>1</td>\n",
       "      <td>2020-12-22 10:20:44</td>\n",
       "      <td>11</td>\n",
       "      <td>0.032581</td>\n",
       "      <td>5977, 7230, 7297, 7298</td>\n",
       "      <td>1966-09-07</td>\n",
       "      <td>2017-01-10</td>\n",
       "      <td>F</td>\n",
       "      <td>230910.0</td>\n",
       "      <td>61975</td>\n",
       "      <td>1</td>\n",
       "      <td>0</td>\n",
       "      <td>21380.0</td>\n",
       "      <td>2020-12-22 10:20:44</td>\n",
       "      <td>Покупка</td>\n",
       "      <td>Парикмахерская DIMAX</td>\n",
       "    </tr>\n",
       "    <tr>\n",
       "      <td>2</td>\n",
       "      <td>1</td>\n",
       "      <td>2020-12-29 09:07:06</td>\n",
       "      <td>13</td>\n",
       "      <td>0.055138</td>\n",
       "      <td>5094, 5137, 5139, 5611, 5621, 5631, 5641, 5651...</td>\n",
       "      <td>1966-09-07</td>\n",
       "      <td>2017-01-10</td>\n",
       "      <td>F</td>\n",
       "      <td>230910.0</td>\n",
       "      <td>61975</td>\n",
       "      <td>1</td>\n",
       "      <td>0</td>\n",
       "      <td>130068.0</td>\n",
       "      <td>2020-12-29 09:07:06</td>\n",
       "      <td>Покупка</td>\n",
       "      <td>Bershka</td>\n",
       "    </tr>\n",
       "    <tr>\n",
       "      <td>3</td>\n",
       "      <td>1</td>\n",
       "      <td>2020-12-29 03:38:07</td>\n",
       "      <td>16</td>\n",
       "      <td>0.022556</td>\n",
       "      <td>5995, 0742</td>\n",
       "      <td>1966-09-07</td>\n",
       "      <td>2017-01-10</td>\n",
       "      <td>F</td>\n",
       "      <td>230910.0</td>\n",
       "      <td>61975</td>\n",
       "      <td>1</td>\n",
       "      <td>0</td>\n",
       "      <td>7885.0</td>\n",
       "      <td>2020-12-29 03:38:07</td>\n",
       "      <td>Покупка</td>\n",
       "      <td>no_company</td>\n",
       "    </tr>\n",
       "    <tr>\n",
       "      <td>4</td>\n",
       "      <td>1</td>\n",
       "      <td>2020-11-11 05:21:46</td>\n",
       "      <td>17</td>\n",
       "      <td>0.012531</td>\n",
       "      <td>1520, 1711, 1731, 1740, 1750, 1761, 1771, 1799...</td>\n",
       "      <td>1966-09-07</td>\n",
       "      <td>2017-01-10</td>\n",
       "      <td>F</td>\n",
       "      <td>230910.0</td>\n",
       "      <td>61975</td>\n",
       "      <td>1</td>\n",
       "      <td>0</td>\n",
       "      <td>122239.0</td>\n",
       "      <td>2020-11-11 05:21:46</td>\n",
       "      <td>Покупка</td>\n",
       "      <td>no_company</td>\n",
       "    </tr>\n",
       "  </tbody>\n",
       "</table>\n",
       "</div>"
      ],
      "text/plain": [
       "  client_id           last_date product_category  purchase_normalize  \\\n",
       "0         1 2020-12-22 02:33:13               10            0.042607   \n",
       "1         1 2020-12-22 10:20:44               11            0.032581   \n",
       "2         1 2020-12-29 09:07:06               13            0.055138   \n",
       "3         1 2020-12-29 03:38:07               16            0.022556   \n",
       "4         1 2020-11-11 05:21:46               17            0.012531   \n",
       "\n",
       "                                            mcc-code  birthdate  \\\n",
       "0  7911, 7922, 7929, 7932, 7933, 7941, 7991, 7992... 1966-09-07   \n",
       "1                             5977, 7230, 7297, 7298 1966-09-07   \n",
       "2  5094, 5137, 5139, 5611, 5621, 5631, 5641, 5651... 1966-09-07   \n",
       "3                                         5995, 0742 1966-09-07   \n",
       "4  1520, 1711, 1731, 1740, 1750, 1761, 1771, 1799... 1966-09-07   \n",
       "\n",
       "  registration_date gender    income  expenses  credit  deposit  sum_amount  \\\n",
       "0        2017-01-10      F  230910.0     61975       1        0      9707.0   \n",
       "1        2017-01-10      F  230910.0     61975       1        0     21380.0   \n",
       "2        2017-01-10      F  230910.0     61975       1        0    130068.0   \n",
       "3        2017-01-10      F  230910.0     61975       1        0      7885.0   \n",
       "4        2017-01-10      F  230910.0     61975       1        0    122239.0   \n",
       "\n",
       "                 date  subtype       product_company  \n",
       "0 2020-12-22 02:33:13  Покупка  Боулинг клуб Самокат  \n",
       "1 2020-12-22 10:20:44  Покупка  Парикмахерская DIMAX  \n",
       "2 2020-12-29 09:07:06  Покупка               Bershka  \n",
       "3 2020-12-29 03:38:07  Покупка            no_company  \n",
       "4 2020-11-11 05:21:46  Покупка            no_company  "
      ]
     },
     "execution_count": 87,
     "metadata": {},
     "output_type": "execute_result"
    }
   ],
   "source": [
    "data_train_content = data_train_content.merge(user_category_features, how='left', on=['client_id', 'product_category'])\n",
    "data_train_content.head()"
   ]
  },
  {
   "cell_type": "markdown",
   "metadata": {},
   "source": [
    "Расчитаем то, сколько дней прошло с момента регистрации пользователя и последним взаимодействием с каждой категорией. Также посчитаем то, сколько примерно лет было пользователю на момент последней покупки каждой категории."
   ]
  },
  {
   "cell_type": "code",
   "execution_count": 88,
   "metadata": {},
   "outputs": [],
   "source": [
    "data_train_content['days_from_registration'] = data_train_content['date'].subtract(data_train_content['registration_date']).dt.days\n",
    "mean_days_from_registration = data_train_content.loc[data_train_content['days_from_registration'].isnull() != True, 'days_from_registration'].mean()\n",
    "data_train_content.loc[data_train_content['days_from_registration'].isnull() == True, 'days_from_registration'] = mean_days_from_registration\n",
    "data_train_content.days_from_registration = data_train_content.days_from_registration.astype(int)"
   ]
  },
  {
   "cell_type": "code",
   "execution_count": 89,
   "metadata": {},
   "outputs": [],
   "source": [
    "data_train_content['age'] = data_train_content['date'].subtract(data_train_content['birthdate']).dt.days.div(365).round()\n",
    "mean_age = round(data_train_content.loc[data_train_content['age'].isnull() != True, 'age'].mean())\n",
    "data_train_content.loc[data_train_content['age'].isnull() == True, 'age'] = mean_age\n",
    "data_train_content.age = data_train_content.age.astype(int)"
   ]
  },
  {
   "cell_type": "code",
   "execution_count": 90,
   "metadata": {},
   "outputs": [],
   "source": [
    "data_train_content.drop(columns=['date', 'registration_date', 'birthdate'], inplace=True)"
   ]
  },
  {
   "cell_type": "code",
   "execution_count": 91,
   "metadata": {},
   "outputs": [
    {
     "data": {
      "text/html": [
       "<div>\n",
       "<style scoped>\n",
       "    .dataframe tbody tr th:only-of-type {\n",
       "        vertical-align: middle;\n",
       "    }\n",
       "\n",
       "    .dataframe tbody tr th {\n",
       "        vertical-align: top;\n",
       "    }\n",
       "\n",
       "    .dataframe thead th {\n",
       "        text-align: right;\n",
       "    }\n",
       "</style>\n",
       "<table border=\"1\" class=\"dataframe\">\n",
       "  <thead>\n",
       "    <tr style=\"text-align: right;\">\n",
       "      <th></th>\n",
       "      <th>client_id</th>\n",
       "      <th>last_date</th>\n",
       "      <th>product_category</th>\n",
       "      <th>purchase_normalize</th>\n",
       "      <th>mcc-code</th>\n",
       "      <th>gender</th>\n",
       "      <th>income</th>\n",
       "      <th>expenses</th>\n",
       "      <th>credit</th>\n",
       "      <th>deposit</th>\n",
       "      <th>sum_amount</th>\n",
       "      <th>subtype</th>\n",
       "      <th>product_company</th>\n",
       "      <th>days_from_registration</th>\n",
       "      <th>age</th>\n",
       "    </tr>\n",
       "  </thead>\n",
       "  <tbody>\n",
       "    <tr>\n",
       "      <td>0</td>\n",
       "      <td>1</td>\n",
       "      <td>2020-12-22 02:33:13</td>\n",
       "      <td>10</td>\n",
       "      <td>0.042607</td>\n",
       "      <td>7911, 7922, 7929, 7932, 7933, 7941, 7991, 7992...</td>\n",
       "      <td>F</td>\n",
       "      <td>230910.0</td>\n",
       "      <td>61975</td>\n",
       "      <td>1</td>\n",
       "      <td>0</td>\n",
       "      <td>9707.0</td>\n",
       "      <td>Покупка</td>\n",
       "      <td>Боулинг клуб Самокат</td>\n",
       "      <td>1442</td>\n",
       "      <td>54</td>\n",
       "    </tr>\n",
       "    <tr>\n",
       "      <td>1</td>\n",
       "      <td>1</td>\n",
       "      <td>2020-12-22 10:20:44</td>\n",
       "      <td>11</td>\n",
       "      <td>0.032581</td>\n",
       "      <td>5977, 7230, 7297, 7298</td>\n",
       "      <td>F</td>\n",
       "      <td>230910.0</td>\n",
       "      <td>61975</td>\n",
       "      <td>1</td>\n",
       "      <td>0</td>\n",
       "      <td>21380.0</td>\n",
       "      <td>Покупка</td>\n",
       "      <td>Парикмахерская DIMAX</td>\n",
       "      <td>1442</td>\n",
       "      <td>54</td>\n",
       "    </tr>\n",
       "    <tr>\n",
       "      <td>2</td>\n",
       "      <td>1</td>\n",
       "      <td>2020-12-29 09:07:06</td>\n",
       "      <td>13</td>\n",
       "      <td>0.055138</td>\n",
       "      <td>5094, 5137, 5139, 5611, 5621, 5631, 5641, 5651...</td>\n",
       "      <td>F</td>\n",
       "      <td>230910.0</td>\n",
       "      <td>61975</td>\n",
       "      <td>1</td>\n",
       "      <td>0</td>\n",
       "      <td>130068.0</td>\n",
       "      <td>Покупка</td>\n",
       "      <td>Bershka</td>\n",
       "      <td>1449</td>\n",
       "      <td>54</td>\n",
       "    </tr>\n",
       "    <tr>\n",
       "      <td>3</td>\n",
       "      <td>1</td>\n",
       "      <td>2020-12-29 03:38:07</td>\n",
       "      <td>16</td>\n",
       "      <td>0.022556</td>\n",
       "      <td>5995, 0742</td>\n",
       "      <td>F</td>\n",
       "      <td>230910.0</td>\n",
       "      <td>61975</td>\n",
       "      <td>1</td>\n",
       "      <td>0</td>\n",
       "      <td>7885.0</td>\n",
       "      <td>Покупка</td>\n",
       "      <td>no_company</td>\n",
       "      <td>1449</td>\n",
       "      <td>54</td>\n",
       "    </tr>\n",
       "    <tr>\n",
       "      <td>4</td>\n",
       "      <td>1</td>\n",
       "      <td>2020-11-11 05:21:46</td>\n",
       "      <td>17</td>\n",
       "      <td>0.012531</td>\n",
       "      <td>1520, 1711, 1731, 1740, 1750, 1761, 1771, 1799...</td>\n",
       "      <td>F</td>\n",
       "      <td>230910.0</td>\n",
       "      <td>61975</td>\n",
       "      <td>1</td>\n",
       "      <td>0</td>\n",
       "      <td>122239.0</td>\n",
       "      <td>Покупка</td>\n",
       "      <td>no_company</td>\n",
       "      <td>1401</td>\n",
       "      <td>54</td>\n",
       "    </tr>\n",
       "  </tbody>\n",
       "</table>\n",
       "</div>"
      ],
      "text/plain": [
       "  client_id           last_date product_category  purchase_normalize  \\\n",
       "0         1 2020-12-22 02:33:13               10            0.042607   \n",
       "1         1 2020-12-22 10:20:44               11            0.032581   \n",
       "2         1 2020-12-29 09:07:06               13            0.055138   \n",
       "3         1 2020-12-29 03:38:07               16            0.022556   \n",
       "4         1 2020-11-11 05:21:46               17            0.012531   \n",
       "\n",
       "                                            mcc-code gender    income  \\\n",
       "0  7911, 7922, 7929, 7932, 7933, 7941, 7991, 7992...      F  230910.0   \n",
       "1                             5977, 7230, 7297, 7298      F  230910.0   \n",
       "2  5094, 5137, 5139, 5611, 5621, 5631, 5641, 5651...      F  230910.0   \n",
       "3                                         5995, 0742      F  230910.0   \n",
       "4  1520, 1711, 1731, 1740, 1750, 1761, 1771, 1799...      F  230910.0   \n",
       "\n",
       "   expenses  credit  deposit  sum_amount  subtype       product_company  \\\n",
       "0     61975       1        0      9707.0  Покупка  Боулинг клуб Самокат   \n",
       "1     61975       1        0     21380.0  Покупка  Парикмахерская DIMAX   \n",
       "2     61975       1        0    130068.0  Покупка               Bershka   \n",
       "3     61975       1        0      7885.0  Покупка            no_company   \n",
       "4     61975       1        0    122239.0  Покупка            no_company   \n",
       "\n",
       "   days_from_registration  age  \n",
       "0                    1442   54  \n",
       "1                    1442   54  \n",
       "2                    1449   54  \n",
       "3                    1449   54  \n",
       "4                    1401   54  "
      ]
     },
     "execution_count": 91,
     "metadata": {},
     "output_type": "execute_result"
    }
   ],
   "source": [
    "data_train_content.head()"
   ]
  },
  {
   "cell_type": "code",
   "execution_count": 92,
   "metadata": {},
   "outputs": [],
   "source": [
    "test_client_id = np.repeat(data_true.index, len(categories)) \n",
    "test_product_category = list(categories.product_category) * len(data_true)\n",
    "data_test_content = pd.DataFrame(\n",
    "    np.array([test_client_id, test_product_category]).T,\n",
    "    columns=['client_id', 'product_category'])\n",
    "data_test_content = data_test_content.merge(categories, how='left', on='product_category')\n",
    "data_test_content = data_test_content.merge(clients[['client_id', 'birthdate', 'registration_date', 'gender', 'income', 'expenses', 'credit', 'deposit']], how='left', on='client_id')\n",
    "data_test_content.drop(columns=['name', 'description'], inplace=True)"
   ]
  },
  {
   "cell_type": "code",
   "execution_count": 93,
   "metadata": {},
   "outputs": [],
   "source": [
    "data_test_content = data_test_content.merge(user_category_features, how='left', on=['client_id', 'product_category'])"
   ]
  },
  {
   "cell_type": "code",
   "execution_count": 94,
   "metadata": {},
   "outputs": [],
   "source": [
    "data_test_content['days_from_registration'] = data_test_content['date'].subtract(data_test_content['registration_date']).dt.days\n",
    "mean_days_from_registration = data_test_content.loc[data_test_content['days_from_registration'].isnull() != True, 'days_from_registration'].mean()\n",
    "data_test_content.loc[data_test_content['days_from_registration'].isnull() == True, 'days_from_registration'] = mean_days_from_registration\n",
    "data_test_content.days_from_registration = data_test_content.days_from_registration.astype(int)"
   ]
  },
  {
   "cell_type": "code",
   "execution_count": 95,
   "metadata": {},
   "outputs": [],
   "source": [
    "data_test_content['age'] = data_test_content['date'].subtract(data_test_content['birthdate']).dt.days.div(365).round()\n",
    "mean_age = round(data_test_content.loc[data_test_content['age'].isnull() != True, 'age'].mean())\n",
    "data_test_content.loc[data_test_content['age'].isnull() == True, 'age'] = mean_age\n",
    "data_test_content.age = data_test_content.age.astype(int)"
   ]
  },
  {
   "cell_type": "code",
   "execution_count": 96,
   "metadata": {},
   "outputs": [],
   "source": [
    "data_test_content.drop(columns=['date'], inplace=True)"
   ]
  },
  {
   "cell_type": "code",
   "execution_count": 97,
   "metadata": {},
   "outputs": [
    {
     "data": {
      "text/html": [
       "<div>\n",
       "<style scoped>\n",
       "    .dataframe tbody tr th:only-of-type {\n",
       "        vertical-align: middle;\n",
       "    }\n",
       "\n",
       "    .dataframe tbody tr th {\n",
       "        vertical-align: top;\n",
       "    }\n",
       "\n",
       "    .dataframe thead th {\n",
       "        text-align: right;\n",
       "    }\n",
       "</style>\n",
       "<table border=\"1\" class=\"dataframe\">\n",
       "  <thead>\n",
       "    <tr style=\"text-align: right;\">\n",
       "      <th></th>\n",
       "      <th>client_id</th>\n",
       "      <th>product_category</th>\n",
       "      <th>mcc-code</th>\n",
       "      <th>birthdate</th>\n",
       "      <th>registration_date</th>\n",
       "      <th>gender</th>\n",
       "      <th>income</th>\n",
       "      <th>expenses</th>\n",
       "      <th>credit</th>\n",
       "      <th>deposit</th>\n",
       "      <th>sum_amount</th>\n",
       "      <th>subtype</th>\n",
       "      <th>product_company</th>\n",
       "      <th>days_from_registration</th>\n",
       "      <th>age</th>\n",
       "    </tr>\n",
       "  </thead>\n",
       "  <tbody>\n",
       "    <tr>\n",
       "      <td>0</td>\n",
       "      <td>1</td>\n",
       "      <td>1</td>\n",
       "      <td>7512, 4121</td>\n",
       "      <td>1966-09-07</td>\n",
       "      <td>2017-01-10</td>\n",
       "      <td>F</td>\n",
       "      <td>230910.0</td>\n",
       "      <td>61975</td>\n",
       "      <td>1</td>\n",
       "      <td>0</td>\n",
       "      <td>NaN</td>\n",
       "      <td>NaN</td>\n",
       "      <td>NaN</td>\n",
       "      <td>1795</td>\n",
       "      <td>39</td>\n",
       "    </tr>\n",
       "    <tr>\n",
       "      <td>1</td>\n",
       "      <td>1</td>\n",
       "      <td>2</td>\n",
       "      <td>5297, 5298, 5300, 5411, 5412, 5422, 5441, 5451...</td>\n",
       "      <td>1966-09-07</td>\n",
       "      <td>2017-01-10</td>\n",
       "      <td>F</td>\n",
       "      <td>230910.0</td>\n",
       "      <td>61975</td>\n",
       "      <td>1</td>\n",
       "      <td>0</td>\n",
       "      <td>124999.0</td>\n",
       "      <td>Покупка</td>\n",
       "      <td>Ашан</td>\n",
       "      <td>1445</td>\n",
       "      <td>54</td>\n",
       "    </tr>\n",
       "    <tr>\n",
       "      <td>2</td>\n",
       "      <td>1</td>\n",
       "      <td>3</td>\n",
       "      <td>4121</td>\n",
       "      <td>1966-09-07</td>\n",
       "      <td>2017-01-10</td>\n",
       "      <td>F</td>\n",
       "      <td>230910.0</td>\n",
       "      <td>61975</td>\n",
       "      <td>1</td>\n",
       "      <td>0</td>\n",
       "      <td>NaN</td>\n",
       "      <td>NaN</td>\n",
       "      <td>NaN</td>\n",
       "      <td>1795</td>\n",
       "      <td>39</td>\n",
       "    </tr>\n",
       "    <tr>\n",
       "      <td>3</td>\n",
       "      <td>1</td>\n",
       "      <td>4</td>\n",
       "      <td>5733, 5735</td>\n",
       "      <td>1966-09-07</td>\n",
       "      <td>2017-01-10</td>\n",
       "      <td>F</td>\n",
       "      <td>230910.0</td>\n",
       "      <td>61975</td>\n",
       "      <td>1</td>\n",
       "      <td>0</td>\n",
       "      <td>1908.0</td>\n",
       "      <td>Подписка</td>\n",
       "      <td>Google Play Музыка</td>\n",
       "      <td>1440</td>\n",
       "      <td>54</td>\n",
       "    </tr>\n",
       "    <tr>\n",
       "      <td>4</td>\n",
       "      <td>1</td>\n",
       "      <td>5</td>\n",
       "      <td>5814</td>\n",
       "      <td>1966-09-07</td>\n",
       "      <td>2017-01-10</td>\n",
       "      <td>F</td>\n",
       "      <td>230910.0</td>\n",
       "      <td>61975</td>\n",
       "      <td>1</td>\n",
       "      <td>0</td>\n",
       "      <td>57310.0</td>\n",
       "      <td>Покупка</td>\n",
       "      <td>KFC</td>\n",
       "      <td>1450</td>\n",
       "      <td>54</td>\n",
       "    </tr>\n",
       "  </tbody>\n",
       "</table>\n",
       "</div>"
      ],
      "text/plain": [
       "  client_id product_category  \\\n",
       "0         1                1   \n",
       "1         1                2   \n",
       "2         1                3   \n",
       "3         1                4   \n",
       "4         1                5   \n",
       "\n",
       "                                            mcc-code  birthdate  \\\n",
       "0                                         7512, 4121 1966-09-07   \n",
       "1  5297, 5298, 5300, 5411, 5412, 5422, 5441, 5451... 1966-09-07   \n",
       "2                                               4121 1966-09-07   \n",
       "3                                         5733, 5735 1966-09-07   \n",
       "4                                               5814 1966-09-07   \n",
       "\n",
       "  registration_date gender    income  expenses  credit  deposit  sum_amount  \\\n",
       "0        2017-01-10      F  230910.0     61975       1        0         NaN   \n",
       "1        2017-01-10      F  230910.0     61975       1        0    124999.0   \n",
       "2        2017-01-10      F  230910.0     61975       1        0         NaN   \n",
       "3        2017-01-10      F  230910.0     61975       1        0      1908.0   \n",
       "4        2017-01-10      F  230910.0     61975       1        0     57310.0   \n",
       "\n",
       "    subtype     product_company  days_from_registration  age  \n",
       "0       NaN                 NaN                    1795   39  \n",
       "1   Покупка                Ашан                    1445   54  \n",
       "2       NaN                 NaN                    1795   39  \n",
       "3  Подписка  Google Play Музыка                    1440   54  \n",
       "4   Покупка                 KFC                    1450   54  "
      ]
     },
     "execution_count": 97,
     "metadata": {},
     "output_type": "execute_result"
    }
   ],
   "source": [
    "data_test_content.head()"
   ]
  },
  {
   "cell_type": "code",
   "execution_count": 98,
   "metadata": {},
   "outputs": [],
   "source": [
    "def mcc_count(column_value):\n",
    "    if column_value == 'no_code':\n",
    "        return 0\n",
    "    else:\n",
    "        mcc_count = len(column_value.split(', '))\n",
    "        return mcc_count"
   ]
  },
  {
   "cell_type": "code",
   "execution_count": 99,
   "metadata": {},
   "outputs": [],
   "source": [
    "data_train_content['mcc-code'] = data_train_content['mcc-code'].apply(mcc_count)\n",
    "data_test_content['mcc-code'] = data_test_content['mcc-code'].apply(mcc_count)"
   ]
  },
  {
   "cell_type": "code",
   "execution_count": 100,
   "metadata": {},
   "outputs": [
    {
     "data": {
      "text/plain": [
       "client_id                 False\n",
       "last_date                  True\n",
       "product_category          False\n",
       "purchase_normalize         True\n",
       "mcc-code                  False\n",
       "gender                    False\n",
       "income                    False\n",
       "expenses                  False\n",
       "credit                    False\n",
       "deposit                   False\n",
       "sum_amount                 True\n",
       "subtype                    True\n",
       "product_company            True\n",
       "days_from_registration    False\n",
       "age                       False\n",
       "dtype: bool"
      ]
     },
     "execution_count": 100,
     "metadata": {},
     "output_type": "execute_result"
    }
   ],
   "source": [
    "data_train_content.isnull().any()"
   ]
  },
  {
   "cell_type": "code",
   "execution_count": 101,
   "metadata": {},
   "outputs": [],
   "source": [
    "data_train_content.loc[data_train_content.sum_amount.isnull() == True, 'sum_amount'] = data_train_content.loc[data_train_content.sum_amount.isnull() != True, 'sum_amount'].mean()\n",
    "data_train_content.loc[data_train_content.subtype.isnull() == True, 'subtype'] = data_train_content.loc[data_train_content.subtype.isnull() != True, 'subtype'].mode()[0]\n",
    "data_train_content.loc[data_train_content.product_company.isnull() == True, 'product_company'] = 'no_company'"
   ]
  },
  {
   "cell_type": "code",
   "execution_count": 102,
   "metadata": {},
   "outputs": [
    {
     "data": {
      "text/plain": [
       "client_id                 False\n",
       "product_category          False\n",
       "mcc-code                  False\n",
       "birthdate                 False\n",
       "registration_date         False\n",
       "gender                    False\n",
       "income                    False\n",
       "expenses                  False\n",
       "credit                    False\n",
       "deposit                   False\n",
       "sum_amount                 True\n",
       "subtype                    True\n",
       "product_company            True\n",
       "days_from_registration    False\n",
       "age                       False\n",
       "dtype: bool"
      ]
     },
     "execution_count": 102,
     "metadata": {},
     "output_type": "execute_result"
    }
   ],
   "source": [
    "data_test_content.isnull().any()"
   ]
  },
  {
   "cell_type": "code",
   "execution_count": 103,
   "metadata": {},
   "outputs": [],
   "source": [
    "data_test_content.loc[data_test_content.sum_amount.isnull() == True, 'sum_amount'] = data_test_content.loc[data_test_content.sum_amount.isnull() != True, 'sum_amount'].mean()\n",
    "data_test_content.loc[data_test_content.subtype.isnull() == True, 'subtype'] = data_test_content.loc[data_test_content.subtype.isnull() != True, 'subtype'].mode()[0]\n",
    "data_test_content.loc[data_test_content.product_company.isnull() == True, 'product_company'] = 'no_company'"
   ]
  },
  {
   "cell_type": "code",
   "execution_count": 104,
   "metadata": {},
   "outputs": [],
   "source": [
    "data_train_content.loc[data_train_content.gender == 'F', 'gender'] = 0\n",
    "data_train_content.loc[data_train_content.gender == 'M', 'gender'] = 1\n",
    "data_test_content.loc[data_test_content.gender == 'F', 'gender'] = 0\n",
    "data_test_content.loc[data_test_content.gender == 'M', 'gender'] = 1"
   ]
  },
  {
   "cell_type": "markdown",
   "metadata": {},
   "source": [
    "Рассмотрим матрицу корреляций признаков в тренировочной выборке."
   ]
  },
  {
   "cell_type": "code",
   "execution_count": 105,
   "metadata": {},
   "outputs": [
    {
     "data": {
      "image/png": "[encoded data removed]",
      "text/plain": [
       "<Figure size 720x504 with 2 Axes>"
      ]
     },
     "metadata": {
      "needs_background": "light"
     },
     "output_type": "display_data"
    }
   ],
   "source": [
    "columns = ['gender', 'income', 'expenses', 'credit', 'deposit', 'mcc-code', 'days_from_registration', 'age', 'sum_amount', 'subtype', 'product_company']\n",
    "mask = np.tril(data_train_content[columns].corr())\n",
    "fig, ax = plt.subplots(nrows=1, ncols=1, figsize=(10, 7))\n",
    "sns.heatmap(data_train_content[columns].corr(), linewidth=.5, annot=True, fmt='.2f', vmax=1, vmin=-1, center=0, cmap='magma', linecolor='white', mask=mask, ax=ax)\n",
    "fig.savefig(r\"C:\\Users\\kiril\\OneDrive\\Рабочий стол\\Вышка\\КР-ВКР\\Курсовая\\3 курс\\RecommendationSystem\\model\\graphics\\correlation_matrix.png\")\n",
    "plt.show()"
   ]
  },
  {
   "cell_type": "markdown",
   "metadata": {},
   "source": [
    "По данной матрице корреляции можно сделать вывод о том, что в данных отсутствует проблема мультиколлинеарности."
   ]
  },
  {
   "cell_type": "code",
   "execution_count": 106,
   "metadata": {},
   "outputs": [
    {
     "data": {
      "text/html": [
       "<div>\n",
       "<style scoped>\n",
       "    .dataframe tbody tr th:only-of-type {\n",
       "        vertical-align: middle;\n",
       "    }\n",
       "\n",
       "    .dataframe tbody tr th {\n",
       "        vertical-align: top;\n",
       "    }\n",
       "\n",
       "    .dataframe thead th {\n",
       "        text-align: right;\n",
       "    }\n",
       "</style>\n",
       "<table border=\"1\" class=\"dataframe\">\n",
       "  <thead>\n",
       "    <tr style=\"text-align: right;\">\n",
       "      <th></th>\n",
       "      <th>client_id</th>\n",
       "      <th>last_date</th>\n",
       "      <th>product_category</th>\n",
       "      <th>purchase_normalize</th>\n",
       "      <th>mcc-code</th>\n",
       "      <th>income</th>\n",
       "      <th>expenses</th>\n",
       "      <th>credit</th>\n",
       "      <th>deposit</th>\n",
       "      <th>sum_amount</th>\n",
       "      <th>...</th>\n",
       "      <th>product_company_Стрелка</th>\n",
       "      <th>product_company_Тануки</th>\n",
       "      <th>product_company_Театр Волшебный Фонар</th>\n",
       "      <th>product_company_Утконос Онлайн</th>\n",
       "      <th>product_company_Читай-город</th>\n",
       "      <th>product_company_Якитория</th>\n",
       "      <th>product_company_Яндекс.Драйв</th>\n",
       "      <th>product_company_Яндекс.Лавка</th>\n",
       "      <th>product_company_Яндекс.Музыка</th>\n",
       "      <th>product_company_ЯндексGO</th>\n",
       "    </tr>\n",
       "  </thead>\n",
       "  <tbody>\n",
       "    <tr>\n",
       "      <td>0</td>\n",
       "      <td>1</td>\n",
       "      <td>2020-12-22 02:33:13</td>\n",
       "      <td>10</td>\n",
       "      <td>0.042607</td>\n",
       "      <td>15</td>\n",
       "      <td>230910.0</td>\n",
       "      <td>61975</td>\n",
       "      <td>1</td>\n",
       "      <td>0</td>\n",
       "      <td>9707.0</td>\n",
       "      <td>...</td>\n",
       "      <td>0</td>\n",
       "      <td>0</td>\n",
       "      <td>0</td>\n",
       "      <td>0</td>\n",
       "      <td>0</td>\n",
       "      <td>0</td>\n",
       "      <td>0</td>\n",
       "      <td>0</td>\n",
       "      <td>0</td>\n",
       "      <td>0</td>\n",
       "    </tr>\n",
       "    <tr>\n",
       "      <td>1</td>\n",
       "      <td>1</td>\n",
       "      <td>2020-12-22 10:20:44</td>\n",
       "      <td>11</td>\n",
       "      <td>0.032581</td>\n",
       "      <td>4</td>\n",
       "      <td>230910.0</td>\n",
       "      <td>61975</td>\n",
       "      <td>1</td>\n",
       "      <td>0</td>\n",
       "      <td>21380.0</td>\n",
       "      <td>...</td>\n",
       "      <td>0</td>\n",
       "      <td>0</td>\n",
       "      <td>0</td>\n",
       "      <td>0</td>\n",
       "      <td>0</td>\n",
       "      <td>0</td>\n",
       "      <td>0</td>\n",
       "      <td>0</td>\n",
       "      <td>0</td>\n",
       "      <td>0</td>\n",
       "    </tr>\n",
       "    <tr>\n",
       "      <td>2</td>\n",
       "      <td>1</td>\n",
       "      <td>2020-12-29 09:07:06</td>\n",
       "      <td>13</td>\n",
       "      <td>0.055138</td>\n",
       "      <td>20</td>\n",
       "      <td>230910.0</td>\n",
       "      <td>61975</td>\n",
       "      <td>1</td>\n",
       "      <td>0</td>\n",
       "      <td>130068.0</td>\n",
       "      <td>...</td>\n",
       "      <td>0</td>\n",
       "      <td>0</td>\n",
       "      <td>0</td>\n",
       "      <td>0</td>\n",
       "      <td>0</td>\n",
       "      <td>0</td>\n",
       "      <td>0</td>\n",
       "      <td>0</td>\n",
       "      <td>0</td>\n",
       "      <td>0</td>\n",
       "    </tr>\n",
       "    <tr>\n",
       "      <td>3</td>\n",
       "      <td>1</td>\n",
       "      <td>2020-12-29 03:38:07</td>\n",
       "      <td>16</td>\n",
       "      <td>0.022556</td>\n",
       "      <td>2</td>\n",
       "      <td>230910.0</td>\n",
       "      <td>61975</td>\n",
       "      <td>1</td>\n",
       "      <td>0</td>\n",
       "      <td>7885.0</td>\n",
       "      <td>...</td>\n",
       "      <td>0</td>\n",
       "      <td>0</td>\n",
       "      <td>0</td>\n",
       "      <td>0</td>\n",
       "      <td>0</td>\n",
       "      <td>0</td>\n",
       "      <td>0</td>\n",
       "      <td>0</td>\n",
       "      <td>0</td>\n",
       "      <td>0</td>\n",
       "    </tr>\n",
       "    <tr>\n",
       "      <td>4</td>\n",
       "      <td>1</td>\n",
       "      <td>2020-11-11 05:21:46</td>\n",
       "      <td>17</td>\n",
       "      <td>0.012531</td>\n",
       "      <td>37</td>\n",
       "      <td>230910.0</td>\n",
       "      <td>61975</td>\n",
       "      <td>1</td>\n",
       "      <td>0</td>\n",
       "      <td>122239.0</td>\n",
       "      <td>...</td>\n",
       "      <td>0</td>\n",
       "      <td>0</td>\n",
       "      <td>0</td>\n",
       "      <td>0</td>\n",
       "      <td>0</td>\n",
       "      <td>0</td>\n",
       "      <td>0</td>\n",
       "      <td>0</td>\n",
       "      <td>0</td>\n",
       "      <td>0</td>\n",
       "    </tr>\n",
       "  </tbody>\n",
       "</table>\n",
       "<p>5 rows × 82 columns</p>\n",
       "</div>"
      ],
      "text/plain": [
       "  client_id           last_date product_category  purchase_normalize  \\\n",
       "0         1 2020-12-22 02:33:13               10            0.042607   \n",
       "1         1 2020-12-22 10:20:44               11            0.032581   \n",
       "2         1 2020-12-29 09:07:06               13            0.055138   \n",
       "3         1 2020-12-29 03:38:07               16            0.022556   \n",
       "4         1 2020-11-11 05:21:46               17            0.012531   \n",
       "\n",
       "   mcc-code    income  expenses  credit  deposit  sum_amount  ...  \\\n",
       "0        15  230910.0     61975       1        0      9707.0  ...   \n",
       "1         4  230910.0     61975       1        0     21380.0  ...   \n",
       "2        20  230910.0     61975       1        0    130068.0  ...   \n",
       "3         2  230910.0     61975       1        0      7885.0  ...   \n",
       "4        37  230910.0     61975       1        0    122239.0  ...   \n",
       "\n",
       "   product_company_Стрелка  product_company_Тануки  \\\n",
       "0                        0                       0   \n",
       "1                        0                       0   \n",
       "2                        0                       0   \n",
       "3                        0                       0   \n",
       "4                        0                       0   \n",
       "\n",
       "   product_company_Театр Волшебный Фонар  product_company_Утконос Онлайн  \\\n",
       "0                                      0                               0   \n",
       "1                                      0                               0   \n",
       "2                                      0                               0   \n",
       "3                                      0                               0   \n",
       "4                                      0                               0   \n",
       "\n",
       "   product_company_Читай-город  product_company_Якитория  \\\n",
       "0                            0                         0   \n",
       "1                            0                         0   \n",
       "2                            0                         0   \n",
       "3                            0                         0   \n",
       "4                            0                         0   \n",
       "\n",
       "   product_company_Яндекс.Драйв  product_company_Яндекс.Лавка  \\\n",
       "0                             0                             0   \n",
       "1                             0                             0   \n",
       "2                             0                             0   \n",
       "3                             0                             0   \n",
       "4                             0                             0   \n",
       "\n",
       "   product_company_Яндекс.Музыка  product_company_ЯндексGO  \n",
       "0                              0                         0  \n",
       "1                              0                         0  \n",
       "2                              0                         0  \n",
       "3                              0                         0  \n",
       "4                              0                         0  \n",
       "\n",
       "[5 rows x 82 columns]"
      ]
     },
     "execution_count": 106,
     "metadata": {},
     "output_type": "execute_result"
    }
   ],
   "source": [
    "data_train_content = pd.get_dummies(data_train_content, columns=['gender', 'subtype', 'product_company'], drop_first=True)\n",
    "data_train_content.head()"
   ]
  },
  {
   "cell_type": "code",
   "execution_count": 107,
   "metadata": {},
   "outputs": [
    {
     "data": {
      "text/html": [
       "<div>\n",
       "<style scoped>\n",
       "    .dataframe tbody tr th:only-of-type {\n",
       "        vertical-align: middle;\n",
       "    }\n",
       "\n",
       "    .dataframe tbody tr th {\n",
       "        vertical-align: top;\n",
       "    }\n",
       "\n",
       "    .dataframe thead th {\n",
       "        text-align: right;\n",
       "    }\n",
       "</style>\n",
       "<table border=\"1\" class=\"dataframe\">\n",
       "  <thead>\n",
       "    <tr style=\"text-align: right;\">\n",
       "      <th></th>\n",
       "      <th>client_id</th>\n",
       "      <th>product_category</th>\n",
       "      <th>mcc-code</th>\n",
       "      <th>birthdate</th>\n",
       "      <th>registration_date</th>\n",
       "      <th>income</th>\n",
       "      <th>expenses</th>\n",
       "      <th>credit</th>\n",
       "      <th>deposit</th>\n",
       "      <th>sum_amount</th>\n",
       "      <th>...</th>\n",
       "      <th>product_company_Стрелка</th>\n",
       "      <th>product_company_Тануки</th>\n",
       "      <th>product_company_Театр Волшебный Фонар</th>\n",
       "      <th>product_company_Утконос Онлайн</th>\n",
       "      <th>product_company_Читай-город</th>\n",
       "      <th>product_company_Якитория</th>\n",
       "      <th>product_company_Яндекс.Драйв</th>\n",
       "      <th>product_company_Яндекс.Лавка</th>\n",
       "      <th>product_company_Яндекс.Музыка</th>\n",
       "      <th>product_company_ЯндексGO</th>\n",
       "    </tr>\n",
       "  </thead>\n",
       "  <tbody>\n",
       "    <tr>\n",
       "      <td>0</td>\n",
       "      <td>1</td>\n",
       "      <td>1</td>\n",
       "      <td>2</td>\n",
       "      <td>1966-09-07</td>\n",
       "      <td>2017-01-10</td>\n",
       "      <td>230910.0</td>\n",
       "      <td>61975</td>\n",
       "      <td>1</td>\n",
       "      <td>0</td>\n",
       "      <td>45554.114248</td>\n",
       "      <td>...</td>\n",
       "      <td>0</td>\n",
       "      <td>0</td>\n",
       "      <td>0</td>\n",
       "      <td>0</td>\n",
       "      <td>0</td>\n",
       "      <td>0</td>\n",
       "      <td>0</td>\n",
       "      <td>0</td>\n",
       "      <td>0</td>\n",
       "      <td>0</td>\n",
       "    </tr>\n",
       "    <tr>\n",
       "      <td>1</td>\n",
       "      <td>1</td>\n",
       "      <td>2</td>\n",
       "      <td>12</td>\n",
       "      <td>1966-09-07</td>\n",
       "      <td>2017-01-10</td>\n",
       "      <td>230910.0</td>\n",
       "      <td>61975</td>\n",
       "      <td>1</td>\n",
       "      <td>0</td>\n",
       "      <td>124999.000000</td>\n",
       "      <td>...</td>\n",
       "      <td>0</td>\n",
       "      <td>0</td>\n",
       "      <td>0</td>\n",
       "      <td>0</td>\n",
       "      <td>0</td>\n",
       "      <td>0</td>\n",
       "      <td>0</td>\n",
       "      <td>0</td>\n",
       "      <td>0</td>\n",
       "      <td>0</td>\n",
       "    </tr>\n",
       "    <tr>\n",
       "      <td>2</td>\n",
       "      <td>1</td>\n",
       "      <td>3</td>\n",
       "      <td>1</td>\n",
       "      <td>1966-09-07</td>\n",
       "      <td>2017-01-10</td>\n",
       "      <td>230910.0</td>\n",
       "      <td>61975</td>\n",
       "      <td>1</td>\n",
       "      <td>0</td>\n",
       "      <td>45554.114248</td>\n",
       "      <td>...</td>\n",
       "      <td>0</td>\n",
       "      <td>0</td>\n",
       "      <td>0</td>\n",
       "      <td>0</td>\n",
       "      <td>0</td>\n",
       "      <td>0</td>\n",
       "      <td>0</td>\n",
       "      <td>0</td>\n",
       "      <td>0</td>\n",
       "      <td>0</td>\n",
       "    </tr>\n",
       "    <tr>\n",
       "      <td>3</td>\n",
       "      <td>1</td>\n",
       "      <td>4</td>\n",
       "      <td>2</td>\n",
       "      <td>1966-09-07</td>\n",
       "      <td>2017-01-10</td>\n",
       "      <td>230910.0</td>\n",
       "      <td>61975</td>\n",
       "      <td>1</td>\n",
       "      <td>0</td>\n",
       "      <td>1908.000000</td>\n",
       "      <td>...</td>\n",
       "      <td>0</td>\n",
       "      <td>0</td>\n",
       "      <td>0</td>\n",
       "      <td>0</td>\n",
       "      <td>0</td>\n",
       "      <td>0</td>\n",
       "      <td>0</td>\n",
       "      <td>0</td>\n",
       "      <td>0</td>\n",
       "      <td>0</td>\n",
       "    </tr>\n",
       "    <tr>\n",
       "      <td>4</td>\n",
       "      <td>1</td>\n",
       "      <td>5</td>\n",
       "      <td>1</td>\n",
       "      <td>1966-09-07</td>\n",
       "      <td>2017-01-10</td>\n",
       "      <td>230910.0</td>\n",
       "      <td>61975</td>\n",
       "      <td>1</td>\n",
       "      <td>0</td>\n",
       "      <td>57310.000000</td>\n",
       "      <td>...</td>\n",
       "      <td>0</td>\n",
       "      <td>0</td>\n",
       "      <td>0</td>\n",
       "      <td>0</td>\n",
       "      <td>0</td>\n",
       "      <td>0</td>\n",
       "      <td>0</td>\n",
       "      <td>0</td>\n",
       "      <td>0</td>\n",
       "      <td>0</td>\n",
       "    </tr>\n",
       "  </tbody>\n",
       "</table>\n",
       "<p>5 rows × 82 columns</p>\n",
       "</div>"
      ],
      "text/plain": [
       "  client_id product_category  mcc-code  birthdate registration_date    income  \\\n",
       "0         1                1         2 1966-09-07        2017-01-10  230910.0   \n",
       "1         1                2        12 1966-09-07        2017-01-10  230910.0   \n",
       "2         1                3         1 1966-09-07        2017-01-10  230910.0   \n",
       "3         1                4         2 1966-09-07        2017-01-10  230910.0   \n",
       "4         1                5         1 1966-09-07        2017-01-10  230910.0   \n",
       "\n",
       "   expenses  credit  deposit     sum_amount  ...  product_company_Стрелка  \\\n",
       "0     61975       1        0   45554.114248  ...                        0   \n",
       "1     61975       1        0  124999.000000  ...                        0   \n",
       "2     61975       1        0   45554.114248  ...                        0   \n",
       "3     61975       1        0    1908.000000  ...                        0   \n",
       "4     61975       1        0   57310.000000  ...                        0   \n",
       "\n",
       "   product_company_Тануки  product_company_Театр Волшебный Фонар  \\\n",
       "0                       0                                      0   \n",
       "1                       0                                      0   \n",
       "2                       0                                      0   \n",
       "3                       0                                      0   \n",
       "4                       0                                      0   \n",
       "\n",
       "   product_company_Утконос Онлайн  product_company_Читай-город  \\\n",
       "0                               0                            0   \n",
       "1                               0                            0   \n",
       "2                               0                            0   \n",
       "3                               0                            0   \n",
       "4                               0                            0   \n",
       "\n",
       "   product_company_Якитория  product_company_Яндекс.Драйв  \\\n",
       "0                         0                             0   \n",
       "1                         0                             0   \n",
       "2                         0                             0   \n",
       "3                         0                             0   \n",
       "4                         0                             0   \n",
       "\n",
       "   product_company_Яндекс.Лавка  product_company_Яндекс.Музыка  \\\n",
       "0                             0                              0   \n",
       "1                             0                              0   \n",
       "2                             0                              0   \n",
       "3                             0                              0   \n",
       "4                             0                              0   \n",
       "\n",
       "   product_company_ЯндексGO  \n",
       "0                         0  \n",
       "1                         0  \n",
       "2                         0  \n",
       "3                         0  \n",
       "4                         0  \n",
       "\n",
       "[5 rows x 82 columns]"
      ]
     },
     "execution_count": 107,
     "metadata": {},
     "output_type": "execute_result"
    }
   ],
   "source": [
    "data_test_content = pd.get_dummies(data_test_content, columns=['gender', 'subtype', 'product_company'], drop_first=True)\n",
    "data_test_content.head()"
   ]
  },
  {
   "cell_type": "code",
   "execution_count": 108,
   "metadata": {},
   "outputs": [],
   "source": [
    "X_train_content = data_train_content[data_train_content.columns[features_start:]]\n",
    "y_train_content = np.array(data_train_content.purchase_normalize > 0, dtype=int)"
   ]
  },
  {
   "cell_type": "markdown",
   "metadata": {},
   "source": [
    "#### 3.4.2. RandomForestClassifier"
   ]
  },
  {
   "cell_type": "code",
   "execution_count": 109,
   "metadata": {},
   "outputs": [
    {
     "data": {
      "text/plain": [
       "RandomForestClassifier(random_state=7)"
      ]
     },
     "execution_count": 109,
     "metadata": {},
     "output_type": "execute_result"
    }
   ],
   "source": [
    "model_forest = RandomForestClassifier(random_state=7)\n",
    "model_forest.fit(X_train_content, y_train_content)"
   ]
  },
  {
   "cell_type": "code",
   "execution_count": 110,
   "metadata": {},
   "outputs": [
    {
     "data": {
      "application/vnd.jupyter.widget-view+json": {
       "model_id": "04e9bbe8d97c41ef942af736fefe5bb6",
       "version_major": 2,
       "version_minor": 0
      },
      "text/plain": [
       "HBox(children=(IntProgress(value=0, max=1000), HTML(value='')))"
      ]
     },
     "metadata": {},
     "output_type": "display_data"
    },
    {
     "name": "stdout",
     "output_type": "stream",
     "text": [
      "\n"
     ]
    }
   ],
   "source": [
    "predictions = model_forest.predict_proba(data_test_content[data_train_content.columns[features_start:]])[:, 1]\n",
    "data_test_content['predictions'] = predictions\n",
    "\n",
    "data_test_content = data_test_content.sort_values('predictions', ascending=False)\n",
    "predictions = data_test_content.groupby('client_id')['product_category'].agg(list)\n",
    "tmp_predictions = []\n",
    "\n",
    "for client_id in tqdm_notebook(data_true.index):\n",
    "    prediction = np.array(predictions[int(client_id) - 1])\n",
    "    \n",
    "    tmp_predictions.append(\n",
    "        list(prediction)[:top_k]) #***\n",
    "    \n",
    "data_true['prediction_content_forest'] = tmp_predictions"
   ]
  },
  {
   "cell_type": "code",
   "execution_count": 111,
   "metadata": {},
   "outputs": [
    {
     "name": "stdout",
     "output_type": "stream",
     "text": [
      "Precision@1: 0.081\n",
      "Recall@1: 0.081\n",
      "F-score@1: 0.081\n"
     ]
    }
   ],
   "source": [
    "print(f'Precision@1: {calc_precision(\"prediction_content_forest\")}')\n",
    "print(f'Recall@1: {calc_recall(\"prediction_content_forest\")}')\n",
    "print(f'F-score@1: {calc_fscore_precision(\"prediction_content_forest\")}')"
   ]
  },
  {
   "cell_type": "markdown",
   "metadata": {},
   "source": [
    "#### 3.4.3. CatBoostClassifier"
   ]
  },
  {
   "cell_type": "code",
   "execution_count": 112,
   "metadata": {},
   "outputs": [
    {
     "name": "stdout",
     "output_type": "stream",
     "text": [
      "Learning rate set to 0.051613\n",
      "0:\tlearn: 0.6707136\ttotal: 207ms\tremaining: 3m 27s\n",
      "1:\tlearn: 0.6551229\ttotal: 222ms\tremaining: 1m 50s\n",
      "2:\tlearn: 0.6432420\ttotal: 237ms\tremaining: 1m 18s\n",
      "3:\tlearn: 0.6271728\ttotal: 253ms\tremaining: 1m 3s\n",
      "4:\tlearn: 0.6185484\ttotal: 269ms\tremaining: 53.6s\n",
      "5:\tlearn: 0.6114585\ttotal: 284ms\tremaining: 47s\n",
      "6:\tlearn: 0.6058851\ttotal: 297ms\tremaining: 42.1s\n",
      "7:\tlearn: 0.5972344\ttotal: 312ms\tremaining: 38.7s\n",
      "8:\tlearn: 0.5936127\ttotal: 327ms\tremaining: 36s\n",
      "9:\tlearn: 0.5901154\ttotal: 340ms\tremaining: 33.7s\n",
      "10:\tlearn: 0.5869042\ttotal: 356ms\tremaining: 32s\n",
      "11:\tlearn: 0.5852960\ttotal: 371ms\tremaining: 30.5s\n",
      "12:\tlearn: 0.5847884\ttotal: 381ms\tremaining: 28.9s\n",
      "13:\tlearn: 0.5831339\ttotal: 395ms\tremaining: 27.8s\n",
      "14:\tlearn: 0.5805233\ttotal: 414ms\tremaining: 27.2s\n",
      "15:\tlearn: 0.5791155\ttotal: 430ms\tremaining: 26.5s\n",
      "16:\tlearn: 0.5775771\ttotal: 446ms\tremaining: 25.8s\n",
      "17:\tlearn: 0.5752433\ttotal: 462ms\tremaining: 25.2s\n",
      "18:\tlearn: 0.5745430\ttotal: 476ms\tremaining: 24.6s\n",
      "19:\tlearn: 0.5726052\ttotal: 492ms\tremaining: 24.1s\n",
      "20:\tlearn: 0.5714184\ttotal: 506ms\tremaining: 23.6s\n",
      "21:\tlearn: 0.5711700\ttotal: 519ms\tremaining: 23.1s\n",
      "22:\tlearn: 0.5708563\ttotal: 533ms\tremaining: 22.6s\n",
      "23:\tlearn: 0.5705505\ttotal: 547ms\tremaining: 22.3s\n",
      "24:\tlearn: 0.5703510\ttotal: 560ms\tremaining: 21.8s\n",
      "25:\tlearn: 0.5700724\ttotal: 572ms\tremaining: 21.4s\n",
      "26:\tlearn: 0.5696141\ttotal: 585ms\tremaining: 21.1s\n",
      "27:\tlearn: 0.5690515\ttotal: 599ms\tremaining: 20.8s\n",
      "28:\tlearn: 0.5686976\ttotal: 614ms\tremaining: 20.5s\n",
      "29:\tlearn: 0.5673685\ttotal: 626ms\tremaining: 20.2s\n",
      "30:\tlearn: 0.5670884\ttotal: 638ms\tremaining: 19.9s\n",
      "31:\tlearn: 0.5663042\ttotal: 651ms\tremaining: 19.7s\n",
      "32:\tlearn: 0.5660863\ttotal: 664ms\tremaining: 19.5s\n",
      "33:\tlearn: 0.5657324\ttotal: 678ms\tremaining: 19.2s\n",
      "34:\tlearn: 0.5655962\ttotal: 692ms\tremaining: 19.1s\n",
      "35:\tlearn: 0.5653476\ttotal: 709ms\tremaining: 19s\n",
      "36:\tlearn: 0.5650193\ttotal: 726ms\tremaining: 18.9s\n",
      "37:\tlearn: 0.5643542\ttotal: 742ms\tremaining: 18.8s\n",
      "38:\tlearn: 0.5635053\ttotal: 758ms\tremaining: 18.7s\n",
      "39:\tlearn: 0.5634099\ttotal: 773ms\tremaining: 18.6s\n",
      "40:\tlearn: 0.5626634\ttotal: 790ms\tremaining: 18.5s\n",
      "41:\tlearn: 0.5623603\ttotal: 807ms\tremaining: 18.4s\n",
      "42:\tlearn: 0.5620913\ttotal: 823ms\tremaining: 18.3s\n",
      "43:\tlearn: 0.5620230\ttotal: 839ms\tremaining: 18.2s\n",
      "44:\tlearn: 0.5619621\ttotal: 856ms\tremaining: 18.2s\n",
      "45:\tlearn: 0.5618660\ttotal: 869ms\tremaining: 18s\n",
      "46:\tlearn: 0.5617504\ttotal: 884ms\tremaining: 17.9s\n",
      "47:\tlearn: 0.5615716\ttotal: 908ms\tremaining: 18s\n",
      "48:\tlearn: 0.5615170\ttotal: 937ms\tremaining: 18.2s\n",
      "49:\tlearn: 0.5612041\ttotal: 959ms\tremaining: 18.2s\n",
      "50:\tlearn: 0.5611841\ttotal: 983ms\tremaining: 18.3s\n",
      "51:\tlearn: 0.5609590\ttotal: 1.02s\tremaining: 18.6s\n",
      "52:\tlearn: 0.5609095\ttotal: 1.05s\tremaining: 18.9s\n",
      "53:\tlearn: 0.5605726\ttotal: 1.07s\tremaining: 18.8s\n",
      "54:\tlearn: 0.5605237\ttotal: 1.09s\tremaining: 18.8s\n",
      "55:\tlearn: 0.5604572\ttotal: 1.11s\tremaining: 18.7s\n",
      "56:\tlearn: 0.5603383\ttotal: 1.13s\tremaining: 18.7s\n",
      "57:\tlearn: 0.5603126\ttotal: 1.14s\tremaining: 18.5s\n",
      "58:\tlearn: 0.5602702\ttotal: 1.16s\tremaining: 18.5s\n",
      "59:\tlearn: 0.5602470\ttotal: 1.17s\tremaining: 18.4s\n",
      "60:\tlearn: 0.5602201\ttotal: 1.19s\tremaining: 18.3s\n",
      "61:\tlearn: 0.5601991\ttotal: 1.21s\tremaining: 18.3s\n",
      "62:\tlearn: 0.5599237\ttotal: 1.23s\tremaining: 18.4s\n",
      "63:\tlearn: 0.5598056\ttotal: 1.25s\tremaining: 18.3s\n",
      "64:\tlearn: 0.5596843\ttotal: 1.27s\tremaining: 18.3s\n",
      "65:\tlearn: 0.5596751\ttotal: 1.29s\tremaining: 18.2s\n",
      "66:\tlearn: 0.5596411\ttotal: 1.3s\tremaining: 18.2s\n",
      "67:\tlearn: 0.5596105\ttotal: 1.32s\tremaining: 18.1s\n",
      "68:\tlearn: 0.5595881\ttotal: 1.33s\tremaining: 18s\n",
      "69:\tlearn: 0.5595381\ttotal: 1.35s\tremaining: 18s\n",
      "70:\tlearn: 0.5591388\ttotal: 1.37s\tremaining: 17.9s\n",
      "71:\tlearn: 0.5591089\ttotal: 1.38s\tremaining: 17.8s\n",
      "72:\tlearn: 0.5590470\ttotal: 1.39s\tremaining: 17.7s\n",
      "73:\tlearn: 0.5590071\ttotal: 1.41s\tremaining: 17.6s\n",
      "74:\tlearn: 0.5589898\ttotal: 1.42s\tremaining: 17.5s\n",
      "75:\tlearn: 0.5589240\ttotal: 1.44s\tremaining: 17.5s\n",
      "76:\tlearn: 0.5588948\ttotal: 1.45s\tremaining: 17.4s\n",
      "77:\tlearn: 0.5588212\ttotal: 1.47s\tremaining: 17.3s\n",
      "78:\tlearn: 0.5588008\ttotal: 1.48s\tremaining: 17.3s\n",
      "79:\tlearn: 0.5587172\ttotal: 1.5s\tremaining: 17.2s\n",
      "80:\tlearn: 0.5587100\ttotal: 1.51s\tremaining: 17.1s\n",
      "81:\tlearn: 0.5587037\ttotal: 1.53s\tremaining: 17.1s\n",
      "82:\tlearn: 0.5586709\ttotal: 1.54s\tremaining: 17s\n",
      "83:\tlearn: 0.5586300\ttotal: 1.56s\tremaining: 17s\n",
      "84:\tlearn: 0.5584970\ttotal: 1.58s\tremaining: 17s\n",
      "85:\tlearn: 0.5584068\ttotal: 1.59s\tremaining: 16.9s\n",
      "86:\tlearn: 0.5583750\ttotal: 1.61s\tremaining: 16.9s\n",
      "87:\tlearn: 0.5583598\ttotal: 1.63s\tremaining: 16.9s\n",
      "88:\tlearn: 0.5583449\ttotal: 1.64s\tremaining: 16.8s\n",
      "89:\tlearn: 0.5582214\ttotal: 1.66s\tremaining: 16.8s\n",
      "90:\tlearn: 0.5582018\ttotal: 1.67s\tremaining: 16.7s\n",
      "91:\tlearn: 0.5581874\ttotal: 1.69s\tremaining: 16.7s\n",
      "92:\tlearn: 0.5578229\ttotal: 1.7s\tremaining: 16.6s\n",
      "93:\tlearn: 0.5578187\ttotal: 1.72s\tremaining: 16.5s\n",
      "94:\tlearn: 0.5578024\ttotal: 1.73s\tremaining: 16.4s\n",
      "95:\tlearn: 0.5577744\ttotal: 1.74s\tremaining: 16.4s\n",
      "96:\tlearn: 0.5577550\ttotal: 1.75s\tremaining: 16.3s\n",
      "97:\tlearn: 0.5577496\ttotal: 1.76s\tremaining: 16.2s\n",
      "98:\tlearn: 0.5577241\ttotal: 1.78s\tremaining: 16.2s\n",
      "99:\tlearn: 0.5577179\ttotal: 1.79s\tremaining: 16.1s\n",
      "100:\tlearn: 0.5577084\ttotal: 1.8s\tremaining: 16.1s\n",
      "101:\tlearn: 0.5576568\ttotal: 1.82s\tremaining: 16s\n",
      "102:\tlearn: 0.5576447\ttotal: 1.83s\tremaining: 15.9s\n",
      "103:\tlearn: 0.5575794\ttotal: 1.84s\tremaining: 15.9s\n",
      "104:\tlearn: 0.5575670\ttotal: 1.85s\tremaining: 15.8s\n",
      "105:\tlearn: 0.5575522\ttotal: 1.87s\tremaining: 15.8s\n",
      "106:\tlearn: 0.5573984\ttotal: 1.88s\tremaining: 15.7s\n",
      "107:\tlearn: 0.5573863\ttotal: 1.89s\tremaining: 15.6s\n",
      "108:\tlearn: 0.5573603\ttotal: 1.91s\tremaining: 15.6s\n",
      "109:\tlearn: 0.5573161\ttotal: 1.92s\tremaining: 15.5s\n",
      "110:\tlearn: 0.5573092\ttotal: 1.94s\tremaining: 15.5s\n",
      "111:\tlearn: 0.5572914\ttotal: 1.95s\tremaining: 15.5s\n",
      "112:\tlearn: 0.5572765\ttotal: 1.96s\tremaining: 15.4s\n",
      "113:\tlearn: 0.5572720\ttotal: 1.98s\tremaining: 15.4s\n",
      "114:\tlearn: 0.5572676\ttotal: 2s\tremaining: 15.4s\n",
      "115:\tlearn: 0.5572650\ttotal: 2.02s\tremaining: 15.4s\n",
      "116:\tlearn: 0.5572611\ttotal: 2.04s\tremaining: 15.4s\n",
      "117:\tlearn: 0.5572384\ttotal: 2.05s\tremaining: 15.4s\n",
      "118:\tlearn: 0.5572239\ttotal: 2.07s\tremaining: 15.3s\n",
      "119:\tlearn: 0.5572159\ttotal: 2.08s\tremaining: 15.3s\n",
      "120:\tlearn: 0.5572074\ttotal: 2.1s\tremaining: 15.2s\n",
      "121:\tlearn: 0.5572052\ttotal: 2.12s\tremaining: 15.2s\n",
      "122:\tlearn: 0.5571847\ttotal: 2.13s\tremaining: 15.2s\n",
      "123:\tlearn: 0.5571786\ttotal: 2.14s\tremaining: 15.1s\n",
      "124:\tlearn: 0.5571500\ttotal: 2.15s\tremaining: 15.1s\n",
      "125:\tlearn: 0.5571384\ttotal: 2.17s\tremaining: 15s\n",
      "126:\tlearn: 0.5571275\ttotal: 2.18s\tremaining: 15s\n",
      "127:\tlearn: 0.5570963\ttotal: 2.19s\tremaining: 14.9s\n",
      "128:\tlearn: 0.5568933\ttotal: 2.21s\tremaining: 14.9s\n",
      "129:\tlearn: 0.5568814\ttotal: 2.23s\tremaining: 14.9s\n",
      "130:\tlearn: 0.5568782\ttotal: 2.24s\tremaining: 14.9s\n",
      "131:\tlearn: 0.5568702\ttotal: 2.26s\tremaining: 14.9s\n",
      "132:\tlearn: 0.5568520\ttotal: 2.28s\tremaining: 14.9s\n",
      "133:\tlearn: 0.5568129\ttotal: 2.3s\tremaining: 14.9s\n",
      "134:\tlearn: 0.5567494\ttotal: 2.32s\tremaining: 14.9s\n",
      "135:\tlearn: 0.5566725\ttotal: 2.34s\tremaining: 14.9s\n",
      "136:\tlearn: 0.5566685\ttotal: 2.36s\tremaining: 14.9s\n",
      "137:\tlearn: 0.5565403\ttotal: 2.39s\tremaining: 14.9s\n",
      "138:\tlearn: 0.5565354\ttotal: 2.4s\tremaining: 14.9s\n",
      "139:\tlearn: 0.5565235\ttotal: 2.43s\tremaining: 14.9s\n",
      "140:\tlearn: 0.5564768\ttotal: 2.44s\tremaining: 14.9s\n",
      "141:\tlearn: 0.5564732\ttotal: 2.46s\tremaining: 14.9s\n",
      "142:\tlearn: 0.5564603\ttotal: 2.48s\tremaining: 14.9s\n",
      "143:\tlearn: 0.5564424\ttotal: 2.5s\tremaining: 14.9s\n",
      "144:\tlearn: 0.5563621\ttotal: 2.52s\tremaining: 14.9s\n",
      "145:\tlearn: 0.5563491\ttotal: 2.54s\tremaining: 14.9s\n",
      "146:\tlearn: 0.5563446\ttotal: 2.55s\tremaining: 14.8s\n",
      "147:\tlearn: 0.5563402\ttotal: 2.57s\tremaining: 14.8s\n",
      "148:\tlearn: 0.5563345\ttotal: 2.59s\tremaining: 14.8s\n",
      "149:\tlearn: 0.5562627\ttotal: 2.61s\tremaining: 14.8s\n",
      "150:\tlearn: 0.5562598\ttotal: 2.63s\tremaining: 14.8s\n",
      "151:\tlearn: 0.5561603\ttotal: 2.65s\tremaining: 14.8s\n",
      "152:\tlearn: 0.5561530\ttotal: 2.68s\tremaining: 14.8s\n",
      "153:\tlearn: 0.5561390\ttotal: 2.69s\tremaining: 14.8s\n",
      "154:\tlearn: 0.5561304\ttotal: 2.71s\tremaining: 14.8s\n",
      "155:\tlearn: 0.5561263\ttotal: 2.73s\tremaining: 14.8s\n",
      "156:\tlearn: 0.5561226\ttotal: 2.75s\tremaining: 14.7s\n",
      "157:\tlearn: 0.5561164\ttotal: 2.76s\tremaining: 14.7s\n",
      "158:\tlearn: 0.5561104\ttotal: 2.77s\tremaining: 14.7s\n",
      "159:\tlearn: 0.5561011\ttotal: 2.79s\tremaining: 14.7s\n"
     ]
    },
    {
     "name": "stdout",
     "output_type": "stream",
     "text": [
      "160:\tlearn: 0.5560988\ttotal: 2.8s\tremaining: 14.6s\n",
      "161:\tlearn: 0.5560962\ttotal: 2.82s\tremaining: 14.6s\n",
      "162:\tlearn: 0.5560919\ttotal: 2.83s\tremaining: 14.5s\n",
      "163:\tlearn: 0.5560877\ttotal: 2.85s\tremaining: 14.5s\n",
      "164:\tlearn: 0.5560655\ttotal: 2.86s\tremaining: 14.5s\n",
      "165:\tlearn: 0.5560617\ttotal: 2.88s\tremaining: 14.5s\n",
      "166:\tlearn: 0.5560593\ttotal: 2.9s\tremaining: 14.5s\n",
      "167:\tlearn: 0.5559946\ttotal: 2.92s\tremaining: 14.5s\n",
      "168:\tlearn: 0.5559902\ttotal: 2.94s\tremaining: 14.5s\n",
      "169:\tlearn: 0.5559832\ttotal: 2.97s\tremaining: 14.5s\n",
      "170:\tlearn: 0.5559682\ttotal: 2.98s\tremaining: 14.5s\n",
      "171:\tlearn: 0.5555376\ttotal: 3s\tremaining: 14.5s\n",
      "172:\tlearn: 0.5555235\ttotal: 3.02s\tremaining: 14.4s\n",
      "173:\tlearn: 0.5555024\ttotal: 3.03s\tremaining: 14.4s\n",
      "174:\tlearn: 0.5554988\ttotal: 3.05s\tremaining: 14.4s\n",
      "175:\tlearn: 0.5554919\ttotal: 3.06s\tremaining: 14.3s\n",
      "176:\tlearn: 0.5554825\ttotal: 3.07s\tremaining: 14.3s\n",
      "177:\tlearn: 0.5554546\ttotal: 3.09s\tremaining: 14.3s\n",
      "178:\tlearn: 0.5554483\ttotal: 3.1s\tremaining: 14.2s\n",
      "179:\tlearn: 0.5554360\ttotal: 3.12s\tremaining: 14.2s\n",
      "180:\tlearn: 0.5553793\ttotal: 3.13s\tremaining: 14.2s\n",
      "181:\tlearn: 0.5552832\ttotal: 3.14s\tremaining: 14.1s\n",
      "182:\tlearn: 0.5552779\ttotal: 3.16s\tremaining: 14.1s\n",
      "183:\tlearn: 0.5552549\ttotal: 3.17s\tremaining: 14.1s\n",
      "184:\tlearn: 0.5552502\ttotal: 3.19s\tremaining: 14s\n",
      "185:\tlearn: 0.5552459\ttotal: 3.21s\tremaining: 14s\n",
      "186:\tlearn: 0.5552431\ttotal: 3.22s\tremaining: 14s\n",
      "187:\tlearn: 0.5552265\ttotal: 3.24s\tremaining: 14s\n",
      "188:\tlearn: 0.5552223\ttotal: 3.26s\tremaining: 14s\n",
      "189:\tlearn: 0.5552189\ttotal: 3.28s\tremaining: 14s\n",
      "190:\tlearn: 0.5552170\ttotal: 3.3s\tremaining: 14s\n",
      "191:\tlearn: 0.5551426\ttotal: 3.32s\tremaining: 14s\n",
      "192:\tlearn: 0.5551378\ttotal: 3.34s\tremaining: 14s\n",
      "193:\tlearn: 0.5551320\ttotal: 3.36s\tremaining: 13.9s\n",
      "194:\tlearn: 0.5551277\ttotal: 3.37s\tremaining: 13.9s\n",
      "195:\tlearn: 0.5550724\ttotal: 3.39s\tremaining: 13.9s\n",
      "196:\tlearn: 0.5550664\ttotal: 3.4s\tremaining: 13.9s\n",
      "197:\tlearn: 0.5550626\ttotal: 3.42s\tremaining: 13.9s\n",
      "198:\tlearn: 0.5550597\ttotal: 3.44s\tremaining: 13.8s\n",
      "199:\tlearn: 0.5550551\ttotal: 3.46s\tremaining: 13.8s\n",
      "200:\tlearn: 0.5550519\ttotal: 3.47s\tremaining: 13.8s\n",
      "201:\tlearn: 0.5550491\ttotal: 3.49s\tremaining: 13.8s\n",
      "202:\tlearn: 0.5548964\ttotal: 3.51s\tremaining: 13.8s\n",
      "203:\tlearn: 0.5548276\ttotal: 3.52s\tremaining: 13.8s\n",
      "204:\tlearn: 0.5548152\ttotal: 3.54s\tremaining: 13.7s\n",
      "205:\tlearn: 0.5547885\ttotal: 3.56s\tremaining: 13.7s\n",
      "206:\tlearn: 0.5547746\ttotal: 3.57s\tremaining: 13.7s\n",
      "207:\tlearn: 0.5547568\ttotal: 3.59s\tremaining: 13.7s\n",
      "208:\tlearn: 0.5547449\ttotal: 3.6s\tremaining: 13.6s\n",
      "209:\tlearn: 0.5547375\ttotal: 3.62s\tremaining: 13.6s\n",
      "210:\tlearn: 0.5547272\ttotal: 3.63s\tremaining: 13.6s\n",
      "211:\tlearn: 0.5547205\ttotal: 3.65s\tremaining: 13.6s\n",
      "212:\tlearn: 0.5547016\ttotal: 3.67s\tremaining: 13.6s\n",
      "213:\tlearn: 0.5546966\ttotal: 3.69s\tremaining: 13.5s\n",
      "214:\tlearn: 0.5546923\ttotal: 3.7s\tremaining: 13.5s\n",
      "215:\tlearn: 0.5546887\ttotal: 3.72s\tremaining: 13.5s\n",
      "216:\tlearn: 0.5546572\ttotal: 3.74s\tremaining: 13.5s\n",
      "217:\tlearn: 0.5546469\ttotal: 3.77s\tremaining: 13.5s\n",
      "218:\tlearn: 0.5546080\ttotal: 3.79s\tremaining: 13.5s\n",
      "219:\tlearn: 0.5545976\ttotal: 3.81s\tremaining: 13.5s\n",
      "220:\tlearn: 0.5545873\ttotal: 3.82s\tremaining: 13.5s\n",
      "221:\tlearn: 0.5545569\ttotal: 3.84s\tremaining: 13.5s\n",
      "222:\tlearn: 0.5545206\ttotal: 3.86s\tremaining: 13.4s\n",
      "223:\tlearn: 0.5544988\ttotal: 3.88s\tremaining: 13.4s\n",
      "224:\tlearn: 0.5544924\ttotal: 3.89s\tremaining: 13.4s\n",
      "225:\tlearn: 0.5544823\ttotal: 3.91s\tremaining: 13.4s\n",
      "226:\tlearn: 0.5544720\ttotal: 3.93s\tremaining: 13.4s\n",
      "227:\tlearn: 0.5544383\ttotal: 3.95s\tremaining: 13.4s\n",
      "228:\tlearn: 0.5544269\ttotal: 3.97s\tremaining: 13.4s\n",
      "229:\tlearn: 0.5543528\ttotal: 3.99s\tremaining: 13.3s\n",
      "230:\tlearn: 0.5543482\ttotal: 4.01s\tremaining: 13.3s\n",
      "231:\tlearn: 0.5543327\ttotal: 4.02s\tremaining: 13.3s\n",
      "232:\tlearn: 0.5543301\ttotal: 4.04s\tremaining: 13.3s\n",
      "233:\tlearn: 0.5543272\ttotal: 4.05s\tremaining: 13.3s\n",
      "234:\tlearn: 0.5543161\ttotal: 4.07s\tremaining: 13.2s\n",
      "235:\tlearn: 0.5543038\ttotal: 4.08s\tremaining: 13.2s\n",
      "236:\tlearn: 0.5542895\ttotal: 4.09s\tremaining: 13.2s\n",
      "237:\tlearn: 0.5542848\ttotal: 4.11s\tremaining: 13.2s\n",
      "238:\tlearn: 0.5541938\ttotal: 4.13s\tremaining: 13.1s\n",
      "239:\tlearn: 0.5540158\ttotal: 4.14s\tremaining: 13.1s\n",
      "240:\tlearn: 0.5540098\ttotal: 4.15s\tremaining: 13.1s\n",
      "241:\tlearn: 0.5538547\ttotal: 4.17s\tremaining: 13.1s\n",
      "242:\tlearn: 0.5538414\ttotal: 4.19s\tremaining: 13s\n",
      "243:\tlearn: 0.5538337\ttotal: 4.21s\tremaining: 13s\n",
      "244:\tlearn: 0.5538103\ttotal: 4.23s\tremaining: 13s\n",
      "245:\tlearn: 0.5537845\ttotal: 4.25s\tremaining: 13s\n",
      "246:\tlearn: 0.5537715\ttotal: 4.27s\tremaining: 13s\n",
      "247:\tlearn: 0.5537626\ttotal: 4.3s\tremaining: 13s\n",
      "248:\tlearn: 0.5537593\ttotal: 4.32s\tremaining: 13s\n",
      "249:\tlearn: 0.5537194\ttotal: 4.34s\tremaining: 13s\n",
      "250:\tlearn: 0.5536973\ttotal: 4.35s\tremaining: 13s\n",
      "251:\tlearn: 0.5536961\ttotal: 4.36s\tremaining: 13s\n",
      "252:\tlearn: 0.5535733\ttotal: 4.38s\tremaining: 12.9s\n",
      "253:\tlearn: 0.5535664\ttotal: 4.39s\tremaining: 12.9s\n",
      "254:\tlearn: 0.5535572\ttotal: 4.41s\tremaining: 12.9s\n",
      "255:\tlearn: 0.5535430\ttotal: 4.42s\tremaining: 12.9s\n",
      "256:\tlearn: 0.5535341\ttotal: 4.44s\tremaining: 12.8s\n",
      "257:\tlearn: 0.5535276\ttotal: 4.46s\tremaining: 12.8s\n",
      "258:\tlearn: 0.5535188\ttotal: 4.47s\tremaining: 12.8s\n",
      "259:\tlearn: 0.5535144\ttotal: 4.49s\tremaining: 12.8s\n",
      "260:\tlearn: 0.5535056\ttotal: 4.51s\tremaining: 12.8s\n",
      "261:\tlearn: 0.5534929\ttotal: 4.53s\tremaining: 12.8s\n",
      "262:\tlearn: 0.5534891\ttotal: 4.55s\tremaining: 12.7s\n",
      "263:\tlearn: 0.5534869\ttotal: 4.57s\tremaining: 12.7s\n",
      "264:\tlearn: 0.5534748\ttotal: 4.58s\tremaining: 12.7s\n",
      "265:\tlearn: 0.5534687\ttotal: 4.6s\tremaining: 12.7s\n",
      "266:\tlearn: 0.5534632\ttotal: 4.61s\tremaining: 12.7s\n",
      "267:\tlearn: 0.5534564\ttotal: 4.63s\tremaining: 12.6s\n",
      "268:\tlearn: 0.5534449\ttotal: 4.64s\tremaining: 12.6s\n",
      "269:\tlearn: 0.5534189\ttotal: 4.66s\tremaining: 12.6s\n",
      "270:\tlearn: 0.5534120\ttotal: 4.67s\tremaining: 12.6s\n",
      "271:\tlearn: 0.5534083\ttotal: 4.69s\tremaining: 12.5s\n",
      "272:\tlearn: 0.5533803\ttotal: 4.71s\tremaining: 12.5s\n",
      "273:\tlearn: 0.5533724\ttotal: 4.72s\tremaining: 12.5s\n",
      "274:\tlearn: 0.5533675\ttotal: 4.74s\tremaining: 12.5s\n",
      "275:\tlearn: 0.5533555\ttotal: 4.76s\tremaining: 12.5s\n",
      "276:\tlearn: 0.5533507\ttotal: 4.78s\tremaining: 12.5s\n",
      "277:\tlearn: 0.5533382\ttotal: 4.8s\tremaining: 12.5s\n",
      "278:\tlearn: 0.5533346\ttotal: 4.82s\tremaining: 12.5s\n",
      "279:\tlearn: 0.5533279\ttotal: 4.84s\tremaining: 12.4s\n",
      "280:\tlearn: 0.5533259\ttotal: 4.86s\tremaining: 12.4s\n",
      "281:\tlearn: 0.5533241\ttotal: 4.87s\tremaining: 12.4s\n",
      "282:\tlearn: 0.5533008\ttotal: 4.89s\tremaining: 12.4s\n",
      "283:\tlearn: 0.5532500\ttotal: 4.9s\tremaining: 12.4s\n",
      "284:\tlearn: 0.5532390\ttotal: 4.92s\tremaining: 12.3s\n",
      "285:\tlearn: 0.5532183\ttotal: 4.94s\tremaining: 12.3s\n",
      "286:\tlearn: 0.5532071\ttotal: 4.95s\tremaining: 12.3s\n",
      "287:\tlearn: 0.5532016\ttotal: 4.97s\tremaining: 12.3s\n",
      "288:\tlearn: 0.5531913\ttotal: 4.99s\tremaining: 12.3s\n",
      "289:\tlearn: 0.5531838\ttotal: 5.01s\tremaining: 12.3s\n",
      "290:\tlearn: 0.5531742\ttotal: 5.03s\tremaining: 12.2s\n",
      "291:\tlearn: 0.5531707\ttotal: 5.04s\tremaining: 12.2s\n",
      "292:\tlearn: 0.5531675\ttotal: 5.06s\tremaining: 12.2s\n",
      "293:\tlearn: 0.5531599\ttotal: 5.07s\tremaining: 12.2s\n",
      "294:\tlearn: 0.5530950\ttotal: 5.09s\tremaining: 12.2s\n",
      "295:\tlearn: 0.5530616\ttotal: 5.1s\tremaining: 12.1s\n",
      "296:\tlearn: 0.5530582\ttotal: 5.12s\tremaining: 12.1s\n",
      "297:\tlearn: 0.5530511\ttotal: 5.13s\tremaining: 12.1s\n",
      "298:\tlearn: 0.5530434\ttotal: 5.15s\tremaining: 12.1s\n",
      "299:\tlearn: 0.5530394\ttotal: 5.17s\tremaining: 12.1s\n",
      "300:\tlearn: 0.5530343\ttotal: 5.18s\tremaining: 12s\n",
      "301:\tlearn: 0.5530282\ttotal: 5.2s\tremaining: 12s\n",
      "302:\tlearn: 0.5529679\ttotal: 5.22s\tremaining: 12s\n",
      "303:\tlearn: 0.5529673\ttotal: 5.24s\tremaining: 12s\n",
      "304:\tlearn: 0.5529257\ttotal: 5.26s\tremaining: 12s\n",
      "305:\tlearn: 0.5529246\ttotal: 5.28s\tremaining: 12s\n",
      "306:\tlearn: 0.5529163\ttotal: 5.3s\tremaining: 12s\n",
      "307:\tlearn: 0.5529101\ttotal: 5.32s\tremaining: 11.9s\n",
      "308:\tlearn: 0.5528815\ttotal: 5.33s\tremaining: 11.9s\n",
      "309:\tlearn: 0.5528750\ttotal: 5.35s\tremaining: 11.9s\n",
      "310:\tlearn: 0.5528657\ttotal: 5.37s\tremaining: 11.9s\n",
      "311:\tlearn: 0.5528514\ttotal: 5.39s\tremaining: 11.9s\n",
      "312:\tlearn: 0.5528481\ttotal: 5.41s\tremaining: 11.9s\n",
      "313:\tlearn: 0.5528420\ttotal: 5.42s\tremaining: 11.8s\n",
      "314:\tlearn: 0.5528239\ttotal: 5.44s\tremaining: 11.8s\n",
      "315:\tlearn: 0.5528167\ttotal: 5.46s\tremaining: 11.8s\n",
      "316:\tlearn: 0.5528088\ttotal: 5.48s\tremaining: 11.8s\n",
      "317:\tlearn: 0.5528020\ttotal: 5.49s\tremaining: 11.8s\n",
      "318:\tlearn: 0.5527514\ttotal: 5.51s\tremaining: 11.8s\n"
     ]
    },
    {
     "name": "stdout",
     "output_type": "stream",
     "text": [
      "319:\tlearn: 0.5527332\ttotal: 5.53s\tremaining: 11.8s\n",
      "320:\tlearn: 0.5527249\ttotal: 5.54s\tremaining: 11.7s\n",
      "321:\tlearn: 0.5527100\ttotal: 5.56s\tremaining: 11.7s\n",
      "322:\tlearn: 0.5526914\ttotal: 5.58s\tremaining: 11.7s\n",
      "323:\tlearn: 0.5526651\ttotal: 5.61s\tremaining: 11.7s\n",
      "324:\tlearn: 0.5526587\ttotal: 5.63s\tremaining: 11.7s\n",
      "325:\tlearn: 0.5526472\ttotal: 5.66s\tremaining: 11.7s\n",
      "326:\tlearn: 0.5526431\ttotal: 5.68s\tremaining: 11.7s\n",
      "327:\tlearn: 0.5526386\ttotal: 5.7s\tremaining: 11.7s\n",
      "328:\tlearn: 0.5526316\ttotal: 5.72s\tremaining: 11.7s\n",
      "329:\tlearn: 0.5526301\ttotal: 5.74s\tremaining: 11.7s\n",
      "330:\tlearn: 0.5526233\ttotal: 5.77s\tremaining: 11.7s\n",
      "331:\tlearn: 0.5526179\ttotal: 5.79s\tremaining: 11.6s\n",
      "332:\tlearn: 0.5526029\ttotal: 5.81s\tremaining: 11.6s\n",
      "333:\tlearn: 0.5525989\ttotal: 5.82s\tremaining: 11.6s\n",
      "334:\tlearn: 0.5525907\ttotal: 5.84s\tremaining: 11.6s\n",
      "335:\tlearn: 0.5525878\ttotal: 5.86s\tremaining: 11.6s\n",
      "336:\tlearn: 0.5525843\ttotal: 5.88s\tremaining: 11.6s\n",
      "337:\tlearn: 0.5525791\ttotal: 5.9s\tremaining: 11.6s\n",
      "338:\tlearn: 0.5525751\ttotal: 5.92s\tremaining: 11.5s\n",
      "339:\tlearn: 0.5525579\ttotal: 5.94s\tremaining: 11.5s\n",
      "340:\tlearn: 0.5525538\ttotal: 5.96s\tremaining: 11.5s\n",
      "341:\tlearn: 0.5525507\ttotal: 5.99s\tremaining: 11.5s\n",
      "342:\tlearn: 0.5525278\ttotal: 6.01s\tremaining: 11.5s\n",
      "343:\tlearn: 0.5525248\ttotal: 6.03s\tremaining: 11.5s\n",
      "344:\tlearn: 0.5525193\ttotal: 6.04s\tremaining: 11.5s\n",
      "345:\tlearn: 0.5525147\ttotal: 6.06s\tremaining: 11.4s\n",
      "346:\tlearn: 0.5524972\ttotal: 6.07s\tremaining: 11.4s\n",
      "347:\tlearn: 0.5524887\ttotal: 6.09s\tremaining: 11.4s\n",
      "348:\tlearn: 0.5524692\ttotal: 6.11s\tremaining: 11.4s\n",
      "349:\tlearn: 0.5524609\ttotal: 6.13s\tremaining: 11.4s\n",
      "350:\tlearn: 0.5524426\ttotal: 6.15s\tremaining: 11.4s\n",
      "351:\tlearn: 0.5524377\ttotal: 6.17s\tremaining: 11.4s\n",
      "352:\tlearn: 0.5524363\ttotal: 6.19s\tremaining: 11.3s\n",
      "353:\tlearn: 0.5524240\ttotal: 6.21s\tremaining: 11.3s\n",
      "354:\tlearn: 0.5524037\ttotal: 6.22s\tremaining: 11.3s\n",
      "355:\tlearn: 0.5524011\ttotal: 6.24s\tremaining: 11.3s\n",
      "356:\tlearn: 0.5523946\ttotal: 6.26s\tremaining: 11.3s\n",
      "357:\tlearn: 0.5523852\ttotal: 6.28s\tremaining: 11.3s\n",
      "358:\tlearn: 0.5523731\ttotal: 6.29s\tremaining: 11.2s\n",
      "359:\tlearn: 0.5523713\ttotal: 6.31s\tremaining: 11.2s\n",
      "360:\tlearn: 0.5523682\ttotal: 6.33s\tremaining: 11.2s\n",
      "361:\tlearn: 0.5523486\ttotal: 6.35s\tremaining: 11.2s\n",
      "362:\tlearn: 0.5523457\ttotal: 6.37s\tremaining: 11.2s\n",
      "363:\tlearn: 0.5523405\ttotal: 6.38s\tremaining: 11.2s\n",
      "364:\tlearn: 0.5523330\ttotal: 6.4s\tremaining: 11.1s\n",
      "365:\tlearn: 0.5523265\ttotal: 6.42s\tremaining: 11.1s\n",
      "366:\tlearn: 0.5523108\ttotal: 6.44s\tremaining: 11.1s\n",
      "367:\tlearn: 0.5523090\ttotal: 6.47s\tremaining: 11.1s\n",
      "368:\tlearn: 0.5522900\ttotal: 6.49s\tremaining: 11.1s\n",
      "369:\tlearn: 0.5522793\ttotal: 6.51s\tremaining: 11.1s\n",
      "370:\tlearn: 0.5522749\ttotal: 6.53s\tremaining: 11.1s\n",
      "371:\tlearn: 0.5522273\ttotal: 6.55s\tremaining: 11.1s\n",
      "372:\tlearn: 0.5522203\ttotal: 6.57s\tremaining: 11s\n",
      "373:\tlearn: 0.5522027\ttotal: 6.59s\tremaining: 11s\n",
      "374:\tlearn: 0.5521995\ttotal: 6.61s\tremaining: 11s\n",
      "375:\tlearn: 0.5521972\ttotal: 6.63s\tremaining: 11s\n",
      "376:\tlearn: 0.5521951\ttotal: 6.65s\tremaining: 11s\n",
      "377:\tlearn: 0.5521890\ttotal: 6.67s\tremaining: 11s\n",
      "378:\tlearn: 0.5521864\ttotal: 6.69s\tremaining: 11s\n",
      "379:\tlearn: 0.5521787\ttotal: 6.71s\tremaining: 11s\n",
      "380:\tlearn: 0.5521698\ttotal: 6.73s\tremaining: 10.9s\n",
      "381:\tlearn: 0.5521606\ttotal: 6.75s\tremaining: 10.9s\n",
      "382:\tlearn: 0.5521460\ttotal: 6.77s\tremaining: 10.9s\n",
      "383:\tlearn: 0.5521249\ttotal: 6.78s\tremaining: 10.9s\n",
      "384:\tlearn: 0.5520878\ttotal: 6.8s\tremaining: 10.9s\n",
      "385:\tlearn: 0.5520827\ttotal: 6.82s\tremaining: 10.8s\n",
      "386:\tlearn: 0.5520747\ttotal: 6.84s\tremaining: 10.8s\n",
      "387:\tlearn: 0.5520714\ttotal: 6.86s\tremaining: 10.8s\n",
      "388:\tlearn: 0.5520641\ttotal: 6.88s\tremaining: 10.8s\n",
      "389:\tlearn: 0.5520598\ttotal: 6.89s\tremaining: 10.8s\n",
      "390:\tlearn: 0.5520577\ttotal: 6.91s\tremaining: 10.8s\n",
      "391:\tlearn: 0.5520383\ttotal: 6.93s\tremaining: 10.7s\n",
      "392:\tlearn: 0.5520325\ttotal: 6.95s\tremaining: 10.7s\n",
      "393:\tlearn: 0.5520275\ttotal: 6.96s\tremaining: 10.7s\n",
      "394:\tlearn: 0.5520207\ttotal: 6.98s\tremaining: 10.7s\n",
      "395:\tlearn: 0.5520115\ttotal: 7s\tremaining: 10.7s\n",
      "396:\tlearn: 0.5520054\ttotal: 7.01s\tremaining: 10.6s\n",
      "397:\tlearn: 0.5520044\ttotal: 7.02s\tremaining: 10.6s\n",
      "398:\tlearn: 0.5519987\ttotal: 7.04s\tremaining: 10.6s\n",
      "399:\tlearn: 0.5519947\ttotal: 7.05s\tremaining: 10.6s\n",
      "400:\tlearn: 0.5519842\ttotal: 7.07s\tremaining: 10.6s\n",
      "401:\tlearn: 0.5519804\ttotal: 7.09s\tremaining: 10.5s\n",
      "402:\tlearn: 0.5519604\ttotal: 7.11s\tremaining: 10.5s\n",
      "403:\tlearn: 0.5519589\ttotal: 7.12s\tremaining: 10.5s\n",
      "404:\tlearn: 0.5519477\ttotal: 7.14s\tremaining: 10.5s\n",
      "405:\tlearn: 0.5519445\ttotal: 7.16s\tremaining: 10.5s\n",
      "406:\tlearn: 0.5519230\ttotal: 7.18s\tremaining: 10.5s\n",
      "407:\tlearn: 0.5518981\ttotal: 7.19s\tremaining: 10.4s\n",
      "408:\tlearn: 0.5518931\ttotal: 7.21s\tremaining: 10.4s\n",
      "409:\tlearn: 0.5518849\ttotal: 7.22s\tremaining: 10.4s\n",
      "410:\tlearn: 0.5518632\ttotal: 7.24s\tremaining: 10.4s\n",
      "411:\tlearn: 0.5518569\ttotal: 7.25s\tremaining: 10.4s\n",
      "412:\tlearn: 0.5518550\ttotal: 7.27s\tremaining: 10.3s\n",
      "413:\tlearn: 0.5518484\ttotal: 7.29s\tremaining: 10.3s\n",
      "414:\tlearn: 0.5518449\ttotal: 7.3s\tremaining: 10.3s\n",
      "415:\tlearn: 0.5518357\ttotal: 7.32s\tremaining: 10.3s\n",
      "416:\tlearn: 0.5518343\ttotal: 7.34s\tremaining: 10.3s\n",
      "417:\tlearn: 0.5518304\ttotal: 7.36s\tremaining: 10.2s\n",
      "418:\tlearn: 0.5517807\ttotal: 7.38s\tremaining: 10.2s\n",
      "419:\tlearn: 0.5517529\ttotal: 7.4s\tremaining: 10.2s\n",
      "420:\tlearn: 0.5517486\ttotal: 7.42s\tremaining: 10.2s\n",
      "421:\tlearn: 0.5517418\ttotal: 7.44s\tremaining: 10.2s\n",
      "422:\tlearn: 0.5517155\ttotal: 7.46s\tremaining: 10.2s\n",
      "423:\tlearn: 0.5517108\ttotal: 7.48s\tremaining: 10.2s\n",
      "424:\tlearn: 0.5517099\ttotal: 7.49s\tremaining: 10.1s\n",
      "425:\tlearn: 0.5517025\ttotal: 7.51s\tremaining: 10.1s\n",
      "426:\tlearn: 0.5516968\ttotal: 7.52s\tremaining: 10.1s\n",
      "427:\tlearn: 0.5516936\ttotal: 7.54s\tremaining: 10.1s\n",
      "428:\tlearn: 0.5516897\ttotal: 7.55s\tremaining: 10.1s\n",
      "429:\tlearn: 0.5516814\ttotal: 7.57s\tremaining: 10s\n",
      "430:\tlearn: 0.5516774\ttotal: 7.58s\tremaining: 10s\n",
      "431:\tlearn: 0.5516735\ttotal: 7.6s\tremaining: 9.99s\n",
      "432:\tlearn: 0.5516672\ttotal: 7.61s\tremaining: 9.97s\n",
      "433:\tlearn: 0.5516644\ttotal: 7.63s\tremaining: 9.95s\n",
      "434:\tlearn: 0.5516619\ttotal: 7.64s\tremaining: 9.93s\n",
      "435:\tlearn: 0.5516536\ttotal: 7.66s\tremaining: 9.9s\n",
      "436:\tlearn: 0.5516381\ttotal: 7.67s\tremaining: 9.89s\n",
      "437:\tlearn: 0.5516293\ttotal: 7.69s\tremaining: 9.87s\n",
      "438:\tlearn: 0.5516038\ttotal: 7.71s\tremaining: 9.85s\n",
      "439:\tlearn: 0.5515886\ttotal: 7.72s\tremaining: 9.83s\n",
      "440:\tlearn: 0.5515547\ttotal: 7.74s\tremaining: 9.81s\n",
      "441:\tlearn: 0.5515503\ttotal: 7.76s\tremaining: 9.8s\n",
      "442:\tlearn: 0.5515446\ttotal: 7.78s\tremaining: 9.78s\n",
      "443:\tlearn: 0.5515408\ttotal: 7.8s\tremaining: 9.76s\n",
      "444:\tlearn: 0.5515342\ttotal: 7.81s\tremaining: 9.75s\n",
      "445:\tlearn: 0.5515317\ttotal: 7.83s\tremaining: 9.72s\n",
      "446:\tlearn: 0.5515302\ttotal: 7.84s\tremaining: 9.7s\n",
      "447:\tlearn: 0.5515190\ttotal: 7.86s\tremaining: 9.68s\n",
      "448:\tlearn: 0.5515142\ttotal: 7.87s\tremaining: 9.66s\n",
      "449:\tlearn: 0.5515099\ttotal: 7.89s\tremaining: 9.64s\n",
      "450:\tlearn: 0.5515046\ttotal: 7.9s\tremaining: 9.62s\n",
      "451:\tlearn: 0.5514991\ttotal: 7.92s\tremaining: 9.6s\n",
      "452:\tlearn: 0.5514957\ttotal: 7.93s\tremaining: 9.58s\n",
      "453:\tlearn: 0.5514838\ttotal: 7.95s\tremaining: 9.56s\n",
      "454:\tlearn: 0.5514827\ttotal: 7.96s\tremaining: 9.54s\n",
      "455:\tlearn: 0.5514728\ttotal: 7.98s\tremaining: 9.52s\n",
      "456:\tlearn: 0.5514689\ttotal: 7.99s\tremaining: 9.5s\n",
      "457:\tlearn: 0.5514614\ttotal: 8.01s\tremaining: 9.48s\n",
      "458:\tlearn: 0.5514582\ttotal: 8.02s\tremaining: 9.46s\n",
      "459:\tlearn: 0.5514529\ttotal: 8.04s\tremaining: 9.44s\n",
      "460:\tlearn: 0.5514494\ttotal: 8.06s\tremaining: 9.42s\n",
      "461:\tlearn: 0.5514484\ttotal: 8.08s\tremaining: 9.4s\n",
      "462:\tlearn: 0.5514437\ttotal: 8.1s\tremaining: 9.39s\n",
      "463:\tlearn: 0.5514356\ttotal: 8.12s\tremaining: 9.38s\n",
      "464:\tlearn: 0.5514320\ttotal: 8.14s\tremaining: 9.37s\n",
      "465:\tlearn: 0.5514313\ttotal: 8.16s\tremaining: 9.35s\n",
      "466:\tlearn: 0.5514284\ttotal: 8.18s\tremaining: 9.34s\n",
      "467:\tlearn: 0.5514249\ttotal: 8.2s\tremaining: 9.32s\n",
      "468:\tlearn: 0.5514207\ttotal: 8.22s\tremaining: 9.3s\n",
      "469:\tlearn: 0.5514169\ttotal: 8.23s\tremaining: 9.28s\n",
      "470:\tlearn: 0.5514105\ttotal: 8.25s\tremaining: 9.26s\n",
      "471:\tlearn: 0.5514033\ttotal: 8.26s\tremaining: 9.24s\n",
      "472:\tlearn: 0.5513954\ttotal: 8.28s\tremaining: 9.22s\n",
      "473:\tlearn: 0.5513948\ttotal: 8.29s\tremaining: 9.2s\n",
      "474:\tlearn: 0.5513891\ttotal: 8.31s\tremaining: 9.19s\n",
      "475:\tlearn: 0.5513857\ttotal: 8.33s\tremaining: 9.17s\n",
      "476:\tlearn: 0.5513827\ttotal: 8.34s\tremaining: 9.15s\n",
      "477:\tlearn: 0.5513804\ttotal: 8.36s\tremaining: 9.13s\n"
     ]
    },
    {
     "name": "stdout",
     "output_type": "stream",
     "text": [
      "478:\tlearn: 0.5513773\ttotal: 8.38s\tremaining: 9.11s\n",
      "479:\tlearn: 0.5513759\ttotal: 8.39s\tremaining: 9.09s\n",
      "480:\tlearn: 0.5513731\ttotal: 8.41s\tremaining: 9.08s\n",
      "481:\tlearn: 0.5513632\ttotal: 8.43s\tremaining: 9.06s\n",
      "482:\tlearn: 0.5513614\ttotal: 8.45s\tremaining: 9.04s\n",
      "483:\tlearn: 0.5513587\ttotal: 8.46s\tremaining: 9.02s\n",
      "484:\tlearn: 0.5513501\ttotal: 8.48s\tremaining: 9s\n",
      "485:\tlearn: 0.5513428\ttotal: 8.49s\tremaining: 8.98s\n",
      "486:\tlearn: 0.5513134\ttotal: 8.51s\tremaining: 8.96s\n",
      "487:\tlearn: 0.5513122\ttotal: 8.52s\tremaining: 8.94s\n",
      "488:\tlearn: 0.5513093\ttotal: 8.54s\tremaining: 8.92s\n",
      "489:\tlearn: 0.5512993\ttotal: 8.55s\tremaining: 8.9s\n",
      "490:\tlearn: 0.5512912\ttotal: 8.57s\tremaining: 8.88s\n",
      "491:\tlearn: 0.5512865\ttotal: 8.58s\tremaining: 8.86s\n",
      "492:\tlearn: 0.5512831\ttotal: 8.6s\tremaining: 8.84s\n",
      "493:\tlearn: 0.5512790\ttotal: 8.61s\tremaining: 8.82s\n",
      "494:\tlearn: 0.5512653\ttotal: 8.63s\tremaining: 8.8s\n",
      "495:\tlearn: 0.5512608\ttotal: 8.65s\tremaining: 8.79s\n",
      "496:\tlearn: 0.5512585\ttotal: 8.66s\tremaining: 8.77s\n",
      "497:\tlearn: 0.5512541\ttotal: 8.68s\tremaining: 8.75s\n",
      "498:\tlearn: 0.5512519\ttotal: 8.7s\tremaining: 8.73s\n",
      "499:\tlearn: 0.5512388\ttotal: 8.72s\tremaining: 8.72s\n",
      "500:\tlearn: 0.5512326\ttotal: 8.74s\tremaining: 8.7s\n",
      "501:\tlearn: 0.5512287\ttotal: 8.75s\tremaining: 8.68s\n",
      "502:\tlearn: 0.5512264\ttotal: 8.77s\tremaining: 8.67s\n",
      "503:\tlearn: 0.5512227\ttotal: 8.79s\tremaining: 8.65s\n",
      "504:\tlearn: 0.5512198\ttotal: 8.8s\tremaining: 8.63s\n",
      "505:\tlearn: 0.5512147\ttotal: 8.82s\tremaining: 8.61s\n",
      "506:\tlearn: 0.5512089\ttotal: 8.84s\tremaining: 8.59s\n",
      "507:\tlearn: 0.5512001\ttotal: 8.85s\tremaining: 8.57s\n",
      "508:\tlearn: 0.5511829\ttotal: 8.87s\tremaining: 8.56s\n",
      "509:\tlearn: 0.5511820\ttotal: 8.89s\tremaining: 8.54s\n",
      "510:\tlearn: 0.5511792\ttotal: 8.9s\tremaining: 8.52s\n",
      "511:\tlearn: 0.5511703\ttotal: 8.92s\tremaining: 8.51s\n",
      "512:\tlearn: 0.5511685\ttotal: 8.94s\tremaining: 8.49s\n",
      "513:\tlearn: 0.5511672\ttotal: 8.96s\tremaining: 8.47s\n",
      "514:\tlearn: 0.5511662\ttotal: 8.97s\tremaining: 8.45s\n",
      "515:\tlearn: 0.5511647\ttotal: 8.99s\tremaining: 8.43s\n",
      "516:\tlearn: 0.5511580\ttotal: 9s\tremaining: 8.41s\n",
      "517:\tlearn: 0.5511561\ttotal: 9.02s\tremaining: 8.39s\n",
      "518:\tlearn: 0.5511498\ttotal: 9.04s\tremaining: 8.38s\n",
      "519:\tlearn: 0.5511477\ttotal: 9.06s\tremaining: 8.36s\n",
      "520:\tlearn: 0.5511454\ttotal: 9.08s\tremaining: 8.35s\n",
      "521:\tlearn: 0.5511390\ttotal: 9.1s\tremaining: 8.33s\n",
      "522:\tlearn: 0.5511287\ttotal: 9.11s\tremaining: 8.31s\n",
      "523:\tlearn: 0.5511262\ttotal: 9.13s\tremaining: 8.3s\n",
      "524:\tlearn: 0.5511221\ttotal: 9.15s\tremaining: 8.28s\n",
      "525:\tlearn: 0.5511175\ttotal: 9.17s\tremaining: 8.26s\n",
      "526:\tlearn: 0.5511159\ttotal: 9.18s\tremaining: 8.24s\n",
      "527:\tlearn: 0.5511112\ttotal: 9.2s\tremaining: 8.22s\n",
      "528:\tlearn: 0.5511043\ttotal: 9.21s\tremaining: 8.2s\n",
      "529:\tlearn: 0.5510638\ttotal: 9.23s\tremaining: 8.18s\n",
      "530:\tlearn: 0.5510602\ttotal: 9.24s\tremaining: 8.16s\n",
      "531:\tlearn: 0.5510544\ttotal: 9.26s\tremaining: 8.14s\n",
      "532:\tlearn: 0.5510526\ttotal: 9.27s\tremaining: 8.12s\n",
      "533:\tlearn: 0.5510505\ttotal: 9.29s\tremaining: 8.1s\n",
      "534:\tlearn: 0.5510399\ttotal: 9.3s\tremaining: 8.09s\n",
      "535:\tlearn: 0.5510214\ttotal: 9.32s\tremaining: 8.07s\n",
      "536:\tlearn: 0.5509798\ttotal: 9.33s\tremaining: 8.05s\n",
      "537:\tlearn: 0.5509773\ttotal: 9.37s\tremaining: 8.05s\n",
      "538:\tlearn: 0.5509409\ttotal: 9.39s\tremaining: 8.03s\n",
      "539:\tlearn: 0.5509377\ttotal: 9.41s\tremaining: 8.01s\n",
      "540:\tlearn: 0.5509321\ttotal: 9.43s\tremaining: 8s\n",
      "541:\tlearn: 0.5509266\ttotal: 9.45s\tremaining: 7.98s\n",
      "542:\tlearn: 0.5509133\ttotal: 9.46s\tremaining: 7.97s\n",
      "543:\tlearn: 0.5508975\ttotal: 9.48s\tremaining: 7.95s\n",
      "544:\tlearn: 0.5508907\ttotal: 9.5s\tremaining: 7.93s\n",
      "545:\tlearn: 0.5508850\ttotal: 9.52s\tremaining: 7.92s\n",
      "546:\tlearn: 0.5508675\ttotal: 9.54s\tremaining: 7.9s\n",
      "547:\tlearn: 0.5508560\ttotal: 9.56s\tremaining: 7.88s\n",
      "548:\tlearn: 0.5508508\ttotal: 9.57s\tremaining: 7.87s\n",
      "549:\tlearn: 0.5508470\ttotal: 9.59s\tremaining: 7.84s\n",
      "550:\tlearn: 0.5508406\ttotal: 9.6s\tremaining: 7.83s\n",
      "551:\tlearn: 0.5508324\ttotal: 9.62s\tremaining: 7.8s\n",
      "552:\tlearn: 0.5508289\ttotal: 9.63s\tremaining: 7.79s\n",
      "553:\tlearn: 0.5508220\ttotal: 9.65s\tremaining: 7.77s\n",
      "554:\tlearn: 0.5508157\ttotal: 9.67s\tremaining: 7.75s\n",
      "555:\tlearn: 0.5508103\ttotal: 9.69s\tremaining: 7.73s\n",
      "556:\tlearn: 0.5508052\ttotal: 9.7s\tremaining: 7.72s\n",
      "557:\tlearn: 0.5507998\ttotal: 9.72s\tremaining: 7.7s\n",
      "558:\tlearn: 0.5507942\ttotal: 9.74s\tremaining: 7.68s\n",
      "559:\tlearn: 0.5507911\ttotal: 9.76s\tremaining: 7.67s\n",
      "560:\tlearn: 0.5507533\ttotal: 9.78s\tremaining: 7.65s\n",
      "561:\tlearn: 0.5507499\ttotal: 9.79s\tremaining: 7.63s\n",
      "562:\tlearn: 0.5507475\ttotal: 9.81s\tremaining: 7.62s\n",
      "563:\tlearn: 0.5507005\ttotal: 9.83s\tremaining: 7.6s\n",
      "564:\tlearn: 0.5506948\ttotal: 9.84s\tremaining: 7.58s\n",
      "565:\tlearn: 0.5506916\ttotal: 9.86s\tremaining: 7.56s\n",
      "566:\tlearn: 0.5506837\ttotal: 9.88s\tremaining: 7.54s\n",
      "567:\tlearn: 0.5506791\ttotal: 9.89s\tremaining: 7.52s\n",
      "568:\tlearn: 0.5506773\ttotal: 9.91s\tremaining: 7.51s\n",
      "569:\tlearn: 0.5506758\ttotal: 9.93s\tremaining: 7.49s\n",
      "570:\tlearn: 0.5506694\ttotal: 9.96s\tremaining: 7.48s\n",
      "571:\tlearn: 0.5506677\ttotal: 9.97s\tremaining: 7.46s\n",
      "572:\tlearn: 0.5506652\ttotal: 9.99s\tremaining: 7.45s\n",
      "573:\tlearn: 0.5506610\ttotal: 10s\tremaining: 7.43s\n",
      "574:\tlearn: 0.5506582\ttotal: 10s\tremaining: 7.41s\n",
      "575:\tlearn: 0.5506310\ttotal: 10s\tremaining: 7.39s\n",
      "576:\tlearn: 0.5506295\ttotal: 10.1s\tremaining: 7.37s\n",
      "577:\tlearn: 0.5506286\ttotal: 10.1s\tremaining: 7.35s\n",
      "578:\tlearn: 0.5506244\ttotal: 10.1s\tremaining: 7.33s\n",
      "579:\tlearn: 0.5506206\ttotal: 10.1s\tremaining: 7.31s\n",
      "580:\tlearn: 0.5506155\ttotal: 10.1s\tremaining: 7.29s\n",
      "581:\tlearn: 0.5506128\ttotal: 10.1s\tremaining: 7.27s\n",
      "582:\tlearn: 0.5506080\ttotal: 10.1s\tremaining: 7.25s\n",
      "583:\tlearn: 0.5505959\ttotal: 10.2s\tremaining: 7.23s\n",
      "584:\tlearn: 0.5505879\ttotal: 10.2s\tremaining: 7.21s\n",
      "585:\tlearn: 0.5505833\ttotal: 10.2s\tremaining: 7.2s\n",
      "586:\tlearn: 0.5505807\ttotal: 10.2s\tremaining: 7.18s\n",
      "587:\tlearn: 0.5505762\ttotal: 10.2s\tremaining: 7.16s\n",
      "588:\tlearn: 0.5505700\ttotal: 10.2s\tremaining: 7.14s\n",
      "589:\tlearn: 0.5505679\ttotal: 10.2s\tremaining: 7.12s\n",
      "590:\tlearn: 0.5505618\ttotal: 10.3s\tremaining: 7.11s\n",
      "591:\tlearn: 0.5505589\ttotal: 10.3s\tremaining: 7.1s\n",
      "592:\tlearn: 0.5505571\ttotal: 10.3s\tremaining: 7.08s\n",
      "593:\tlearn: 0.5505480\ttotal: 10.3s\tremaining: 7.07s\n",
      "594:\tlearn: 0.5505408\ttotal: 10.4s\tremaining: 7.06s\n",
      "595:\tlearn: 0.5505362\ttotal: 10.4s\tremaining: 7.04s\n",
      "596:\tlearn: 0.5505325\ttotal: 10.4s\tremaining: 7.03s\n",
      "597:\tlearn: 0.5505272\ttotal: 10.4s\tremaining: 7.01s\n",
      "598:\tlearn: 0.5505243\ttotal: 10.4s\tremaining: 7s\n",
      "599:\tlearn: 0.5505129\ttotal: 10.5s\tremaining: 6.98s\n",
      "600:\tlearn: 0.5505108\ttotal: 10.5s\tremaining: 6.96s\n",
      "601:\tlearn: 0.5505012\ttotal: 10.5s\tremaining: 6.95s\n",
      "602:\tlearn: 0.5504959\ttotal: 10.5s\tremaining: 6.93s\n",
      "603:\tlearn: 0.5504935\ttotal: 10.5s\tremaining: 6.91s\n",
      "604:\tlearn: 0.5504879\ttotal: 10.6s\tremaining: 6.9s\n",
      "605:\tlearn: 0.5504835\ttotal: 10.6s\tremaining: 6.88s\n",
      "606:\tlearn: 0.5504819\ttotal: 10.6s\tremaining: 6.86s\n",
      "607:\tlearn: 0.5504776\ttotal: 10.6s\tremaining: 6.84s\n",
      "608:\tlearn: 0.5504760\ttotal: 10.6s\tremaining: 6.83s\n",
      "609:\tlearn: 0.5504750\ttotal: 10.7s\tremaining: 6.81s\n",
      "610:\tlearn: 0.5504566\ttotal: 10.7s\tremaining: 6.8s\n",
      "611:\tlearn: 0.5504531\ttotal: 10.7s\tremaining: 6.78s\n",
      "612:\tlearn: 0.5504497\ttotal: 10.7s\tremaining: 6.77s\n",
      "613:\tlearn: 0.5504454\ttotal: 10.7s\tremaining: 6.75s\n",
      "614:\tlearn: 0.5504413\ttotal: 10.8s\tremaining: 6.74s\n",
      "615:\tlearn: 0.5504372\ttotal: 10.8s\tremaining: 6.72s\n",
      "616:\tlearn: 0.5504323\ttotal: 10.8s\tremaining: 6.7s\n",
      "617:\tlearn: 0.5504294\ttotal: 10.8s\tremaining: 6.68s\n",
      "618:\tlearn: 0.5504283\ttotal: 10.8s\tremaining: 6.66s\n",
      "619:\tlearn: 0.5504259\ttotal: 10.8s\tremaining: 6.64s\n",
      "620:\tlearn: 0.5504178\ttotal: 10.9s\tremaining: 6.63s\n",
      "621:\tlearn: 0.5504098\ttotal: 10.9s\tremaining: 6.61s\n",
      "622:\tlearn: 0.5504078\ttotal: 10.9s\tremaining: 6.59s\n",
      "623:\tlearn: 0.5504070\ttotal: 10.9s\tremaining: 6.57s\n",
      "624:\tlearn: 0.5503940\ttotal: 10.9s\tremaining: 6.55s\n",
      "625:\tlearn: 0.5503893\ttotal: 10.9s\tremaining: 6.53s\n",
      "626:\tlearn: 0.5502603\ttotal: 11s\tremaining: 6.51s\n",
      "627:\tlearn: 0.5502565\ttotal: 11s\tremaining: 6.5s\n",
      "628:\tlearn: 0.5502502\ttotal: 11s\tremaining: 6.48s\n",
      "629:\tlearn: 0.5502481\ttotal: 11s\tremaining: 6.46s\n",
      "630:\tlearn: 0.5502396\ttotal: 11s\tremaining: 6.45s\n",
      "631:\tlearn: 0.5502328\ttotal: 11s\tremaining: 6.43s\n",
      "632:\tlearn: 0.5502257\ttotal: 11.1s\tremaining: 6.41s\n",
      "633:\tlearn: 0.5502221\ttotal: 11.1s\tremaining: 6.39s\n",
      "634:\tlearn: 0.5502181\ttotal: 11.1s\tremaining: 6.38s\n",
      "635:\tlearn: 0.5502170\ttotal: 11.1s\tremaining: 6.36s\n",
      "636:\tlearn: 0.5502115\ttotal: 11.1s\tremaining: 6.34s\n"
     ]
    },
    {
     "name": "stdout",
     "output_type": "stream",
     "text": [
      "637:\tlearn: 0.5501688\ttotal: 11.1s\tremaining: 6.32s\n",
      "638:\tlearn: 0.5501629\ttotal: 11.2s\tremaining: 6.3s\n",
      "639:\tlearn: 0.5501586\ttotal: 11.2s\tremaining: 6.28s\n",
      "640:\tlearn: 0.5501580\ttotal: 11.2s\tremaining: 6.26s\n",
      "641:\tlearn: 0.5501519\ttotal: 11.2s\tremaining: 6.25s\n",
      "642:\tlearn: 0.5501496\ttotal: 11.2s\tremaining: 6.23s\n",
      "643:\tlearn: 0.5501489\ttotal: 11.2s\tremaining: 6.21s\n",
      "644:\tlearn: 0.5501281\ttotal: 11.3s\tremaining: 6.2s\n",
      "645:\tlearn: 0.5501219\ttotal: 11.3s\tremaining: 6.18s\n",
      "646:\tlearn: 0.5501120\ttotal: 11.3s\tremaining: 6.16s\n",
      "647:\tlearn: 0.5501082\ttotal: 11.3s\tremaining: 6.14s\n",
      "648:\tlearn: 0.5500932\ttotal: 11.3s\tremaining: 6.13s\n",
      "649:\tlearn: 0.5500899\ttotal: 11.3s\tremaining: 6.11s\n",
      "650:\tlearn: 0.5500849\ttotal: 11.4s\tremaining: 6.09s\n",
      "651:\tlearn: 0.5500809\ttotal: 11.4s\tremaining: 6.07s\n",
      "652:\tlearn: 0.5500775\ttotal: 11.4s\tremaining: 6.05s\n",
      "653:\tlearn: 0.5500731\ttotal: 11.4s\tremaining: 6.03s\n",
      "654:\tlearn: 0.5500704\ttotal: 11.4s\tremaining: 6.01s\n",
      "655:\tlearn: 0.5500671\ttotal: 11.4s\tremaining: 6s\n",
      "656:\tlearn: 0.5500619\ttotal: 11.5s\tremaining: 5.98s\n",
      "657:\tlearn: 0.5500589\ttotal: 11.5s\tremaining: 5.96s\n",
      "658:\tlearn: 0.5500540\ttotal: 11.5s\tremaining: 5.95s\n",
      "659:\tlearn: 0.5500515\ttotal: 11.5s\tremaining: 5.93s\n",
      "660:\tlearn: 0.5500474\ttotal: 11.5s\tremaining: 5.92s\n",
      "661:\tlearn: 0.5500435\ttotal: 11.6s\tremaining: 5.9s\n",
      "662:\tlearn: 0.5500392\ttotal: 11.6s\tremaining: 5.88s\n",
      "663:\tlearn: 0.5500354\ttotal: 11.6s\tremaining: 5.87s\n",
      "664:\tlearn: 0.5500320\ttotal: 11.6s\tremaining: 5.85s\n",
      "665:\tlearn: 0.5500291\ttotal: 11.6s\tremaining: 5.83s\n",
      "666:\tlearn: 0.5500222\ttotal: 11.6s\tremaining: 5.82s\n",
      "667:\tlearn: 0.5500188\ttotal: 11.7s\tremaining: 5.8s\n",
      "668:\tlearn: 0.5500156\ttotal: 11.7s\tremaining: 5.78s\n",
      "669:\tlearn: 0.5500122\ttotal: 11.7s\tremaining: 5.76s\n",
      "670:\tlearn: 0.5499993\ttotal: 11.7s\tremaining: 5.75s\n",
      "671:\tlearn: 0.5499652\ttotal: 11.7s\tremaining: 5.73s\n",
      "672:\tlearn: 0.5499578\ttotal: 11.8s\tremaining: 5.71s\n",
      "673:\tlearn: 0.5499529\ttotal: 11.8s\tremaining: 5.7s\n",
      "674:\tlearn: 0.5499490\ttotal: 11.8s\tremaining: 5.68s\n",
      "675:\tlearn: 0.5499481\ttotal: 11.8s\tremaining: 5.66s\n",
      "676:\tlearn: 0.5499423\ttotal: 11.8s\tremaining: 5.64s\n",
      "677:\tlearn: 0.5499391\ttotal: 11.8s\tremaining: 5.62s\n",
      "678:\tlearn: 0.5499309\ttotal: 11.9s\tremaining: 5.61s\n",
      "679:\tlearn: 0.5499274\ttotal: 11.9s\tremaining: 5.59s\n",
      "680:\tlearn: 0.5499243\ttotal: 11.9s\tremaining: 5.57s\n",
      "681:\tlearn: 0.5499206\ttotal: 11.9s\tremaining: 5.55s\n",
      "682:\tlearn: 0.5499199\ttotal: 11.9s\tremaining: 5.53s\n",
      "683:\tlearn: 0.5499186\ttotal: 11.9s\tremaining: 5.51s\n",
      "684:\tlearn: 0.5499154\ttotal: 11.9s\tremaining: 5.49s\n",
      "685:\tlearn: 0.5499127\ttotal: 12s\tremaining: 5.47s\n",
      "686:\tlearn: 0.5499080\ttotal: 12s\tremaining: 5.46s\n",
      "687:\tlearn: 0.5499066\ttotal: 12s\tremaining: 5.44s\n",
      "688:\tlearn: 0.5499018\ttotal: 12s\tremaining: 5.42s\n",
      "689:\tlearn: 0.5498947\ttotal: 12s\tremaining: 5.41s\n",
      "690:\tlearn: 0.5498928\ttotal: 12.1s\tremaining: 5.39s\n",
      "691:\tlearn: 0.5498903\ttotal: 12.1s\tremaining: 5.38s\n",
      "692:\tlearn: 0.5498854\ttotal: 12.1s\tremaining: 5.36s\n",
      "693:\tlearn: 0.5498846\ttotal: 12.1s\tremaining: 5.34s\n",
      "694:\tlearn: 0.5498802\ttotal: 12.1s\tremaining: 5.32s\n",
      "695:\tlearn: 0.5498774\ttotal: 12.1s\tremaining: 5.3s\n",
      "696:\tlearn: 0.5498752\ttotal: 12.2s\tremaining: 5.29s\n",
      "697:\tlearn: 0.5498740\ttotal: 12.2s\tremaining: 5.27s\n",
      "698:\tlearn: 0.5498722\ttotal: 12.2s\tremaining: 5.25s\n",
      "699:\tlearn: 0.5498703\ttotal: 12.2s\tremaining: 5.23s\n",
      "700:\tlearn: 0.5498634\ttotal: 12.2s\tremaining: 5.21s\n",
      "701:\tlearn: 0.5498585\ttotal: 12.2s\tremaining: 5.19s\n",
      "702:\tlearn: 0.5498532\ttotal: 12.2s\tremaining: 5.17s\n",
      "703:\tlearn: 0.5498498\ttotal: 12.3s\tremaining: 5.16s\n",
      "704:\tlearn: 0.5498474\ttotal: 12.3s\tremaining: 5.14s\n",
      "705:\tlearn: 0.5498301\ttotal: 12.3s\tremaining: 5.12s\n",
      "706:\tlearn: 0.5498230\ttotal: 12.3s\tremaining: 5.1s\n",
      "707:\tlearn: 0.5498208\ttotal: 12.3s\tremaining: 5.08s\n",
      "708:\tlearn: 0.5498197\ttotal: 12.3s\tremaining: 5.06s\n",
      "709:\tlearn: 0.5498162\ttotal: 12.4s\tremaining: 5.04s\n",
      "710:\tlearn: 0.5497947\ttotal: 12.4s\tremaining: 5.03s\n",
      "711:\tlearn: 0.5497926\ttotal: 12.4s\tremaining: 5.01s\n",
      "712:\tlearn: 0.5497898\ttotal: 12.4s\tremaining: 4.99s\n",
      "713:\tlearn: 0.5497859\ttotal: 12.4s\tremaining: 4.97s\n",
      "714:\tlearn: 0.5497826\ttotal: 12.4s\tremaining: 4.96s\n",
      "715:\tlearn: 0.5497815\ttotal: 12.5s\tremaining: 4.94s\n",
      "716:\tlearn: 0.5497789\ttotal: 12.5s\tremaining: 4.92s\n",
      "717:\tlearn: 0.5497724\ttotal: 12.5s\tremaining: 4.91s\n",
      "718:\tlearn: 0.5497718\ttotal: 12.5s\tremaining: 4.89s\n",
      "719:\tlearn: 0.5497707\ttotal: 12.5s\tremaining: 4.87s\n",
      "720:\tlearn: 0.5497682\ttotal: 12.5s\tremaining: 4.86s\n",
      "721:\tlearn: 0.5497649\ttotal: 12.6s\tremaining: 4.84s\n",
      "722:\tlearn: 0.5497634\ttotal: 12.6s\tremaining: 4.82s\n",
      "723:\tlearn: 0.5497595\ttotal: 12.6s\tremaining: 4.8s\n",
      "724:\tlearn: 0.5497480\ttotal: 12.6s\tremaining: 4.79s\n",
      "725:\tlearn: 0.5497427\ttotal: 12.6s\tremaining: 4.77s\n",
      "726:\tlearn: 0.5497391\ttotal: 12.7s\tremaining: 4.75s\n",
      "727:\tlearn: 0.5497367\ttotal: 12.7s\tremaining: 4.73s\n",
      "728:\tlearn: 0.5497336\ttotal: 12.7s\tremaining: 4.71s\n",
      "729:\tlearn: 0.5497319\ttotal: 12.7s\tremaining: 4.7s\n",
      "730:\tlearn: 0.5497254\ttotal: 12.7s\tremaining: 4.68s\n",
      "731:\tlearn: 0.5497238\ttotal: 12.7s\tremaining: 4.66s\n",
      "732:\tlearn: 0.5497200\ttotal: 12.7s\tremaining: 4.64s\n",
      "733:\tlearn: 0.5497173\ttotal: 12.8s\tremaining: 4.62s\n",
      "734:\tlearn: 0.5497146\ttotal: 12.8s\tremaining: 4.6s\n",
      "735:\tlearn: 0.5497136\ttotal: 12.8s\tremaining: 4.59s\n",
      "736:\tlearn: 0.5497113\ttotal: 12.8s\tremaining: 4.57s\n",
      "737:\tlearn: 0.5497032\ttotal: 12.8s\tremaining: 4.55s\n",
      "738:\tlearn: 0.5496645\ttotal: 12.8s\tremaining: 4.53s\n",
      "739:\tlearn: 0.5496613\ttotal: 12.8s\tremaining: 4.51s\n",
      "740:\tlearn: 0.5496575\ttotal: 12.9s\tremaining: 4.5s\n",
      "741:\tlearn: 0.5496548\ttotal: 12.9s\tremaining: 4.48s\n",
      "742:\tlearn: 0.5496501\ttotal: 12.9s\tremaining: 4.46s\n",
      "743:\tlearn: 0.5496446\ttotal: 12.9s\tremaining: 4.45s\n",
      "744:\tlearn: 0.5496373\ttotal: 12.9s\tremaining: 4.43s\n",
      "745:\tlearn: 0.5496359\ttotal: 13s\tremaining: 4.41s\n",
      "746:\tlearn: 0.5496333\ttotal: 13s\tremaining: 4.39s\n",
      "747:\tlearn: 0.5496276\ttotal: 13s\tremaining: 4.38s\n",
      "748:\tlearn: 0.5496234\ttotal: 13s\tremaining: 4.36s\n",
      "749:\tlearn: 0.5496202\ttotal: 13s\tremaining: 4.34s\n",
      "750:\tlearn: 0.5496144\ttotal: 13s\tremaining: 4.32s\n",
      "751:\tlearn: 0.5496119\ttotal: 13.1s\tremaining: 4.3s\n",
      "752:\tlearn: 0.5496066\ttotal: 13.1s\tremaining: 4.29s\n",
      "753:\tlearn: 0.5496046\ttotal: 13.1s\tremaining: 4.27s\n",
      "754:\tlearn: 0.5495983\ttotal: 13.1s\tremaining: 4.25s\n",
      "755:\tlearn: 0.5495964\ttotal: 13.1s\tremaining: 4.23s\n",
      "756:\tlearn: 0.5495934\ttotal: 13.1s\tremaining: 4.22s\n",
      "757:\tlearn: 0.5495735\ttotal: 13.2s\tremaining: 4.2s\n",
      "758:\tlearn: 0.5495716\ttotal: 13.2s\tremaining: 4.18s\n",
      "759:\tlearn: 0.5495655\ttotal: 13.2s\tremaining: 4.17s\n",
      "760:\tlearn: 0.5495630\ttotal: 13.2s\tremaining: 4.15s\n",
      "761:\tlearn: 0.5495618\ttotal: 13.2s\tremaining: 4.13s\n",
      "762:\tlearn: 0.5495612\ttotal: 13.2s\tremaining: 4.11s\n",
      "763:\tlearn: 0.5495580\ttotal: 13.3s\tremaining: 4.09s\n",
      "764:\tlearn: 0.5495542\ttotal: 13.3s\tremaining: 4.08s\n",
      "765:\tlearn: 0.5495516\ttotal: 13.3s\tremaining: 4.06s\n",
      "766:\tlearn: 0.5495503\ttotal: 13.3s\tremaining: 4.04s\n",
      "767:\tlearn: 0.5495472\ttotal: 13.3s\tremaining: 4.02s\n",
      "768:\tlearn: 0.5495360\ttotal: 13.3s\tremaining: 4s\n",
      "769:\tlearn: 0.5495310\ttotal: 13.3s\tremaining: 3.98s\n",
      "770:\tlearn: 0.5495116\ttotal: 13.4s\tremaining: 3.97s\n",
      "771:\tlearn: 0.5495099\ttotal: 13.4s\tremaining: 3.95s\n",
      "772:\tlearn: 0.5495048\ttotal: 13.4s\tremaining: 3.93s\n",
      "773:\tlearn: 0.5495002\ttotal: 13.4s\tremaining: 3.91s\n",
      "774:\tlearn: 0.5494954\ttotal: 13.4s\tremaining: 3.9s\n",
      "775:\tlearn: 0.5494871\ttotal: 13.4s\tremaining: 3.88s\n",
      "776:\tlearn: 0.5494790\ttotal: 13.5s\tremaining: 3.86s\n",
      "777:\tlearn: 0.5494736\ttotal: 13.5s\tremaining: 3.85s\n",
      "778:\tlearn: 0.5494574\ttotal: 13.5s\tremaining: 3.83s\n",
      "779:\tlearn: 0.5494560\ttotal: 13.5s\tremaining: 3.81s\n",
      "780:\tlearn: 0.5494543\ttotal: 13.5s\tremaining: 3.8s\n",
      "781:\tlearn: 0.5494512\ttotal: 13.6s\tremaining: 3.78s\n",
      "782:\tlearn: 0.5494501\ttotal: 13.6s\tremaining: 3.76s\n",
      "783:\tlearn: 0.5494466\ttotal: 13.6s\tremaining: 3.75s\n",
      "784:\tlearn: 0.5494446\ttotal: 13.6s\tremaining: 3.73s\n",
      "785:\tlearn: 0.5494433\ttotal: 13.6s\tremaining: 3.71s\n",
      "786:\tlearn: 0.5494414\ttotal: 13.7s\tremaining: 3.69s\n",
      "787:\tlearn: 0.5494368\ttotal: 13.7s\tremaining: 3.68s\n",
      "788:\tlearn: 0.5494353\ttotal: 13.7s\tremaining: 3.66s\n",
      "789:\tlearn: 0.5494318\ttotal: 13.7s\tremaining: 3.64s\n",
      "790:\tlearn: 0.5494313\ttotal: 13.7s\tremaining: 3.62s\n",
      "791:\tlearn: 0.5494296\ttotal: 13.7s\tremaining: 3.6s\n",
      "792:\tlearn: 0.5494237\ttotal: 13.7s\tremaining: 3.59s\n",
      "793:\tlearn: 0.5494218\ttotal: 13.8s\tremaining: 3.57s\n",
      "794:\tlearn: 0.5494191\ttotal: 13.8s\tremaining: 3.55s\n",
      "795:\tlearn: 0.5494165\ttotal: 13.8s\tremaining: 3.53s\n"
     ]
    },
    {
     "name": "stdout",
     "output_type": "stream",
     "text": [
      "796:\tlearn: 0.5494119\ttotal: 13.8s\tremaining: 3.52s\n",
      "797:\tlearn: 0.5494087\ttotal: 13.8s\tremaining: 3.5s\n",
      "798:\tlearn: 0.5494054\ttotal: 13.8s\tremaining: 3.48s\n",
      "799:\tlearn: 0.5494024\ttotal: 13.9s\tremaining: 3.46s\n",
      "800:\tlearn: 0.5494002\ttotal: 13.9s\tremaining: 3.45s\n",
      "801:\tlearn: 0.5493956\ttotal: 13.9s\tremaining: 3.43s\n",
      "802:\tlearn: 0.5493902\ttotal: 13.9s\tremaining: 3.41s\n",
      "803:\tlearn: 0.5493886\ttotal: 13.9s\tremaining: 3.4s\n",
      "804:\tlearn: 0.5493598\ttotal: 13.9s\tremaining: 3.38s\n",
      "805:\tlearn: 0.5493561\ttotal: 14s\tremaining: 3.36s\n",
      "806:\tlearn: 0.5493544\ttotal: 14s\tremaining: 3.34s\n",
      "807:\tlearn: 0.5493513\ttotal: 14s\tremaining: 3.33s\n",
      "808:\tlearn: 0.5493496\ttotal: 14s\tremaining: 3.31s\n",
      "809:\tlearn: 0.5493457\ttotal: 14s\tremaining: 3.29s\n",
      "810:\tlearn: 0.5493354\ttotal: 14s\tremaining: 3.27s\n",
      "811:\tlearn: 0.5493328\ttotal: 14.1s\tremaining: 3.26s\n",
      "812:\tlearn: 0.5493314\ttotal: 14.1s\tremaining: 3.24s\n",
      "813:\tlearn: 0.5493237\ttotal: 14.1s\tremaining: 3.22s\n",
      "814:\tlearn: 0.5493191\ttotal: 14.1s\tremaining: 3.21s\n",
      "815:\tlearn: 0.5493134\ttotal: 14.1s\tremaining: 3.19s\n",
      "816:\tlearn: 0.5493085\ttotal: 14.2s\tremaining: 3.17s\n",
      "817:\tlearn: 0.5493042\ttotal: 14.2s\tremaining: 3.15s\n",
      "818:\tlearn: 0.5493002\ttotal: 14.2s\tremaining: 3.13s\n",
      "819:\tlearn: 0.5492975\ttotal: 14.2s\tremaining: 3.12s\n",
      "820:\tlearn: 0.5492918\ttotal: 14.2s\tremaining: 3.1s\n",
      "821:\tlearn: 0.5492867\ttotal: 14.2s\tremaining: 3.08s\n",
      "822:\tlearn: 0.5492845\ttotal: 14.3s\tremaining: 3.06s\n",
      "823:\tlearn: 0.5492826\ttotal: 14.3s\tremaining: 3.05s\n",
      "824:\tlearn: 0.5492772\ttotal: 14.3s\tremaining: 3.03s\n",
      "825:\tlearn: 0.5492729\ttotal: 14.3s\tremaining: 3.01s\n",
      "826:\tlearn: 0.5492705\ttotal: 14.3s\tremaining: 3s\n",
      "827:\tlearn: 0.5492664\ttotal: 14.3s\tremaining: 2.98s\n",
      "828:\tlearn: 0.5492642\ttotal: 14.4s\tremaining: 2.96s\n",
      "829:\tlearn: 0.5492539\ttotal: 14.4s\tremaining: 2.94s\n",
      "830:\tlearn: 0.5492531\ttotal: 14.4s\tremaining: 2.93s\n",
      "831:\tlearn: 0.5492475\ttotal: 14.4s\tremaining: 2.91s\n",
      "832:\tlearn: 0.5492388\ttotal: 14.4s\tremaining: 2.89s\n",
      "833:\tlearn: 0.5492365\ttotal: 14.4s\tremaining: 2.87s\n",
      "834:\tlearn: 0.5492339\ttotal: 14.5s\tremaining: 2.85s\n",
      "835:\tlearn: 0.5492300\ttotal: 14.5s\tremaining: 2.84s\n",
      "836:\tlearn: 0.5492289\ttotal: 14.5s\tremaining: 2.82s\n",
      "837:\tlearn: 0.5492226\ttotal: 14.5s\tremaining: 2.8s\n",
      "838:\tlearn: 0.5492210\ttotal: 14.5s\tremaining: 2.79s\n",
      "839:\tlearn: 0.5492182\ttotal: 14.5s\tremaining: 2.77s\n",
      "840:\tlearn: 0.5492140\ttotal: 14.6s\tremaining: 2.75s\n",
      "841:\tlearn: 0.5492133\ttotal: 14.6s\tremaining: 2.73s\n",
      "842:\tlearn: 0.5492107\ttotal: 14.6s\tremaining: 2.72s\n",
      "843:\tlearn: 0.5492004\ttotal: 14.6s\tremaining: 2.7s\n",
      "844:\tlearn: 0.5491985\ttotal: 14.6s\tremaining: 2.68s\n",
      "845:\tlearn: 0.5491909\ttotal: 14.6s\tremaining: 2.67s\n",
      "846:\tlearn: 0.5491878\ttotal: 14.7s\tremaining: 2.65s\n",
      "847:\tlearn: 0.5491855\ttotal: 14.7s\tremaining: 2.63s\n",
      "848:\tlearn: 0.5491850\ttotal: 14.7s\tremaining: 2.61s\n",
      "849:\tlearn: 0.5491824\ttotal: 14.7s\tremaining: 2.6s\n",
      "850:\tlearn: 0.5491780\ttotal: 14.7s\tremaining: 2.58s\n",
      "851:\tlearn: 0.5491757\ttotal: 14.8s\tremaining: 2.56s\n",
      "852:\tlearn: 0.5491725\ttotal: 14.8s\tremaining: 2.55s\n",
      "853:\tlearn: 0.5491629\ttotal: 14.8s\tremaining: 2.53s\n",
      "854:\tlearn: 0.5491620\ttotal: 14.8s\tremaining: 2.51s\n",
      "855:\tlearn: 0.5491555\ttotal: 14.8s\tremaining: 2.5s\n",
      "856:\tlearn: 0.5491518\ttotal: 14.9s\tremaining: 2.48s\n",
      "857:\tlearn: 0.5491495\ttotal: 14.9s\tremaining: 2.46s\n",
      "858:\tlearn: 0.5491449\ttotal: 14.9s\tremaining: 2.44s\n",
      "859:\tlearn: 0.5491404\ttotal: 14.9s\tremaining: 2.43s\n",
      "860:\tlearn: 0.5491376\ttotal: 14.9s\tremaining: 2.41s\n",
      "861:\tlearn: 0.5491311\ttotal: 14.9s\tremaining: 2.39s\n",
      "862:\tlearn: 0.5491276\ttotal: 14.9s\tremaining: 2.37s\n",
      "863:\tlearn: 0.5491213\ttotal: 15s\tremaining: 2.35s\n",
      "864:\tlearn: 0.5491198\ttotal: 15s\tremaining: 2.34s\n",
      "865:\tlearn: 0.5491182\ttotal: 15s\tremaining: 2.32s\n",
      "866:\tlearn: 0.5491169\ttotal: 15s\tremaining: 2.3s\n",
      "867:\tlearn: 0.5491088\ttotal: 15s\tremaining: 2.29s\n",
      "868:\tlearn: 0.5491085\ttotal: 15s\tremaining: 2.27s\n",
      "869:\tlearn: 0.5491075\ttotal: 15.1s\tremaining: 2.25s\n",
      "870:\tlearn: 0.5491045\ttotal: 15.1s\tremaining: 2.23s\n",
      "871:\tlearn: 0.5491022\ttotal: 15.1s\tremaining: 2.22s\n",
      "872:\tlearn: 0.5490987\ttotal: 15.1s\tremaining: 2.2s\n",
      "873:\tlearn: 0.5490968\ttotal: 15.1s\tremaining: 2.18s\n",
      "874:\tlearn: 0.5490941\ttotal: 15.1s\tremaining: 2.16s\n",
      "875:\tlearn: 0.5490924\ttotal: 15.2s\tremaining: 2.15s\n",
      "876:\tlearn: 0.5490805\ttotal: 15.2s\tremaining: 2.13s\n",
      "877:\tlearn: 0.5490761\ttotal: 15.2s\tremaining: 2.11s\n",
      "878:\tlearn: 0.5490747\ttotal: 15.2s\tremaining: 2.09s\n",
      "879:\tlearn: 0.5490707\ttotal: 15.2s\tremaining: 2.08s\n",
      "880:\tlearn: 0.5490565\ttotal: 15.2s\tremaining: 2.06s\n",
      "881:\tlearn: 0.5490553\ttotal: 15.3s\tremaining: 2.04s\n",
      "882:\tlearn: 0.5490540\ttotal: 15.3s\tremaining: 2.02s\n",
      "883:\tlearn: 0.5490499\ttotal: 15.3s\tremaining: 2s\n",
      "884:\tlearn: 0.5490480\ttotal: 15.3s\tremaining: 1.99s\n",
      "885:\tlearn: 0.5490374\ttotal: 15.3s\tremaining: 1.97s\n",
      "886:\tlearn: 0.5490267\ttotal: 15.3s\tremaining: 1.95s\n",
      "887:\tlearn: 0.5490072\ttotal: 15.4s\tremaining: 1.94s\n",
      "888:\tlearn: 0.5490010\ttotal: 15.4s\tremaining: 1.92s\n",
      "889:\tlearn: 0.5489999\ttotal: 15.4s\tremaining: 1.9s\n",
      "890:\tlearn: 0.5489983\ttotal: 15.4s\tremaining: 1.89s\n",
      "891:\tlearn: 0.5489949\ttotal: 15.4s\tremaining: 1.87s\n",
      "892:\tlearn: 0.5489932\ttotal: 15.4s\tremaining: 1.85s\n",
      "893:\tlearn: 0.5489910\ttotal: 15.5s\tremaining: 1.83s\n",
      "894:\tlearn: 0.5489880\ttotal: 15.5s\tremaining: 1.81s\n",
      "895:\tlearn: 0.5489854\ttotal: 15.5s\tremaining: 1.8s\n",
      "896:\tlearn: 0.5489843\ttotal: 15.5s\tremaining: 1.78s\n",
      "897:\tlearn: 0.5489781\ttotal: 15.5s\tremaining: 1.76s\n",
      "898:\tlearn: 0.5489724\ttotal: 15.5s\tremaining: 1.75s\n",
      "899:\tlearn: 0.5489610\ttotal: 15.6s\tremaining: 1.73s\n",
      "900:\tlearn: 0.5489544\ttotal: 15.6s\tremaining: 1.71s\n",
      "901:\tlearn: 0.5489532\ttotal: 15.6s\tremaining: 1.69s\n",
      "902:\tlearn: 0.5489481\ttotal: 15.6s\tremaining: 1.68s\n",
      "903:\tlearn: 0.5489302\ttotal: 15.6s\tremaining: 1.66s\n",
      "904:\tlearn: 0.5489297\ttotal: 15.6s\tremaining: 1.64s\n",
      "905:\tlearn: 0.5489269\ttotal: 15.6s\tremaining: 1.62s\n",
      "906:\tlearn: 0.5489179\ttotal: 15.7s\tremaining: 1.6s\n",
      "907:\tlearn: 0.5489146\ttotal: 15.7s\tremaining: 1.59s\n",
      "908:\tlearn: 0.5489129\ttotal: 15.7s\tremaining: 1.57s\n",
      "909:\tlearn: 0.5489104\ttotal: 15.7s\tremaining: 1.55s\n",
      "910:\tlearn: 0.5489088\ttotal: 15.7s\tremaining: 1.54s\n",
      "911:\tlearn: 0.5489072\ttotal: 15.8s\tremaining: 1.52s\n",
      "912:\tlearn: 0.5488995\ttotal: 15.8s\tremaining: 1.5s\n",
      "913:\tlearn: 0.5488967\ttotal: 15.8s\tremaining: 1.49s\n",
      "914:\tlearn: 0.5488882\ttotal: 15.8s\tremaining: 1.47s\n",
      "915:\tlearn: 0.5488859\ttotal: 15.8s\tremaining: 1.45s\n",
      "916:\tlearn: 0.5488844\ttotal: 15.9s\tremaining: 1.44s\n",
      "917:\tlearn: 0.5488811\ttotal: 15.9s\tremaining: 1.42s\n",
      "918:\tlearn: 0.5488782\ttotal: 15.9s\tremaining: 1.4s\n",
      "919:\tlearn: 0.5488739\ttotal: 15.9s\tremaining: 1.38s\n",
      "920:\tlearn: 0.5488705\ttotal: 15.9s\tremaining: 1.36s\n",
      "921:\tlearn: 0.5488654\ttotal: 15.9s\tremaining: 1.35s\n",
      "922:\tlearn: 0.5488647\ttotal: 16s\tremaining: 1.33s\n",
      "923:\tlearn: 0.5488637\ttotal: 16s\tremaining: 1.31s\n",
      "924:\tlearn: 0.5488612\ttotal: 16s\tremaining: 1.3s\n",
      "925:\tlearn: 0.5488582\ttotal: 16s\tremaining: 1.28s\n",
      "926:\tlearn: 0.5488547\ttotal: 16s\tremaining: 1.26s\n",
      "927:\tlearn: 0.5488526\ttotal: 16s\tremaining: 1.25s\n",
      "928:\tlearn: 0.5488490\ttotal: 16.1s\tremaining: 1.23s\n",
      "929:\tlearn: 0.5488478\ttotal: 16.1s\tremaining: 1.21s\n",
      "930:\tlearn: 0.5488455\ttotal: 16.1s\tremaining: 1.19s\n",
      "931:\tlearn: 0.5488423\ttotal: 16.1s\tremaining: 1.18s\n",
      "932:\tlearn: 0.5488380\ttotal: 16.1s\tremaining: 1.16s\n",
      "933:\tlearn: 0.5488272\ttotal: 16.1s\tremaining: 1.14s\n",
      "934:\tlearn: 0.5488217\ttotal: 16.2s\tremaining: 1.12s\n",
      "935:\tlearn: 0.5488176\ttotal: 16.2s\tremaining: 1.1s\n",
      "936:\tlearn: 0.5488146\ttotal: 16.2s\tremaining: 1.09s\n",
      "937:\tlearn: 0.5488115\ttotal: 16.2s\tremaining: 1.07s\n",
      "938:\tlearn: 0.5488063\ttotal: 16.2s\tremaining: 1.05s\n",
      "939:\tlearn: 0.5488031\ttotal: 16.2s\tremaining: 1.04s\n",
      "940:\tlearn: 0.5487911\ttotal: 16.3s\tremaining: 1.02s\n",
      "941:\tlearn: 0.5487825\ttotal: 16.3s\tremaining: 1s\n",
      "942:\tlearn: 0.5487757\ttotal: 16.3s\tremaining: 985ms\n",
      "943:\tlearn: 0.5487751\ttotal: 16.3s\tremaining: 968ms\n",
      "944:\tlearn: 0.5487700\ttotal: 16.3s\tremaining: 951ms\n",
      "945:\tlearn: 0.5487622\ttotal: 16.4s\tremaining: 933ms\n",
      "946:\tlearn: 0.5487615\ttotal: 16.4s\tremaining: 916ms\n",
      "947:\tlearn: 0.5487608\ttotal: 16.4s\tremaining: 899ms\n",
      "948:\tlearn: 0.5487550\ttotal: 16.4s\tremaining: 881ms\n",
      "949:\tlearn: 0.5487540\ttotal: 16.4s\tremaining: 864ms\n",
      "950:\tlearn: 0.5487418\ttotal: 16.4s\tremaining: 847ms\n",
      "951:\tlearn: 0.5487404\ttotal: 16.5s\tremaining: 830ms\n",
      "952:\tlearn: 0.5487375\ttotal: 16.5s\tremaining: 812ms\n",
      "953:\tlearn: 0.5487239\ttotal: 16.5s\tremaining: 795ms\n",
      "954:\tlearn: 0.5487222\ttotal: 16.5s\tremaining: 778ms\n"
     ]
    },
    {
     "name": "stdout",
     "output_type": "stream",
     "text": [
      "955:\tlearn: 0.5487191\ttotal: 16.5s\tremaining: 761ms\n",
      "956:\tlearn: 0.5487172\ttotal: 16.5s\tremaining: 743ms\n",
      "957:\tlearn: 0.5487144\ttotal: 16.6s\tremaining: 726ms\n",
      "958:\tlearn: 0.5486880\ttotal: 16.6s\tremaining: 709ms\n",
      "959:\tlearn: 0.5486851\ttotal: 16.6s\tremaining: 691ms\n",
      "960:\tlearn: 0.5486833\ttotal: 16.6s\tremaining: 674ms\n",
      "961:\tlearn: 0.5486782\ttotal: 16.6s\tremaining: 656ms\n",
      "962:\tlearn: 0.5486735\ttotal: 16.6s\tremaining: 639ms\n",
      "963:\tlearn: 0.5486681\ttotal: 16.6s\tremaining: 622ms\n",
      "964:\tlearn: 0.5486666\ttotal: 16.7s\tremaining: 604ms\n",
      "965:\tlearn: 0.5486661\ttotal: 16.7s\tremaining: 587ms\n",
      "966:\tlearn: 0.5486638\ttotal: 16.7s\tremaining: 570ms\n",
      "967:\tlearn: 0.5486491\ttotal: 16.7s\tremaining: 552ms\n",
      "968:\tlearn: 0.5486481\ttotal: 16.7s\tremaining: 535ms\n",
      "969:\tlearn: 0.5486479\ttotal: 16.7s\tremaining: 518ms\n",
      "970:\tlearn: 0.5486456\ttotal: 16.8s\tremaining: 500ms\n",
      "971:\tlearn: 0.5486438\ttotal: 16.8s\tremaining: 483ms\n",
      "972:\tlearn: 0.5486426\ttotal: 16.8s\tremaining: 466ms\n",
      "973:\tlearn: 0.5486403\ttotal: 16.8s\tremaining: 449ms\n",
      "974:\tlearn: 0.5486400\ttotal: 16.8s\tremaining: 432ms\n",
      "975:\tlearn: 0.5486385\ttotal: 16.9s\tremaining: 415ms\n",
      "976:\tlearn: 0.5486351\ttotal: 16.9s\tremaining: 397ms\n",
      "977:\tlearn: 0.5486193\ttotal: 16.9s\tremaining: 380ms\n",
      "978:\tlearn: 0.5486167\ttotal: 16.9s\tremaining: 363ms\n",
      "979:\tlearn: 0.5486148\ttotal: 16.9s\tremaining: 346ms\n",
      "980:\tlearn: 0.5485998\ttotal: 16.9s\tremaining: 328ms\n",
      "981:\tlearn: 0.5485975\ttotal: 17s\tremaining: 311ms\n",
      "982:\tlearn: 0.5485968\ttotal: 17s\tremaining: 294ms\n",
      "983:\tlearn: 0.5485954\ttotal: 17s\tremaining: 276ms\n",
      "984:\tlearn: 0.5485940\ttotal: 17s\tremaining: 259ms\n",
      "985:\tlearn: 0.5485932\ttotal: 17s\tremaining: 242ms\n",
      "986:\tlearn: 0.5485874\ttotal: 17s\tremaining: 224ms\n",
      "987:\tlearn: 0.5485862\ttotal: 17.1s\tremaining: 207ms\n",
      "988:\tlearn: 0.5485852\ttotal: 17.1s\tremaining: 190ms\n",
      "989:\tlearn: 0.5485834\ttotal: 17.1s\tremaining: 173ms\n",
      "990:\tlearn: 0.5485783\ttotal: 17.1s\tremaining: 155ms\n",
      "991:\tlearn: 0.5485727\ttotal: 17.1s\tremaining: 138ms\n",
      "992:\tlearn: 0.5485693\ttotal: 17.1s\tremaining: 121ms\n",
      "993:\tlearn: 0.5485649\ttotal: 17.2s\tremaining: 104ms\n",
      "994:\tlearn: 0.5485632\ttotal: 17.2s\tremaining: 86.3ms\n",
      "995:\tlearn: 0.5485611\ttotal: 17.2s\tremaining: 69ms\n",
      "996:\tlearn: 0.5485505\ttotal: 17.2s\tremaining: 51.8ms\n",
      "997:\tlearn: 0.5485493\ttotal: 17.2s\tremaining: 34.5ms\n",
      "998:\tlearn: 0.5485484\ttotal: 17.2s\tremaining: 17.3ms\n",
      "999:\tlearn: 0.5485457\ttotal: 17.3s\tremaining: 0us\n"
     ]
    },
    {
     "data": {
      "text/plain": [
       "<catboost.core.CatBoostClassifier at 0x2b0fd1ce608>"
      ]
     },
     "execution_count": 112,
     "metadata": {},
     "output_type": "execute_result"
    }
   ],
   "source": [
    "model_cat = catboost.CatBoostClassifier(random_state=7)\n",
    "model_cat.fit(X_train_content, y_train_content)"
   ]
  },
  {
   "cell_type": "code",
   "execution_count": 113,
   "metadata": {},
   "outputs": [
    {
     "data": {
      "application/vnd.jupyter.widget-view+json": {
       "model_id": "dc2b63ffcd184641b74d6ced89a085d2",
       "version_major": 2,
       "version_minor": 0
      },
      "text/plain": [
       "HBox(children=(IntProgress(value=0, max=1000), HTML(value='')))"
      ]
     },
     "metadata": {},
     "output_type": "display_data"
    },
    {
     "name": "stdout",
     "output_type": "stream",
     "text": [
      "\n"
     ]
    }
   ],
   "source": [
    "predictions = model_cat.predict_proba(data_test_content[data_train_content.columns[features_start:]])[:, 1]\n",
    "data_test_content['predictions'] = predictions\n",
    "\n",
    "data_test_content = data_test_content.sort_values('predictions', ascending=False)\n",
    "predictions = data_test_content.groupby('client_id')['product_category'].agg(list)\n",
    "tmp_predictions = []\n",
    "\n",
    "for client_id in tqdm_notebook(data_true.index):\n",
    "    prediction = np.array(predictions[int(client_id) - 1])\n",
    "    \n",
    "    tmp_predictions.append(\n",
    "        list(prediction)[:top_k]) #***\n",
    "    \n",
    "data_true['prediction_content'] = tmp_predictions"
   ]
  },
  {
   "cell_type": "code",
   "execution_count": 114,
   "metadata": {},
   "outputs": [
    {
     "name": "stdout",
     "output_type": "stream",
     "text": [
      "Precision@1: 0.032\n",
      "Recall@1: 0.032\n",
      "F-score@1: 0.032\n"
     ]
    }
   ],
   "source": [
    "print(f'Precision@1: {calc_precision(\"prediction_content\")}')\n",
    "print(f'Recall@1: {calc_recall(\"prediction_content\")}')\n",
    "print(f'F-score@1: {calc_fscore_precision(\"prediction_content\")}')"
   ]
  },
  {
   "cell_type": "markdown",
   "metadata": {},
   "source": [
    "### 3.5. Сравнение memory-based и LFM моделей"
   ]
  },
  {
   "cell_type": "markdown",
   "metadata": {},
   "source": [
    "Для выбора итоговой модели посмотрим на качество данных моделей при рекомендации большего количества категорий, чем 1 - 2-5."
   ]
  },
  {
   "cell_type": "code",
   "execution_count": 115,
   "metadata": {},
   "outputs": [],
   "source": [
    "top_k_list = [2, 3, 4, 5, 6, 7, 8, 9, 10]"
   ]
  },
  {
   "cell_type": "markdown",
   "metadata": {},
   "source": [
    "#### Memory-based"
   ]
  },
  {
   "cell_type": "code",
   "execution_count": 116,
   "metadata": {},
   "outputs": [],
   "source": [
    "fscore_memory_based = []\n",
    "for top_k in top_k_list:\n",
    "    prediction_user_based = []\n",
    "    for i in range(len(similarity_users)):\n",
    "        users_sim = similarity_users[i] > 0\n",
    "        if len(users_sim) == 0:\n",
    "            prediction_user_based.append([])\n",
    "        else:\n",
    "            tmp_recommend = np.argsort(matrix[users_sim].sum(axis=0))[::-1]\n",
    "            tmp_recommend = data_matrix.columns[tmp_recommend]\n",
    "            recommend = np.array(tmp_recommend)[:top_k] #***\n",
    "            prediction_user_based.append(list(recommend))\n",
    "\n",
    "    data_true['prediction_user_based'] = prediction_user_based\n",
    "    fscore_memory_based.append(calc_fscore_precision(\"prediction_user_based\"))"
   ]
  },
  {
   "cell_type": "markdown",
   "metadata": {},
   "source": [
    "#### Latent Factor Model"
   ]
  },
  {
   "cell_type": "code",
   "execution_count": 117,
   "metadata": {},
   "outputs": [],
   "source": [
    "fscore_lfm = []\n",
    "for top_k in top_k_list:\n",
    "    new_data_matrix = pd.DataFrame(new_data_matrix, index=data_matrix.index, columns=data_matrix.columns)\n",
    "\n",
    "    predictions = []\n",
    "    for client_id in data_true.index:\n",
    "        prediction = (\n",
    "            new_data_matrix\n",
    "            .loc[client_id]\n",
    "            .sort_values(ascending=False)\n",
    "            .index.values\n",
    "        )\n",
    "        predictions.append(\n",
    "            list(prediction)[:top_k]) #***\n",
    "\n",
    "    data_true['prediction_svd'] = predictions\n",
    "    fscore_lfm.append(calc_fscore_precision(\"prediction_svd\"))"
   ]
  },
  {
   "cell_type": "code",
   "execution_count": 118,
   "metadata": {},
   "outputs": [],
   "source": [
    "sns.set(style='whitegrid')"
   ]
  },
  {
   "cell_type": "code",
   "execution_count": 119,
   "metadata": {},
   "outputs": [
    {
     "data": {
      "image/png": "[encoded data removed]",
      "text/plain": [
       "<Figure size 720x576 with 1 Axes>"
      ]
     },
     "metadata": {},
     "output_type": "display_data"
    }
   ],
   "source": [
    "fig, ax = plt.subplots(figsize=(10, 8))\n",
    "sns.lineplot(x=top_k_list, y=fscore_memory_based, ax=ax, label='Memory-based')\n",
    "sns.lineplot(x=top_k_list, y=fscore_lfm, ax=ax, label='LFM')\n",
    "ax.set_title('Memory-based vs LFM')\n",
    "ax.set_xlabel('Количество рекомендаций категорий')\n",
    "ax.set_ylabel('F-score')\n",
    "sns.despine()\n",
    "fig.savefig(r\"C:\\Users\\kiril\\OneDrive\\Рабочий стол\\Вышка\\КР-ВКР\\Курсовая\\3 курс\\RecommendationSystem\\model\\graphics\\comparison_models.png\")\n",
    "plt.show()"
   ]
  },
  {
   "cell_type": "markdown",
   "metadata": {},
   "source": [
    "LFM показывает лучшее качество метрики F-score на больших количествах рекомендаций, чем Memory-based поэтому возьмем ее за итоговую модель рекомендательной системы."
   ]
  },
  {
   "cell_type": "code",
   "execution_count": null,
   "metadata": {},
   "outputs": [],
   "source": []
  }
 ],
 "metadata": {
  "kernelspec": {
   "display_name": "Python 3",
   "language": "python",
   "name": "python3"
  },
  "language_info": {
   "codemirror_mode": {
    "name": "ipython",
    "version": 3
   },
   "file_extension": ".py",
   "mimetype": "text/x-python",
   "name": "python",
   "nbconvert_exporter": "python",
   "pygments_lexer": "ipython3",
   "version": "3.7.4"
  }
 },
 "nbformat": 4,
 "nbformat_minor": 2
}
